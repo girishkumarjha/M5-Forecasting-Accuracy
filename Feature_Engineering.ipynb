{
  "nbformat": 4,
  "nbformat_minor": 0,
  "metadata": {
    "colab": {
      "name": "Feature_Engineering",
      "provenance": [],
      "collapsed_sections": [],
      "machine_shape": "hm",
      "include_colab_link": true
    },
    "kernelspec": {
      "name": "python3",
      "display_name": "Python 3"
    },
    "accelerator": "GPU"
  },
  "cells": [
    {
      "cell_type": "markdown",
      "metadata": {
        "id": "view-in-github",
        "colab_type": "text"
      },
      "source": [
        "<a href=\"https://colab.research.google.com/github/vence-andersen/M5-Forecasting-Accuracy/blob/main/Feature_Engineering.ipynb\" target=\"_parent\"><img src=\"https://colab.research.google.com/assets/colab-badge.svg\" alt=\"Open In Colab\"/></a>"
      ]
    },
    {
      "cell_type": "code",
      "metadata": {
        "id": "aD7OyfZH9F0g",
        "colab": {
          "resources": {
            "http://localhost:8080/nbextensions/google.colab/files.js": {
              "data": "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",
              "ok": true,
              "headers": [
                [
                  "content-type",
                  "application/javascript"
                ]
              ],
              "status": 200,
              "status_text": ""
            }
          },
          "base_uri": "https://localhost:8080/",
          "height": 110
        },
        "outputId": "bd250356-12d2-4e02-9296-28131fb7cd77"
      },
      "source": [
        "# from google.colab import files\r\n",
        "# files.upload()"
      ],
      "execution_count": 1,
      "outputs": [
        {
          "output_type": "display_data",
          "data": {
            "text/html": [
              "\n",
              "     <input type=\"file\" id=\"files-ed965394-2b53-48a0-b4db-634e0033c783\" name=\"files[]\" multiple disabled\n",
              "        style=\"border:none\" />\n",
              "     <output id=\"result-ed965394-2b53-48a0-b4db-634e0033c783\">\n",
              "      Upload widget is only available when the cell has been executed in the\n",
              "      current browser session. Please rerun this cell to enable.\n",
              "      </output>\n",
              "      <script src=\"/nbextensions/google.colab/files.js\"></script> "
            ],
            "text/plain": [
              "<IPython.core.display.HTML object>"
            ]
          },
          "metadata": {
            "tags": []
          }
        },
        {
          "output_type": "stream",
          "text": [
            "Saving kaggle.json to kaggle.json\n"
          ],
          "name": "stdout"
        },
        {
          "output_type": "execute_result",
          "data": {
            "text/plain": [
              "{'kaggle.json': b'{\"username\":\"grahamfernando\",\"key\":\"cffa546ccec7808cfc8cec9944ed384a\"}'}"
            ]
          },
          "metadata": {
            "tags": []
          },
          "execution_count": 1
        }
      ]
    },
    {
      "cell_type": "code",
      "metadata": {
        "id": "b75v0ei-9IzC"
      },
      "source": [
        "# !mkdir -p ~/.kaggle\r\n",
        "# !cp kaggle.json ~/.kaggle/\r\n",
        "# !chmod 600 ~/.kaggle/kaggle.json"
      ],
      "execution_count": 2,
      "outputs": []
    },
    {
      "cell_type": "code",
      "metadata": {
        "id": "G94ZDCDm9KkZ",
        "colab": {
          "base_uri": "https://localhost:8080/"
        },
        "outputId": "61af7125-e691-4e84-8966-40315c707fe9"
      },
      "source": [
        "# ! kaggle competitions download -c m5-forecasting-accuracy"
      ],
      "execution_count": 3,
      "outputs": [
        {
          "output_type": "stream",
          "text": [
            "Warning: Looks like you're using an outdated API Version, please consider updating (server 1.5.10 / client 1.5.4)\n",
            "Downloading sales_train_evaluation.csv.zip to /content\n",
            " 32% 5.00M/15.8M [00:00<00:01, 8.75MB/s]\n",
            "100% 15.8M/15.8M [00:00<00:00, 25.0MB/s]\n",
            "Downloading calendar.csv to /content\n",
            "  0% 0.00/101k [00:00<?, ?B/s]\n",
            "100% 101k/101k [00:00<00:00, 89.6MB/s]\n",
            "Downloading sample_submission.csv.zip to /content\n",
            "  0% 0.00/163k [00:00<?, ?B/s]\n",
            "100% 163k/163k [00:00<00:00, 152MB/s]\n",
            "Downloading sales_train_validation.csv.zip to /content\n",
            " 58% 9.00M/15.5M [00:00<00:00, 14.5MB/s]\n",
            "100% 15.5M/15.5M [00:00<00:00, 24.5MB/s]\n",
            "Downloading sell_prices.csv.zip to /content\n",
            " 35% 5.00M/14.2M [00:01<00:02, 4.71MB/s]\n",
            "100% 14.2M/14.2M [00:01<00:00, 12.8MB/s]\n"
          ],
          "name": "stdout"
        }
      ]
    },
    {
      "cell_type": "code",
      "metadata": {
        "id": "NBigKG_v9LpJ",
        "colab": {
          "base_uri": "https://localhost:8080/"
        },
        "outputId": "b17ee04e-b2e7-4600-d6fe-154f572c5b71"
      },
      "source": [
        "# !unzip sales_train_evaluation.csv.zip\r\n",
        "# !unzip sales_train_validation.csv.zip\r\n",
        "# !unzip sample_submission.csv.zip\r\n",
        "# !unzip sell_prices.csv.zip"
      ],
      "execution_count": 4,
      "outputs": [
        {
          "output_type": "stream",
          "text": [
            "Archive:  sales_train_evaluation.csv.zip\n",
            "  inflating: sales_train_evaluation.csv  \n",
            "Archive:  sales_train_validation.csv.zip\n",
            "  inflating: sales_train_validation.csv  \n",
            "Archive:  sample_submission.csv.zip\n",
            "  inflating: sample_submission.csv   \n",
            "Archive:  sell_prices.csv.zip\n",
            "  inflating: sell_prices.csv         \n"
          ],
          "name": "stdout"
        }
      ]
    },
    {
      "cell_type": "code",
      "metadata": {
        "colab": {
          "base_uri": "https://localhost:8080/"
        },
        "id": "krFsbRkV5KOw",
        "outputId": "428c439b-6144-4bcd-ba1b-5155cd11c6c6"
      },
      "source": [
        "# ! pip install downcast"
      ],
      "execution_count": 7,
      "outputs": [
        {
          "output_type": "stream",
          "text": [
            "Collecting downcast\n",
            "  Downloading https://files.pythonhosted.org/packages/60/11/0468306ef6b191c6f53a0005f96e289494f885556a4ab80c438adc64a99f/downcast-0.0.8-py3-none-any.whl\n",
            "Installing collected packages: downcast\n",
            "Successfully installed downcast-0.0.8\n"
          ],
          "name": "stdout"
        }
      ]
    },
    {
      "cell_type": "code",
      "metadata": {
        "id": "Fh0O2p6b9Zi_"
      },
      "source": [
        "import pandas as pd\r\n",
        "import numpy as np\r\n",
        "import matplotlib.pylab as plt\r\n",
        "import seaborn as sns\r\n",
        "from tqdm import tqdm\r\n",
        "from lightgbm import LGBMRegressor\r\n",
        "from sklearn.metrics import mean_squared_error\r\n",
        "from downcast import reduce"
      ],
      "execution_count": 8,
      "outputs": []
    },
    {
      "cell_type": "code",
      "metadata": {
        "id": "p3IbvhPs9PIR"
      },
      "source": [
        "# Using Pandas to reasd the files.\r\n",
        "\r\n",
        "sales = pd.read_csv(\"sales_train_evaluation.csv\")\r\n",
        "sell_price = pd.read_csv(\"sell_prices.csv\")\r\n",
        "cal = pd.read_csv(\"calendar.csv\")"
      ],
      "execution_count": 6,
      "outputs": []
    },
    {
      "cell_type": "code",
      "metadata": {
        "id": "R-4A_8iCuOz8"
      },
      "source": [
        "# #https://www.kaggle.com/anshuls235/time-series-forecasting-eda-fe-modelling/notebook#2.-Downcasting\r\n",
        "\r\n",
        "# def downcast(df):\r\n",
        "\r\n",
        "#     cols = df.dtypes.index.tolist()\r\n",
        "#     types = df.dtypes.values.tolist()\r\n",
        "\r\n",
        "#     for i,t in enumerate(types):\r\n",
        "\r\n",
        "#         if 'int' in str(t):\r\n",
        "#             if df[cols[i]].min() > np.iinfo(np.int8).min and df[cols[i]].max() < np.iinfo(np.int8).max:\r\n",
        "#                 df[cols[i]] = df[cols[i]].astype(np.int8)\r\n",
        "#             elif df[cols[i]].min() > np.iinfo(np.int16).min and df[cols[i]].max() < np.iinfo(np.int16).max:\r\n",
        "#                 df[cols[i]] = df[cols[i]].astype(np.int16)\r\n",
        "#             elif df[cols[i]].min() > np.iinfo(np.int32).min and df[cols[i]].max() < np.iinfo(np.int32).max:\r\n",
        "#                 df[cols[i]] = df[cols[i]].astype(np.int32)\r\n",
        "#             else:\r\n",
        "#                 df[cols[i]] = df[cols[i]].astype(np.int64)\r\n",
        "\r\n",
        "#         elif 'float' in str(t):\r\n",
        "#             if df[cols[i]].min() > np.finfo(np.float16).min and df[cols[i]].max() < np.finfo(np.float16).max:\r\n",
        "#                 df[cols[i]] = df[cols[i]].astype(np.float16)\r\n",
        "#             elif df[cols[i]].min() > np.finfo(np.float32).min and df[cols[i]].max() < np.finfo(np.float32).max:\r\n",
        "#                 df[cols[i]] = df[cols[i]].astype(np.float32)\r\n",
        "#             else:\r\n",
        "#                 df[cols[i]] = df[cols[i]].astype(np.float64)\r\n",
        "\r\n",
        "#         elif t == np.object:\r\n",
        "#             if cols[i] == 'date':\r\n",
        "#                 df[cols[i]] = pd.to_datetime(df[cols[i]], format='%Y-%m-%d')\r\n",
        "#             else:\r\n",
        "#                 df[cols[i]] = df[cols[i]].astype('category')\r\n",
        "\r\n",
        "#     return df  "
      ],
      "execution_count": null,
      "outputs": []
    },
    {
      "cell_type": "code",
      "metadata": {
        "id": "ED0VY8ac9Ym5"
      },
      "source": [
        "# To reduce the memory usage, we'll be using reduce throughout the code\r\n",
        "\r\n",
        "sales = reduce(sales)\r\n",
        "sell_price = reduce(sell_price)\r\n",
        "cal = reduce(cal)"
      ],
      "execution_count": 9,
      "outputs": []
    },
    {
      "cell_type": "code",
      "metadata": {
        "id": "94dh7fQu9dQ5"
      },
      "source": [
        "# We are creating new features required for the prediction for days from 1942 till 1969\r\n",
        "\r\n",
        "for day in range(1942,1942+28):\r\n",
        "  sales['d_' + str(day)] = np.int32(0)"
      ],
      "execution_count": 12,
      "outputs": []
    },
    {
      "cell_type": "code",
      "metadata": {
        "id": "pyCOYNCb9eTh",
        "colab": {
          "base_uri": "https://localhost:8080/",
          "height": 143
        },
        "outputId": "42d9576c-75f6-48ae-8360-792b9eca38d4"
      },
      "source": [
        "# We are transforming our Time Series problem to Supervised Machine Learning Problem\r\n",
        "\r\n",
        "data = pd.melt(sales, id_vars=['id', 'item_id', 'dept_id', 'cat_id', 'store_id', 'state_id'],\r\n",
        "          var_name='day', value_name='demand').dropna()\r\n",
        "print(\"The new shape is \",data.shape)\r\n",
        "data.head(2)"
      ],
      "execution_count": 13,
      "outputs": [
        {
          "output_type": "stream",
          "text": [
            "The new shape is  (60034810, 8)\n"
          ],
          "name": "stdout"
        },
        {
          "output_type": "execute_result",
          "data": {
            "text/html": [
              "<div>\n",
              "<style scoped>\n",
              "    .dataframe tbody tr th:only-of-type {\n",
              "        vertical-align: middle;\n",
              "    }\n",
              "\n",
              "    .dataframe tbody tr th {\n",
              "        vertical-align: top;\n",
              "    }\n",
              "\n",
              "    .dataframe thead th {\n",
              "        text-align: right;\n",
              "    }\n",
              "</style>\n",
              "<table border=\"1\" class=\"dataframe\">\n",
              "  <thead>\n",
              "    <tr style=\"text-align: right;\">\n",
              "      <th></th>\n",
              "      <th>id</th>\n",
              "      <th>item_id</th>\n",
              "      <th>dept_id</th>\n",
              "      <th>cat_id</th>\n",
              "      <th>store_id</th>\n",
              "      <th>state_id</th>\n",
              "      <th>day</th>\n",
              "      <th>demand</th>\n",
              "    </tr>\n",
              "  </thead>\n",
              "  <tbody>\n",
              "    <tr>\n",
              "      <th>0</th>\n",
              "      <td>HOBBIES_1_001_CA_1_evaluation</td>\n",
              "      <td>HOBBIES_1_001</td>\n",
              "      <td>HOBBIES_1</td>\n",
              "      <td>HOBBIES</td>\n",
              "      <td>CA_1</td>\n",
              "      <td>CA</td>\n",
              "      <td>d_1</td>\n",
              "      <td>0</td>\n",
              "    </tr>\n",
              "    <tr>\n",
              "      <th>1</th>\n",
              "      <td>HOBBIES_1_002_CA_1_evaluation</td>\n",
              "      <td>HOBBIES_1_002</td>\n",
              "      <td>HOBBIES_1</td>\n",
              "      <td>HOBBIES</td>\n",
              "      <td>CA_1</td>\n",
              "      <td>CA</td>\n",
              "      <td>d_1</td>\n",
              "      <td>0</td>\n",
              "    </tr>\n",
              "  </tbody>\n",
              "</table>\n",
              "</div>"
            ],
            "text/plain": [
              "                              id        item_id  ...  day demand\n",
              "0  HOBBIES_1_001_CA_1_evaluation  HOBBIES_1_001  ...  d_1      0\n",
              "1  HOBBIES_1_002_CA_1_evaluation  HOBBIES_1_002  ...  d_1      0\n",
              "\n",
              "[2 rows x 8 columns]"
            ]
          },
          "metadata": {
            "tags": []
          },
          "execution_count": 13
        }
      ]
    },
    {
      "cell_type": "code",
      "metadata": {
        "id": "Us8ulqgc9fZp"
      },
      "source": [
        "# We are then merging the all the csv files together\r\n",
        "\r\n",
        "data = data.merge(cal, left_on='day', right_on='d')\r\n",
        "\r\n",
        "data = data.merge(sell_price,on=['store_id','item_id', 'wm_yr_wk'], how='left')"
      ],
      "execution_count": 14,
      "outputs": []
    },
    {
      "cell_type": "code",
      "metadata": {
        "id": "Hn-e7I-d9gyI"
      },
      "source": [
        "data['sell_price'].fillna(data.groupby('id')['sell_price'].transform('mean'), inplace=True)"
      ],
      "execution_count": 15,
      "outputs": []
    },
    {
      "cell_type": "code",
      "metadata": {
        "id": "2uqR84Dw9i1B"
      },
      "source": [
        "# we are stripping the 'd_' from day column to make it an integer feature\r\n",
        "data['day'] = data['day'].apply(lambda x: x.split('_')[1]).astype(np.int16)\r\n",
        "\r\n",
        "#since weekday's are represented as wday with numbers and d is a duplicate column.\r\n",
        "data.drop(['d','weekday','date'], axis=1, inplace=True) "
      ],
      "execution_count": 16,
      "outputs": []
    },
    {
      "cell_type": "code",
      "metadata": {
        "id": "J5ZGSnD99mdg"
      },
      "source": [
        "#  We are doing a categorical encoding by replacing the categories with the memory number every category has.\r\n",
        "# This method is just a lazy way of doing things as cat codes are produced only features of types categories.\r\n",
        "# Hence if a feature which is not a category is passed in, it throws AttributeError and thus the excep condition excutes\r\n",
        "# And the error is handled\r\n",
        "\r\n",
        "for i in data.columns:\r\n",
        "    try:\r\n",
        "        data[i] = data[i].cat.codes\r\n",
        "    except AttributeError:\r\n",
        "        pass"
      ],
      "execution_count": 17,
      "outputs": []
    },
    {
      "cell_type": "code",
      "metadata": {
        "id": "oFfyEDEB9qYg",
        "colab": {
          "base_uri": "https://localhost:8080/"
        },
        "outputId": "da89e2ff-fb1a-40a1-d1e9-7b06dd016fc8"
      },
      "source": [
        "# Adding lag shift features as those are good time series feature engineering steps.\r\n",
        "\r\n",
        "lags = [28,30,35,42,49,56,63,70]\r\n",
        "for lag in tqdm(lags):\r\n",
        "    data[\"lag_\" + str(lag)] = data.groupby(\"id\")[\"demand\"].shift(lag).astype(np.float16)"
      ],
      "execution_count": 18,
      "outputs": [
        {
          "output_type": "stream",
          "text": [
            "100%|██████████| 6/6 [00:17<00:00,  2.91s/it]\n"
          ],
          "name": "stderr"
        }
      ]
    },
    {
      "cell_type": "code",
      "metadata": {
        "id": "LmKyCF-h9sTQ"
      },
      "source": [
        "# # Adding rolling window feature with mean value\r\n",
        "\r\n",
        "# means = [5,7,28,56]\r\n",
        "# for mns in tqdm(means):\r\n",
        "#     data['rolling_median_'+str(mns)] = data.groupby(['id'])['demand'].transform(lambda x: x.rolling(mns).median())"
      ],
      "execution_count": null,
      "outputs": []
    },
    {
      "cell_type": "code",
      "metadata": {
        "id": "_BcYpei_9uFw",
        "colab": {
          "base_uri": "https://localhost:8080/",
          "height": 126
        },
        "outputId": "2bc34837-c2d0-422a-d0c2-d56cc58f6774"
      },
      "source": [
        "data = data[data['day']>1000]\r\n",
        "data.head(2)"
      ],
      "execution_count": 19,
      "outputs": [
        {
          "output_type": "execute_result",
          "data": {
            "text/html": [
              "<div>\n",
              "<style scoped>\n",
              "    .dataframe tbody tr th:only-of-type {\n",
              "        vertical-align: middle;\n",
              "    }\n",
              "\n",
              "    .dataframe tbody tr th {\n",
              "        vertical-align: top;\n",
              "    }\n",
              "\n",
              "    .dataframe thead th {\n",
              "        text-align: right;\n",
              "    }\n",
              "</style>\n",
              "<table border=\"1\" class=\"dataframe\">\n",
              "  <thead>\n",
              "    <tr style=\"text-align: right;\">\n",
              "      <th></th>\n",
              "      <th>id</th>\n",
              "      <th>item_id</th>\n",
              "      <th>dept_id</th>\n",
              "      <th>cat_id</th>\n",
              "      <th>store_id</th>\n",
              "      <th>state_id</th>\n",
              "      <th>day</th>\n",
              "      <th>demand</th>\n",
              "      <th>wm_yr_wk</th>\n",
              "      <th>wday</th>\n",
              "      <th>month</th>\n",
              "      <th>year</th>\n",
              "      <th>event_name_1</th>\n",
              "      <th>event_type_1</th>\n",
              "      <th>event_name_2</th>\n",
              "      <th>event_type_2</th>\n",
              "      <th>snap_CA</th>\n",
              "      <th>snap_TX</th>\n",
              "      <th>snap_WI</th>\n",
              "      <th>sell_price</th>\n",
              "      <th>lag_28</th>\n",
              "      <th>lag_30</th>\n",
              "      <th>lag_35</th>\n",
              "      <th>lag_42</th>\n",
              "      <th>lag_49</th>\n",
              "      <th>lag_56</th>\n",
              "    </tr>\n",
              "  </thead>\n",
              "  <tbody>\n",
              "    <tr>\n",
              "      <th>30490000</th>\n",
              "      <td>14370</td>\n",
              "      <td>1437</td>\n",
              "      <td>3</td>\n",
              "      <td>1</td>\n",
              "      <td>0</td>\n",
              "      <td>0</td>\n",
              "      <td>1001</td>\n",
              "      <td>2</td>\n",
              "      <td>11339</td>\n",
              "      <td>7</td>\n",
              "      <td>10</td>\n",
              "      <td>2013</td>\n",
              "      <td>-1</td>\n",
              "      <td>-1</td>\n",
              "      <td>-1</td>\n",
              "      <td>-1</td>\n",
              "      <td>0</td>\n",
              "      <td>0</td>\n",
              "      <td>0</td>\n",
              "      <td>8.257812</td>\n",
              "      <td>1.0</td>\n",
              "      <td>0.0</td>\n",
              "      <td>2.0</td>\n",
              "      <td>1.0</td>\n",
              "      <td>0.0</td>\n",
              "      <td>1.0</td>\n",
              "    </tr>\n",
              "    <tr>\n",
              "      <th>30490001</th>\n",
              "      <td>14380</td>\n",
              "      <td>1438</td>\n",
              "      <td>3</td>\n",
              "      <td>1</td>\n",
              "      <td>0</td>\n",
              "      <td>0</td>\n",
              "      <td>1001</td>\n",
              "      <td>0</td>\n",
              "      <td>11339</td>\n",
              "      <td>7</td>\n",
              "      <td>10</td>\n",
              "      <td>2013</td>\n",
              "      <td>-1</td>\n",
              "      <td>-1</td>\n",
              "      <td>-1</td>\n",
              "      <td>-1</td>\n",
              "      <td>0</td>\n",
              "      <td>0</td>\n",
              "      <td>0</td>\n",
              "      <td>3.970703</td>\n",
              "      <td>2.0</td>\n",
              "      <td>0.0</td>\n",
              "      <td>0.0</td>\n",
              "      <td>0.0</td>\n",
              "      <td>1.0</td>\n",
              "      <td>1.0</td>\n",
              "    </tr>\n",
              "  </tbody>\n",
              "</table>\n",
              "</div>"
            ],
            "text/plain": [
              "             id  item_id  dept_id  cat_id  ...  lag_35  lag_42  lag_49  lag_56\n",
              "30490000  14370     1437        3       1  ...     2.0     1.0     0.0     1.0\n",
              "30490001  14380     1438        3       1  ...     0.0     0.0     1.0     1.0\n",
              "\n",
              "[2 rows x 26 columns]"
            ]
          },
          "metadata": {
            "tags": []
          },
          "execution_count": 19
        }
      ]
    },
    {
      "cell_type": "code",
      "metadata": {
        "id": "P-bMzXA99vqg",
        "colab": {
          "base_uri": "https://localhost:8080/"
        },
        "outputId": "d991d523-7893-4696-8529-11a05934211b"
      },
      "source": [
        "data.isna().sum().sum()"
      ],
      "execution_count": 20,
      "outputs": [
        {
          "output_type": "execute_result",
          "data": {
            "text/plain": [
              "0"
            ]
          },
          "metadata": {
            "tags": []
          },
          "execution_count": 20
        }
      ]
    },
    {
      "cell_type": "code",
      "metadata": {
        "id": "_ySJs9AH9xLw"
      },
      "source": [
        "# data.to_pickle('new.pkl')"
      ],
      "execution_count": null,
      "outputs": []
    },
    {
      "cell_type": "code",
      "metadata": {
        "id": "0VTLzU7VqMAG"
      },
      "source": [
        "# from google.colab import drive\r\n",
        "# drive.mount('/content/drive')"
      ],
      "execution_count": null,
      "outputs": []
    },
    {
      "cell_type": "code",
      "metadata": {
        "id": "7oiM10jdqN_l"
      },
      "source": [
        "# !cp new.pkl /content/drive/MyDrive"
      ],
      "execution_count": null,
      "outputs": []
    },
    {
      "cell_type": "code",
      "metadata": {
        "id": "i0JGQzA49ytY"
      },
      "source": [
        "# data = pd.read_pickle('/content/drive/MyDrive/new.pkl')\r\n",
        "# data.head(2)"
      ],
      "execution_count": null,
      "outputs": []
    },
    {
      "cell_type": "code",
      "metadata": {
        "id": "OaSdgDTw90_h",
        "colab": {
          "base_uri": "https://localhost:8080/"
        },
        "outputId": "04363487-eaed-4878-962d-ac980efe796d"
      },
      "source": [
        "# Now we are splitting our data into, Train, Test, Cross Validate.\r\n",
        "# Being a time series model, we are splitting the data based on time.\r\n",
        "\r\n",
        "# Records till day 1914 will be used for training the model.\r\n",
        "X_train = data[data['day']<1914]\r\n",
        "\r\n",
        "# Records between days 1914 and 1941 will be used for Validation\r\n",
        "X_val = data[(data['day']>=1914) & (data['day']<=1941)]\r\n",
        "\r\n",
        "# Records after day 1942 will used for final test\r\n",
        "X_test = data[(data['day']>=1942)]\r\n",
        "\r\n",
        "y_train = X_train['demand']\r\n",
        "y_val = X_val['demand']\r\n",
        "\r\n",
        "# We are drpping the features which are not required.\r\n",
        "X_train.drop(['demand'],axis = 1,inplace = True)\r\n",
        "X_val.drop(['demand'],axis = 1,inplace = True)\r\n",
        "X_test.drop(['demand'],axis = 1,inplace = True)\r\n",
        "\r\n",
        "print(X_train.shape,y_train.shape)\r\n",
        "print(X_val.shape,y_val.shape)\r\n",
        "print(X_test.shape)"
      ],
      "execution_count": 21,
      "outputs": [
        {
          "output_type": "stream",
          "text": [
            "(27837370, 25) (27837370,)\n",
            "(853720, 25) (853720,)\n",
            "(853720, 25)\n"
          ],
          "name": "stdout"
        },
        {
          "output_type": "stream",
          "text": [
            "/usr/local/lib/python3.6/dist-packages/pandas/core/frame.py:4174: SettingWithCopyWarning: \n",
            "A value is trying to be set on a copy of a slice from a DataFrame\n",
            "\n",
            "See the caveats in the documentation: https://pandas.pydata.org/pandas-docs/stable/user_guide/indexing.html#returning-a-view-versus-a-copy\n",
            "  errors=errors,\n"
          ],
          "name": "stderr"
        }
      ]
    },
    {
      "cell_type": "code",
      "metadata": {
        "id": "PDCGf3_q-GGh"
      },
      "source": [
        "learning_rate = 0.071\r\n",
        "num_leaves = 123\r\n",
        "min_data_in_leaf = 147"
      ],
      "execution_count": 22,
      "outputs": []
    },
    {
      "cell_type": "code",
      "metadata": {
        "id": "jopW9pTO-HgR",
        "colab": {
          "base_uri": "https://localhost:8080/"
        },
        "outputId": "7b099282-82cf-4522-facb-1e4bfbb80157"
      },
      "source": [
        "#fit the model on best parameters\r\n",
        "\r\n",
        "m_lgb = LGBMRegressor( learning_rate=learning_rate ,\r\n",
        "                           num_leaves=num_leaves ,\r\n",
        "                           min_data_in_leaf=min_data_in_leaf)\r\n",
        "\r\n",
        "m_lgb.fit(X_train, y_train)"
      ],
      "execution_count": 23,
      "outputs": [
        {
          "output_type": "execute_result",
          "data": {
            "text/plain": [
              "LGBMRegressor(boosting_type='gbdt', class_weight=None, colsample_bytree=1.0,\n",
              "              importance_type='split', learning_rate=0.071, max_depth=-1,\n",
              "              min_child_samples=20, min_child_weight=0.001,\n",
              "              min_data_in_leaf=147, min_split_gain=0.0, n_estimators=100,\n",
              "              n_jobs=-1, num_leaves=123, objective=None, random_state=None,\n",
              "              reg_alpha=0.0, reg_lambda=0.0, silent=True, subsample=1.0,\n",
              "              subsample_for_bin=200000, subsample_freq=0)"
            ]
          },
          "metadata": {
            "tags": []
          },
          "execution_count": 23
        }
      ]
    },
    {
      "cell_type": "code",
      "metadata": {
        "id": "d72xRX17nIqs"
      },
      "source": [
        "pred_val_array  = m_lgb.predict(X_val)\r\n",
        "pred_test_array  = m_lgb.predict(X_test)\r\n",
        "\r\n",
        "pred_val_array = np.reshape(pred_val_array, (-1, 28),order = 'F')\r\n",
        "pred_test_array = np.reshape(pred_test_array, (-1, 28),order = 'F')"
      ],
      "execution_count": 24,
      "outputs": []
    },
    {
      "cell_type": "code",
      "metadata": {
        "id": "mOun5ddinUCv",
        "colab": {
          "base_uri": "https://localhost:8080/",
          "height": 623
        },
        "outputId": "3b64aeb3-fb3f-4cc4-f0c6-14f4e48f6139"
      },
      "source": [
        "sub_df = pd.read_csv(\"sample_submission.csv\")\r\n",
        "sub_1 = sub_df.iloc[:30490,:]\r\n",
        "sub_2 = sub_df.iloc[30490:,:]\r\n",
        "f_cols = sub_df.columns[1:]\r\n",
        "\r\n",
        "for i in range(len(f_cols)):\r\n",
        "    sub_1[f_cols[i]] = pred_val_array[:,i]\r\n",
        "    sub_2[f_cols[i]] = pred_test_array[:,i]\r\n",
        "\r\n",
        "sub = pd.concat([sub_1,sub_2])\r\n",
        "sub"
      ],
      "execution_count": 25,
      "outputs": [
        {
          "output_type": "stream",
          "text": [
            "/usr/local/lib/python3.6/dist-packages/ipykernel_launcher.py:7: SettingWithCopyWarning: \n",
            "A value is trying to be set on a copy of a slice from a DataFrame.\n",
            "Try using .loc[row_indexer,col_indexer] = value instead\n",
            "\n",
            "See the caveats in the documentation: https://pandas.pydata.org/pandas-docs/stable/user_guide/indexing.html#returning-a-view-versus-a-copy\n",
            "  import sys\n",
            "/usr/local/lib/python3.6/dist-packages/ipykernel_launcher.py:8: SettingWithCopyWarning: \n",
            "A value is trying to be set on a copy of a slice from a DataFrame.\n",
            "Try using .loc[row_indexer,col_indexer] = value instead\n",
            "\n",
            "See the caveats in the documentation: https://pandas.pydata.org/pandas-docs/stable/user_guide/indexing.html#returning-a-view-versus-a-copy\n",
            "  \n"
          ],
          "name": "stderr"
        },
        {
          "output_type": "execute_result",
          "data": {
            "text/html": [
              "<div>\n",
              "<style scoped>\n",
              "    .dataframe tbody tr th:only-of-type {\n",
              "        vertical-align: middle;\n",
              "    }\n",
              "\n",
              "    .dataframe tbody tr th {\n",
              "        vertical-align: top;\n",
              "    }\n",
              "\n",
              "    .dataframe thead th {\n",
              "        text-align: right;\n",
              "    }\n",
              "</style>\n",
              "<table border=\"1\" class=\"dataframe\">\n",
              "  <thead>\n",
              "    <tr style=\"text-align: right;\">\n",
              "      <th></th>\n",
              "      <th>id</th>\n",
              "      <th>F1</th>\n",
              "      <th>F2</th>\n",
              "      <th>F3</th>\n",
              "      <th>F4</th>\n",
              "      <th>F5</th>\n",
              "      <th>F6</th>\n",
              "      <th>F7</th>\n",
              "      <th>F8</th>\n",
              "      <th>F9</th>\n",
              "      <th>F10</th>\n",
              "      <th>F11</th>\n",
              "      <th>F12</th>\n",
              "      <th>F13</th>\n",
              "      <th>F14</th>\n",
              "      <th>F15</th>\n",
              "      <th>F16</th>\n",
              "      <th>F17</th>\n",
              "      <th>F18</th>\n",
              "      <th>F19</th>\n",
              "      <th>F20</th>\n",
              "      <th>F21</th>\n",
              "      <th>F22</th>\n",
              "      <th>F23</th>\n",
              "      <th>F24</th>\n",
              "      <th>F25</th>\n",
              "      <th>F26</th>\n",
              "      <th>F27</th>\n",
              "      <th>F28</th>\n",
              "    </tr>\n",
              "  </thead>\n",
              "  <tbody>\n",
              "    <tr>\n",
              "      <th>0</th>\n",
              "      <td>HOBBIES_1_001_CA_1_validation</td>\n",
              "      <td>0.528932</td>\n",
              "      <td>0.799976</td>\n",
              "      <td>0.682221</td>\n",
              "      <td>0.458770</td>\n",
              "      <td>1.156034</td>\n",
              "      <td>0.447171</td>\n",
              "      <td>0.850492</td>\n",
              "      <td>0.385679</td>\n",
              "      <td>1.150229</td>\n",
              "      <td>0.838759</td>\n",
              "      <td>1.457656</td>\n",
              "      <td>1.303053</td>\n",
              "      <td>0.970518</td>\n",
              "      <td>1.052068</td>\n",
              "      <td>0.421365</td>\n",
              "      <td>1.235182</td>\n",
              "      <td>0.740752</td>\n",
              "      <td>0.774385</td>\n",
              "      <td>0.765635</td>\n",
              "      <td>1.107423</td>\n",
              "      <td>1.133757</td>\n",
              "      <td>0.788390</td>\n",
              "      <td>0.935823</td>\n",
              "      <td>0.825556</td>\n",
              "      <td>1.266658</td>\n",
              "      <td>0.503187</td>\n",
              "      <td>1.478406</td>\n",
              "      <td>0.737714</td>\n",
              "    </tr>\n",
              "    <tr>\n",
              "      <th>1</th>\n",
              "      <td>HOBBIES_1_002_CA_1_validation</td>\n",
              "      <td>0.489853</td>\n",
              "      <td>0.299541</td>\n",
              "      <td>0.304200</td>\n",
              "      <td>0.493065</td>\n",
              "      <td>0.319192</td>\n",
              "      <td>0.489625</td>\n",
              "      <td>0.469219</td>\n",
              "      <td>0.384393</td>\n",
              "      <td>0.207542</td>\n",
              "      <td>0.211428</td>\n",
              "      <td>0.379079</td>\n",
              "      <td>0.324443</td>\n",
              "      <td>0.472846</td>\n",
              "      <td>0.387394</td>\n",
              "      <td>0.302558</td>\n",
              "      <td>0.209696</td>\n",
              "      <td>0.200079</td>\n",
              "      <td>0.300456</td>\n",
              "      <td>0.318369</td>\n",
              "      <td>0.392088</td>\n",
              "      <td>0.397126</td>\n",
              "      <td>0.286807</td>\n",
              "      <td>0.194347</td>\n",
              "      <td>0.323625</td>\n",
              "      <td>0.260055</td>\n",
              "      <td>0.401578</td>\n",
              "      <td>0.359576</td>\n",
              "      <td>0.359576</td>\n",
              "    </tr>\n",
              "    <tr>\n",
              "      <th>2</th>\n",
              "      <td>HOBBIES_1_003_CA_1_validation</td>\n",
              "      <td>0.399944</td>\n",
              "      <td>0.435021</td>\n",
              "      <td>0.224004</td>\n",
              "      <td>0.227204</td>\n",
              "      <td>0.448140</td>\n",
              "      <td>1.175131</td>\n",
              "      <td>0.637840</td>\n",
              "      <td>0.297238</td>\n",
              "      <td>0.524205</td>\n",
              "      <td>0.239352</td>\n",
              "      <td>0.373665</td>\n",
              "      <td>0.448146</td>\n",
              "      <td>0.636074</td>\n",
              "      <td>0.497337</td>\n",
              "      <td>0.235467</td>\n",
              "      <td>0.237620</td>\n",
              "      <td>0.362685</td>\n",
              "      <td>0.647145</td>\n",
              "      <td>0.800843</td>\n",
              "      <td>0.879639</td>\n",
              "      <td>1.052920</td>\n",
              "      <td>0.486257</td>\n",
              "      <td>0.620928</td>\n",
              "      <td>0.604825</td>\n",
              "      <td>0.669249</td>\n",
              "      <td>0.752518</td>\n",
              "      <td>0.654761</td>\n",
              "      <td>0.922859</td>\n",
              "    </tr>\n",
              "    <tr>\n",
              "      <th>3</th>\n",
              "      <td>HOBBIES_1_004_CA_1_validation</td>\n",
              "      <td>2.328879</td>\n",
              "      <td>0.992148</td>\n",
              "      <td>0.703719</td>\n",
              "      <td>1.372625</td>\n",
              "      <td>1.303904</td>\n",
              "      <td>1.455103</td>\n",
              "      <td>2.707075</td>\n",
              "      <td>1.576173</td>\n",
              "      <td>1.056397</td>\n",
              "      <td>0.813896</td>\n",
              "      <td>1.549485</td>\n",
              "      <td>1.533241</td>\n",
              "      <td>2.334356</td>\n",
              "      <td>2.396921</td>\n",
              "      <td>2.095440</td>\n",
              "      <td>1.261296</td>\n",
              "      <td>1.430184</td>\n",
              "      <td>1.355523</td>\n",
              "      <td>1.831998</td>\n",
              "      <td>2.042552</td>\n",
              "      <td>3.000276</td>\n",
              "      <td>1.790591</td>\n",
              "      <td>1.376936</td>\n",
              "      <td>1.708965</td>\n",
              "      <td>1.012837</td>\n",
              "      <td>1.357434</td>\n",
              "      <td>3.458492</td>\n",
              "      <td>3.126287</td>\n",
              "    </tr>\n",
              "    <tr>\n",
              "      <th>4</th>\n",
              "      <td>HOBBIES_1_005_CA_1_validation</td>\n",
              "      <td>1.124764</td>\n",
              "      <td>0.962933</td>\n",
              "      <td>1.157911</td>\n",
              "      <td>0.963144</td>\n",
              "      <td>1.649291</td>\n",
              "      <td>1.343001</td>\n",
              "      <td>1.259075</td>\n",
              "      <td>1.051243</td>\n",
              "      <td>1.370573</td>\n",
              "      <td>0.993080</td>\n",
              "      <td>0.947763</td>\n",
              "      <td>1.076977</td>\n",
              "      <td>1.069260</td>\n",
              "      <td>1.244801</td>\n",
              "      <td>1.121759</td>\n",
              "      <td>0.863347</td>\n",
              "      <td>1.201216</td>\n",
              "      <td>0.912491</td>\n",
              "      <td>1.007229</td>\n",
              "      <td>0.992169</td>\n",
              "      <td>1.503367</td>\n",
              "      <td>0.820870</td>\n",
              "      <td>0.816862</td>\n",
              "      <td>0.943335</td>\n",
              "      <td>1.194283</td>\n",
              "      <td>0.923853</td>\n",
              "      <td>1.188967</td>\n",
              "      <td>1.995593</td>\n",
              "    </tr>\n",
              "    <tr>\n",
              "      <th>...</th>\n",
              "      <td>...</td>\n",
              "      <td>...</td>\n",
              "      <td>...</td>\n",
              "      <td>...</td>\n",
              "      <td>...</td>\n",
              "      <td>...</td>\n",
              "      <td>...</td>\n",
              "      <td>...</td>\n",
              "      <td>...</td>\n",
              "      <td>...</td>\n",
              "      <td>...</td>\n",
              "      <td>...</td>\n",
              "      <td>...</td>\n",
              "      <td>...</td>\n",
              "      <td>...</td>\n",
              "      <td>...</td>\n",
              "      <td>...</td>\n",
              "      <td>...</td>\n",
              "      <td>...</td>\n",
              "      <td>...</td>\n",
              "      <td>...</td>\n",
              "      <td>...</td>\n",
              "      <td>...</td>\n",
              "      <td>...</td>\n",
              "      <td>...</td>\n",
              "      <td>...</td>\n",
              "      <td>...</td>\n",
              "      <td>...</td>\n",
              "      <td>...</td>\n",
              "    </tr>\n",
              "    <tr>\n",
              "      <th>60975</th>\n",
              "      <td>FOODS_3_823_WI_3_evaluation</td>\n",
              "      <td>0.465499</td>\n",
              "      <td>0.403143</td>\n",
              "      <td>0.275166</td>\n",
              "      <td>0.663804</td>\n",
              "      <td>0.789565</td>\n",
              "      <td>0.621474</td>\n",
              "      <td>0.698561</td>\n",
              "      <td>0.410837</td>\n",
              "      <td>0.608729</td>\n",
              "      <td>0.307860</td>\n",
              "      <td>0.946598</td>\n",
              "      <td>0.930575</td>\n",
              "      <td>0.526679</td>\n",
              "      <td>0.813391</td>\n",
              "      <td>0.657703</td>\n",
              "      <td>0.627410</td>\n",
              "      <td>0.519883</td>\n",
              "      <td>0.633088</td>\n",
              "      <td>0.966022</td>\n",
              "      <td>0.529932</td>\n",
              "      <td>1.175308</td>\n",
              "      <td>0.298765</td>\n",
              "      <td>1.068147</td>\n",
              "      <td>0.595146</td>\n",
              "      <td>0.587710</td>\n",
              "      <td>0.739363</td>\n",
              "      <td>0.571244</td>\n",
              "      <td>0.937538</td>\n",
              "    </tr>\n",
              "    <tr>\n",
              "      <th>60976</th>\n",
              "      <td>FOODS_3_824_WI_3_evaluation</td>\n",
              "      <td>0.590313</td>\n",
              "      <td>0.477654</td>\n",
              "      <td>0.436830</td>\n",
              "      <td>0.587255</td>\n",
              "      <td>0.449119</td>\n",
              "      <td>0.698782</td>\n",
              "      <td>0.462273</td>\n",
              "      <td>0.509337</td>\n",
              "      <td>0.522048</td>\n",
              "      <td>0.408965</td>\n",
              "      <td>0.866013</td>\n",
              "      <td>0.402242</td>\n",
              "      <td>0.725149</td>\n",
              "      <td>0.477885</td>\n",
              "      <td>0.428285</td>\n",
              "      <td>0.555101</td>\n",
              "      <td>0.424512</td>\n",
              "      <td>0.689215</td>\n",
              "      <td>0.307395</td>\n",
              "      <td>0.478562</td>\n",
              "      <td>0.431488</td>\n",
              "      <td>0.303480</td>\n",
              "      <td>0.467018</td>\n",
              "      <td>0.425645</td>\n",
              "      <td>0.628929</td>\n",
              "      <td>0.304253</td>\n",
              "      <td>0.729342</td>\n",
              "      <td>0.341851</td>\n",
              "    </tr>\n",
              "    <tr>\n",
              "      <th>60977</th>\n",
              "      <td>FOODS_3_825_WI_3_evaluation</td>\n",
              "      <td>1.227312</td>\n",
              "      <td>0.281559</td>\n",
              "      <td>0.807025</td>\n",
              "      <td>0.400255</td>\n",
              "      <td>0.572666</td>\n",
              "      <td>1.118447</td>\n",
              "      <td>0.676378</td>\n",
              "      <td>1.306084</td>\n",
              "      <td>0.423004</td>\n",
              "      <td>0.949345</td>\n",
              "      <td>0.550833</td>\n",
              "      <td>0.519745</td>\n",
              "      <td>0.978226</td>\n",
              "      <td>0.844389</td>\n",
              "      <td>1.121399</td>\n",
              "      <td>0.861190</td>\n",
              "      <td>0.903350</td>\n",
              "      <td>1.060624</td>\n",
              "      <td>0.864625</td>\n",
              "      <td>0.842725</td>\n",
              "      <td>0.713519</td>\n",
              "      <td>0.821559</td>\n",
              "      <td>0.770557</td>\n",
              "      <td>1.218992</td>\n",
              "      <td>0.472456</td>\n",
              "      <td>0.571609</td>\n",
              "      <td>0.516877</td>\n",
              "      <td>0.921955</td>\n",
              "    </tr>\n",
              "    <tr>\n",
              "      <th>60978</th>\n",
              "      <td>FOODS_3_826_WI_3_evaluation</td>\n",
              "      <td>1.158328</td>\n",
              "      <td>1.644730</td>\n",
              "      <td>0.725141</td>\n",
              "      <td>1.411336</td>\n",
              "      <td>1.187850</td>\n",
              "      <td>0.852136</td>\n",
              "      <td>1.614389</td>\n",
              "      <td>1.009809</td>\n",
              "      <td>1.140077</td>\n",
              "      <td>1.040822</td>\n",
              "      <td>1.308934</td>\n",
              "      <td>1.320022</td>\n",
              "      <td>1.329711</td>\n",
              "      <td>1.332081</td>\n",
              "      <td>1.292687</td>\n",
              "      <td>1.048972</td>\n",
              "      <td>1.110637</td>\n",
              "      <td>1.290987</td>\n",
              "      <td>1.321319</td>\n",
              "      <td>1.065957</td>\n",
              "      <td>1.240711</td>\n",
              "      <td>1.489312</td>\n",
              "      <td>1.875940</td>\n",
              "      <td>1.604342</td>\n",
              "      <td>1.519513</td>\n",
              "      <td>1.295796</td>\n",
              "      <td>1.124396</td>\n",
              "      <td>1.172219</td>\n",
              "    </tr>\n",
              "    <tr>\n",
              "      <th>60979</th>\n",
              "      <td>FOODS_3_827_WI_3_evaluation</td>\n",
              "      <td>1.718143</td>\n",
              "      <td>1.367904</td>\n",
              "      <td>0.986533</td>\n",
              "      <td>1.233975</td>\n",
              "      <td>1.137364</td>\n",
              "      <td>1.207706</td>\n",
              "      <td>1.006228</td>\n",
              "      <td>1.094034</td>\n",
              "      <td>1.384722</td>\n",
              "      <td>1.101915</td>\n",
              "      <td>1.218631</td>\n",
              "      <td>1.351283</td>\n",
              "      <td>1.222298</td>\n",
              "      <td>1.383619</td>\n",
              "      <td>1.179870</td>\n",
              "      <td>0.905094</td>\n",
              "      <td>0.949511</td>\n",
              "      <td>0.888701</td>\n",
              "      <td>1.136282</td>\n",
              "      <td>1.368893</td>\n",
              "      <td>0.971301</td>\n",
              "      <td>1.870121</td>\n",
              "      <td>1.499883</td>\n",
              "      <td>1.606747</td>\n",
              "      <td>1.738634</td>\n",
              "      <td>1.353675</td>\n",
              "      <td>2.226388</td>\n",
              "      <td>1.144486</td>\n",
              "    </tr>\n",
              "  </tbody>\n",
              "</table>\n",
              "<p>60980 rows × 29 columns</p>\n",
              "</div>"
            ],
            "text/plain": [
              "                                  id        F1  ...       F27       F28\n",
              "0      HOBBIES_1_001_CA_1_validation  0.528932  ...  1.478406  0.737714\n",
              "1      HOBBIES_1_002_CA_1_validation  0.489853  ...  0.359576  0.359576\n",
              "2      HOBBIES_1_003_CA_1_validation  0.399944  ...  0.654761  0.922859\n",
              "3      HOBBIES_1_004_CA_1_validation  2.328879  ...  3.458492  3.126287\n",
              "4      HOBBIES_1_005_CA_1_validation  1.124764  ...  1.188967  1.995593\n",
              "...                              ...       ...  ...       ...       ...\n",
              "60975    FOODS_3_823_WI_3_evaluation  0.465499  ...  0.571244  0.937538\n",
              "60976    FOODS_3_824_WI_3_evaluation  0.590313  ...  0.729342  0.341851\n",
              "60977    FOODS_3_825_WI_3_evaluation  1.227312  ...  0.516877  0.921955\n",
              "60978    FOODS_3_826_WI_3_evaluation  1.158328  ...  1.124396  1.172219\n",
              "60979    FOODS_3_827_WI_3_evaluation  1.718143  ...  2.226388  1.144486\n",
              "\n",
              "[60980 rows x 29 columns]"
            ]
          },
          "metadata": {
            "tags": []
          },
          "execution_count": 25
        }
      ]
    },
    {
      "cell_type": "code",
      "metadata": {
        "id": "bWzRS1MonZQa"
      },
      "source": [
        "sub.to_csv(\"lgb_sub_V6.csv\",index = False)"
      ],
      "execution_count": 26,
      "outputs": []
    },
    {
      "cell_type": "code",
      "metadata": {
        "id": "dv8eHjGK-QwI",
        "colab": {
          "base_uri": "https://localhost:8080/",
          "height": 422
        },
        "outputId": "e01a8f8c-1fd2-43e3-df58-a87345d2c785"
      },
      "source": [
        "pd.read_csv('submission.csv')"
      ],
      "execution_count": null,
      "outputs": [
        {
          "output_type": "execute_result",
          "data": {
            "text/html": [
              "<div>\n",
              "<style scoped>\n",
              "    .dataframe tbody tr th:only-of-type {\n",
              "        vertical-align: middle;\n",
              "    }\n",
              "\n",
              "    .dataframe tbody tr th {\n",
              "        vertical-align: top;\n",
              "    }\n",
              "\n",
              "    .dataframe thead th {\n",
              "        text-align: right;\n",
              "    }\n",
              "</style>\n",
              "<table border=\"1\" class=\"dataframe\">\n",
              "  <thead>\n",
              "    <tr style=\"text-align: right;\">\n",
              "      <th></th>\n",
              "      <th>id</th>\n",
              "      <th>F1</th>\n",
              "      <th>F2</th>\n",
              "      <th>F3</th>\n",
              "      <th>F4</th>\n",
              "      <th>F5</th>\n",
              "      <th>F6</th>\n",
              "      <th>F7</th>\n",
              "      <th>F8</th>\n",
              "      <th>F9</th>\n",
              "      <th>F10</th>\n",
              "      <th>F11</th>\n",
              "      <th>F12</th>\n",
              "      <th>F13</th>\n",
              "      <th>F14</th>\n",
              "      <th>F15</th>\n",
              "      <th>F16</th>\n",
              "      <th>F17</th>\n",
              "      <th>F18</th>\n",
              "      <th>F19</th>\n",
              "      <th>F20</th>\n",
              "      <th>F21</th>\n",
              "      <th>F22</th>\n",
              "      <th>F23</th>\n",
              "      <th>F24</th>\n",
              "      <th>F25</th>\n",
              "      <th>F26</th>\n",
              "      <th>F27</th>\n",
              "      <th>F28</th>\n",
              "    </tr>\n",
              "  </thead>\n",
              "  <tbody>\n",
              "    <tr>\n",
              "      <th>0</th>\n",
              "      <td>HOBBIES_1_001_CA_1_validation</td>\n",
              "      <td>0.635264</td>\n",
              "      <td>0.665307</td>\n",
              "      <td>0.549572</td>\n",
              "      <td>0.790765</td>\n",
              "      <td>0.798116</td>\n",
              "      <td>1.242220</td>\n",
              "      <td>0.806613</td>\n",
              "      <td>0.621331</td>\n",
              "      <td>0.985524</td>\n",
              "      <td>0.688249</td>\n",
              "      <td>1.750373</td>\n",
              "      <td>0.735975</td>\n",
              "      <td>1.441405</td>\n",
              "      <td>1.580621</td>\n",
              "      <td>0.355633</td>\n",
              "      <td>0.827599</td>\n",
              "      <td>0.650038</td>\n",
              "      <td>0.938422</td>\n",
              "      <td>0.533167</td>\n",
              "      <td>1.521630</td>\n",
              "      <td>1.433755</td>\n",
              "      <td>0.831869</td>\n",
              "      <td>0.931035</td>\n",
              "      <td>0.810626</td>\n",
              "      <td>0.886726</td>\n",
              "      <td>1.101035</td>\n",
              "      <td>1.808653</td>\n",
              "      <td>0.741226</td>\n",
              "    </tr>\n",
              "    <tr>\n",
              "      <th>1</th>\n",
              "      <td>HOBBIES_1_002_CA_1_validation</td>\n",
              "      <td>0.376999</td>\n",
              "      <td>0.288994</td>\n",
              "      <td>0.363103</td>\n",
              "      <td>0.381820</td>\n",
              "      <td>0.232232</td>\n",
              "      <td>0.327193</td>\n",
              "      <td>0.290006</td>\n",
              "      <td>0.276124</td>\n",
              "      <td>0.343547</td>\n",
              "      <td>0.310717</td>\n",
              "      <td>0.349650</td>\n",
              "      <td>0.230558</td>\n",
              "      <td>0.289352</td>\n",
              "      <td>0.266013</td>\n",
              "      <td>0.262656</td>\n",
              "      <td>0.308625</td>\n",
              "      <td>0.347597</td>\n",
              "      <td>0.313840</td>\n",
              "      <td>0.220531</td>\n",
              "      <td>0.290091</td>\n",
              "      <td>0.278131</td>\n",
              "      <td>0.246310</td>\n",
              "      <td>0.153367</td>\n",
              "      <td>0.397939</td>\n",
              "      <td>0.246211</td>\n",
              "      <td>0.299183</td>\n",
              "      <td>0.445864</td>\n",
              "      <td>0.603483</td>\n",
              "    </tr>\n",
              "    <tr>\n",
              "      <th>2</th>\n",
              "      <td>HOBBIES_1_003_CA_1_validation</td>\n",
              "      <td>0.418780</td>\n",
              "      <td>0.478669</td>\n",
              "      <td>0.508481</td>\n",
              "      <td>0.496547</td>\n",
              "      <td>0.710814</td>\n",
              "      <td>0.860313</td>\n",
              "      <td>0.777815</td>\n",
              "      <td>0.349813</td>\n",
              "      <td>0.531672</td>\n",
              "      <td>0.489414</td>\n",
              "      <td>0.434220</td>\n",
              "      <td>0.413290</td>\n",
              "      <td>1.109061</td>\n",
              "      <td>0.576684</td>\n",
              "      <td>0.216356</td>\n",
              "      <td>0.252927</td>\n",
              "      <td>0.419898</td>\n",
              "      <td>0.575693</td>\n",
              "      <td>0.746556</td>\n",
              "      <td>1.308608</td>\n",
              "      <td>1.193171</td>\n",
              "      <td>0.368092</td>\n",
              "      <td>0.554398</td>\n",
              "      <td>0.500015</td>\n",
              "      <td>0.463380</td>\n",
              "      <td>0.907216</td>\n",
              "      <td>0.555819</td>\n",
              "      <td>1.407281</td>\n",
              "    </tr>\n",
              "    <tr>\n",
              "      <th>3</th>\n",
              "      <td>HOBBIES_1_004_CA_1_validation</td>\n",
              "      <td>2.307070</td>\n",
              "      <td>0.733208</td>\n",
              "      <td>0.887965</td>\n",
              "      <td>1.180000</td>\n",
              "      <td>1.684780</td>\n",
              "      <td>2.724603</td>\n",
              "      <td>3.457966</td>\n",
              "      <td>1.695340</td>\n",
              "      <td>0.799806</td>\n",
              "      <td>0.658726</td>\n",
              "      <td>1.608318</td>\n",
              "      <td>2.073488</td>\n",
              "      <td>2.518639</td>\n",
              "      <td>3.600225</td>\n",
              "      <td>2.211253</td>\n",
              "      <td>0.759219</td>\n",
              "      <td>1.016658</td>\n",
              "      <td>1.012015</td>\n",
              "      <td>2.038040</td>\n",
              "      <td>1.611736</td>\n",
              "      <td>3.633332</td>\n",
              "      <td>2.242869</td>\n",
              "      <td>0.989729</td>\n",
              "      <td>1.171726</td>\n",
              "      <td>0.908973</td>\n",
              "      <td>1.511999</td>\n",
              "      <td>2.024376</td>\n",
              "      <td>2.301502</td>\n",
              "    </tr>\n",
              "    <tr>\n",
              "      <th>4</th>\n",
              "      <td>HOBBIES_1_005_CA_1_validation</td>\n",
              "      <td>0.978023</td>\n",
              "      <td>0.826050</td>\n",
              "      <td>0.873653</td>\n",
              "      <td>1.224260</td>\n",
              "      <td>1.487269</td>\n",
              "      <td>1.258053</td>\n",
              "      <td>1.786572</td>\n",
              "      <td>0.866067</td>\n",
              "      <td>0.958617</td>\n",
              "      <td>0.985152</td>\n",
              "      <td>1.636083</td>\n",
              "      <td>1.165685</td>\n",
              "      <td>0.834632</td>\n",
              "      <td>1.875338</td>\n",
              "      <td>1.153875</td>\n",
              "      <td>1.147669</td>\n",
              "      <td>1.108804</td>\n",
              "      <td>1.130619</td>\n",
              "      <td>1.388660</td>\n",
              "      <td>0.863283</td>\n",
              "      <td>1.767650</td>\n",
              "      <td>1.160473</td>\n",
              "      <td>1.317741</td>\n",
              "      <td>0.981237</td>\n",
              "      <td>1.111697</td>\n",
              "      <td>1.301603</td>\n",
              "      <td>1.108424</td>\n",
              "      <td>1.627276</td>\n",
              "    </tr>\n",
              "    <tr>\n",
              "      <th>...</th>\n",
              "      <td>...</td>\n",
              "      <td>...</td>\n",
              "      <td>...</td>\n",
              "      <td>...</td>\n",
              "      <td>...</td>\n",
              "      <td>...</td>\n",
              "      <td>...</td>\n",
              "      <td>...</td>\n",
              "      <td>...</td>\n",
              "      <td>...</td>\n",
              "      <td>...</td>\n",
              "      <td>...</td>\n",
              "      <td>...</td>\n",
              "      <td>...</td>\n",
              "      <td>...</td>\n",
              "      <td>...</td>\n",
              "      <td>...</td>\n",
              "      <td>...</td>\n",
              "      <td>...</td>\n",
              "      <td>...</td>\n",
              "      <td>...</td>\n",
              "      <td>...</td>\n",
              "      <td>...</td>\n",
              "      <td>...</td>\n",
              "      <td>...</td>\n",
              "      <td>...</td>\n",
              "      <td>...</td>\n",
              "      <td>...</td>\n",
              "      <td>...</td>\n",
              "    </tr>\n",
              "    <tr>\n",
              "      <th>60975</th>\n",
              "      <td>FOODS_3_823_WI_3_evaluation</td>\n",
              "      <td>0.307991</td>\n",
              "      <td>0.442061</td>\n",
              "      <td>0.568413</td>\n",
              "      <td>0.397280</td>\n",
              "      <td>0.615776</td>\n",
              "      <td>0.587419</td>\n",
              "      <td>0.960979</td>\n",
              "      <td>0.253106</td>\n",
              "      <td>0.499260</td>\n",
              "      <td>0.403834</td>\n",
              "      <td>0.604434</td>\n",
              "      <td>0.606350</td>\n",
              "      <td>0.459687</td>\n",
              "      <td>0.676348</td>\n",
              "      <td>0.418505</td>\n",
              "      <td>0.398572</td>\n",
              "      <td>0.310596</td>\n",
              "      <td>0.447556</td>\n",
              "      <td>0.626073</td>\n",
              "      <td>0.329978</td>\n",
              "      <td>0.700339</td>\n",
              "      <td>0.255816</td>\n",
              "      <td>0.678952</td>\n",
              "      <td>0.403750</td>\n",
              "      <td>0.376869</td>\n",
              "      <td>0.542999</td>\n",
              "      <td>0.313316</td>\n",
              "      <td>0.535191</td>\n",
              "    </tr>\n",
              "    <tr>\n",
              "      <th>60976</th>\n",
              "      <td>FOODS_3_824_WI_3_evaluation</td>\n",
              "      <td>0.383718</td>\n",
              "      <td>0.287527</td>\n",
              "      <td>0.241022</td>\n",
              "      <td>0.518830</td>\n",
              "      <td>0.254843</td>\n",
              "      <td>0.591806</td>\n",
              "      <td>0.257437</td>\n",
              "      <td>0.273208</td>\n",
              "      <td>0.333609</td>\n",
              "      <td>0.245650</td>\n",
              "      <td>0.714134</td>\n",
              "      <td>0.256479</td>\n",
              "      <td>0.630584</td>\n",
              "      <td>0.343458</td>\n",
              "      <td>0.358837</td>\n",
              "      <td>0.350766</td>\n",
              "      <td>0.282421</td>\n",
              "      <td>0.451720</td>\n",
              "      <td>0.163945</td>\n",
              "      <td>0.389621</td>\n",
              "      <td>0.341670</td>\n",
              "      <td>0.298383</td>\n",
              "      <td>0.360118</td>\n",
              "      <td>0.285289</td>\n",
              "      <td>0.414636</td>\n",
              "      <td>0.161167</td>\n",
              "      <td>0.411155</td>\n",
              "      <td>0.196606</td>\n",
              "    </tr>\n",
              "    <tr>\n",
              "      <th>60977</th>\n",
              "      <td>FOODS_3_825_WI_3_evaluation</td>\n",
              "      <td>1.193915</td>\n",
              "      <td>0.788892</td>\n",
              "      <td>1.041185</td>\n",
              "      <td>0.411093</td>\n",
              "      <td>0.751011</td>\n",
              "      <td>0.670638</td>\n",
              "      <td>0.769783</td>\n",
              "      <td>1.136382</td>\n",
              "      <td>0.258346</td>\n",
              "      <td>0.736198</td>\n",
              "      <td>0.367322</td>\n",
              "      <td>0.685137</td>\n",
              "      <td>0.618515</td>\n",
              "      <td>0.938525</td>\n",
              "      <td>0.741838</td>\n",
              "      <td>0.513635</td>\n",
              "      <td>0.836019</td>\n",
              "      <td>0.712328</td>\n",
              "      <td>0.468488</td>\n",
              "      <td>0.665763</td>\n",
              "      <td>0.551860</td>\n",
              "      <td>0.777720</td>\n",
              "      <td>0.503953</td>\n",
              "      <td>0.902870</td>\n",
              "      <td>0.298881</td>\n",
              "      <td>0.409184</td>\n",
              "      <td>0.425125</td>\n",
              "      <td>0.628896</td>\n",
              "    </tr>\n",
              "    <tr>\n",
              "      <th>60978</th>\n",
              "      <td>FOODS_3_826_WI_3_evaluation</td>\n",
              "      <td>1.471955</td>\n",
              "      <td>1.912015</td>\n",
              "      <td>0.818055</td>\n",
              "      <td>1.112489</td>\n",
              "      <td>1.112249</td>\n",
              "      <td>1.078456</td>\n",
              "      <td>1.285677</td>\n",
              "      <td>1.315327</td>\n",
              "      <td>1.401554</td>\n",
              "      <td>0.803920</td>\n",
              "      <td>0.984632</td>\n",
              "      <td>0.941785</td>\n",
              "      <td>1.044369</td>\n",
              "      <td>0.999166</td>\n",
              "      <td>0.990831</td>\n",
              "      <td>0.701703</td>\n",
              "      <td>0.703931</td>\n",
              "      <td>0.839125</td>\n",
              "      <td>0.844645</td>\n",
              "      <td>0.745097</td>\n",
              "      <td>0.891677</td>\n",
              "      <td>0.815621</td>\n",
              "      <td>1.089787</td>\n",
              "      <td>0.825554</td>\n",
              "      <td>1.096770</td>\n",
              "      <td>0.664142</td>\n",
              "      <td>0.665504</td>\n",
              "      <td>0.790551</td>\n",
              "    </tr>\n",
              "    <tr>\n",
              "      <th>60979</th>\n",
              "      <td>FOODS_3_827_WI_3_evaluation</td>\n",
              "      <td>1.994872</td>\n",
              "      <td>1.836026</td>\n",
              "      <td>0.798853</td>\n",
              "      <td>1.583119</td>\n",
              "      <td>1.334428</td>\n",
              "      <td>1.794690</td>\n",
              "      <td>1.246657</td>\n",
              "      <td>1.750376</td>\n",
              "      <td>1.465861</td>\n",
              "      <td>0.771407</td>\n",
              "      <td>1.504089</td>\n",
              "      <td>1.503914</td>\n",
              "      <td>1.595662</td>\n",
              "      <td>1.357559</td>\n",
              "      <td>1.247771</td>\n",
              "      <td>0.893483</td>\n",
              "      <td>0.575771</td>\n",
              "      <td>0.685512</td>\n",
              "      <td>0.875149</td>\n",
              "      <td>1.054628</td>\n",
              "      <td>0.601814</td>\n",
              "      <td>1.145831</td>\n",
              "      <td>1.035816</td>\n",
              "      <td>0.836663</td>\n",
              "      <td>0.912994</td>\n",
              "      <td>0.692635</td>\n",
              "      <td>1.313558</td>\n",
              "      <td>0.695970</td>\n",
              "    </tr>\n",
              "  </tbody>\n",
              "</table>\n",
              "<p>60980 rows × 29 columns</p>\n",
              "</div>"
            ],
            "text/plain": [
              "                                  id        F1  ...       F27       F28\n",
              "0      HOBBIES_1_001_CA_1_validation  0.635264  ...  1.808653  0.741226\n",
              "1      HOBBIES_1_002_CA_1_validation  0.376999  ...  0.445864  0.603483\n",
              "2      HOBBIES_1_003_CA_1_validation  0.418780  ...  0.555819  1.407281\n",
              "3      HOBBIES_1_004_CA_1_validation  2.307070  ...  2.024376  2.301502\n",
              "4      HOBBIES_1_005_CA_1_validation  0.978023  ...  1.108424  1.627276\n",
              "...                              ...       ...  ...       ...       ...\n",
              "60975    FOODS_3_823_WI_3_evaluation  0.307991  ...  0.313316  0.535191\n",
              "60976    FOODS_3_824_WI_3_evaluation  0.383718  ...  0.411155  0.196606\n",
              "60977    FOODS_3_825_WI_3_evaluation  1.193915  ...  0.425125  0.628896\n",
              "60978    FOODS_3_826_WI_3_evaluation  1.471955  ...  0.665504  0.790551\n",
              "60979    FOODS_3_827_WI_3_evaluation  1.994872  ...  1.313558  0.695970\n",
              "\n",
              "[60980 rows x 29 columns]"
            ]
          },
          "metadata": {
            "tags": []
          },
          "execution_count": 31
        }
      ]
    },
    {
      "cell_type": "code",
      "metadata": {
        "id": "gRn4YpHNUKZo",
        "colab": {
          "base_uri": "https://localhost:8080/"
        },
        "outputId": "e81c1359-3523-4276-c9c2-d98cbc86b57f"
      },
      "source": [
        "!kaggle competitions submit -c m5-forecasting-accuracy -f lgb_sub_V6.csv -m \"Much more optimized and changed some codes\""
      ],
      "execution_count": 27,
      "outputs": [
        {
          "output_type": "stream",
          "text": [
            "Warning: Looks like you're using an outdated API Version, please consider updating (server 1.5.10 / client 1.5.4)\n",
            "100% 32.7M/32.7M [00:11<00:00, 2.95MB/s]\n",
            "Successfully submitted to M5 Forecasting - Accuracy"
          ],
          "name": "stdout"
        }
      ]
    },
    {
      "cell_type": "code",
      "metadata": {
        "id": "SQAGrJO3tlPN"
      },
      "source": [
        ""
      ],
      "execution_count": null,
      "outputs": []
    }
  ]
}