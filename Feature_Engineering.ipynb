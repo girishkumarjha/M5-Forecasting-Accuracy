{
  "nbformat": 4,
  "nbformat_minor": 0,
  "metadata": {
    "colab": {
      "name": "Feature_Engineering",
      "provenance": [],
      "collapsed_sections": [],
      "machine_shape": "hm",
      "include_colab_link": true
    },
    "kernelspec": {
      "display_name": "Python 3",
      "name": "python3"
    }
  },
  "cells": [
    {
      "cell_type": "markdown",
      "metadata": {
        "id": "view-in-github",
        "colab_type": "text"
      },
      "source": [
        "<a href=\"https://colab.research.google.com/github/vence-andersen/M5-Forecasting-Accuracy/blob/main/Feature_Engineering.ipynb\" target=\"_parent\"><img src=\"https://colab.research.google.com/assets/colab-badge.svg\" alt=\"Open In Colab\"/></a>"
      ]
    },
    {
      "cell_type": "markdown",
      "metadata": {
        "id": "73APewid-brR"
      },
      "source": [
        "# **Importing modules required and reading the files.**"
      ]
    },
    {
      "cell_type": "code",
      "metadata": {
        "id": "Fh0O2p6b9Zi_"
      },
      "source": [
        "import pandas as pd\r\n",
        "import numpy as np\r\n",
        "import matplotlib.pylab as plt\r\n",
        "import seaborn as sns\r\n",
        "from tqdm import tqdm\r\n",
        "from lightgbm import LGBMRegressor, Dataset\r\n",
        "from sklearn.metrics import mean_squared_error as mse\r\n",
        "from downcast import reduce\r\n",
        "import warnings\r\n",
        "warnings.filterwarnings(\"ignore\")\r\n",
        "from xgboost import XGBRegressor\r\n",
        "# from catboost import CatBoostRegressor"
      ],
      "execution_count": null,
      "outputs": []
    },
    {
      "cell_type": "code",
      "metadata": {
        "id": "p3IbvhPs9PIR"
      },
      "source": [
        "# Using Pandas to reasd the files.\r\n",
        "\r\n",
        "sales = pd.read_csv(\"sales_train_evaluation.csv\")\r\n",
        "sell_price = pd.read_csv(\"sell_prices.csv\")\r\n",
        "cal = pd.read_csv(\"calendar.csv\")"
      ],
      "execution_count": null,
      "outputs": []
    },
    {
      "cell_type": "code",
      "metadata": {
        "id": "ED0VY8ac9Ym5"
      },
      "source": [
        "# To reduce the memory usage, we'll be using reduce throughout the code\r\n",
        "\r\n",
        "sales = reduce(sales)\r\n",
        "sell_price = reduce(sell_price)\r\n",
        "cal = reduce(cal)"
      ],
      "execution_count": null,
      "outputs": []
    },
    {
      "cell_type": "markdown",
      "metadata": {
        "id": "-mtIUkxK-nFe"
      },
      "source": [
        "# **Feature Engineering**"
      ]
    },
    {
      "cell_type": "code",
      "metadata": {
        "id": "94dh7fQu9dQ5"
      },
      "source": [
        "# We are creating new features required for the prediction for days from 1942 till 1969\r\n",
        "\r\n",
        "for day in range(1942,1942+28):\r\n",
        "  sales['d_' + str(day)] = np.int32(0)"
      ],
      "execution_count": null,
      "outputs": []
    },
    {
      "cell_type": "code",
      "metadata": {
        "colab": {
          "base_uri": "https://localhost:8080/",
          "height": 123
        },
        "id": "pyCOYNCb9eTh",
        "outputId": "0018ccfa-caee-4680-e40e-b92ac90dda63"
      },
      "source": [
        "# We are transforming our Time Series problem to Supervised Machine Learning Problem\r\n",
        "\r\n",
        "data = pd.melt(sales, id_vars=['id', 'item_id', 'dept_id', 'cat_id', 'store_id', 'state_id'],\r\n",
        "          var_name='day', value_name='demand').dropna()\r\n",
        "print(\"The new shape is \",data.shape)\r\n",
        "data.head(2)"
      ],
      "execution_count": null,
      "outputs": [
        {
          "output_type": "stream",
          "text": [
            "The new shape is  (60034810, 8)\n"
          ],
          "name": "stdout"
        },
        {
          "output_type": "execute_result",
          "data": {
            "text/html": [
              "<div>\n",
              "<style scoped>\n",
              "    .dataframe tbody tr th:only-of-type {\n",
              "        vertical-align: middle;\n",
              "    }\n",
              "\n",
              "    .dataframe tbody tr th {\n",
              "        vertical-align: top;\n",
              "    }\n",
              "\n",
              "    .dataframe thead th {\n",
              "        text-align: right;\n",
              "    }\n",
              "</style>\n",
              "<table border=\"1\" class=\"dataframe\">\n",
              "  <thead>\n",
              "    <tr style=\"text-align: right;\">\n",
              "      <th></th>\n",
              "      <th>id</th>\n",
              "      <th>item_id</th>\n",
              "      <th>dept_id</th>\n",
              "      <th>cat_id</th>\n",
              "      <th>store_id</th>\n",
              "      <th>state_id</th>\n",
              "      <th>day</th>\n",
              "      <th>demand</th>\n",
              "    </tr>\n",
              "  </thead>\n",
              "  <tbody>\n",
              "    <tr>\n",
              "      <th>0</th>\n",
              "      <td>HOBBIES_1_001_CA_1_evaluation</td>\n",
              "      <td>HOBBIES_1_001</td>\n",
              "      <td>HOBBIES_1</td>\n",
              "      <td>HOBBIES</td>\n",
              "      <td>CA_1</td>\n",
              "      <td>CA</td>\n",
              "      <td>d_1</td>\n",
              "      <td>0</td>\n",
              "    </tr>\n",
              "    <tr>\n",
              "      <th>1</th>\n",
              "      <td>HOBBIES_1_002_CA_1_evaluation</td>\n",
              "      <td>HOBBIES_1_002</td>\n",
              "      <td>HOBBIES_1</td>\n",
              "      <td>HOBBIES</td>\n",
              "      <td>CA_1</td>\n",
              "      <td>CA</td>\n",
              "      <td>d_1</td>\n",
              "      <td>0</td>\n",
              "    </tr>\n",
              "  </tbody>\n",
              "</table>\n",
              "</div>"
            ],
            "text/plain": [
              "                              id        item_id  ...  day demand\n",
              "0  HOBBIES_1_001_CA_1_evaluation  HOBBIES_1_001  ...  d_1      0\n",
              "1  HOBBIES_1_002_CA_1_evaluation  HOBBIES_1_002  ...  d_1      0\n",
              "\n",
              "[2 rows x 8 columns]"
            ]
          },
          "metadata": {
            "tags": []
          },
          "execution_count": 9
        }
      ]
    },
    {
      "cell_type": "code",
      "metadata": {
        "id": "Us8ulqgc9fZp"
      },
      "source": [
        "# We are then merging the all the csv files together\r\n",
        "\r\n",
        "data = data.merge(cal, left_on='day', right_on='d')\r\n",
        "\r\n",
        "data = data.merge(sell_price,on=['store_id','item_id', 'wm_yr_wk'], how='left')"
      ],
      "execution_count": null,
      "outputs": []
    },
    {
      "cell_type": "code",
      "metadata": {
        "id": "Hn-e7I-d9gyI"
      },
      "source": [
        "data['sell_price'].fillna(data.groupby('id')['sell_price'].transform('mean'), inplace=True)"
      ],
      "execution_count": null,
      "outputs": []
    },
    {
      "cell_type": "code",
      "metadata": {
        "id": "2uqR84Dw9i1B"
      },
      "source": [
        "# we are stripping the 'd_' from day column to make it an integer feature\r\n",
        "data['day'] = data['day'].apply(lambda x: x.split('_')[1]).astype(np.int16)\r\n",
        "\r\n",
        "#since weekday's are represented as wday with numbers and d is a duplicate column.\r\n",
        "data.drop(['d','weekday','date'], axis=1, inplace=True) "
      ],
      "execution_count": null,
      "outputs": []
    },
    {
      "cell_type": "code",
      "metadata": {
        "id": "J5ZGSnD99mdg"
      },
      "source": [
        "#  We are doing a categorical encoding by replacing the categories with the memory number every category has.\r\n",
        "# This method is just a lazy way of doing things as cat codes are produced only features of types categories.\r\n",
        "# Hence if a feature which is not a category is passed in, it throws AttributeError and thus the excep condition excutes\r\n",
        "# And the error is handled\r\n",
        "\r\n",
        "for i in data.columns:\r\n",
        "    try:\r\n",
        "        data[i] = data[i].cat.codes\r\n",
        "    except AttributeError:\r\n",
        "        pass"
      ],
      "execution_count": null,
      "outputs": []
    },
    {
      "cell_type": "code",
      "metadata": {
        "colab": {
          "base_uri": "https://localhost:8080/"
        },
        "id": "oFfyEDEB9qYg",
        "outputId": "6965f196-c78e-4671-9feb-678bae27ba95"
      },
      "source": [
        "# Adding lag shift features as those are good time series feature engineering steps.\r\n",
        "\r\n",
        "lags = [28,30,35,42,49,56,63,70]\r\n",
        "for lag in tqdm(lags):\r\n",
        "    data[\"lag_\" + str(lag)] = data.groupby(\"id\")[\"demand\"].shift(lag).astype(np.float16)"
      ],
      "execution_count": null,
      "outputs": [
        {
          "output_type": "stream",
          "text": [
            "100%|██████████| 9/9 [00:46<00:00,  5.14s/it]\n"
          ],
          "name": "stderr"
        }
      ]
    },
    {
      "cell_type": "code",
      "metadata": {
        "colab": {
          "base_uri": "https://localhost:8080/"
        },
        "id": "LmKyCF-h9sTQ",
        "outputId": "1db2f8d9-938a-48cc-acf1-2ce580c02e58"
      },
      "source": [
        "# # Adding rolling window feature with mean value\r\n",
        "\r\n",
        "means = [5,7,28,56]\r\n",
        "for mns in tqdm(means):\r\n",
        "    data['rolling_median_'+str(mns)] = data.groupby(['id'])['demand'].transform(lambda x: x.rolling(mns).median())"
      ],
      "execution_count": null,
      "outputs": [
        {
          "output_type": "stream",
          "text": [
            "100%|██████████| 4/4 [2:18:51<00:00, 2082.85s/it]\n"
          ],
          "name": "stderr"
        }
      ]
    },
    {
      "cell_type": "code",
      "metadata": {
        "colab": {
          "base_uri": "https://localhost:8080/",
          "height": 126
        },
        "id": "_BcYpei_9uFw",
        "outputId": "8b8b63da-8a15-465d-b88d-728b7a1edbdf"
      },
      "source": [
        "data = data[data['day']>1000]\r\n",
        "data.head(2)"
      ],
      "execution_count": null,
      "outputs": [
        {
          "output_type": "execute_result",
          "data": {
            "text/html": [
              "<div>\n",
              "<style scoped>\n",
              "    .dataframe tbody tr th:only-of-type {\n",
              "        vertical-align: middle;\n",
              "    }\n",
              "\n",
              "    .dataframe tbody tr th {\n",
              "        vertical-align: top;\n",
              "    }\n",
              "\n",
              "    .dataframe thead th {\n",
              "        text-align: right;\n",
              "    }\n",
              "</style>\n",
              "<table border=\"1\" class=\"dataframe\">\n",
              "  <thead>\n",
              "    <tr style=\"text-align: right;\">\n",
              "      <th></th>\n",
              "      <th>id</th>\n",
              "      <th>item_id</th>\n",
              "      <th>dept_id</th>\n",
              "      <th>cat_id</th>\n",
              "      <th>store_id</th>\n",
              "      <th>state_id</th>\n",
              "      <th>day</th>\n",
              "      <th>demand</th>\n",
              "      <th>wm_yr_wk</th>\n",
              "      <th>wday</th>\n",
              "      <th>month</th>\n",
              "      <th>year</th>\n",
              "      <th>event_name_1</th>\n",
              "      <th>event_type_1</th>\n",
              "      <th>event_name_2</th>\n",
              "      <th>event_type_2</th>\n",
              "      <th>snap_CA</th>\n",
              "      <th>snap_TX</th>\n",
              "      <th>snap_WI</th>\n",
              "      <th>sell_price</th>\n",
              "      <th>lag_28</th>\n",
              "      <th>lag_30</th>\n",
              "      <th>lag_35</th>\n",
              "      <th>lag_42</th>\n",
              "      <th>lag_49</th>\n",
              "      <th>lag_56</th>\n",
              "      <th>lag_63</th>\n",
              "      <th>lag_70</th>\n",
              "      <th>rolling_median_5</th>\n",
              "      <th>rolling_median_7</th>\n",
              "      <th>rolling_median_28</th>\n",
              "      <th>rolling_median_56</th>\n",
              "    </tr>\n",
              "  </thead>\n",
              "  <tbody>\n",
              "    <tr>\n",
              "      <th>30490000</th>\n",
              "      <td>14370</td>\n",
              "      <td>1437</td>\n",
              "      <td>3</td>\n",
              "      <td>1</td>\n",
              "      <td>0</td>\n",
              "      <td>0</td>\n",
              "      <td>1001</td>\n",
              "      <td>2</td>\n",
              "      <td>11339</td>\n",
              "      <td>7</td>\n",
              "      <td>10</td>\n",
              "      <td>2013</td>\n",
              "      <td>-1</td>\n",
              "      <td>-1</td>\n",
              "      <td>-1</td>\n",
              "      <td>-1</td>\n",
              "      <td>0</td>\n",
              "      <td>0</td>\n",
              "      <td>0</td>\n",
              "      <td>8.257812</td>\n",
              "      <td>1.0</td>\n",
              "      <td>0.0</td>\n",
              "      <td>2.0</td>\n",
              "      <td>1.0</td>\n",
              "      <td>0.0</td>\n",
              "      <td>1.0</td>\n",
              "      <td>0.0</td>\n",
              "      <td>1.0</td>\n",
              "      <td>0.0</td>\n",
              "      <td>0.0</td>\n",
              "      <td>0.0</td>\n",
              "      <td>0.0</td>\n",
              "    </tr>\n",
              "    <tr>\n",
              "      <th>30490001</th>\n",
              "      <td>14380</td>\n",
              "      <td>1438</td>\n",
              "      <td>3</td>\n",
              "      <td>1</td>\n",
              "      <td>0</td>\n",
              "      <td>0</td>\n",
              "      <td>1001</td>\n",
              "      <td>0</td>\n",
              "      <td>11339</td>\n",
              "      <td>7</td>\n",
              "      <td>10</td>\n",
              "      <td>2013</td>\n",
              "      <td>-1</td>\n",
              "      <td>-1</td>\n",
              "      <td>-1</td>\n",
              "      <td>-1</td>\n",
              "      <td>0</td>\n",
              "      <td>0</td>\n",
              "      <td>0</td>\n",
              "      <td>3.970703</td>\n",
              "      <td>2.0</td>\n",
              "      <td>0.0</td>\n",
              "      <td>0.0</td>\n",
              "      <td>0.0</td>\n",
              "      <td>1.0</td>\n",
              "      <td>1.0</td>\n",
              "      <td>1.0</td>\n",
              "      <td>0.0</td>\n",
              "      <td>0.0</td>\n",
              "      <td>0.0</td>\n",
              "      <td>0.0</td>\n",
              "      <td>0.0</td>\n",
              "    </tr>\n",
              "  </tbody>\n",
              "</table>\n",
              "</div>"
            ],
            "text/plain": [
              "             id  item_id  ...  rolling_median_28  rolling_median_56\n",
              "30490000  14370     1437  ...                0.0                0.0\n",
              "30490001  14380     1438  ...                0.0                0.0\n",
              "\n",
              "[2 rows x 32 columns]"
            ]
          },
          "metadata": {
            "tags": []
          },
          "execution_count": 28
        }
      ]
    },
    {
      "cell_type": "code",
      "metadata": {
        "colab": {
          "base_uri": "https://localhost:8080/"
        },
        "id": "P-bMzXA99vqg",
        "outputId": "442b3752-0e40-40a8-8d2c-e27ac20b2f19"
      },
      "source": [
        "data.isna().sum().sum()"
      ],
      "execution_count": null,
      "outputs": [
        {
          "output_type": "execute_result",
          "data": {
            "text/plain": [
              "0"
            ]
          },
          "metadata": {
            "tags": []
          },
          "execution_count": 20
        }
      ]
    },
    {
      "cell_type": "code",
      "metadata": {
        "id": "_ySJs9AH9xLw"
      },
      "source": [
        "data.to_pickle('new.pkl')"
      ],
      "execution_count": null,
      "outputs": []
    }
  ]
}