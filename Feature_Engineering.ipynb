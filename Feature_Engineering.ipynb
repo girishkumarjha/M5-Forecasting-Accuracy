{
  "nbformat": 4,
  "nbformat_minor": 0,
  "metadata": {
    "colab": {
      "name": "Feature_Engineering",
      "provenance": [],
      "collapsed_sections": [
        "j2Ed9kj2myLI"
      ],
      "machine_shape": "hm",
      "include_colab_link": true
    },
    "kernelspec": {
      "name": "python3",
      "display_name": "Python 3"
    },
    "accelerator": "GPU"
  },
  "cells": [
    {
      "cell_type": "markdown",
      "metadata": {
        "id": "view-in-github",
        "colab_type": "text"
      },
      "source": [
        "<a href=\"https://colab.research.google.com/github/vence-andersen/M5-Forecasting-Accuracy/blob/main/Feature_Engineering.ipynb\" target=\"_parent\"><img src=\"https://colab.research.google.com/assets/colab-badge.svg\" alt=\"Open In Colab\"/></a>"
      ]
    },
    {
      "cell_type": "markdown",
      "metadata": {
        "id": "j2Ed9kj2myLI"
      },
      "source": [
        "# **Removables**"
      ]
    },
    {
      "cell_type": "code",
      "metadata": {
        "id": "uR3WtgwOsEVQ",
        "colab": {
          "base_uri": "https://localhost:8080/"
        },
        "outputId": "5127fdb7-5dc9-476d-d6d7-51d14204b2f6"
      },
      "source": [
        "! git clone --recursive https://github.com/Microsoft/LightGBM"
      ],
      "execution_count": null,
      "outputs": [
        {
          "output_type": "stream",
          "text": [
            "Cloning into 'LightGBM'...\n",
            "remote: Enumerating objects: 45, done.\u001b[K\n",
            "remote: Counting objects: 100% (45/45), done.\u001b[K\n",
            "remote: Compressing objects: 100% (29/29), done.\u001b[K\n",
            "remote: Total 20782 (delta 24), reused 29 (delta 14), pack-reused 20737\u001b[K\n",
            "Receiving objects: 100% (20782/20782), 16.58 MiB | 7.52 MiB/s, done.\n",
            "Resolving deltas: 100% (15168/15168), done.\n",
            "Submodule 'include/boost/compute' (https://github.com/boostorg/compute) registered for path 'compute'\n",
            "Submodule 'eigen' (https://gitlab.com/libeigen/eigen.git) registered for path 'eigen'\n",
            "Submodule 'external_libs/fast_double_parser' (https://github.com/lemire/fast_double_parser.git) registered for path 'external_libs/fast_double_parser'\n",
            "Submodule 'external_libs/fmt' (https://github.com/fmtlib/fmt.git) registered for path 'external_libs/fmt'\n",
            "Cloning into '/content/LightGBM/compute'...\n",
            "remote: Enumerating objects: 21728, done.        \n",
            "remote: Total 21728 (delta 0), reused 0 (delta 0), pack-reused 21728        \n",
            "Receiving objects: 100% (21728/21728), 8.51 MiB | 5.80 MiB/s, done.\n",
            "Resolving deltas: 100% (17566/17566), done.\n",
            "Cloning into '/content/LightGBM/eigen'...\n",
            "remote: Enumerating objects: 608, done.        \n",
            "remote: Counting objects: 100% (608/608), done.        \n",
            "remote: Compressing objects: 100% (270/270), done.        \n",
            "remote: Total 107908 (delta 410), reused 522 (delta 333), pack-reused 107300\n",
            "Receiving objects: 100% (107908/107908), 102.11 MiB | 15.01 MiB/s, done.\n",
            "Resolving deltas: 100% (88251/88251), done.\n",
            "Cloning into '/content/LightGBM/external_libs/fast_double_parser'...\n",
            "remote: Enumerating objects: 150, done.        \n",
            "remote: Counting objects: 100% (150/150), done.        \n",
            "remote: Compressing objects: 100% (93/93), done.        \n",
            "remote: Total 650 (delta 72), reused 84 (delta 33), pack-reused 500        \n",
            "Receiving objects: 100% (650/650), 793.70 KiB | 1.10 MiB/s, done.\n",
            "Resolving deltas: 100% (326/326), done.\n",
            "Cloning into '/content/LightGBM/external_libs/fmt'...\n",
            "remote: Enumerating objects: 6, done.        \n",
            "remote: Counting objects: 100% (6/6), done.        \n",
            "remote: Compressing objects: 100% (4/4), done.        \n",
            "remote: Total 24367 (delta 2), reused 5 (delta 2), pack-reused 24361        \n",
            "Receiving objects: 100% (24367/24367), 11.98 MiB | 7.09 MiB/s, done.\n",
            "Resolving deltas: 100% (16510/16510), done.\n",
            "Submodule path 'compute': checked out '36c89134d4013b2e5e45bc55656a18bd6141995a'\n",
            "Submodule path 'eigen': checked out '8ba1b0f41a7950dc3e1d4ed75859e36c73311235'\n",
            "Submodule path 'external_libs/fast_double_parser': checked out 'ace60646c02dc54c57f19d644e49a61e7e7758ec'\n",
            "Submodule 'benchmark/dependencies/abseil-cpp' (https://github.com/abseil/abseil-cpp.git) registered for path 'external_libs/fast_double_parser/benchmarks/dependencies/abseil-cpp'\n",
            "Submodule 'benchmark/dependencies/double-conversion' (https://github.com/google/double-conversion.git) registered for path 'external_libs/fast_double_parser/benchmarks/dependencies/double-conversion'\n",
            "Cloning into '/content/LightGBM/external_libs/fast_double_parser/benchmarks/dependencies/abseil-cpp'...\n",
            "remote: Enumerating objects: 45, done.        \n",
            "remote: Counting objects: 100% (45/45), done.        \n",
            "remote: Compressing objects: 100% (44/44), done.        \n",
            "remote: Total 13616 (delta 12), reused 33 (delta 0), pack-reused 13571        \n",
            "Receiving objects: 100% (13616/13616), 8.85 MiB | 6.15 MiB/s, done.\n",
            "Resolving deltas: 100% (10332/10332), done.\n",
            "Cloning into '/content/LightGBM/external_libs/fast_double_parser/benchmarks/dependencies/double-conversion'...\n",
            "remote: Enumerating objects: 8, done.        \n",
            "remote: Counting objects: 100% (8/8), done.        \n",
            "remote: Compressing objects: 100% (6/6), done.        \n",
            "remote: Total 1164 (delta 2), reused 4 (delta 2), pack-reused 1156        \n",
            "Receiving objects: 100% (1164/1164), 7.01 MiB | 4.95 MiB/s, done.\n",
            "Resolving deltas: 100% (774/774), done.\n",
            "Submodule path 'external_libs/fast_double_parser/benchmarks/dependencies/abseil-cpp': checked out 'd936052d32a5b7ca08b0199a6724724aea432309'\n",
            "Submodule path 'external_libs/fast_double_parser/benchmarks/dependencies/double-conversion': checked out 'f4cb2384efa55dee0e6652f8674b05763441ab09'\n",
            "Submodule path 'external_libs/fmt': checked out 'cc09f1a6798c085c325569ef466bcdcffdc266d4'\n"
          ],
          "name": "stdout"
        }
      ]
    },
    {
      "cell_type": "code",
      "metadata": {
        "id": "l0OqKQ3f2CL0",
        "colab": {
          "base_uri": "https://localhost:8080/"
        },
        "outputId": "e9a2ad23-bebb-4b3a-b659-09035c7fe225"
      },
      "source": [
        "!cd LightGBM && rm -rf build && mkdir build && cd build && cmake -DUSE_GPU=1 ../../LightGBM && make -j4 && cd ../python-package && python3 setup.py install --precompile --gpu;"
      ],
      "execution_count": null,
      "outputs": [
        {
          "output_type": "stream",
          "text": [
            "-- The C compiler identification is GNU 7.5.0\n",
            "-- The CXX compiler identification is GNU 7.5.0\n",
            "-- Check for working C compiler: /usr/bin/cc\n",
            "-- Check for working C compiler: /usr/bin/cc -- works\n",
            "-- Detecting C compiler ABI info\n",
            "-- Detecting C compiler ABI info - done\n",
            "-- Detecting C compile features\n",
            "-- Detecting C compile features - done\n",
            "-- Check for working CXX compiler: /usr/bin/c++\n",
            "-- Check for working CXX compiler: /usr/bin/c++ -- works\n",
            "-- Detecting CXX compiler ABI info\n",
            "-- Detecting CXX compiler ABI info - done\n",
            "-- Detecting CXX compile features\n",
            "-- Detecting CXX compile features - done\n",
            "-- Found OpenMP_C: -fopenmp (found version \"4.5\") \n",
            "-- Found OpenMP_CXX: -fopenmp (found version \"4.5\") \n",
            "-- Found OpenMP: TRUE (found version \"4.5\")  \n",
            "-- Looking for CL_VERSION_2_2\n",
            "-- Looking for CL_VERSION_2_2 - found\n",
            "-- Found OpenCL: /usr/lib/x86_64-linux-gnu/libOpenCL.so (found version \"2.2\") \n",
            "-- OpenCL include directory: /usr/include\n",
            "-- Boost version: 1.65.1\n",
            "-- Found the following Boost libraries:\n",
            "--   filesystem\n",
            "--   system\n",
            "-- Performing Test MM_PREFETCH\n",
            "-- Performing Test MM_PREFETCH - Success\n",
            "-- Using _mm_prefetch\n",
            "-- Performing Test MM_MALLOC\n",
            "-- Performing Test MM_MALLOC - Success\n",
            "-- Using _mm_malloc\n",
            "-- Configuring done\n",
            "-- Generating done\n",
            "-- Build files have been written to: /content/LightGBM/build\n",
            "\u001b[35m\u001b[1mScanning dependencies of target _lightgbm\u001b[0m\n",
            "\u001b[35m\u001b[1mScanning dependencies of target lightgbm\u001b[0m\n",
            "[  1%] \u001b[32mBuilding CXX object CMakeFiles/lightgbm.dir/src/main.cpp.o\u001b[0m\n",
            "[  2%] \u001b[32mBuilding CXX object CMakeFiles/_lightgbm.dir/src/boosting/boosting.cpp.o\u001b[0m\n",
            "[  4%] \u001b[32mBuilding CXX object CMakeFiles/lightgbm.dir/src/application/application.cpp.o\u001b[0m\n",
            "[  5%] \u001b[32mBuilding CXX object CMakeFiles/_lightgbm.dir/src/boosting/gbdt.cpp.o\u001b[0m\n",
            "[  7%] \u001b[32mBuilding CXX object CMakeFiles/_lightgbm.dir/src/boosting/gbdt_model_text.cpp.o\u001b[0m\n",
            "[  8%] \u001b[32mBuilding CXX object CMakeFiles/lightgbm.dir/src/boosting/boosting.cpp.o\u001b[0m\n",
            "[ 10%] \u001b[32mBuilding CXX object CMakeFiles/_lightgbm.dir/src/boosting/gbdt_prediction.cpp.o\u001b[0m\n",
            "[ 11%] \u001b[32mBuilding CXX object CMakeFiles/_lightgbm.dir/src/boosting/prediction_early_stop.cpp.o\u001b[0m\n",
            "[ 13%] \u001b[32mBuilding CXX object CMakeFiles/_lightgbm.dir/src/io/bin.cpp.o\u001b[0m\n",
            "[ 14%] \u001b[32mBuilding CXX object CMakeFiles/_lightgbm.dir/src/io/config.cpp.o\u001b[0m\n",
            "[ 15%] \u001b[32mBuilding CXX object CMakeFiles/_lightgbm.dir/src/io/config_auto.cpp.o\u001b[0m\n",
            "[ 17%] \u001b[32mBuilding CXX object CMakeFiles/lightgbm.dir/src/boosting/gbdt.cpp.o\u001b[0m\n",
            "[ 18%] \u001b[32mBuilding CXX object CMakeFiles/lightgbm.dir/src/boosting/gbdt_model_text.cpp.o\u001b[0m\n",
            "[ 20%] \u001b[32mBuilding CXX object CMakeFiles/_lightgbm.dir/src/io/dataset.cpp.o\u001b[0m\n",
            "[ 21%] \u001b[32mBuilding CXX object CMakeFiles/lightgbm.dir/src/boosting/gbdt_prediction.cpp.o\u001b[0m\n",
            "[ 23%] \u001b[32mBuilding CXX object CMakeFiles/lightgbm.dir/src/boosting/prediction_early_stop.cpp.o\u001b[0m\n",
            "[ 24%] \u001b[32mBuilding CXX object CMakeFiles/lightgbm.dir/src/io/bin.cpp.o\u001b[0m\n",
            "[ 26%] \u001b[32mBuilding CXX object CMakeFiles/lightgbm.dir/src/io/config.cpp.o\u001b[0m\n",
            "[ 27%] \u001b[32mBuilding CXX object CMakeFiles/_lightgbm.dir/src/io/dataset_loader.cpp.o\u001b[0m\n",
            "[ 28%] \u001b[32mBuilding CXX object CMakeFiles/lightgbm.dir/src/io/config_auto.cpp.o\u001b[0m\n",
            "[ 30%] \u001b[32mBuilding CXX object CMakeFiles/_lightgbm.dir/src/io/file_io.cpp.o\u001b[0m\n",
            "[ 31%] \u001b[32mBuilding CXX object CMakeFiles/_lightgbm.dir/src/io/json11.cpp.o\u001b[0m\n",
            "[ 33%] \u001b[32mBuilding CXX object CMakeFiles/_lightgbm.dir/src/io/metadata.cpp.o\u001b[0m\n",
            "[ 34%] \u001b[32mBuilding CXX object CMakeFiles/_lightgbm.dir/src/io/parser.cpp.o\u001b[0m\n",
            "[ 36%] \u001b[32mBuilding CXX object CMakeFiles/lightgbm.dir/src/io/dataset.cpp.o\u001b[0m\n",
            "[ 37%] \u001b[32mBuilding CXX object CMakeFiles/_lightgbm.dir/src/io/train_share_states.cpp.o\u001b[0m\n",
            "[ 39%] \u001b[32mBuilding CXX object CMakeFiles/_lightgbm.dir/src/io/tree.cpp.o\u001b[0m\n",
            "[ 40%] \u001b[32mBuilding CXX object CMakeFiles/_lightgbm.dir/src/metric/dcg_calculator.cpp.o\u001b[0m\n",
            "[ 42%] \u001b[32mBuilding CXX object CMakeFiles/_lightgbm.dir/src/metric/metric.cpp.o\u001b[0m\n",
            "[ 43%] \u001b[32mBuilding CXX object CMakeFiles/lightgbm.dir/src/io/dataset_loader.cpp.o\u001b[0m\n",
            "[ 44%] \u001b[32mBuilding CXX object CMakeFiles/lightgbm.dir/src/io/file_io.cpp.o\u001b[0m\n",
            "[ 46%] \u001b[32mBuilding CXX object CMakeFiles/lightgbm.dir/src/io/json11.cpp.o\u001b[0m\n",
            "[ 47%] \u001b[32mBuilding CXX object CMakeFiles/lightgbm.dir/src/io/metadata.cpp.o\u001b[0m\n",
            "[ 49%] \u001b[32mBuilding CXX object CMakeFiles/_lightgbm.dir/src/network/ifaddrs_patch.cpp.o\u001b[0m\n",
            "[ 50%] \u001b[32mBuilding CXX object CMakeFiles/lightgbm.dir/src/io/parser.cpp.o\u001b[0m\n",
            "[ 52%] \u001b[32mBuilding CXX object CMakeFiles/lightgbm.dir/src/io/train_share_states.cpp.o\u001b[0m\n",
            "[ 53%] \u001b[32mBuilding CXX object CMakeFiles/lightgbm.dir/src/io/tree.cpp.o\u001b[0m\n",
            "[ 55%] \u001b[32mBuilding CXX object CMakeFiles/lightgbm.dir/src/metric/dcg_calculator.cpp.o\u001b[0m\n",
            "[ 56%] \u001b[32mBuilding CXX object CMakeFiles/_lightgbm.dir/src/network/linker_topo.cpp.o\u001b[0m\n",
            "[ 57%] \u001b[32mBuilding CXX object CMakeFiles/lightgbm.dir/src/metric/metric.cpp.o\u001b[0m\n",
            "[ 59%] \u001b[32mBuilding CXX object CMakeFiles/_lightgbm.dir/src/network/linkers_mpi.cpp.o\u001b[0m\n",
            "[ 60%] \u001b[32mBuilding CXX object CMakeFiles/_lightgbm.dir/src/network/linkers_socket.cpp.o\u001b[0m\n",
            "[ 62%] \u001b[32mBuilding CXX object CMakeFiles/lightgbm.dir/src/network/ifaddrs_patch.cpp.o\u001b[0m\n",
            "[ 63%] \u001b[32mBuilding CXX object CMakeFiles/lightgbm.dir/src/network/linker_topo.cpp.o\u001b[0m\n",
            "[ 65%] \u001b[32mBuilding CXX object CMakeFiles/lightgbm.dir/src/network/linkers_mpi.cpp.o\u001b[0m\n",
            "[ 66%] \u001b[32mBuilding CXX object CMakeFiles/lightgbm.dir/src/network/linkers_socket.cpp.o\u001b[0m\n",
            "[ 68%] \u001b[32mBuilding CXX object CMakeFiles/_lightgbm.dir/src/network/network.cpp.o\u001b[0m\n",
            "[ 69%] \u001b[32mBuilding CXX object CMakeFiles/_lightgbm.dir/src/objective/objective_function.cpp.o\u001b[0m\n",
            "[ 71%] \u001b[32mBuilding CXX object CMakeFiles/lightgbm.dir/src/network/network.cpp.o\u001b[0m\n",
            "[ 72%] \u001b[32mBuilding CXX object CMakeFiles/lightgbm.dir/src/objective/objective_function.cpp.o\u001b[0m\n",
            "[ 73%] \u001b[32mBuilding CXX object CMakeFiles/lightgbm.dir/src/treelearner/cuda_tree_learner.cpp.o\u001b[0m\n",
            "[ 75%] \u001b[32mBuilding CXX object CMakeFiles/lightgbm.dir/src/treelearner/data_parallel_tree_learner.cpp.o\u001b[0m\n",
            "[ 76%] \u001b[32mBuilding CXX object CMakeFiles/lightgbm.dir/src/treelearner/feature_parallel_tree_learner.cpp.o\u001b[0m\n",
            "[ 78%] \u001b[32mBuilding CXX object CMakeFiles/_lightgbm.dir/src/treelearner/cuda_tree_learner.cpp.o\u001b[0m\n",
            "[ 79%] \u001b[32mBuilding CXX object CMakeFiles/_lightgbm.dir/src/treelearner/data_parallel_tree_learner.cpp.o\u001b[0m\n",
            "[ 81%] \u001b[32mBuilding CXX object CMakeFiles/lightgbm.dir/src/treelearner/gpu_tree_learner.cpp.o\u001b[0m\n",
            "[ 82%] \u001b[32mBuilding CXX object CMakeFiles/lightgbm.dir/src/treelearner/linear_tree_learner.cpp.o\u001b[0m\n",
            "[ 84%] \u001b[32mBuilding CXX object CMakeFiles/lightgbm.dir/src/treelearner/serial_tree_learner.cpp.o\u001b[0m\n",
            "[ 85%] \u001b[32mBuilding CXX object CMakeFiles/_lightgbm.dir/src/treelearner/feature_parallel_tree_learner.cpp.o\u001b[0m\n",
            "[ 86%] \u001b[32mBuilding CXX object CMakeFiles/lightgbm.dir/src/treelearner/tree_learner.cpp.o\u001b[0m\n",
            "[ 88%] \u001b[32mBuilding CXX object CMakeFiles/lightgbm.dir/src/treelearner/voting_parallel_tree_learner.cpp.o\u001b[0m\n",
            "[ 89%] \u001b[32mBuilding CXX object CMakeFiles/_lightgbm.dir/src/treelearner/gpu_tree_learner.cpp.o\u001b[0m\n",
            "[ 91%] \u001b[32mBuilding CXX object CMakeFiles/_lightgbm.dir/src/treelearner/linear_tree_learner.cpp.o\u001b[0m\n",
            "[ 92%] \u001b[32mBuilding CXX object CMakeFiles/_lightgbm.dir/src/treelearner/serial_tree_learner.cpp.o\u001b[0m\n",
            "[ 94%] \u001b[32mBuilding CXX object CMakeFiles/_lightgbm.dir/src/treelearner/tree_learner.cpp.o\u001b[0m\n",
            "[ 95%] \u001b[32mBuilding CXX object CMakeFiles/_lightgbm.dir/src/treelearner/voting_parallel_tree_learner.cpp.o\u001b[0m\n",
            "[ 97%] \u001b[32mBuilding CXX object CMakeFiles/_lightgbm.dir/src/c_api.cpp.o\u001b[0m\n",
            "[ 98%] \u001b[32m\u001b[1mLinking CXX executable ../lightgbm\u001b[0m\n",
            "[ 98%] Built target lightgbm\n",
            "[100%] \u001b[32m\u001b[1mLinking CXX shared library ../lib_lightgbm.so\u001b[0m\n",
            "[100%] Built target _lightgbm\n",
            "running install\n",
            "running build\n",
            "running build_py\n",
            "INFO:root:Generating grammar tables from /usr/lib/python3.6/lib2to3/Grammar.txt\n",
            "INFO:root:Generating grammar tables from /usr/lib/python3.6/lib2to3/PatternGrammar.txt\n",
            "creating build\n",
            "creating build/lib\n",
            "creating build/lib/lightgbm\n",
            "copying lightgbm/engine.py -> build/lib/lightgbm\n",
            "copying lightgbm/plotting.py -> build/lib/lightgbm\n",
            "copying lightgbm/dask.py -> build/lib/lightgbm\n",
            "copying lightgbm/sklearn.py -> build/lib/lightgbm\n",
            "copying lightgbm/basic.py -> build/lib/lightgbm\n",
            "copying lightgbm/compat.py -> build/lib/lightgbm\n",
            "copying lightgbm/callback.py -> build/lib/lightgbm\n",
            "copying lightgbm/libpath.py -> build/lib/lightgbm\n",
            "copying lightgbm/__init__.py -> build/lib/lightgbm\n",
            "running egg_info\n",
            "creating lightgbm.egg-info\n",
            "writing lightgbm.egg-info/PKG-INFO\n",
            "writing dependency_links to lightgbm.egg-info/dependency_links.txt\n",
            "writing requirements to lightgbm.egg-info/requires.txt\n",
            "writing top-level names to lightgbm.egg-info/top_level.txt\n",
            "writing manifest file 'lightgbm.egg-info/SOURCES.txt'\n",
            "reading manifest template 'MANIFEST.in'\n",
            "no previously-included directories found matching 'build'\n",
            "warning: no files found matching 'LICENSE'\n",
            "warning: no files found matching '*.txt'\n",
            "warning: no files found matching '*.so' under directory 'lightgbm'\n",
            "warning: no files found matching 'compile/CMakeLists.txt'\n",
            "warning: no files found matching 'compile/CMakeIntegratedOpenCL.cmake'\n",
            "warning: no files found matching '*.so' under directory 'compile'\n",
            "warning: no files found matching '*.dll' under directory 'compile/Release'\n",
            "warning: no files found matching 'compile/compute/CMakeLists.txt'\n",
            "warning: no files found matching '*' under directory 'compile/compute/cmake'\n",
            "warning: no files found matching '*' under directory 'compile/compute/include'\n",
            "warning: no files found matching '*' under directory 'compile/compute/meta'\n",
            "warning: no files found matching 'compile/eigen/CMakeLists.txt'\n",
            "warning: no files found matching 'compile/eigen/Eigen/Cholesky'\n",
            "warning: no files found matching 'compile/eigen/Eigen/Core'\n",
            "warning: no files found matching 'compile/eigen/Eigen/Dense'\n",
            "warning: no files found matching 'compile/eigen/Eigen/Eigenvalues'\n",
            "warning: no files found matching 'compile/eigen/Eigen/Geometry'\n",
            "warning: no files found matching 'compile/eigen/Eigen/Householder'\n",
            "warning: no files found matching 'compile/eigen/Eigen/Jacobi'\n",
            "warning: no files found matching 'compile/eigen/Eigen/LU'\n",
            "warning: no files found matching 'compile/eigen/Eigen/QR'\n",
            "warning: no files found matching 'compile/eigen/Eigen/SVD'\n",
            "warning: no files found matching '*' under directory 'compile/eigen/Eigen/src/Cholesky'\n",
            "warning: no files found matching '*' under directory 'compile/eigen/Eigen/src/Core'\n",
            "warning: no files found matching '*' under directory 'compile/eigen/Eigen/src/Eigenvalues'\n",
            "warning: no files found matching '*' under directory 'compile/eigen/Eigen/src/Geometry'\n",
            "warning: no files found matching '*' under directory 'compile/eigen/Eigen/src/Householder'\n",
            "warning: no files found matching '*' under directory 'compile/eigen/Eigen/src/Jacobi'\n",
            "warning: no files found matching '*' under directory 'compile/eigen/Eigen/src/LU'\n",
            "warning: no files found matching '*' under directory 'compile/eigen/Eigen/src/misc'\n",
            "warning: no files found matching '*' under directory 'compile/eigen/Eigen/src/plugins'\n",
            "warning: no files found matching '*' under directory 'compile/eigen/Eigen/src/QR'\n",
            "warning: no files found matching '*' under directory 'compile/eigen/Eigen/src/SVD'\n",
            "warning: no files found matching 'compile/external_libs/fast_double_parser/CMakeLists.txt'\n",
            "warning: no files found matching 'compile/external_libs/fast_double_parser/LICENSE'\n",
            "warning: no files found matching 'compile/external_libs/fast_double_parser/LICENSE.BSL'\n",
            "warning: no files found matching '*' under directory 'compile/external_libs/fast_double_parser/include'\n",
            "warning: no files found matching 'compile/external_libs/fmt/CMakeLists.txt'\n",
            "warning: no files found matching 'compile/external_libs/fmt/LICENSE.rst'\n",
            "warning: no files found matching '*' under directory 'compile/external_libs/fmt/include'\n",
            "warning: no files found matching '*' under directory 'compile/include'\n",
            "warning: no files found matching '*' under directory 'compile/src'\n",
            "warning: no files found matching 'LightGBM.sln' under directory 'compile/windows'\n",
            "warning: no files found matching 'LightGBM.vcxproj' under directory 'compile/windows'\n",
            "warning: no files found matching '*.dll' under directory 'compile/windows/x64/DLL'\n",
            "warning: no previously-included files matching '*.py[co]' found anywhere in distribution\n",
            "warning: no previously-included files found matching 'compile/compute/.git'\n",
            "writing manifest file 'lightgbm.egg-info/SOURCES.txt'\n",
            "copying lightgbm/VERSION.txt -> build/lib/lightgbm\n",
            "running install_lib\n",
            "copying build/lib/lightgbm/engine.py -> /usr/local/lib/python3.6/dist-packages/lightgbm\n",
            "copying build/lib/lightgbm/plotting.py -> /usr/local/lib/python3.6/dist-packages/lightgbm\n",
            "copying build/lib/lightgbm/dask.py -> /usr/local/lib/python3.6/dist-packages/lightgbm\n",
            "copying build/lib/lightgbm/sklearn.py -> /usr/local/lib/python3.6/dist-packages/lightgbm\n",
            "copying build/lib/lightgbm/basic.py -> /usr/local/lib/python3.6/dist-packages/lightgbm\n",
            "copying build/lib/lightgbm/compat.py -> /usr/local/lib/python3.6/dist-packages/lightgbm\n",
            "copying build/lib/lightgbm/VERSION.txt -> /usr/local/lib/python3.6/dist-packages/lightgbm\n",
            "copying build/lib/lightgbm/callback.py -> /usr/local/lib/python3.6/dist-packages/lightgbm\n",
            "copying build/lib/lightgbm/libpath.py -> /usr/local/lib/python3.6/dist-packages/lightgbm\n",
            "copying build/lib/lightgbm/__init__.py -> /usr/local/lib/python3.6/dist-packages/lightgbm\n",
            "INFO:LightGBM:Installing lib_lightgbm from: ['../lib_lightgbm.so']\n",
            "copying ../lib_lightgbm.so -> /usr/local/lib/python3.6/dist-packages/lightgbm\n",
            "byte-compiling /usr/local/lib/python3.6/dist-packages/lightgbm/engine.py to engine.cpython-36.pyc\n",
            "byte-compiling /usr/local/lib/python3.6/dist-packages/lightgbm/plotting.py to plotting.cpython-36.pyc\n",
            "byte-compiling /usr/local/lib/python3.6/dist-packages/lightgbm/dask.py to dask.cpython-36.pyc\n",
            "byte-compiling /usr/local/lib/python3.6/dist-packages/lightgbm/sklearn.py to sklearn.cpython-36.pyc\n",
            "byte-compiling /usr/local/lib/python3.6/dist-packages/lightgbm/basic.py to basic.cpython-36.pyc\n",
            "byte-compiling /usr/local/lib/python3.6/dist-packages/lightgbm/compat.py to compat.cpython-36.pyc\n",
            "byte-compiling /usr/local/lib/python3.6/dist-packages/lightgbm/callback.py to callback.cpython-36.pyc\n",
            "byte-compiling /usr/local/lib/python3.6/dist-packages/lightgbm/libpath.py to libpath.cpython-36.pyc\n",
            "byte-compiling /usr/local/lib/python3.6/dist-packages/lightgbm/__init__.py to __init__.cpython-36.pyc\n",
            "running install_egg_info\n",
            "Copying lightgbm.egg-info to /usr/local/lib/python3.6/dist-packages/lightgbm-3.1.1.99-py3.6.egg-info\n",
            "running install_scripts\n"
          ],
          "name": "stdout"
        }
      ]
    },
    {
      "cell_type": "code",
      "metadata": {
        "colab": {
          "resources": {
            "http://localhost:8080/nbextensions/google.colab/files.js": {
              "data": "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",
              "ok": true,
              "headers": [
                [
                  "content-type",
                  "application/javascript"
                ]
              ],
              "status": 200,
              "status_text": ""
            }
          },
          "base_uri": "https://localhost:8080/",
          "height": 90
        },
        "id": "GrOf51thfW6n",
        "outputId": "e78ca86f-59ac-4dcd-9d32-8869c6c90b0b"
      },
      "source": [
        "from google.colab import files\r\n",
        "files.upload()"
      ],
      "execution_count": null,
      "outputs": [
        {
          "output_type": "display_data",
          "data": {
            "text/html": [
              "\n",
              "     <input type=\"file\" id=\"files-7cdfac9e-c997-4fe9-a7da-1fa49a8d6dc6\" name=\"files[]\" multiple disabled\n",
              "        style=\"border:none\" />\n",
              "     <output id=\"result-7cdfac9e-c997-4fe9-a7da-1fa49a8d6dc6\">\n",
              "      Upload widget is only available when the cell has been executed in the\n",
              "      current browser session. Please rerun this cell to enable.\n",
              "      </output>\n",
              "      <script src=\"/nbextensions/google.colab/files.js\"></script> "
            ],
            "text/plain": [
              "<IPython.core.display.HTML object>"
            ]
          },
          "metadata": {
            "tags": []
          }
        },
        {
          "output_type": "stream",
          "text": [
            "Saving kaggle.json to kaggle.json\n"
          ],
          "name": "stdout"
        },
        {
          "output_type": "execute_result",
          "data": {
            "text/plain": [
              "{'kaggle.json': b'{\"username\":\"grahamfernando\",\"key\":\"cffa546ccec7808cfc8cec9944ed384a\"}'}"
            ]
          },
          "metadata": {
            "tags": []
          },
          "execution_count": 3
        }
      ]
    },
    {
      "cell_type": "code",
      "metadata": {
        "id": "f2q80j49faNw"
      },
      "source": [
        "!mkdir -p ~/.kaggle\r\n",
        "!cp kaggle.json ~/.kaggle/\r\n",
        "!chmod 600 ~/.kaggle/kaggle.json"
      ],
      "execution_count": null,
      "outputs": []
    },
    {
      "cell_type": "code",
      "metadata": {
        "colab": {
          "base_uri": "https://localhost:8080/"
        },
        "id": "URuAXY2dfch0",
        "outputId": "f533ca59-4cf2-4914-864c-fc3a03247c25"
      },
      "source": [
        "! kaggle competitions download -c m5-forecasting-accuracy"
      ],
      "execution_count": null,
      "outputs": [
        {
          "output_type": "stream",
          "text": [
            "Warning: Looks like you're using an outdated API Version, please consider updating (server 1.5.10 / client 1.5.4)\n",
            "Downloading sample_submission.csv.zip to /content\n",
            "  0% 0.00/163k [00:00<?, ?B/s]\n",
            "100% 163k/163k [00:00<00:00, 60.3MB/s]\n",
            "Downloading calendar.csv to /content\n",
            "  0% 0.00/101k [00:00<?, ?B/s]\n",
            "100% 101k/101k [00:00<00:00, 106MB/s]\n",
            "Downloading sales_train_validation.csv.zip to /content\n",
            " 32% 5.00M/15.5M [00:01<00:03, 3.64MB/s]\n",
            "100% 15.5M/15.5M [00:01<00:00, 10.7MB/s]\n",
            "Downloading sales_train_evaluation.csv.zip to /content\n",
            " 57% 9.00M/15.8M [00:00<00:00, 15.1MB/s]\n",
            "100% 15.8M/15.8M [00:00<00:00, 27.0MB/s]\n",
            "Downloading sell_prices.csv.zip to /content\n",
            " 63% 9.00M/14.2M [00:00<00:00, 18.9MB/s]\n",
            "100% 14.2M/14.2M [00:00<00:00, 29.0MB/s]\n"
          ],
          "name": "stdout"
        }
      ]
    },
    {
      "cell_type": "code",
      "metadata": {
        "colab": {
          "base_uri": "https://localhost:8080/"
        },
        "id": "4t9XVvmqfe0V",
        "outputId": "fe64497e-32ea-44b8-ef01-953beb5c9021"
      },
      "source": [
        "!unzip sales_train_evaluation.csv.zip\r\n",
        "!unzip sales_train_validation.csv.zip\r\n",
        "!unzip sample_submission.csv.zip\r\n",
        "!unzip sell_prices.csv.zip"
      ],
      "execution_count": null,
      "outputs": [
        {
          "output_type": "stream",
          "text": [
            "Archive:  sales_train_evaluation.csv.zip\n",
            "  inflating: sales_train_evaluation.csv  \n",
            "Archive:  sales_train_validation.csv.zip\n",
            "  inflating: sales_train_validation.csv  \n",
            "Archive:  sample_submission.csv.zip\n",
            "  inflating: sample_submission.csv   \n",
            "Archive:  sell_prices.csv.zip\n",
            "  inflating: sell_prices.csv         \n"
          ],
          "name": "stdout"
        }
      ]
    },
    {
      "cell_type": "code",
      "metadata": {
        "id": "aVp8edmU4a27",
        "colab": {
          "base_uri": "https://localhost:8080/"
        },
        "outputId": "748d192d-c6f1-4260-ac93-237e99374b98"
      },
      "source": [
        "! pip install downcast"
      ],
      "execution_count": null,
      "outputs": [
        {
          "output_type": "stream",
          "text": [
            "Collecting downcast\n",
            "  Downloading https://files.pythonhosted.org/packages/60/11/0468306ef6b191c6f53a0005f96e289494f885556a4ab80c438adc64a99f/downcast-0.0.8-py3-none-any.whl\n",
            "Installing collected packages: downcast\n",
            "Successfully installed downcast-0.0.8\n"
          ],
          "name": "stdout"
        }
      ]
    },
    {
      "cell_type": "markdown",
      "metadata": {
        "id": "XJAjFhEMnfSX"
      },
      "source": [
        "# **Importing modules required and reading the files.**"
      ]
    },
    {
      "cell_type": "code",
      "metadata": {
        "id": "QPjrGnHPddTh"
      },
      "source": [
        "import numpy as np\r\n",
        "import pandas as pd\r\n",
        "from downcast import reduce\r\n",
        "from datetime import timedelta\r\n",
        "from tqdm import tqdm\r\n",
        "import pickle\r\n",
        "# import dask.dataframe as dd\r\n",
        "from sklearn.metrics import mean_squared_error\r\n",
        "from lightgbm import LGBMRegressor, Dataset, train, plot_importance\r\n",
        "from sklearn.model_selection import GridSearchCV\r\n",
        "import gc\r\n",
        "from tqdm import tqdm\r\n",
        "import matplotlib.pyplot as plt"
      ],
      "execution_count": null,
      "outputs": []
    },
    {
      "cell_type": "code",
      "metadata": {
        "id": "YEHDzJ3jk_8F"
      },
      "source": [
        "# Using Pandas to reasd the files.\r\n",
        "\r\n",
        "sales = pd.read_csv(\"sales_train_evaluation.csv\")\r\n",
        "sell_price = pd.read_csv(\"sell_prices.csv\")\r\n",
        "cal = pd.read_csv(\"calendar.csv\")"
      ],
      "execution_count": null,
      "outputs": []
    },
    {
      "cell_type": "markdown",
      "metadata": {
        "id": "jOeSYJrPfjoz"
      },
      "source": [
        "# **Feature Engineering**"
      ]
    },
    {
      "cell_type": "code",
      "metadata": {
        "id": "BS3kEpQvk_5L"
      },
      "source": [
        "# We are creating new features required for the prediction for days from 1942 till 1969\r\n",
        "\r\n",
        "for i in range(1942, 1942+28):\r\n",
        "    sales['d_'+str(i)] = np.int8(0)"
      ],
      "execution_count": null,
      "outputs": []
    },
    {
      "cell_type": "code",
      "metadata": {
        "id": "FXUFB75Ik_2I"
      },
      "source": [
        "# To reduce the memory usage, we'll be using reduce throughout the code\r\n",
        "\r\n",
        "sales = reduce(sales)"
      ],
      "execution_count": null,
      "outputs": []
    },
    {
      "cell_type": "code",
      "metadata": {
        "id": "2oSJULNgk_zZ",
        "colab": {
          "base_uri": "https://localhost:8080/",
          "height": 123
        },
        "outputId": "68ed59a8-aef8-4970-da04-d040f1144675"
      },
      "source": [
        "# We are transforming our Time Series problem to Supervised Machine Learning Problem\r\n",
        "\r\n",
        "data = pd.melt(sales, id_vars=['id', 'item_id', 'dept_id', 'cat_id', 'store_id', 'state_id'],\r\n",
        "          var_name='day', value_name='demand').dropna()\r\n",
        "print(\"The new shape is \",data.shape)\r\n",
        "data.head(2)"
      ],
      "execution_count": null,
      "outputs": [
        {
          "output_type": "stream",
          "text": [
            "The new shape is  (60034810, 8)\n"
          ],
          "name": "stdout"
        },
        {
          "output_type": "execute_result",
          "data": {
            "text/html": [
              "<div>\n",
              "<style scoped>\n",
              "    .dataframe tbody tr th:only-of-type {\n",
              "        vertical-align: middle;\n",
              "    }\n",
              "\n",
              "    .dataframe tbody tr th {\n",
              "        vertical-align: top;\n",
              "    }\n",
              "\n",
              "    .dataframe thead th {\n",
              "        text-align: right;\n",
              "    }\n",
              "</style>\n",
              "<table border=\"1\" class=\"dataframe\">\n",
              "  <thead>\n",
              "    <tr style=\"text-align: right;\">\n",
              "      <th></th>\n",
              "      <th>id</th>\n",
              "      <th>item_id</th>\n",
              "      <th>dept_id</th>\n",
              "      <th>cat_id</th>\n",
              "      <th>store_id</th>\n",
              "      <th>state_id</th>\n",
              "      <th>day</th>\n",
              "      <th>demand</th>\n",
              "    </tr>\n",
              "  </thead>\n",
              "  <tbody>\n",
              "    <tr>\n",
              "      <th>0</th>\n",
              "      <td>HOBBIES_1_001_CA_1_evaluation</td>\n",
              "      <td>HOBBIES_1_001</td>\n",
              "      <td>HOBBIES_1</td>\n",
              "      <td>HOBBIES</td>\n",
              "      <td>CA_1</td>\n",
              "      <td>CA</td>\n",
              "      <td>d_1</td>\n",
              "      <td>0</td>\n",
              "    </tr>\n",
              "    <tr>\n",
              "      <th>1</th>\n",
              "      <td>HOBBIES_1_002_CA_1_evaluation</td>\n",
              "      <td>HOBBIES_1_002</td>\n",
              "      <td>HOBBIES_1</td>\n",
              "      <td>HOBBIES</td>\n",
              "      <td>CA_1</td>\n",
              "      <td>CA</td>\n",
              "      <td>d_1</td>\n",
              "      <td>0</td>\n",
              "    </tr>\n",
              "  </tbody>\n",
              "</table>\n",
              "</div>"
            ],
            "text/plain": [
              "                              id        item_id  ...  day demand\n",
              "0  HOBBIES_1_001_CA_1_evaluation  HOBBIES_1_001  ...  d_1      0\n",
              "1  HOBBIES_1_002_CA_1_evaluation  HOBBIES_1_002  ...  d_1      0\n",
              "\n",
              "[2 rows x 8 columns]"
            ]
          },
          "metadata": {
            "tags": []
          },
          "execution_count": 12
        }
      ]
    },
    {
      "cell_type": "code",
      "metadata": {
        "id": "RRbKhQqmk_wJ"
      },
      "source": [
        "data = reduce(data)\r\n",
        "\r\n",
        "# We are filling the places of NaN values with No_Events\r\n",
        "cal.fillna('No_Event', inplace=True)\r\n",
        "\r\n",
        "cal = reduce(cal)"
      ],
      "execution_count": null,
      "outputs": []
    },
    {
      "cell_type": "code",
      "metadata": {
        "id": "tE0lSXCPk_ns"
      },
      "source": [
        "# We are then merging the all the csv files together\r\n",
        "\r\n",
        "data = data.merge(cal, left_on='day', right_on='d')\r\n",
        "\r\n",
        "sell_price = reduce(sell_price)\r\n",
        "\r\n",
        "data = data.merge(sell_price,on=['store_id','item_id', 'wm_yr_wk'], how='left')"
      ],
      "execution_count": null,
      "outputs": []
    },
    {
      "cell_type": "code",
      "metadata": {
        "id": "a4cZzwC-k_cE",
        "colab": {
          "base_uri": "https://localhost:8080/"
        },
        "outputId": "7ded13dd-a3d6-4437-d215-060809447fea"
      },
      "source": [
        "print(f\" There are {data['sell_price'].isna().sum()} missing values in sell_price column\")"
      ],
      "execution_count": null,
      "outputs": [
        {
          "output_type": "stream",
          "text": [
            " There are 12299413 missing values in sell_price column\n"
          ],
          "name": "stdout"
        }
      ]
    },
    {
      "cell_type": "code",
      "metadata": {
        "id": "lGt0zKgUk_ZJ"
      },
      "source": [
        "# We are filling the missing places in sell_price feature with grouped id mean value.\r\n",
        "\r\n",
        "data['sell_price'].fillna(data.groupby('id')['sell_price'].transform('mean'), inplace=True)\r\n",
        "print(f\" There are {data['sell_price'].isna().sum()} missing values in sell_price column\")\r\n",
        "print(f\"There are {data.isna().sum().sum()} missing values in the data\")"
      ],
      "execution_count": null,
      "outputs": []
    },
    {
      "cell_type": "code",
      "metadata": {
        "id": "Ep6i17Ehl59x"
      },
      "source": [
        "# we are stripping the 'd_' from day column to make it an integer feature\r\n",
        "data['day'] = data['day'].str.split('_').str[1].astype(np.int16)\r\n",
        "\r\n",
        "#since weekday's are represented as wday with numbers and d is a duplicate column.\r\n",
        "data.drop(['d','weekday'], axis=1, inplace=True) \r\n",
        "\r\n",
        "# We are picking data after 500 days as from EDA we found that early period there was not much of a cycle being followed\r\n",
        "data = data[data['day'] > 500]\r\n",
        "data.head(2)"
      ],
      "execution_count": null,
      "outputs": []
    },
    {
      "cell_type": "code",
      "metadata": {
        "id": "Uv0JWY-7l5tZ"
      },
      "source": [
        "# Adding lag shift features as those are good time series feature engineering steps.\r\n",
        "\r\n",
        "lags = [1,2,3,5,7,10,14,21,30,180,365]\r\n",
        "for lag in lags:\r\n",
        "    data[\"lag_\" + str(lag)] = data.groupby(\"id\")[\"demand\"].shift(lag).astype(np.float16)"
      ],
      "execution_count": null,
      "outputs": []
    },
    {
      "cell_type": "code",
      "metadata": {
        "id": "G_WIIoLYmM7y",
        "colab": {
          "base_uri": "https://localhost:8080/"
        },
        "outputId": "a0f459de-7912-4cd0-e241-654541c56fbc"
      },
      "source": [
        "# Adding rolling window feature with mean value\r\n",
        "\r\n",
        "means = [5,7,10,14]\r\n",
        "for mns in tqdm(means):\r\n",
        "    data['rolling_mean_'+str(mns)] = data.groupby(['id'])['demand'].transform(lambda x: x.rolling(mns).mean())"
      ],
      "execution_count": null,
      "outputs": [
        {
          "output_type": "stream",
          "text": [
            "100%|██████████| 4/4 [2:15:45<00:00, 2036.32s/it]\n"
          ],
          "name": "stderr"
        }
      ]
    },
    {
      "cell_type": "code",
      "metadata": {
        "id": "OHGvsHJtDe1S"
      },
      "source": [
        "data.to_pickle('new.pkl')"
      ],
      "execution_count": null,
      "outputs": []
    },
    {
      "cell_type": "code",
      "metadata": {
        "colab": {
          "base_uri": "https://localhost:8080/"
        },
        "id": "G-81QwlhEN-U",
        "outputId": "65546c38-6e15-4b6d-c4b4-77cd6fcc98e3"
      },
      "source": [
        "from google.colab import drive\n",
        "drive.mount('/content/drive')"
      ],
      "execution_count": null,
      "outputs": [
        {
          "output_type": "stream",
          "text": [
            "Mounted at /content/drive\n"
          ],
          "name": "stdout"
        }
      ]
    },
    {
      "cell_type": "code",
      "metadata": {
        "id": "-ln7THreEV3f"
      },
      "source": [
        "# !cp new.pkl /content/drive/MyDrive"
      ],
      "execution_count": null,
      "outputs": []
    },
    {
      "cell_type": "code",
      "metadata": {
        "colab": {
          "base_uri": "https://localhost:8080/",
          "height": 160
        },
        "id": "QmSqY2HZFOp4",
        "outputId": "98597dd2-6ecf-47df-f036-25af7409ae76"
      },
      "source": [
        "data = pd.read_pickle('/content/drive/MyDrive/new.pkl')\r\n",
        "data.head(2)"
      ],
      "execution_count": null,
      "outputs": [
        {
          "output_type": "execute_result",
          "data": {
            "text/html": [
              "<div>\n",
              "<style scoped>\n",
              "    .dataframe tbody tr th:only-of-type {\n",
              "        vertical-align: middle;\n",
              "    }\n",
              "\n",
              "    .dataframe tbody tr th {\n",
              "        vertical-align: top;\n",
              "    }\n",
              "\n",
              "    .dataframe thead th {\n",
              "        text-align: right;\n",
              "    }\n",
              "</style>\n",
              "<table border=\"1\" class=\"dataframe\">\n",
              "  <thead>\n",
              "    <tr style=\"text-align: right;\">\n",
              "      <th></th>\n",
              "      <th>id</th>\n",
              "      <th>item_id</th>\n",
              "      <th>dept_id</th>\n",
              "      <th>cat_id</th>\n",
              "      <th>store_id</th>\n",
              "      <th>state_id</th>\n",
              "      <th>day</th>\n",
              "      <th>demand</th>\n",
              "      <th>date</th>\n",
              "      <th>wm_yr_wk</th>\n",
              "      <th>wday</th>\n",
              "      <th>month</th>\n",
              "      <th>year</th>\n",
              "      <th>event_name_1</th>\n",
              "      <th>event_type_1</th>\n",
              "      <th>event_name_2</th>\n",
              "      <th>event_type_2</th>\n",
              "      <th>snap_CA</th>\n",
              "      <th>snap_TX</th>\n",
              "      <th>snap_WI</th>\n",
              "      <th>sell_price</th>\n",
              "      <th>lag_1</th>\n",
              "      <th>lag_2</th>\n",
              "      <th>lag_3</th>\n",
              "      <th>lag_5</th>\n",
              "      <th>lag_7</th>\n",
              "      <th>lag_10</th>\n",
              "      <th>lag_14</th>\n",
              "      <th>lag_21</th>\n",
              "      <th>lag_30</th>\n",
              "      <th>lag_180</th>\n",
              "      <th>lag_365</th>\n",
              "      <th>rolling_mean_5</th>\n",
              "      <th>rolling_mean_7</th>\n",
              "      <th>rolling_mean_10</th>\n",
              "      <th>rolling_mean_14</th>\n",
              "    </tr>\n",
              "  </thead>\n",
              "  <tbody>\n",
              "    <tr>\n",
              "      <th>15245000</th>\n",
              "      <td>HOBBIES_1_001_CA_1_evaluation</td>\n",
              "      <td>HOBBIES_1_001</td>\n",
              "      <td>HOBBIES_1</td>\n",
              "      <td>HOBBIES</td>\n",
              "      <td>CA_1</td>\n",
              "      <td>CA</td>\n",
              "      <td>501</td>\n",
              "      <td>0</td>\n",
              "      <td>2012-06-12</td>\n",
              "      <td>11220</td>\n",
              "      <td>4</td>\n",
              "      <td>6</td>\n",
              "      <td>2012</td>\n",
              "      <td>NBAFinalsStart</td>\n",
              "      <td>Sporting</td>\n",
              "      <td>No_Event</td>\n",
              "      <td>No_Event</td>\n",
              "      <td>0</td>\n",
              "      <td>1</td>\n",
              "      <td>1</td>\n",
              "      <td>8.281250</td>\n",
              "      <td>NaN</td>\n",
              "      <td>NaN</td>\n",
              "      <td>NaN</td>\n",
              "      <td>NaN</td>\n",
              "      <td>NaN</td>\n",
              "      <td>NaN</td>\n",
              "      <td>NaN</td>\n",
              "      <td>NaN</td>\n",
              "      <td>NaN</td>\n",
              "      <td>NaN</td>\n",
              "      <td>NaN</td>\n",
              "      <td>NaN</td>\n",
              "      <td>NaN</td>\n",
              "      <td>NaN</td>\n",
              "      <td>NaN</td>\n",
              "    </tr>\n",
              "    <tr>\n",
              "      <th>15245001</th>\n",
              "      <td>HOBBIES_1_002_CA_1_evaluation</td>\n",
              "      <td>HOBBIES_1_002</td>\n",
              "      <td>HOBBIES_1</td>\n",
              "      <td>HOBBIES</td>\n",
              "      <td>CA_1</td>\n",
              "      <td>CA</td>\n",
              "      <td>501</td>\n",
              "      <td>0</td>\n",
              "      <td>2012-06-12</td>\n",
              "      <td>11220</td>\n",
              "      <td>4</td>\n",
              "      <td>6</td>\n",
              "      <td>2012</td>\n",
              "      <td>NBAFinalsStart</td>\n",
              "      <td>Sporting</td>\n",
              "      <td>No_Event</td>\n",
              "      <td>No_Event</td>\n",
              "      <td>0</td>\n",
              "      <td>1</td>\n",
              "      <td>1</td>\n",
              "      <td>3.970703</td>\n",
              "      <td>NaN</td>\n",
              "      <td>NaN</td>\n",
              "      <td>NaN</td>\n",
              "      <td>NaN</td>\n",
              "      <td>NaN</td>\n",
              "      <td>NaN</td>\n",
              "      <td>NaN</td>\n",
              "      <td>NaN</td>\n",
              "      <td>NaN</td>\n",
              "      <td>NaN</td>\n",
              "      <td>NaN</td>\n",
              "      <td>NaN</td>\n",
              "      <td>NaN</td>\n",
              "      <td>NaN</td>\n",
              "      <td>NaN</td>\n",
              "    </tr>\n",
              "  </tbody>\n",
              "</table>\n",
              "</div>"
            ],
            "text/plain": [
              "                                     id  ... rolling_mean_14\n",
              "15245000  HOBBIES_1_001_CA_1_evaluation  ...             NaN\n",
              "15245001  HOBBIES_1_002_CA_1_evaluation  ...             NaN\n",
              "\n",
              "[2 rows x 36 columns]"
            ]
          },
          "metadata": {
            "tags": []
          },
          "execution_count": 2
        }
      ]
    },
    {
      "cell_type": "code",
      "metadata": {
        "id": "vVENOWl1dufG"
      },
      "source": [
        "# On EDA we found that sales were high on weekends, so we are creating a feature if it's a weekend\r\n",
        "# Here Monday is represented as 1 and it goes on till Sunday as 7, hence passing condition greater than equal 6 represents 6 to be Saturday and 7 to be Sunday.\r\n",
        "\r\n",
        "data['weekend'] = data['wday'].apply(lambda x:1 if x >= 6 else 0)"
      ],
      "execution_count": null,
      "outputs": []
    },
    {
      "cell_type": "code",
      "metadata": {
        "id": "13JeL-Rlk19F"
      },
      "source": [
        "# We are creating new column for the date and week of the year as they followed a seasonal cycle we found on our EDA\r\n",
        "\r\n",
        "data['week'] = data['date'].dt.isocalendar().week.astype(np.int16)\r\n",
        "data['dte'] = data['date'].dt.day\r\n",
        "\r\n",
        "data = reduce(data)"
      ],
      "execution_count": null,
      "outputs": []
    },
    {
      "cell_type": "code",
      "metadata": {
        "id": "PuAsfQu4RfvK"
      },
      "source": [
        "#  We are doing a categorical encoding by replacing the categories with the memory number every category has.\r\n",
        " \r\n",
        " for i in data.columns:\r\n",
        "    try:\r\n",
        "        data[i] = data[i].cat.codes\r\n",
        "    except AttributeError:\r\n",
        "        pass"
      ],
      "execution_count": null,
      "outputs": []
    },
    {
      "cell_type": "code",
      "metadata": {
        "colab": {
          "base_uri": "https://localhost:8080/",
          "height": 160
        },
        "id": "7b48-CUSSv2z",
        "outputId": "0fb76fe5-bc11-47f7-f9aa-02cd117d23fb"
      },
      "source": [
        "data.head(2)"
      ],
      "execution_count": null,
      "outputs": [
        {
          "output_type": "execute_result",
          "data": {
            "text/html": [
              "<div>\n",
              "<style scoped>\n",
              "    .dataframe tbody tr th:only-of-type {\n",
              "        vertical-align: middle;\n",
              "    }\n",
              "\n",
              "    .dataframe tbody tr th {\n",
              "        vertical-align: top;\n",
              "    }\n",
              "\n",
              "    .dataframe thead th {\n",
              "        text-align: right;\n",
              "    }\n",
              "</style>\n",
              "<table border=\"1\" class=\"dataframe\">\n",
              "  <thead>\n",
              "    <tr style=\"text-align: right;\">\n",
              "      <th></th>\n",
              "      <th>id</th>\n",
              "      <th>item_id</th>\n",
              "      <th>dept_id</th>\n",
              "      <th>cat_id</th>\n",
              "      <th>store_id</th>\n",
              "      <th>state_id</th>\n",
              "      <th>day</th>\n",
              "      <th>demand</th>\n",
              "      <th>date</th>\n",
              "      <th>wm_yr_wk</th>\n",
              "      <th>wday</th>\n",
              "      <th>month</th>\n",
              "      <th>year</th>\n",
              "      <th>event_name_1</th>\n",
              "      <th>event_type_1</th>\n",
              "      <th>event_name_2</th>\n",
              "      <th>event_type_2</th>\n",
              "      <th>snap_CA</th>\n",
              "      <th>snap_TX</th>\n",
              "      <th>snap_WI</th>\n",
              "      <th>sell_price</th>\n",
              "      <th>lag_1</th>\n",
              "      <th>lag_2</th>\n",
              "      <th>lag_3</th>\n",
              "      <th>lag_5</th>\n",
              "      <th>lag_7</th>\n",
              "      <th>lag_10</th>\n",
              "      <th>lag_14</th>\n",
              "      <th>lag_21</th>\n",
              "      <th>lag_30</th>\n",
              "      <th>lag_180</th>\n",
              "      <th>lag_365</th>\n",
              "      <th>rolling_mean_5</th>\n",
              "      <th>rolling_mean_7</th>\n",
              "      <th>rolling_mean_10</th>\n",
              "      <th>rolling_mean_14</th>\n",
              "      <th>weekend</th>\n",
              "      <th>week</th>\n",
              "      <th>dte</th>\n",
              "    </tr>\n",
              "  </thead>\n",
              "  <tbody>\n",
              "    <tr>\n",
              "      <th>15245000</th>\n",
              "      <td>14370</td>\n",
              "      <td>1437</td>\n",
              "      <td>3</td>\n",
              "      <td>1</td>\n",
              "      <td>0</td>\n",
              "      <td>0</td>\n",
              "      <td>501</td>\n",
              "      <td>0</td>\n",
              "      <td>2012-06-12</td>\n",
              "      <td>11220</td>\n",
              "      <td>4</td>\n",
              "      <td>6</td>\n",
              "      <td>2012</td>\n",
              "      <td>17</td>\n",
              "      <td>4</td>\n",
              "      <td>3</td>\n",
              "      <td>1</td>\n",
              "      <td>0</td>\n",
              "      <td>1</td>\n",
              "      <td>1</td>\n",
              "      <td>8.281250</td>\n",
              "      <td>NaN</td>\n",
              "      <td>NaN</td>\n",
              "      <td>NaN</td>\n",
              "      <td>NaN</td>\n",
              "      <td>NaN</td>\n",
              "      <td>NaN</td>\n",
              "      <td>NaN</td>\n",
              "      <td>NaN</td>\n",
              "      <td>NaN</td>\n",
              "      <td>NaN</td>\n",
              "      <td>NaN</td>\n",
              "      <td>NaN</td>\n",
              "      <td>NaN</td>\n",
              "      <td>NaN</td>\n",
              "      <td>NaN</td>\n",
              "      <td>0</td>\n",
              "      <td>24</td>\n",
              "      <td>12</td>\n",
              "    </tr>\n",
              "    <tr>\n",
              "      <th>15245001</th>\n",
              "      <td>14380</td>\n",
              "      <td>1438</td>\n",
              "      <td>3</td>\n",
              "      <td>1</td>\n",
              "      <td>0</td>\n",
              "      <td>0</td>\n",
              "      <td>501</td>\n",
              "      <td>0</td>\n",
              "      <td>2012-06-12</td>\n",
              "      <td>11220</td>\n",
              "      <td>4</td>\n",
              "      <td>6</td>\n",
              "      <td>2012</td>\n",
              "      <td>17</td>\n",
              "      <td>4</td>\n",
              "      <td>3</td>\n",
              "      <td>1</td>\n",
              "      <td>0</td>\n",
              "      <td>1</td>\n",
              "      <td>1</td>\n",
              "      <td>3.970703</td>\n",
              "      <td>NaN</td>\n",
              "      <td>NaN</td>\n",
              "      <td>NaN</td>\n",
              "      <td>NaN</td>\n",
              "      <td>NaN</td>\n",
              "      <td>NaN</td>\n",
              "      <td>NaN</td>\n",
              "      <td>NaN</td>\n",
              "      <td>NaN</td>\n",
              "      <td>NaN</td>\n",
              "      <td>NaN</td>\n",
              "      <td>NaN</td>\n",
              "      <td>NaN</td>\n",
              "      <td>NaN</td>\n",
              "      <td>NaN</td>\n",
              "      <td>0</td>\n",
              "      <td>24</td>\n",
              "      <td>12</td>\n",
              "    </tr>\n",
              "  </tbody>\n",
              "</table>\n",
              "</div>"
            ],
            "text/plain": [
              "             id  item_id  dept_id  cat_id  ...  rolling_mean_14  weekend  week  dte\n",
              "15245000  14370     1437        3       1  ...              NaN        0    24   12\n",
              "15245001  14380     1438        3       1  ...              NaN        0    24   12\n",
              "\n",
              "[2 rows x 39 columns]"
            ]
          },
          "metadata": {
            "tags": []
          },
          "execution_count": 7
        }
      ]
    },
    {
      "cell_type": "code",
      "metadata": {
        "id": "mjkvwXotgJwC",
        "colab": {
          "base_uri": "https://localhost:8080/"
        },
        "outputId": "4d3cdb4d-db94-43cd-e4b5-a0b8c53f7254"
      },
      "source": [
        "# We are taking only the last 1000 days of data as the data is huge and memory usage gets heavy.\r\n",
        "# So we are finding the 1000th date from the last.\r\n",
        "(data.iloc[[-1],8]-timedelta(1000))"
      ],
      "execution_count": null,
      "outputs": [
        {
          "output_type": "execute_result",
          "data": {
            "text/plain": [
              "60034809   2013-09-23\n",
              "Name: date, dtype: datetime64[ns]"
            ]
          },
          "metadata": {
            "tags": []
          },
          "execution_count": 8
        }
      ]
    },
    {
      "cell_type": "code",
      "metadata": {
        "id": "r5dPPm4ff3Ey"
      },
      "source": [
        "# We will now be working on data which was recorded only after \"2013-09-23\"\r\n",
        "data = data[data['date'] > '2013-09-23']"
      ],
      "execution_count": null,
      "outputs": []
    },
    {
      "cell_type": "code",
      "metadata": {
        "id": "DoNQhflwdu5H"
      },
      "source": [
        "# Now we are splitting our data into, Train, Test, Cross Validate.\r\n",
        "# Being a time series model, we are splitting the data based on time.\r\n",
        "\r\n",
        "# Records till day 1914 will be used for training the model.\r\n",
        "X_train = data[data['day']<1914]\r\n",
        "\r\n",
        "# Records between days 1914 and 1941 will be used for Validation\r\n",
        "X_val = data[(data['day']>=1914) & (data['day']<=1941)]\r\n",
        "\r\n",
        "# Records after day 1942 will used for final test\r\n",
        "X_test = data[(data['day']>=1942)]"
      ],
      "execution_count": null,
      "outputs": []
    },
    {
      "cell_type": "code",
      "metadata": {
        "id": "BkiEw37GdxF_",
        "colab": {
          "base_uri": "https://localhost:8080/"
        },
        "outputId": "b520bb72-ca38-4752-ba7f-3419b4b35dcf"
      },
      "source": [
        "y_train = X_train['demand']\r\n",
        "y_val = X_val['demand']\r\n",
        "\r\n",
        "# We are drpping the features which are not required.\r\n",
        "X_train.drop(['id', 'day','demand', 'wm_yr_wk','date'],axis = 1,inplace = True)\r\n",
        "X_val.drop(['id', 'day','demand', 'wm_yr_wk','date'],axis = 1,inplace = True)\r\n",
        "X_test.drop(['id', 'day','demand', 'wm_yr_wk','date'],axis = 1,inplace = True)\r\n",
        "\r\n",
        "print(X_train.shape,y_train.shape)\r\n",
        "print(X_val.shape,y_val.shape)\r\n",
        "print(X_test.shape)"
      ],
      "execution_count": null,
      "outputs": [
        {
          "output_type": "stream",
          "text": [
            "(28782560, 34) (28782560,)\n",
            "(853720, 34) (853720,)\n",
            "(853720, 34)\n"
          ],
          "name": "stdout"
        },
        {
          "output_type": "stream",
          "text": [
            "/usr/local/lib/python3.6/dist-packages/pandas/core/frame.py:4174: SettingWithCopyWarning: \n",
            "A value is trying to be set on a copy of a slice from a DataFrame\n",
            "\n",
            "See the caveats in the documentation: https://pandas.pydata.org/pandas-docs/stable/user_guide/indexing.html#returning-a-view-versus-a-copy\n",
            "  errors=errors,\n"
          ],
          "name": "stderr"
        }
      ]
    },
    {
      "cell_type": "code",
      "metadata": {
        "id": "U4oXy8Qtdy_q"
      },
      "source": [
        "del data"
      ],
      "execution_count": null,
      "outputs": []
    },
    {
      "cell_type": "code",
      "metadata": {
        "colab": {
          "base_uri": "https://localhost:8080/"
        },
        "id": "PP6TcOhTPVbS",
        "outputId": "af267f65-b6f3-42ca-bed3-0dfc4ea7218f"
      },
      "source": [
        "# We are now running our LightGBM model with multiple learning rate and max depth values to get the best parameter.\r\n",
        "\r\n",
        "lr = [0.05, 0.1]\r\n",
        "md = [3, 5, 7]\r\n",
        "\r\n",
        "for i in lr:\r\n",
        "    for j in tqdm(md):\r\n",
        "        lgb = LGBMRegressor(objective = 'tweedie', learning_rate = i, max_depth = j ,subsample = 0.7, \r\n",
        "                              colsample_bytree = 0.7, n_estimators = 1300)\r\n",
        "        lgb.fit(X_train,y_train, verbose = False)\r\n",
        "        y_pred = lgb.predict(X_val)\r\n",
        "        rmse = mean_squared_error(y_val,y_pred)\r\n",
        "        print(f\"For learning_rate {i} and max_depth {j}, the rmse is {rmse}\")\r\n",
        "        print(\"*\" * 50)"
      ],
      "execution_count": null,
      "outputs": [
        {
          "output_type": "stream",
          "text": [
            "\n",
            "\n",
            "  0%|          | 0/3 [00:00<?, ?it/s]\u001b[A\u001b[A\n",
            "\n",
            " 33%|███▎      | 1/3 [42:47<1:25:35, 2567.93s/it]\u001b[A\u001b[A"
          ],
          "name": "stderr"
        },
        {
          "output_type": "stream",
          "text": [
            "For learning_rate 0.05 and max_depth 3, the rmse is 2.1457554751556356\n",
            "**************************************************\n"
          ],
          "name": "stdout"
        },
        {
          "output_type": "stream",
          "text": [
            "\n",
            "\n",
            " 67%|██████▋   | 2/3 [1:31:25<44:32, 2672.81s/it]\u001b[A\u001b[A"
          ],
          "name": "stderr"
        },
        {
          "output_type": "stream",
          "text": [
            "For learning_rate 0.05 and max_depth 5, the rmse is 1.880183902980925\n",
            "**************************************************\n"
          ],
          "name": "stdout"
        },
        {
          "output_type": "stream",
          "text": [
            "\n",
            "\n",
            "100%|██████████| 3/3 [2:21:55<00:00, 2838.64s/it]\n",
            "\n",
            "\n",
            "  0%|          | 0/3 [00:00<?, ?it/s]\u001b[A\u001b[A"
          ],
          "name": "stderr"
        },
        {
          "output_type": "stream",
          "text": [
            "For learning_rate 0.05 and max_depth 7, the rmse is 1.8947060686444024\n",
            "**************************************************\n"
          ],
          "name": "stdout"
        },
        {
          "output_type": "stream",
          "text": [
            "\n",
            "\n",
            " 33%|███▎      | 1/3 [41:40<1:23:20, 2500.08s/it]\u001b[A\u001b[A"
          ],
          "name": "stderr"
        },
        {
          "output_type": "stream",
          "text": [
            "For learning_rate 0.1 and max_depth 3, the rmse is 1.9579735967749583\n",
            "**************************************************\n"
          ],
          "name": "stdout"
        },
        {
          "output_type": "stream",
          "text": [
            "\n",
            "\n",
            " 67%|██████▋   | 2/3 [1:28:52<43:19, 2599.76s/it]\u001b[A\u001b[A"
          ],
          "name": "stderr"
        },
        {
          "output_type": "stream",
          "text": [
            "For learning_rate 0.1 and max_depth 5, the rmse is 1.8455936142800922\n",
            "**************************************************\n"
          ],
          "name": "stdout"
        },
        {
          "output_type": "stream",
          "text": [
            "\n",
            "\n",
            "100%|██████████| 3/3 [2:16:15<00:00, 2725.08s/it]"
          ],
          "name": "stderr"
        },
        {
          "output_type": "stream",
          "text": [
            "For learning_rate 0.1 and max_depth 7, the rmse is 1.7928927943904127\n",
            "**************************************************\n"
          ],
          "name": "stdout"
        },
        {
          "output_type": "stream",
          "text": [
            "\n"
          ],
          "name": "stderr"
        }
      ]
    },
    {
      "cell_type": "code",
      "metadata": {
        "colab": {
          "base_uri": "https://localhost:8080/"
        },
        "id": "yAQBpzh1cdkU",
        "outputId": "55c7ddbd-38bd-42e3-cdef-24cdc8457c1f"
      },
      "source": [
        "# We are retraining the model with best parameter we got.\r\n",
        "\r\n",
        "lgb = LGBMRegressor(objective = 'tweedie', learning_rate = 0.1, max_depth = 7,subsample = 0.7, \r\n",
        "                              colsample_bytree = 0.7, n_estimators = 1300)\r\n",
        "lgb.fit(X_train,y_train)\r\n",
        "y_pred = lgb.predict(X_val)\r\n",
        "rmse = mean_squared_error(y_val,y_pred)\r\n",
        "print(f'The rmse value for the best model is {rmse}')"
      ],
      "execution_count": null,
      "outputs": [
        {
          "output_type": "stream",
          "text": [
            "The rmse value for the best model is 1.7928927943902502\n"
          ],
          "name": "stdout"
        }
      ]
    },
    {
      "cell_type": "code",
      "metadata": {
        "id": "nGSDNgm6bscE",
        "colab": {
          "base_uri": "https://localhost:8080/",
          "height": 295
        },
        "outputId": "2a95ccdc-7047-4b95-cd85-b78fc246baea"
      },
      "source": [
        "# Plot importance helps us plot the top features. Here we are plotting the top 13 features and setting the bar width to be 0.5\r\n",
        "plot_importance(lgb,max_num_features = 13, height = 0.5)\r\n",
        "plt.show()"
      ],
      "execution_count": null,
      "outputs": [
        {
          "output_type": "display_data",
          "data": {
            "image/png": "[encoded data removed]",
            "text/plain": [
              "<Figure size 432x288 with 1 Axes>"
            ]
          },
          "metadata": {
            "tags": [],
            "needs_background": "light"
          }
        }
      ]
    },
    {
      "cell_type": "code",
      "metadata": {
        "id": "QYSygupLcWpL"
      },
      "source": [
        "pred_val  = lgb.predict(X_val)\r\n",
        "pred_test  = lgb.predict(X_test)\r\n",
        "\r\n",
        "pred_val = np.reshape(pred_val, (-1, 28),order = 'F')\r\n",
        "pred_test = np.reshape(pred_test, (-1, 28),order = 'F')"
      ],
      "execution_count": null,
      "outputs": []
    },
    {
      "cell_type": "code",
      "metadata": {
        "id": "YloE3sAOc8wP"
      },
      "source": [
        "sales = pd.read_csv(\"sales_train_evaluation.csv\")\r\n",
        "sell_price = pd.read_csv(\"sell_prices.csv\")\r\n",
        "cal = pd.read_csv(\"calendar.csv\")"
      ],
      "execution_count": null,
      "outputs": []
    },
    {
      "cell_type": "code",
      "metadata": {
        "id": "4Elc0eQacvKE",
        "colab": {
          "base_uri": "https://localhost:8080/"
        },
        "outputId": "0980594a-36fe-4647-da3f-b655cccad174"
      },
      "source": [
        "d_cols = [d for d in sales.columns if 'd_' in d][-28:]\r\n",
        "preds_val = pd.DataFrame(pred_val,columns = d_cols)\r\n",
        "train_df = sales.iloc[:,:-28]\r\n",
        "val_df = sales.iloc[:,-28:]\r\n",
        "evaluator = WRMSSEEvaluator(train_df, val_df, cal, sell_price)\r\n",
        "score = evaluator.score(preds_val)\r\n",
        "print(\"WRMSSE score of validation data [for days 1914-1941]:\",score)"
      ],
      "execution_count": null,
      "outputs": [
        {
          "output_type": "stream",
          "text": [
            "\n",
            "\n",
            "  0%|          | 0/12 [00:00<?, ?it/s]\u001b[A\u001b[A\n",
            "\n",
            "  8%|▊         | 1/12 [00:00<00:09,  1.21it/s]\u001b[A\u001b[A\n",
            "\n",
            " 17%|█▋        | 2/12 [00:01<00:08,  1.19it/s]\u001b[A\u001b[A\n",
            "\n",
            " 25%|██▌       | 3/12 [00:02<00:07,  1.18it/s]\u001b[A\u001b[A\n",
            "\n",
            " 33%|███▎      | 4/12 [00:03<00:06,  1.17it/s]\u001b[A\u001b[A\n",
            "\n",
            " 42%|████▏     | 5/12 [00:04<00:06,  1.16it/s]\u001b[A\u001b[A\n",
            "\n",
            " 50%|█████     | 6/12 [00:05<00:05,  1.15it/s]\u001b[A\u001b[A\n",
            "\n",
            " 58%|█████▊    | 7/12 [00:06<00:04,  1.15it/s]\u001b[A\u001b[A\n",
            "\n",
            " 67%|██████▋   | 8/12 [00:06<00:03,  1.14it/s]\u001b[A\u001b[A\n",
            "\n",
            " 75%|███████▌  | 9/12 [00:07<00:02,  1.14it/s]\u001b[A\u001b[A\n",
            "\n",
            " 83%|████████▎ | 10/12 [00:09<00:02,  1.18s/it]\u001b[A\u001b[A\n",
            "\n",
            " 92%|█████████▏| 11/12 [00:13<00:01,  1.90s/it]\u001b[A\u001b[A\n",
            "\n",
            "100%|██████████| 12/12 [00:24<00:00,  2.06s/it]\n"
          ],
          "name": "stderr"
        },
        {
          "output_type": "stream",
          "text": [
            "WRMSSE score of validation data [for days 1914-1941]: 0.5030958018804834\n"
          ],
          "name": "stdout"
        }
      ]
    },
    {
      "cell_type": "code",
      "metadata": {
        "colab": {
          "base_uri": "https://localhost:8080/",
          "height": 307
        },
        "id": "Fx1SmQIOf3S_",
        "outputId": "a2b492ff-f49e-4faa-8ac2-1b310b9d2db1"
      },
      "source": [
        "sub = pd.read_csv(\"sample_submission.csv\")\r\n",
        "sub_val = sub.iloc[:30490,:]\r\n",
        "sub_eval = sub.iloc[30490:,:]\r\n",
        "col = sub.columns[1:]\r\n",
        "\r\n",
        "for i in range(len(col)):\r\n",
        "    sub_val.loc[:,col[i]] = pred_val[:,i]\r\n",
        "    sub_eval.loc[:,col[i]] = pred_test[:,i]\r\n",
        "\r\n",
        "sub = pd.concat([sub_val,sub_eval])\r\n",
        "sub.head(3)"
      ],
      "execution_count": null,
      "outputs": [
        {
          "output_type": "stream",
          "text": [
            "/usr/local/lib/python3.6/dist-packages/pandas/core/indexing.py:1743: SettingWithCopyWarning: \n",
            "A value is trying to be set on a copy of a slice from a DataFrame.\n",
            "Try using .loc[row_indexer,col_indexer] = value instead\n",
            "\n",
            "See the caveats in the documentation: https://pandas.pydata.org/pandas-docs/stable/user_guide/indexing.html#returning-a-view-versus-a-copy\n",
            "  isetter(ilocs[0], value)\n"
          ],
          "name": "stderr"
        },
        {
          "output_type": "execute_result",
          "data": {
            "text/html": [
              "<div>\n",
              "<style scoped>\n",
              "    .dataframe tbody tr th:only-of-type {\n",
              "        vertical-align: middle;\n",
              "    }\n",
              "\n",
              "    .dataframe tbody tr th {\n",
              "        vertical-align: top;\n",
              "    }\n",
              "\n",
              "    .dataframe thead th {\n",
              "        text-align: right;\n",
              "    }\n",
              "</style>\n",
              "<table border=\"1\" class=\"dataframe\">\n",
              "  <thead>\n",
              "    <tr style=\"text-align: right;\">\n",
              "      <th></th>\n",
              "      <th>id</th>\n",
              "      <th>F1</th>\n",
              "      <th>F2</th>\n",
              "      <th>F3</th>\n",
              "      <th>F4</th>\n",
              "      <th>F5</th>\n",
              "      <th>F6</th>\n",
              "      <th>F7</th>\n",
              "      <th>F8</th>\n",
              "      <th>F9</th>\n",
              "      <th>F10</th>\n",
              "      <th>F11</th>\n",
              "      <th>F12</th>\n",
              "      <th>F13</th>\n",
              "      <th>F14</th>\n",
              "      <th>F15</th>\n",
              "      <th>F16</th>\n",
              "      <th>F17</th>\n",
              "      <th>F18</th>\n",
              "      <th>F19</th>\n",
              "      <th>F20</th>\n",
              "      <th>F21</th>\n",
              "      <th>F22</th>\n",
              "      <th>F23</th>\n",
              "      <th>F24</th>\n",
              "      <th>F25</th>\n",
              "      <th>F26</th>\n",
              "      <th>F27</th>\n",
              "      <th>F28</th>\n",
              "    </tr>\n",
              "  </thead>\n",
              "  <tbody>\n",
              "    <tr>\n",
              "      <th>0</th>\n",
              "      <td>HOBBIES_1_001_CA_1_validation</td>\n",
              "      <td>1.596353e+00</td>\n",
              "      <td>0.000499</td>\n",
              "      <td>3.979962e-01</td>\n",
              "      <td>1.240907e+00</td>\n",
              "      <td>2.712481e-07</td>\n",
              "      <td>1.979741</td>\n",
              "      <td>3.412549e+00</td>\n",
              "      <td>1.089272e+00</td>\n",
              "      <td>1.091318e-01</td>\n",
              "      <td>1.509766</td>\n",
              "      <td>1.323719e+00</td>\n",
              "      <td>1.534896e-03</td>\n",
              "      <td>1.248288e+00</td>\n",
              "      <td>1.113930</td>\n",
              "      <td>1.609422e+00</td>\n",
              "      <td>8.470861e-01</td>\n",
              "      <td>1.086064e+00</td>\n",
              "      <td>3.937205e-01</td>\n",
              "      <td>2.003714e+00</td>\n",
              "      <td>3.934808</td>\n",
              "      <td>0.538177</td>\n",
              "      <td>0.028695</td>\n",
              "      <td>0.772779</td>\n",
              "      <td>1.553171e+00</td>\n",
              "      <td>1.155071</td>\n",
              "      <td>1.804689</td>\n",
              "      <td>0.063043</td>\n",
              "      <td>4.283264e-01</td>\n",
              "    </tr>\n",
              "    <tr>\n",
              "      <th>1</th>\n",
              "      <td>HOBBIES_1_002_CA_1_validation</td>\n",
              "      <td>1.484903e-12</td>\n",
              "      <td>0.464026</td>\n",
              "      <td>3.746529e-09</td>\n",
              "      <td>2.525191e-09</td>\n",
              "      <td>1.565138e-09</td>\n",
              "      <td>0.603419</td>\n",
              "      <td>1.976562e-12</td>\n",
              "      <td>5.856186e-12</td>\n",
              "      <td>6.089676e-14</td>\n",
              "      <td>0.428070</td>\n",
              "      <td>2.017015e-09</td>\n",
              "      <td>4.750798e-10</td>\n",
              "      <td>1.666688e-10</td>\n",
              "      <td>0.557306</td>\n",
              "      <td>1.476543e-12</td>\n",
              "      <td>4.225602e-12</td>\n",
              "      <td>5.814091e-14</td>\n",
              "      <td>6.593128e-14</td>\n",
              "      <td>7.188925e-14</td>\n",
              "      <td>0.586204</td>\n",
              "      <td>1.386450</td>\n",
              "      <td>0.450999</td>\n",
              "      <td>0.381475</td>\n",
              "      <td>3.672306e-01</td>\n",
              "      <td>0.775446</td>\n",
              "      <td>0.494463</td>\n",
              "      <td>0.607505</td>\n",
              "      <td>2.427175e-11</td>\n",
              "    </tr>\n",
              "    <tr>\n",
              "      <th>2</th>\n",
              "      <td>HOBBIES_1_003_CA_1_validation</td>\n",
              "      <td>5.578266e-02</td>\n",
              "      <td>0.400337</td>\n",
              "      <td>7.446245e-01</td>\n",
              "      <td>8.198995e-01</td>\n",
              "      <td>1.069218e-03</td>\n",
              "      <td>1.146013</td>\n",
              "      <td>1.172020e+00</td>\n",
              "      <td>4.338775e-01</td>\n",
              "      <td>2.974171e-03</td>\n",
              "      <td>0.835626</td>\n",
              "      <td>2.004604e-01</td>\n",
              "      <td>9.949081e-01</td>\n",
              "      <td>5.872306e-01</td>\n",
              "      <td>1.715278</td>\n",
              "      <td>1.323587e-01</td>\n",
              "      <td>7.853967e-01</td>\n",
              "      <td>6.869497e-01</td>\n",
              "      <td>1.284461e+00</td>\n",
              "      <td>5.232923e-01</td>\n",
              "      <td>0.004354</td>\n",
              "      <td>2.092520</td>\n",
              "      <td>0.006205</td>\n",
              "      <td>0.445832</td>\n",
              "      <td>1.693686e-07</td>\n",
              "      <td>1.555756</td>\n",
              "      <td>1.600449</td>\n",
              "      <td>0.052388</td>\n",
              "      <td>4.640114e-01</td>\n",
              "    </tr>\n",
              "  </tbody>\n",
              "</table>\n",
              "</div>"
            ],
            "text/plain": [
              "                              id            F1  ...       F27           F28\n",
              "0  HOBBIES_1_001_CA_1_validation  1.596353e+00  ...  0.063043  4.283264e-01\n",
              "1  HOBBIES_1_002_CA_1_validation  1.484903e-12  ...  0.607505  2.427175e-11\n",
              "2  HOBBIES_1_003_CA_1_validation  5.578266e-02  ...  0.052388  4.640114e-01\n",
              "\n",
              "[3 rows x 29 columns]"
            ]
          },
          "metadata": {
            "tags": []
          },
          "execution_count": 31
        }
      ]
    },
    {
      "cell_type": "code",
      "metadata": {
        "id": "gAPXVXBllOjn"
      },
      "source": [
        "sub.to_csv(\"lgb_sub.csv\",index = False)"
      ],
      "execution_count": null,
      "outputs": []
    },
    {
      "cell_type": "code",
      "metadata": {
        "id": "FNXg_JOMlc1e"
      },
      "source": [
        "sub.to_excel(\"lgb_sub.xlsx\",index = False)"
      ],
      "execution_count": null,
      "outputs": []
    },
    {
      "cell_type": "code",
      "metadata": {
        "colab": {
          "base_uri": "https://localhost:8080/",
          "height": 590
        },
        "id": "uGnbX_YElVF5",
        "outputId": "b52e00a2-559e-450e-cffa-ccc658c2dc8a"
      },
      "source": [
        "pd.read_csv('lgb_sub.csv')"
      ],
      "execution_count": null,
      "outputs": [
        {
          "output_type": "execute_result",
          "data": {
            "text/html": [
              "<div>\n",
              "<style scoped>\n",
              "    .dataframe tbody tr th:only-of-type {\n",
              "        vertical-align: middle;\n",
              "    }\n",
              "\n",
              "    .dataframe tbody tr th {\n",
              "        vertical-align: top;\n",
              "    }\n",
              "\n",
              "    .dataframe thead th {\n",
              "        text-align: right;\n",
              "    }\n",
              "</style>\n",
              "<table border=\"1\" class=\"dataframe\">\n",
              "  <thead>\n",
              "    <tr style=\"text-align: right;\">\n",
              "      <th></th>\n",
              "      <th>id</th>\n",
              "      <th>F1</th>\n",
              "      <th>F2</th>\n",
              "      <th>F3</th>\n",
              "      <th>F4</th>\n",
              "      <th>F5</th>\n",
              "      <th>F6</th>\n",
              "      <th>F7</th>\n",
              "      <th>F8</th>\n",
              "      <th>F9</th>\n",
              "      <th>F10</th>\n",
              "      <th>F11</th>\n",
              "      <th>F12</th>\n",
              "      <th>F13</th>\n",
              "      <th>F14</th>\n",
              "      <th>F15</th>\n",
              "      <th>F16</th>\n",
              "      <th>F17</th>\n",
              "      <th>F18</th>\n",
              "      <th>F19</th>\n",
              "      <th>F20</th>\n",
              "      <th>F21</th>\n",
              "      <th>F22</th>\n",
              "      <th>F23</th>\n",
              "      <th>F24</th>\n",
              "      <th>F25</th>\n",
              "      <th>F26</th>\n",
              "      <th>F27</th>\n",
              "      <th>F28</th>\n",
              "    </tr>\n",
              "  </thead>\n",
              "  <tbody>\n",
              "    <tr>\n",
              "      <th>0</th>\n",
              "      <td>HOBBIES_1_001_CA_1_validation</td>\n",
              "      <td>1.596353e+00</td>\n",
              "      <td>4.986457e-04</td>\n",
              "      <td>3.979962e-01</td>\n",
              "      <td>1.240907e+00</td>\n",
              "      <td>2.712481e-07</td>\n",
              "      <td>1.979741e+00</td>\n",
              "      <td>3.412549e+00</td>\n",
              "      <td>1.089272e+00</td>\n",
              "      <td>1.091318e-01</td>\n",
              "      <td>1.509766e+00</td>\n",
              "      <td>1.323719e+00</td>\n",
              "      <td>1.534896e-03</td>\n",
              "      <td>1.248288e+00</td>\n",
              "      <td>1.113930e+00</td>\n",
              "      <td>1.609422e+00</td>\n",
              "      <td>8.470861e-01</td>\n",
              "      <td>1.086064e+00</td>\n",
              "      <td>3.937205e-01</td>\n",
              "      <td>2.003714e+00</td>\n",
              "      <td>3.934808e+00</td>\n",
              "      <td>5.381766e-01</td>\n",
              "      <td>2.869521e-02</td>\n",
              "      <td>7.727790e-01</td>\n",
              "      <td>1.553171e+00</td>\n",
              "      <td>1.155071e+00</td>\n",
              "      <td>1.804689e+00</td>\n",
              "      <td>6.304260e-02</td>\n",
              "      <td>4.283264e-01</td>\n",
              "    </tr>\n",
              "    <tr>\n",
              "      <th>1</th>\n",
              "      <td>HOBBIES_1_002_CA_1_validation</td>\n",
              "      <td>1.484903e-12</td>\n",
              "      <td>4.640264e-01</td>\n",
              "      <td>3.746529e-09</td>\n",
              "      <td>2.525191e-09</td>\n",
              "      <td>1.565138e-09</td>\n",
              "      <td>6.034192e-01</td>\n",
              "      <td>1.976562e-12</td>\n",
              "      <td>5.856186e-12</td>\n",
              "      <td>6.089676e-14</td>\n",
              "      <td>4.280701e-01</td>\n",
              "      <td>2.017015e-09</td>\n",
              "      <td>4.750798e-10</td>\n",
              "      <td>1.666688e-10</td>\n",
              "      <td>5.573064e-01</td>\n",
              "      <td>1.476543e-12</td>\n",
              "      <td>4.225602e-12</td>\n",
              "      <td>5.814091e-14</td>\n",
              "      <td>6.593128e-14</td>\n",
              "      <td>7.188925e-14</td>\n",
              "      <td>5.862043e-01</td>\n",
              "      <td>1.386450e+00</td>\n",
              "      <td>4.509986e-01</td>\n",
              "      <td>3.814747e-01</td>\n",
              "      <td>3.672306e-01</td>\n",
              "      <td>7.754459e-01</td>\n",
              "      <td>4.944626e-01</td>\n",
              "      <td>6.075052e-01</td>\n",
              "      <td>2.427175e-11</td>\n",
              "    </tr>\n",
              "    <tr>\n",
              "      <th>2</th>\n",
              "      <td>HOBBIES_1_003_CA_1_validation</td>\n",
              "      <td>5.578266e-02</td>\n",
              "      <td>4.003369e-01</td>\n",
              "      <td>7.446245e-01</td>\n",
              "      <td>8.198995e-01</td>\n",
              "      <td>1.069218e-03</td>\n",
              "      <td>1.146013e+00</td>\n",
              "      <td>1.172020e+00</td>\n",
              "      <td>4.338775e-01</td>\n",
              "      <td>2.974171e-03</td>\n",
              "      <td>8.356261e-01</td>\n",
              "      <td>2.004604e-01</td>\n",
              "      <td>9.949081e-01</td>\n",
              "      <td>5.872306e-01</td>\n",
              "      <td>1.715278e+00</td>\n",
              "      <td>1.323587e-01</td>\n",
              "      <td>7.853967e-01</td>\n",
              "      <td>6.869497e-01</td>\n",
              "      <td>1.284461e+00</td>\n",
              "      <td>5.232923e-01</td>\n",
              "      <td>4.353943e-03</td>\n",
              "      <td>2.092520e+00</td>\n",
              "      <td>6.204873e-03</td>\n",
              "      <td>4.458317e-01</td>\n",
              "      <td>1.693686e-07</td>\n",
              "      <td>1.555756e+00</td>\n",
              "      <td>1.600449e+00</td>\n",
              "      <td>5.238841e-02</td>\n",
              "      <td>4.640114e-01</td>\n",
              "    </tr>\n",
              "    <tr>\n",
              "      <th>3</th>\n",
              "      <td>HOBBIES_1_004_CA_1_validation</td>\n",
              "      <td>7.738518e-01</td>\n",
              "      <td>1.045057e+00</td>\n",
              "      <td>2.994545e+00</td>\n",
              "      <td>1.695847e+00</td>\n",
              "      <td>2.337350e+00</td>\n",
              "      <td>6.798969e-01</td>\n",
              "      <td>4.394699e+00</td>\n",
              "      <td>2.943293e+00</td>\n",
              "      <td>1.719187e+00</td>\n",
              "      <td>4.526303e-01</td>\n",
              "      <td>1.246495e+00</td>\n",
              "      <td>2.785707e+00</td>\n",
              "      <td>1.248907e+00</td>\n",
              "      <td>2.398815e+00</td>\n",
              "      <td>1.010314e+00</td>\n",
              "      <td>1.350997e+00</td>\n",
              "      <td>1.051158e+00</td>\n",
              "      <td>1.927224e+00</td>\n",
              "      <td>1.442877e+00</td>\n",
              "      <td>1.157984e+00</td>\n",
              "      <td>5.637536e-01</td>\n",
              "      <td>3.083722e+00</td>\n",
              "      <td>4.135854e-01</td>\n",
              "      <td>7.835344e-01</td>\n",
              "      <td>1.106244e+00</td>\n",
              "      <td>2.117077e+00</td>\n",
              "      <td>1.031353e+00</td>\n",
              "      <td>4.382867e+00</td>\n",
              "    </tr>\n",
              "    <tr>\n",
              "      <th>4</th>\n",
              "      <td>HOBBIES_1_005_CA_1_validation</td>\n",
              "      <td>1.363209e+00</td>\n",
              "      <td>8.732985e-01</td>\n",
              "      <td>1.482665e+00</td>\n",
              "      <td>2.995958e+00</td>\n",
              "      <td>1.000434e+00</td>\n",
              "      <td>2.378676e-01</td>\n",
              "      <td>3.414341e+00</td>\n",
              "      <td>2.862571e+00</td>\n",
              "      <td>2.001170e+00</td>\n",
              "      <td>5.136738e-01</td>\n",
              "      <td>8.195201e-01</td>\n",
              "      <td>2.298245e+00</td>\n",
              "      <td>2.804716e+00</td>\n",
              "      <td>2.139635e+00</td>\n",
              "      <td>1.558306e+00</td>\n",
              "      <td>2.289041e+00</td>\n",
              "      <td>1.527702e+00</td>\n",
              "      <td>1.977803e+00</td>\n",
              "      <td>9.932435e-01</td>\n",
              "      <td>1.042951e+00</td>\n",
              "      <td>1.034284e+00</td>\n",
              "      <td>1.900206e+00</td>\n",
              "      <td>4.945145e-01</td>\n",
              "      <td>4.407262e-03</td>\n",
              "      <td>4.123911e-03</td>\n",
              "      <td>2.184378e+00</td>\n",
              "      <td>1.152484e+00</td>\n",
              "      <td>4.039853e-03</td>\n",
              "    </tr>\n",
              "    <tr>\n",
              "      <th>...</th>\n",
              "      <td>...</td>\n",
              "      <td>...</td>\n",
              "      <td>...</td>\n",
              "      <td>...</td>\n",
              "      <td>...</td>\n",
              "      <td>...</td>\n",
              "      <td>...</td>\n",
              "      <td>...</td>\n",
              "      <td>...</td>\n",
              "      <td>...</td>\n",
              "      <td>...</td>\n",
              "      <td>...</td>\n",
              "      <td>...</td>\n",
              "      <td>...</td>\n",
              "      <td>...</td>\n",
              "      <td>...</td>\n",
              "      <td>...</td>\n",
              "      <td>...</td>\n",
              "      <td>...</td>\n",
              "      <td>...</td>\n",
              "      <td>...</td>\n",
              "      <td>...</td>\n",
              "      <td>...</td>\n",
              "      <td>...</td>\n",
              "      <td>...</td>\n",
              "      <td>...</td>\n",
              "      <td>...</td>\n",
              "      <td>...</td>\n",
              "      <td>...</td>\n",
              "    </tr>\n",
              "    <tr>\n",
              "      <th>60975</th>\n",
              "      <td>FOODS_3_823_WI_3_evaluation</td>\n",
              "      <td>1.271138e-03</td>\n",
              "      <td>1.206223e-03</td>\n",
              "      <td>3.944581e-01</td>\n",
              "      <td>3.937634e-01</td>\n",
              "      <td>2.034221e-11</td>\n",
              "      <td>6.095006e-12</td>\n",
              "      <td>6.231406e-14</td>\n",
              "      <td>6.151171e-14</td>\n",
              "      <td>5.569997e-14</td>\n",
              "      <td>3.049498e-14</td>\n",
              "      <td>3.257644e-14</td>\n",
              "      <td>3.537025e-14</td>\n",
              "      <td>2.401388e-14</td>\n",
              "      <td>1.788027e-14</td>\n",
              "      <td>1.672914e-14</td>\n",
              "      <td>1.456477e-14</td>\n",
              "      <td>2.364111e-14</td>\n",
              "      <td>2.090794e-14</td>\n",
              "      <td>2.151525e-14</td>\n",
              "      <td>1.644973e-14</td>\n",
              "      <td>1.674476e-14</td>\n",
              "      <td>1.741466e-14</td>\n",
              "      <td>2.069284e-14</td>\n",
              "      <td>2.278499e-14</td>\n",
              "      <td>1.907090e-14</td>\n",
              "      <td>1.989529e-14</td>\n",
              "      <td>1.552405e-14</td>\n",
              "      <td>1.471634e-14</td>\n",
              "    </tr>\n",
              "    <tr>\n",
              "      <th>60976</th>\n",
              "      <td>FOODS_3_824_WI_3_evaluation</td>\n",
              "      <td>5.472751e-01</td>\n",
              "      <td>6.579931e-08</td>\n",
              "      <td>4.176044e-01</td>\n",
              "      <td>1.006226e-12</td>\n",
              "      <td>4.757173e-12</td>\n",
              "      <td>5.533876e-14</td>\n",
              "      <td>5.377883e-14</td>\n",
              "      <td>5.527491e-14</td>\n",
              "      <td>2.033362e-14</td>\n",
              "      <td>3.011038e-14</td>\n",
              "      <td>3.207961e-14</td>\n",
              "      <td>3.617037e-14</td>\n",
              "      <td>1.934841e-14</td>\n",
              "      <td>1.741919e-14</td>\n",
              "      <td>1.690177e-14</td>\n",
              "      <td>1.506729e-14</td>\n",
              "      <td>2.130523e-14</td>\n",
              "      <td>2.084087e-14</td>\n",
              "      <td>2.035563e-14</td>\n",
              "      <td>1.648668e-14</td>\n",
              "      <td>1.701124e-14</td>\n",
              "      <td>1.559526e-14</td>\n",
              "      <td>1.777194e-14</td>\n",
              "      <td>2.129347e-14</td>\n",
              "      <td>1.942486e-14</td>\n",
              "      <td>2.026455e-14</td>\n",
              "      <td>1.519675e-14</td>\n",
              "      <td>1.474940e-14</td>\n",
              "    </tr>\n",
              "    <tr>\n",
              "      <th>60977</th>\n",
              "      <td>FOODS_3_825_WI_3_evaluation</td>\n",
              "      <td>6.229284e-03</td>\n",
              "      <td>4.612292e-01</td>\n",
              "      <td>2.629367e-07</td>\n",
              "      <td>8.193034e-01</td>\n",
              "      <td>1.358494e-11</td>\n",
              "      <td>2.243694e-11</td>\n",
              "      <td>6.311946e-14</td>\n",
              "      <td>6.266022e-14</td>\n",
              "      <td>6.252466e-14</td>\n",
              "      <td>3.129337e-14</td>\n",
              "      <td>3.459013e-14</td>\n",
              "      <td>3.502182e-14</td>\n",
              "      <td>2.631000e-14</td>\n",
              "      <td>1.709371e-14</td>\n",
              "      <td>1.732101e-14</td>\n",
              "      <td>1.528696e-14</td>\n",
              "      <td>2.084018e-14</td>\n",
              "      <td>2.253854e-14</td>\n",
              "      <td>2.133534e-14</td>\n",
              "      <td>1.737000e-14</td>\n",
              "      <td>1.824495e-14</td>\n",
              "      <td>1.541740e-14</td>\n",
              "      <td>1.803105e-14</td>\n",
              "      <td>2.558417e-14</td>\n",
              "      <td>1.983391e-14</td>\n",
              "      <td>2.133413e-14</td>\n",
              "      <td>1.514444e-14</td>\n",
              "      <td>1.450899e-14</td>\n",
              "    </tr>\n",
              "    <tr>\n",
              "      <th>60978</th>\n",
              "      <td>FOODS_3_826_WI_3_evaluation</td>\n",
              "      <td>5.022870e-01</td>\n",
              "      <td>3.662490e-01</td>\n",
              "      <td>3.790535e-01</td>\n",
              "      <td>2.891505e-11</td>\n",
              "      <td>8.986696e-12</td>\n",
              "      <td>1.024207e-13</td>\n",
              "      <td>1.159049e-13</td>\n",
              "      <td>8.707605e-14</td>\n",
              "      <td>2.226942e-14</td>\n",
              "      <td>3.338474e-14</td>\n",
              "      <td>3.389309e-14</td>\n",
              "      <td>3.803082e-14</td>\n",
              "      <td>2.024680e-14</td>\n",
              "      <td>1.784721e-14</td>\n",
              "      <td>1.798835e-14</td>\n",
              "      <td>1.771502e-14</td>\n",
              "      <td>2.302884e-14</td>\n",
              "      <td>2.391971e-14</td>\n",
              "      <td>2.240820e-14</td>\n",
              "      <td>1.806547e-14</td>\n",
              "      <td>1.863347e-14</td>\n",
              "      <td>1.646631e-14</td>\n",
              "      <td>1.852559e-14</td>\n",
              "      <td>2.420900e-14</td>\n",
              "      <td>2.213794e-14</td>\n",
              "      <td>2.210767e-14</td>\n",
              "      <td>1.721472e-14</td>\n",
              "      <td>1.671883e-14</td>\n",
              "    </tr>\n",
              "    <tr>\n",
              "      <th>60979</th>\n",
              "      <td>FOODS_3_827_WI_3_evaluation</td>\n",
              "      <td>9.615998e-01</td>\n",
              "      <td>6.799355e-01</td>\n",
              "      <td>2.014913e+00</td>\n",
              "      <td>3.169470e-01</td>\n",
              "      <td>1.096381e-10</td>\n",
              "      <td>1.181227e-11</td>\n",
              "      <td>1.126298e-13</td>\n",
              "      <td>1.295460e-13</td>\n",
              "      <td>9.193897e-14</td>\n",
              "      <td>4.793617e-14</td>\n",
              "      <td>5.458595e-14</td>\n",
              "      <td>4.229323e-14</td>\n",
              "      <td>2.767248e-14</td>\n",
              "      <td>1.819964e-14</td>\n",
              "      <td>1.826255e-14</td>\n",
              "      <td>1.631186e-14</td>\n",
              "      <td>2.381302e-14</td>\n",
              "      <td>2.436942e-14</td>\n",
              "      <td>2.432288e-14</td>\n",
              "      <td>1.974119e-14</td>\n",
              "      <td>1.918109e-14</td>\n",
              "      <td>1.818454e-14</td>\n",
              "      <td>1.900848e-14</td>\n",
              "      <td>2.872050e-14</td>\n",
              "      <td>2.503325e-14</td>\n",
              "      <td>2.273708e-14</td>\n",
              "      <td>1.888520e-14</td>\n",
              "      <td>1.655763e-14</td>\n",
              "    </tr>\n",
              "  </tbody>\n",
              "</table>\n",
              "<p>60980 rows × 29 columns</p>\n",
              "</div>"
            ],
            "text/plain": [
              "                                  id            F1  ...           F27           F28\n",
              "0      HOBBIES_1_001_CA_1_validation  1.596353e+00  ...  6.304260e-02  4.283264e-01\n",
              "1      HOBBIES_1_002_CA_1_validation  1.484903e-12  ...  6.075052e-01  2.427175e-11\n",
              "2      HOBBIES_1_003_CA_1_validation  5.578266e-02  ...  5.238841e-02  4.640114e-01\n",
              "3      HOBBIES_1_004_CA_1_validation  7.738518e-01  ...  1.031353e+00  4.382867e+00\n",
              "4      HOBBIES_1_005_CA_1_validation  1.363209e+00  ...  1.152484e+00  4.039853e-03\n",
              "...                              ...           ...  ...           ...           ...\n",
              "60975    FOODS_3_823_WI_3_evaluation  1.271138e-03  ...  1.552405e-14  1.471634e-14\n",
              "60976    FOODS_3_824_WI_3_evaluation  5.472751e-01  ...  1.519675e-14  1.474940e-14\n",
              "60977    FOODS_3_825_WI_3_evaluation  6.229284e-03  ...  1.514444e-14  1.450899e-14\n",
              "60978    FOODS_3_826_WI_3_evaluation  5.022870e-01  ...  1.721472e-14  1.671883e-14\n",
              "60979    FOODS_3_827_WI_3_evaluation  9.615998e-01  ...  1.888520e-14  1.655763e-14\n",
              "\n",
              "[60980 rows x 29 columns]"
            ]
          },
          "metadata": {
            "tags": []
          },
          "execution_count": 33
        }
      ]
    },
    {
      "cell_type": "code",
      "metadata": {
        "id": "cGDEMiJHajBM"
      },
      "source": [
        "from typing import Union"
      ],
      "execution_count": null,
      "outputs": []
    },
    {
      "cell_type": "code",
      "metadata": {
        "id": "LSreYQs8iUh4"
      },
      "source": [
        "class WRMSSEEvaluator(object):\r\n",
        "\r\n",
        "    def __init__(self, train_df: pd.DataFrame, valid_df: pd.DataFrame, calendar: pd.DataFrame, prices: pd.DataFrame):\r\n",
        "        train_y = train_df.loc[:, train_df.columns.str.startswith('d_')]\r\n",
        "        train_target_columns = train_y.columns.tolist()\r\n",
        "        weight_columns = train_y.iloc[:, -28:].columns.tolist()\r\n",
        "\r\n",
        "        train_df['all_id'] = 0  # for lv1 aggregation\r\n",
        "\r\n",
        "        id_columns = train_df.loc[:, ~train_df.columns.str.startswith('d_')].columns.tolist()\r\n",
        "        valid_target_columns = valid_df.loc[:, valid_df.columns.str.startswith('d_')].columns.tolist()\r\n",
        "\r\n",
        "        if not all([c in valid_df.columns for c in id_columns]):\r\n",
        "            valid_df = pd.concat([train_df[id_columns], valid_df], axis=1, sort=False)\r\n",
        "\r\n",
        "        self.train_df = train_df\r\n",
        "        self.valid_df = valid_df\r\n",
        "        self.calendar = calendar\r\n",
        "        self.prices = prices\r\n",
        "\r\n",
        "        self.weight_columns = weight_columns\r\n",
        "        self.id_columns = id_columns\r\n",
        "        self.valid_target_columns = valid_target_columns\r\n",
        "\r\n",
        "        weight_df = self.get_weight_df()\r\n",
        "\r\n",
        "        self.group_ids = (\r\n",
        "            'all_id',\r\n",
        "            'state_id',\r\n",
        "            'store_id',\r\n",
        "            'cat_id',\r\n",
        "            'dept_id',\r\n",
        "            ['state_id', 'cat_id'],\r\n",
        "            ['state_id', 'dept_id'],\r\n",
        "            ['store_id', 'cat_id'],\r\n",
        "            ['store_id', 'dept_id'],\r\n",
        "            'item_id',\r\n",
        "            ['item_id', 'state_id'],\r\n",
        "            ['item_id', 'store_id']\r\n",
        "        )\r\n",
        "\r\n",
        "        for i, group_id in enumerate(tqdm(self.group_ids)):\r\n",
        "            train_y = train_df.groupby(group_id)[train_target_columns].sum()\r\n",
        "            scale = []\r\n",
        "            for _, row in train_y.iterrows():\r\n",
        "                series = row.values[np.argmax(row.values != 0):]\r\n",
        "                scale.append(((series[1:] - series[:-1]) ** 2).mean())\r\n",
        "            setattr(self, f'lv{i + 1}_scale', np.array(scale))\r\n",
        "            setattr(self, f'lv{i + 1}_train_df', train_y)\r\n",
        "            setattr(self, f'lv{i + 1}_valid_df', valid_df.groupby(group_id)[valid_target_columns].sum())\r\n",
        "\r\n",
        "            lv_weight = weight_df.groupby(group_id)[weight_columns].sum().sum(axis=1)\r\n",
        "            setattr(self, f'lv{i + 1}_weight', lv_weight / lv_weight.sum())\r\n",
        "\r\n",
        "    def get_weight_df(self) -> pd.DataFrame:\r\n",
        "        day_to_week = self.calendar.set_index('d')['wm_yr_wk'].to_dict()\r\n",
        "        weight_df = self.train_df[['item_id', 'store_id'] + self.weight_columns].set_index(['item_id', 'store_id'])\r\n",
        "        weight_df = weight_df.stack().reset_index().rename(columns={'level_2': 'd', 0: 'value'})\r\n",
        "        weight_df['wm_yr_wk'] = weight_df['d'].map(day_to_week)\r\n",
        "\r\n",
        "        weight_df = weight_df.merge(self.prices, how='left', on=['item_id', 'store_id', 'wm_yr_wk'])\r\n",
        "        weight_df['value'] = weight_df['value'] * weight_df['sell_price']\r\n",
        "        weight_df = weight_df.set_index(['item_id', 'store_id', 'd']).unstack(level=2)['value']\r\n",
        "        weight_df = weight_df.loc[zip(self.train_df.item_id, self.train_df.store_id), :].reset_index(drop=True)\r\n",
        "        weight_df = pd.concat([self.train_df[self.id_columns], weight_df], axis=1, sort=False)\r\n",
        "        return weight_df\r\n",
        "\r\n",
        "    def rmsse(self, valid_preds: pd.DataFrame, lv: int) -> pd.Series:\r\n",
        "        valid_y = getattr(self, f'lv{lv}_valid_df')\r\n",
        "        score = ((valid_y - valid_preds) ** 2).mean(axis=1)\r\n",
        "        scale = getattr(self, f'lv{lv}_scale')\r\n",
        "        return (score / scale).map(np.sqrt)\r\n",
        "\r\n",
        "    def score(self, valid_preds: Union[pd.DataFrame, np.ndarray]) -> float:\r\n",
        "        assert self.valid_df[self.valid_target_columns].shape == valid_preds.shape\r\n",
        "\r\n",
        "        if isinstance(valid_preds, np.ndarray):\r\n",
        "            valid_preds = pd.DataFrame(valid_preds, columns=self.valid_target_columns)\r\n",
        "\r\n",
        "        valid_preds = pd.concat([self.valid_df[self.id_columns], valid_preds], axis=1, sort=False)\r\n",
        "\r\n",
        "        all_scores = []\r\n",
        "        for i, group_id in enumerate(self.group_ids):\r\n",
        "            lv_scores = self.rmsse(valid_preds.groupby(group_id)[self.valid_target_columns].sum(), i + 1)\r\n",
        "            weight = getattr(self, f'lv{i + 1}_weight')\r\n",
        "            lv_scores = pd.concat([weight, lv_scores], axis=1, sort=False).prod(axis=1)\r\n",
        "            all_scores.append(lv_scores.sum())\r\n",
        "\r\n",
        "        return np.mean(all_scores)"
      ],
      "execution_count": null,
      "outputs": []
    },
    {
      "cell_type": "code",
      "metadata": {
        "id": "52w9clIOakJr"
      },
      "source": [
        ""
      ],
      "execution_count": null,
      "outputs": []
    }
  ]
}