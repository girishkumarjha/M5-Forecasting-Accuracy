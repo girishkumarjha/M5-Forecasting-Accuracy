{
  "nbformat": 4,
  "nbformat_minor": 0,
  "metadata": {
    "colab": {
      "name": "EDA-M5",
      "provenance": [],
      "collapsed_sections": [
        "XRZkYhH-tvaE",
        "TyvJ1yf7tGZS",
        "_mBaSoECPSpB",
        "IWcVFGJhVo5I"
      ],
      "authorship_tag": "ABX9TyNGqtRks5qRHVyOccee2/gA",
      "include_colab_link": true
    },
    "kernelspec": {
      "name": "python3",
      "display_name": "Python 3"
    }
  },
  "cells": [
    {
      "cell_type": "markdown",
      "metadata": {
        "id": "view-in-github",
        "colab_type": "text"
      },
      "source": [
        "<a href=\"https://colab.research.google.com/github/vence-andersen/M5-Forecasting-Accuracy/blob/main/EDA_M5.ipynb\" target=\"_parent\"><img src=\"https://colab.research.google.com/assets/colab-badge.svg\" alt=\"Open In Colab\"/></a>"
      ]
    },
    {
      "cell_type": "markdown",
      "metadata": {
        "id": "q9J1vRvo4gCY"
      },
      "source": [
        "# **Removables**"
      ]
    },
    {
      "cell_type": "code",
      "metadata": {
        "colab": {
          "resources": {
            "http://localhost:8080/nbextensions/google.colab/files.js": {
              "data": "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",
              "ok": true,
              "headers": [
                [
                  "content-type",
                  "application/javascript"
                ]
              ],
              "status": 200,
              "status_text": ""
            }
          },
          "base_uri": "https://localhost:8080/",
          "height": 90
        },
        "id": "j6uz8SfIhXQu",
        "outputId": "30f4a09b-92b1-4405-bab9-c05059d0ee6e"
      },
      "source": [
        "from google.colab import files\r\n",
        "files.upload()"
      ],
      "execution_count": 1,
      "outputs": [
        {
          "output_type": "display_data",
          "data": {
            "text/html": [
              "\n",
              "     <input type=\"file\" id=\"files-8ec3bb47-c748-48ae-ac70-3629875cbf95\" name=\"files[]\" multiple disabled\n",
              "        style=\"border:none\" />\n",
              "     <output id=\"result-8ec3bb47-c748-48ae-ac70-3629875cbf95\">\n",
              "      Upload widget is only available when the cell has been executed in the\n",
              "      current browser session. Please rerun this cell to enable.\n",
              "      </output>\n",
              "      <script src=\"/nbextensions/google.colab/files.js\"></script> "
            ],
            "text/plain": [
              "<IPython.core.display.HTML object>"
            ]
          },
          "metadata": {
            "tags": []
          }
        },
        {
          "output_type": "stream",
          "text": [
            "Saving kaggle.json to kaggle.json\n"
          ],
          "name": "stdout"
        },
        {
          "output_type": "execute_result",
          "data": {
            "text/plain": [
              "{'kaggle.json': b'{\"username\":\"grahamfernando\",\"key\":\"cffa546ccec7808cfc8cec9944ed384a\"}'}"
            ]
          },
          "metadata": {
            "tags": []
          },
          "execution_count": 1
        }
      ]
    },
    {
      "cell_type": "code",
      "metadata": {
        "id": "EgNDbUnSlpJd"
      },
      "source": [
        "!mkdir -p ~/.kaggle\r\n",
        "!cp kaggle.json ~/.kaggle/\r\n",
        "!chmod 600 ~/.kaggle/kaggle.json"
      ],
      "execution_count": 2,
      "outputs": []
    },
    {
      "cell_type": "code",
      "metadata": {
        "colab": {
          "base_uri": "https://localhost:8080/"
        },
        "id": "7hfxlb9dl0rn",
        "outputId": "227a1991-3b5c-4d7d-cef5-42238caa6078"
      },
      "source": [
        "! kaggle competitions download -c m5-forecasting-accuracy"
      ],
      "execution_count": 3,
      "outputs": [
        {
          "output_type": "stream",
          "text": [
            "Warning: Looks like you're using an outdated API Version, please consider updating (server 1.5.10 / client 1.5.4)\n",
            "Downloading sales_train_evaluation.csv.zip to /content\n",
            "100% 15.8M/15.8M [00:00<00:00, 61.9MB/s]\n",
            "\n",
            "Downloading sample_submission.csv.zip to /content\n",
            "  0% 0.00/163k [00:00<?, ?B/s]\n",
            "100% 163k/163k [00:00<00:00, 170MB/s]\n",
            "Downloading sales_train_validation.csv.zip to /content\n",
            " 32% 5.00M/15.5M [00:00<00:00, 20.5MB/s]\n",
            "100% 15.5M/15.5M [00:00<00:00, 51.4MB/s]\n",
            "Downloading sell_prices.csv.zip to /content\n",
            " 49% 7.00M/14.2M [00:00<00:00, 72.1MB/s]\n",
            "100% 14.2M/14.2M [00:00<00:00, 90.8MB/s]\n",
            "Downloading calendar.csv to /content\n",
            "  0% 0.00/101k [00:00<?, ?B/s]\n",
            "100% 101k/101k [00:00<00:00, 104MB/s]\n"
          ],
          "name": "stdout"
        }
      ]
    },
    {
      "cell_type": "code",
      "metadata": {
        "colab": {
          "base_uri": "https://localhost:8080/"
        },
        "id": "BOuxch_pl4U2",
        "outputId": "21fb6ec4-064f-4007-bae4-02bb3c5ec619"
      },
      "source": [
        "!unzip sales_train_evaluation.csv.zip\r\n",
        "!unzip sales_train_validation.csv.zip\r\n",
        "!unzip sample_submission.csv.zip\r\n",
        "!unzip sell_prices.csv.zip"
      ],
      "execution_count": 4,
      "outputs": [
        {
          "output_type": "stream",
          "text": [
            "Archive:  sales_train_evaluation.csv.zip\n",
            "  inflating: sales_train_evaluation.csv  \n",
            "Archive:  sales_train_validation.csv.zip\n",
            "  inflating: sales_train_validation.csv  \n",
            "Archive:  sample_submission.csv.zip\n",
            "  inflating: sample_submission.csv   \n",
            "Archive:  sell_prices.csv.zip\n",
            "  inflating: sell_prices.csv         \n"
          ],
          "name": "stdout"
        }
      ]
    },
    {
      "cell_type": "code",
      "metadata": {
        "id": "lOhMqowx4llX"
      },
      "source": [
        "! pip install downcast\r\n",
        "!wget https://github.com/plotly/orca/releases/download/v1.2.1/orca-1.2.1-x86_64.AppImage -O /usr/local/bin/orca\r\n",
        "!chmod +x /usr/local/bin/orca\r\n",
        "!apt-get install xvfb libgtk2.0-0 libgconf-2-4\r\n",
        "pio.orca.config.use_xvfb = True\r\n",
        "pio.renderers.default = 'svg'"
      ],
      "execution_count": null,
      "outputs": []
    },
    {
      "cell_type": "code",
      "metadata": {
        "id": "8d9jyuNf6ck7"
      },
      "source": [
        "pio.renderers.default = 'svg'"
      ],
      "execution_count": 20,
      "outputs": []
    },
    {
      "cell_type": "markdown",
      "metadata": {
        "id": "DdFE4CGpmKfK"
      },
      "source": [
        "# The below cell contains all modules and libraries required through out the program"
      ]
    },
    {
      "cell_type": "code",
      "metadata": {
        "id": "s-RUytuhl68v",
        "colab": {
          "base_uri": "https://localhost:8080/"
        },
        "outputId": "07790de7-11e4-4d9e-9d1e-6d2b6a4e7c11"
      },
      "source": [
        "# https://github.com/plotly/orca/issues/290#issuecomment-627257795\r\n",
        "\r\n",
        "import numpy as np\r\n",
        "import pandas as pd\r\n",
        "import matplotlib.pyplot as plt\r\n",
        "import seaborn as sns\r\n",
        "from downcast import reduce\r\n",
        "import plotly.express as px\r\n",
        "from pylab import rcParams\r\n",
        "import statsmodels as sm\r\n",
        "from statsmodels.tsa.seasonal import seasonal_decompose\r\n",
        "import plotly.graph_objects as go\r\n",
        "from plotly.subplots import make_subplots\r\n",
        "import plotly.io as pio\r\n",
        "import plotly\r\n",
        "import orca"
      ],
      "execution_count": 1,
      "outputs": [
        {
          "output_type": "stream",
          "text": [
            "/usr/local/lib/python3.6/dist-packages/statsmodels/tools/_testing.py:19: FutureWarning:\n",
            "\n",
            "pandas.util.testing is deprecated. Use the functions in the public API at pandas.testing instead.\n",
            "\n"
          ],
          "name": "stderr"
        }
      ]
    },
    {
      "cell_type": "code",
      "metadata": {
        "id": "tZks31SCrvnz"
      },
      "source": [
        "plotly.io.orca.config.executable = '/usr/local/bin/to/'"
      ],
      "execution_count": 68,
      "outputs": []
    },
    {
      "cell_type": "markdown",
      "metadata": {
        "id": "XRZkYhH-tvaE"
      },
      "source": [
        "# **Reading all CSV files required and reducing the size as the file sizes are huge**"
      ]
    },
    {
      "cell_type": "code",
      "metadata": {
        "id": "krBMfwTImHS-"
      },
      "source": [
        "# Using Pandas to reasd the files.\r\n",
        "\r\n",
        "sales = pd.read_csv(\"sales_train_evaluation.csv\")\r\n",
        "sell_price = pd.read_csv(\"sell_prices.csv\")\r\n",
        "cal = pd.read_csv(\"calendar.csv\")"
      ],
      "execution_count": 2,
      "outputs": []
    },
    {
      "cell_type": "code",
      "metadata": {
        "colab": {
          "base_uri": "https://localhost:8080/"
        },
        "id": "GBu2C6B1n61R",
        "outputId": "eeadb068-6185-4de4-ad82-14f532cf8f02"
      },
      "source": [
        "# Reading the file sizes before downcast\r\n",
        "a = np.round(sales.memory_usage().sum()/(1024**2),1)\r\n",
        "b = np.round(sell_price.memory_usage().sum()/(1024**2),1)\r\n",
        "c = np.round(cal.memory_usage().sum()/(1024**2),1)\r\n",
        "\r\n",
        "# Downcating the files. Rewriting on the same variable names reduce creating duplicates and thus saves memory usage.\r\n",
        "sales = reduce(sales)\r\n",
        "sell_price = reduce(sell_price)\r\n",
        "cal = reduce(cal)\r\n",
        "\r\n",
        "# Reading the file sizes after downcast\r\n",
        "d = np.round(sales.memory_usage().sum()/(1024**2),1)\r\n",
        "e = np.round(sell_price.memory_usage().sum()/(1024**2),1)\r\n",
        "f = np.round(cal.memory_usage().sum()/(1024**2),1)\r\n",
        "\r\n",
        "#Displaying the comparision of file size before and after downcasting.\r\n",
        "print(f\"Size of sales file before downcast was {a} MB and after downcast {d} MB\", f\"Size of sell_price file before downcast was {b} MB and after downcast {e} MB\", \\\r\n",
        "      f\"Size of calender file before downcast was {c} MB and after downcast {f} MB\", sep='\\n')"
      ],
      "execution_count": null,
      "outputs": [
        {
          "output_type": "stream",
          "text": [
            "Size of sales file before downcast was 452.9 MB and after downcast 96.6 MB\n",
            "Size of sell_price file before downcast was 208.8 MB and after downcast 45.8 MB\n",
            "Size of calender file before downcast was 0.2 MB and after downcast 0.1 MB\n"
          ],
          "name": "stdout"
        }
      ]
    },
    {
      "cell_type": "markdown",
      "metadata": {
        "id": "TyvJ1yf7tGZS"
      },
      "source": [
        "# Sales EDA"
      ]
    },
    {
      "cell_type": "code",
      "metadata": {
        "colab": {
          "base_uri": "https://localhost:8080/",
          "height": 155
        },
        "id": "cM68wzOfmPxx",
        "outputId": "9e4f38f5-09fd-4396-a606-3559905e49c8"
      },
      "source": [
        "sales.head(2)"
      ],
      "execution_count": null,
      "outputs": [
        {
          "output_type": "execute_result",
          "data": {
            "text/html": [
              "<div>\n",
              "<style scoped>\n",
              "    .dataframe tbody tr th:only-of-type {\n",
              "        vertical-align: middle;\n",
              "    }\n",
              "\n",
              "    .dataframe tbody tr th {\n",
              "        vertical-align: top;\n",
              "    }\n",
              "\n",
              "    .dataframe thead th {\n",
              "        text-align: right;\n",
              "    }\n",
              "</style>\n",
              "<table border=\"1\" class=\"dataframe\">\n",
              "  <thead>\n",
              "    <tr style=\"text-align: right;\">\n",
              "      <th></th>\n",
              "      <th>id</th>\n",
              "      <th>item_id</th>\n",
              "      <th>dept_id</th>\n",
              "      <th>cat_id</th>\n",
              "      <th>store_id</th>\n",
              "      <th>state_id</th>\n",
              "      <th>d_1</th>\n",
              "      <th>d_2</th>\n",
              "      <th>d_3</th>\n",
              "      <th>d_4</th>\n",
              "      <th>d_5</th>\n",
              "      <th>d_6</th>\n",
              "      <th>d_7</th>\n",
              "      <th>d_8</th>\n",
              "      <th>d_9</th>\n",
              "      <th>d_10</th>\n",
              "      <th>d_11</th>\n",
              "      <th>d_12</th>\n",
              "      <th>d_13</th>\n",
              "      <th>d_14</th>\n",
              "      <th>d_15</th>\n",
              "      <th>d_16</th>\n",
              "      <th>d_17</th>\n",
              "      <th>d_18</th>\n",
              "      <th>d_19</th>\n",
              "      <th>d_20</th>\n",
              "      <th>d_21</th>\n",
              "      <th>d_22</th>\n",
              "      <th>d_23</th>\n",
              "      <th>d_24</th>\n",
              "      <th>d_25</th>\n",
              "      <th>d_26</th>\n",
              "      <th>d_27</th>\n",
              "      <th>d_28</th>\n",
              "      <th>d_29</th>\n",
              "      <th>d_30</th>\n",
              "      <th>d_31</th>\n",
              "      <th>d_32</th>\n",
              "      <th>d_33</th>\n",
              "      <th>d_34</th>\n",
              "      <th>...</th>\n",
              "      <th>d_1902</th>\n",
              "      <th>d_1903</th>\n",
              "      <th>d_1904</th>\n",
              "      <th>d_1905</th>\n",
              "      <th>d_1906</th>\n",
              "      <th>d_1907</th>\n",
              "      <th>d_1908</th>\n",
              "      <th>d_1909</th>\n",
              "      <th>d_1910</th>\n",
              "      <th>d_1911</th>\n",
              "      <th>d_1912</th>\n",
              "      <th>d_1913</th>\n",
              "      <th>d_1914</th>\n",
              "      <th>d_1915</th>\n",
              "      <th>d_1916</th>\n",
              "      <th>d_1917</th>\n",
              "      <th>d_1918</th>\n",
              "      <th>d_1919</th>\n",
              "      <th>d_1920</th>\n",
              "      <th>d_1921</th>\n",
              "      <th>d_1922</th>\n",
              "      <th>d_1923</th>\n",
              "      <th>d_1924</th>\n",
              "      <th>d_1925</th>\n",
              "      <th>d_1926</th>\n",
              "      <th>d_1927</th>\n",
              "      <th>d_1928</th>\n",
              "      <th>d_1929</th>\n",
              "      <th>d_1930</th>\n",
              "      <th>d_1931</th>\n",
              "      <th>d_1932</th>\n",
              "      <th>d_1933</th>\n",
              "      <th>d_1934</th>\n",
              "      <th>d_1935</th>\n",
              "      <th>d_1936</th>\n",
              "      <th>d_1937</th>\n",
              "      <th>d_1938</th>\n",
              "      <th>d_1939</th>\n",
              "      <th>d_1940</th>\n",
              "      <th>d_1941</th>\n",
              "    </tr>\n",
              "  </thead>\n",
              "  <tbody>\n",
              "    <tr>\n",
              "      <th>0</th>\n",
              "      <td>HOBBIES_1_001_CA_1_evaluation</td>\n",
              "      <td>HOBBIES_1_001</td>\n",
              "      <td>HOBBIES_1</td>\n",
              "      <td>HOBBIES</td>\n",
              "      <td>CA_1</td>\n",
              "      <td>CA</td>\n",
              "      <td>0</td>\n",
              "      <td>0</td>\n",
              "      <td>0</td>\n",
              "      <td>0</td>\n",
              "      <td>0</td>\n",
              "      <td>0</td>\n",
              "      <td>0</td>\n",
              "      <td>0</td>\n",
              "      <td>0</td>\n",
              "      <td>0</td>\n",
              "      <td>0</td>\n",
              "      <td>0</td>\n",
              "      <td>0</td>\n",
              "      <td>0</td>\n",
              "      <td>0</td>\n",
              "      <td>0</td>\n",
              "      <td>0</td>\n",
              "      <td>0</td>\n",
              "      <td>0</td>\n",
              "      <td>0</td>\n",
              "      <td>0</td>\n",
              "      <td>0</td>\n",
              "      <td>0</td>\n",
              "      <td>0</td>\n",
              "      <td>0</td>\n",
              "      <td>0</td>\n",
              "      <td>0</td>\n",
              "      <td>0</td>\n",
              "      <td>0</td>\n",
              "      <td>0</td>\n",
              "      <td>0</td>\n",
              "      <td>0</td>\n",
              "      <td>0</td>\n",
              "      <td>0</td>\n",
              "      <td>...</td>\n",
              "      <td>0</td>\n",
              "      <td>1</td>\n",
              "      <td>1</td>\n",
              "      <td>3</td>\n",
              "      <td>0</td>\n",
              "      <td>1</td>\n",
              "      <td>1</td>\n",
              "      <td>1</td>\n",
              "      <td>3</td>\n",
              "      <td>0</td>\n",
              "      <td>1</td>\n",
              "      <td>1</td>\n",
              "      <td>0</td>\n",
              "      <td>0</td>\n",
              "      <td>0</td>\n",
              "      <td>2</td>\n",
              "      <td>0</td>\n",
              "      <td>3</td>\n",
              "      <td>5</td>\n",
              "      <td>0</td>\n",
              "      <td>0</td>\n",
              "      <td>1</td>\n",
              "      <td>1</td>\n",
              "      <td>0</td>\n",
              "      <td>2</td>\n",
              "      <td>1</td>\n",
              "      <td>2</td>\n",
              "      <td>2</td>\n",
              "      <td>1</td>\n",
              "      <td>0</td>\n",
              "      <td>2</td>\n",
              "      <td>4</td>\n",
              "      <td>0</td>\n",
              "      <td>0</td>\n",
              "      <td>0</td>\n",
              "      <td>0</td>\n",
              "      <td>3</td>\n",
              "      <td>3</td>\n",
              "      <td>0</td>\n",
              "      <td>1</td>\n",
              "    </tr>\n",
              "    <tr>\n",
              "      <th>1</th>\n",
              "      <td>HOBBIES_1_002_CA_1_evaluation</td>\n",
              "      <td>HOBBIES_1_002</td>\n",
              "      <td>HOBBIES_1</td>\n",
              "      <td>HOBBIES</td>\n",
              "      <td>CA_1</td>\n",
              "      <td>CA</td>\n",
              "      <td>0</td>\n",
              "      <td>0</td>\n",
              "      <td>0</td>\n",
              "      <td>0</td>\n",
              "      <td>0</td>\n",
              "      <td>0</td>\n",
              "      <td>0</td>\n",
              "      <td>0</td>\n",
              "      <td>0</td>\n",
              "      <td>0</td>\n",
              "      <td>0</td>\n",
              "      <td>0</td>\n",
              "      <td>0</td>\n",
              "      <td>0</td>\n",
              "      <td>0</td>\n",
              "      <td>0</td>\n",
              "      <td>0</td>\n",
              "      <td>0</td>\n",
              "      <td>0</td>\n",
              "      <td>0</td>\n",
              "      <td>0</td>\n",
              "      <td>0</td>\n",
              "      <td>0</td>\n",
              "      <td>0</td>\n",
              "      <td>0</td>\n",
              "      <td>0</td>\n",
              "      <td>0</td>\n",
              "      <td>0</td>\n",
              "      <td>0</td>\n",
              "      <td>0</td>\n",
              "      <td>0</td>\n",
              "      <td>0</td>\n",
              "      <td>0</td>\n",
              "      <td>0</td>\n",
              "      <td>...</td>\n",
              "      <td>0</td>\n",
              "      <td>0</td>\n",
              "      <td>0</td>\n",
              "      <td>0</td>\n",
              "      <td>0</td>\n",
              "      <td>0</td>\n",
              "      <td>0</td>\n",
              "      <td>1</td>\n",
              "      <td>0</td>\n",
              "      <td>0</td>\n",
              "      <td>0</td>\n",
              "      <td>0</td>\n",
              "      <td>0</td>\n",
              "      <td>1</td>\n",
              "      <td>0</td>\n",
              "      <td>0</td>\n",
              "      <td>0</td>\n",
              "      <td>0</td>\n",
              "      <td>0</td>\n",
              "      <td>0</td>\n",
              "      <td>0</td>\n",
              "      <td>1</td>\n",
              "      <td>0</td>\n",
              "      <td>0</td>\n",
              "      <td>0</td>\n",
              "      <td>0</td>\n",
              "      <td>0</td>\n",
              "      <td>0</td>\n",
              "      <td>0</td>\n",
              "      <td>0</td>\n",
              "      <td>0</td>\n",
              "      <td>1</td>\n",
              "      <td>2</td>\n",
              "      <td>1</td>\n",
              "      <td>1</td>\n",
              "      <td>0</td>\n",
              "      <td>0</td>\n",
              "      <td>0</td>\n",
              "      <td>0</td>\n",
              "      <td>0</td>\n",
              "    </tr>\n",
              "  </tbody>\n",
              "</table>\n",
              "<p>2 rows × 1947 columns</p>\n",
              "</div>"
            ],
            "text/plain": [
              "                              id        item_id  ... d_1940 d_1941\n",
              "0  HOBBIES_1_001_CA_1_evaluation  HOBBIES_1_001  ...      0      1\n",
              "1  HOBBIES_1_002_CA_1_evaluation  HOBBIES_1_002  ...      0      0\n",
              "\n",
              "[2 rows x 1947 columns]"
            ]
          },
          "metadata": {
            "tags": []
          },
          "execution_count": 110
        }
      ]
    },
    {
      "cell_type": "code",
      "metadata": {
        "colab": {
          "base_uri": "https://localhost:8080/"
        },
        "id": "Am-LMfXSprrQ",
        "outputId": "8db0e802-955b-4c69-9ff0-d2e5f671e458"
      },
      "source": [
        "print(f\"Observation:\\nThere are {sales.isna().sum().sum()} missing/NaN values in sales dataframe\")\r\n",
        "print(f\"There are {sales['item_id'].nunique()} unique items across {sales['dept_id'].nunique()} departments under {sales['cat_id'].nunique()} categories in {sales['state_id'].nunique()} states\")\r\n",
        "days = [i for i in sales.columns.values if 'd_' in i]\r\n",
        "print(f\"There are {len(days)} days columns/features, which is around {len(days)//365} years of data\")"
      ],
      "execution_count": 3,
      "outputs": [
        {
          "output_type": "stream",
          "text": [
            "Observation:\n",
            "There are 0 missing/NaN values in sales dataframe\n",
            "There are 3049 unique items across 7 departments under 3 categories in 3 states\n",
            "There are 1941 days columns/features, which is around 5 years of data\n"
          ],
          "name": "stdout"
        }
      ]
    },
    {
      "cell_type": "code",
      "metadata": {
        "colab": {
          "base_uri": "https://localhost:8080/"
        },
        "id": "T3qXOBTC6phI",
        "outputId": "181bf679-aba0-4c05-f27b-5258e800709c"
      },
      "source": [
        "pio.renderers"
      ],
      "execution_count": 23,
      "outputs": [
        {
          "output_type": "execute_result",
          "data": {
            "text/plain": [
              "Renderers configuration\n",
              "-----------------------\n",
              "    Default renderer: 'svg'\n",
              "    Available renderers:\n",
              "        ['plotly_mimetype', 'jupyterlab', 'nteract', 'vscode',\n",
              "         'notebook', 'notebook_connected', 'kaggle', 'azure', 'colab',\n",
              "         'cocalc', 'databricks', 'json', 'png', 'jpeg', 'jpg', 'svg',\n",
              "         'pdf', 'browser', 'firefox', 'chrome', 'chromium', 'iframe',\n",
              "         'iframe_connected', 'sphinx_gallery']"
            ]
          },
          "metadata": {
            "tags": []
          },
          "execution_count": 23
        }
      ]
    },
    {
      "cell_type": "code",
      "metadata": {
        "colab": {
          "base_uri": "https://localhost:8080/",
          "height": 542
        },
        "id": "ajYq6wV1IXE2",
        "outputId": "aa9b77d1-ad57-4929-c32c-bdbd6be7c5b8"
      },
      "source": [
        "# https://plotly.com/python/time-series/\r\n",
        "# https://stackoverflow.com/a/27277074\r\n",
        "\r\n",
        "date = cal.loc[:1940,'date']\r\n",
        "temp = pd.DataFrame({'days':date, \"sales\":sales[days].sum(axis=0).values})\r\n",
        "fig = px.line(temp, \"days\", \"sales\")\r\n",
        "fig.show(renderer='notebook_connected')"
      ],
      "execution_count": 38,
      "outputs": [
        {
          "output_type": "display_data",
          "data": {
            "text/html": [
              "        <script type=\"text/javascript\">\n",
              "        window.PlotlyConfig = {MathJaxConfig: 'local'};\n",
              "        if (window.MathJax) {MathJax.Hub.Config({SVG: {font: \"STIX-Web\"}});}\n",
              "        if (typeof require !== 'undefined') {\n",
              "        require.undef(\"plotly\");\n",
              "        requirejs.config({\n",
              "            paths: {\n",
              "                'plotly': ['https://cdn.plot.ly/plotly-latest.min']\n",
              "            }\n",
              "        });\n",
              "        require(['plotly'], function(Plotly) {\n",
              "            window._Plotly = Plotly;\n",
              "        });\n",
              "        }\n",
              "        </script>\n",
              "        "
            ]
          },
          "metadata": {
            "tags": []
          }
        },
        {
          "output_type": "display_data",
          "data": {
            "text/html": [
              "<div>\n",
              "        \n",
              "        \n",
              "            <div id=\"a3ab3e65-a6ad-4362-9867-d46a4d87544f\" class=\"plotly-graph-div\" style=\"height:525px; width:100%;\"></div>\n",
              "            <script type=\"text/javascript\">\n",
              "                require([\"plotly\"], function(Plotly) {\n",
              "                    window.PLOTLYENV=window.PLOTLYENV || {};\n",
              "                    \n",
              "                if (document.getElementById(\"a3ab3e65-a6ad-4362-9867-d46a4d87544f\")) {\n",
              "                    Plotly.newPlot(\n",
              "                        'a3ab3e65-a6ad-4362-9867-d46a4d87544f',\n",
              "                        [{\"hoverlabel\": {\"namelength\": 0}, \"hovertemplate\": \"days=%{x}<br>sales=%{y}\", \"legendgroup\": \"\", \"line\": {\"color\": \"#636efa\", \"dash\": \"solid\"}, \"mode\": \"lines\", \"name\": \"\", \"showlegend\": false, \"type\": \"scattergl\", \"x\": [\"2011-01-29\", \"2011-01-30\", \"2011-01-31\", \"2011-02-01\", \"2011-02-02\", \"2011-02-03\", \"2011-02-04\", \"2011-02-05\", \"2011-02-06\", \"2011-02-07\", \"2011-02-08\", \"2011-02-09\", \"2011-02-10\", \"2011-02-11\", \"2011-02-12\", \"2011-02-13\", \"2011-02-14\", \"2011-02-15\", \"2011-02-16\", \"2011-02-17\", \"2011-02-18\", \"2011-02-19\", \"2011-02-20\", \"2011-02-21\", \"2011-02-22\", \"2011-02-23\", \"2011-02-24\", \"2011-02-25\", \"2011-02-26\", \"2011-02-27\", \"2011-02-28\", \"2011-03-01\", \"2011-03-02\", \"2011-03-03\", \"2011-03-04\", \"2011-03-05\", \"2011-03-06\", \"2011-03-07\", \"2011-03-08\", \"2011-03-09\", \"2011-03-10\", \"2011-03-11\", \"2011-03-12\", \"2011-03-13\", \"2011-03-14\", \"2011-03-15\", \"2011-03-16\", \"2011-03-17\", \"2011-03-18\", \"2011-03-19\", \"2011-03-20\", \"2011-03-21\", \"2011-03-22\", \"2011-03-23\", \"2011-03-24\", \"2011-03-25\", \"2011-03-26\", \"2011-03-27\", \"2011-03-28\", \"2011-03-29\", \"2011-03-30\", \"2011-03-31\", \"2011-04-01\", \"2011-04-02\", \"2011-04-03\", \"2011-04-04\", \"2011-04-05\", \"2011-04-06\", \"2011-04-07\", \"2011-04-08\", \"2011-04-09\", \"2011-04-10\", \"2011-04-11\", \"2011-04-12\", \"2011-04-13\", \"2011-04-14\", \"2011-04-15\", \"2011-04-16\", \"2011-04-17\", \"2011-04-18\", \"2011-04-19\", \"2011-04-20\", \"2011-04-21\", \"2011-04-22\", \"2011-04-23\", \"2011-04-24\", \"2011-04-25\", \"2011-04-26\", \"2011-04-27\", \"2011-04-28\", \"2011-04-29\", \"2011-04-30\", \"2011-05-01\", \"2011-05-02\", \"2011-05-03\", \"2011-05-04\", \"2011-05-05\", \"2011-05-06\", \"2011-05-07\", \"2011-05-08\", \"2011-05-09\", \"2011-05-10\", \"2011-05-11\", \"2011-05-12\", \"2011-05-13\", \"2011-05-14\", \"2011-05-15\", \"2011-05-16\", \"2011-05-17\", \"2011-05-18\", \"2011-05-19\", \"2011-05-20\", \"2011-05-21\", \"2011-05-22\", \"2011-05-23\", \"2011-05-24\", \"2011-05-25\", \"2011-05-26\", \"2011-05-27\", \"2011-05-28\", \"2011-05-29\", \"2011-05-30\", \"2011-05-31\", \"2011-06-01\", \"2011-06-02\", \"2011-06-03\", \"2011-06-04\", \"2011-06-05\", \"2011-06-06\", \"2011-06-07\", \"2011-06-08\", \"2011-06-09\", \"2011-06-10\", \"2011-06-11\", \"2011-06-12\", \"2011-06-13\", \"2011-06-14\", \"2011-06-15\", \"2011-06-16\", \"2011-06-17\", \"2011-06-18\", \"2011-06-19\", \"2011-06-20\", \"2011-06-21\", \"2011-06-22\", \"2011-06-23\", \"2011-06-24\", \"2011-06-25\", \"2011-06-26\", \"2011-06-27\", \"2011-06-28\", \"2011-06-29\", \"2011-06-30\", \"2011-07-01\", \"2011-07-02\", \"2011-07-03\", \"2011-07-04\", \"2011-07-05\", \"2011-07-06\", \"2011-07-07\", \"2011-07-08\", \"2011-07-09\", \"2011-07-10\", \"2011-07-11\", \"2011-07-12\", \"2011-07-13\", \"2011-07-14\", \"2011-07-15\", \"2011-07-16\", \"2011-07-17\", \"2011-07-18\", \"2011-07-19\", \"2011-07-20\", \"2011-07-21\", \"2011-07-22\", \"2011-07-23\", \"2011-07-24\", \"2011-07-25\", \"2011-07-26\", \"2011-07-27\", \"2011-07-28\", \"2011-07-29\", \"2011-07-30\", \"2011-07-31\", \"2011-08-01\", \"2011-08-02\", \"2011-08-03\", \"2011-08-04\", \"2011-08-05\", \"2011-08-06\", \"2011-08-07\", \"2011-08-08\", \"2011-08-09\", \"2011-08-10\", \"2011-08-11\", \"2011-08-12\", \"2011-08-13\", \"2011-08-14\", \"2011-08-15\", \"2011-08-16\", \"2011-08-17\", \"2011-08-18\", \"2011-08-19\", \"2011-08-20\", \"2011-08-21\", \"2011-08-22\", \"2011-08-23\", \"2011-08-24\", \"2011-08-25\", \"2011-08-26\", \"2011-08-27\", \"2011-08-28\", \"2011-08-29\", \"2011-08-30\", \"2011-08-31\", \"2011-09-01\", \"2011-09-02\", \"2011-09-03\", \"2011-09-04\", \"2011-09-05\", \"2011-09-06\", \"2011-09-07\", \"2011-09-08\", \"2011-09-09\", \"2011-09-10\", \"2011-09-11\", \"2011-09-12\", \"2011-09-13\", \"2011-09-14\", \"2011-09-15\", \"2011-09-16\", \"2011-09-17\", \"2011-09-18\", \"2011-09-19\", \"2011-09-20\", \"2011-09-21\", \"2011-09-22\", \"2011-09-23\", \"2011-09-24\", \"2011-09-25\", \"2011-09-26\", \"2011-09-27\", \"2011-09-28\", \"2011-09-29\", \"2011-09-30\", \"2011-10-01\", \"2011-10-02\", \"2011-10-03\", \"2011-10-04\", \"2011-10-05\", \"2011-10-06\", \"2011-10-07\", \"2011-10-08\", \"2011-10-09\", \"2011-10-10\", \"2011-10-11\", \"2011-10-12\", \"2011-10-13\", \"2011-10-14\", \"2011-10-15\", \"2011-10-16\", \"2011-10-17\", \"2011-10-18\", \"2011-10-19\", \"2011-10-20\", \"2011-10-21\", \"2011-10-22\", \"2011-10-23\", \"2011-10-24\", \"2011-10-25\", \"2011-10-26\", \"2011-10-27\", \"2011-10-28\", \"2011-10-29\", \"2011-10-30\", \"2011-10-31\", \"2011-11-01\", \"2011-11-02\", \"2011-11-03\", \"2011-11-04\", \"2011-11-05\", \"2011-11-06\", \"2011-11-07\", \"2011-11-08\", \"2011-11-09\", \"2011-11-10\", \"2011-11-11\", \"2011-11-12\", \"2011-11-13\", \"2011-11-14\", \"2011-11-15\", \"2011-11-16\", \"2011-11-17\", \"2011-11-18\", \"2011-11-19\", \"2011-11-20\", \"2011-11-21\", \"2011-11-22\", \"2011-11-23\", \"2011-11-24\", \"2011-11-25\", \"2011-11-26\", \"2011-11-27\", \"2011-11-28\", \"2011-11-29\", \"2011-11-30\", \"2011-12-01\", \"2011-12-02\", \"2011-12-03\", \"2011-12-04\", \"2011-12-05\", \"2011-12-06\", \"2011-12-07\", \"2011-12-08\", \"2011-12-09\", \"2011-12-10\", \"2011-12-11\", \"2011-12-12\", \"2011-12-13\", \"2011-12-14\", \"2011-12-15\", \"2011-12-16\", \"2011-12-17\", \"2011-12-18\", \"2011-12-19\", \"2011-12-20\", \"2011-12-21\", \"2011-12-22\", \"2011-12-23\", \"2011-12-24\", \"2011-12-25\", \"2011-12-26\", \"2011-12-27\", \"2011-12-28\", \"2011-12-29\", \"2011-12-30\", \"2011-12-31\", \"2012-01-01\", \"2012-01-02\", \"2012-01-03\", \"2012-01-04\", \"2012-01-05\", \"2012-01-06\", \"2012-01-07\", \"2012-01-08\", \"2012-01-09\", \"2012-01-10\", \"2012-01-11\", \"2012-01-12\", \"2012-01-13\", \"2012-01-14\", \"2012-01-15\", \"2012-01-16\", \"2012-01-17\", \"2012-01-18\", \"2012-01-19\", \"2012-01-20\", \"2012-01-21\", \"2012-01-22\", \"2012-01-23\", \"2012-01-24\", \"2012-01-25\", \"2012-01-26\", \"2012-01-27\", \"2012-01-28\", \"2012-01-29\", \"2012-01-30\", \"2012-01-31\", \"2012-02-01\", \"2012-02-02\", \"2012-02-03\", \"2012-02-04\", \"2012-02-05\", \"2012-02-06\", \"2012-02-07\", \"2012-02-08\", \"2012-02-09\", \"2012-02-10\", \"2012-02-11\", \"2012-02-12\", \"2012-02-13\", \"2012-02-14\", \"2012-02-15\", \"2012-02-16\", \"2012-02-17\", \"2012-02-18\", \"2012-02-19\", \"2012-02-20\", \"2012-02-21\", \"2012-02-22\", \"2012-02-23\", \"2012-02-24\", \"2012-02-25\", \"2012-02-26\", \"2012-02-27\", \"2012-02-28\", \"2012-02-29\", \"2012-03-01\", \"2012-03-02\", \"2012-03-03\", \"2012-03-04\", \"2012-03-05\", \"2012-03-06\", \"2012-03-07\", \"2012-03-08\", \"2012-03-09\", \"2012-03-10\", \"2012-03-11\", \"2012-03-12\", \"2012-03-13\", \"2012-03-14\", \"2012-03-15\", \"2012-03-16\", \"2012-03-17\", \"2012-03-18\", \"2012-03-19\", \"2012-03-20\", \"2012-03-21\", \"2012-03-22\", \"2012-03-23\", \"2012-03-24\", \"2012-03-25\", \"2012-03-26\", \"2012-03-27\", \"2012-03-28\", \"2012-03-29\", \"2012-03-30\", \"2012-03-31\", \"2012-04-01\", \"2012-04-02\", \"2012-04-03\", \"2012-04-04\", \"2012-04-05\", \"2012-04-06\", \"2012-04-07\", \"2012-04-08\", \"2012-04-09\", \"2012-04-10\", \"2012-04-11\", \"2012-04-12\", \"2012-04-13\", \"2012-04-14\", \"2012-04-15\", \"2012-04-16\", \"2012-04-17\", \"2012-04-18\", \"2012-04-19\", \"2012-04-20\", \"2012-04-21\", \"2012-04-22\", \"2012-04-23\", \"2012-04-24\", \"2012-04-25\", \"2012-04-26\", \"2012-04-27\", \"2012-04-28\", \"2012-04-29\", \"2012-04-30\", \"2012-05-01\", \"2012-05-02\", \"2012-05-03\", \"2012-05-04\", \"2012-05-05\", \"2012-05-06\", \"2012-05-07\", \"2012-05-08\", \"2012-05-09\", \"2012-05-10\", \"2012-05-11\", \"2012-05-12\", \"2012-05-13\", \"2012-05-14\", \"2012-05-15\", \"2012-05-16\", \"2012-05-17\", \"2012-05-18\", \"2012-05-19\", \"2012-05-20\", \"2012-05-21\", \"2012-05-22\", \"2012-05-23\", \"2012-05-24\", \"2012-05-25\", \"2012-05-26\", \"2012-05-27\", \"2012-05-28\", \"2012-05-29\", \"2012-05-30\", \"2012-05-31\", \"2012-06-01\", \"2012-06-02\", \"2012-06-03\", \"2012-06-04\", \"2012-06-05\", \"2012-06-06\", \"2012-06-07\", \"2012-06-08\", \"2012-06-09\", \"2012-06-10\", \"2012-06-11\", \"2012-06-12\", \"2012-06-13\", \"2012-06-14\", \"2012-06-15\", \"2012-06-16\", \"2012-06-17\", \"2012-06-18\", \"2012-06-19\", \"2012-06-20\", \"2012-06-21\", \"2012-06-22\", \"2012-06-23\", \"2012-06-24\", \"2012-06-25\", \"2012-06-26\", \"2012-06-27\", \"2012-06-28\", \"2012-06-29\", \"2012-06-30\", \"2012-07-01\", \"2012-07-02\", \"2012-07-03\", \"2012-07-04\", \"2012-07-05\", \"2012-07-06\", \"2012-07-07\", \"2012-07-08\", \"2012-07-09\", \"2012-07-10\", \"2012-07-11\", \"2012-07-12\", \"2012-07-13\", \"2012-07-14\", \"2012-07-15\", \"2012-07-16\", \"2012-07-17\", \"2012-07-18\", \"2012-07-19\", \"2012-07-20\", \"2012-07-21\", \"2012-07-22\", \"2012-07-23\", \"2012-07-24\", \"2012-07-25\", \"2012-07-26\", \"2012-07-27\", \"2012-07-28\", \"2012-07-29\", \"2012-07-30\", \"2012-07-31\", \"2012-08-01\", \"2012-08-02\", \"2012-08-03\", \"2012-08-04\", \"2012-08-05\", \"2012-08-06\", \"2012-08-07\", \"2012-08-08\", \"2012-08-09\", \"2012-08-10\", \"2012-08-11\", \"2012-08-12\", \"2012-08-13\", \"2012-08-14\", \"2012-08-15\", \"2012-08-16\", \"2012-08-17\", \"2012-08-18\", \"2012-08-19\", \"2012-08-20\", \"2012-08-21\", \"2012-08-22\", \"2012-08-23\", \"2012-08-24\", \"2012-08-25\", \"2012-08-26\", \"2012-08-27\", \"2012-08-28\", \"2012-08-29\", \"2012-08-30\", \"2012-08-31\", \"2012-09-01\", \"2012-09-02\", \"2012-09-03\", \"2012-09-04\", \"2012-09-05\", \"2012-09-06\", \"2012-09-07\", \"2012-09-08\", \"2012-09-09\", \"2012-09-10\", \"2012-09-11\", \"2012-09-12\", \"2012-09-13\", \"2012-09-14\", \"2012-09-15\", \"2012-09-16\", \"2012-09-17\", \"2012-09-18\", \"2012-09-19\", \"2012-09-20\", \"2012-09-21\", \"2012-09-22\", \"2012-09-23\", \"2012-09-24\", \"2012-09-25\", \"2012-09-26\", \"2012-09-27\", \"2012-09-28\", \"2012-09-29\", \"2012-09-30\", \"2012-10-01\", \"2012-10-02\", \"2012-10-03\", \"2012-10-04\", \"2012-10-05\", \"2012-10-06\", \"2012-10-07\", \"2012-10-08\", \"2012-10-09\", \"2012-10-10\", \"2012-10-11\", \"2012-10-12\", \"2012-10-13\", \"2012-10-14\", \"2012-10-15\", \"2012-10-16\", \"2012-10-17\", \"2012-10-18\", \"2012-10-19\", \"2012-10-20\", \"2012-10-21\", \"2012-10-22\", \"2012-10-23\", \"2012-10-24\", \"2012-10-25\", \"2012-10-26\", \"2012-10-27\", \"2012-10-28\", \"2012-10-29\", \"2012-10-30\", \"2012-10-31\", \"2012-11-01\", \"2012-11-02\", \"2012-11-03\", \"2012-11-04\", \"2012-11-05\", \"2012-11-06\", \"2012-11-07\", \"2012-11-08\", \"2012-11-09\", \"2012-11-10\", \"2012-11-11\", \"2012-11-12\", \"2012-11-13\", \"2012-11-14\", \"2012-11-15\", \"2012-11-16\", \"2012-11-17\", \"2012-11-18\", \"2012-11-19\", \"2012-11-20\", \"2012-11-21\", \"2012-11-22\", \"2012-11-23\", \"2012-11-24\", \"2012-11-25\", \"2012-11-26\", \"2012-11-27\", \"2012-11-28\", \"2012-11-29\", \"2012-11-30\", \"2012-12-01\", \"2012-12-02\", \"2012-12-03\", \"2012-12-04\", \"2012-12-05\", \"2012-12-06\", \"2012-12-07\", \"2012-12-08\", \"2012-12-09\", \"2012-12-10\", \"2012-12-11\", \"2012-12-12\", \"2012-12-13\", \"2012-12-14\", \"2012-12-15\", \"2012-12-16\", \"2012-12-17\", \"2012-12-18\", \"2012-12-19\", \"2012-12-20\", \"2012-12-21\", \"2012-12-22\", \"2012-12-23\", \"2012-12-24\", \"2012-12-25\", \"2012-12-26\", \"2012-12-27\", \"2012-12-28\", \"2012-12-29\", \"2012-12-30\", \"2012-12-31\", \"2013-01-01\", \"2013-01-02\", \"2013-01-03\", \"2013-01-04\", \"2013-01-05\", \"2013-01-06\", \"2013-01-07\", \"2013-01-08\", \"2013-01-09\", \"2013-01-10\", \"2013-01-11\", \"2013-01-12\", \"2013-01-13\", \"2013-01-14\", \"2013-01-15\", \"2013-01-16\", \"2013-01-17\", \"2013-01-18\", \"2013-01-19\", \"2013-01-20\", \"2013-01-21\", \"2013-01-22\", \"2013-01-23\", \"2013-01-24\", \"2013-01-25\", \"2013-01-26\", \"2013-01-27\", \"2013-01-28\", \"2013-01-29\", \"2013-01-30\", \"2013-01-31\", \"2013-02-01\", \"2013-02-02\", \"2013-02-03\", \"2013-02-04\", \"2013-02-05\", \"2013-02-06\", \"2013-02-07\", \"2013-02-08\", \"2013-02-09\", \"2013-02-10\", \"2013-02-11\", \"2013-02-12\", \"2013-02-13\", \"2013-02-14\", \"2013-02-15\", \"2013-02-16\", \"2013-02-17\", \"2013-02-18\", \"2013-02-19\", \"2013-02-20\", \"2013-02-21\", \"2013-02-22\", \"2013-02-23\", \"2013-02-24\", \"2013-02-25\", \"2013-02-26\", \"2013-02-27\", \"2013-02-28\", \"2013-03-01\", \"2013-03-02\", \"2013-03-03\", \"2013-03-04\", \"2013-03-05\", \"2013-03-06\", \"2013-03-07\", \"2013-03-08\", \"2013-03-09\", \"2013-03-10\", \"2013-03-11\", \"2013-03-12\", \"2013-03-13\", \"2013-03-14\", \"2013-03-15\", \"2013-03-16\", \"2013-03-17\", \"2013-03-18\", \"2013-03-19\", \"2013-03-20\", \"2013-03-21\", \"2013-03-22\", \"2013-03-23\", \"2013-03-24\", \"2013-03-25\", \"2013-03-26\", \"2013-03-27\", \"2013-03-28\", \"2013-03-29\", \"2013-03-30\", \"2013-03-31\", \"2013-04-01\", \"2013-04-02\", \"2013-04-03\", \"2013-04-04\", \"2013-04-05\", \"2013-04-06\", \"2013-04-07\", \"2013-04-08\", \"2013-04-09\", \"2013-04-10\", \"2013-04-11\", \"2013-04-12\", \"2013-04-13\", \"2013-04-14\", \"2013-04-15\", \"2013-04-16\", \"2013-04-17\", \"2013-04-18\", \"2013-04-19\", \"2013-04-20\", \"2013-04-21\", \"2013-04-22\", \"2013-04-23\", \"2013-04-24\", \"2013-04-25\", \"2013-04-26\", \"2013-04-27\", \"2013-04-28\", \"2013-04-29\", \"2013-04-30\", \"2013-05-01\", \"2013-05-02\", \"2013-05-03\", \"2013-05-04\", \"2013-05-05\", \"2013-05-06\", \"2013-05-07\", \"2013-05-08\", \"2013-05-09\", \"2013-05-10\", \"2013-05-11\", \"2013-05-12\", \"2013-05-13\", \"2013-05-14\", \"2013-05-15\", \"2013-05-16\", \"2013-05-17\", \"2013-05-18\", \"2013-05-19\", \"2013-05-20\", \"2013-05-21\", \"2013-05-22\", \"2013-05-23\", \"2013-05-24\", \"2013-05-25\", \"2013-05-26\", \"2013-05-27\", \"2013-05-28\", \"2013-05-29\", \"2013-05-30\", \"2013-05-31\", \"2013-06-01\", \"2013-06-02\", \"2013-06-03\", \"2013-06-04\", \"2013-06-05\", \"2013-06-06\", \"2013-06-07\", \"2013-06-08\", \"2013-06-09\", \"2013-06-10\", \"2013-06-11\", \"2013-06-12\", \"2013-06-13\", \"2013-06-14\", \"2013-06-15\", \"2013-06-16\", \"2013-06-17\", \"2013-06-18\", \"2013-06-19\", \"2013-06-20\", \"2013-06-21\", \"2013-06-22\", \"2013-06-23\", \"2013-06-24\", \"2013-06-25\", \"2013-06-26\", \"2013-06-27\", \"2013-06-28\", \"2013-06-29\", \"2013-06-30\", \"2013-07-01\", \"2013-07-02\", \"2013-07-03\", \"2013-07-04\", \"2013-07-05\", \"2013-07-06\", \"2013-07-07\", \"2013-07-08\", \"2013-07-09\", \"2013-07-10\", \"2013-07-11\", \"2013-07-12\", \"2013-07-13\", \"2013-07-14\", \"2013-07-15\", \"2013-07-16\", \"2013-07-17\", \"2013-07-18\", \"2013-07-19\", \"2013-07-20\", \"2013-07-21\", \"2013-07-22\", \"2013-07-23\", \"2013-07-24\", \"2013-07-25\", \"2013-07-26\", \"2013-07-27\", \"2013-07-28\", \"2013-07-29\", \"2013-07-30\", \"2013-07-31\", \"2013-08-01\", \"2013-08-02\", \"2013-08-03\", \"2013-08-04\", \"2013-08-05\", \"2013-08-06\", \"2013-08-07\", \"2013-08-08\", \"2013-08-09\", \"2013-08-10\", \"2013-08-11\", \"2013-08-12\", \"2013-08-13\", \"2013-08-14\", \"2013-08-15\", \"2013-08-16\", \"2013-08-17\", \"2013-08-18\", \"2013-08-19\", \"2013-08-20\", \"2013-08-21\", \"2013-08-22\", \"2013-08-23\", \"2013-08-24\", \"2013-08-25\", \"2013-08-26\", \"2013-08-27\", \"2013-08-28\", \"2013-08-29\", \"2013-08-30\", \"2013-08-31\", \"2013-09-01\", \"2013-09-02\", \"2013-09-03\", \"2013-09-04\", \"2013-09-05\", \"2013-09-06\", \"2013-09-07\", \"2013-09-08\", \"2013-09-09\", \"2013-09-10\", \"2013-09-11\", \"2013-09-12\", \"2013-09-13\", \"2013-09-14\", \"2013-09-15\", \"2013-09-16\", \"2013-09-17\", \"2013-09-18\", \"2013-09-19\", \"2013-09-20\", \"2013-09-21\", \"2013-09-22\", \"2013-09-23\", \"2013-09-24\", \"2013-09-25\", \"2013-09-26\", \"2013-09-27\", \"2013-09-28\", \"2013-09-29\", \"2013-09-30\", \"2013-10-01\", \"2013-10-02\", \"2013-10-03\", \"2013-10-04\", \"2013-10-05\", \"2013-10-06\", \"2013-10-07\", \"2013-10-08\", \"2013-10-09\", \"2013-10-10\", \"2013-10-11\", \"2013-10-12\", \"2013-10-13\", \"2013-10-14\", \"2013-10-15\", \"2013-10-16\", \"2013-10-17\", \"2013-10-18\", \"2013-10-19\", \"2013-10-20\", \"2013-10-21\", \"2013-10-22\", \"2013-10-23\", \"2013-10-24\", \"2013-10-25\", \"2013-10-26\", \"2013-10-27\", \"2013-10-28\", \"2013-10-29\", \"2013-10-30\", \"2013-10-31\", \"2013-11-01\", \"2013-11-02\", \"2013-11-03\", \"2013-11-04\", \"2013-11-05\", \"2013-11-06\", \"2013-11-07\", \"2013-11-08\", \"2013-11-09\", \"2013-11-10\", \"2013-11-11\", \"2013-11-12\", \"2013-11-13\", \"2013-11-14\", \"2013-11-15\", \"2013-11-16\", \"2013-11-17\", \"2013-11-18\", \"2013-11-19\", \"2013-11-20\", \"2013-11-21\", \"2013-11-22\", \"2013-11-23\", \"2013-11-24\", \"2013-11-25\", \"2013-11-26\", \"2013-11-27\", \"2013-11-28\", \"2013-11-29\", \"2013-11-30\", \"2013-12-01\", \"2013-12-02\", \"2013-12-03\", \"2013-12-04\", \"2013-12-05\", \"2013-12-06\", \"2013-12-07\", \"2013-12-08\", \"2013-12-09\", \"2013-12-10\", \"2013-12-11\", \"2013-12-12\", \"2013-12-13\", \"2013-12-14\", \"2013-12-15\", \"2013-12-16\", \"2013-12-17\", \"2013-12-18\", \"2013-12-19\", \"2013-12-20\", \"2013-12-21\", \"2013-12-22\", \"2013-12-23\", \"2013-12-24\", \"2013-12-25\", \"2013-12-26\", \"2013-12-27\", \"2013-12-28\", \"2013-12-29\", \"2013-12-30\", \"2013-12-31\", \"2014-01-01\", \"2014-01-02\", \"2014-01-03\", \"2014-01-04\", \"2014-01-05\", \"2014-01-06\", \"2014-01-07\", \"2014-01-08\", \"2014-01-09\", \"2014-01-10\", \"2014-01-11\", \"2014-01-12\", \"2014-01-13\", \"2014-01-14\", \"2014-01-15\", \"2014-01-16\", \"2014-01-17\", \"2014-01-18\", \"2014-01-19\", \"2014-01-20\", \"2014-01-21\", \"2014-01-22\", \"2014-01-23\", \"2014-01-24\", \"2014-01-25\", \"2014-01-26\", \"2014-01-27\", \"2014-01-28\", \"2014-01-29\", \"2014-01-30\", \"2014-01-31\", \"2014-02-01\", \"2014-02-02\", \"2014-02-03\", \"2014-02-04\", \"2014-02-05\", \"2014-02-06\", \"2014-02-07\", \"2014-02-08\", \"2014-02-09\", \"2014-02-10\", \"2014-02-11\", \"2014-02-12\", \"2014-02-13\", \"2014-02-14\", \"2014-02-15\", \"2014-02-16\", \"2014-02-17\", \"2014-02-18\", \"2014-02-19\", \"2014-02-20\", \"2014-02-21\", \"2014-02-22\", \"2014-02-23\", \"2014-02-24\", \"2014-02-25\", \"2014-02-26\", \"2014-02-27\", \"2014-02-28\", \"2014-03-01\", \"2014-03-02\", \"2014-03-03\", \"2014-03-04\", \"2014-03-05\", \"2014-03-06\", \"2014-03-07\", \"2014-03-08\", \"2014-03-09\", \"2014-03-10\", \"2014-03-11\", \"2014-03-12\", \"2014-03-13\", \"2014-03-14\", \"2014-03-15\", \"2014-03-16\", \"2014-03-17\", \"2014-03-18\", \"2014-03-19\", \"2014-03-20\", \"2014-03-21\", \"2014-03-22\", \"2014-03-23\", \"2014-03-24\", \"2014-03-25\", \"2014-03-26\", \"2014-03-27\", \"2014-03-28\", \"2014-03-29\", \"2014-03-30\", \"2014-03-31\", \"2014-04-01\", \"2014-04-02\", \"2014-04-03\", \"2014-04-04\", \"2014-04-05\", \"2014-04-06\", \"2014-04-07\", \"2014-04-08\", \"2014-04-09\", \"2014-04-10\", \"2014-04-11\", \"2014-04-12\", \"2014-04-13\", \"2014-04-14\", \"2014-04-15\", \"2014-04-16\", \"2014-04-17\", \"2014-04-18\", \"2014-04-19\", \"2014-04-20\", \"2014-04-21\", \"2014-04-22\", \"2014-04-23\", \"2014-04-24\", \"2014-04-25\", \"2014-04-26\", \"2014-04-27\", \"2014-04-28\", \"2014-04-29\", \"2014-04-30\", \"2014-05-01\", \"2014-05-02\", \"2014-05-03\", \"2014-05-04\", \"2014-05-05\", \"2014-05-06\", \"2014-05-07\", \"2014-05-08\", \"2014-05-09\", \"2014-05-10\", \"2014-05-11\", \"2014-05-12\", \"2014-05-13\", \"2014-05-14\", \"2014-05-15\", \"2014-05-16\", \"2014-05-17\", \"2014-05-18\", \"2014-05-19\", \"2014-05-20\", \"2014-05-21\", \"2014-05-22\", \"2014-05-23\", \"2014-05-24\", \"2014-05-25\", \"2014-05-26\", \"2014-05-27\", \"2014-05-28\", \"2014-05-29\", \"2014-05-30\", \"2014-05-31\", \"2014-06-01\", \"2014-06-02\", \"2014-06-03\", \"2014-06-04\", \"2014-06-05\", \"2014-06-06\", \"2014-06-07\", \"2014-06-08\", \"2014-06-09\", \"2014-06-10\", \"2014-06-11\", \"2014-06-12\", \"2014-06-13\", \"2014-06-14\", \"2014-06-15\", \"2014-06-16\", \"2014-06-17\", \"2014-06-18\", \"2014-06-19\", \"2014-06-20\", \"2014-06-21\", \"2014-06-22\", \"2014-06-23\", \"2014-06-24\", \"2014-06-25\", \"2014-06-26\", \"2014-06-27\", \"2014-06-28\", \"2014-06-29\", \"2014-06-30\", \"2014-07-01\", \"2014-07-02\", \"2014-07-03\", \"2014-07-04\", \"2014-07-05\", \"2014-07-06\", \"2014-07-07\", \"2014-07-08\", \"2014-07-09\", \"2014-07-10\", \"2014-07-11\", \"2014-07-12\", \"2014-07-13\", \"2014-07-14\", \"2014-07-15\", \"2014-07-16\", \"2014-07-17\", \"2014-07-18\", \"2014-07-19\", \"2014-07-20\", \"2014-07-21\", \"2014-07-22\", \"2014-07-23\", \"2014-07-24\", \"2014-07-25\", \"2014-07-26\", \"2014-07-27\", \"2014-07-28\", \"2014-07-29\", \"2014-07-30\", \"2014-07-31\", \"2014-08-01\", \"2014-08-02\", \"2014-08-03\", \"2014-08-04\", \"2014-08-05\", \"2014-08-06\", \"2014-08-07\", \"2014-08-08\", \"2014-08-09\", \"2014-08-10\", \"2014-08-11\", \"2014-08-12\", \"2014-08-13\", \"2014-08-14\", \"2014-08-15\", \"2014-08-16\", \"2014-08-17\", \"2014-08-18\", \"2014-08-19\", \"2014-08-20\", \"2014-08-21\", \"2014-08-22\", \"2014-08-23\", \"2014-08-24\", \"2014-08-25\", \"2014-08-26\", \"2014-08-27\", \"2014-08-28\", \"2014-08-29\", \"2014-08-30\", \"2014-08-31\", \"2014-09-01\", \"2014-09-02\", \"2014-09-03\", \"2014-09-04\", \"2014-09-05\", \"2014-09-06\", \"2014-09-07\", \"2014-09-08\", \"2014-09-09\", \"2014-09-10\", \"2014-09-11\", \"2014-09-12\", \"2014-09-13\", \"2014-09-14\", \"2014-09-15\", \"2014-09-16\", \"2014-09-17\", \"2014-09-18\", \"2014-09-19\", \"2014-09-20\", \"2014-09-21\", \"2014-09-22\", \"2014-09-23\", \"2014-09-24\", \"2014-09-25\", \"2014-09-26\", \"2014-09-27\", \"2014-09-28\", \"2014-09-29\", \"2014-09-30\", \"2014-10-01\", \"2014-10-02\", \"2014-10-03\", \"2014-10-04\", \"2014-10-05\", \"2014-10-06\", \"2014-10-07\", \"2014-10-08\", \"2014-10-09\", \"2014-10-10\", \"2014-10-11\", \"2014-10-12\", \"2014-10-13\", \"2014-10-14\", \"2014-10-15\", \"2014-10-16\", \"2014-10-17\", \"2014-10-18\", \"2014-10-19\", \"2014-10-20\", \"2014-10-21\", \"2014-10-22\", \"2014-10-23\", \"2014-10-24\", \"2014-10-25\", \"2014-10-26\", \"2014-10-27\", \"2014-10-28\", \"2014-10-29\", \"2014-10-30\", \"2014-10-31\", \"2014-11-01\", \"2014-11-02\", \"2014-11-03\", \"2014-11-04\", \"2014-11-05\", \"2014-11-06\", \"2014-11-07\", \"2014-11-08\", \"2014-11-09\", \"2014-11-10\", \"2014-11-11\", \"2014-11-12\", \"2014-11-13\", \"2014-11-14\", \"2014-11-15\", \"2014-11-16\", \"2014-11-17\", \"2014-11-18\", \"2014-11-19\", \"2014-11-20\", \"2014-11-21\", \"2014-11-22\", \"2014-11-23\", \"2014-11-24\", \"2014-11-25\", \"2014-11-26\", \"2014-11-27\", \"2014-11-28\", \"2014-11-29\", \"2014-11-30\", \"2014-12-01\", \"2014-12-02\", \"2014-12-03\", \"2014-12-04\", \"2014-12-05\", \"2014-12-06\", \"2014-12-07\", \"2014-12-08\", \"2014-12-09\", \"2014-12-10\", \"2014-12-11\", \"2014-12-12\", \"2014-12-13\", \"2014-12-14\", \"2014-12-15\", \"2014-12-16\", \"2014-12-17\", \"2014-12-18\", \"2014-12-19\", \"2014-12-20\", \"2014-12-21\", \"2014-12-22\", \"2014-12-23\", \"2014-12-24\", \"2014-12-25\", \"2014-12-26\", \"2014-12-27\", \"2014-12-28\", \"2014-12-29\", \"2014-12-30\", \"2014-12-31\", \"2015-01-01\", \"2015-01-02\", \"2015-01-03\", \"2015-01-04\", \"2015-01-05\", \"2015-01-06\", \"2015-01-07\", \"2015-01-08\", \"2015-01-09\", \"2015-01-10\", \"2015-01-11\", \"2015-01-12\", \"2015-01-13\", \"2015-01-14\", \"2015-01-15\", \"2015-01-16\", \"2015-01-17\", \"2015-01-18\", \"2015-01-19\", \"2015-01-20\", \"2015-01-21\", \"2015-01-22\", \"2015-01-23\", \"2015-01-24\", \"2015-01-25\", \"2015-01-26\", \"2015-01-27\", \"2015-01-28\", \"2015-01-29\", \"2015-01-30\", \"2015-01-31\", \"2015-02-01\", \"2015-02-02\", \"2015-02-03\", \"2015-02-04\", \"2015-02-05\", \"2015-02-06\", \"2015-02-07\", \"2015-02-08\", \"2015-02-09\", \"2015-02-10\", \"2015-02-11\", \"2015-02-12\", \"2015-02-13\", \"2015-02-14\", \"2015-02-15\", \"2015-02-16\", \"2015-02-17\", \"2015-02-18\", \"2015-02-19\", \"2015-02-20\", \"2015-02-21\", \"2015-02-22\", \"2015-02-23\", \"2015-02-24\", \"2015-02-25\", \"2015-02-26\", \"2015-02-27\", \"2015-02-28\", \"2015-03-01\", \"2015-03-02\", \"2015-03-03\", \"2015-03-04\", \"2015-03-05\", \"2015-03-06\", \"2015-03-07\", \"2015-03-08\", \"2015-03-09\", \"2015-03-10\", \"2015-03-11\", \"2015-03-12\", \"2015-03-13\", \"2015-03-14\", \"2015-03-15\", \"2015-03-16\", \"2015-03-17\", \"2015-03-18\", \"2015-03-19\", \"2015-03-20\", \"2015-03-21\", \"2015-03-22\", \"2015-03-23\", \"2015-03-24\", \"2015-03-25\", \"2015-03-26\", \"2015-03-27\", \"2015-03-28\", \"2015-03-29\", \"2015-03-30\", \"2015-03-31\", \"2015-04-01\", \"2015-04-02\", \"2015-04-03\", \"2015-04-04\", \"2015-04-05\", \"2015-04-06\", \"2015-04-07\", \"2015-04-08\", \"2015-04-09\", \"2015-04-10\", \"2015-04-11\", \"2015-04-12\", \"2015-04-13\", \"2015-04-14\", \"2015-04-15\", \"2015-04-16\", \"2015-04-17\", \"2015-04-18\", \"2015-04-19\", \"2015-04-20\", \"2015-04-21\", \"2015-04-22\", \"2015-04-23\", \"2015-04-24\", \"2015-04-25\", \"2015-04-26\", \"2015-04-27\", \"2015-04-28\", \"2015-04-29\", \"2015-04-30\", \"2015-05-01\", \"2015-05-02\", \"2015-05-03\", \"2015-05-04\", \"2015-05-05\", \"2015-05-06\", \"2015-05-07\", \"2015-05-08\", \"2015-05-09\", \"2015-05-10\", \"2015-05-11\", \"2015-05-12\", \"2015-05-13\", \"2015-05-14\", \"2015-05-15\", \"2015-05-16\", \"2015-05-17\", \"2015-05-18\", \"2015-05-19\", \"2015-05-20\", \"2015-05-21\", \"2015-05-22\", \"2015-05-23\", \"2015-05-24\", \"2015-05-25\", \"2015-05-26\", \"2015-05-27\", \"2015-05-28\", \"2015-05-29\", \"2015-05-30\", \"2015-05-31\", \"2015-06-01\", \"2015-06-02\", \"2015-06-03\", \"2015-06-04\", \"2015-06-05\", \"2015-06-06\", \"2015-06-07\", \"2015-06-08\", \"2015-06-09\", \"2015-06-10\", \"2015-06-11\", \"2015-06-12\", \"2015-06-13\", \"2015-06-14\", \"2015-06-15\", \"2015-06-16\", \"2015-06-17\", \"2015-06-18\", \"2015-06-19\", \"2015-06-20\", \"2015-06-21\", \"2015-06-22\", \"2015-06-23\", \"2015-06-24\", \"2015-06-25\", \"2015-06-26\", \"2015-06-27\", \"2015-06-28\", \"2015-06-29\", \"2015-06-30\", \"2015-07-01\", \"2015-07-02\", \"2015-07-03\", \"2015-07-04\", \"2015-07-05\", \"2015-07-06\", \"2015-07-07\", \"2015-07-08\", \"2015-07-09\", \"2015-07-10\", \"2015-07-11\", \"2015-07-12\", \"2015-07-13\", \"2015-07-14\", \"2015-07-15\", \"2015-07-16\", \"2015-07-17\", \"2015-07-18\", \"2015-07-19\", \"2015-07-20\", \"2015-07-21\", \"2015-07-22\", \"2015-07-23\", \"2015-07-24\", \"2015-07-25\", \"2015-07-26\", \"2015-07-27\", \"2015-07-28\", \"2015-07-29\", \"2015-07-30\", \"2015-07-31\", \"2015-08-01\", \"2015-08-02\", \"2015-08-03\", \"2015-08-04\", \"2015-08-05\", \"2015-08-06\", \"2015-08-07\", \"2015-08-08\", \"2015-08-09\", \"2015-08-10\", \"2015-08-11\", \"2015-08-12\", \"2015-08-13\", \"2015-08-14\", \"2015-08-15\", \"2015-08-16\", \"2015-08-17\", \"2015-08-18\", \"2015-08-19\", \"2015-08-20\", \"2015-08-21\", \"2015-08-22\", \"2015-08-23\", \"2015-08-24\", \"2015-08-25\", \"2015-08-26\", \"2015-08-27\", \"2015-08-28\", \"2015-08-29\", \"2015-08-30\", \"2015-08-31\", \"2015-09-01\", \"2015-09-02\", \"2015-09-03\", \"2015-09-04\", \"2015-09-05\", \"2015-09-06\", \"2015-09-07\", \"2015-09-08\", \"2015-09-09\", \"2015-09-10\", \"2015-09-11\", \"2015-09-12\", \"2015-09-13\", \"2015-09-14\", \"2015-09-15\", \"2015-09-16\", \"2015-09-17\", \"2015-09-18\", \"2015-09-19\", \"2015-09-20\", \"2015-09-21\", \"2015-09-22\", \"2015-09-23\", \"2015-09-24\", \"2015-09-25\", \"2015-09-26\", \"2015-09-27\", \"2015-09-28\", \"2015-09-29\", \"2015-09-30\", \"2015-10-01\", \"2015-10-02\", \"2015-10-03\", \"2015-10-04\", \"2015-10-05\", \"2015-10-06\", \"2015-10-07\", \"2015-10-08\", \"2015-10-09\", \"2015-10-10\", \"2015-10-11\", \"2015-10-12\", \"2015-10-13\", \"2015-10-14\", \"2015-10-15\", \"2015-10-16\", \"2015-10-17\", \"2015-10-18\", \"2015-10-19\", \"2015-10-20\", \"2015-10-21\", \"2015-10-22\", \"2015-10-23\", \"2015-10-24\", \"2015-10-25\", \"2015-10-26\", \"2015-10-27\", \"2015-10-28\", \"2015-10-29\", \"2015-10-30\", \"2015-10-31\", \"2015-11-01\", \"2015-11-02\", \"2015-11-03\", \"2015-11-04\", \"2015-11-05\", \"2015-11-06\", \"2015-11-07\", \"2015-11-08\", \"2015-11-09\", \"2015-11-10\", \"2015-11-11\", \"2015-11-12\", \"2015-11-13\", \"2015-11-14\", \"2015-11-15\", \"2015-11-16\", \"2015-11-17\", \"2015-11-18\", \"2015-11-19\", \"2015-11-20\", \"2015-11-21\", \"2015-11-22\", \"2015-11-23\", \"2015-11-24\", \"2015-11-25\", \"2015-11-26\", \"2015-11-27\", \"2015-11-28\", \"2015-11-29\", \"2015-11-30\", \"2015-12-01\", \"2015-12-02\", \"2015-12-03\", \"2015-12-04\", \"2015-12-05\", \"2015-12-06\", \"2015-12-07\", \"2015-12-08\", \"2015-12-09\", \"2015-12-10\", \"2015-12-11\", \"2015-12-12\", \"2015-12-13\", \"2015-12-14\", \"2015-12-15\", \"2015-12-16\", \"2015-12-17\", \"2015-12-18\", \"2015-12-19\", \"2015-12-20\", \"2015-12-21\", \"2015-12-22\", \"2015-12-23\", \"2015-12-24\", \"2015-12-25\", \"2015-12-26\", \"2015-12-27\", \"2015-12-28\", \"2015-12-29\", \"2015-12-30\", \"2015-12-31\", \"2016-01-01\", \"2016-01-02\", \"2016-01-03\", \"2016-01-04\", \"2016-01-05\", \"2016-01-06\", \"2016-01-07\", \"2016-01-08\", \"2016-01-09\", \"2016-01-10\", \"2016-01-11\", \"2016-01-12\", \"2016-01-13\", \"2016-01-14\", \"2016-01-15\", \"2016-01-16\", \"2016-01-17\", \"2016-01-18\", \"2016-01-19\", \"2016-01-20\", \"2016-01-21\", \"2016-01-22\", \"2016-01-23\", \"2016-01-24\", \"2016-01-25\", \"2016-01-26\", \"2016-01-27\", \"2016-01-28\", \"2016-01-29\", \"2016-01-30\", \"2016-01-31\", \"2016-02-01\", \"2016-02-02\", \"2016-02-03\", \"2016-02-04\", \"2016-02-05\", \"2016-02-06\", \"2016-02-07\", \"2016-02-08\", \"2016-02-09\", \"2016-02-10\", \"2016-02-11\", \"2016-02-12\", \"2016-02-13\", \"2016-02-14\", \"2016-02-15\", \"2016-02-16\", \"2016-02-17\", \"2016-02-18\", \"2016-02-19\", \"2016-02-20\", \"2016-02-21\", \"2016-02-22\", \"2016-02-23\", \"2016-02-24\", \"2016-02-25\", \"2016-02-26\", \"2016-02-27\", \"2016-02-28\", \"2016-02-29\", \"2016-03-01\", \"2016-03-02\", \"2016-03-03\", \"2016-03-04\", \"2016-03-05\", \"2016-03-06\", \"2016-03-07\", \"2016-03-08\", \"2016-03-09\", \"2016-03-10\", \"2016-03-11\", \"2016-03-12\", \"2016-03-13\", \"2016-03-14\", \"2016-03-15\", \"2016-03-16\", \"2016-03-17\", \"2016-03-18\", \"2016-03-19\", \"2016-03-20\", \"2016-03-21\", \"2016-03-22\", \"2016-03-23\", \"2016-03-24\", \"2016-03-25\", \"2016-03-26\", \"2016-03-27\", \"2016-03-28\", \"2016-03-29\", \"2016-03-30\", \"2016-03-31\", \"2016-04-01\", \"2016-04-02\", \"2016-04-03\", \"2016-04-04\", \"2016-04-05\", \"2016-04-06\", \"2016-04-07\", \"2016-04-08\", \"2016-04-09\", \"2016-04-10\", \"2016-04-11\", \"2016-04-12\", \"2016-04-13\", \"2016-04-14\", \"2016-04-15\", \"2016-04-16\", \"2016-04-17\", \"2016-04-18\", \"2016-04-19\", \"2016-04-20\", \"2016-04-21\", \"2016-04-22\", \"2016-04-23\", \"2016-04-24\", \"2016-04-25\", \"2016-04-26\", \"2016-04-27\", \"2016-04-28\", \"2016-04-29\", \"2016-04-30\", \"2016-05-01\", \"2016-05-02\", \"2016-05-03\", \"2016-05-04\", \"2016-05-05\", \"2016-05-06\", \"2016-05-07\", \"2016-05-08\", \"2016-05-09\", \"2016-05-10\", \"2016-05-11\", \"2016-05-12\", \"2016-05-13\", \"2016-05-14\", \"2016-05-15\", \"2016-05-16\", \"2016-05-17\", \"2016-05-18\", \"2016-05-19\", \"2016-05-20\", \"2016-05-21\", \"2016-05-22\"], \"xaxis\": \"x\", \"y\": [32631, 31749, 23783, 25412, 19146, 29211, 28010, 37932, 32736, 25572, 23071, 23658, 23756, 26445, 34833, 36380, 21804, 24070, 21443, 20318, 23721, 31689, 29283, 23966, 20501, 20757, 20277, 22529, 29908, 28707, 21240, 22872, 22046, 23475, 23572, 31202, 34876, 24562, 22752, 22560, 22626, 25572, 32225, 31417, 24935, 24021, 22765, 21779, 23855, 30599, 29643, 23101, 20492, 19230, 18854, 23350, 29620, 29866, 21449, 19581, 18928, 21742, 28309, 33478, 33058, 24852, 23581, 22656, 22901, 24754, 31745, 31536, 24829, 23218, 21611, 21964, 25482, 29234, 29787, 22389, 19474, 20188, 19768, 24279, 29575, 24018, 20004, 18113, 17929, 18145, 22735, 28101, 29045, 22837, 24080, 20761, 21184, 24486, 28412, 23688, 25024, 22231, 22165, 22413, 25648, 28736, 31320, 22213, 19613, 18770, 18684, 21649, 27112, 26246, 20954, 19203, 19058, 20480, 22481, 25527, 23449, 22538, 19555, 23165, 22681, 26781, 30310, 31604, 26685, 25089, 24453, 24782, 26419, 29940, 31094, 25752, 24155, 25258, 22706, 24712, 28825, 26106, 24261, 21810, 21401, 22780, 24638, 26482, 27668, 22642, 19800, 19930, 21451, 31033, 33001, 29173, 23033, 26596, 26602, 26727, 27679, 32486, 31539, 26592, 24632, 23445, 23447, 27349, 30869, 30334, 24639, 21931, 22487, 22778, 26356, 30284, 28799, 22895, 21195, 20504, 21243, 24542, 28953, 28677, 26607, 25475, 27237, 23713, 26594, 31959, 32006, 26354, 26213, 24578, 24708, 28544, 33003, 33909, 28511, 25266, 23681, 23376, 27004, 32258, 33973, 25324, 22617, 21935, 21414, 24268, 30383, 30626, 22085, 20350, 21723, 26299, 29208, 34032, 26925, 30158, 26134, 24445, 24048, 28246, 33030, 34632, 26138, 24645, 23505, 26343, 26933, 32195, 32034, 24367, 22675, 21796, 21859, 26706, 32466, 33228, 24090, 22788, 22193, 22383, 30182, 39312, 37214, 30455, 26114, 25913, 26066, 29985, 35930, 35940, 29401, 27427, 27414, 26116, 29885, 38426, 36127, 27592, 24202, 22441, 22402, 27130, 33151, 32876, 24516, 22437, 22142, 22982, 26880, 33219, 31853, 22695, 26039, 24808, 27902, 28596, 36887, 37887, 27278, 25188, 26092, 26147, 29755, 35922, 35348, 26773, 26701, 23928, 23114, 26507, 33545, 32753, 25574, 25654, 30787, 18427, 23998, 25292, 27134, 22378, 21584, 21089, 26268, 29727, 38129, 35078, 29220, 27267, 25453, 26347, 29438, 34786, 35743, 29151, 26913, 26794, 29644, 28885, 34159, 32087, 27068, 26262, 26662, 28182, 34646, 29958, 13, 28032, 24651, 24791, 24541, 33652, 33751, 21807, 33053, 28751, 25821, 28499, 30405, 37143, 36722, 28206, 26640, 29044, 24715, 29463, 36815, 36459, 30548, 22187, 25348, 24034, 27204, 38578, 32587, 24702, 23549, 22408, 23237, 27199, 34362, 33577, 25188, 25124, 29851, 28615, 35104, 43029, 40075, 30681, 28108, 28579, 29927, 29863, 41757, 41904, 31675, 25100, 26878, 25195, 27604, 36622, 36338, 30218, 25190, 24115, 25211, 27870, 35769, 36281, 27270, 24359, 24802, 30232, 32543, 41319, 40325, 32703, 31532, 28608, 29759, 32322, 39559, 40612, 32501, 29100, 27841, 30752, 30951, 37904, 37694, 29187, 25533, 26227, 26015, 29055, 37089, 37843, 27182, 24649, 24783, 23879, 30732, 38463, 39783, 31359, 33033, 28318, 31368, 37545, 45638, 36210, 31993, 28800, 29575, 28568, 31938, 38546, 38707, 27672, 26067, 24699, 24824, 28143, 36708, 36764, 26670, 24848, 24448, 24530, 28977, 35647, 36124, 27356, 30290, 29239, 32959, 32932, 39201, 41529, 33477, 30433, 30204, 28164, 32814, 40872, 33769, 31583, 31758, 28677, 27323, 32311, 37929, 39514, 28805, 27502, 26623, 27963, 32797, 37239, 33853, 33407, 28620, 27150, 28809, 39529, 44943, 43910, 33294, 34006, 33587, 32535, 36901, 43309, 44944, 39636, 35074, 32930, 33782, 41798, 44438, 39039, 34100, 31967, 31468, 30764, 36477, 40010, 40509, 31847, 29371, 28885, 29585, 36377, 40594, 40699, 35863, 39542, 32656, 34408, 39991, 41431, 42672, 35770, 32587, 33072, 33077, 36582, 42348, 43689, 33020, 30418, 28916, 30864, 35402, 39544, 39952, 30864, 29479, 28354, 28538, 31840, 34588, 36147, 28933, 29531, 33970, 35260, 39511, 41276, 43009, 37024, 32394, 32301, 35008, 36465, 44081, 45798, 36030, 34312, 35497, 34405, 35457, 41521, 43364, 32410, 30206, 28922, 28552, 33044, 39964, 41021, 31010, 28472, 27101, 28303, 37092, 44630, 42819, 44525, 31879, 31854, 32575, 34775, 43218, 46649, 32972, 32370, 31018, 30142, 36359, 45959, 44286, 31860, 29276, 27065, 28557, 33634, 41889, 41362, 29176, 27979, 26932, 27231, 32656, 40981, 39736, 34841, 33830, 34220, 30075, 34588, 44040, 41872, 33790, 32295, 29969, 29998, 35052, 42226, 42237, 33684, 27869, 27103, 26169, 29711, 36689, 36987, 26712, 25419, 24390, 24312, 31863, 38547, 37184, 27581, 28080, 24975, 31051, 35514, 45079, 42545, 33057, 30514, 29683, 30757, 35722, 42884, 43517, 33213, 28308, 27835, 29713, 31616, 40441, 37576, 29330, 30274, 35208, 21909, 23423, 30016, 32732, 26476, 24489, 23545, 23868, 30389, 42496, 40940, 35337, 28819, 31184, 31124, 33594, 41573, 42526, 31089, 30298, 30016, 28671, 32902, 42390, 40053, 31025, 30254, 31782, 30872, 32848, 40015, 38987, 32623, 11, 29701, 29086, 32347, 37154, 35699, 35036, 24087, 32184, 36241, 33742, 43287, 43994, 33517, 31220, 29532, 29793, 34476, 45878, 40207, 30614, 30901, 28802, 28370, 32812, 42267, 37041, 30887, 25556, 25594, 24967, 29852, 40693, 38427, 27796, 25549, 23523, 26751, 39076, 51032, 41558, 28992, 31633, 31937, 29699, 35546, 45852, 43910, 36617, 36141, 38551, 30209, 38260, 45157, 44653, 34638, 28248, 30201, 31408, 32563, 43031, 44142, 32020, 27328, 27884, 30374, 39451, 49772, 48247, 35817, 31236, 32028, 29770, 34292, 44889, 44108, 36438, 33792, 31808, 33167, 37501, 43652, 42570, 31365, 29012, 29456, 29642, 33168, 40620, 40633, 29667, 28632, 28258, 29654, 38067, 46410, 34448, 34522, 34642, 35594, 32174, 38056, 46821, 46444, 35017, 33750, 31441, 32692, 36082, 43645, 43990, 34102, 31039, 28815, 28474, 32829, 40857, 39931, 29951, 27059, 27607, 27476, 31206, 35329, 38902, 27445, 28144, 31358, 31741, 36950, 40812, 43203, 35368, 31673, 31346, 32938, 33497, 45385, 37390, 34609, 32885, 34611, 31937, 34682, 40830, 42673, 33646, 30286, 28935, 30902, 35081, 39143, 36049, 36277, 29298, 26967, 28125, 36086, 44808, 47502, 39245, 33809, 35911, 34166, 37602, 44647, 48164, 36769, 34625, 33942, 34188, 39767, 46309, 39690, 34118, 31177, 31070, 31771, 36703, 42276, 43275, 34118, 31603, 30356, 31457, 36753, 44949, 44823, 38716, 37242, 43999, 36783, 40807, 41832, 44624, 37460, 37253, 34579, 36361, 41279, 45185, 46672, 37624, 33937, 32467, 33921, 36194, 41527, 42039, 32203, 31304, 31468, 31816, 36843, 41672, 40480, 31763, 30162, 31255, 37309, 41663, 47105, 44439, 39149, 36694, 35079, 34886, 40699, 44912, 47520, 38753, 35144, 33732, 37643, 38025, 44431, 44894, 35237, 31625, 32633, 31793, 37113, 44836, 48577, 34200, 32963, 32456, 31710, 41621, 47972, 44741, 47072, 37799, 33328, 35425, 38684, 47600, 51740, 39765, 34663, 36195, 36767, 40971, 49166, 50970, 36775, 32571, 31281, 30823, 36281, 46001, 46210, 32784, 31064, 29959, 30648, 35502, 44441, 44396, 32893, 36730, 33900, 37215, 37334, 48777, 49888, 37003, 34544, 34746, 34019, 38093, 46581, 46343, 36836, 33213, 32677, 30538, 34337, 42043, 43352, 31859, 28957, 29525, 29260, 33877, 42454, 40665, 32058, 29529, 31136, 27034, 39727, 47093, 48373, 32972, 34087, 33030, 31953, 35460, 45717, 43905, 36396, 32275, 29255, 29468, 35775, 44587, 42589, 32110, 28522, 27915, 28699, 32863, 40047, 38446, 28645, 31293, 36139, 19839, 26073, 31546, 38187, 37087, 38024, 31519, 35151, 36899, 44450, 40424, 33653, 31422, 30911, 31669, 36163, 41528, 43097, 32474, 30338, 31692, 32411, 32123, 40474, 34915, 35289, 31077, 20, 32727, 33095, 36490, 34121, 32293, 34811, 23845, 32653, 38870, 44616, 45302, 32412, 30952, 32973, 33197, 32766, 47798, 46858, 33714, 30223, 31579, 31190, 35240, 43233, 40427, 32706, 27854, 28197, 26244, 30888, 40529, 40197, 30060, 24000, 24983, 27017, 36489, 45333, 43897, 37294, 30577, 31676, 32389, 34255, 47108, 48040, 33147, 33533, 36738, 37483, 33910, 44965, 43832, 34557, 30710, 30411, 29703, 33326, 41488, 44427, 31797, 29725, 26351, 28890, 34198, 45496, 46777, 37201, 30066, 31278, 32662, 34864, 43485, 50090, 37506, 34567, 34942, 33084, 36946, 44708, 45376, 32084, 30095, 29384, 28809, 33202, 41441, 44171, 31843, 28466, 27014, 30210, 32918, 41193, 43156, 30672, 33708, 33699, 36604, 35685, 46776, 48790, 36594, 35248, 35209, 33038, 38439, 46155, 46083, 35751, 36396, 34228, 33193, 38905, 47819, 38934, 31626, 30678, 30437, 30792, 33427, 42377, 43440, 31508, 29865, 28883, 33859, 38951, 46542, 45139, 35820, 33611, 32146, 31819, 36363, 42843, 38180, 37922, 33844, 32817, 33522, 34589, 40019, 43020, 32314, 29926, 29083, 30386, 33425, 38386, 35965, 33459, 28912, 28109, 27689, 33740, 40692, 44602, 37312, 38357, 32899, 35655, 37457, 44347, 45279, 38256, 33658, 34644, 35077, 38356, 44984, 42494, 35203, 33542, 32269, 33120, 37996, 42420, 42460, 33158, 30641, 28821, 29356, 34078, 39930, 40211, 33449, 37739, 37869, 47028, 38593, 40782, 45490, 37635, 36448, 37214, 35179, 40253, 47696, 43675, 36281, 35815, 33011, 32430, 36449, 42480, 42689, 33451, 31512, 30939, 30525, 33848, 39008, 42214, 32632, 30705, 30334, 31840, 43129, 47011, 47572, 35799, 36238, 34547, 34577, 38980, 45258, 43249, 36122, 36672, 34419, 34536, 38258, 44555, 46673, 35379, 31959, 31847, 32399, 37116, 44673, 47443, 34667, 31402, 29506, 29976, 37693, 43237, 39210, 43256, 34299, 37397, 31483, 35966, 46017, 45953, 35580, 34167, 31792, 34480, 38359, 47579, 45747, 36559, 31037, 29831, 28861, 34832, 43032, 44402, 31510, 29410, 29001, 29511, 33127, 40839, 42924, 31473, 29990, 34602, 34249, 41836, 47199, 48361, 37719, 33151, 33185, 33738, 35001, 44561, 46735, 33557, 32451, 34193, 29936, 33430, 43755, 43456, 32233, 29367, 27926, 28506, 32790, 40753, 40197, 31203, 28340, 27563, 30235, 32850, 44249, 46072, 38564, 31952, 30832, 33223, 34763, 44270, 47415, 34449, 32588, 30490, 28711, 34739, 44383, 43516, 31811, 28014, 28047, 28247, 32863, 42402, 40630, 31598, 31888, 36903, 21844, 26354, 34456, 35805, 34305, 30569, 32605, 31516, 36963, 43815, 42527, 33114, 32667, 31898, 26115, 33502, 40036, 42006, 34127, 29936, 30152, 32367, 29834, 38421, 38488, 33736, 34862, 29617, 20, 32909, 32594, 31894, 29990, 29417, 33450, 26452, 39633, 41085, 39647, 34691, 32682, 29165, 29029, 34385, 43946, 45066, 35574, 30324, 31059, 33063, 34889, 45169, 40724, 34412, 28363, 28109, 25795, 32221, 42181, 42623, 30358, 27873, 28104, 28225, 37440, 50828, 40385, 35006, 37405, 33992, 34647, 36809, 50836, 49719, 39170, 35464, 35701, 38570, 36936, 41614, 44007, 37147, 30697, 28505, 28808, 33119, 42109, 43759, 31522, 29780, 29227, 29223, 33566, 44154, 45186, 35398, 34387, 31774, 32819, 35937, 44229, 47379, 36020, 33597, 32891, 34391, 36623, 44471, 48827, 35495, 31412, 29947, 29369, 32999, 41982, 44014, 32338, 26841, 31995, 29902, 32535, 41531, 42583, 31899, 30956, 35060, 33817, 44108, 48419, 41636, 36215, 33911, 34149, 34437, 36853, 45272, 47180, 34494, 33597, 34690, 31431, 33059, 42516, 44359, 33118, 30227, 30382, 30658, 34423, 43598, 43406, 33444, 29750, 28667, 30553, 40976, 47052, 49102, 38169, 35089, 35296, 33321, 37424, 47269, 38030, 37192, 35033, 33685, 32054, 37764, 44336, 44493, 34296, 30671, 31158, 30601, 36267, 39975, 37426, 37817, 30879, 30097, 30216, 32925, 40938, 43463, 38654, 37424, 37990, 34922, 39889, 47507, 48426, 39922, 38184, 35176, 35585, 40282, 44853, 48981, 47580, 31698, 31478, 34425, 37829, 44255, 41413, 34846, 33071, 31622, 32376, 35945, 42213, 42946, 33928, 32179, 38077, 41844, 54154, 37489, 43532, 41538, 37355, 36049, 38210, 39895, 47405, 49594, 39058, 36831, 38095, 37478, 41847, 45660, 47784, 37547, 34138, 33376, 34195, 38441, 42624, 44192, 36126, 32955, 31593, 33587, 41478, 49150, 51541, 45257, 37658, 38279, 37798, 40137, 48104, 51961, 38324, 36449, 37351, 36055, 40762, 48436, 50540, 39112, 35245, 33707, 32516, 36963, 45080, 47596, 35093, 31295, 31967, 32076, 36251, 45236, 48517, 35885, 37955, 36590, 39619, 39270, 47487, 45248, 45762, 36169, 38102, 35693, 40286, 50103, 51340, 38071, 37425, 33645, 33998, 38689, 48279, 49979, 36145, 33518, 33497, 32967, 38680, 46636, 47613, 34262, 30615, 31270, 37677, 44376, 54687, 52895, 42474, 38855, 35887, 37819, 43595, 48787, 49704, 42240, 35681, 34248, 36353, 38422, 47813, 48964, 35302, 33104, 32411, 32770, 38021, 45006, 46179, 35092, 32319, 31267, 33232, 40514, 42743, 46994, 36457, 37997, 32102, 34675, 39621, 47341, 48411, 36915, 33374, 33338, 33242, 36195, 47342, 49755, 35735, 29174, 32160, 32365, 38357, 42793, 44925, 35140, 34222, 40124, 23631, 27581, 34212, 37782, 32016, 34818, 33732, 38029, 38187, 47025, 48415, 35408, 32913, 33690, 32159, 36343, 45975, 45133, 37522, 36130, 34123, 35454, 34756, 43488, 43011, 35522, 36612, 38752, 36227, 14, 38377, 35378, 29964, 31893, 34127, 43059, 32651, 44737, 44340, 36693, 35306, 32685, 35944, 38936, 52880, 47369, 37986, 35122, 32231, 35856, 41790, 51146, 45533, 38340, 31988, 32684, 31779, 36307, 48927, 47832, 34389, 30446, 31349, 32466, 37639, 49104, 50831, 41714, 34928, 39340, 35424, 40193, 55040, 46893, 36804, 38513, 39353, 44584, 44222, 53715, 48337, 46152, 37702, 36545, 36436, 40392, 50857, 52081, 37328, 33981, 34068, 34615, 37649, 47887, 50915, 37259, 36536, 38458, 41459, 39325, 52322, 57218, 40562, 37727, 37032, 38267, 40887, 52711, 51421, 42035, 40117, 36606, 35009, 39652, 46181, 47825, 37360, 35475, 34786, 34003, 45611, 53863, 46360, 36041, 33857, 32359, 34681, 45536, 52672, 56425, 40418, 39683, 39134, 38116, 43220, 56340, 53856, 42427, 39069, 35193, 37529, 41789, 48362, 51640, 38059, 37570, 35343, 35033, 40517, 48962, 49795, 38793, 35487, 34445, 34732, 42896, 50429, 53032, 43181, 44314, 39601, 40763, 43805, 54239, 45609, 46400, 39379, 42248, 40503, 44073, 54308, 59921, 42362, 38777, 37096, 36963, 42552, 51518, 54338], \"yaxis\": \"y\"}],\n",
              "                        {\"legend\": {\"tracegroupgap\": 0}, \"margin\": {\"t\": 60}, \"template\": {\"data\": {\"bar\": [{\"error_x\": {\"color\": \"#2a3f5f\"}, \"error_y\": {\"color\": \"#2a3f5f\"}, \"marker\": {\"line\": {\"color\": \"#E5ECF6\", \"width\": 0.5}}, \"type\": \"bar\"}], \"barpolar\": [{\"marker\": {\"line\": {\"color\": \"#E5ECF6\", \"width\": 0.5}}, \"type\": \"barpolar\"}], \"carpet\": [{\"aaxis\": {\"endlinecolor\": \"#2a3f5f\", \"gridcolor\": \"white\", \"linecolor\": \"white\", \"minorgridcolor\": \"white\", \"startlinecolor\": \"#2a3f5f\"}, \"baxis\": {\"endlinecolor\": \"#2a3f5f\", \"gridcolor\": \"white\", \"linecolor\": \"white\", \"minorgridcolor\": \"white\", \"startlinecolor\": \"#2a3f5f\"}, \"type\": \"carpet\"}], \"choropleth\": [{\"colorbar\": {\"outlinewidth\": 0, \"ticks\": \"\"}, \"type\": \"choropleth\"}], \"contour\": [{\"colorbar\": {\"outlinewidth\": 0, \"ticks\": \"\"}, \"colorscale\": [[0.0, \"#0d0887\"], [0.1111111111111111, \"#46039f\"], [0.2222222222222222, \"#7201a8\"], [0.3333333333333333, \"#9c179e\"], [0.4444444444444444, \"#bd3786\"], [0.5555555555555556, \"#d8576b\"], [0.6666666666666666, \"#ed7953\"], [0.7777777777777778, \"#fb9f3a\"], [0.8888888888888888, \"#fdca26\"], [1.0, \"#f0f921\"]], \"type\": \"contour\"}], \"contourcarpet\": [{\"colorbar\": {\"outlinewidth\": 0, \"ticks\": \"\"}, \"type\": \"contourcarpet\"}], \"heatmap\": [{\"colorbar\": {\"outlinewidth\": 0, \"ticks\": \"\"}, \"colorscale\": [[0.0, \"#0d0887\"], [0.1111111111111111, \"#46039f\"], [0.2222222222222222, \"#7201a8\"], [0.3333333333333333, \"#9c179e\"], [0.4444444444444444, \"#bd3786\"], [0.5555555555555556, \"#d8576b\"], [0.6666666666666666, \"#ed7953\"], [0.7777777777777778, \"#fb9f3a\"], [0.8888888888888888, \"#fdca26\"], [1.0, \"#f0f921\"]], \"type\": \"heatmap\"}], \"heatmapgl\": [{\"colorbar\": {\"outlinewidth\": 0, \"ticks\": \"\"}, \"colorscale\": [[0.0, \"#0d0887\"], [0.1111111111111111, \"#46039f\"], [0.2222222222222222, \"#7201a8\"], [0.3333333333333333, \"#9c179e\"], [0.4444444444444444, \"#bd3786\"], [0.5555555555555556, \"#d8576b\"], [0.6666666666666666, \"#ed7953\"], [0.7777777777777778, \"#fb9f3a\"], [0.8888888888888888, \"#fdca26\"], [1.0, \"#f0f921\"]], \"type\": \"heatmapgl\"}], \"histogram\": [{\"marker\": {\"colorbar\": {\"outlinewidth\": 0, \"ticks\": \"\"}}, \"type\": \"histogram\"}], \"histogram2d\": [{\"colorbar\": {\"outlinewidth\": 0, \"ticks\": \"\"}, \"colorscale\": [[0.0, \"#0d0887\"], [0.1111111111111111, \"#46039f\"], [0.2222222222222222, \"#7201a8\"], [0.3333333333333333, \"#9c179e\"], [0.4444444444444444, \"#bd3786\"], [0.5555555555555556, \"#d8576b\"], [0.6666666666666666, \"#ed7953\"], [0.7777777777777778, \"#fb9f3a\"], [0.8888888888888888, \"#fdca26\"], [1.0, \"#f0f921\"]], \"type\": \"histogram2d\"}], \"histogram2dcontour\": [{\"colorbar\": {\"outlinewidth\": 0, \"ticks\": \"\"}, \"colorscale\": [[0.0, \"#0d0887\"], [0.1111111111111111, \"#46039f\"], [0.2222222222222222, \"#7201a8\"], [0.3333333333333333, \"#9c179e\"], [0.4444444444444444, \"#bd3786\"], [0.5555555555555556, \"#d8576b\"], [0.6666666666666666, \"#ed7953\"], [0.7777777777777778, \"#fb9f3a\"], [0.8888888888888888, \"#fdca26\"], [1.0, \"#f0f921\"]], \"type\": \"histogram2dcontour\"}], \"mesh3d\": [{\"colorbar\": {\"outlinewidth\": 0, \"ticks\": \"\"}, \"type\": \"mesh3d\"}], \"parcoords\": [{\"line\": {\"colorbar\": {\"outlinewidth\": 0, \"ticks\": \"\"}}, \"type\": \"parcoords\"}], \"pie\": [{\"automargin\": true, \"type\": \"pie\"}], \"scatter\": [{\"marker\": {\"colorbar\": {\"outlinewidth\": 0, \"ticks\": \"\"}}, \"type\": \"scatter\"}], \"scatter3d\": [{\"line\": {\"colorbar\": {\"outlinewidth\": 0, \"ticks\": \"\"}}, \"marker\": {\"colorbar\": {\"outlinewidth\": 0, \"ticks\": \"\"}}, \"type\": \"scatter3d\"}], \"scattercarpet\": [{\"marker\": {\"colorbar\": {\"outlinewidth\": 0, \"ticks\": \"\"}}, \"type\": \"scattercarpet\"}], \"scattergeo\": [{\"marker\": {\"colorbar\": {\"outlinewidth\": 0, \"ticks\": \"\"}}, \"type\": \"scattergeo\"}], \"scattergl\": [{\"marker\": {\"colorbar\": {\"outlinewidth\": 0, \"ticks\": \"\"}}, \"type\": \"scattergl\"}], \"scattermapbox\": [{\"marker\": {\"colorbar\": {\"outlinewidth\": 0, \"ticks\": \"\"}}, \"type\": \"scattermapbox\"}], \"scatterpolar\": [{\"marker\": {\"colorbar\": {\"outlinewidth\": 0, \"ticks\": \"\"}}, \"type\": \"scatterpolar\"}], \"scatterpolargl\": [{\"marker\": {\"colorbar\": {\"outlinewidth\": 0, \"ticks\": \"\"}}, \"type\": \"scatterpolargl\"}], \"scatterternary\": [{\"marker\": {\"colorbar\": {\"outlinewidth\": 0, \"ticks\": \"\"}}, \"type\": \"scatterternary\"}], \"surface\": [{\"colorbar\": {\"outlinewidth\": 0, \"ticks\": \"\"}, \"colorscale\": [[0.0, \"#0d0887\"], [0.1111111111111111, \"#46039f\"], [0.2222222222222222, \"#7201a8\"], [0.3333333333333333, \"#9c179e\"], [0.4444444444444444, \"#bd3786\"], [0.5555555555555556, \"#d8576b\"], [0.6666666666666666, \"#ed7953\"], [0.7777777777777778, \"#fb9f3a\"], [0.8888888888888888, \"#fdca26\"], [1.0, \"#f0f921\"]], \"type\": \"surface\"}], \"table\": [{\"cells\": {\"fill\": {\"color\": \"#EBF0F8\"}, \"line\": {\"color\": \"white\"}}, \"header\": {\"fill\": {\"color\": \"#C8D4E3\"}, \"line\": {\"color\": \"white\"}}, \"type\": \"table\"}]}, \"layout\": {\"annotationdefaults\": {\"arrowcolor\": \"#2a3f5f\", \"arrowhead\": 0, \"arrowwidth\": 1}, \"coloraxis\": {\"colorbar\": {\"outlinewidth\": 0, \"ticks\": \"\"}}, \"colorscale\": {\"diverging\": [[0, \"#8e0152\"], [0.1, \"#c51b7d\"], [0.2, \"#de77ae\"], [0.3, \"#f1b6da\"], [0.4, \"#fde0ef\"], [0.5, \"#f7f7f7\"], [0.6, \"#e6f5d0\"], [0.7, \"#b8e186\"], [0.8, \"#7fbc41\"], [0.9, \"#4d9221\"], [1, \"#276419\"]], \"sequential\": [[0.0, \"#0d0887\"], [0.1111111111111111, \"#46039f\"], [0.2222222222222222, \"#7201a8\"], [0.3333333333333333, \"#9c179e\"], [0.4444444444444444, \"#bd3786\"], [0.5555555555555556, \"#d8576b\"], [0.6666666666666666, \"#ed7953\"], [0.7777777777777778, \"#fb9f3a\"], [0.8888888888888888, \"#fdca26\"], [1.0, \"#f0f921\"]], \"sequentialminus\": [[0.0, \"#0d0887\"], [0.1111111111111111, \"#46039f\"], [0.2222222222222222, \"#7201a8\"], [0.3333333333333333, \"#9c179e\"], [0.4444444444444444, \"#bd3786\"], [0.5555555555555556, \"#d8576b\"], [0.6666666666666666, \"#ed7953\"], [0.7777777777777778, \"#fb9f3a\"], [0.8888888888888888, \"#fdca26\"], [1.0, \"#f0f921\"]]}, \"colorway\": [\"#636efa\", \"#EF553B\", \"#00cc96\", \"#ab63fa\", \"#FFA15A\", \"#19d3f3\", \"#FF6692\", \"#B6E880\", \"#FF97FF\", \"#FECB52\"], \"font\": {\"color\": \"#2a3f5f\"}, \"geo\": {\"bgcolor\": \"white\", \"lakecolor\": \"white\", \"landcolor\": \"#E5ECF6\", \"showlakes\": true, \"showland\": true, \"subunitcolor\": \"white\"}, \"hoverlabel\": {\"align\": \"left\"}, \"hovermode\": \"closest\", \"mapbox\": {\"style\": \"light\"}, \"paper_bgcolor\": \"white\", \"plot_bgcolor\": \"#E5ECF6\", \"polar\": {\"angularaxis\": {\"gridcolor\": \"white\", \"linecolor\": \"white\", \"ticks\": \"\"}, \"bgcolor\": \"#E5ECF6\", \"radialaxis\": {\"gridcolor\": \"white\", \"linecolor\": \"white\", \"ticks\": \"\"}}, \"scene\": {\"xaxis\": {\"backgroundcolor\": \"#E5ECF6\", \"gridcolor\": \"white\", \"gridwidth\": 2, \"linecolor\": \"white\", \"showbackground\": true, \"ticks\": \"\", \"zerolinecolor\": \"white\"}, \"yaxis\": {\"backgroundcolor\": \"#E5ECF6\", \"gridcolor\": \"white\", \"gridwidth\": 2, \"linecolor\": \"white\", \"showbackground\": true, \"ticks\": \"\", \"zerolinecolor\": \"white\"}, \"zaxis\": {\"backgroundcolor\": \"#E5ECF6\", \"gridcolor\": \"white\", \"gridwidth\": 2, \"linecolor\": \"white\", \"showbackground\": true, \"ticks\": \"\", \"zerolinecolor\": \"white\"}}, \"shapedefaults\": {\"line\": {\"color\": \"#2a3f5f\"}}, \"ternary\": {\"aaxis\": {\"gridcolor\": \"white\", \"linecolor\": \"white\", \"ticks\": \"\"}, \"baxis\": {\"gridcolor\": \"white\", \"linecolor\": \"white\", \"ticks\": \"\"}, \"bgcolor\": \"#E5ECF6\", \"caxis\": {\"gridcolor\": \"white\", \"linecolor\": \"white\", \"ticks\": \"\"}}, \"title\": {\"x\": 0.05}, \"xaxis\": {\"automargin\": true, \"gridcolor\": \"white\", \"linecolor\": \"white\", \"ticks\": \"\", \"title\": {\"standoff\": 15}, \"zerolinecolor\": \"white\", \"zerolinewidth\": 2}, \"yaxis\": {\"automargin\": true, \"gridcolor\": \"white\", \"linecolor\": \"white\", \"ticks\": \"\", \"title\": {\"standoff\": 15}, \"zerolinecolor\": \"white\", \"zerolinewidth\": 2}}}, \"xaxis\": {\"anchor\": \"y\", \"domain\": [0.0, 1.0], \"title\": {\"text\": \"days\"}}, \"yaxis\": {\"anchor\": \"x\", \"domain\": [0.0, 1.0], \"title\": {\"text\": \"sales\"}}},\n",
              "                        {\"responsive\": true}\n",
              "                    ).then(function(){\n",
              "                            \n",
              "var gd = document.getElementById('a3ab3e65-a6ad-4362-9867-d46a4d87544f');\n",
              "var x = new MutationObserver(function (mutations, observer) {{\n",
              "        var display = window.getComputedStyle(gd).display;\n",
              "        if (!display || display === 'none') {{\n",
              "            console.log([gd, 'removed!']);\n",
              "            Plotly.purge(gd);\n",
              "            observer.disconnect();\n",
              "        }}\n",
              "}});\n",
              "\n",
              "// Listen for the removal of the full notebook cells\n",
              "var notebookContainer = gd.closest('#notebook-container');\n",
              "if (notebookContainer) {{\n",
              "    x.observe(notebookContainer, {childList: true});\n",
              "}}\n",
              "\n",
              "// Listen for the clearing of the current output cell\n",
              "var outputEl = gd.closest('.output');\n",
              "if (outputEl) {{\n",
              "    x.observe(outputEl, {childList: true});\n",
              "}}\n",
              "\n",
              "                        })\n",
              "                };\n",
              "                });\n",
              "            </script>\n",
              "        </div>"
            ]
          },
          "metadata": {
            "tags": []
          }
        }
      ]
    },
    {
      "cell_type": "markdown",
      "metadata": {
        "id": "_mBaSoECPSpB"
      },
      "source": [
        " **Observation:**\r\n",
        "\r\n",
        " \r\n",
        "*   Every Year on Christmas the sales greatly fall less than 50.\r\n",
        "  \r\n",
        "*   The demand is growing every year, not exponentially but smoothly.\r\n"
      ]
    },
    {
      "cell_type": "code",
      "metadata": {
        "colab": {
          "base_uri": "https://localhost:8080/",
          "height": 542
        },
        "id": "4bWVnG46_zcP",
        "outputId": "119b6678-7011-4fc0-a1d8-000ceb02235c"
      },
      "source": [
        "# https://stackoverflow.com/a/60595396\r\n",
        "\r\n",
        "temp = sales.groupby('dept_id').sum().T\r\n",
        "date = [\"\".join(str(i).split('-')[:2]) for i in date]\r\n",
        "temp.columns = temp.columns.astype(str)\r\n",
        "temp['Date'] = date\r\n",
        "temp = temp.groupby(\"Date\").sum()\r\n",
        "x_dates = [d for d in pd.date_range(start = '2011-01-29', end = '2016-04-24', freq = 'MS')]\r\n",
        "\r\n",
        "fig = go.Figure()\r\n",
        "\r\n",
        "for i in temp.columns:\r\n",
        "    fig.add_trace(go.Scatter(x = x_dates, y = temp[i], mode='lines', name=str(i).title()))\r\n",
        "\r\n",
        "fig.update_layout(title='Yearly Sales on every dept', xaxis_title='Year',yaxis_title='Total Sales', width=1000)\r\n",
        "fig.show(renderer='notebook_connected')"
      ],
      "execution_count": 39,
      "outputs": [
        {
          "output_type": "display_data",
          "data": {
            "text/html": [
              "        <script type=\"text/javascript\">\n",
              "        window.PlotlyConfig = {MathJaxConfig: 'local'};\n",
              "        if (window.MathJax) {MathJax.Hub.Config({SVG: {font: \"STIX-Web\"}});}\n",
              "        if (typeof require !== 'undefined') {\n",
              "        require.undef(\"plotly\");\n",
              "        requirejs.config({\n",
              "            paths: {\n",
              "                'plotly': ['https://cdn.plot.ly/plotly-latest.min']\n",
              "            }\n",
              "        });\n",
              "        require(['plotly'], function(Plotly) {\n",
              "            window._Plotly = Plotly;\n",
              "        });\n",
              "        }\n",
              "        </script>\n",
              "        "
            ]
          },
          "metadata": {
            "tags": []
          }
        },
        {
          "output_type": "display_data",
          "data": {
            "text/html": [
              "<div>\n",
              "        \n",
              "        \n",
              "            <div id=\"f538e913-e439-46c8-98dd-05a771cee816\" class=\"plotly-graph-div\" style=\"height:525px; width:1000px;\"></div>\n",
              "            <script type=\"text/javascript\">\n",
              "                require([\"plotly\"], function(Plotly) {\n",
              "                    window.PLOTLYENV=window.PLOTLYENV || {};\n",
              "                    \n",
              "                if (document.getElementById(\"f538e913-e439-46c8-98dd-05a771cee816\")) {\n",
              "                    Plotly.newPlot(\n",
              "                        'f538e913-e439-46c8-98dd-05a771cee816',\n",
              "                        [{\"mode\": \"lines\", \"name\": \"Foods_1\", \"type\": \"scatter\", \"x\": [\"2011-02-01T00:00:00\", \"2011-03-01T00:00:00\", \"2011-04-01T00:00:00\", \"2011-05-01T00:00:00\", \"2011-06-01T00:00:00\", \"2011-07-01T00:00:00\", \"2011-08-01T00:00:00\", \"2011-09-01T00:00:00\", \"2011-10-01T00:00:00\", \"2011-11-01T00:00:00\", \"2011-12-01T00:00:00\", \"2012-01-01T00:00:00\", \"2012-02-01T00:00:00\", \"2012-03-01T00:00:00\", \"2012-04-01T00:00:00\", \"2012-05-01T00:00:00\", \"2012-06-01T00:00:00\", \"2012-07-01T00:00:00\", \"2012-08-01T00:00:00\", \"2012-09-01T00:00:00\", \"2012-10-01T00:00:00\", \"2012-11-01T00:00:00\", \"2012-12-01T00:00:00\", \"2013-01-01T00:00:00\", \"2013-02-01T00:00:00\", \"2013-03-01T00:00:00\", \"2013-04-01T00:00:00\", \"2013-05-01T00:00:00\", \"2013-06-01T00:00:00\", \"2013-07-01T00:00:00\", \"2013-08-01T00:00:00\", \"2013-09-01T00:00:00\", \"2013-10-01T00:00:00\", \"2013-11-01T00:00:00\", \"2013-12-01T00:00:00\", \"2014-01-01T00:00:00\", \"2014-02-01T00:00:00\", \"2014-03-01T00:00:00\", \"2014-04-01T00:00:00\", \"2014-05-01T00:00:00\", \"2014-06-01T00:00:00\", \"2014-07-01T00:00:00\", \"2014-08-01T00:00:00\", \"2014-09-01T00:00:00\", \"2014-10-01T00:00:00\", \"2014-11-01T00:00:00\", \"2014-12-01T00:00:00\", \"2015-01-01T00:00:00\", \"2015-02-01T00:00:00\", \"2015-03-01T00:00:00\", \"2015-04-01T00:00:00\", \"2015-05-01T00:00:00\", \"2015-06-01T00:00:00\", \"2015-07-01T00:00:00\", \"2015-08-01T00:00:00\", \"2015-09-01T00:00:00\", \"2015-10-01T00:00:00\", \"2015-11-01T00:00:00\", \"2015-12-01T00:00:00\", \"2016-01-01T00:00:00\", \"2016-02-01T00:00:00\", \"2016-03-01T00:00:00\", \"2016-04-01T00:00:00\"], \"y\": [6216, 54155, 53527, 50678, 47358, 48418, 55742, 47591, 54768, 64382, 55605, 71630, 70413, 80808, 85366, 83112, 79318, 82882, 87411, 95427, 93367, 86225, 74760, 92103, 83481, 84716, 93978, 76808, 90279, 88941, 94876, 93197, 83755, 85064, 71775, 91598, 79902, 84997, 82466, 84689, 80734, 80928, 82065, 84553, 78232, 80845, 71505, 93961, 89446, 83177, 80543, 85626, 93268, 97807, 98875, 96741, 92013, 92295, 78354, 99072, 98250, 89691, 95893, 92282, 82460]}, {\"mode\": \"lines\", \"name\": \"Foods_2\", \"type\": \"scatter\", \"x\": [\"2011-02-01T00:00:00\", \"2011-03-01T00:00:00\", \"2011-04-01T00:00:00\", \"2011-05-01T00:00:00\", \"2011-06-01T00:00:00\", \"2011-07-01T00:00:00\", \"2011-08-01T00:00:00\", \"2011-09-01T00:00:00\", \"2011-10-01T00:00:00\", \"2011-11-01T00:00:00\", \"2011-12-01T00:00:00\", \"2012-01-01T00:00:00\", \"2012-02-01T00:00:00\", \"2012-03-01T00:00:00\", \"2012-04-01T00:00:00\", \"2012-05-01T00:00:00\", \"2012-06-01T00:00:00\", \"2012-07-01T00:00:00\", \"2012-08-01T00:00:00\", \"2012-09-01T00:00:00\", \"2012-10-01T00:00:00\", \"2012-11-01T00:00:00\", \"2012-12-01T00:00:00\", \"2013-01-01T00:00:00\", \"2013-02-01T00:00:00\", \"2013-03-01T00:00:00\", \"2013-04-01T00:00:00\", \"2013-05-01T00:00:00\", \"2013-06-01T00:00:00\", \"2013-07-01T00:00:00\", \"2013-08-01T00:00:00\", \"2013-09-01T00:00:00\", \"2013-10-01T00:00:00\", \"2013-11-01T00:00:00\", \"2013-12-01T00:00:00\", \"2014-01-01T00:00:00\", \"2014-02-01T00:00:00\", \"2014-03-01T00:00:00\", \"2014-04-01T00:00:00\", \"2014-05-01T00:00:00\", \"2014-06-01T00:00:00\", \"2014-07-01T00:00:00\", \"2014-08-01T00:00:00\", \"2014-09-01T00:00:00\", \"2014-10-01T00:00:00\", \"2014-11-01T00:00:00\", \"2014-12-01T00:00:00\", \"2015-01-01T00:00:00\", \"2015-02-01T00:00:00\", \"2015-03-01T00:00:00\", \"2015-04-01T00:00:00\", \"2015-05-01T00:00:00\", \"2015-06-01T00:00:00\", \"2015-07-01T00:00:00\", \"2015-08-01T00:00:00\", \"2015-09-01T00:00:00\", \"2015-10-01T00:00:00\", \"2015-11-01T00:00:00\", \"2015-12-01T00:00:00\", \"2016-01-01T00:00:00\", \"2016-02-01T00:00:00\", \"2016-03-01T00:00:00\", \"2016-04-01T00:00:00\"], \"y\": [11477, 97919, 101792, 95555, 95489, 101350, 105091, 107587, 104197, 108150, 101507, 108896, 119018, 110011, 103890, 90913, 92904, 103033, 115012, 118174, 116590, 112331, 118897, 118078, 131972, 119558, 129308, 106164, 111492, 114432, 117685, 114181, 112683, 107422, 106493, 103800, 114098, 108476, 120009, 112589, 113886, 113452, 115392, 127569, 119803, 128544, 135136, 128272, 129050, 116101, 136221, 130554, 137367, 135463, 136890, 147438, 152003, 170166, 155626, 155008, 175997, 162777, 172242, 175215, 136630]}, {\"mode\": \"lines\", \"name\": \"Foods_3\", \"type\": \"scatter\", \"x\": [\"2011-02-01T00:00:00\", \"2011-03-01T00:00:00\", \"2011-04-01T00:00:00\", \"2011-05-01T00:00:00\", \"2011-06-01T00:00:00\", \"2011-07-01T00:00:00\", \"2011-08-01T00:00:00\", \"2011-09-01T00:00:00\", \"2011-10-01T00:00:00\", \"2011-11-01T00:00:00\", \"2011-12-01T00:00:00\", \"2012-01-01T00:00:00\", \"2012-02-01T00:00:00\", \"2012-03-01T00:00:00\", \"2012-04-01T00:00:00\", \"2012-05-01T00:00:00\", \"2012-06-01T00:00:00\", \"2012-07-01T00:00:00\", \"2012-08-01T00:00:00\", \"2012-09-01T00:00:00\", \"2012-10-01T00:00:00\", \"2012-11-01T00:00:00\", \"2012-12-01T00:00:00\", \"2013-01-01T00:00:00\", \"2013-02-01T00:00:00\", \"2013-03-01T00:00:00\", \"2013-04-01T00:00:00\", \"2013-05-01T00:00:00\", \"2013-06-01T00:00:00\", \"2013-07-01T00:00:00\", \"2013-08-01T00:00:00\", \"2013-09-01T00:00:00\", \"2013-10-01T00:00:00\", \"2013-11-01T00:00:00\", \"2013-12-01T00:00:00\", \"2014-01-01T00:00:00\", \"2014-02-01T00:00:00\", \"2014-03-01T00:00:00\", \"2014-04-01T00:00:00\", \"2014-05-01T00:00:00\", \"2014-06-01T00:00:00\", \"2014-07-01T00:00:00\", \"2014-08-01T00:00:00\", \"2014-09-01T00:00:00\", \"2014-10-01T00:00:00\", \"2014-11-01T00:00:00\", \"2014-12-01T00:00:00\", \"2015-01-01T00:00:00\", \"2015-02-01T00:00:00\", \"2015-03-01T00:00:00\", \"2015-04-01T00:00:00\", \"2015-05-01T00:00:00\", \"2015-06-01T00:00:00\", \"2015-07-01T00:00:00\", \"2015-08-01T00:00:00\", \"2015-09-01T00:00:00\", \"2015-10-01T00:00:00\", \"2015-11-01T00:00:00\", \"2015-12-01T00:00:00\", \"2016-01-01T00:00:00\", \"2016-02-01T00:00:00\", \"2016-03-01T00:00:00\", \"2016-04-01T00:00:00\"], \"y\": [45417, 368176, 379595, 363335, 348906, 376093, 413662, 424974, 415962, 469595, 434185, 469884, 463929, 457124, 524070, 516949, 578176, 604698, 577176, 575419, 525221, 500334, 481694, 525435, 500832, 481337, 536038, 498165, 516595, 569491, 588027, 628349, 619184, 571522, 531389, 536895, 543475, 487875, 563258, 572541, 561175, 579127, 604115, 600939, 552451, 536117, 508263, 464086, 517534, 472683, 508141, 494121, 510769, 530456, 573740, 566982, 536578, 557449, 485336, 470962, 533193, 552271, 587319, 590465, 457748]}, {\"mode\": \"lines\", \"name\": \"Hobbies_1\", \"type\": \"scatter\", \"x\": [\"2011-02-01T00:00:00\", \"2011-03-01T00:00:00\", \"2011-04-01T00:00:00\", \"2011-05-01T00:00:00\", \"2011-06-01T00:00:00\", \"2011-07-01T00:00:00\", \"2011-08-01T00:00:00\", \"2011-09-01T00:00:00\", \"2011-10-01T00:00:00\", \"2011-11-01T00:00:00\", \"2011-12-01T00:00:00\", \"2012-01-01T00:00:00\", \"2012-02-01T00:00:00\", \"2012-03-01T00:00:00\", \"2012-04-01T00:00:00\", \"2012-05-01T00:00:00\", \"2012-06-01T00:00:00\", \"2012-07-01T00:00:00\", \"2012-08-01T00:00:00\", \"2012-09-01T00:00:00\", \"2012-10-01T00:00:00\", \"2012-11-01T00:00:00\", \"2012-12-01T00:00:00\", \"2013-01-01T00:00:00\", \"2013-02-01T00:00:00\", \"2013-03-01T00:00:00\", \"2013-04-01T00:00:00\", \"2013-05-01T00:00:00\", \"2013-06-01T00:00:00\", \"2013-07-01T00:00:00\", \"2013-08-01T00:00:00\", \"2013-09-01T00:00:00\", \"2013-10-01T00:00:00\", \"2013-11-01T00:00:00\", \"2013-12-01T00:00:00\", \"2014-01-01T00:00:00\", \"2014-02-01T00:00:00\", \"2014-03-01T00:00:00\", \"2014-04-01T00:00:00\", \"2014-05-01T00:00:00\", \"2014-06-01T00:00:00\", \"2014-07-01T00:00:00\", \"2014-08-01T00:00:00\", \"2014-09-01T00:00:00\", \"2014-10-01T00:00:00\", \"2014-11-01T00:00:00\", \"2014-12-01T00:00:00\", \"2015-01-01T00:00:00\", \"2015-02-01T00:00:00\", \"2015-03-01T00:00:00\", \"2015-04-01T00:00:00\", \"2015-05-01T00:00:00\", \"2015-06-01T00:00:00\", \"2015-07-01T00:00:00\", \"2015-08-01T00:00:00\", \"2015-09-01T00:00:00\", \"2015-10-01T00:00:00\", \"2015-11-01T00:00:00\", \"2015-12-01T00:00:00\", \"2016-01-01T00:00:00\", \"2016-02-01T00:00:00\", \"2016-03-01T00:00:00\", \"2016-04-01T00:00:00\"], \"y\": [9279, 73316, 78140, 80455, 81096, 79453, 84721, 79925, 74564, 80256, 74047, 80564, 77615, 75796, 82049, 79128, 70939, 85582, 78286, 68209, 66926, 65980, 63386, 66758, 72330, 84112, 89183, 95869, 97141, 103776, 97270, 96325, 87747, 101236, 98140, 98512, 95270, 83983, 92978, 87924, 91906, 92351, 90834, 90091, 81289, 88058, 85714, 87975, 92827, 93100, 101698, 99734, 107841, 101833, 109310, 110472, 103730, 110266, 106362, 110357, 107390, 102243, 105133, 109051, 81183]}, {\"mode\": \"lines\", \"name\": \"Hobbies_2\", \"type\": \"scatter\", \"x\": [\"2011-02-01T00:00:00\", \"2011-03-01T00:00:00\", \"2011-04-01T00:00:00\", \"2011-05-01T00:00:00\", \"2011-06-01T00:00:00\", \"2011-07-01T00:00:00\", \"2011-08-01T00:00:00\", \"2011-09-01T00:00:00\", \"2011-10-01T00:00:00\", \"2011-11-01T00:00:00\", \"2011-12-01T00:00:00\", \"2012-01-01T00:00:00\", \"2012-02-01T00:00:00\", \"2012-03-01T00:00:00\", \"2012-04-01T00:00:00\", \"2012-05-01T00:00:00\", \"2012-06-01T00:00:00\", \"2012-07-01T00:00:00\", \"2012-08-01T00:00:00\", \"2012-09-01T00:00:00\", \"2012-10-01T00:00:00\", \"2012-11-01T00:00:00\", \"2012-12-01T00:00:00\", \"2013-01-01T00:00:00\", \"2013-02-01T00:00:00\", \"2013-03-01T00:00:00\", \"2013-04-01T00:00:00\", \"2013-05-01T00:00:00\", \"2013-06-01T00:00:00\", \"2013-07-01T00:00:00\", \"2013-08-01T00:00:00\", \"2013-09-01T00:00:00\", \"2013-10-01T00:00:00\", \"2013-11-01T00:00:00\", \"2013-12-01T00:00:00\", \"2014-01-01T00:00:00\", \"2014-02-01T00:00:00\", \"2014-03-01T00:00:00\", \"2014-04-01T00:00:00\", \"2014-05-01T00:00:00\", \"2014-06-01T00:00:00\", \"2014-07-01T00:00:00\", \"2014-08-01T00:00:00\", \"2014-09-01T00:00:00\", \"2014-10-01T00:00:00\", \"2014-11-01T00:00:00\", \"2014-12-01T00:00:00\", \"2015-01-01T00:00:00\", \"2015-02-01T00:00:00\", \"2015-03-01T00:00:00\", \"2015-04-01T00:00:00\", \"2015-05-01T00:00:00\", \"2015-06-01T00:00:00\", \"2015-07-01T00:00:00\", \"2015-08-01T00:00:00\", \"2015-09-01T00:00:00\", \"2015-10-01T00:00:00\", \"2015-11-01T00:00:00\", \"2015-12-01T00:00:00\", \"2016-01-01T00:00:00\", \"2016-02-01T00:00:00\", \"2016-03-01T00:00:00\", \"2016-04-01T00:00:00\"], \"y\": [524, 4046, 5551, 5744, 6317, 5067, 5050, 5053, 4793, 8081, 6277, 6832, 5272, 6422, 6457, 5371, 6947, 5484, 5754, 6342, 7428, 9169, 6966, 7571, 7266, 7312, 7351, 6629, 7247, 6462, 5873, 7244, 6903, 9471, 6737, 7923, 7537, 8001, 7587, 6886, 7912, 6664, 7232, 8544, 9803, 17189, 13982, 14136, 10318, 10119, 11703, 11637, 12152, 10010, 9633, 10831, 10804, 17964, 13282, 14172, 10163, 10696, 11108, 12166, 10475]}, {\"mode\": \"lines\", \"name\": \"Household_1\", \"type\": \"scatter\", \"x\": [\"2011-02-01T00:00:00\", \"2011-03-01T00:00:00\", \"2011-04-01T00:00:00\", \"2011-05-01T00:00:00\", \"2011-06-01T00:00:00\", \"2011-07-01T00:00:00\", \"2011-08-01T00:00:00\", \"2011-09-01T00:00:00\", \"2011-10-01T00:00:00\", \"2011-11-01T00:00:00\", \"2011-12-01T00:00:00\", \"2012-01-01T00:00:00\", \"2012-02-01T00:00:00\", \"2012-03-01T00:00:00\", \"2012-04-01T00:00:00\", \"2012-05-01T00:00:00\", \"2012-06-01T00:00:00\", \"2012-07-01T00:00:00\", \"2012-08-01T00:00:00\", \"2012-09-01T00:00:00\", \"2012-10-01T00:00:00\", \"2012-11-01T00:00:00\", \"2012-12-01T00:00:00\", \"2013-01-01T00:00:00\", \"2013-02-01T00:00:00\", \"2013-03-01T00:00:00\", \"2013-04-01T00:00:00\", \"2013-05-01T00:00:00\", \"2013-06-01T00:00:00\", \"2013-07-01T00:00:00\", \"2013-08-01T00:00:00\", \"2013-09-01T00:00:00\", \"2013-10-01T00:00:00\", \"2013-11-01T00:00:00\", \"2013-12-01T00:00:00\", \"2014-01-01T00:00:00\", \"2014-02-01T00:00:00\", \"2014-03-01T00:00:00\", \"2014-04-01T00:00:00\", \"2014-05-01T00:00:00\", \"2014-06-01T00:00:00\", \"2014-07-01T00:00:00\", \"2014-08-01T00:00:00\", \"2014-09-01T00:00:00\", \"2014-10-01T00:00:00\", \"2014-11-01T00:00:00\", \"2014-12-01T00:00:00\", \"2015-01-01T00:00:00\", \"2015-02-01T00:00:00\", \"2015-03-01T00:00:00\", \"2015-04-01T00:00:00\", \"2015-05-01T00:00:00\", \"2015-06-01T00:00:00\", \"2015-07-01T00:00:00\", \"2015-08-01T00:00:00\", \"2015-09-01T00:00:00\", \"2015-10-01T00:00:00\", \"2015-11-01T00:00:00\", \"2015-12-01T00:00:00\", \"2016-01-01T00:00:00\", \"2016-02-01T00:00:00\", \"2016-03-01T00:00:00\", \"2016-04-01T00:00:00\"], \"y\": [10790, 90773, 105264, 103027, 99905, 104019, 114103, 119556, 120391, 126781, 113516, 109741, 118304, 124653, 140317, 126572, 127713, 168959, 172935, 194086, 211467, 192324, 176787, 181276, 174619, 192722, 212430, 201973, 201547, 201074, 207941, 216469, 211278, 206047, 188652, 171571, 173557, 191626, 204606, 189683, 185754, 186299, 199892, 216931, 195756, 201687, 188949, 178958, 195993, 207602, 222921, 215197, 232249, 223472, 243022, 259704, 240110, 243905, 224507, 223716, 236184, 238352, 243840, 241618, 177181]}, {\"mode\": \"lines\", \"name\": \"Household_2\", \"type\": \"scatter\", \"x\": [\"2011-02-01T00:00:00\", \"2011-03-01T00:00:00\", \"2011-04-01T00:00:00\", \"2011-05-01T00:00:00\", \"2011-06-01T00:00:00\", \"2011-07-01T00:00:00\", \"2011-08-01T00:00:00\", \"2011-09-01T00:00:00\", \"2011-10-01T00:00:00\", \"2011-11-01T00:00:00\", \"2011-12-01T00:00:00\", \"2012-01-01T00:00:00\", \"2012-02-01T00:00:00\", \"2012-03-01T00:00:00\", \"2012-04-01T00:00:00\", \"2012-05-01T00:00:00\", \"2012-06-01T00:00:00\", \"2012-07-01T00:00:00\", \"2012-08-01T00:00:00\", \"2012-09-01T00:00:00\", \"2012-10-01T00:00:00\", \"2012-11-01T00:00:00\", \"2012-12-01T00:00:00\", \"2013-01-01T00:00:00\", \"2013-02-01T00:00:00\", \"2013-03-01T00:00:00\", \"2013-04-01T00:00:00\", \"2013-05-01T00:00:00\", \"2013-06-01T00:00:00\", \"2013-07-01T00:00:00\", \"2013-08-01T00:00:00\", \"2013-09-01T00:00:00\", \"2013-10-01T00:00:00\", \"2013-11-01T00:00:00\", \"2013-12-01T00:00:00\", \"2014-01-01T00:00:00\", \"2014-02-01T00:00:00\", \"2014-03-01T00:00:00\", \"2014-04-01T00:00:00\", \"2014-05-01T00:00:00\", \"2014-06-01T00:00:00\", \"2014-07-01T00:00:00\", \"2014-08-01T00:00:00\", \"2014-09-01T00:00:00\", \"2014-10-01T00:00:00\", \"2014-11-01T00:00:00\", \"2014-12-01T00:00:00\", \"2015-01-01T00:00:00\", \"2015-02-01T00:00:00\", \"2015-03-01T00:00:00\", \"2015-04-01T00:00:00\", \"2015-05-01T00:00:00\", \"2015-06-01T00:00:00\", \"2015-07-01T00:00:00\", \"2015-08-01T00:00:00\", \"2015-09-01T00:00:00\", \"2015-10-01T00:00:00\", \"2015-11-01T00:00:00\", \"2015-12-01T00:00:00\", \"2016-01-01T00:00:00\", \"2016-02-01T00:00:00\", \"2016-03-01T00:00:00\", \"2016-04-01T00:00:00\"], \"y\": [4460, 37990, 39698, 38919, 40491, 38980, 41451, 41008, 39008, 40998, 37950, 39751, 38824, 43176, 44745, 42813, 41749, 44971, 44203, 45123, 43365, 39945, 38194, 39231, 38060, 40903, 49282, 48428, 50382, 51417, 47795, 49048, 44965, 43761, 41613, 44235, 43173, 44802, 52802, 49975, 51725, 51210, 52234, 55475, 51080, 50638, 47529, 46064, 47947, 49095, 58500, 56560, 59368, 56558, 60677, 62173, 53675, 56392, 50509, 52949, 54109, 56897, 60211, 62673, 49305]}],\n",
              "                        {\"template\": {\"data\": {\"bar\": [{\"error_x\": {\"color\": \"#2a3f5f\"}, \"error_y\": {\"color\": \"#2a3f5f\"}, \"marker\": {\"line\": {\"color\": \"#E5ECF6\", \"width\": 0.5}}, \"type\": \"bar\"}], \"barpolar\": [{\"marker\": {\"line\": {\"color\": \"#E5ECF6\", \"width\": 0.5}}, \"type\": \"barpolar\"}], \"carpet\": [{\"aaxis\": {\"endlinecolor\": \"#2a3f5f\", \"gridcolor\": \"white\", \"linecolor\": \"white\", \"minorgridcolor\": \"white\", \"startlinecolor\": \"#2a3f5f\"}, \"baxis\": {\"endlinecolor\": \"#2a3f5f\", \"gridcolor\": \"white\", \"linecolor\": \"white\", \"minorgridcolor\": \"white\", \"startlinecolor\": \"#2a3f5f\"}, \"type\": \"carpet\"}], \"choropleth\": [{\"colorbar\": {\"outlinewidth\": 0, \"ticks\": \"\"}, \"type\": \"choropleth\"}], \"contour\": [{\"colorbar\": {\"outlinewidth\": 0, \"ticks\": \"\"}, \"colorscale\": [[0.0, \"#0d0887\"], [0.1111111111111111, \"#46039f\"], [0.2222222222222222, \"#7201a8\"], [0.3333333333333333, \"#9c179e\"], [0.4444444444444444, \"#bd3786\"], [0.5555555555555556, \"#d8576b\"], [0.6666666666666666, \"#ed7953\"], [0.7777777777777778, \"#fb9f3a\"], [0.8888888888888888, \"#fdca26\"], [1.0, \"#f0f921\"]], \"type\": \"contour\"}], \"contourcarpet\": [{\"colorbar\": {\"outlinewidth\": 0, \"ticks\": \"\"}, \"type\": \"contourcarpet\"}], \"heatmap\": [{\"colorbar\": {\"outlinewidth\": 0, \"ticks\": \"\"}, \"colorscale\": [[0.0, \"#0d0887\"], [0.1111111111111111, \"#46039f\"], [0.2222222222222222, \"#7201a8\"], [0.3333333333333333, \"#9c179e\"], [0.4444444444444444, \"#bd3786\"], [0.5555555555555556, \"#d8576b\"], [0.6666666666666666, \"#ed7953\"], [0.7777777777777778, \"#fb9f3a\"], [0.8888888888888888, \"#fdca26\"], [1.0, \"#f0f921\"]], \"type\": \"heatmap\"}], \"heatmapgl\": [{\"colorbar\": {\"outlinewidth\": 0, \"ticks\": \"\"}, \"colorscale\": [[0.0, \"#0d0887\"], [0.1111111111111111, \"#46039f\"], [0.2222222222222222, \"#7201a8\"], [0.3333333333333333, \"#9c179e\"], [0.4444444444444444, \"#bd3786\"], [0.5555555555555556, \"#d8576b\"], [0.6666666666666666, \"#ed7953\"], [0.7777777777777778, \"#fb9f3a\"], [0.8888888888888888, \"#fdca26\"], [1.0, \"#f0f921\"]], \"type\": \"heatmapgl\"}], \"histogram\": [{\"marker\": {\"colorbar\": {\"outlinewidth\": 0, \"ticks\": \"\"}}, \"type\": \"histogram\"}], \"histogram2d\": [{\"colorbar\": {\"outlinewidth\": 0, \"ticks\": \"\"}, \"colorscale\": [[0.0, \"#0d0887\"], [0.1111111111111111, \"#46039f\"], [0.2222222222222222, \"#7201a8\"], [0.3333333333333333, \"#9c179e\"], [0.4444444444444444, \"#bd3786\"], [0.5555555555555556, \"#d8576b\"], [0.6666666666666666, \"#ed7953\"], [0.7777777777777778, \"#fb9f3a\"], [0.8888888888888888, \"#fdca26\"], [1.0, \"#f0f921\"]], \"type\": \"histogram2d\"}], \"histogram2dcontour\": [{\"colorbar\": {\"outlinewidth\": 0, \"ticks\": \"\"}, \"colorscale\": [[0.0, \"#0d0887\"], [0.1111111111111111, \"#46039f\"], [0.2222222222222222, \"#7201a8\"], [0.3333333333333333, \"#9c179e\"], [0.4444444444444444, \"#bd3786\"], [0.5555555555555556, \"#d8576b\"], [0.6666666666666666, \"#ed7953\"], [0.7777777777777778, \"#fb9f3a\"], [0.8888888888888888, \"#fdca26\"], [1.0, \"#f0f921\"]], \"type\": \"histogram2dcontour\"}], \"mesh3d\": [{\"colorbar\": {\"outlinewidth\": 0, \"ticks\": \"\"}, \"type\": \"mesh3d\"}], \"parcoords\": [{\"line\": {\"colorbar\": {\"outlinewidth\": 0, \"ticks\": \"\"}}, \"type\": \"parcoords\"}], \"pie\": [{\"automargin\": true, \"type\": \"pie\"}], \"scatter\": [{\"marker\": {\"colorbar\": {\"outlinewidth\": 0, \"ticks\": \"\"}}, \"type\": \"scatter\"}], \"scatter3d\": [{\"line\": {\"colorbar\": {\"outlinewidth\": 0, \"ticks\": \"\"}}, \"marker\": {\"colorbar\": {\"outlinewidth\": 0, \"ticks\": \"\"}}, \"type\": \"scatter3d\"}], \"scattercarpet\": [{\"marker\": {\"colorbar\": {\"outlinewidth\": 0, \"ticks\": \"\"}}, \"type\": \"scattercarpet\"}], \"scattergeo\": [{\"marker\": {\"colorbar\": {\"outlinewidth\": 0, \"ticks\": \"\"}}, \"type\": \"scattergeo\"}], \"scattergl\": [{\"marker\": {\"colorbar\": {\"outlinewidth\": 0, \"ticks\": \"\"}}, \"type\": \"scattergl\"}], \"scattermapbox\": [{\"marker\": {\"colorbar\": {\"outlinewidth\": 0, \"ticks\": \"\"}}, \"type\": \"scattermapbox\"}], \"scatterpolar\": [{\"marker\": {\"colorbar\": {\"outlinewidth\": 0, \"ticks\": \"\"}}, \"type\": \"scatterpolar\"}], \"scatterpolargl\": [{\"marker\": {\"colorbar\": {\"outlinewidth\": 0, \"ticks\": \"\"}}, \"type\": \"scatterpolargl\"}], \"scatterternary\": [{\"marker\": {\"colorbar\": {\"outlinewidth\": 0, \"ticks\": \"\"}}, \"type\": \"scatterternary\"}], \"surface\": [{\"colorbar\": {\"outlinewidth\": 0, \"ticks\": \"\"}, \"colorscale\": [[0.0, \"#0d0887\"], [0.1111111111111111, \"#46039f\"], [0.2222222222222222, \"#7201a8\"], [0.3333333333333333, \"#9c179e\"], [0.4444444444444444, \"#bd3786\"], [0.5555555555555556, \"#d8576b\"], [0.6666666666666666, \"#ed7953\"], [0.7777777777777778, \"#fb9f3a\"], [0.8888888888888888, \"#fdca26\"], [1.0, \"#f0f921\"]], \"type\": \"surface\"}], \"table\": [{\"cells\": {\"fill\": {\"color\": \"#EBF0F8\"}, \"line\": {\"color\": \"white\"}}, \"header\": {\"fill\": {\"color\": \"#C8D4E3\"}, \"line\": {\"color\": \"white\"}}, \"type\": \"table\"}]}, \"layout\": {\"annotationdefaults\": {\"arrowcolor\": \"#2a3f5f\", \"arrowhead\": 0, \"arrowwidth\": 1}, \"coloraxis\": {\"colorbar\": {\"outlinewidth\": 0, \"ticks\": \"\"}}, \"colorscale\": {\"diverging\": [[0, \"#8e0152\"], [0.1, \"#c51b7d\"], [0.2, \"#de77ae\"], [0.3, \"#f1b6da\"], [0.4, \"#fde0ef\"], [0.5, \"#f7f7f7\"], [0.6, \"#e6f5d0\"], [0.7, \"#b8e186\"], [0.8, \"#7fbc41\"], [0.9, \"#4d9221\"], [1, \"#276419\"]], \"sequential\": [[0.0, \"#0d0887\"], [0.1111111111111111, \"#46039f\"], [0.2222222222222222, \"#7201a8\"], [0.3333333333333333, \"#9c179e\"], [0.4444444444444444, \"#bd3786\"], [0.5555555555555556, \"#d8576b\"], [0.6666666666666666, \"#ed7953\"], [0.7777777777777778, \"#fb9f3a\"], [0.8888888888888888, \"#fdca26\"], [1.0, \"#f0f921\"]], \"sequentialminus\": [[0.0, \"#0d0887\"], [0.1111111111111111, \"#46039f\"], [0.2222222222222222, \"#7201a8\"], [0.3333333333333333, \"#9c179e\"], [0.4444444444444444, \"#bd3786\"], [0.5555555555555556, \"#d8576b\"], [0.6666666666666666, \"#ed7953\"], [0.7777777777777778, \"#fb9f3a\"], [0.8888888888888888, \"#fdca26\"], [1.0, \"#f0f921\"]]}, \"colorway\": [\"#636efa\", \"#EF553B\", \"#00cc96\", \"#ab63fa\", \"#FFA15A\", \"#19d3f3\", \"#FF6692\", \"#B6E880\", \"#FF97FF\", \"#FECB52\"], \"font\": {\"color\": \"#2a3f5f\"}, \"geo\": {\"bgcolor\": \"white\", \"lakecolor\": \"white\", \"landcolor\": \"#E5ECF6\", \"showlakes\": true, \"showland\": true, \"subunitcolor\": \"white\"}, \"hoverlabel\": {\"align\": \"left\"}, \"hovermode\": \"closest\", \"mapbox\": {\"style\": \"light\"}, \"paper_bgcolor\": \"white\", \"plot_bgcolor\": \"#E5ECF6\", \"polar\": {\"angularaxis\": {\"gridcolor\": \"white\", \"linecolor\": \"white\", \"ticks\": \"\"}, \"bgcolor\": \"#E5ECF6\", \"radialaxis\": {\"gridcolor\": \"white\", \"linecolor\": \"white\", \"ticks\": \"\"}}, \"scene\": {\"xaxis\": {\"backgroundcolor\": \"#E5ECF6\", \"gridcolor\": \"white\", \"gridwidth\": 2, \"linecolor\": \"white\", \"showbackground\": true, \"ticks\": \"\", \"zerolinecolor\": \"white\"}, \"yaxis\": {\"backgroundcolor\": \"#E5ECF6\", \"gridcolor\": \"white\", \"gridwidth\": 2, \"linecolor\": \"white\", \"showbackground\": true, \"ticks\": \"\", \"zerolinecolor\": \"white\"}, \"zaxis\": {\"backgroundcolor\": \"#E5ECF6\", \"gridcolor\": \"white\", \"gridwidth\": 2, \"linecolor\": \"white\", \"showbackground\": true, \"ticks\": \"\", \"zerolinecolor\": \"white\"}}, \"shapedefaults\": {\"line\": {\"color\": \"#2a3f5f\"}}, \"ternary\": {\"aaxis\": {\"gridcolor\": \"white\", \"linecolor\": \"white\", \"ticks\": \"\"}, \"baxis\": {\"gridcolor\": \"white\", \"linecolor\": \"white\", \"ticks\": \"\"}, \"bgcolor\": \"#E5ECF6\", \"caxis\": {\"gridcolor\": \"white\", \"linecolor\": \"white\", \"ticks\": \"\"}}, \"title\": {\"x\": 0.05}, \"xaxis\": {\"automargin\": true, \"gridcolor\": \"white\", \"linecolor\": \"white\", \"ticks\": \"\", \"title\": {\"standoff\": 15}, \"zerolinecolor\": \"white\", \"zerolinewidth\": 2}, \"yaxis\": {\"automargin\": true, \"gridcolor\": \"white\", \"linecolor\": \"white\", \"ticks\": \"\", \"title\": {\"standoff\": 15}, \"zerolinecolor\": \"white\", \"zerolinewidth\": 2}}}, \"title\": {\"text\": \"Yearly Sales on every dept\"}, \"width\": 1000, \"xaxis\": {\"title\": {\"text\": \"Year\"}}, \"yaxis\": {\"title\": {\"text\": \"Total Sales\"}}},\n",
              "                        {\"responsive\": true}\n",
              "                    ).then(function(){\n",
              "                            \n",
              "var gd = document.getElementById('f538e913-e439-46c8-98dd-05a771cee816');\n",
              "var x = new MutationObserver(function (mutations, observer) {{\n",
              "        var display = window.getComputedStyle(gd).display;\n",
              "        if (!display || display === 'none') {{\n",
              "            console.log([gd, 'removed!']);\n",
              "            Plotly.purge(gd);\n",
              "            observer.disconnect();\n",
              "        }}\n",
              "}});\n",
              "\n",
              "// Listen for the removal of the full notebook cells\n",
              "var notebookContainer = gd.closest('#notebook-container');\n",
              "if (notebookContainer) {{\n",
              "    x.observe(notebookContainer, {childList: true});\n",
              "}}\n",
              "\n",
              "// Listen for the clearing of the current output cell\n",
              "var outputEl = gd.closest('.output');\n",
              "if (outputEl) {{\n",
              "    x.observe(outputEl, {childList: true});\n",
              "}}\n",
              "\n",
              "                        })\n",
              "                };\n",
              "                });\n",
              "            </script>\n",
              "        </div>"
            ]
          },
          "metadata": {
            "tags": []
          }
        }
      ]
    },
    {
      "cell_type": "code",
      "metadata": {
        "colab": {
          "base_uri": "https://localhost:8080/",
          "height": 467
        },
        "id": "q6ze1lG4liJ_",
        "outputId": "2453d374-3032-40ef-b110-e7863f32944f"
      },
      "source": [
        "temp1 = sales.groupby('cat_id')[days].sum().sum(axis=1)\r\n",
        "temp1=pd.DataFrame({'cat':temp1.index,\"vals\":temp1.values})\r\n",
        "fig = px.bar(x=temp1['cat'], y=temp1['vals'], color=['red','green','blue'],width=550,height=450, labels={'x':'Categories','y':'Total Sales'})\r\n",
        "fig.update_traces(hovertemplate='Categories: %{x} <br>Total Sales: %{y}')\r\n",
        "fig.update_layout(showlegend=False)\r\n",
        "fig.show()"
      ],
      "execution_count": null,
      "outputs": [
        {
          "output_type": "display_data",
          "data": {
            "text/html": [
              "<html>\n",
              "<head><meta charset=\"utf-8\" /></head>\n",
              "<body>\n",
              "    <div>\n",
              "            <script src=\"https://cdnjs.cloudflare.com/ajax/libs/mathjax/2.7.5/MathJax.js?config=TeX-AMS-MML_SVG\"></script><script type=\"text/javascript\">if (window.MathJax) {MathJax.Hub.Config({SVG: {font: \"STIX-Web\"}});}</script>\n",
              "                <script type=\"text/javascript\">window.PlotlyConfig = {MathJaxConfig: 'local'};</script>\n",
              "        <script src=\"https://cdn.plot.ly/plotly-latest.min.js\"></script>    \n",
              "            <div id=\"316cc98a-eaa4-40cf-9da8-da07e15f4112\" class=\"plotly-graph-div\" style=\"height:450px; width:550px;\"></div>\n",
              "            <script type=\"text/javascript\">\n",
              "                \n",
              "                    window.PLOTLYENV=window.PLOTLYENV || {};\n",
              "                    \n",
              "                if (document.getElementById(\"316cc98a-eaa4-40cf-9da8-da07e15f4112\")) {\n",
              "                    Plotly.newPlot(\n",
              "                        '316cc98a-eaa4-40cf-9da8-da07e15f4112',\n",
              "                        [{\"alignmentgroup\": \"True\", \"hoverlabel\": {\"namelength\": 0}, \"hovertemplate\": \"Categories: %{x} <br>Total Sales: %{y}\", \"legendgroup\": \"color=red\", \"marker\": {\"color\": \"#636efa\"}, \"name\": \"color=red\", \"offsetgroup\": \"color=red\", \"orientation\": \"v\", \"showlegend\": true, \"textposition\": \"auto\", \"type\": \"bar\", \"x\": [\"FOODS\"], \"xaxis\": \"x\", \"y\": [45922427.0], \"yaxis\": \"y\"}, {\"alignmentgroup\": \"True\", \"hoverlabel\": {\"namelength\": 0}, \"hovertemplate\": \"Categories: %{x} <br>Total Sales: %{y}\", \"legendgroup\": \"color=green\", \"marker\": {\"color\": \"#EF553B\"}, \"name\": \"color=green\", \"offsetgroup\": \"color=green\", \"orientation\": \"v\", \"showlegend\": true, \"textposition\": \"auto\", \"type\": \"bar\", \"x\": [\"HOBBIES\"], \"xaxis\": \"x\", \"y\": [6240656.0], \"yaxis\": \"y\"}, {\"alignmentgroup\": \"True\", \"hoverlabel\": {\"namelength\": 0}, \"hovertemplate\": \"Categories: %{x} <br>Total Sales: %{y}\", \"legendgroup\": \"color=blue\", \"marker\": {\"color\": \"#00cc96\"}, \"name\": \"color=blue\", \"offsetgroup\": \"color=blue\", \"orientation\": \"v\", \"showlegend\": true, \"textposition\": \"auto\", \"type\": \"bar\", \"x\": [\"HOUSEHOLD\"], \"xaxis\": \"x\", \"y\": [14764090.0], \"yaxis\": \"y\"}],\n",
              "                        {\"barmode\": \"relative\", \"height\": 450, \"legend\": {\"tracegroupgap\": 0}, \"margin\": {\"t\": 60}, \"showlegend\": false, \"template\": {\"data\": {\"bar\": [{\"error_x\": {\"color\": \"#2a3f5f\"}, \"error_y\": {\"color\": \"#2a3f5f\"}, \"marker\": {\"line\": {\"color\": \"#E5ECF6\", \"width\": 0.5}}, \"type\": \"bar\"}], \"barpolar\": [{\"marker\": {\"line\": {\"color\": \"#E5ECF6\", \"width\": 0.5}}, \"type\": \"barpolar\"}], \"carpet\": [{\"aaxis\": {\"endlinecolor\": \"#2a3f5f\", \"gridcolor\": \"white\", \"linecolor\": \"white\", \"minorgridcolor\": \"white\", \"startlinecolor\": \"#2a3f5f\"}, \"baxis\": {\"endlinecolor\": \"#2a3f5f\", \"gridcolor\": \"white\", \"linecolor\": \"white\", \"minorgridcolor\": \"white\", \"startlinecolor\": \"#2a3f5f\"}, \"type\": \"carpet\"}], \"choropleth\": [{\"colorbar\": {\"outlinewidth\": 0, \"ticks\": \"\"}, \"type\": \"choropleth\"}], \"contour\": [{\"colorbar\": {\"outlinewidth\": 0, \"ticks\": \"\"}, \"colorscale\": [[0.0, \"#0d0887\"], [0.1111111111111111, \"#46039f\"], [0.2222222222222222, \"#7201a8\"], [0.3333333333333333, \"#9c179e\"], [0.4444444444444444, \"#bd3786\"], [0.5555555555555556, \"#d8576b\"], [0.6666666666666666, \"#ed7953\"], [0.7777777777777778, \"#fb9f3a\"], [0.8888888888888888, \"#fdca26\"], [1.0, \"#f0f921\"]], \"type\": \"contour\"}], \"contourcarpet\": [{\"colorbar\": {\"outlinewidth\": 0, \"ticks\": \"\"}, \"type\": \"contourcarpet\"}], \"heatmap\": [{\"colorbar\": {\"outlinewidth\": 0, \"ticks\": \"\"}, \"colorscale\": [[0.0, \"#0d0887\"], [0.1111111111111111, \"#46039f\"], [0.2222222222222222, \"#7201a8\"], [0.3333333333333333, \"#9c179e\"], [0.4444444444444444, \"#bd3786\"], [0.5555555555555556, \"#d8576b\"], [0.6666666666666666, \"#ed7953\"], [0.7777777777777778, \"#fb9f3a\"], [0.8888888888888888, \"#fdca26\"], [1.0, \"#f0f921\"]], \"type\": \"heatmap\"}], \"heatmapgl\": [{\"colorbar\": {\"outlinewidth\": 0, \"ticks\": \"\"}, \"colorscale\": [[0.0, \"#0d0887\"], [0.1111111111111111, \"#46039f\"], [0.2222222222222222, \"#7201a8\"], [0.3333333333333333, \"#9c179e\"], [0.4444444444444444, \"#bd3786\"], [0.5555555555555556, \"#d8576b\"], [0.6666666666666666, \"#ed7953\"], [0.7777777777777778, \"#fb9f3a\"], [0.8888888888888888, \"#fdca26\"], [1.0, \"#f0f921\"]], \"type\": \"heatmapgl\"}], \"histogram\": [{\"marker\": {\"colorbar\": {\"outlinewidth\": 0, \"ticks\": \"\"}}, \"type\": \"histogram\"}], \"histogram2d\": [{\"colorbar\": {\"outlinewidth\": 0, \"ticks\": \"\"}, \"colorscale\": [[0.0, \"#0d0887\"], [0.1111111111111111, \"#46039f\"], [0.2222222222222222, \"#7201a8\"], [0.3333333333333333, \"#9c179e\"], [0.4444444444444444, \"#bd3786\"], [0.5555555555555556, \"#d8576b\"], [0.6666666666666666, \"#ed7953\"], [0.7777777777777778, \"#fb9f3a\"], [0.8888888888888888, \"#fdca26\"], [1.0, \"#f0f921\"]], \"type\": \"histogram2d\"}], \"histogram2dcontour\": [{\"colorbar\": {\"outlinewidth\": 0, \"ticks\": \"\"}, \"colorscale\": [[0.0, \"#0d0887\"], [0.1111111111111111, \"#46039f\"], [0.2222222222222222, \"#7201a8\"], [0.3333333333333333, \"#9c179e\"], [0.4444444444444444, \"#bd3786\"], [0.5555555555555556, \"#d8576b\"], [0.6666666666666666, \"#ed7953\"], [0.7777777777777778, \"#fb9f3a\"], [0.8888888888888888, \"#fdca26\"], [1.0, \"#f0f921\"]], \"type\": \"histogram2dcontour\"}], \"mesh3d\": [{\"colorbar\": {\"outlinewidth\": 0, \"ticks\": \"\"}, \"type\": \"mesh3d\"}], \"parcoords\": [{\"line\": {\"colorbar\": {\"outlinewidth\": 0, \"ticks\": \"\"}}, \"type\": \"parcoords\"}], \"pie\": [{\"automargin\": true, \"type\": \"pie\"}], \"scatter\": [{\"marker\": {\"colorbar\": {\"outlinewidth\": 0, \"ticks\": \"\"}}, \"type\": \"scatter\"}], \"scatter3d\": [{\"line\": {\"colorbar\": {\"outlinewidth\": 0, \"ticks\": \"\"}}, \"marker\": {\"colorbar\": {\"outlinewidth\": 0, \"ticks\": \"\"}}, \"type\": \"scatter3d\"}], \"scattercarpet\": [{\"marker\": {\"colorbar\": {\"outlinewidth\": 0, \"ticks\": \"\"}}, \"type\": \"scattercarpet\"}], \"scattergeo\": [{\"marker\": {\"colorbar\": {\"outlinewidth\": 0, \"ticks\": \"\"}}, \"type\": \"scattergeo\"}], \"scattergl\": [{\"marker\": {\"colorbar\": {\"outlinewidth\": 0, \"ticks\": \"\"}}, \"type\": \"scattergl\"}], \"scattermapbox\": [{\"marker\": {\"colorbar\": {\"outlinewidth\": 0, \"ticks\": \"\"}}, \"type\": \"scattermapbox\"}], \"scatterpolar\": [{\"marker\": {\"colorbar\": {\"outlinewidth\": 0, \"ticks\": \"\"}}, \"type\": \"scatterpolar\"}], \"scatterpolargl\": [{\"marker\": {\"colorbar\": {\"outlinewidth\": 0, \"ticks\": \"\"}}, \"type\": \"scatterpolargl\"}], \"scatterternary\": [{\"marker\": {\"colorbar\": {\"outlinewidth\": 0, \"ticks\": \"\"}}, \"type\": \"scatterternary\"}], \"surface\": [{\"colorbar\": {\"outlinewidth\": 0, \"ticks\": \"\"}, \"colorscale\": [[0.0, \"#0d0887\"], [0.1111111111111111, \"#46039f\"], [0.2222222222222222, \"#7201a8\"], [0.3333333333333333, \"#9c179e\"], [0.4444444444444444, \"#bd3786\"], [0.5555555555555556, \"#d8576b\"], [0.6666666666666666, \"#ed7953\"], [0.7777777777777778, \"#fb9f3a\"], [0.8888888888888888, \"#fdca26\"], [1.0, \"#f0f921\"]], \"type\": \"surface\"}], \"table\": [{\"cells\": {\"fill\": {\"color\": \"#EBF0F8\"}, \"line\": {\"color\": \"white\"}}, \"header\": {\"fill\": {\"color\": \"#C8D4E3\"}, \"line\": {\"color\": \"white\"}}, \"type\": \"table\"}]}, \"layout\": {\"annotationdefaults\": {\"arrowcolor\": \"#2a3f5f\", \"arrowhead\": 0, \"arrowwidth\": 1}, \"coloraxis\": {\"colorbar\": {\"outlinewidth\": 0, \"ticks\": \"\"}}, \"colorscale\": {\"diverging\": [[0, \"#8e0152\"], [0.1, \"#c51b7d\"], [0.2, \"#de77ae\"], [0.3, \"#f1b6da\"], [0.4, \"#fde0ef\"], [0.5, \"#f7f7f7\"], [0.6, \"#e6f5d0\"], [0.7, \"#b8e186\"], [0.8, \"#7fbc41\"], [0.9, \"#4d9221\"], [1, \"#276419\"]], \"sequential\": [[0.0, \"#0d0887\"], [0.1111111111111111, \"#46039f\"], [0.2222222222222222, \"#7201a8\"], [0.3333333333333333, \"#9c179e\"], [0.4444444444444444, \"#bd3786\"], [0.5555555555555556, \"#d8576b\"], [0.6666666666666666, \"#ed7953\"], [0.7777777777777778, \"#fb9f3a\"], [0.8888888888888888, \"#fdca26\"], [1.0, \"#f0f921\"]], \"sequentialminus\": [[0.0, \"#0d0887\"], [0.1111111111111111, \"#46039f\"], [0.2222222222222222, \"#7201a8\"], [0.3333333333333333, \"#9c179e\"], [0.4444444444444444, \"#bd3786\"], [0.5555555555555556, \"#d8576b\"], [0.6666666666666666, \"#ed7953\"], [0.7777777777777778, \"#fb9f3a\"], [0.8888888888888888, \"#fdca26\"], [1.0, \"#f0f921\"]]}, \"colorway\": [\"#636efa\", \"#EF553B\", \"#00cc96\", \"#ab63fa\", \"#FFA15A\", \"#19d3f3\", \"#FF6692\", \"#B6E880\", \"#FF97FF\", \"#FECB52\"], \"font\": {\"color\": \"#2a3f5f\"}, \"geo\": {\"bgcolor\": \"white\", \"lakecolor\": \"white\", \"landcolor\": \"#E5ECF6\", \"showlakes\": true, \"showland\": true, \"subunitcolor\": \"white\"}, \"hoverlabel\": {\"align\": \"left\"}, \"hovermode\": \"closest\", \"mapbox\": {\"style\": \"light\"}, \"paper_bgcolor\": \"white\", \"plot_bgcolor\": \"#E5ECF6\", \"polar\": {\"angularaxis\": {\"gridcolor\": \"white\", \"linecolor\": \"white\", \"ticks\": \"\"}, \"bgcolor\": \"#E5ECF6\", \"radialaxis\": {\"gridcolor\": \"white\", \"linecolor\": \"white\", \"ticks\": \"\"}}, \"scene\": {\"xaxis\": {\"backgroundcolor\": \"#E5ECF6\", \"gridcolor\": \"white\", \"gridwidth\": 2, \"linecolor\": \"white\", \"showbackground\": true, \"ticks\": \"\", \"zerolinecolor\": \"white\"}, \"yaxis\": {\"backgroundcolor\": \"#E5ECF6\", \"gridcolor\": \"white\", \"gridwidth\": 2, \"linecolor\": \"white\", \"showbackground\": true, \"ticks\": \"\", \"zerolinecolor\": \"white\"}, \"zaxis\": {\"backgroundcolor\": \"#E5ECF6\", \"gridcolor\": \"white\", \"gridwidth\": 2, \"linecolor\": \"white\", \"showbackground\": true, \"ticks\": \"\", \"zerolinecolor\": \"white\"}}, \"shapedefaults\": {\"line\": {\"color\": \"#2a3f5f\"}}, \"ternary\": {\"aaxis\": {\"gridcolor\": \"white\", \"linecolor\": \"white\", \"ticks\": \"\"}, \"baxis\": {\"gridcolor\": \"white\", \"linecolor\": \"white\", \"ticks\": \"\"}, \"bgcolor\": \"#E5ECF6\", \"caxis\": {\"gridcolor\": \"white\", \"linecolor\": \"white\", \"ticks\": \"\"}}, \"title\": {\"x\": 0.05}, \"xaxis\": {\"automargin\": true, \"gridcolor\": \"white\", \"linecolor\": \"white\", \"ticks\": \"\", \"title\": {\"standoff\": 15}, \"zerolinecolor\": \"white\", \"zerolinewidth\": 2}, \"yaxis\": {\"automargin\": true, \"gridcolor\": \"white\", \"linecolor\": \"white\", \"ticks\": \"\", \"title\": {\"standoff\": 15}, \"zerolinecolor\": \"white\", \"zerolinewidth\": 2}}}, \"width\": 550, \"xaxis\": {\"anchor\": \"y\", \"domain\": [0.0, 1.0], \"title\": {\"text\": \"Categories\"}}, \"yaxis\": {\"anchor\": \"x\", \"domain\": [0.0, 1.0], \"title\": {\"text\": \"Total Sales\"}}},\n",
              "                        {\"responsive\": true}\n",
              "                    ).then(function(){\n",
              "                            \n",
              "var gd = document.getElementById('316cc98a-eaa4-40cf-9da8-da07e15f4112');\n",
              "var x = new MutationObserver(function (mutations, observer) {{\n",
              "        var display = window.getComputedStyle(gd).display;\n",
              "        if (!display || display === 'none') {{\n",
              "            console.log([gd, 'removed!']);\n",
              "            Plotly.purge(gd);\n",
              "            observer.disconnect();\n",
              "        }}\n",
              "}});\n",
              "\n",
              "// Listen for the removal of the full notebook cells\n",
              "var notebookContainer = gd.closest('#notebook-container');\n",
              "if (notebookContainer) {{\n",
              "    x.observe(notebookContainer, {childList: true});\n",
              "}}\n",
              "\n",
              "// Listen for the clearing of the current output cell\n",
              "var outputEl = gd.closest('.output');\n",
              "if (outputEl) {{\n",
              "    x.observe(outputEl, {childList: true});\n",
              "}}\n",
              "\n",
              "                        })\n",
              "                };\n",
              "                \n",
              "            </script>\n",
              "        </div>\n",
              "</body>\n",
              "</html>"
            ]
          },
          "metadata": {
            "tags": []
          }
        }
      ]
    },
    {
      "cell_type": "markdown",
      "metadata": {
        "id": "JhaRFR83-R4Z"
      },
      "source": [
        "**Observation:**\r\n",
        "* Food sales range the highest above 40M followed by Household items around 15M and lastly Hobbies.\r\n",
        "* Food_2 caegories are sold the most, and then household_1.\r\n",
        "* The least sold item is Hobbies_2.\r\n",
        "* As food is an important aspect the sales are huge on Food products."
      ]
    },
    {
      "cell_type": "code",
      "metadata": {
        "colab": {
          "base_uri": "https://localhost:8080/",
          "height": 542
        },
        "id": "BuNK_4f-QtsZ",
        "outputId": "86a05ae2-0fc9-414f-fe54-c4f6d92d10e9"
      },
      "source": [
        "temp = sales.groupby('state_id').sum().T\r\n",
        "date = [\"\".join(str(i).split('-')[:2]) for i in date]\r\n",
        "temp.columns = temp.columns.astype(str)\r\n",
        "temp['Date'] = date\r\n",
        "temp = temp.groupby(\"Date\").sum()\r\n",
        "\r\n",
        "fig = go.Figure()\r\n",
        "\r\n",
        "for i in temp.columns:\r\n",
        "    fig.add_trace(go.Scatter(x = x_dates, y = temp[i], mode='lines', name=str(i).title()))\r\n",
        "\r\n",
        "fig.update_layout(title='Monthly Sales per State', xaxis_title='Year',yaxis_title='Total Sales', width=1000, title_x=0.5)"
      ],
      "execution_count": null,
      "outputs": [
        {
          "output_type": "display_data",
          "data": {
            "text/html": [
              "<html>\n",
              "<head><meta charset=\"utf-8\" /></head>\n",
              "<body>\n",
              "    <div>\n",
              "            <script src=\"https://cdnjs.cloudflare.com/ajax/libs/mathjax/2.7.5/MathJax.js?config=TeX-AMS-MML_SVG\"></script><script type=\"text/javascript\">if (window.MathJax) {MathJax.Hub.Config({SVG: {font: \"STIX-Web\"}});}</script>\n",
              "                <script type=\"text/javascript\">window.PlotlyConfig = {MathJaxConfig: 'local'};</script>\n",
              "        <script src=\"https://cdn.plot.ly/plotly-latest.min.js\"></script>    \n",
              "            <div id=\"b1f625d7-1c41-4dfa-876d-6133053dd85a\" class=\"plotly-graph-div\" style=\"height:525px; width:1000px;\"></div>\n",
              "            <script type=\"text/javascript\">\n",
              "                \n",
              "                    window.PLOTLYENV=window.PLOTLYENV || {};\n",
              "                    \n",
              "                if (document.getElementById(\"b1f625d7-1c41-4dfa-876d-6133053dd85a\")) {\n",
              "                    Plotly.newPlot(\n",
              "                        'b1f625d7-1c41-4dfa-876d-6133053dd85a',\n",
              "                        [{\"mode\": \"lines\", \"name\": \"Ca\", \"type\": \"scatter\", \"x\": [\"2011-02-01T00:00:00\", \"2011-03-01T00:00:00\", \"2011-04-01T00:00:00\", \"2011-05-01T00:00:00\", \"2011-06-01T00:00:00\", \"2011-07-01T00:00:00\", \"2011-08-01T00:00:00\", \"2011-09-01T00:00:00\", \"2011-10-01T00:00:00\", \"2011-11-01T00:00:00\", \"2011-12-01T00:00:00\", \"2012-01-01T00:00:00\", \"2012-02-01T00:00:00\", \"2012-03-01T00:00:00\", \"2012-04-01T00:00:00\", \"2012-05-01T00:00:00\", \"2012-06-01T00:00:00\", \"2012-07-01T00:00:00\", \"2012-08-01T00:00:00\", \"2012-09-01T00:00:00\", \"2012-10-01T00:00:00\", \"2012-11-01T00:00:00\", \"2012-12-01T00:00:00\", \"2013-01-01T00:00:00\", \"2013-02-01T00:00:00\", \"2013-03-01T00:00:00\", \"2013-04-01T00:00:00\", \"2013-05-01T00:00:00\", \"2013-06-01T00:00:00\", \"2013-07-01T00:00:00\", \"2013-08-01T00:00:00\", \"2013-09-01T00:00:00\", \"2013-10-01T00:00:00\", \"2013-11-01T00:00:00\", \"2013-12-01T00:00:00\", \"2014-01-01T00:00:00\", \"2014-02-01T00:00:00\", \"2014-03-01T00:00:00\", \"2014-04-01T00:00:00\", \"2014-05-01T00:00:00\", \"2014-06-01T00:00:00\", \"2014-07-01T00:00:00\", \"2014-08-01T00:00:00\", \"2014-09-01T00:00:00\", \"2014-10-01T00:00:00\", \"2014-11-01T00:00:00\", \"2014-12-01T00:00:00\", \"2015-01-01T00:00:00\", \"2015-02-01T00:00:00\", \"2015-03-01T00:00:00\", \"2015-04-01T00:00:00\", \"2015-05-01T00:00:00\", \"2015-06-01T00:00:00\", \"2015-07-01T00:00:00\", \"2015-08-01T00:00:00\", \"2015-09-01T00:00:00\", \"2015-10-01T00:00:00\", \"2015-11-01T00:00:00\", \"2015-12-01T00:00:00\", \"2016-01-01T00:00:00\", \"2016-02-01T00:00:00\", \"2016-03-01T00:00:00\", \"2016-04-01T00:00:00\"], \"y\": [38108.0, 318101.0, 339678.0, 331004.0, 321566.0, 332948.0, 362183.0, 361436.0, 361294.0, 406333.0, 371336.0, 399815.0, 403379.0, 405490.0, 450019.0, 430997.0, 442598.0, 473846.0, 472722.0, 486906.0, 462088.0, 433074.0, 391527.0, 415841.0, 418720.0, 404895.0, 462815.0, 453552.0, 479270.0, 510966.0, 522898.0, 538700.0, 522377.0, 501789.0, 457749.0, 460070.0, 466132.0, 431330.0, 489670.0, 488193.0, 487567.0, 493481.0, 511191.0, 520895.0, 486191.0, 482159.0, 459429.0, 432638.0, 458285.0, 421723.0, 476039.0, 462671.0, 489715.0, 507922.0, 540951.0, 565672.0, 531531.0, 551025.0, 482047.0, 479557.0, 525392.0, 505704.0, 538930.0, 544960.0, 419627.0]}, {\"mode\": \"lines\", \"name\": \"Tx\", \"type\": \"scatter\", \"x\": [\"2011-02-01T00:00:00\", \"2011-03-01T00:00:00\", \"2011-04-01T00:00:00\", \"2011-05-01T00:00:00\", \"2011-06-01T00:00:00\", \"2011-07-01T00:00:00\", \"2011-08-01T00:00:00\", \"2011-09-01T00:00:00\", \"2011-10-01T00:00:00\", \"2011-11-01T00:00:00\", \"2011-12-01T00:00:00\", \"2012-01-01T00:00:00\", \"2012-02-01T00:00:00\", \"2012-03-01T00:00:00\", \"2012-04-01T00:00:00\", \"2012-05-01T00:00:00\", \"2012-06-01T00:00:00\", \"2012-07-01T00:00:00\", \"2012-08-01T00:00:00\", \"2012-09-01T00:00:00\", \"2012-10-01T00:00:00\", \"2012-11-01T00:00:00\", \"2012-12-01T00:00:00\", \"2013-01-01T00:00:00\", \"2013-02-01T00:00:00\", \"2013-03-01T00:00:00\", \"2013-04-01T00:00:00\", \"2013-05-01T00:00:00\", \"2013-06-01T00:00:00\", \"2013-07-01T00:00:00\", \"2013-08-01T00:00:00\", \"2013-09-01T00:00:00\", \"2013-10-01T00:00:00\", \"2013-11-01T00:00:00\", \"2013-12-01T00:00:00\", \"2014-01-01T00:00:00\", \"2014-02-01T00:00:00\", \"2014-03-01T00:00:00\", \"2014-04-01T00:00:00\", \"2014-05-01T00:00:00\", \"2014-06-01T00:00:00\", \"2014-07-01T00:00:00\", \"2014-08-01T00:00:00\", \"2014-09-01T00:00:00\", \"2014-10-01T00:00:00\", \"2014-11-01T00:00:00\", \"2014-12-01T00:00:00\", \"2015-01-01T00:00:00\", \"2015-02-01T00:00:00\", \"2015-03-01T00:00:00\", \"2015-04-01T00:00:00\", \"2015-05-01T00:00:00\", \"2015-06-01T00:00:00\", \"2015-07-01T00:00:00\", \"2015-08-01T00:00:00\", \"2015-09-01T00:00:00\", \"2015-10-01T00:00:00\", \"2015-11-01T00:00:00\", \"2015-12-01T00:00:00\", \"2016-01-01T00:00:00\", \"2016-02-01T00:00:00\", \"2016-03-01T00:00:00\", \"2016-04-01T00:00:00\"], \"y\": [25846.0, 212015.0, 225162.0, 220681.0, 221620.0, 235653.0, 256128.0, 268649.0, 256171.0, 276351.0, 249030.0, 263853.0, 265416.0, 267534.0, 298590.0, 296123.0, 308733.0, 326780.0, 313946.0, 329349.0, 318445.0, 305382.0, 277932.0, 303301.0, 286249.0, 297824.0, 324042.0, 297753.0, 312158.0, 332963.0, 336647.0, 352173.0, 335148.0, 317573.0, 291515.0, 294014.0, 286733.0, 281113.0, 317027.0, 314921.0, 307226.0, 316230.0, 328820.0, 335903.0, 301620.0, 306124.0, 290241.0, 287257.0, 300785.0, 298789.0, 324634.0, 318829.0, 335196.0, 326378.0, 347507.0, 345213.0, 317834.0, 334063.0, 303714.0, 305981.0, 321790.0, 328110.0, 343674.0, 337226.0, 264718.0]}, {\"mode\": \"lines\", \"name\": \"Wi\", \"type\": \"scatter\", \"x\": [\"2011-02-01T00:00:00\", \"2011-03-01T00:00:00\", \"2011-04-01T00:00:00\", \"2011-05-01T00:00:00\", \"2011-06-01T00:00:00\", \"2011-07-01T00:00:00\", \"2011-08-01T00:00:00\", \"2011-09-01T00:00:00\", \"2011-10-01T00:00:00\", \"2011-11-01T00:00:00\", \"2011-12-01T00:00:00\", \"2012-01-01T00:00:00\", \"2012-02-01T00:00:00\", \"2012-03-01T00:00:00\", \"2012-04-01T00:00:00\", \"2012-05-01T00:00:00\", \"2012-06-01T00:00:00\", \"2012-07-01T00:00:00\", \"2012-08-01T00:00:00\", \"2012-09-01T00:00:00\", \"2012-10-01T00:00:00\", \"2012-11-01T00:00:00\", \"2012-12-01T00:00:00\", \"2013-01-01T00:00:00\", \"2013-02-01T00:00:00\", \"2013-03-01T00:00:00\", \"2013-04-01T00:00:00\", \"2013-05-01T00:00:00\", \"2013-06-01T00:00:00\", \"2013-07-01T00:00:00\", \"2013-08-01T00:00:00\", \"2013-09-01T00:00:00\", \"2013-10-01T00:00:00\", \"2013-11-01T00:00:00\", \"2013-12-01T00:00:00\", \"2014-01-01T00:00:00\", \"2014-02-01T00:00:00\", \"2014-03-01T00:00:00\", \"2014-04-01T00:00:00\", \"2014-05-01T00:00:00\", \"2014-06-01T00:00:00\", \"2014-07-01T00:00:00\", \"2014-08-01T00:00:00\", \"2014-09-01T00:00:00\", \"2014-10-01T00:00:00\", \"2014-11-01T00:00:00\", \"2014-12-01T00:00:00\", \"2015-01-01T00:00:00\", \"2015-02-01T00:00:00\", \"2015-03-01T00:00:00\", \"2015-04-01T00:00:00\", \"2015-05-01T00:00:00\", \"2015-06-01T00:00:00\", \"2015-07-01T00:00:00\", \"2015-08-01T00:00:00\", \"2015-09-01T00:00:00\", \"2015-10-01T00:00:00\", \"2015-11-01T00:00:00\", \"2015-12-01T00:00:00\", \"2016-01-01T00:00:00\", \"2016-02-01T00:00:00\", \"2016-03-01T00:00:00\", \"2016-04-01T00:00:00\"], \"y\": [24209.0, 196259.0, 198727.0, 186028.0, 176376.0, 184779.0, 201509.0, 195609.0, 196218.0, 215559.0, 202721.0, 223630.0, 224580.0, 224966.0, 238285.0, 217738.0, 246415.0, 294983.0, 294109.0, 286525.0, 283831.0, 267852.0, 291225.0, 311310.0, 303591.0, 307941.0, 330713.0, 282731.0, 283255.0, 291664.0, 299922.0, 313940.0, 308990.0, 305161.0, 295535.0, 300450.0, 304147.0, 297317.0, 317009.0, 301173.0, 298299.0, 300320.0, 311753.0, 327304.0, 300603.0, 314795.0, 301408.0, 293557.0, 324045.0, 311365.0, 319054.0, 311929.0, 328103.0, 321299.0, 343689.0, 343456.0, 339548.0, 363349.0, 328215.0, 340698.0, 368104.0, 379113.0, 393142.0, 401284.0, 310637.0]}],\n",
              "                        {\"template\": {\"data\": {\"bar\": [{\"error_x\": {\"color\": \"#2a3f5f\"}, \"error_y\": {\"color\": \"#2a3f5f\"}, \"marker\": {\"line\": {\"color\": \"#E5ECF6\", \"width\": 0.5}}, \"type\": \"bar\"}], \"barpolar\": [{\"marker\": {\"line\": {\"color\": \"#E5ECF6\", \"width\": 0.5}}, \"type\": \"barpolar\"}], \"carpet\": [{\"aaxis\": {\"endlinecolor\": \"#2a3f5f\", \"gridcolor\": \"white\", \"linecolor\": \"white\", \"minorgridcolor\": \"white\", \"startlinecolor\": \"#2a3f5f\"}, \"baxis\": {\"endlinecolor\": \"#2a3f5f\", \"gridcolor\": \"white\", \"linecolor\": \"white\", \"minorgridcolor\": \"white\", \"startlinecolor\": \"#2a3f5f\"}, \"type\": \"carpet\"}], \"choropleth\": [{\"colorbar\": {\"outlinewidth\": 0, \"ticks\": \"\"}, \"type\": \"choropleth\"}], \"contour\": [{\"colorbar\": {\"outlinewidth\": 0, \"ticks\": \"\"}, \"colorscale\": [[0.0, \"#0d0887\"], [0.1111111111111111, \"#46039f\"], [0.2222222222222222, \"#7201a8\"], [0.3333333333333333, \"#9c179e\"], [0.4444444444444444, \"#bd3786\"], [0.5555555555555556, \"#d8576b\"], [0.6666666666666666, \"#ed7953\"], [0.7777777777777778, \"#fb9f3a\"], [0.8888888888888888, \"#fdca26\"], [1.0, \"#f0f921\"]], \"type\": \"contour\"}], \"contourcarpet\": [{\"colorbar\": {\"outlinewidth\": 0, \"ticks\": \"\"}, \"type\": \"contourcarpet\"}], \"heatmap\": [{\"colorbar\": {\"outlinewidth\": 0, \"ticks\": \"\"}, \"colorscale\": [[0.0, \"#0d0887\"], [0.1111111111111111, \"#46039f\"], [0.2222222222222222, \"#7201a8\"], [0.3333333333333333, \"#9c179e\"], [0.4444444444444444, \"#bd3786\"], [0.5555555555555556, \"#d8576b\"], [0.6666666666666666, \"#ed7953\"], [0.7777777777777778, \"#fb9f3a\"], [0.8888888888888888, \"#fdca26\"], [1.0, \"#f0f921\"]], \"type\": \"heatmap\"}], \"heatmapgl\": [{\"colorbar\": {\"outlinewidth\": 0, \"ticks\": \"\"}, \"colorscale\": [[0.0, \"#0d0887\"], [0.1111111111111111, \"#46039f\"], [0.2222222222222222, \"#7201a8\"], [0.3333333333333333, \"#9c179e\"], [0.4444444444444444, \"#bd3786\"], [0.5555555555555556, \"#d8576b\"], [0.6666666666666666, \"#ed7953\"], [0.7777777777777778, \"#fb9f3a\"], [0.8888888888888888, \"#fdca26\"], [1.0, \"#f0f921\"]], \"type\": \"heatmapgl\"}], \"histogram\": [{\"marker\": {\"colorbar\": {\"outlinewidth\": 0, \"ticks\": \"\"}}, \"type\": \"histogram\"}], \"histogram2d\": [{\"colorbar\": {\"outlinewidth\": 0, \"ticks\": \"\"}, \"colorscale\": [[0.0, \"#0d0887\"], [0.1111111111111111, \"#46039f\"], [0.2222222222222222, \"#7201a8\"], [0.3333333333333333, \"#9c179e\"], [0.4444444444444444, \"#bd3786\"], [0.5555555555555556, \"#d8576b\"], [0.6666666666666666, \"#ed7953\"], [0.7777777777777778, \"#fb9f3a\"], [0.8888888888888888, \"#fdca26\"], [1.0, \"#f0f921\"]], \"type\": \"histogram2d\"}], \"histogram2dcontour\": [{\"colorbar\": {\"outlinewidth\": 0, \"ticks\": \"\"}, \"colorscale\": [[0.0, \"#0d0887\"], [0.1111111111111111, \"#46039f\"], [0.2222222222222222, \"#7201a8\"], [0.3333333333333333, \"#9c179e\"], [0.4444444444444444, \"#bd3786\"], [0.5555555555555556, \"#d8576b\"], [0.6666666666666666, \"#ed7953\"], [0.7777777777777778, \"#fb9f3a\"], [0.8888888888888888, \"#fdca26\"], [1.0, \"#f0f921\"]], \"type\": \"histogram2dcontour\"}], \"mesh3d\": [{\"colorbar\": {\"outlinewidth\": 0, \"ticks\": \"\"}, \"type\": \"mesh3d\"}], \"parcoords\": [{\"line\": {\"colorbar\": {\"outlinewidth\": 0, \"ticks\": \"\"}}, \"type\": \"parcoords\"}], \"pie\": [{\"automargin\": true, \"type\": \"pie\"}], \"scatter\": [{\"marker\": {\"colorbar\": {\"outlinewidth\": 0, \"ticks\": \"\"}}, \"type\": \"scatter\"}], \"scatter3d\": [{\"line\": {\"colorbar\": {\"outlinewidth\": 0, \"ticks\": \"\"}}, \"marker\": {\"colorbar\": {\"outlinewidth\": 0, \"ticks\": \"\"}}, \"type\": \"scatter3d\"}], \"scattercarpet\": [{\"marker\": {\"colorbar\": {\"outlinewidth\": 0, \"ticks\": \"\"}}, \"type\": \"scattercarpet\"}], \"scattergeo\": [{\"marker\": {\"colorbar\": {\"outlinewidth\": 0, \"ticks\": \"\"}}, \"type\": \"scattergeo\"}], \"scattergl\": [{\"marker\": {\"colorbar\": {\"outlinewidth\": 0, \"ticks\": \"\"}}, \"type\": \"scattergl\"}], \"scattermapbox\": [{\"marker\": {\"colorbar\": {\"outlinewidth\": 0, \"ticks\": \"\"}}, \"type\": \"scattermapbox\"}], \"scatterpolar\": [{\"marker\": {\"colorbar\": {\"outlinewidth\": 0, \"ticks\": \"\"}}, \"type\": \"scatterpolar\"}], \"scatterpolargl\": [{\"marker\": {\"colorbar\": {\"outlinewidth\": 0, \"ticks\": \"\"}}, \"type\": \"scatterpolargl\"}], \"scatterternary\": [{\"marker\": {\"colorbar\": {\"outlinewidth\": 0, \"ticks\": \"\"}}, \"type\": \"scatterternary\"}], \"surface\": [{\"colorbar\": {\"outlinewidth\": 0, \"ticks\": \"\"}, \"colorscale\": [[0.0, \"#0d0887\"], [0.1111111111111111, \"#46039f\"], [0.2222222222222222, \"#7201a8\"], [0.3333333333333333, \"#9c179e\"], [0.4444444444444444, \"#bd3786\"], [0.5555555555555556, \"#d8576b\"], [0.6666666666666666, \"#ed7953\"], [0.7777777777777778, \"#fb9f3a\"], [0.8888888888888888, \"#fdca26\"], [1.0, \"#f0f921\"]], \"type\": \"surface\"}], \"table\": [{\"cells\": {\"fill\": {\"color\": \"#EBF0F8\"}, \"line\": {\"color\": \"white\"}}, \"header\": {\"fill\": {\"color\": \"#C8D4E3\"}, \"line\": {\"color\": \"white\"}}, \"type\": \"table\"}]}, \"layout\": {\"annotationdefaults\": {\"arrowcolor\": \"#2a3f5f\", \"arrowhead\": 0, \"arrowwidth\": 1}, \"coloraxis\": {\"colorbar\": {\"outlinewidth\": 0, \"ticks\": \"\"}}, \"colorscale\": {\"diverging\": [[0, \"#8e0152\"], [0.1, \"#c51b7d\"], [0.2, \"#de77ae\"], [0.3, \"#f1b6da\"], [0.4, \"#fde0ef\"], [0.5, \"#f7f7f7\"], [0.6, \"#e6f5d0\"], [0.7, \"#b8e186\"], [0.8, \"#7fbc41\"], [0.9, \"#4d9221\"], [1, \"#276419\"]], \"sequential\": [[0.0, \"#0d0887\"], [0.1111111111111111, \"#46039f\"], [0.2222222222222222, \"#7201a8\"], [0.3333333333333333, \"#9c179e\"], [0.4444444444444444, \"#bd3786\"], [0.5555555555555556, \"#d8576b\"], [0.6666666666666666, \"#ed7953\"], [0.7777777777777778, \"#fb9f3a\"], [0.8888888888888888, \"#fdca26\"], [1.0, \"#f0f921\"]], \"sequentialminus\": [[0.0, \"#0d0887\"], [0.1111111111111111, \"#46039f\"], [0.2222222222222222, \"#7201a8\"], [0.3333333333333333, \"#9c179e\"], [0.4444444444444444, \"#bd3786\"], [0.5555555555555556, \"#d8576b\"], [0.6666666666666666, \"#ed7953\"], [0.7777777777777778, \"#fb9f3a\"], [0.8888888888888888, \"#fdca26\"], [1.0, \"#f0f921\"]]}, \"colorway\": [\"#636efa\", \"#EF553B\", \"#00cc96\", \"#ab63fa\", \"#FFA15A\", \"#19d3f3\", \"#FF6692\", \"#B6E880\", \"#FF97FF\", \"#FECB52\"], \"font\": {\"color\": \"#2a3f5f\"}, \"geo\": {\"bgcolor\": \"white\", \"lakecolor\": \"white\", \"landcolor\": \"#E5ECF6\", \"showlakes\": true, \"showland\": true, \"subunitcolor\": \"white\"}, \"hoverlabel\": {\"align\": \"left\"}, \"hovermode\": \"closest\", \"mapbox\": {\"style\": \"light\"}, \"paper_bgcolor\": \"white\", \"plot_bgcolor\": \"#E5ECF6\", \"polar\": {\"angularaxis\": {\"gridcolor\": \"white\", \"linecolor\": \"white\", \"ticks\": \"\"}, \"bgcolor\": \"#E5ECF6\", \"radialaxis\": {\"gridcolor\": \"white\", \"linecolor\": \"white\", \"ticks\": \"\"}}, \"scene\": {\"xaxis\": {\"backgroundcolor\": \"#E5ECF6\", \"gridcolor\": \"white\", \"gridwidth\": 2, \"linecolor\": \"white\", \"showbackground\": true, \"ticks\": \"\", \"zerolinecolor\": \"white\"}, \"yaxis\": {\"backgroundcolor\": \"#E5ECF6\", \"gridcolor\": \"white\", \"gridwidth\": 2, \"linecolor\": \"white\", \"showbackground\": true, \"ticks\": \"\", \"zerolinecolor\": \"white\"}, \"zaxis\": {\"backgroundcolor\": \"#E5ECF6\", \"gridcolor\": \"white\", \"gridwidth\": 2, \"linecolor\": \"white\", \"showbackground\": true, \"ticks\": \"\", \"zerolinecolor\": \"white\"}}, \"shapedefaults\": {\"line\": {\"color\": \"#2a3f5f\"}}, \"ternary\": {\"aaxis\": {\"gridcolor\": \"white\", \"linecolor\": \"white\", \"ticks\": \"\"}, \"baxis\": {\"gridcolor\": \"white\", \"linecolor\": \"white\", \"ticks\": \"\"}, \"bgcolor\": \"#E5ECF6\", \"caxis\": {\"gridcolor\": \"white\", \"linecolor\": \"white\", \"ticks\": \"\"}}, \"title\": {\"x\": 0.05}, \"xaxis\": {\"automargin\": true, \"gridcolor\": \"white\", \"linecolor\": \"white\", \"ticks\": \"\", \"title\": {\"standoff\": 15}, \"zerolinecolor\": \"white\", \"zerolinewidth\": 2}, \"yaxis\": {\"automargin\": true, \"gridcolor\": \"white\", \"linecolor\": \"white\", \"ticks\": \"\", \"title\": {\"standoff\": 15}, \"zerolinecolor\": \"white\", \"zerolinewidth\": 2}}}, \"title\": {\"text\": \"Monthly Sales per State\"}, \"width\": 1000, \"xaxis\": {\"title\": {\"text\": \"Year\"}}, \"yaxis\": {\"title\": {\"text\": \"Total Sales\"}}},\n",
              "                        {\"responsive\": true}\n",
              "                    ).then(function(){\n",
              "                            \n",
              "var gd = document.getElementById('b1f625d7-1c41-4dfa-876d-6133053dd85a');\n",
              "var x = new MutationObserver(function (mutations, observer) {{\n",
              "        var display = window.getComputedStyle(gd).display;\n",
              "        if (!display || display === 'none') {{\n",
              "            console.log([gd, 'removed!']);\n",
              "            Plotly.purge(gd);\n",
              "            observer.disconnect();\n",
              "        }}\n",
              "}});\n",
              "\n",
              "// Listen for the removal of the full notebook cells\n",
              "var notebookContainer = gd.closest('#notebook-container');\n",
              "if (notebookContainer) {{\n",
              "    x.observe(notebookContainer, {childList: true});\n",
              "}}\n",
              "\n",
              "// Listen for the clearing of the current output cell\n",
              "var outputEl = gd.closest('.output');\n",
              "if (outputEl) {{\n",
              "    x.observe(outputEl, {childList: true});\n",
              "}}\n",
              "\n",
              "                        })\n",
              "                };\n",
              "                \n",
              "            </script>\n",
              "        </div>\n",
              "</body>\n",
              "</html>"
            ]
          },
          "metadata": {
            "tags": []
          }
        }
      ]
    },
    {
      "cell_type": "markdown",
      "metadata": {
        "id": "yun51RC0I_-j"
      },
      "source": [
        "**Observation:**\r\n",
        "* The sales on Wisconsin and Texas are almost overlapping each other from 2013.\r\n",
        "* Sales on California tops the chart, this could be because of the increased population on comparison to the others.\r\n",
        "* Although the population of Wisconsin is lot less than Texas and Texas has slighlty more GDP than Wisconsin, the difference between these two states is marginal."
      ]
    },
    {
      "cell_type": "code",
      "metadata": {
        "colab": {
          "base_uri": "https://localhost:8080/",
          "height": 542
        },
        "id": "mXpymlLo8wg4",
        "outputId": "42a69eee-8f82-4a68-b036-5e26d6f57068"
      },
      "source": [
        "temp = sales.groupby('store_id').sum().T\r\n",
        "date = [\"\".join(str(i).split('-')[:2]) for i in date]\r\n",
        "temp.columns = temp.columns.astype(str)\r\n",
        "temp['Date'] = date\r\n",
        "temp = temp.groupby(\"Date\").sum()\r\n",
        "\r\n",
        "fig = go.Figure()\r\n",
        "\r\n",
        "for i in temp.columns[:4]:\r\n",
        "    fig.add_trace(go.Scatter(x = x_dates, y = temp[i], mode='lines', name=str(i).title()))\r\n",
        "\r\n",
        "fig.update_layout(title='Yearly Sales on California', xaxis_title='Year',yaxis_title='Total Sales', width=750, title_x=0.5)\r\n",
        "fig.show()"
      ],
      "execution_count": null,
      "outputs": [
        {
          "output_type": "display_data",
          "data": {
            "text/html": [
              "<html>\n",
              "<head><meta charset=\"utf-8\" /></head>\n",
              "<body>\n",
              "    <div>\n",
              "            <script src=\"https://cdnjs.cloudflare.com/ajax/libs/mathjax/2.7.5/MathJax.js?config=TeX-AMS-MML_SVG\"></script><script type=\"text/javascript\">if (window.MathJax) {MathJax.Hub.Config({SVG: {font: \"STIX-Web\"}});}</script>\n",
              "                <script type=\"text/javascript\">window.PlotlyConfig = {MathJaxConfig: 'local'};</script>\n",
              "        <script src=\"https://cdn.plot.ly/plotly-latest.min.js\"></script>    \n",
              "            <div id=\"18728995-fd9d-47f8-8b66-680664a0a0df\" class=\"plotly-graph-div\" style=\"height:525px; width:1000px;\"></div>\n",
              "            <script type=\"text/javascript\">\n",
              "                \n",
              "                    window.PLOTLYENV=window.PLOTLYENV || {};\n",
              "                    \n",
              "                if (document.getElementById(\"18728995-fd9d-47f8-8b66-680664a0a0df\")) {\n",
              "                    Plotly.newPlot(\n",
              "                        '18728995-fd9d-47f8-8b66-680664a0a0df',\n",
              "                        [{\"mode\": \"lines\", \"name\": \"Ca_1\", \"type\": \"scatter\", \"x\": [\"2011-02-01T00:00:00\", \"2011-03-01T00:00:00\", \"2011-04-01T00:00:00\", \"2011-05-01T00:00:00\", \"2011-06-01T00:00:00\", \"2011-07-01T00:00:00\", \"2011-08-01T00:00:00\", \"2011-09-01T00:00:00\", \"2011-10-01T00:00:00\", \"2011-11-01T00:00:00\", \"2011-12-01T00:00:00\", \"2012-01-01T00:00:00\", \"2012-02-01T00:00:00\", \"2012-03-01T00:00:00\", \"2012-04-01T00:00:00\", \"2012-05-01T00:00:00\", \"2012-06-01T00:00:00\", \"2012-07-01T00:00:00\", \"2012-08-01T00:00:00\", \"2012-09-01T00:00:00\", \"2012-10-01T00:00:00\", \"2012-11-01T00:00:00\", \"2012-12-01T00:00:00\", \"2013-01-01T00:00:00\", \"2013-02-01T00:00:00\", \"2013-03-01T00:00:00\", \"2013-04-01T00:00:00\", \"2013-05-01T00:00:00\", \"2013-06-01T00:00:00\", \"2013-07-01T00:00:00\", \"2013-08-01T00:00:00\", \"2013-09-01T00:00:00\", \"2013-10-01T00:00:00\", \"2013-11-01T00:00:00\", \"2013-12-01T00:00:00\", \"2014-01-01T00:00:00\", \"2014-02-01T00:00:00\", \"2014-03-01T00:00:00\", \"2014-04-01T00:00:00\", \"2014-05-01T00:00:00\", \"2014-06-01T00:00:00\", \"2014-07-01T00:00:00\", \"2014-08-01T00:00:00\", \"2014-09-01T00:00:00\", \"2014-10-01T00:00:00\", \"2014-11-01T00:00:00\", \"2014-12-01T00:00:00\", \"2015-01-01T00:00:00\", \"2015-02-01T00:00:00\", \"2015-03-01T00:00:00\", \"2015-04-01T00:00:00\", \"2015-05-01T00:00:00\", \"2015-06-01T00:00:00\", \"2015-07-01T00:00:00\", \"2015-08-01T00:00:00\", \"2015-09-01T00:00:00\", \"2015-10-01T00:00:00\", \"2015-11-01T00:00:00\", \"2015-12-01T00:00:00\", \"2016-01-01T00:00:00\", \"2016-02-01T00:00:00\", \"2016-03-01T00:00:00\", \"2016-04-01T00:00:00\"], \"y\": [11308.0, 89434.0, 93468.0, 91553.0, 87988.0, 90376.0, 96761.0, 95113.0, 92339.0, 105153.0, 99155.0, 108145.0, 106579.0, 105943.0, 119562.0, 119329.0, 122693.0, 128492.0, 126739.0, 130572.0, 121643.0, 111356.0, 103525.0, 109999.0, 109525.0, 108956.0, 122496.0, 118365.0, 128245.0, 136580.0, 141288.0, 147275.0, 139731.0, 132669.0, 123935.0, 129475.0, 123859.0, 113642.0, 128947.0, 132059.0, 131457.0, 133238.0, 140310.0, 145962.0, 131924.0, 137712.0, 132830.0, 125991.0, 129815.0, 118525.0, 131789.0, 134218.0, 142632.0, 136571.0, 142973.0, 146168.0, 134939.0, 141987.0, 123590.0, 123656.0, 131598.0, 126655.0, 136557.0, 138826.0, 108053.0]}, {\"mode\": \"lines\", \"name\": \"Ca_2\", \"type\": \"scatter\", \"x\": [\"2011-02-01T00:00:00\", \"2011-03-01T00:00:00\", \"2011-04-01T00:00:00\", \"2011-05-01T00:00:00\", \"2011-06-01T00:00:00\", \"2011-07-01T00:00:00\", \"2011-08-01T00:00:00\", \"2011-09-01T00:00:00\", \"2011-10-01T00:00:00\", \"2011-11-01T00:00:00\", \"2011-12-01T00:00:00\", \"2012-01-01T00:00:00\", \"2012-02-01T00:00:00\", \"2012-03-01T00:00:00\", \"2012-04-01T00:00:00\", \"2012-05-01T00:00:00\", \"2012-06-01T00:00:00\", \"2012-07-01T00:00:00\", \"2012-08-01T00:00:00\", \"2012-09-01T00:00:00\", \"2012-10-01T00:00:00\", \"2012-11-01T00:00:00\", \"2012-12-01T00:00:00\", \"2013-01-01T00:00:00\", \"2013-02-01T00:00:00\", \"2013-03-01T00:00:00\", \"2013-04-01T00:00:00\", \"2013-05-01T00:00:00\", \"2013-06-01T00:00:00\", \"2013-07-01T00:00:00\", \"2013-08-01T00:00:00\", \"2013-09-01T00:00:00\", \"2013-10-01T00:00:00\", \"2013-11-01T00:00:00\", \"2013-12-01T00:00:00\", \"2014-01-01T00:00:00\", \"2014-02-01T00:00:00\", \"2014-03-01T00:00:00\", \"2014-04-01T00:00:00\", \"2014-05-01T00:00:00\", \"2014-06-01T00:00:00\", \"2014-07-01T00:00:00\", \"2014-08-01T00:00:00\", \"2014-09-01T00:00:00\", \"2014-10-01T00:00:00\", \"2014-11-01T00:00:00\", \"2014-12-01T00:00:00\", \"2015-01-01T00:00:00\", \"2015-02-01T00:00:00\", \"2015-03-01T00:00:00\", \"2015-04-01T00:00:00\", \"2015-05-01T00:00:00\", \"2015-06-01T00:00:00\", \"2015-07-01T00:00:00\", \"2015-08-01T00:00:00\", \"2015-09-01T00:00:00\", \"2015-10-01T00:00:00\", \"2015-11-01T00:00:00\", \"2015-12-01T00:00:00\", \"2016-01-01T00:00:00\", \"2016-02-01T00:00:00\", \"2016-03-01T00:00:00\", \"2016-04-01T00:00:00\"], \"y\": [8661.0, 67686.0, 73964.0, 72803.0, 68305.0, 69380.0, 79056.0, 75129.0, 74779.0, 81947.0, 74165.0, 80208.0, 77786.0, 76957.0, 87001.0, 84605.0, 86714.0, 93534.0, 93251.0, 95268.0, 92112.0, 85724.0, 76170.0, 83362.0, 82143.0, 80620.0, 94964.0, 89100.0, 94256.0, 100712.0, 100760.0, 104709.0, 101466.0, 97920.0, 87266.0, 87616.0, 88280.0, 84774.0, 96707.0, 88580.0, 87313.0, 84492.0, 86781.0, 86351.0, 80729.0, 75793.0, 74463.0, 75950.0, 76788.0, 65579.0, 75437.0, 71474.0, 79296.0, 101998.0, 117409.0, 128546.0, 122909.0, 131550.0, 117037.0, 120398.0, 128709.0, 121210.0, 126302.0, 135984.0, 107457.0]}, {\"mode\": \"lines\", \"name\": \"Ca_3\", \"type\": \"scatter\", \"x\": [\"2011-02-01T00:00:00\", \"2011-03-01T00:00:00\", \"2011-04-01T00:00:00\", \"2011-05-01T00:00:00\", \"2011-06-01T00:00:00\", \"2011-07-01T00:00:00\", \"2011-08-01T00:00:00\", \"2011-09-01T00:00:00\", \"2011-10-01T00:00:00\", \"2011-11-01T00:00:00\", \"2011-12-01T00:00:00\", \"2012-01-01T00:00:00\", \"2012-02-01T00:00:00\", \"2012-03-01T00:00:00\", \"2012-04-01T00:00:00\", \"2012-05-01T00:00:00\", \"2012-06-01T00:00:00\", \"2012-07-01T00:00:00\", \"2012-08-01T00:00:00\", \"2012-09-01T00:00:00\", \"2012-10-01T00:00:00\", \"2012-11-01T00:00:00\", \"2012-12-01T00:00:00\", \"2013-01-01T00:00:00\", \"2013-02-01T00:00:00\", \"2013-03-01T00:00:00\", \"2013-04-01T00:00:00\", \"2013-05-01T00:00:00\", \"2013-06-01T00:00:00\", \"2013-07-01T00:00:00\", \"2013-08-01T00:00:00\", \"2013-09-01T00:00:00\", \"2013-10-01T00:00:00\", \"2013-11-01T00:00:00\", \"2013-12-01T00:00:00\", \"2014-01-01T00:00:00\", \"2014-02-01T00:00:00\", \"2014-03-01T00:00:00\", \"2014-04-01T00:00:00\", \"2014-05-01T00:00:00\", \"2014-06-01T00:00:00\", \"2014-07-01T00:00:00\", \"2014-08-01T00:00:00\", \"2014-09-01T00:00:00\", \"2014-10-01T00:00:00\", \"2014-11-01T00:00:00\", \"2014-12-01T00:00:00\", \"2015-01-01T00:00:00\", \"2015-02-01T00:00:00\", \"2015-03-01T00:00:00\", \"2015-04-01T00:00:00\", \"2015-05-01T00:00:00\", \"2015-06-01T00:00:00\", \"2015-07-01T00:00:00\", \"2015-08-01T00:00:00\", \"2015-09-01T00:00:00\", \"2015-10-01T00:00:00\", \"2015-11-01T00:00:00\", \"2015-12-01T00:00:00\", \"2016-01-01T00:00:00\", \"2016-02-01T00:00:00\", \"2016-03-01T00:00:00\", \"2016-04-01T00:00:00\"], \"y\": [13351.0, 119792.0, 127344.0, 122428.0, 120711.0, 129867.0, 139377.0, 144376.0, 142568.0, 160365.0, 145024.0, 155624.0, 160276.0, 166655.0, 182210.0, 166752.0, 171516.0, 187857.0, 189614.0, 195856.0, 184289.0, 175625.0, 155888.0, 163168.0, 167290.0, 156628.0, 178386.0, 180615.0, 186407.0, 200392.0, 205820.0, 211210.0, 206422.0, 198465.0, 180387.0, 177611.0, 184846.0, 169616.0, 192506.0, 197001.0, 197759.0, 201851.0, 210574.0, 214357.0, 202057.0, 194219.0, 184386.0, 165384.0, 182024.0, 172693.0, 195989.0, 185664.0, 192550.0, 196845.0, 203757.0, 212729.0, 197867.0, 198226.0, 170986.0, 167423.0, 189217.0, 185822.0, 196350.0, 189806.0, 140870.0]}, {\"mode\": \"lines\", \"name\": \"Ca_4\", \"type\": \"scatter\", \"x\": [\"2011-02-01T00:00:00\", \"2011-03-01T00:00:00\", \"2011-04-01T00:00:00\", \"2011-05-01T00:00:00\", \"2011-06-01T00:00:00\", \"2011-07-01T00:00:00\", \"2011-08-01T00:00:00\", \"2011-09-01T00:00:00\", \"2011-10-01T00:00:00\", \"2011-11-01T00:00:00\", \"2011-12-01T00:00:00\", \"2012-01-01T00:00:00\", \"2012-02-01T00:00:00\", \"2012-03-01T00:00:00\", \"2012-04-01T00:00:00\", \"2012-05-01T00:00:00\", \"2012-06-01T00:00:00\", \"2012-07-01T00:00:00\", \"2012-08-01T00:00:00\", \"2012-09-01T00:00:00\", \"2012-10-01T00:00:00\", \"2012-11-01T00:00:00\", \"2012-12-01T00:00:00\", \"2013-01-01T00:00:00\", \"2013-02-01T00:00:00\", \"2013-03-01T00:00:00\", \"2013-04-01T00:00:00\", \"2013-05-01T00:00:00\", \"2013-06-01T00:00:00\", \"2013-07-01T00:00:00\", \"2013-08-01T00:00:00\", \"2013-09-01T00:00:00\", \"2013-10-01T00:00:00\", \"2013-11-01T00:00:00\", \"2013-12-01T00:00:00\", \"2014-01-01T00:00:00\", \"2014-02-01T00:00:00\", \"2014-03-01T00:00:00\", \"2014-04-01T00:00:00\", \"2014-05-01T00:00:00\", \"2014-06-01T00:00:00\", \"2014-07-01T00:00:00\", \"2014-08-01T00:00:00\", \"2014-09-01T00:00:00\", \"2014-10-01T00:00:00\", \"2014-11-01T00:00:00\", \"2014-12-01T00:00:00\", \"2015-01-01T00:00:00\", \"2015-02-01T00:00:00\", \"2015-03-01T00:00:00\", \"2015-04-01T00:00:00\", \"2015-05-01T00:00:00\", \"2015-06-01T00:00:00\", \"2015-07-01T00:00:00\", \"2015-08-01T00:00:00\", \"2015-09-01T00:00:00\", \"2015-10-01T00:00:00\", \"2015-11-01T00:00:00\", \"2015-12-01T00:00:00\", \"2016-01-01T00:00:00\", \"2016-02-01T00:00:00\", \"2016-03-01T00:00:00\", \"2016-04-01T00:00:00\"], \"y\": [4788.0, 41189.0, 44902.0, 44220.0, 44562.0, 43325.0, 46989.0, 46818.0, 51608.0, 58868.0, 52992.0, 55838.0, 58738.0, 55935.0, 61246.0, 60311.0, 61675.0, 63963.0, 63118.0, 65210.0, 64044.0, 60369.0, 55944.0, 59312.0, 59762.0, 58691.0, 66969.0, 65472.0, 70362.0, 73282.0, 75030.0, 75506.0, 74758.0, 72735.0, 66161.0, 65368.0, 69147.0, 63298.0, 71510.0, 70553.0, 71038.0, 73900.0, 73526.0, 74225.0, 71481.0, 74435.0, 67750.0, 65313.0, 69658.0, 64926.0, 72824.0, 71315.0, 75237.0, 72508.0, 76812.0, 78229.0, 75816.0, 79262.0, 70434.0, 68080.0, 75868.0, 72017.0, 79721.0, 80344.0, 63247.0]}],\n",
              "                        {\"template\": {\"data\": {\"bar\": [{\"error_x\": {\"color\": \"#2a3f5f\"}, \"error_y\": {\"color\": \"#2a3f5f\"}, \"marker\": {\"line\": {\"color\": \"#E5ECF6\", \"width\": 0.5}}, \"type\": \"bar\"}], \"barpolar\": [{\"marker\": {\"line\": {\"color\": \"#E5ECF6\", \"width\": 0.5}}, \"type\": \"barpolar\"}], \"carpet\": [{\"aaxis\": {\"endlinecolor\": \"#2a3f5f\", \"gridcolor\": \"white\", \"linecolor\": \"white\", \"minorgridcolor\": \"white\", \"startlinecolor\": \"#2a3f5f\"}, \"baxis\": {\"endlinecolor\": \"#2a3f5f\", \"gridcolor\": \"white\", \"linecolor\": \"white\", \"minorgridcolor\": \"white\", \"startlinecolor\": \"#2a3f5f\"}, \"type\": \"carpet\"}], \"choropleth\": [{\"colorbar\": {\"outlinewidth\": 0, \"ticks\": \"\"}, \"type\": \"choropleth\"}], \"contour\": [{\"colorbar\": {\"outlinewidth\": 0, \"ticks\": \"\"}, \"colorscale\": [[0.0, \"#0d0887\"], [0.1111111111111111, \"#46039f\"], [0.2222222222222222, \"#7201a8\"], [0.3333333333333333, \"#9c179e\"], [0.4444444444444444, \"#bd3786\"], [0.5555555555555556, \"#d8576b\"], [0.6666666666666666, \"#ed7953\"], [0.7777777777777778, \"#fb9f3a\"], [0.8888888888888888, \"#fdca26\"], [1.0, \"#f0f921\"]], \"type\": \"contour\"}], \"contourcarpet\": [{\"colorbar\": {\"outlinewidth\": 0, \"ticks\": \"\"}, \"type\": \"contourcarpet\"}], \"heatmap\": [{\"colorbar\": {\"outlinewidth\": 0, \"ticks\": \"\"}, \"colorscale\": [[0.0, \"#0d0887\"], [0.1111111111111111, \"#46039f\"], [0.2222222222222222, \"#7201a8\"], [0.3333333333333333, \"#9c179e\"], [0.4444444444444444, \"#bd3786\"], [0.5555555555555556, \"#d8576b\"], [0.6666666666666666, \"#ed7953\"], [0.7777777777777778, \"#fb9f3a\"], [0.8888888888888888, \"#fdca26\"], [1.0, \"#f0f921\"]], \"type\": \"heatmap\"}], \"heatmapgl\": [{\"colorbar\": {\"outlinewidth\": 0, \"ticks\": \"\"}, \"colorscale\": [[0.0, \"#0d0887\"], [0.1111111111111111, \"#46039f\"], [0.2222222222222222, \"#7201a8\"], [0.3333333333333333, \"#9c179e\"], [0.4444444444444444, \"#bd3786\"], [0.5555555555555556, \"#d8576b\"], [0.6666666666666666, \"#ed7953\"], [0.7777777777777778, \"#fb9f3a\"], [0.8888888888888888, \"#fdca26\"], [1.0, \"#f0f921\"]], \"type\": \"heatmapgl\"}], \"histogram\": [{\"marker\": {\"colorbar\": {\"outlinewidth\": 0, \"ticks\": \"\"}}, \"type\": \"histogram\"}], \"histogram2d\": [{\"colorbar\": {\"outlinewidth\": 0, \"ticks\": \"\"}, \"colorscale\": [[0.0, \"#0d0887\"], [0.1111111111111111, \"#46039f\"], [0.2222222222222222, \"#7201a8\"], [0.3333333333333333, \"#9c179e\"], [0.4444444444444444, \"#bd3786\"], [0.5555555555555556, \"#d8576b\"], [0.6666666666666666, \"#ed7953\"], [0.7777777777777778, \"#fb9f3a\"], [0.8888888888888888, \"#fdca26\"], [1.0, \"#f0f921\"]], \"type\": \"histogram2d\"}], \"histogram2dcontour\": [{\"colorbar\": {\"outlinewidth\": 0, \"ticks\": \"\"}, \"colorscale\": [[0.0, \"#0d0887\"], [0.1111111111111111, \"#46039f\"], [0.2222222222222222, \"#7201a8\"], [0.3333333333333333, \"#9c179e\"], [0.4444444444444444, \"#bd3786\"], [0.5555555555555556, \"#d8576b\"], [0.6666666666666666, \"#ed7953\"], [0.7777777777777778, \"#fb9f3a\"], [0.8888888888888888, \"#fdca26\"], [1.0, \"#f0f921\"]], \"type\": \"histogram2dcontour\"}], \"mesh3d\": [{\"colorbar\": {\"outlinewidth\": 0, \"ticks\": \"\"}, \"type\": \"mesh3d\"}], \"parcoords\": [{\"line\": {\"colorbar\": {\"outlinewidth\": 0, \"ticks\": \"\"}}, \"type\": \"parcoords\"}], \"pie\": [{\"automargin\": true, \"type\": \"pie\"}], \"scatter\": [{\"marker\": {\"colorbar\": {\"outlinewidth\": 0, \"ticks\": \"\"}}, \"type\": \"scatter\"}], \"scatter3d\": [{\"line\": {\"colorbar\": {\"outlinewidth\": 0, \"ticks\": \"\"}}, \"marker\": {\"colorbar\": {\"outlinewidth\": 0, \"ticks\": \"\"}}, \"type\": \"scatter3d\"}], \"scattercarpet\": [{\"marker\": {\"colorbar\": {\"outlinewidth\": 0, \"ticks\": \"\"}}, \"type\": \"scattercarpet\"}], \"scattergeo\": [{\"marker\": {\"colorbar\": {\"outlinewidth\": 0, \"ticks\": \"\"}}, \"type\": \"scattergeo\"}], \"scattergl\": [{\"marker\": {\"colorbar\": {\"outlinewidth\": 0, \"ticks\": \"\"}}, \"type\": \"scattergl\"}], \"scattermapbox\": [{\"marker\": {\"colorbar\": {\"outlinewidth\": 0, \"ticks\": \"\"}}, \"type\": \"scattermapbox\"}], \"scatterpolar\": [{\"marker\": {\"colorbar\": {\"outlinewidth\": 0, \"ticks\": \"\"}}, \"type\": \"scatterpolar\"}], \"scatterpolargl\": [{\"marker\": {\"colorbar\": {\"outlinewidth\": 0, \"ticks\": \"\"}}, \"type\": \"scatterpolargl\"}], \"scatterternary\": [{\"marker\": {\"colorbar\": {\"outlinewidth\": 0, \"ticks\": \"\"}}, \"type\": \"scatterternary\"}], \"surface\": [{\"colorbar\": {\"outlinewidth\": 0, \"ticks\": \"\"}, \"colorscale\": [[0.0, \"#0d0887\"], [0.1111111111111111, \"#46039f\"], [0.2222222222222222, \"#7201a8\"], [0.3333333333333333, \"#9c179e\"], [0.4444444444444444, \"#bd3786\"], [0.5555555555555556, \"#d8576b\"], [0.6666666666666666, \"#ed7953\"], [0.7777777777777778, \"#fb9f3a\"], [0.8888888888888888, \"#fdca26\"], [1.0, \"#f0f921\"]], \"type\": \"surface\"}], \"table\": [{\"cells\": {\"fill\": {\"color\": \"#EBF0F8\"}, \"line\": {\"color\": \"white\"}}, \"header\": {\"fill\": {\"color\": \"#C8D4E3\"}, \"line\": {\"color\": \"white\"}}, \"type\": \"table\"}]}, \"layout\": {\"annotationdefaults\": {\"arrowcolor\": \"#2a3f5f\", \"arrowhead\": 0, \"arrowwidth\": 1}, \"coloraxis\": {\"colorbar\": {\"outlinewidth\": 0, \"ticks\": \"\"}}, \"colorscale\": {\"diverging\": [[0, \"#8e0152\"], [0.1, \"#c51b7d\"], [0.2, \"#de77ae\"], [0.3, \"#f1b6da\"], [0.4, \"#fde0ef\"], [0.5, \"#f7f7f7\"], [0.6, \"#e6f5d0\"], [0.7, \"#b8e186\"], [0.8, \"#7fbc41\"], [0.9, \"#4d9221\"], [1, \"#276419\"]], \"sequential\": [[0.0, \"#0d0887\"], [0.1111111111111111, \"#46039f\"], [0.2222222222222222, \"#7201a8\"], [0.3333333333333333, \"#9c179e\"], [0.4444444444444444, \"#bd3786\"], [0.5555555555555556, \"#d8576b\"], [0.6666666666666666, \"#ed7953\"], [0.7777777777777778, \"#fb9f3a\"], [0.8888888888888888, \"#fdca26\"], [1.0, \"#f0f921\"]], \"sequentialminus\": [[0.0, \"#0d0887\"], [0.1111111111111111, \"#46039f\"], [0.2222222222222222, \"#7201a8\"], [0.3333333333333333, \"#9c179e\"], [0.4444444444444444, \"#bd3786\"], [0.5555555555555556, \"#d8576b\"], [0.6666666666666666, \"#ed7953\"], [0.7777777777777778, \"#fb9f3a\"], [0.8888888888888888, \"#fdca26\"], [1.0, \"#f0f921\"]]}, \"colorway\": [\"#636efa\", \"#EF553B\", \"#00cc96\", \"#ab63fa\", \"#FFA15A\", \"#19d3f3\", \"#FF6692\", \"#B6E880\", \"#FF97FF\", \"#FECB52\"], \"font\": {\"color\": \"#2a3f5f\"}, \"geo\": {\"bgcolor\": \"white\", \"lakecolor\": \"white\", \"landcolor\": \"#E5ECF6\", \"showlakes\": true, \"showland\": true, \"subunitcolor\": \"white\"}, \"hoverlabel\": {\"align\": \"left\"}, \"hovermode\": \"closest\", \"mapbox\": {\"style\": \"light\"}, \"paper_bgcolor\": \"white\", \"plot_bgcolor\": \"#E5ECF6\", \"polar\": {\"angularaxis\": {\"gridcolor\": \"white\", \"linecolor\": \"white\", \"ticks\": \"\"}, \"bgcolor\": \"#E5ECF6\", \"radialaxis\": {\"gridcolor\": \"white\", \"linecolor\": \"white\", \"ticks\": \"\"}}, \"scene\": {\"xaxis\": {\"backgroundcolor\": \"#E5ECF6\", \"gridcolor\": \"white\", \"gridwidth\": 2, \"linecolor\": \"white\", \"showbackground\": true, \"ticks\": \"\", \"zerolinecolor\": \"white\"}, \"yaxis\": {\"backgroundcolor\": \"#E5ECF6\", \"gridcolor\": \"white\", \"gridwidth\": 2, \"linecolor\": \"white\", \"showbackground\": true, \"ticks\": \"\", \"zerolinecolor\": \"white\"}, \"zaxis\": {\"backgroundcolor\": \"#E5ECF6\", \"gridcolor\": \"white\", \"gridwidth\": 2, \"linecolor\": \"white\", \"showbackground\": true, \"ticks\": \"\", \"zerolinecolor\": \"white\"}}, \"shapedefaults\": {\"line\": {\"color\": \"#2a3f5f\"}}, \"ternary\": {\"aaxis\": {\"gridcolor\": \"white\", \"linecolor\": \"white\", \"ticks\": \"\"}, \"baxis\": {\"gridcolor\": \"white\", \"linecolor\": \"white\", \"ticks\": \"\"}, \"bgcolor\": \"#E5ECF6\", \"caxis\": {\"gridcolor\": \"white\", \"linecolor\": \"white\", \"ticks\": \"\"}}, \"title\": {\"x\": 0.05}, \"xaxis\": {\"automargin\": true, \"gridcolor\": \"white\", \"linecolor\": \"white\", \"ticks\": \"\", \"title\": {\"standoff\": 15}, \"zerolinecolor\": \"white\", \"zerolinewidth\": 2}, \"yaxis\": {\"automargin\": true, \"gridcolor\": \"white\", \"linecolor\": \"white\", \"ticks\": \"\", \"title\": {\"standoff\": 15}, \"zerolinecolor\": \"white\", \"zerolinewidth\": 2}}}, \"title\": {\"text\": \"Yearly Sales on California\"}, \"width\": 1000, \"xaxis\": {\"title\": {\"text\": \"Year\"}}, \"yaxis\": {\"title\": {\"text\": \"Total Sales\"}}},\n",
              "                        {\"responsive\": true}\n",
              "                    ).then(function(){\n",
              "                            \n",
              "var gd = document.getElementById('18728995-fd9d-47f8-8b66-680664a0a0df');\n",
              "var x = new MutationObserver(function (mutations, observer) {{\n",
              "        var display = window.getComputedStyle(gd).display;\n",
              "        if (!display || display === 'none') {{\n",
              "            console.log([gd, 'removed!']);\n",
              "            Plotly.purge(gd);\n",
              "            observer.disconnect();\n",
              "        }}\n",
              "}});\n",
              "\n",
              "// Listen for the removal of the full notebook cells\n",
              "var notebookContainer = gd.closest('#notebook-container');\n",
              "if (notebookContainer) {{\n",
              "    x.observe(notebookContainer, {childList: true});\n",
              "}}\n",
              "\n",
              "// Listen for the clearing of the current output cell\n",
              "var outputEl = gd.closest('.output');\n",
              "if (outputEl) {{\n",
              "    x.observe(outputEl, {childList: true});\n",
              "}}\n",
              "\n",
              "                        })\n",
              "                };\n",
              "                \n",
              "            </script>\n",
              "        </div>\n",
              "</body>\n",
              "</html>"
            ]
          },
          "metadata": {
            "tags": []
          }
        }
      ]
    },
    {
      "cell_type": "markdown",
      "metadata": {
        "id": "Cza1XA7m-9r9"
      },
      "source": [
        "**Observation:**\r\n",
        "* Although California was leading on market sales, we can see the sales within California on different stores are very diverse.\r\n",
        "* Store 2 in California has caught up with store 1 from June 2015. There has a peak on sales for 4 months since then and has kept the sale rate constant with respect to seasonal changes.\r\n",
        "* Sales in store 4 has been increasing gradually every year."
      ]
    },
    {
      "cell_type": "code",
      "metadata": {
        "colab": {
          "base_uri": "https://localhost:8080/",
          "height": 542
        },
        "id": "SrJwkB5sC_ZT",
        "outputId": "759bb2eb-e25d-4a2d-b4e5-cac1c8e4fd5f"
      },
      "source": [
        "fig = go.Figure()\r\n",
        "\r\n",
        "for i in temp.columns[4:7]:\r\n",
        "    fig.add_trace(go.Scatter(x = x_dates, y = temp[i], mode='lines', name=str(i).title()))\r\n",
        "\r\n",
        "fig.update_layout(title='Yearly Sales on Texas', xaxis_title='Year',yaxis_title='Total Sales', width=750, title_x=0.5)\r\n",
        "fig.show()"
      ],
      "execution_count": null,
      "outputs": [
        {
          "output_type": "display_data",
          "data": {
            "text/html": [
              "<html>\n",
              "<head><meta charset=\"utf-8\" /></head>\n",
              "<body>\n",
              "    <div>\n",
              "            <script src=\"https://cdnjs.cloudflare.com/ajax/libs/mathjax/2.7.5/MathJax.js?config=TeX-AMS-MML_SVG\"></script><script type=\"text/javascript\">if (window.MathJax) {MathJax.Hub.Config({SVG: {font: \"STIX-Web\"}});}</script>\n",
              "                <script type=\"text/javascript\">window.PlotlyConfig = {MathJaxConfig: 'local'};</script>\n",
              "        <script src=\"https://cdn.plot.ly/plotly-latest.min.js\"></script>    \n",
              "            <div id=\"403beb64-9c48-4114-97da-a3648f73ce11\" class=\"plotly-graph-div\" style=\"height:525px; width:750px;\"></div>\n",
              "            <script type=\"text/javascript\">\n",
              "                \n",
              "                    window.PLOTLYENV=window.PLOTLYENV || {};\n",
              "                    \n",
              "                if (document.getElementById(\"403beb64-9c48-4114-97da-a3648f73ce11\")) {\n",
              "                    Plotly.newPlot(\n",
              "                        '403beb64-9c48-4114-97da-a3648f73ce11',\n",
              "                        [{\"mode\": \"lines\", \"name\": \"Tx_1\", \"type\": \"scatter\", \"x\": [\"2011-02-01T00:00:00\", \"2011-03-01T00:00:00\", \"2011-04-01T00:00:00\", \"2011-05-01T00:00:00\", \"2011-06-01T00:00:00\", \"2011-07-01T00:00:00\", \"2011-08-01T00:00:00\", \"2011-09-01T00:00:00\", \"2011-10-01T00:00:00\", \"2011-11-01T00:00:00\", \"2011-12-01T00:00:00\", \"2012-01-01T00:00:00\", \"2012-02-01T00:00:00\", \"2012-03-01T00:00:00\", \"2012-04-01T00:00:00\", \"2012-05-01T00:00:00\", \"2012-06-01T00:00:00\", \"2012-07-01T00:00:00\", \"2012-08-01T00:00:00\", \"2012-09-01T00:00:00\", \"2012-10-01T00:00:00\", \"2012-11-01T00:00:00\", \"2012-12-01T00:00:00\", \"2013-01-01T00:00:00\", \"2013-02-01T00:00:00\", \"2013-03-01T00:00:00\", \"2013-04-01T00:00:00\", \"2013-05-01T00:00:00\", \"2013-06-01T00:00:00\", \"2013-07-01T00:00:00\", \"2013-08-01T00:00:00\", \"2013-09-01T00:00:00\", \"2013-10-01T00:00:00\", \"2013-11-01T00:00:00\", \"2013-12-01T00:00:00\", \"2014-01-01T00:00:00\", \"2014-02-01T00:00:00\", \"2014-03-01T00:00:00\", \"2014-04-01T00:00:00\", \"2014-05-01T00:00:00\", \"2014-06-01T00:00:00\", \"2014-07-01T00:00:00\", \"2014-08-01T00:00:00\", \"2014-09-01T00:00:00\", \"2014-10-01T00:00:00\", \"2014-11-01T00:00:00\", \"2014-12-01T00:00:00\", \"2015-01-01T00:00:00\", \"2015-02-01T00:00:00\", \"2015-03-01T00:00:00\", \"2015-04-01T00:00:00\", \"2015-05-01T00:00:00\", \"2015-06-01T00:00:00\", \"2015-07-01T00:00:00\", \"2015-08-01T00:00:00\", \"2015-09-01T00:00:00\", \"2015-10-01T00:00:00\", \"2015-11-01T00:00:00\", \"2015-12-01T00:00:00\", \"2016-01-01T00:00:00\", \"2016-02-01T00:00:00\", \"2016-03-01T00:00:00\", \"2016-04-01T00:00:00\"], \"y\": [7065.0, 62534.0, 66890.0, 66435.0, 67920.0, 69945.0, 75252.0, 79759.0, 75458.0, 79432.0, 71441.0, 77425.0, 77448.0, 77203.0, 86340.0, 90560.0, 93122.0, 94846.0, 91315.0, 95477.0, 95226.0, 88903.0, 83009.0, 90662.0, 83059.0, 87148.0, 95007.0, 88107.0, 92412.0, 98388.0, 95094.0, 101575.0, 98008.0, 93539.0, 85233.0, 88000.0, 86098.0, 84296.0, 95562.0, 96505.0, 93793.0, 94031.0, 97904.0, 100829.0, 89094.0, 90359.0, 88709.0, 88384.0, 93292.0, 89757.0, 97623.0, 93933.0, 99624.0, 99218.0, 106333.0, 103796.0, 93635.0, 96230.0, 88531.0, 89279.0, 93112.0, 93504.0, 100805.0, 101135.0, 78215.0]}, {\"mode\": \"lines\", \"name\": \"Tx_2\", \"type\": \"scatter\", \"x\": [\"2011-02-01T00:00:00\", \"2011-03-01T00:00:00\", \"2011-04-01T00:00:00\", \"2011-05-01T00:00:00\", \"2011-06-01T00:00:00\", \"2011-07-01T00:00:00\", \"2011-08-01T00:00:00\", \"2011-09-01T00:00:00\", \"2011-10-01T00:00:00\", \"2011-11-01T00:00:00\", \"2011-12-01T00:00:00\", \"2012-01-01T00:00:00\", \"2012-02-01T00:00:00\", \"2012-03-01T00:00:00\", \"2012-04-01T00:00:00\", \"2012-05-01T00:00:00\", \"2012-06-01T00:00:00\", \"2012-07-01T00:00:00\", \"2012-08-01T00:00:00\", \"2012-09-01T00:00:00\", \"2012-10-01T00:00:00\", \"2012-11-01T00:00:00\", \"2012-12-01T00:00:00\", \"2013-01-01T00:00:00\", \"2013-02-01T00:00:00\", \"2013-03-01T00:00:00\", \"2013-04-01T00:00:00\", \"2013-05-01T00:00:00\", \"2013-06-01T00:00:00\", \"2013-07-01T00:00:00\", \"2013-08-01T00:00:00\", \"2013-09-01T00:00:00\", \"2013-10-01T00:00:00\", \"2013-11-01T00:00:00\", \"2013-12-01T00:00:00\", \"2014-01-01T00:00:00\", \"2014-02-01T00:00:00\", \"2014-03-01T00:00:00\", \"2014-04-01T00:00:00\", \"2014-05-01T00:00:00\", \"2014-06-01T00:00:00\", \"2014-07-01T00:00:00\", \"2014-08-01T00:00:00\", \"2014-09-01T00:00:00\", \"2014-10-01T00:00:00\", \"2014-11-01T00:00:00\", \"2014-12-01T00:00:00\", \"2015-01-01T00:00:00\", \"2015-02-01T00:00:00\", \"2015-03-01T00:00:00\", \"2015-04-01T00:00:00\", \"2015-05-01T00:00:00\", \"2015-06-01T00:00:00\", \"2015-07-01T00:00:00\", \"2015-08-01T00:00:00\", \"2015-09-01T00:00:00\", \"2015-10-01T00:00:00\", \"2015-11-01T00:00:00\", \"2015-12-01T00:00:00\", \"2016-01-01T00:00:00\", \"2016-02-01T00:00:00\", \"2016-03-01T00:00:00\", \"2016-04-01T00:00:00\"], \"y\": [10520.0, 84900.0, 89902.0, 87683.0, 86128.0, 89914.0, 97076.0, 102564.0, 98961.0, 109783.0, 98023.0, 105169.0, 107283.0, 109956.0, 122843.0, 120606.0, 125254.0, 133109.0, 127373.0, 132341.0, 125690.0, 122138.0, 111315.0, 122314.0, 115495.0, 122130.0, 134715.0, 122099.0, 127418.0, 137755.0, 141604.0, 143238.0, 134813.0, 126207.0, 115379.0, 115455.0, 108905.0, 104107.0, 114231.0, 112459.0, 110674.0, 116126.0, 120162.0, 120484.0, 109630.0, 110196.0, 103096.0, 101710.0, 107257.0, 106243.0, 113689.0, 112170.0, 114947.0, 112594.0, 121879.0, 121388.0, 113645.0, 119608.0, 109508.0, 111871.0, 116650.0, 121410.0, 125617.0, 119588.0, 92645.0]}, {\"mode\": \"lines\", \"name\": \"Tx_3\", \"type\": \"scatter\", \"x\": [\"2011-02-01T00:00:00\", \"2011-03-01T00:00:00\", \"2011-04-01T00:00:00\", \"2011-05-01T00:00:00\", \"2011-06-01T00:00:00\", \"2011-07-01T00:00:00\", \"2011-08-01T00:00:00\", \"2011-09-01T00:00:00\", \"2011-10-01T00:00:00\", \"2011-11-01T00:00:00\", \"2011-12-01T00:00:00\", \"2012-01-01T00:00:00\", \"2012-02-01T00:00:00\", \"2012-03-01T00:00:00\", \"2012-04-01T00:00:00\", \"2012-05-01T00:00:00\", \"2012-06-01T00:00:00\", \"2012-07-01T00:00:00\", \"2012-08-01T00:00:00\", \"2012-09-01T00:00:00\", \"2012-10-01T00:00:00\", \"2012-11-01T00:00:00\", \"2012-12-01T00:00:00\", \"2013-01-01T00:00:00\", \"2013-02-01T00:00:00\", \"2013-03-01T00:00:00\", \"2013-04-01T00:00:00\", \"2013-05-01T00:00:00\", \"2013-06-01T00:00:00\", \"2013-07-01T00:00:00\", \"2013-08-01T00:00:00\", \"2013-09-01T00:00:00\", \"2013-10-01T00:00:00\", \"2013-11-01T00:00:00\", \"2013-12-01T00:00:00\", \"2014-01-01T00:00:00\", \"2014-02-01T00:00:00\", \"2014-03-01T00:00:00\", \"2014-04-01T00:00:00\", \"2014-05-01T00:00:00\", \"2014-06-01T00:00:00\", \"2014-07-01T00:00:00\", \"2014-08-01T00:00:00\", \"2014-09-01T00:00:00\", \"2014-10-01T00:00:00\", \"2014-11-01T00:00:00\", \"2014-12-01T00:00:00\", \"2015-01-01T00:00:00\", \"2015-02-01T00:00:00\", \"2015-03-01T00:00:00\", \"2015-04-01T00:00:00\", \"2015-05-01T00:00:00\", \"2015-06-01T00:00:00\", \"2015-07-01T00:00:00\", \"2015-08-01T00:00:00\", \"2015-09-01T00:00:00\", \"2015-10-01T00:00:00\", \"2015-11-01T00:00:00\", \"2015-12-01T00:00:00\", \"2016-01-01T00:00:00\", \"2016-02-01T00:00:00\", \"2016-03-01T00:00:00\", \"2016-04-01T00:00:00\"], \"y\": [8261.0, 64581.0, 68370.0, 66563.0, 67572.0, 75794.0, 83800.0, 86326.0, 81752.0, 87136.0, 79566.0, 81259.0, 80685.0, 80375.0, 89407.0, 84957.0, 90357.0, 98825.0, 95258.0, 101531.0, 97529.0, 94341.0, 83608.0, 90325.0, 87695.0, 88546.0, 94320.0, 87547.0, 92328.0, 96820.0, 99949.0, 107360.0, 102327.0, 97827.0, 90903.0, 90559.0, 91730.0, 92710.0, 107234.0, 105957.0, 102759.0, 106073.0, 110754.0, 114590.0, 102896.0, 105569.0, 98436.0, 97163.0, 100236.0, 102789.0, 113322.0, 112726.0, 120625.0, 114566.0, 119295.0, 120029.0, 110554.0, 118225.0, 105675.0, 104831.0, 112028.0, 113196.0, 117252.0, 116503.0, 93858.0]}],\n",
              "                        {\"template\": {\"data\": {\"bar\": [{\"error_x\": {\"color\": \"#2a3f5f\"}, \"error_y\": {\"color\": \"#2a3f5f\"}, \"marker\": {\"line\": {\"color\": \"#E5ECF6\", \"width\": 0.5}}, \"type\": \"bar\"}], \"barpolar\": [{\"marker\": {\"line\": {\"color\": \"#E5ECF6\", \"width\": 0.5}}, \"type\": \"barpolar\"}], \"carpet\": [{\"aaxis\": {\"endlinecolor\": \"#2a3f5f\", \"gridcolor\": \"white\", \"linecolor\": \"white\", \"minorgridcolor\": \"white\", \"startlinecolor\": \"#2a3f5f\"}, \"baxis\": {\"endlinecolor\": \"#2a3f5f\", \"gridcolor\": \"white\", \"linecolor\": \"white\", \"minorgridcolor\": \"white\", \"startlinecolor\": \"#2a3f5f\"}, \"type\": \"carpet\"}], \"choropleth\": [{\"colorbar\": {\"outlinewidth\": 0, \"ticks\": \"\"}, \"type\": \"choropleth\"}], \"contour\": [{\"colorbar\": {\"outlinewidth\": 0, \"ticks\": \"\"}, \"colorscale\": [[0.0, \"#0d0887\"], [0.1111111111111111, \"#46039f\"], [0.2222222222222222, \"#7201a8\"], [0.3333333333333333, \"#9c179e\"], [0.4444444444444444, \"#bd3786\"], [0.5555555555555556, \"#d8576b\"], [0.6666666666666666, \"#ed7953\"], [0.7777777777777778, \"#fb9f3a\"], [0.8888888888888888, \"#fdca26\"], [1.0, \"#f0f921\"]], \"type\": \"contour\"}], \"contourcarpet\": [{\"colorbar\": {\"outlinewidth\": 0, \"ticks\": \"\"}, \"type\": \"contourcarpet\"}], \"heatmap\": [{\"colorbar\": {\"outlinewidth\": 0, \"ticks\": \"\"}, \"colorscale\": [[0.0, \"#0d0887\"], [0.1111111111111111, \"#46039f\"], [0.2222222222222222, \"#7201a8\"], [0.3333333333333333, \"#9c179e\"], [0.4444444444444444, \"#bd3786\"], [0.5555555555555556, \"#d8576b\"], [0.6666666666666666, \"#ed7953\"], [0.7777777777777778, \"#fb9f3a\"], [0.8888888888888888, \"#fdca26\"], [1.0, \"#f0f921\"]], \"type\": \"heatmap\"}], \"heatmapgl\": [{\"colorbar\": {\"outlinewidth\": 0, \"ticks\": \"\"}, \"colorscale\": [[0.0, \"#0d0887\"], [0.1111111111111111, \"#46039f\"], [0.2222222222222222, \"#7201a8\"], [0.3333333333333333, \"#9c179e\"], [0.4444444444444444, \"#bd3786\"], [0.5555555555555556, \"#d8576b\"], [0.6666666666666666, \"#ed7953\"], [0.7777777777777778, \"#fb9f3a\"], [0.8888888888888888, \"#fdca26\"], [1.0, \"#f0f921\"]], \"type\": \"heatmapgl\"}], \"histogram\": [{\"marker\": {\"colorbar\": {\"outlinewidth\": 0, \"ticks\": \"\"}}, \"type\": \"histogram\"}], \"histogram2d\": [{\"colorbar\": {\"outlinewidth\": 0, \"ticks\": \"\"}, \"colorscale\": [[0.0, \"#0d0887\"], [0.1111111111111111, \"#46039f\"], [0.2222222222222222, \"#7201a8\"], [0.3333333333333333, \"#9c179e\"], [0.4444444444444444, \"#bd3786\"], [0.5555555555555556, \"#d8576b\"], [0.6666666666666666, \"#ed7953\"], [0.7777777777777778, \"#fb9f3a\"], [0.8888888888888888, \"#fdca26\"], [1.0, \"#f0f921\"]], \"type\": \"histogram2d\"}], \"histogram2dcontour\": [{\"colorbar\": {\"outlinewidth\": 0, \"ticks\": \"\"}, \"colorscale\": [[0.0, \"#0d0887\"], [0.1111111111111111, \"#46039f\"], [0.2222222222222222, \"#7201a8\"], [0.3333333333333333, \"#9c179e\"], [0.4444444444444444, \"#bd3786\"], [0.5555555555555556, \"#d8576b\"], [0.6666666666666666, \"#ed7953\"], [0.7777777777777778, \"#fb9f3a\"], [0.8888888888888888, \"#fdca26\"], [1.0, \"#f0f921\"]], \"type\": \"histogram2dcontour\"}], \"mesh3d\": [{\"colorbar\": {\"outlinewidth\": 0, \"ticks\": \"\"}, \"type\": \"mesh3d\"}], \"parcoords\": [{\"line\": {\"colorbar\": {\"outlinewidth\": 0, \"ticks\": \"\"}}, \"type\": \"parcoords\"}], \"pie\": [{\"automargin\": true, \"type\": \"pie\"}], \"scatter\": [{\"marker\": {\"colorbar\": {\"outlinewidth\": 0, \"ticks\": \"\"}}, \"type\": \"scatter\"}], \"scatter3d\": [{\"line\": {\"colorbar\": {\"outlinewidth\": 0, \"ticks\": \"\"}}, \"marker\": {\"colorbar\": {\"outlinewidth\": 0, \"ticks\": \"\"}}, \"type\": \"scatter3d\"}], \"scattercarpet\": [{\"marker\": {\"colorbar\": {\"outlinewidth\": 0, \"ticks\": \"\"}}, \"type\": \"scattercarpet\"}], \"scattergeo\": [{\"marker\": {\"colorbar\": {\"outlinewidth\": 0, \"ticks\": \"\"}}, \"type\": \"scattergeo\"}], \"scattergl\": [{\"marker\": {\"colorbar\": {\"outlinewidth\": 0, \"ticks\": \"\"}}, \"type\": \"scattergl\"}], \"scattermapbox\": [{\"marker\": {\"colorbar\": {\"outlinewidth\": 0, \"ticks\": \"\"}}, \"type\": \"scattermapbox\"}], \"scatterpolar\": [{\"marker\": {\"colorbar\": {\"outlinewidth\": 0, \"ticks\": \"\"}}, \"type\": \"scatterpolar\"}], \"scatterpolargl\": [{\"marker\": {\"colorbar\": {\"outlinewidth\": 0, \"ticks\": \"\"}}, \"type\": \"scatterpolargl\"}], \"scatterternary\": [{\"marker\": {\"colorbar\": {\"outlinewidth\": 0, \"ticks\": \"\"}}, \"type\": \"scatterternary\"}], \"surface\": [{\"colorbar\": {\"outlinewidth\": 0, \"ticks\": \"\"}, \"colorscale\": [[0.0, \"#0d0887\"], [0.1111111111111111, \"#46039f\"], [0.2222222222222222, \"#7201a8\"], [0.3333333333333333, \"#9c179e\"], [0.4444444444444444, \"#bd3786\"], [0.5555555555555556, \"#d8576b\"], [0.6666666666666666, \"#ed7953\"], [0.7777777777777778, \"#fb9f3a\"], [0.8888888888888888, \"#fdca26\"], [1.0, \"#f0f921\"]], \"type\": \"surface\"}], \"table\": [{\"cells\": {\"fill\": {\"color\": \"#EBF0F8\"}, \"line\": {\"color\": \"white\"}}, \"header\": {\"fill\": {\"color\": \"#C8D4E3\"}, \"line\": {\"color\": \"white\"}}, \"type\": \"table\"}]}, \"layout\": {\"annotationdefaults\": {\"arrowcolor\": \"#2a3f5f\", \"arrowhead\": 0, \"arrowwidth\": 1}, \"coloraxis\": {\"colorbar\": {\"outlinewidth\": 0, \"ticks\": \"\"}}, \"colorscale\": {\"diverging\": [[0, \"#8e0152\"], [0.1, \"#c51b7d\"], [0.2, \"#de77ae\"], [0.3, \"#f1b6da\"], [0.4, \"#fde0ef\"], [0.5, \"#f7f7f7\"], [0.6, \"#e6f5d0\"], [0.7, \"#b8e186\"], [0.8, \"#7fbc41\"], [0.9, \"#4d9221\"], [1, \"#276419\"]], \"sequential\": [[0.0, \"#0d0887\"], [0.1111111111111111, \"#46039f\"], [0.2222222222222222, \"#7201a8\"], [0.3333333333333333, \"#9c179e\"], [0.4444444444444444, \"#bd3786\"], [0.5555555555555556, \"#d8576b\"], [0.6666666666666666, \"#ed7953\"], [0.7777777777777778, \"#fb9f3a\"], [0.8888888888888888, \"#fdca26\"], [1.0, \"#f0f921\"]], \"sequentialminus\": [[0.0, \"#0d0887\"], [0.1111111111111111, \"#46039f\"], [0.2222222222222222, \"#7201a8\"], [0.3333333333333333, \"#9c179e\"], [0.4444444444444444, \"#bd3786\"], [0.5555555555555556, \"#d8576b\"], [0.6666666666666666, \"#ed7953\"], [0.7777777777777778, \"#fb9f3a\"], [0.8888888888888888, \"#fdca26\"], [1.0, \"#f0f921\"]]}, \"colorway\": [\"#636efa\", \"#EF553B\", \"#00cc96\", \"#ab63fa\", \"#FFA15A\", \"#19d3f3\", \"#FF6692\", \"#B6E880\", \"#FF97FF\", \"#FECB52\"], \"font\": {\"color\": \"#2a3f5f\"}, \"geo\": {\"bgcolor\": \"white\", \"lakecolor\": \"white\", \"landcolor\": \"#E5ECF6\", \"showlakes\": true, \"showland\": true, \"subunitcolor\": \"white\"}, \"hoverlabel\": {\"align\": \"left\"}, \"hovermode\": \"closest\", \"mapbox\": {\"style\": \"light\"}, \"paper_bgcolor\": \"white\", \"plot_bgcolor\": \"#E5ECF6\", \"polar\": {\"angularaxis\": {\"gridcolor\": \"white\", \"linecolor\": \"white\", \"ticks\": \"\"}, \"bgcolor\": \"#E5ECF6\", \"radialaxis\": {\"gridcolor\": \"white\", \"linecolor\": \"white\", \"ticks\": \"\"}}, \"scene\": {\"xaxis\": {\"backgroundcolor\": \"#E5ECF6\", \"gridcolor\": \"white\", \"gridwidth\": 2, \"linecolor\": \"white\", \"showbackground\": true, \"ticks\": \"\", \"zerolinecolor\": \"white\"}, \"yaxis\": {\"backgroundcolor\": \"#E5ECF6\", \"gridcolor\": \"white\", \"gridwidth\": 2, \"linecolor\": \"white\", \"showbackground\": true, \"ticks\": \"\", \"zerolinecolor\": \"white\"}, \"zaxis\": {\"backgroundcolor\": \"#E5ECF6\", \"gridcolor\": \"white\", \"gridwidth\": 2, \"linecolor\": \"white\", \"showbackground\": true, \"ticks\": \"\", \"zerolinecolor\": \"white\"}}, \"shapedefaults\": {\"line\": {\"color\": \"#2a3f5f\"}}, \"ternary\": {\"aaxis\": {\"gridcolor\": \"white\", \"linecolor\": \"white\", \"ticks\": \"\"}, \"baxis\": {\"gridcolor\": \"white\", \"linecolor\": \"white\", \"ticks\": \"\"}, \"bgcolor\": \"#E5ECF6\", \"caxis\": {\"gridcolor\": \"white\", \"linecolor\": \"white\", \"ticks\": \"\"}}, \"title\": {\"x\": 0.05}, \"xaxis\": {\"automargin\": true, \"gridcolor\": \"white\", \"linecolor\": \"white\", \"ticks\": \"\", \"title\": {\"standoff\": 15}, \"zerolinecolor\": \"white\", \"zerolinewidth\": 2}, \"yaxis\": {\"automargin\": true, \"gridcolor\": \"white\", \"linecolor\": \"white\", \"ticks\": \"\", \"title\": {\"standoff\": 15}, \"zerolinecolor\": \"white\", \"zerolinewidth\": 2}}}, \"title\": {\"text\": \"Yearly Sales on California\", \"x\": 0.5}, \"width\": 750, \"xaxis\": {\"title\": {\"text\": \"Year\"}}, \"yaxis\": {\"title\": {\"text\": \"Total Sales\"}}},\n",
              "                        {\"responsive\": true}\n",
              "                    ).then(function(){\n",
              "                            \n",
              "var gd = document.getElementById('403beb64-9c48-4114-97da-a3648f73ce11');\n",
              "var x = new MutationObserver(function (mutations, observer) {{\n",
              "        var display = window.getComputedStyle(gd).display;\n",
              "        if (!display || display === 'none') {{\n",
              "            console.log([gd, 'removed!']);\n",
              "            Plotly.purge(gd);\n",
              "            observer.disconnect();\n",
              "        }}\n",
              "}});\n",
              "\n",
              "// Listen for the removal of the full notebook cells\n",
              "var notebookContainer = gd.closest('#notebook-container');\n",
              "if (notebookContainer) {{\n",
              "    x.observe(notebookContainer, {childList: true});\n",
              "}}\n",
              "\n",
              "// Listen for the clearing of the current output cell\n",
              "var outputEl = gd.closest('.output');\n",
              "if (outputEl) {{\n",
              "    x.observe(outputEl, {childList: true});\n",
              "}}\n",
              "\n",
              "                        })\n",
              "                };\n",
              "                \n",
              "            </script>\n",
              "        </div>\n",
              "</body>\n",
              "</html>"
            ]
          },
          "metadata": {
            "tags": []
          }
        }
      ]
    },
    {
      "cell_type": "markdown",
      "metadata": {
        "id": "PJU7hXRlFr9n"
      },
      "source": [
        "**Observation:**\r\n",
        "* The sales happened on Store 2 during the 2012 to 2014 was huge than the other stores, but then it has gradually falled and then tried to keep it constant on par with the other stores."
      ]
    },
    {
      "cell_type": "code",
      "metadata": {
        "colab": {
          "base_uri": "https://localhost:8080/",
          "height": 542
        },
        "id": "X0kkU4qp-9Rs",
        "outputId": "63f6296f-0fba-4798-f589-d7f7caab6326"
      },
      "source": [
        "fig = go.Figure()\r\n",
        "\r\n",
        "for i in temp.columns[7:]:\r\n",
        "    fig.add_trace(go.Scatter(x = x_dates, y = temp[i], mode='lines', name=str(i).title()))\r\n",
        "\r\n",
        "fig.update_layout(title='Yearly Sales on Wisconsin', xaxis_title='Year',yaxis_title='Total Sales', width=750, title_x=0.5)\r\n",
        "fig.show()"
      ],
      "execution_count": null,
      "outputs": [
        {
          "output_type": "display_data",
          "data": {
            "text/html": [
              "<html>\n",
              "<head><meta charset=\"utf-8\" /></head>\n",
              "<body>\n",
              "    <div>\n",
              "            <script src=\"https://cdnjs.cloudflare.com/ajax/libs/mathjax/2.7.5/MathJax.js?config=TeX-AMS-MML_SVG\"></script><script type=\"text/javascript\">if (window.MathJax) {MathJax.Hub.Config({SVG: {font: \"STIX-Web\"}});}</script>\n",
              "                <script type=\"text/javascript\">window.PlotlyConfig = {MathJaxConfig: 'local'};</script>\n",
              "        <script src=\"https://cdn.plot.ly/plotly-latest.min.js\"></script>    \n",
              "            <div id=\"75612bdc-337d-46dc-bb7b-1189f6882282\" class=\"plotly-graph-div\" style=\"height:525px; width:1000px;\"></div>\n",
              "            <script type=\"text/javascript\">\n",
              "                \n",
              "                    window.PLOTLYENV=window.PLOTLYENV || {};\n",
              "                    \n",
              "                if (document.getElementById(\"75612bdc-337d-46dc-bb7b-1189f6882282\")) {\n",
              "                    Plotly.newPlot(\n",
              "                        '75612bdc-337d-46dc-bb7b-1189f6882282',\n",
              "                        [{\"name\": \"Wi_1\", \"type\": \"scatter\", \"x\": [\"2011-02-01T00:00:00\", \"2011-03-01T00:00:00\", \"2011-04-01T00:00:00\", \"2011-05-01T00:00:00\", \"2011-06-01T00:00:00\", \"2011-07-01T00:00:00\", \"2011-08-01T00:00:00\", \"2011-09-01T00:00:00\", \"2011-10-01T00:00:00\", \"2011-11-01T00:00:00\", \"2011-12-01T00:00:00\", \"2012-01-01T00:00:00\", \"2012-02-01T00:00:00\", \"2012-03-01T00:00:00\", \"2012-04-01T00:00:00\", \"2012-05-01T00:00:00\", \"2012-06-01T00:00:00\", \"2012-07-01T00:00:00\", \"2012-08-01T00:00:00\", \"2012-09-01T00:00:00\", \"2012-10-01T00:00:00\", \"2012-11-01T00:00:00\", \"2012-12-01T00:00:00\", \"2013-01-01T00:00:00\", \"2013-02-01T00:00:00\", \"2013-03-01T00:00:00\", \"2013-04-01T00:00:00\", \"2013-05-01T00:00:00\", \"2013-06-01T00:00:00\", \"2013-07-01T00:00:00\", \"2013-08-01T00:00:00\", \"2013-09-01T00:00:00\", \"2013-10-01T00:00:00\", \"2013-11-01T00:00:00\", \"2013-12-01T00:00:00\", \"2014-01-01T00:00:00\", \"2014-02-01T00:00:00\", \"2014-03-01T00:00:00\", \"2014-04-01T00:00:00\", \"2014-05-01T00:00:00\", \"2014-06-01T00:00:00\", \"2014-07-01T00:00:00\", \"2014-08-01T00:00:00\", \"2014-09-01T00:00:00\", \"2014-10-01T00:00:00\", \"2014-11-01T00:00:00\", \"2014-12-01T00:00:00\", \"2015-01-01T00:00:00\", \"2015-02-01T00:00:00\", \"2015-03-01T00:00:00\", \"2015-04-01T00:00:00\", \"2015-05-01T00:00:00\", \"2015-06-01T00:00:00\", \"2015-07-01T00:00:00\", \"2015-08-01T00:00:00\", \"2015-09-01T00:00:00\", \"2015-10-01T00:00:00\", \"2015-11-01T00:00:00\", \"2015-12-01T00:00:00\", \"2016-01-01T00:00:00\", \"2016-02-01T00:00:00\", \"2016-03-01T00:00:00\", \"2016-04-01T00:00:00\"], \"y\": [6460.0, 46592.0, 49747.0, 46898.0, 45269.0, 46776.0, 49447.0, 46683.0, 47537.0, 52114.0, 48654.0, 53844.0, 51901.0, 52938.0, 57633.0, 54172.0, 56463.0, 62723.0, 58506.0, 53950.0, 53807.0, 49720.0, 83180.0, 90395.0, 82052.0, 77925.0, 89197.0, 77002.0, 82535.0, 86929.0, 88702.0, 90422.0, 86316.0, 84700.0, 84759.0, 90555.0, 87672.0, 83734.0, 94220.0, 93684.0, 96740.0, 98336.0, 102475.0, 104881.0, 95870.0, 99725.0, 97248.0, 99234.0, 107149.0, 100541.0, 105812.0, 100658.0, 108581.0, 105400.0, 110997.0, 109018.0, 102060.0, 111776.0, 102489.0, 110443.0, 113934.0, 109622.0, 114348.0, 118201.0, 90155.0]}, {\"name\": \"Wi_2\", \"type\": \"scatter\", \"x\": [\"2011-02-01T00:00:00\", \"2011-03-01T00:00:00\", \"2011-04-01T00:00:00\", \"2011-05-01T00:00:00\", \"2011-06-01T00:00:00\", \"2011-07-01T00:00:00\", \"2011-08-01T00:00:00\", \"2011-09-01T00:00:00\", \"2011-10-01T00:00:00\", \"2011-11-01T00:00:00\", \"2011-12-01T00:00:00\", \"2012-01-01T00:00:00\", \"2012-02-01T00:00:00\", \"2012-03-01T00:00:00\", \"2012-04-01T00:00:00\", \"2012-05-01T00:00:00\", \"2012-06-01T00:00:00\", \"2012-07-01T00:00:00\", \"2012-08-01T00:00:00\", \"2012-09-01T00:00:00\", \"2012-10-01T00:00:00\", \"2012-11-01T00:00:00\", \"2012-12-01T00:00:00\", \"2013-01-01T00:00:00\", \"2013-02-01T00:00:00\", \"2013-03-01T00:00:00\", \"2013-04-01T00:00:00\", \"2013-05-01T00:00:00\", \"2013-06-01T00:00:00\", \"2013-07-01T00:00:00\", \"2013-08-01T00:00:00\", \"2013-09-01T00:00:00\", \"2013-10-01T00:00:00\", \"2013-11-01T00:00:00\", \"2013-12-01T00:00:00\", \"2014-01-01T00:00:00\", \"2014-02-01T00:00:00\", \"2014-03-01T00:00:00\", \"2014-04-01T00:00:00\", \"2014-05-01T00:00:00\", \"2014-06-01T00:00:00\", \"2014-07-01T00:00:00\", \"2014-08-01T00:00:00\", \"2014-09-01T00:00:00\", \"2014-10-01T00:00:00\", \"2014-11-01T00:00:00\", \"2014-12-01T00:00:00\", \"2015-01-01T00:00:00\", \"2015-02-01T00:00:00\", \"2015-03-01T00:00:00\", \"2015-04-01T00:00:00\", \"2015-05-01T00:00:00\", \"2015-06-01T00:00:00\", \"2015-07-01T00:00:00\", \"2015-08-01T00:00:00\", \"2015-09-01T00:00:00\", \"2015-10-01T00:00:00\", \"2015-11-01T00:00:00\", \"2015-12-01T00:00:00\", \"2016-01-01T00:00:00\", \"2016-02-01T00:00:00\", \"2016-03-01T00:00:00\", \"2016-04-01T00:00:00\"], \"y\": [6196.0, 51708.0, 51113.0, 47651.0, 45487.0, 50737.0, 54426.0, 51072.0, 49721.0, 52652.0, 49558.0, 55933.0, 57600.0, 58404.0, 56815.0, 49248.0, 61901.0, 97162.0, 103202.0, 110465.0, 109152.0, 105019.0, 101298.0, 108465.0, 114294.0, 118594.0, 121093.0, 110150.0, 110700.0, 111708.0, 113941.0, 120573.0, 123111.0, 123861.0, 117153.0, 116312.0, 118130.0, 122648.0, 125690.0, 121696.0, 117516.0, 118823.0, 124224.0, 131948.0, 119738.0, 127350.0, 118361.0, 114286.0, 124938.0, 119831.0, 119331.0, 117528.0, 122952.0, 121590.0, 128387.0, 132135.0, 134317.0, 139328.0, 120937.0, 126354.0, 140948.0, 154084.0, 159236.0, 162908.0, 126299.0]}, {\"name\": \"Wi_3\", \"type\": \"scatter\", \"x\": [\"2011-02-01T00:00:00\", \"2011-03-01T00:00:00\", \"2011-04-01T00:00:00\", \"2011-05-01T00:00:00\", \"2011-06-01T00:00:00\", \"2011-07-01T00:00:00\", \"2011-08-01T00:00:00\", \"2011-09-01T00:00:00\", \"2011-10-01T00:00:00\", \"2011-11-01T00:00:00\", \"2011-12-01T00:00:00\", \"2012-01-01T00:00:00\", \"2012-02-01T00:00:00\", \"2012-03-01T00:00:00\", \"2012-04-01T00:00:00\", \"2012-05-01T00:00:00\", \"2012-06-01T00:00:00\", \"2012-07-01T00:00:00\", \"2012-08-01T00:00:00\", \"2012-09-01T00:00:00\", \"2012-10-01T00:00:00\", \"2012-11-01T00:00:00\", \"2012-12-01T00:00:00\", \"2013-01-01T00:00:00\", \"2013-02-01T00:00:00\", \"2013-03-01T00:00:00\", \"2013-04-01T00:00:00\", \"2013-05-01T00:00:00\", \"2013-06-01T00:00:00\", \"2013-07-01T00:00:00\", \"2013-08-01T00:00:00\", \"2013-09-01T00:00:00\", \"2013-10-01T00:00:00\", \"2013-11-01T00:00:00\", \"2013-12-01T00:00:00\", \"2014-01-01T00:00:00\", \"2014-02-01T00:00:00\", \"2014-03-01T00:00:00\", \"2014-04-01T00:00:00\", \"2014-05-01T00:00:00\", \"2014-06-01T00:00:00\", \"2014-07-01T00:00:00\", \"2014-08-01T00:00:00\", \"2014-09-01T00:00:00\", \"2014-10-01T00:00:00\", \"2014-11-01T00:00:00\", \"2014-12-01T00:00:00\", \"2015-01-01T00:00:00\", \"2015-02-01T00:00:00\", \"2015-03-01T00:00:00\", \"2015-04-01T00:00:00\", \"2015-05-01T00:00:00\", \"2015-06-01T00:00:00\", \"2015-07-01T00:00:00\", \"2015-08-01T00:00:00\", \"2015-09-01T00:00:00\", \"2015-10-01T00:00:00\", \"2015-11-01T00:00:00\", \"2015-12-01T00:00:00\", \"2016-01-01T00:00:00\", \"2016-02-01T00:00:00\", \"2016-03-01T00:00:00\", \"2016-04-01T00:00:00\"], \"y\": [11553.0, 97959.0, 97867.0, 91479.0, 85620.0, 87266.0, 97636.0, 97854.0, 98960.0, 110793.0, 104509.0, 113853.0, 115079.0, 113624.0, 123837.0, 114318.0, 128051.0, 135098.0, 132401.0, 122110.0, 120872.0, 113113.0, 106747.0, 112450.0, 107245.0, 111422.0, 120423.0, 95579.0, 90020.0, 93027.0, 97279.0, 102945.0, 99563.0, 96600.0, 93623.0, 93583.0, 98345.0, 90935.0, 97099.0, 85793.0, 84043.0, 83161.0, 85054.0, 90475.0, 84995.0, 87720.0, 85799.0, 80037.0, 91958.0, 90993.0, 93911.0, 93743.0, 96570.0, 94309.0, 104305.0, 102303.0, 103171.0, 112245.0, 104789.0, 103901.0, 113222.0, 115407.0, 119558.0, 120175.0, 94183.0]}],\n",
              "                        {\"template\": {\"data\": {\"bar\": [{\"error_x\": {\"color\": \"#2a3f5f\"}, \"error_y\": {\"color\": \"#2a3f5f\"}, \"marker\": {\"line\": {\"color\": \"#E5ECF6\", \"width\": 0.5}}, \"type\": \"bar\"}], \"barpolar\": [{\"marker\": {\"line\": {\"color\": \"#E5ECF6\", \"width\": 0.5}}, \"type\": \"barpolar\"}], \"carpet\": [{\"aaxis\": {\"endlinecolor\": \"#2a3f5f\", \"gridcolor\": \"white\", \"linecolor\": \"white\", \"minorgridcolor\": \"white\", \"startlinecolor\": \"#2a3f5f\"}, \"baxis\": {\"endlinecolor\": \"#2a3f5f\", \"gridcolor\": \"white\", \"linecolor\": \"white\", \"minorgridcolor\": \"white\", \"startlinecolor\": \"#2a3f5f\"}, \"type\": \"carpet\"}], \"choropleth\": [{\"colorbar\": {\"outlinewidth\": 0, \"ticks\": \"\"}, \"type\": \"choropleth\"}], \"contour\": [{\"colorbar\": {\"outlinewidth\": 0, \"ticks\": \"\"}, \"colorscale\": [[0.0, \"#0d0887\"], [0.1111111111111111, \"#46039f\"], [0.2222222222222222, \"#7201a8\"], [0.3333333333333333, \"#9c179e\"], [0.4444444444444444, \"#bd3786\"], [0.5555555555555556, \"#d8576b\"], [0.6666666666666666, \"#ed7953\"], [0.7777777777777778, \"#fb9f3a\"], [0.8888888888888888, \"#fdca26\"], [1.0, \"#f0f921\"]], \"type\": \"contour\"}], \"contourcarpet\": [{\"colorbar\": {\"outlinewidth\": 0, \"ticks\": \"\"}, \"type\": \"contourcarpet\"}], \"heatmap\": [{\"colorbar\": {\"outlinewidth\": 0, \"ticks\": \"\"}, \"colorscale\": [[0.0, \"#0d0887\"], [0.1111111111111111, \"#46039f\"], [0.2222222222222222, \"#7201a8\"], [0.3333333333333333, \"#9c179e\"], [0.4444444444444444, \"#bd3786\"], [0.5555555555555556, \"#d8576b\"], [0.6666666666666666, \"#ed7953\"], [0.7777777777777778, \"#fb9f3a\"], [0.8888888888888888, \"#fdca26\"], [1.0, \"#f0f921\"]], \"type\": \"heatmap\"}], \"heatmapgl\": [{\"colorbar\": {\"outlinewidth\": 0, \"ticks\": \"\"}, \"colorscale\": [[0.0, \"#0d0887\"], [0.1111111111111111, \"#46039f\"], [0.2222222222222222, \"#7201a8\"], [0.3333333333333333, \"#9c179e\"], [0.4444444444444444, \"#bd3786\"], [0.5555555555555556, \"#d8576b\"], [0.6666666666666666, \"#ed7953\"], [0.7777777777777778, \"#fb9f3a\"], [0.8888888888888888, \"#fdca26\"], [1.0, \"#f0f921\"]], \"type\": \"heatmapgl\"}], \"histogram\": [{\"marker\": {\"colorbar\": {\"outlinewidth\": 0, \"ticks\": \"\"}}, \"type\": \"histogram\"}], \"histogram2d\": [{\"colorbar\": {\"outlinewidth\": 0, \"ticks\": \"\"}, \"colorscale\": [[0.0, \"#0d0887\"], [0.1111111111111111, \"#46039f\"], [0.2222222222222222, \"#7201a8\"], [0.3333333333333333, \"#9c179e\"], [0.4444444444444444, \"#bd3786\"], [0.5555555555555556, \"#d8576b\"], [0.6666666666666666, \"#ed7953\"], [0.7777777777777778, \"#fb9f3a\"], [0.8888888888888888, \"#fdca26\"], [1.0, \"#f0f921\"]], \"type\": \"histogram2d\"}], \"histogram2dcontour\": [{\"colorbar\": {\"outlinewidth\": 0, \"ticks\": \"\"}, \"colorscale\": [[0.0, \"#0d0887\"], [0.1111111111111111, \"#46039f\"], [0.2222222222222222, \"#7201a8\"], [0.3333333333333333, \"#9c179e\"], [0.4444444444444444, \"#bd3786\"], [0.5555555555555556, \"#d8576b\"], [0.6666666666666666, \"#ed7953\"], [0.7777777777777778, \"#fb9f3a\"], [0.8888888888888888, \"#fdca26\"], [1.0, \"#f0f921\"]], \"type\": \"histogram2dcontour\"}], \"mesh3d\": [{\"colorbar\": {\"outlinewidth\": 0, \"ticks\": \"\"}, \"type\": \"mesh3d\"}], \"parcoords\": [{\"line\": {\"colorbar\": {\"outlinewidth\": 0, \"ticks\": \"\"}}, \"type\": \"parcoords\"}], \"pie\": [{\"automargin\": true, \"type\": \"pie\"}], \"scatter\": [{\"marker\": {\"colorbar\": {\"outlinewidth\": 0, \"ticks\": \"\"}}, \"type\": \"scatter\"}], \"scatter3d\": [{\"line\": {\"colorbar\": {\"outlinewidth\": 0, \"ticks\": \"\"}}, \"marker\": {\"colorbar\": {\"outlinewidth\": 0, \"ticks\": \"\"}}, \"type\": \"scatter3d\"}], \"scattercarpet\": [{\"marker\": {\"colorbar\": {\"outlinewidth\": 0, \"ticks\": \"\"}}, \"type\": \"scattercarpet\"}], \"scattergeo\": [{\"marker\": {\"colorbar\": {\"outlinewidth\": 0, \"ticks\": \"\"}}, \"type\": \"scattergeo\"}], \"scattergl\": [{\"marker\": {\"colorbar\": {\"outlinewidth\": 0, \"ticks\": \"\"}}, \"type\": \"scattergl\"}], \"scattermapbox\": [{\"marker\": {\"colorbar\": {\"outlinewidth\": 0, \"ticks\": \"\"}}, \"type\": \"scattermapbox\"}], \"scatterpolar\": [{\"marker\": {\"colorbar\": {\"outlinewidth\": 0, \"ticks\": \"\"}}, \"type\": \"scatterpolar\"}], \"scatterpolargl\": [{\"marker\": {\"colorbar\": {\"outlinewidth\": 0, \"ticks\": \"\"}}, \"type\": \"scatterpolargl\"}], \"scatterternary\": [{\"marker\": {\"colorbar\": {\"outlinewidth\": 0, \"ticks\": \"\"}}, \"type\": \"scatterternary\"}], \"surface\": [{\"colorbar\": {\"outlinewidth\": 0, \"ticks\": \"\"}, \"colorscale\": [[0.0, \"#0d0887\"], [0.1111111111111111, \"#46039f\"], [0.2222222222222222, \"#7201a8\"], [0.3333333333333333, \"#9c179e\"], [0.4444444444444444, \"#bd3786\"], [0.5555555555555556, \"#d8576b\"], [0.6666666666666666, \"#ed7953\"], [0.7777777777777778, \"#fb9f3a\"], [0.8888888888888888, \"#fdca26\"], [1.0, \"#f0f921\"]], \"type\": \"surface\"}], \"table\": [{\"cells\": {\"fill\": {\"color\": \"#EBF0F8\"}, \"line\": {\"color\": \"white\"}}, \"header\": {\"fill\": {\"color\": \"#C8D4E3\"}, \"line\": {\"color\": \"white\"}}, \"type\": \"table\"}]}, \"layout\": {\"annotationdefaults\": {\"arrowcolor\": \"#2a3f5f\", \"arrowhead\": 0, \"arrowwidth\": 1}, \"coloraxis\": {\"colorbar\": {\"outlinewidth\": 0, \"ticks\": \"\"}}, \"colorscale\": {\"diverging\": [[0, \"#8e0152\"], [0.1, \"#c51b7d\"], [0.2, \"#de77ae\"], [0.3, \"#f1b6da\"], [0.4, \"#fde0ef\"], [0.5, \"#f7f7f7\"], [0.6, \"#e6f5d0\"], [0.7, \"#b8e186\"], [0.8, \"#7fbc41\"], [0.9, \"#4d9221\"], [1, \"#276419\"]], \"sequential\": [[0.0, \"#0d0887\"], [0.1111111111111111, \"#46039f\"], [0.2222222222222222, \"#7201a8\"], [0.3333333333333333, \"#9c179e\"], [0.4444444444444444, \"#bd3786\"], [0.5555555555555556, \"#d8576b\"], [0.6666666666666666, \"#ed7953\"], [0.7777777777777778, \"#fb9f3a\"], [0.8888888888888888, \"#fdca26\"], [1.0, \"#f0f921\"]], \"sequentialminus\": [[0.0, \"#0d0887\"], [0.1111111111111111, \"#46039f\"], [0.2222222222222222, \"#7201a8\"], [0.3333333333333333, \"#9c179e\"], [0.4444444444444444, \"#bd3786\"], [0.5555555555555556, \"#d8576b\"], [0.6666666666666666, \"#ed7953\"], [0.7777777777777778, \"#fb9f3a\"], [0.8888888888888888, \"#fdca26\"], [1.0, \"#f0f921\"]]}, \"colorway\": [\"#636efa\", \"#EF553B\", \"#00cc96\", \"#ab63fa\", \"#FFA15A\", \"#19d3f3\", \"#FF6692\", \"#B6E880\", \"#FF97FF\", \"#FECB52\"], \"font\": {\"color\": \"#2a3f5f\"}, \"geo\": {\"bgcolor\": \"white\", \"lakecolor\": \"white\", \"landcolor\": \"#E5ECF6\", \"showlakes\": true, \"showland\": true, \"subunitcolor\": \"white\"}, \"hoverlabel\": {\"align\": \"left\"}, \"hovermode\": \"closest\", \"mapbox\": {\"style\": \"light\"}, \"paper_bgcolor\": \"white\", \"plot_bgcolor\": \"#E5ECF6\", \"polar\": {\"angularaxis\": {\"gridcolor\": \"white\", \"linecolor\": \"white\", \"ticks\": \"\"}, \"bgcolor\": \"#E5ECF6\", \"radialaxis\": {\"gridcolor\": \"white\", \"linecolor\": \"white\", \"ticks\": \"\"}}, \"scene\": {\"xaxis\": {\"backgroundcolor\": \"#E5ECF6\", \"gridcolor\": \"white\", \"gridwidth\": 2, \"linecolor\": \"white\", \"showbackground\": true, \"ticks\": \"\", \"zerolinecolor\": \"white\"}, \"yaxis\": {\"backgroundcolor\": \"#E5ECF6\", \"gridcolor\": \"white\", \"gridwidth\": 2, \"linecolor\": \"white\", \"showbackground\": true, \"ticks\": \"\", \"zerolinecolor\": \"white\"}, \"zaxis\": {\"backgroundcolor\": \"#E5ECF6\", \"gridcolor\": \"white\", \"gridwidth\": 2, \"linecolor\": \"white\", \"showbackground\": true, \"ticks\": \"\", \"zerolinecolor\": \"white\"}}, \"shapedefaults\": {\"line\": {\"color\": \"#2a3f5f\"}}, \"ternary\": {\"aaxis\": {\"gridcolor\": \"white\", \"linecolor\": \"white\", \"ticks\": \"\"}, \"baxis\": {\"gridcolor\": \"white\", \"linecolor\": \"white\", \"ticks\": \"\"}, \"bgcolor\": \"#E5ECF6\", \"caxis\": {\"gridcolor\": \"white\", \"linecolor\": \"white\", \"ticks\": \"\"}}, \"title\": {\"x\": 0.05}, \"xaxis\": {\"automargin\": true, \"gridcolor\": \"white\", \"linecolor\": \"white\", \"ticks\": \"\", \"title\": {\"standoff\": 15}, \"zerolinecolor\": \"white\", \"zerolinewidth\": 2}, \"yaxis\": {\"automargin\": true, \"gridcolor\": \"white\", \"linecolor\": \"white\", \"ticks\": \"\", \"title\": {\"standoff\": 15}, \"zerolinecolor\": \"white\", \"zerolinewidth\": 2}}}, \"title\": {\"text\": \"Yearly Sales on California\", \"x\": 0.5}, \"width\": 1000, \"xaxis\": {\"title\": {\"text\": \"Year\"}}, \"yaxis\": {\"title\": {\"text\": \"Total Sales\"}}},\n",
              "                        {\"responsive\": true}\n",
              "                    ).then(function(){\n",
              "                            \n",
              "var gd = document.getElementById('75612bdc-337d-46dc-bb7b-1189f6882282');\n",
              "var x = new MutationObserver(function (mutations, observer) {{\n",
              "        var display = window.getComputedStyle(gd).display;\n",
              "        if (!display || display === 'none') {{\n",
              "            console.log([gd, 'removed!']);\n",
              "            Plotly.purge(gd);\n",
              "            observer.disconnect();\n",
              "        }}\n",
              "}});\n",
              "\n",
              "// Listen for the removal of the full notebook cells\n",
              "var notebookContainer = gd.closest('#notebook-container');\n",
              "if (notebookContainer) {{\n",
              "    x.observe(notebookContainer, {childList: true});\n",
              "}}\n",
              "\n",
              "// Listen for the clearing of the current output cell\n",
              "var outputEl = gd.closest('.output');\n",
              "if (outputEl) {{\n",
              "    x.observe(outputEl, {childList: true});\n",
              "}}\n",
              "\n",
              "                        })\n",
              "                };\n",
              "                \n",
              "            </script>\n",
              "        </div>\n",
              "</body>\n",
              "</html>"
            ]
          },
          "metadata": {
            "tags": []
          }
        }
      ]
    },
    {
      "cell_type": "markdown",
      "metadata": {
        "id": "daFwdNLVBHiU"
      },
      "source": [
        "**Observation:**\r\n",
        "* Store 3 had a great sales July 2012, and then there has been a great fall.\r\n",
        "* That was the same time when Store 2 had a great surge in sale. This could possibly becasue there has been some internal changes on Store 2.\r\n",
        "* Store 1 had almost overlapping sales with Store 2 before it had a surge, then store 1 had a growth in sales and had on par sales with Store 3."
      ]
    },
    {
      "cell_type": "code",
      "metadata": {
        "colab": {
          "base_uri": "https://localhost:8080/",
          "height": 617
        },
        "id": "TOQaOJ9SSe2a",
        "outputId": "8e866ecb-4511-4bd7-85a6-e5f3b62399d7"
      },
      "source": [
        "temp = sales.groupby('store_id').sum().T\r\n",
        "date = [\"\".join(str(i).split('-')[:2]) for i in date]\r\n",
        "temp.columns = temp.columns.astype(str)\r\n",
        "temp['Date'] = date\r\n",
        "temp = temp.groupby(\"Date\").sum()\r\n",
        "\r\n",
        "fig = go.Figure()\r\n",
        "\r\n",
        "for i in temp.columns:\r\n",
        "    fig.add_trace(go.Scatter(x = x_dates, y = temp[i], mode='lines', name=str(i).title()))\r\n",
        "\r\n",
        "fig.update_layout(title='Monthly Sales per State', xaxis_title='Year',yaxis_title='Total Sales', width=1000, height=600,title_x=0.5)"
      ],
      "execution_count": null,
      "outputs": [
        {
          "output_type": "display_data",
          "data": {
            "text/html": [
              "<html>\n",
              "<head><meta charset=\"utf-8\" /></head>\n",
              "<body>\n",
              "    <div>\n",
              "            <script src=\"https://cdnjs.cloudflare.com/ajax/libs/mathjax/2.7.5/MathJax.js?config=TeX-AMS-MML_SVG\"></script><script type=\"text/javascript\">if (window.MathJax) {MathJax.Hub.Config({SVG: {font: \"STIX-Web\"}});}</script>\n",
              "                <script type=\"text/javascript\">window.PlotlyConfig = {MathJaxConfig: 'local'};</script>\n",
              "        <script src=\"https://cdn.plot.ly/plotly-latest.min.js\"></script>    \n",
              "            <div id=\"64db4db0-aa12-4078-9c81-9a8de77f4497\" class=\"plotly-graph-div\" style=\"height:600px; width:1000px;\"></div>\n",
              "            <script type=\"text/javascript\">\n",
              "                \n",
              "                    window.PLOTLYENV=window.PLOTLYENV || {};\n",
              "                    \n",
              "                if (document.getElementById(\"64db4db0-aa12-4078-9c81-9a8de77f4497\")) {\n",
              "                    Plotly.newPlot(\n",
              "                        '64db4db0-aa12-4078-9c81-9a8de77f4497',\n",
              "                        [{\"mode\": \"lines\", \"name\": \"Ca_1\", \"type\": \"scatter\", \"x\": [\"2011-02-01T00:00:00\", \"2011-03-01T00:00:00\", \"2011-04-01T00:00:00\", \"2011-05-01T00:00:00\", \"2011-06-01T00:00:00\", \"2011-07-01T00:00:00\", \"2011-08-01T00:00:00\", \"2011-09-01T00:00:00\", \"2011-10-01T00:00:00\", \"2011-11-01T00:00:00\", \"2011-12-01T00:00:00\", \"2012-01-01T00:00:00\", \"2012-02-01T00:00:00\", \"2012-03-01T00:00:00\", \"2012-04-01T00:00:00\", \"2012-05-01T00:00:00\", \"2012-06-01T00:00:00\", \"2012-07-01T00:00:00\", \"2012-08-01T00:00:00\", \"2012-09-01T00:00:00\", \"2012-10-01T00:00:00\", \"2012-11-01T00:00:00\", \"2012-12-01T00:00:00\", \"2013-01-01T00:00:00\", \"2013-02-01T00:00:00\", \"2013-03-01T00:00:00\", \"2013-04-01T00:00:00\", \"2013-05-01T00:00:00\", \"2013-06-01T00:00:00\", \"2013-07-01T00:00:00\", \"2013-08-01T00:00:00\", \"2013-09-01T00:00:00\", \"2013-10-01T00:00:00\", \"2013-11-01T00:00:00\", \"2013-12-01T00:00:00\", \"2014-01-01T00:00:00\", \"2014-02-01T00:00:00\", \"2014-03-01T00:00:00\", \"2014-04-01T00:00:00\", \"2014-05-01T00:00:00\", \"2014-06-01T00:00:00\", \"2014-07-01T00:00:00\", \"2014-08-01T00:00:00\", \"2014-09-01T00:00:00\", \"2014-10-01T00:00:00\", \"2014-11-01T00:00:00\", \"2014-12-01T00:00:00\", \"2015-01-01T00:00:00\", \"2015-02-01T00:00:00\", \"2015-03-01T00:00:00\", \"2015-04-01T00:00:00\", \"2015-05-01T00:00:00\", \"2015-06-01T00:00:00\", \"2015-07-01T00:00:00\", \"2015-08-01T00:00:00\", \"2015-09-01T00:00:00\", \"2015-10-01T00:00:00\", \"2015-11-01T00:00:00\", \"2015-12-01T00:00:00\", \"2016-01-01T00:00:00\", \"2016-02-01T00:00:00\", \"2016-03-01T00:00:00\", \"2016-04-01T00:00:00\"], \"y\": [11308.0, 89434.0, 93468.0, 91553.0, 87988.0, 90376.0, 96761.0, 95113.0, 92339.0, 105153.0, 99155.0, 108145.0, 106579.0, 105943.0, 119562.0, 119329.0, 122693.0, 128492.0, 126739.0, 130572.0, 121643.0, 111356.0, 103525.0, 109999.0, 109525.0, 108956.0, 122496.0, 118365.0, 128245.0, 136580.0, 141288.0, 147275.0, 139731.0, 132669.0, 123935.0, 129475.0, 123859.0, 113642.0, 128947.0, 132059.0, 131457.0, 133238.0, 140310.0, 145962.0, 131924.0, 137712.0, 132830.0, 125991.0, 129815.0, 118525.0, 131789.0, 134218.0, 142632.0, 136571.0, 142973.0, 146168.0, 134939.0, 141987.0, 123590.0, 123656.0, 131598.0, 126655.0, 136557.0, 138826.0, 108053.0]}, {\"mode\": \"lines\", \"name\": \"Ca_2\", \"type\": \"scatter\", \"x\": [\"2011-02-01T00:00:00\", \"2011-03-01T00:00:00\", \"2011-04-01T00:00:00\", \"2011-05-01T00:00:00\", \"2011-06-01T00:00:00\", \"2011-07-01T00:00:00\", \"2011-08-01T00:00:00\", \"2011-09-01T00:00:00\", \"2011-10-01T00:00:00\", \"2011-11-01T00:00:00\", \"2011-12-01T00:00:00\", \"2012-01-01T00:00:00\", \"2012-02-01T00:00:00\", \"2012-03-01T00:00:00\", \"2012-04-01T00:00:00\", \"2012-05-01T00:00:00\", \"2012-06-01T00:00:00\", \"2012-07-01T00:00:00\", \"2012-08-01T00:00:00\", \"2012-09-01T00:00:00\", \"2012-10-01T00:00:00\", \"2012-11-01T00:00:00\", \"2012-12-01T00:00:00\", \"2013-01-01T00:00:00\", \"2013-02-01T00:00:00\", \"2013-03-01T00:00:00\", \"2013-04-01T00:00:00\", \"2013-05-01T00:00:00\", \"2013-06-01T00:00:00\", \"2013-07-01T00:00:00\", \"2013-08-01T00:00:00\", \"2013-09-01T00:00:00\", \"2013-10-01T00:00:00\", \"2013-11-01T00:00:00\", \"2013-12-01T00:00:00\", \"2014-01-01T00:00:00\", \"2014-02-01T00:00:00\", \"2014-03-01T00:00:00\", \"2014-04-01T00:00:00\", \"2014-05-01T00:00:00\", \"2014-06-01T00:00:00\", \"2014-07-01T00:00:00\", \"2014-08-01T00:00:00\", \"2014-09-01T00:00:00\", \"2014-10-01T00:00:00\", \"2014-11-01T00:00:00\", \"2014-12-01T00:00:00\", \"2015-01-01T00:00:00\", \"2015-02-01T00:00:00\", \"2015-03-01T00:00:00\", \"2015-04-01T00:00:00\", \"2015-05-01T00:00:00\", \"2015-06-01T00:00:00\", \"2015-07-01T00:00:00\", \"2015-08-01T00:00:00\", \"2015-09-01T00:00:00\", \"2015-10-01T00:00:00\", \"2015-11-01T00:00:00\", \"2015-12-01T00:00:00\", \"2016-01-01T00:00:00\", \"2016-02-01T00:00:00\", \"2016-03-01T00:00:00\", \"2016-04-01T00:00:00\"], \"y\": [8661.0, 67686.0, 73964.0, 72803.0, 68305.0, 69380.0, 79056.0, 75129.0, 74779.0, 81947.0, 74165.0, 80208.0, 77786.0, 76957.0, 87001.0, 84605.0, 86714.0, 93534.0, 93251.0, 95268.0, 92112.0, 85724.0, 76170.0, 83362.0, 82143.0, 80620.0, 94964.0, 89100.0, 94256.0, 100712.0, 100760.0, 104709.0, 101466.0, 97920.0, 87266.0, 87616.0, 88280.0, 84774.0, 96707.0, 88580.0, 87313.0, 84492.0, 86781.0, 86351.0, 80729.0, 75793.0, 74463.0, 75950.0, 76788.0, 65579.0, 75437.0, 71474.0, 79296.0, 101998.0, 117409.0, 128546.0, 122909.0, 131550.0, 117037.0, 120398.0, 128709.0, 121210.0, 126302.0, 135984.0, 107457.0]}, {\"mode\": \"lines\", \"name\": \"Ca_3\", \"type\": \"scatter\", \"x\": [\"2011-02-01T00:00:00\", \"2011-03-01T00:00:00\", \"2011-04-01T00:00:00\", \"2011-05-01T00:00:00\", \"2011-06-01T00:00:00\", \"2011-07-01T00:00:00\", \"2011-08-01T00:00:00\", \"2011-09-01T00:00:00\", \"2011-10-01T00:00:00\", \"2011-11-01T00:00:00\", \"2011-12-01T00:00:00\", \"2012-01-01T00:00:00\", \"2012-02-01T00:00:00\", \"2012-03-01T00:00:00\", \"2012-04-01T00:00:00\", \"2012-05-01T00:00:00\", \"2012-06-01T00:00:00\", \"2012-07-01T00:00:00\", \"2012-08-01T00:00:00\", \"2012-09-01T00:00:00\", \"2012-10-01T00:00:00\", \"2012-11-01T00:00:00\", \"2012-12-01T00:00:00\", \"2013-01-01T00:00:00\", \"2013-02-01T00:00:00\", \"2013-03-01T00:00:00\", \"2013-04-01T00:00:00\", \"2013-05-01T00:00:00\", \"2013-06-01T00:00:00\", \"2013-07-01T00:00:00\", \"2013-08-01T00:00:00\", \"2013-09-01T00:00:00\", \"2013-10-01T00:00:00\", \"2013-11-01T00:00:00\", \"2013-12-01T00:00:00\", \"2014-01-01T00:00:00\", \"2014-02-01T00:00:00\", \"2014-03-01T00:00:00\", \"2014-04-01T00:00:00\", \"2014-05-01T00:00:00\", \"2014-06-01T00:00:00\", \"2014-07-01T00:00:00\", \"2014-08-01T00:00:00\", \"2014-09-01T00:00:00\", \"2014-10-01T00:00:00\", \"2014-11-01T00:00:00\", \"2014-12-01T00:00:00\", \"2015-01-01T00:00:00\", \"2015-02-01T00:00:00\", \"2015-03-01T00:00:00\", \"2015-04-01T00:00:00\", \"2015-05-01T00:00:00\", \"2015-06-01T00:00:00\", \"2015-07-01T00:00:00\", \"2015-08-01T00:00:00\", \"2015-09-01T00:00:00\", \"2015-10-01T00:00:00\", \"2015-11-01T00:00:00\", \"2015-12-01T00:00:00\", \"2016-01-01T00:00:00\", \"2016-02-01T00:00:00\", \"2016-03-01T00:00:00\", \"2016-04-01T00:00:00\"], \"y\": [13351.0, 119792.0, 127344.0, 122428.0, 120711.0, 129867.0, 139377.0, 144376.0, 142568.0, 160365.0, 145024.0, 155624.0, 160276.0, 166655.0, 182210.0, 166752.0, 171516.0, 187857.0, 189614.0, 195856.0, 184289.0, 175625.0, 155888.0, 163168.0, 167290.0, 156628.0, 178386.0, 180615.0, 186407.0, 200392.0, 205820.0, 211210.0, 206422.0, 198465.0, 180387.0, 177611.0, 184846.0, 169616.0, 192506.0, 197001.0, 197759.0, 201851.0, 210574.0, 214357.0, 202057.0, 194219.0, 184386.0, 165384.0, 182024.0, 172693.0, 195989.0, 185664.0, 192550.0, 196845.0, 203757.0, 212729.0, 197867.0, 198226.0, 170986.0, 167423.0, 189217.0, 185822.0, 196350.0, 189806.0, 140870.0]}, {\"mode\": \"lines\", \"name\": \"Ca_4\", \"type\": \"scatter\", \"x\": [\"2011-02-01T00:00:00\", \"2011-03-01T00:00:00\", \"2011-04-01T00:00:00\", \"2011-05-01T00:00:00\", \"2011-06-01T00:00:00\", \"2011-07-01T00:00:00\", \"2011-08-01T00:00:00\", \"2011-09-01T00:00:00\", \"2011-10-01T00:00:00\", \"2011-11-01T00:00:00\", \"2011-12-01T00:00:00\", \"2012-01-01T00:00:00\", \"2012-02-01T00:00:00\", \"2012-03-01T00:00:00\", \"2012-04-01T00:00:00\", \"2012-05-01T00:00:00\", \"2012-06-01T00:00:00\", \"2012-07-01T00:00:00\", \"2012-08-01T00:00:00\", \"2012-09-01T00:00:00\", \"2012-10-01T00:00:00\", \"2012-11-01T00:00:00\", \"2012-12-01T00:00:00\", \"2013-01-01T00:00:00\", \"2013-02-01T00:00:00\", \"2013-03-01T00:00:00\", \"2013-04-01T00:00:00\", \"2013-05-01T00:00:00\", \"2013-06-01T00:00:00\", \"2013-07-01T00:00:00\", \"2013-08-01T00:00:00\", \"2013-09-01T00:00:00\", \"2013-10-01T00:00:00\", \"2013-11-01T00:00:00\", \"2013-12-01T00:00:00\", \"2014-01-01T00:00:00\", \"2014-02-01T00:00:00\", \"2014-03-01T00:00:00\", \"2014-04-01T00:00:00\", \"2014-05-01T00:00:00\", \"2014-06-01T00:00:00\", \"2014-07-01T00:00:00\", \"2014-08-01T00:00:00\", \"2014-09-01T00:00:00\", \"2014-10-01T00:00:00\", \"2014-11-01T00:00:00\", \"2014-12-01T00:00:00\", \"2015-01-01T00:00:00\", \"2015-02-01T00:00:00\", \"2015-03-01T00:00:00\", \"2015-04-01T00:00:00\", \"2015-05-01T00:00:00\", \"2015-06-01T00:00:00\", \"2015-07-01T00:00:00\", \"2015-08-01T00:00:00\", \"2015-09-01T00:00:00\", \"2015-10-01T00:00:00\", \"2015-11-01T00:00:00\", \"2015-12-01T00:00:00\", \"2016-01-01T00:00:00\", \"2016-02-01T00:00:00\", \"2016-03-01T00:00:00\", \"2016-04-01T00:00:00\"], \"y\": [4788.0, 41189.0, 44902.0, 44220.0, 44562.0, 43325.0, 46989.0, 46818.0, 51608.0, 58868.0, 52992.0, 55838.0, 58738.0, 55935.0, 61246.0, 60311.0, 61675.0, 63963.0, 63118.0, 65210.0, 64044.0, 60369.0, 55944.0, 59312.0, 59762.0, 58691.0, 66969.0, 65472.0, 70362.0, 73282.0, 75030.0, 75506.0, 74758.0, 72735.0, 66161.0, 65368.0, 69147.0, 63298.0, 71510.0, 70553.0, 71038.0, 73900.0, 73526.0, 74225.0, 71481.0, 74435.0, 67750.0, 65313.0, 69658.0, 64926.0, 72824.0, 71315.0, 75237.0, 72508.0, 76812.0, 78229.0, 75816.0, 79262.0, 70434.0, 68080.0, 75868.0, 72017.0, 79721.0, 80344.0, 63247.0]}, {\"mode\": \"lines\", \"name\": \"Tx_1\", \"type\": \"scatter\", \"x\": [\"2011-02-01T00:00:00\", \"2011-03-01T00:00:00\", \"2011-04-01T00:00:00\", \"2011-05-01T00:00:00\", \"2011-06-01T00:00:00\", \"2011-07-01T00:00:00\", \"2011-08-01T00:00:00\", \"2011-09-01T00:00:00\", \"2011-10-01T00:00:00\", \"2011-11-01T00:00:00\", \"2011-12-01T00:00:00\", \"2012-01-01T00:00:00\", \"2012-02-01T00:00:00\", \"2012-03-01T00:00:00\", \"2012-04-01T00:00:00\", \"2012-05-01T00:00:00\", \"2012-06-01T00:00:00\", \"2012-07-01T00:00:00\", \"2012-08-01T00:00:00\", \"2012-09-01T00:00:00\", \"2012-10-01T00:00:00\", \"2012-11-01T00:00:00\", \"2012-12-01T00:00:00\", \"2013-01-01T00:00:00\", \"2013-02-01T00:00:00\", \"2013-03-01T00:00:00\", \"2013-04-01T00:00:00\", \"2013-05-01T00:00:00\", \"2013-06-01T00:00:00\", \"2013-07-01T00:00:00\", \"2013-08-01T00:00:00\", \"2013-09-01T00:00:00\", \"2013-10-01T00:00:00\", \"2013-11-01T00:00:00\", \"2013-12-01T00:00:00\", \"2014-01-01T00:00:00\", \"2014-02-01T00:00:00\", \"2014-03-01T00:00:00\", \"2014-04-01T00:00:00\", \"2014-05-01T00:00:00\", \"2014-06-01T00:00:00\", \"2014-07-01T00:00:00\", \"2014-08-01T00:00:00\", \"2014-09-01T00:00:00\", \"2014-10-01T00:00:00\", \"2014-11-01T00:00:00\", \"2014-12-01T00:00:00\", \"2015-01-01T00:00:00\", \"2015-02-01T00:00:00\", \"2015-03-01T00:00:00\", \"2015-04-01T00:00:00\", \"2015-05-01T00:00:00\", \"2015-06-01T00:00:00\", \"2015-07-01T00:00:00\", \"2015-08-01T00:00:00\", \"2015-09-01T00:00:00\", \"2015-10-01T00:00:00\", \"2015-11-01T00:00:00\", \"2015-12-01T00:00:00\", \"2016-01-01T00:00:00\", \"2016-02-01T00:00:00\", \"2016-03-01T00:00:00\", \"2016-04-01T00:00:00\"], \"y\": [7065.0, 62534.0, 66890.0, 66435.0, 67920.0, 69945.0, 75252.0, 79759.0, 75458.0, 79432.0, 71441.0, 77425.0, 77448.0, 77203.0, 86340.0, 90560.0, 93122.0, 94846.0, 91315.0, 95477.0, 95226.0, 88903.0, 83009.0, 90662.0, 83059.0, 87148.0, 95007.0, 88107.0, 92412.0, 98388.0, 95094.0, 101575.0, 98008.0, 93539.0, 85233.0, 88000.0, 86098.0, 84296.0, 95562.0, 96505.0, 93793.0, 94031.0, 97904.0, 100829.0, 89094.0, 90359.0, 88709.0, 88384.0, 93292.0, 89757.0, 97623.0, 93933.0, 99624.0, 99218.0, 106333.0, 103796.0, 93635.0, 96230.0, 88531.0, 89279.0, 93112.0, 93504.0, 100805.0, 101135.0, 78215.0]}, {\"mode\": \"lines\", \"name\": \"Tx_2\", \"type\": \"scatter\", \"x\": [\"2011-02-01T00:00:00\", \"2011-03-01T00:00:00\", \"2011-04-01T00:00:00\", \"2011-05-01T00:00:00\", \"2011-06-01T00:00:00\", \"2011-07-01T00:00:00\", \"2011-08-01T00:00:00\", \"2011-09-01T00:00:00\", \"2011-10-01T00:00:00\", \"2011-11-01T00:00:00\", \"2011-12-01T00:00:00\", \"2012-01-01T00:00:00\", \"2012-02-01T00:00:00\", \"2012-03-01T00:00:00\", \"2012-04-01T00:00:00\", \"2012-05-01T00:00:00\", \"2012-06-01T00:00:00\", \"2012-07-01T00:00:00\", \"2012-08-01T00:00:00\", \"2012-09-01T00:00:00\", \"2012-10-01T00:00:00\", \"2012-11-01T00:00:00\", \"2012-12-01T00:00:00\", \"2013-01-01T00:00:00\", \"2013-02-01T00:00:00\", \"2013-03-01T00:00:00\", \"2013-04-01T00:00:00\", \"2013-05-01T00:00:00\", \"2013-06-01T00:00:00\", \"2013-07-01T00:00:00\", \"2013-08-01T00:00:00\", \"2013-09-01T00:00:00\", \"2013-10-01T00:00:00\", \"2013-11-01T00:00:00\", \"2013-12-01T00:00:00\", \"2014-01-01T00:00:00\", \"2014-02-01T00:00:00\", \"2014-03-01T00:00:00\", \"2014-04-01T00:00:00\", \"2014-05-01T00:00:00\", \"2014-06-01T00:00:00\", \"2014-07-01T00:00:00\", \"2014-08-01T00:00:00\", \"2014-09-01T00:00:00\", \"2014-10-01T00:00:00\", \"2014-11-01T00:00:00\", \"2014-12-01T00:00:00\", \"2015-01-01T00:00:00\", \"2015-02-01T00:00:00\", \"2015-03-01T00:00:00\", \"2015-04-01T00:00:00\", \"2015-05-01T00:00:00\", \"2015-06-01T00:00:00\", \"2015-07-01T00:00:00\", \"2015-08-01T00:00:00\", \"2015-09-01T00:00:00\", \"2015-10-01T00:00:00\", \"2015-11-01T00:00:00\", \"2015-12-01T00:00:00\", \"2016-01-01T00:00:00\", \"2016-02-01T00:00:00\", \"2016-03-01T00:00:00\", \"2016-04-01T00:00:00\"], \"y\": [10520.0, 84900.0, 89902.0, 87683.0, 86128.0, 89914.0, 97076.0, 102564.0, 98961.0, 109783.0, 98023.0, 105169.0, 107283.0, 109956.0, 122843.0, 120606.0, 125254.0, 133109.0, 127373.0, 132341.0, 125690.0, 122138.0, 111315.0, 122314.0, 115495.0, 122130.0, 134715.0, 122099.0, 127418.0, 137755.0, 141604.0, 143238.0, 134813.0, 126207.0, 115379.0, 115455.0, 108905.0, 104107.0, 114231.0, 112459.0, 110674.0, 116126.0, 120162.0, 120484.0, 109630.0, 110196.0, 103096.0, 101710.0, 107257.0, 106243.0, 113689.0, 112170.0, 114947.0, 112594.0, 121879.0, 121388.0, 113645.0, 119608.0, 109508.0, 111871.0, 116650.0, 121410.0, 125617.0, 119588.0, 92645.0]}, {\"mode\": \"lines\", \"name\": \"Tx_3\", \"type\": \"scatter\", \"x\": [\"2011-02-01T00:00:00\", \"2011-03-01T00:00:00\", \"2011-04-01T00:00:00\", \"2011-05-01T00:00:00\", \"2011-06-01T00:00:00\", \"2011-07-01T00:00:00\", \"2011-08-01T00:00:00\", \"2011-09-01T00:00:00\", \"2011-10-01T00:00:00\", \"2011-11-01T00:00:00\", \"2011-12-01T00:00:00\", \"2012-01-01T00:00:00\", \"2012-02-01T00:00:00\", \"2012-03-01T00:00:00\", \"2012-04-01T00:00:00\", \"2012-05-01T00:00:00\", \"2012-06-01T00:00:00\", \"2012-07-01T00:00:00\", \"2012-08-01T00:00:00\", \"2012-09-01T00:00:00\", \"2012-10-01T00:00:00\", \"2012-11-01T00:00:00\", \"2012-12-01T00:00:00\", \"2013-01-01T00:00:00\", \"2013-02-01T00:00:00\", \"2013-03-01T00:00:00\", \"2013-04-01T00:00:00\", \"2013-05-01T00:00:00\", \"2013-06-01T00:00:00\", \"2013-07-01T00:00:00\", \"2013-08-01T00:00:00\", \"2013-09-01T00:00:00\", \"2013-10-01T00:00:00\", \"2013-11-01T00:00:00\", \"2013-12-01T00:00:00\", \"2014-01-01T00:00:00\", \"2014-02-01T00:00:00\", \"2014-03-01T00:00:00\", \"2014-04-01T00:00:00\", \"2014-05-01T00:00:00\", \"2014-06-01T00:00:00\", \"2014-07-01T00:00:00\", \"2014-08-01T00:00:00\", \"2014-09-01T00:00:00\", \"2014-10-01T00:00:00\", \"2014-11-01T00:00:00\", \"2014-12-01T00:00:00\", \"2015-01-01T00:00:00\", \"2015-02-01T00:00:00\", \"2015-03-01T00:00:00\", \"2015-04-01T00:00:00\", \"2015-05-01T00:00:00\", \"2015-06-01T00:00:00\", \"2015-07-01T00:00:00\", \"2015-08-01T00:00:00\", \"2015-09-01T00:00:00\", \"2015-10-01T00:00:00\", \"2015-11-01T00:00:00\", \"2015-12-01T00:00:00\", \"2016-01-01T00:00:00\", \"2016-02-01T00:00:00\", \"2016-03-01T00:00:00\", \"2016-04-01T00:00:00\"], \"y\": [8261.0, 64581.0, 68370.0, 66563.0, 67572.0, 75794.0, 83800.0, 86326.0, 81752.0, 87136.0, 79566.0, 81259.0, 80685.0, 80375.0, 89407.0, 84957.0, 90357.0, 98825.0, 95258.0, 101531.0, 97529.0, 94341.0, 83608.0, 90325.0, 87695.0, 88546.0, 94320.0, 87547.0, 92328.0, 96820.0, 99949.0, 107360.0, 102327.0, 97827.0, 90903.0, 90559.0, 91730.0, 92710.0, 107234.0, 105957.0, 102759.0, 106073.0, 110754.0, 114590.0, 102896.0, 105569.0, 98436.0, 97163.0, 100236.0, 102789.0, 113322.0, 112726.0, 120625.0, 114566.0, 119295.0, 120029.0, 110554.0, 118225.0, 105675.0, 104831.0, 112028.0, 113196.0, 117252.0, 116503.0, 93858.0]}, {\"mode\": \"lines\", \"name\": \"Wi_1\", \"type\": \"scatter\", \"x\": [\"2011-02-01T00:00:00\", \"2011-03-01T00:00:00\", \"2011-04-01T00:00:00\", \"2011-05-01T00:00:00\", \"2011-06-01T00:00:00\", \"2011-07-01T00:00:00\", \"2011-08-01T00:00:00\", \"2011-09-01T00:00:00\", \"2011-10-01T00:00:00\", \"2011-11-01T00:00:00\", \"2011-12-01T00:00:00\", \"2012-01-01T00:00:00\", \"2012-02-01T00:00:00\", \"2012-03-01T00:00:00\", \"2012-04-01T00:00:00\", \"2012-05-01T00:00:00\", \"2012-06-01T00:00:00\", \"2012-07-01T00:00:00\", \"2012-08-01T00:00:00\", \"2012-09-01T00:00:00\", \"2012-10-01T00:00:00\", \"2012-11-01T00:00:00\", \"2012-12-01T00:00:00\", \"2013-01-01T00:00:00\", \"2013-02-01T00:00:00\", \"2013-03-01T00:00:00\", \"2013-04-01T00:00:00\", \"2013-05-01T00:00:00\", \"2013-06-01T00:00:00\", \"2013-07-01T00:00:00\", \"2013-08-01T00:00:00\", \"2013-09-01T00:00:00\", \"2013-10-01T00:00:00\", \"2013-11-01T00:00:00\", \"2013-12-01T00:00:00\", \"2014-01-01T00:00:00\", \"2014-02-01T00:00:00\", \"2014-03-01T00:00:00\", \"2014-04-01T00:00:00\", \"2014-05-01T00:00:00\", \"2014-06-01T00:00:00\", \"2014-07-01T00:00:00\", \"2014-08-01T00:00:00\", \"2014-09-01T00:00:00\", \"2014-10-01T00:00:00\", \"2014-11-01T00:00:00\", \"2014-12-01T00:00:00\", \"2015-01-01T00:00:00\", \"2015-02-01T00:00:00\", \"2015-03-01T00:00:00\", \"2015-04-01T00:00:00\", \"2015-05-01T00:00:00\", \"2015-06-01T00:00:00\", \"2015-07-01T00:00:00\", \"2015-08-01T00:00:00\", \"2015-09-01T00:00:00\", \"2015-10-01T00:00:00\", \"2015-11-01T00:00:00\", \"2015-12-01T00:00:00\", \"2016-01-01T00:00:00\", \"2016-02-01T00:00:00\", \"2016-03-01T00:00:00\", \"2016-04-01T00:00:00\"], \"y\": [6460.0, 46592.0, 49747.0, 46898.0, 45269.0, 46776.0, 49447.0, 46683.0, 47537.0, 52114.0, 48654.0, 53844.0, 51901.0, 52938.0, 57633.0, 54172.0, 56463.0, 62723.0, 58506.0, 53950.0, 53807.0, 49720.0, 83180.0, 90395.0, 82052.0, 77925.0, 89197.0, 77002.0, 82535.0, 86929.0, 88702.0, 90422.0, 86316.0, 84700.0, 84759.0, 90555.0, 87672.0, 83734.0, 94220.0, 93684.0, 96740.0, 98336.0, 102475.0, 104881.0, 95870.0, 99725.0, 97248.0, 99234.0, 107149.0, 100541.0, 105812.0, 100658.0, 108581.0, 105400.0, 110997.0, 109018.0, 102060.0, 111776.0, 102489.0, 110443.0, 113934.0, 109622.0, 114348.0, 118201.0, 90155.0]}, {\"mode\": \"lines\", \"name\": \"Wi_2\", \"type\": \"scatter\", \"x\": [\"2011-02-01T00:00:00\", \"2011-03-01T00:00:00\", \"2011-04-01T00:00:00\", \"2011-05-01T00:00:00\", \"2011-06-01T00:00:00\", \"2011-07-01T00:00:00\", \"2011-08-01T00:00:00\", \"2011-09-01T00:00:00\", \"2011-10-01T00:00:00\", \"2011-11-01T00:00:00\", \"2011-12-01T00:00:00\", \"2012-01-01T00:00:00\", \"2012-02-01T00:00:00\", \"2012-03-01T00:00:00\", \"2012-04-01T00:00:00\", \"2012-05-01T00:00:00\", \"2012-06-01T00:00:00\", \"2012-07-01T00:00:00\", \"2012-08-01T00:00:00\", \"2012-09-01T00:00:00\", \"2012-10-01T00:00:00\", \"2012-11-01T00:00:00\", \"2012-12-01T00:00:00\", \"2013-01-01T00:00:00\", \"2013-02-01T00:00:00\", \"2013-03-01T00:00:00\", \"2013-04-01T00:00:00\", \"2013-05-01T00:00:00\", \"2013-06-01T00:00:00\", \"2013-07-01T00:00:00\", \"2013-08-01T00:00:00\", \"2013-09-01T00:00:00\", \"2013-10-01T00:00:00\", \"2013-11-01T00:00:00\", \"2013-12-01T00:00:00\", \"2014-01-01T00:00:00\", \"2014-02-01T00:00:00\", \"2014-03-01T00:00:00\", \"2014-04-01T00:00:00\", \"2014-05-01T00:00:00\", \"2014-06-01T00:00:00\", \"2014-07-01T00:00:00\", \"2014-08-01T00:00:00\", \"2014-09-01T00:00:00\", \"2014-10-01T00:00:00\", \"2014-11-01T00:00:00\", \"2014-12-01T00:00:00\", \"2015-01-01T00:00:00\", \"2015-02-01T00:00:00\", \"2015-03-01T00:00:00\", \"2015-04-01T00:00:00\", \"2015-05-01T00:00:00\", \"2015-06-01T00:00:00\", \"2015-07-01T00:00:00\", \"2015-08-01T00:00:00\", \"2015-09-01T00:00:00\", \"2015-10-01T00:00:00\", \"2015-11-01T00:00:00\", \"2015-12-01T00:00:00\", \"2016-01-01T00:00:00\", \"2016-02-01T00:00:00\", \"2016-03-01T00:00:00\", \"2016-04-01T00:00:00\"], \"y\": [6196.0, 51708.0, 51113.0, 47651.0, 45487.0, 50737.0, 54426.0, 51072.0, 49721.0, 52652.0, 49558.0, 55933.0, 57600.0, 58404.0, 56815.0, 49248.0, 61901.0, 97162.0, 103202.0, 110465.0, 109152.0, 105019.0, 101298.0, 108465.0, 114294.0, 118594.0, 121093.0, 110150.0, 110700.0, 111708.0, 113941.0, 120573.0, 123111.0, 123861.0, 117153.0, 116312.0, 118130.0, 122648.0, 125690.0, 121696.0, 117516.0, 118823.0, 124224.0, 131948.0, 119738.0, 127350.0, 118361.0, 114286.0, 124938.0, 119831.0, 119331.0, 117528.0, 122952.0, 121590.0, 128387.0, 132135.0, 134317.0, 139328.0, 120937.0, 126354.0, 140948.0, 154084.0, 159236.0, 162908.0, 126299.0]}, {\"mode\": \"lines\", \"name\": \"Wi_3\", \"type\": \"scatter\", \"x\": [\"2011-02-01T00:00:00\", \"2011-03-01T00:00:00\", \"2011-04-01T00:00:00\", \"2011-05-01T00:00:00\", \"2011-06-01T00:00:00\", \"2011-07-01T00:00:00\", \"2011-08-01T00:00:00\", \"2011-09-01T00:00:00\", \"2011-10-01T00:00:00\", \"2011-11-01T00:00:00\", \"2011-12-01T00:00:00\", \"2012-01-01T00:00:00\", \"2012-02-01T00:00:00\", \"2012-03-01T00:00:00\", \"2012-04-01T00:00:00\", \"2012-05-01T00:00:00\", \"2012-06-01T00:00:00\", \"2012-07-01T00:00:00\", \"2012-08-01T00:00:00\", \"2012-09-01T00:00:00\", \"2012-10-01T00:00:00\", \"2012-11-01T00:00:00\", \"2012-12-01T00:00:00\", \"2013-01-01T00:00:00\", \"2013-02-01T00:00:00\", \"2013-03-01T00:00:00\", \"2013-04-01T00:00:00\", \"2013-05-01T00:00:00\", \"2013-06-01T00:00:00\", \"2013-07-01T00:00:00\", \"2013-08-01T00:00:00\", \"2013-09-01T00:00:00\", \"2013-10-01T00:00:00\", \"2013-11-01T00:00:00\", \"2013-12-01T00:00:00\", \"2014-01-01T00:00:00\", \"2014-02-01T00:00:00\", \"2014-03-01T00:00:00\", \"2014-04-01T00:00:00\", \"2014-05-01T00:00:00\", \"2014-06-01T00:00:00\", \"2014-07-01T00:00:00\", \"2014-08-01T00:00:00\", \"2014-09-01T00:00:00\", \"2014-10-01T00:00:00\", \"2014-11-01T00:00:00\", \"2014-12-01T00:00:00\", \"2015-01-01T00:00:00\", \"2015-02-01T00:00:00\", \"2015-03-01T00:00:00\", \"2015-04-01T00:00:00\", \"2015-05-01T00:00:00\", \"2015-06-01T00:00:00\", \"2015-07-01T00:00:00\", \"2015-08-01T00:00:00\", \"2015-09-01T00:00:00\", \"2015-10-01T00:00:00\", \"2015-11-01T00:00:00\", \"2015-12-01T00:00:00\", \"2016-01-01T00:00:00\", \"2016-02-01T00:00:00\", \"2016-03-01T00:00:00\", \"2016-04-01T00:00:00\"], \"y\": [11553.0, 97959.0, 97867.0, 91479.0, 85620.0, 87266.0, 97636.0, 97854.0, 98960.0, 110793.0, 104509.0, 113853.0, 115079.0, 113624.0, 123837.0, 114318.0, 128051.0, 135098.0, 132401.0, 122110.0, 120872.0, 113113.0, 106747.0, 112450.0, 107245.0, 111422.0, 120423.0, 95579.0, 90020.0, 93027.0, 97279.0, 102945.0, 99563.0, 96600.0, 93623.0, 93583.0, 98345.0, 90935.0, 97099.0, 85793.0, 84043.0, 83161.0, 85054.0, 90475.0, 84995.0, 87720.0, 85799.0, 80037.0, 91958.0, 90993.0, 93911.0, 93743.0, 96570.0, 94309.0, 104305.0, 102303.0, 103171.0, 112245.0, 104789.0, 103901.0, 113222.0, 115407.0, 119558.0, 120175.0, 94183.0]}],\n",
              "                        {\"height\": 600, \"template\": {\"data\": {\"bar\": [{\"error_x\": {\"color\": \"#2a3f5f\"}, \"error_y\": {\"color\": \"#2a3f5f\"}, \"marker\": {\"line\": {\"color\": \"#E5ECF6\", \"width\": 0.5}}, \"type\": \"bar\"}], \"barpolar\": [{\"marker\": {\"line\": {\"color\": \"#E5ECF6\", \"width\": 0.5}}, \"type\": \"barpolar\"}], \"carpet\": [{\"aaxis\": {\"endlinecolor\": \"#2a3f5f\", \"gridcolor\": \"white\", \"linecolor\": \"white\", \"minorgridcolor\": \"white\", \"startlinecolor\": \"#2a3f5f\"}, \"baxis\": {\"endlinecolor\": \"#2a3f5f\", \"gridcolor\": \"white\", \"linecolor\": \"white\", \"minorgridcolor\": \"white\", \"startlinecolor\": \"#2a3f5f\"}, \"type\": \"carpet\"}], \"choropleth\": [{\"colorbar\": {\"outlinewidth\": 0, \"ticks\": \"\"}, \"type\": \"choropleth\"}], \"contour\": [{\"colorbar\": {\"outlinewidth\": 0, \"ticks\": \"\"}, \"colorscale\": [[0.0, \"#0d0887\"], [0.1111111111111111, \"#46039f\"], [0.2222222222222222, \"#7201a8\"], [0.3333333333333333, \"#9c179e\"], [0.4444444444444444, \"#bd3786\"], [0.5555555555555556, \"#d8576b\"], [0.6666666666666666, \"#ed7953\"], [0.7777777777777778, \"#fb9f3a\"], [0.8888888888888888, \"#fdca26\"], [1.0, \"#f0f921\"]], \"type\": \"contour\"}], \"contourcarpet\": [{\"colorbar\": {\"outlinewidth\": 0, \"ticks\": \"\"}, \"type\": \"contourcarpet\"}], \"heatmap\": [{\"colorbar\": {\"outlinewidth\": 0, \"ticks\": \"\"}, \"colorscale\": [[0.0, \"#0d0887\"], [0.1111111111111111, \"#46039f\"], [0.2222222222222222, \"#7201a8\"], [0.3333333333333333, \"#9c179e\"], [0.4444444444444444, \"#bd3786\"], [0.5555555555555556, \"#d8576b\"], [0.6666666666666666, \"#ed7953\"], [0.7777777777777778, \"#fb9f3a\"], [0.8888888888888888, \"#fdca26\"], [1.0, \"#f0f921\"]], \"type\": \"heatmap\"}], \"heatmapgl\": [{\"colorbar\": {\"outlinewidth\": 0, \"ticks\": \"\"}, \"colorscale\": [[0.0, \"#0d0887\"], [0.1111111111111111, \"#46039f\"], [0.2222222222222222, \"#7201a8\"], [0.3333333333333333, \"#9c179e\"], [0.4444444444444444, \"#bd3786\"], [0.5555555555555556, \"#d8576b\"], [0.6666666666666666, \"#ed7953\"], [0.7777777777777778, \"#fb9f3a\"], [0.8888888888888888, \"#fdca26\"], [1.0, \"#f0f921\"]], \"type\": \"heatmapgl\"}], \"histogram\": [{\"marker\": {\"colorbar\": {\"outlinewidth\": 0, \"ticks\": \"\"}}, \"type\": \"histogram\"}], \"histogram2d\": [{\"colorbar\": {\"outlinewidth\": 0, \"ticks\": \"\"}, \"colorscale\": [[0.0, \"#0d0887\"], [0.1111111111111111, \"#46039f\"], [0.2222222222222222, \"#7201a8\"], [0.3333333333333333, \"#9c179e\"], [0.4444444444444444, \"#bd3786\"], [0.5555555555555556, \"#d8576b\"], [0.6666666666666666, \"#ed7953\"], [0.7777777777777778, \"#fb9f3a\"], [0.8888888888888888, \"#fdca26\"], [1.0, \"#f0f921\"]], \"type\": \"histogram2d\"}], \"histogram2dcontour\": [{\"colorbar\": {\"outlinewidth\": 0, \"ticks\": \"\"}, \"colorscale\": [[0.0, \"#0d0887\"], [0.1111111111111111, \"#46039f\"], [0.2222222222222222, \"#7201a8\"], [0.3333333333333333, \"#9c179e\"], [0.4444444444444444, \"#bd3786\"], [0.5555555555555556, \"#d8576b\"], [0.6666666666666666, \"#ed7953\"], [0.7777777777777778, \"#fb9f3a\"], [0.8888888888888888, \"#fdca26\"], [1.0, \"#f0f921\"]], \"type\": \"histogram2dcontour\"}], \"mesh3d\": [{\"colorbar\": {\"outlinewidth\": 0, \"ticks\": \"\"}, \"type\": \"mesh3d\"}], \"parcoords\": [{\"line\": {\"colorbar\": {\"outlinewidth\": 0, \"ticks\": \"\"}}, \"type\": \"parcoords\"}], \"pie\": [{\"automargin\": true, \"type\": \"pie\"}], \"scatter\": [{\"marker\": {\"colorbar\": {\"outlinewidth\": 0, \"ticks\": \"\"}}, \"type\": \"scatter\"}], \"scatter3d\": [{\"line\": {\"colorbar\": {\"outlinewidth\": 0, \"ticks\": \"\"}}, \"marker\": {\"colorbar\": {\"outlinewidth\": 0, \"ticks\": \"\"}}, \"type\": \"scatter3d\"}], \"scattercarpet\": [{\"marker\": {\"colorbar\": {\"outlinewidth\": 0, \"ticks\": \"\"}}, \"type\": \"scattercarpet\"}], \"scattergeo\": [{\"marker\": {\"colorbar\": {\"outlinewidth\": 0, \"ticks\": \"\"}}, \"type\": \"scattergeo\"}], \"scattergl\": [{\"marker\": {\"colorbar\": {\"outlinewidth\": 0, \"ticks\": \"\"}}, \"type\": \"scattergl\"}], \"scattermapbox\": [{\"marker\": {\"colorbar\": {\"outlinewidth\": 0, \"ticks\": \"\"}}, \"type\": \"scattermapbox\"}], \"scatterpolar\": [{\"marker\": {\"colorbar\": {\"outlinewidth\": 0, \"ticks\": \"\"}}, \"type\": \"scatterpolar\"}], \"scatterpolargl\": [{\"marker\": {\"colorbar\": {\"outlinewidth\": 0, \"ticks\": \"\"}}, \"type\": \"scatterpolargl\"}], \"scatterternary\": [{\"marker\": {\"colorbar\": {\"outlinewidth\": 0, \"ticks\": \"\"}}, \"type\": \"scatterternary\"}], \"surface\": [{\"colorbar\": {\"outlinewidth\": 0, \"ticks\": \"\"}, \"colorscale\": [[0.0, \"#0d0887\"], [0.1111111111111111, \"#46039f\"], [0.2222222222222222, \"#7201a8\"], [0.3333333333333333, \"#9c179e\"], [0.4444444444444444, \"#bd3786\"], [0.5555555555555556, \"#d8576b\"], [0.6666666666666666, \"#ed7953\"], [0.7777777777777778, \"#fb9f3a\"], [0.8888888888888888, \"#fdca26\"], [1.0, \"#f0f921\"]], \"type\": \"surface\"}], \"table\": [{\"cells\": {\"fill\": {\"color\": \"#EBF0F8\"}, \"line\": {\"color\": \"white\"}}, \"header\": {\"fill\": {\"color\": \"#C8D4E3\"}, \"line\": {\"color\": \"white\"}}, \"type\": \"table\"}]}, \"layout\": {\"annotationdefaults\": {\"arrowcolor\": \"#2a3f5f\", \"arrowhead\": 0, \"arrowwidth\": 1}, \"coloraxis\": {\"colorbar\": {\"outlinewidth\": 0, \"ticks\": \"\"}}, \"colorscale\": {\"diverging\": [[0, \"#8e0152\"], [0.1, \"#c51b7d\"], [0.2, \"#de77ae\"], [0.3, \"#f1b6da\"], [0.4, \"#fde0ef\"], [0.5, \"#f7f7f7\"], [0.6, \"#e6f5d0\"], [0.7, \"#b8e186\"], [0.8, \"#7fbc41\"], [0.9, \"#4d9221\"], [1, \"#276419\"]], \"sequential\": [[0.0, \"#0d0887\"], [0.1111111111111111, \"#46039f\"], [0.2222222222222222, \"#7201a8\"], [0.3333333333333333, \"#9c179e\"], [0.4444444444444444, \"#bd3786\"], [0.5555555555555556, \"#d8576b\"], [0.6666666666666666, \"#ed7953\"], [0.7777777777777778, \"#fb9f3a\"], [0.8888888888888888, \"#fdca26\"], [1.0, \"#f0f921\"]], \"sequentialminus\": [[0.0, \"#0d0887\"], [0.1111111111111111, \"#46039f\"], [0.2222222222222222, \"#7201a8\"], [0.3333333333333333, \"#9c179e\"], [0.4444444444444444, \"#bd3786\"], [0.5555555555555556, \"#d8576b\"], [0.6666666666666666, \"#ed7953\"], [0.7777777777777778, \"#fb9f3a\"], [0.8888888888888888, \"#fdca26\"], [1.0, \"#f0f921\"]]}, \"colorway\": [\"#636efa\", \"#EF553B\", \"#00cc96\", \"#ab63fa\", \"#FFA15A\", \"#19d3f3\", \"#FF6692\", \"#B6E880\", \"#FF97FF\", \"#FECB52\"], \"font\": {\"color\": \"#2a3f5f\"}, \"geo\": {\"bgcolor\": \"white\", \"lakecolor\": \"white\", \"landcolor\": \"#E5ECF6\", \"showlakes\": true, \"showland\": true, \"subunitcolor\": \"white\"}, \"hoverlabel\": {\"align\": \"left\"}, \"hovermode\": \"closest\", \"mapbox\": {\"style\": \"light\"}, \"paper_bgcolor\": \"white\", \"plot_bgcolor\": \"#E5ECF6\", \"polar\": {\"angularaxis\": {\"gridcolor\": \"white\", \"linecolor\": \"white\", \"ticks\": \"\"}, \"bgcolor\": \"#E5ECF6\", \"radialaxis\": {\"gridcolor\": \"white\", \"linecolor\": \"white\", \"ticks\": \"\"}}, \"scene\": {\"xaxis\": {\"backgroundcolor\": \"#E5ECF6\", \"gridcolor\": \"white\", \"gridwidth\": 2, \"linecolor\": \"white\", \"showbackground\": true, \"ticks\": \"\", \"zerolinecolor\": \"white\"}, \"yaxis\": {\"backgroundcolor\": \"#E5ECF6\", \"gridcolor\": \"white\", \"gridwidth\": 2, \"linecolor\": \"white\", \"showbackground\": true, \"ticks\": \"\", \"zerolinecolor\": \"white\"}, \"zaxis\": {\"backgroundcolor\": \"#E5ECF6\", \"gridcolor\": \"white\", \"gridwidth\": 2, \"linecolor\": \"white\", \"showbackground\": true, \"ticks\": \"\", \"zerolinecolor\": \"white\"}}, \"shapedefaults\": {\"line\": {\"color\": \"#2a3f5f\"}}, \"ternary\": {\"aaxis\": {\"gridcolor\": \"white\", \"linecolor\": \"white\", \"ticks\": \"\"}, \"baxis\": {\"gridcolor\": \"white\", \"linecolor\": \"white\", \"ticks\": \"\"}, \"bgcolor\": \"#E5ECF6\", \"caxis\": {\"gridcolor\": \"white\", \"linecolor\": \"white\", \"ticks\": \"\"}}, \"title\": {\"x\": 0.05}, \"xaxis\": {\"automargin\": true, \"gridcolor\": \"white\", \"linecolor\": \"white\", \"ticks\": \"\", \"title\": {\"standoff\": 15}, \"zerolinecolor\": \"white\", \"zerolinewidth\": 2}, \"yaxis\": {\"automargin\": true, \"gridcolor\": \"white\", \"linecolor\": \"white\", \"ticks\": \"\", \"title\": {\"standoff\": 15}, \"zerolinecolor\": \"white\", \"zerolinewidth\": 2}}}, \"title\": {\"text\": \"Monthly Sales per State\", \"x\": 0.5}, \"width\": 1000, \"xaxis\": {\"title\": {\"text\": \"Year\"}}, \"yaxis\": {\"title\": {\"text\": \"Total Sales\"}}},\n",
              "                        {\"responsive\": true}\n",
              "                    ).then(function(){\n",
              "                            \n",
              "var gd = document.getElementById('64db4db0-aa12-4078-9c81-9a8de77f4497');\n",
              "var x = new MutationObserver(function (mutations, observer) {{\n",
              "        var display = window.getComputedStyle(gd).display;\n",
              "        if (!display || display === 'none') {{\n",
              "            console.log([gd, 'removed!']);\n",
              "            Plotly.purge(gd);\n",
              "            observer.disconnect();\n",
              "        }}\n",
              "}});\n",
              "\n",
              "// Listen for the removal of the full notebook cells\n",
              "var notebookContainer = gd.closest('#notebook-container');\n",
              "if (notebookContainer) {{\n",
              "    x.observe(notebookContainer, {childList: true});\n",
              "}}\n",
              "\n",
              "// Listen for the clearing of the current output cell\n",
              "var outputEl = gd.closest('.output');\n",
              "if (outputEl) {{\n",
              "    x.observe(outputEl, {childList: true});\n",
              "}}\n",
              "\n",
              "                        })\n",
              "                };\n",
              "                \n",
              "            </script>\n",
              "        </div>\n",
              "</body>\n",
              "</html>"
            ]
          },
          "metadata": {
            "tags": []
          }
        }
      ]
    },
    {
      "cell_type": "markdown",
      "metadata": {
        "id": "atbdyVeVJfUX"
      },
      "source": [
        "**Observation:**\r\n",
        "* We previoulsy observed that California had the most sales than Texas and Wisconsin, but itseems Store 3 in California ranks first for most sales also Store in California ranks last for the least number of sales.\r\n",
        "* The sales on Store 1 in California differs from sales on other stores in all States by a great margin."
      ]
    },
    {
      "cell_type": "markdown",
      "metadata": {
        "id": "IWcVFGJhVo5I"
      },
      "source": [
        "# **Sell Prices - EDA**"
      ]
    },
    {
      "cell_type": "code",
      "metadata": {
        "id": "wZRMSnWjilLn"
      },
      "source": [
        "sell_price = pd.read_csv(\"sell_prices.csv\")"
      ],
      "execution_count": null,
      "outputs": []
    },
    {
      "cell_type": "code",
      "metadata": {
        "colab": {
          "base_uri": "https://localhost:8080/",
          "height": 106
        },
        "id": "Gorz_ZaEVqtM",
        "outputId": "7e84e976-cfa3-4b6d-f45b-610f629b8b47"
      },
      "source": [
        "sell_price.head(2)"
      ],
      "execution_count": null,
      "outputs": [
        {
          "output_type": "execute_result",
          "data": {
            "text/html": [
              "<div>\n",
              "<style scoped>\n",
              "    .dataframe tbody tr th:only-of-type {\n",
              "        vertical-align: middle;\n",
              "    }\n",
              "\n",
              "    .dataframe tbody tr th {\n",
              "        vertical-align: top;\n",
              "    }\n",
              "\n",
              "    .dataframe thead th {\n",
              "        text-align: right;\n",
              "    }\n",
              "</style>\n",
              "<table border=\"1\" class=\"dataframe\">\n",
              "  <thead>\n",
              "    <tr style=\"text-align: right;\">\n",
              "      <th></th>\n",
              "      <th>store_id</th>\n",
              "      <th>item_id</th>\n",
              "      <th>wm_yr_wk</th>\n",
              "      <th>sell_price</th>\n",
              "    </tr>\n",
              "  </thead>\n",
              "  <tbody>\n",
              "    <tr>\n",
              "      <th>0</th>\n",
              "      <td>CA_1</td>\n",
              "      <td>HOBBIES_1_001</td>\n",
              "      <td>11325</td>\n",
              "      <td>9.58</td>\n",
              "    </tr>\n",
              "    <tr>\n",
              "      <th>1</th>\n",
              "      <td>CA_1</td>\n",
              "      <td>HOBBIES_1_001</td>\n",
              "      <td>11326</td>\n",
              "      <td>9.58</td>\n",
              "    </tr>\n",
              "  </tbody>\n",
              "</table>\n",
              "</div>"
            ],
            "text/plain": [
              "  store_id        item_id  wm_yr_wk  sell_price\n",
              "0     CA_1  HOBBIES_1_001     11325        9.58\n",
              "1     CA_1  HOBBIES_1_001     11326        9.58"
            ]
          },
          "metadata": {
            "tags": []
          },
          "execution_count": 51
        }
      ]
    },
    {
      "cell_type": "code",
      "metadata": {
        "colab": {
          "base_uri": "https://localhost:8080/"
        },
        "id": "D8TCQk2dVsOQ",
        "outputId": "15f7ed69-7548-454c-810b-8fc2679b4674"
      },
      "source": [
        "print(f\" There are {sell_price.isna().sum().sum()} missing/NaN values in sell_price dataframe\")"
      ],
      "execution_count": null,
      "outputs": [
        {
          "output_type": "stream",
          "text": [
            " There are 0 missing/NaN values in sell_price dataframe\n"
          ],
          "name": "stdout"
        }
      ]
    },
    {
      "cell_type": "code",
      "metadata": {
        "colab": {
          "base_uri": "https://localhost:8080/",
          "height": 542
        },
        "id": "07Oydo0cW-Pe",
        "outputId": "2b44fd5d-ff0d-42f8-fba8-d9ce54663013"
      },
      "source": [
        "a = pd.date_range(start='2011-01-29', end=\"2016-06-19\", freq='W' )\r\n",
        "temp = sell_price.groupby('wm_yr_wk').sum().reset_index()\r\n",
        "px.line(x = a, y = temp['sell_price'])"
      ],
      "execution_count": 13,
      "outputs": [
        {
          "output_type": "display_data",
          "data": {
            "text/html": [
              "<html>\n",
              "<head><meta charset=\"utf-8\" /></head>\n",
              "<body>\n",
              "    <div>\n",
              "            <script src=\"https://cdnjs.cloudflare.com/ajax/libs/mathjax/2.7.5/MathJax.js?config=TeX-AMS-MML_SVG\"></script><script type=\"text/javascript\">if (window.MathJax) {MathJax.Hub.Config({SVG: {font: \"STIX-Web\"}});}</script>\n",
              "                <script type=\"text/javascript\">window.PlotlyConfig = {MathJaxConfig: 'local'};</script>\n",
              "        <script src=\"https://cdn.plot.ly/plotly-latest.min.js\"></script>    \n",
              "            <div id=\"b85c12c3-cbc1-4e79-8362-171578bd59dd\" class=\"plotly-graph-div\" style=\"height:525px; width:100%;\"></div>\n",
              "            <script type=\"text/javascript\">\n",
              "                \n",
              "                    window.PLOTLYENV=window.PLOTLYENV || {};\n",
              "                    \n",
              "                if (document.getElementById(\"b85c12c3-cbc1-4e79-8362-171578bd59dd\")) {\n",
              "                    Plotly.newPlot(\n",
              "                        'b85c12c3-cbc1-4e79-8362-171578bd59dd',\n",
              "                        [{\"hoverlabel\": {\"namelength\": 0}, \"hovertemplate\": \"x=%{x}<br>y=%{y}\", \"legendgroup\": \"\", \"line\": {\"color\": \"#636efa\", \"dash\": \"solid\"}, \"mode\": \"lines\", \"name\": \"\", \"showlegend\": false, \"type\": \"scatter\", \"x\": [\"2011-01-30T00:00:00\", \"2011-02-06T00:00:00\", \"2011-02-13T00:00:00\", \"2011-02-20T00:00:00\", \"2011-02-27T00:00:00\", \"2011-03-06T00:00:00\", \"2011-03-13T00:00:00\", \"2011-03-20T00:00:00\", \"2011-03-27T00:00:00\", \"2011-04-03T00:00:00\", \"2011-04-10T00:00:00\", \"2011-04-17T00:00:00\", \"2011-04-24T00:00:00\", \"2011-05-01T00:00:00\", \"2011-05-08T00:00:00\", \"2011-05-15T00:00:00\", \"2011-05-22T00:00:00\", \"2011-05-29T00:00:00\", \"2011-06-05T00:00:00\", \"2011-06-12T00:00:00\", \"2011-06-19T00:00:00\", \"2011-06-26T00:00:00\", \"2011-07-03T00:00:00\", \"2011-07-10T00:00:00\", \"2011-07-17T00:00:00\", \"2011-07-24T00:00:00\", \"2011-07-31T00:00:00\", \"2011-08-07T00:00:00\", \"2011-08-14T00:00:00\", \"2011-08-21T00:00:00\", \"2011-08-28T00:00:00\", \"2011-09-04T00:00:00\", \"2011-09-11T00:00:00\", \"2011-09-18T00:00:00\", \"2011-09-25T00:00:00\", \"2011-10-02T00:00:00\", \"2011-10-09T00:00:00\", \"2011-10-16T00:00:00\", \"2011-10-23T00:00:00\", \"2011-10-30T00:00:00\", \"2011-11-06T00:00:00\", \"2011-11-13T00:00:00\", \"2011-11-20T00:00:00\", \"2011-11-27T00:00:00\", \"2011-12-04T00:00:00\", \"2011-12-11T00:00:00\", \"2011-12-18T00:00:00\", \"2011-12-25T00:00:00\", \"2012-01-01T00:00:00\", \"2012-01-08T00:00:00\", \"2012-01-15T00:00:00\", \"2012-01-22T00:00:00\", \"2012-01-29T00:00:00\", \"2012-02-05T00:00:00\", \"2012-02-12T00:00:00\", \"2012-02-19T00:00:00\", \"2012-02-26T00:00:00\", \"2012-03-04T00:00:00\", \"2012-03-11T00:00:00\", \"2012-03-18T00:00:00\", \"2012-03-25T00:00:00\", \"2012-04-01T00:00:00\", \"2012-04-08T00:00:00\", \"2012-04-15T00:00:00\", \"2012-04-22T00:00:00\", \"2012-04-29T00:00:00\", \"2012-05-06T00:00:00\", \"2012-05-13T00:00:00\", \"2012-05-20T00:00:00\", \"2012-05-27T00:00:00\", \"2012-06-03T00:00:00\", \"2012-06-10T00:00:00\", \"2012-06-17T00:00:00\", \"2012-06-24T00:00:00\", \"2012-07-01T00:00:00\", \"2012-07-08T00:00:00\", \"2012-07-15T00:00:00\", \"2012-07-22T00:00:00\", \"2012-07-29T00:00:00\", \"2012-08-05T00:00:00\", \"2012-08-12T00:00:00\", \"2012-08-19T00:00:00\", \"2012-08-26T00:00:00\", \"2012-09-02T00:00:00\", \"2012-09-09T00:00:00\", \"2012-09-16T00:00:00\", \"2012-09-23T00:00:00\", \"2012-09-30T00:00:00\", \"2012-10-07T00:00:00\", \"2012-10-14T00:00:00\", \"2012-10-21T00:00:00\", \"2012-10-28T00:00:00\", \"2012-11-04T00:00:00\", \"2012-11-11T00:00:00\", \"2012-11-18T00:00:00\", \"2012-11-25T00:00:00\", \"2012-12-02T00:00:00\", \"2012-12-09T00:00:00\", \"2012-12-16T00:00:00\", \"2012-12-23T00:00:00\", \"2012-12-30T00:00:00\", \"2013-01-06T00:00:00\", \"2013-01-13T00:00:00\", \"2013-01-20T00:00:00\", \"2013-01-27T00:00:00\", \"2013-02-03T00:00:00\", \"2013-02-10T00:00:00\", \"2013-02-17T00:00:00\", \"2013-02-24T00:00:00\", \"2013-03-03T00:00:00\", \"2013-03-10T00:00:00\", \"2013-03-17T00:00:00\", \"2013-03-24T00:00:00\", \"2013-03-31T00:00:00\", \"2013-04-07T00:00:00\", \"2013-04-14T00:00:00\", \"2013-04-21T00:00:00\", \"2013-04-28T00:00:00\", \"2013-05-05T00:00:00\", \"2013-05-12T00:00:00\", \"2013-05-19T00:00:00\", \"2013-05-26T00:00:00\", \"2013-06-02T00:00:00\", \"2013-06-09T00:00:00\", \"2013-06-16T00:00:00\", \"2013-06-23T00:00:00\", \"2013-06-30T00:00:00\", \"2013-07-07T00:00:00\", \"2013-07-14T00:00:00\", \"2013-07-21T00:00:00\", \"2013-07-28T00:00:00\", \"2013-08-04T00:00:00\", \"2013-08-11T00:00:00\", \"2013-08-18T00:00:00\", \"2013-08-25T00:00:00\", \"2013-09-01T00:00:00\", \"2013-09-08T00:00:00\", \"2013-09-15T00:00:00\", \"2013-09-22T00:00:00\", \"2013-09-29T00:00:00\", \"2013-10-06T00:00:00\", \"2013-10-13T00:00:00\", \"2013-10-20T00:00:00\", \"2013-10-27T00:00:00\", \"2013-11-03T00:00:00\", \"2013-11-10T00:00:00\", \"2013-11-17T00:00:00\", \"2013-11-24T00:00:00\", \"2013-12-01T00:00:00\", \"2013-12-08T00:00:00\", \"2013-12-15T00:00:00\", \"2013-12-22T00:00:00\", \"2013-12-29T00:00:00\", \"2014-01-05T00:00:00\", \"2014-01-12T00:00:00\", \"2014-01-19T00:00:00\", \"2014-01-26T00:00:00\", \"2014-02-02T00:00:00\", \"2014-02-09T00:00:00\", \"2014-02-16T00:00:00\", \"2014-02-23T00:00:00\", \"2014-03-02T00:00:00\", \"2014-03-09T00:00:00\", \"2014-03-16T00:00:00\", \"2014-03-23T00:00:00\", \"2014-03-30T00:00:00\", \"2014-04-06T00:00:00\", \"2014-04-13T00:00:00\", \"2014-04-20T00:00:00\", \"2014-04-27T00:00:00\", \"2014-05-04T00:00:00\", \"2014-05-11T00:00:00\", \"2014-05-18T00:00:00\", \"2014-05-25T00:00:00\", \"2014-06-01T00:00:00\", \"2014-06-08T00:00:00\", \"2014-06-15T00:00:00\", \"2014-06-22T00:00:00\", \"2014-06-29T00:00:00\", \"2014-07-06T00:00:00\", \"2014-07-13T00:00:00\", \"2014-07-20T00:00:00\", \"2014-07-27T00:00:00\", \"2014-08-03T00:00:00\", \"2014-08-10T00:00:00\", \"2014-08-17T00:00:00\", \"2014-08-24T00:00:00\", \"2014-08-31T00:00:00\", \"2014-09-07T00:00:00\", \"2014-09-14T00:00:00\", \"2014-09-21T00:00:00\", \"2014-09-28T00:00:00\", \"2014-10-05T00:00:00\", \"2014-10-12T00:00:00\", \"2014-10-19T00:00:00\", \"2014-10-26T00:00:00\", \"2014-11-02T00:00:00\", \"2014-11-09T00:00:00\", \"2014-11-16T00:00:00\", \"2014-11-23T00:00:00\", \"2014-11-30T00:00:00\", \"2014-12-07T00:00:00\", \"2014-12-14T00:00:00\", \"2014-12-21T00:00:00\", \"2014-12-28T00:00:00\", \"2015-01-04T00:00:00\", \"2015-01-11T00:00:00\", \"2015-01-18T00:00:00\", \"2015-01-25T00:00:00\", \"2015-02-01T00:00:00\", \"2015-02-08T00:00:00\", \"2015-02-15T00:00:00\", \"2015-02-22T00:00:00\", \"2015-03-01T00:00:00\", \"2015-03-08T00:00:00\", \"2015-03-15T00:00:00\", \"2015-03-22T00:00:00\", \"2015-03-29T00:00:00\", \"2015-04-05T00:00:00\", \"2015-04-12T00:00:00\", \"2015-04-19T00:00:00\", \"2015-04-26T00:00:00\", \"2015-05-03T00:00:00\", \"2015-05-10T00:00:00\", \"2015-05-17T00:00:00\", \"2015-05-24T00:00:00\", \"2015-05-31T00:00:00\", \"2015-06-07T00:00:00\", \"2015-06-14T00:00:00\", \"2015-06-21T00:00:00\", \"2015-06-28T00:00:00\", \"2015-07-05T00:00:00\", \"2015-07-12T00:00:00\", \"2015-07-19T00:00:00\", \"2015-07-26T00:00:00\", \"2015-08-02T00:00:00\", \"2015-08-09T00:00:00\", \"2015-08-16T00:00:00\", \"2015-08-23T00:00:00\", \"2015-08-30T00:00:00\", \"2015-09-06T00:00:00\", \"2015-09-13T00:00:00\", \"2015-09-20T00:00:00\", \"2015-09-27T00:00:00\", \"2015-10-04T00:00:00\", \"2015-10-11T00:00:00\", \"2015-10-18T00:00:00\", \"2015-10-25T00:00:00\", \"2015-11-01T00:00:00\", \"2015-11-08T00:00:00\", \"2015-11-15T00:00:00\", \"2015-11-22T00:00:00\", \"2015-11-29T00:00:00\", \"2015-12-06T00:00:00\", \"2015-12-13T00:00:00\", \"2015-12-20T00:00:00\", \"2015-12-27T00:00:00\", \"2016-01-03T00:00:00\", \"2016-01-10T00:00:00\", \"2016-01-17T00:00:00\", \"2016-01-24T00:00:00\", \"2016-01-31T00:00:00\", \"2016-02-07T00:00:00\", \"2016-02-14T00:00:00\", \"2016-02-21T00:00:00\", \"2016-02-28T00:00:00\", \"2016-03-06T00:00:00\", \"2016-03-13T00:00:00\", \"2016-03-20T00:00:00\", \"2016-03-27T00:00:00\", \"2016-04-03T00:00:00\", \"2016-04-10T00:00:00\", \"2016-04-17T00:00:00\", \"2016-04-24T00:00:00\", \"2016-05-01T00:00:00\", \"2016-05-08T00:00:00\", \"2016-05-15T00:00:00\", \"2016-05-22T00:00:00\", \"2016-05-29T00:00:00\", \"2016-06-05T00:00:00\", \"2016-06-12T00:00:00\", \"2016-06-19T00:00:00\"], \"xaxis\": \"x\", \"y\": [44506.870000001014, 49834.85000000184, 52460.29000000225, 53766.19000000255, 54777.38000000296, 56026.57000000317, 57442.99000000331, 58367.540000003464, 59043.06000000361, 59939.51000000385, 60789.670000004124, 61623.97000000418, 62084.50000000438, 62630.96000000451, 63089.07000000467, 63271.88000000485, 63366.470000004854, 63845.77000000487, 64122.47000000502, 64411.18000000511, 64596.77000000525, 64811.18000000538, 65057.71000000565, 65291.760000005794, 65659.7400000058, 65978.35000000555, 66479.24000000507, 66772.9100000045, 66996.80000000454, 67374.43000000445, 67776.49000000437, 68224.39000000434, 68562.80000000446, 68937.39000000455, 69319.74000000462, 69654.87000000484, 69929.76000000486, 70142.16000000485, 70446.14000000474, 70595.0800000047, 70696.1400000046, 70785.38000000457, 70880.88000000457, 71049.55000000457, 71121.68000000465, 71232.61000000464, 71414.76000000456, 71560.56000000447, 71809.56000000473, 72140.93000000474, 72513.76000000471, 72966.7400000047, 73904.63000000408, 74730.30000000342, 75800.93000000365, 76657.45000000391, 77615.08000000383, 78793.71000000362, 79711.99000000353, 80183.70000000371, 80482.14000000378, 80665.45000000375, 80982.68000000369, 81239.88000000356, 81639.16000000347, 82448.95000000288, 83263.81000000241, 83707.590000002, 83984.27000000198, 84362.74000000204, 84617.45000000186, 84798.74000000184, 85103.56000000189, 85840.68000000188, 87423.070000002, 88285.28000000212, 88993.49000000203, 89356.24000000194, 89726.96000000181, 90524.580000002, 91014.64000000211, 91445.04000000205, 91692.09000000205, 91891.89000000201, 92151.77000000187, 92444.36000000198, 92651.18000000193, 92874.77000000201, 93030.39000000204, 93034.70000000198, 93837.99000000147, 94409.93000000129, 94800.390000001, 94929.0800000008, 95108.40000000062, 95339.21000000059, 95599.11000000038, 95873.33000000025, 96108.68000000015, 96306.41000000006, 96401.47000000002, 96925.34999999969, 97411.2799999996, 97675.03999999988, 97962.44000000006, 98504.08000000016, 98976.25000000026, 99634.31000000027, 100372.36000000058, 100865.07000000073, 101479.83000000064, 101706.0000000007, 101883.92000000064, 102218.91000000072, 102562.20000000093, 103090.52000000104, 103580.3400000012, 104066.65000000154, 104420.27000000146, 104799.99000000153, 105119.71000000165, 105291.86000000164, 105523.8600000019, 105878.62000000179, 105936.62000000176, 106081.81000000171, 106816.50000000183, 107245.2000000018, 107775.73000000171, 108294.93000000186, 108735.50000000189, 108944.74000000181, 109051.06000000176, 109342.74000000174, 109452.29000000149, 109810.89000000141, 110337.5400000013, 110824.56000000122, 111189.57000000114, 111443.14000000105, 111702.45000000091, 111887.20000000083, 112037.65000000106, 112165.23000000109, 112297.40000000116, 112322.31000000094, 112403.82000000113, 112574.00000000106, 112783.40000000097, 112913.96000000088, 113092.47000000077, 113333.12000000056, 113688.30000000072, 114214.2500000007, 114635.12000000059, 115064.80000000051, 115419.90000000049, 115798.66000000073, 116352.44000000074, 117126.65000000085, 118311.60000000121, 119461.09000000157, 120119.98000000174, 120779.77000000184, 121333.54000000187, 121750.77000000165, 121990.56000000166, 122350.24000000166, 122654.66000000168, 122914.73000000164, 123382.59000000167, 123724.65000000165, 123951.59000000182, 124174.0500000017, 124508.19000000149, 124794.35000000172, 125298.43000000207, 125730.11000000217, 126126.85000000233, 126462.67000000224, 126784.29000000237, 127174.9900000024, 127457.79000000212, 127625.32000000196, 127711.34000000145, 127910.95000000104, 128116.06000000057, 128408.36000000048, 128755.49000000033, 128997.73000000039, 129178.83000000035, 129298.51000000047, 129433.9700000003, 129992.50000000029, 130089.51000000008, 130217.43999999992, 130447.65999999984, 130559.90999999961, 130580.50999999956, 130709.65999999965, 130938.60999999988, 131147.63000000027, 131280.06000000073, 131397.58000000106, 131800.43000000194, 132308.59000000326, 132529.48000000388, 132818.810000004, 132986.76000000417, 133187.87000000494, 133470.49000000508, 133594.91000000536, 133656.75000000533, 133742.96000000514, 133908.7600000055, 134117.3600000056, 134122.53000000553, 134257.77000000575, 134575.42000000572, 134714.73000000554, 134806.9100000055, 134826.44000000527, 134864.48000000505, 134975.88000000527, 135015.08000000528, 135490.18000000482, 135769.28000000428, 135906.21000000407, 135992.00000000367, 136028.2500000035, 136041.6400000033, 136057.30000000336, 136107.3400000036, 136123.67000000385, 136051.40000000395, 136046.56000000404, 136068.5000000042, 136087.2600000042, 136072.67000000417, 136131.70000000435, 136128.22000000442, 136195.20000000423, 136214.7500000041, 136286.0300000039, 136341.12000000404, 136375.38000000402, 136401.27000000415, 136471.2300000043, 136488.33000000444, 136534.43000000453, 136637.34000000445, 136632.9100000044, 136654.16000000434, 136657.2800000044, 136674.4000000044, 136654.6300000045, 136665.20000000467, 136670.30000000464, 136719.87000000477, 136751.65000000468, 136752.7600000047, 136703.00000000463, 136680.43000000482, 136715.64000000496, 136659.25000000512, 136613.54000000493, 136619.14000000455, 136647.22000000472, 136622.71000000436, 136614.4900000043, 136645.72000000442, 136634.01000000446, 136630.95000000438, 136674.17000000444, 136681.26000000458, 136666.76000000464, 136642.47000000457, 136596.09000000442, 136615.31000000445, 136654.39000000455, 136674.07000000458, 136654.85000000466], \"yaxis\": \"y\"}],\n",
              "                        {\"legend\": {\"tracegroupgap\": 0}, \"margin\": {\"t\": 60}, \"template\": {\"data\": {\"bar\": [{\"error_x\": {\"color\": \"#2a3f5f\"}, \"error_y\": {\"color\": \"#2a3f5f\"}, \"marker\": {\"line\": {\"color\": \"#E5ECF6\", \"width\": 0.5}}, \"type\": \"bar\"}], \"barpolar\": [{\"marker\": {\"line\": {\"color\": \"#E5ECF6\", \"width\": 0.5}}, \"type\": \"barpolar\"}], \"carpet\": [{\"aaxis\": {\"endlinecolor\": \"#2a3f5f\", \"gridcolor\": \"white\", \"linecolor\": \"white\", \"minorgridcolor\": \"white\", \"startlinecolor\": \"#2a3f5f\"}, \"baxis\": {\"endlinecolor\": \"#2a3f5f\", \"gridcolor\": \"white\", \"linecolor\": \"white\", \"minorgridcolor\": \"white\", \"startlinecolor\": \"#2a3f5f\"}, \"type\": \"carpet\"}], \"choropleth\": [{\"colorbar\": {\"outlinewidth\": 0, \"ticks\": \"\"}, \"type\": \"choropleth\"}], \"contour\": [{\"colorbar\": {\"outlinewidth\": 0, \"ticks\": \"\"}, \"colorscale\": [[0.0, \"#0d0887\"], [0.1111111111111111, \"#46039f\"], [0.2222222222222222, \"#7201a8\"], [0.3333333333333333, \"#9c179e\"], [0.4444444444444444, \"#bd3786\"], [0.5555555555555556, \"#d8576b\"], [0.6666666666666666, \"#ed7953\"], [0.7777777777777778, \"#fb9f3a\"], [0.8888888888888888, \"#fdca26\"], [1.0, \"#f0f921\"]], \"type\": \"contour\"}], \"contourcarpet\": [{\"colorbar\": {\"outlinewidth\": 0, \"ticks\": \"\"}, \"type\": \"contourcarpet\"}], \"heatmap\": [{\"colorbar\": {\"outlinewidth\": 0, \"ticks\": \"\"}, \"colorscale\": [[0.0, \"#0d0887\"], [0.1111111111111111, \"#46039f\"], [0.2222222222222222, \"#7201a8\"], [0.3333333333333333, \"#9c179e\"], [0.4444444444444444, \"#bd3786\"], [0.5555555555555556, \"#d8576b\"], [0.6666666666666666, \"#ed7953\"], [0.7777777777777778, \"#fb9f3a\"], [0.8888888888888888, \"#fdca26\"], [1.0, \"#f0f921\"]], \"type\": \"heatmap\"}], \"heatmapgl\": [{\"colorbar\": {\"outlinewidth\": 0, \"ticks\": \"\"}, \"colorscale\": [[0.0, \"#0d0887\"], [0.1111111111111111, \"#46039f\"], [0.2222222222222222, \"#7201a8\"], [0.3333333333333333, \"#9c179e\"], [0.4444444444444444, \"#bd3786\"], [0.5555555555555556, \"#d8576b\"], [0.6666666666666666, \"#ed7953\"], [0.7777777777777778, \"#fb9f3a\"], [0.8888888888888888, \"#fdca26\"], [1.0, \"#f0f921\"]], \"type\": \"heatmapgl\"}], \"histogram\": [{\"marker\": {\"colorbar\": {\"outlinewidth\": 0, \"ticks\": \"\"}}, \"type\": \"histogram\"}], \"histogram2d\": [{\"colorbar\": {\"outlinewidth\": 0, \"ticks\": \"\"}, \"colorscale\": [[0.0, \"#0d0887\"], [0.1111111111111111, \"#46039f\"], [0.2222222222222222, \"#7201a8\"], [0.3333333333333333, \"#9c179e\"], [0.4444444444444444, \"#bd3786\"], [0.5555555555555556, \"#d8576b\"], [0.6666666666666666, \"#ed7953\"], [0.7777777777777778, \"#fb9f3a\"], [0.8888888888888888, \"#fdca26\"], [1.0, \"#f0f921\"]], \"type\": \"histogram2d\"}], \"histogram2dcontour\": [{\"colorbar\": {\"outlinewidth\": 0, \"ticks\": \"\"}, \"colorscale\": [[0.0, \"#0d0887\"], [0.1111111111111111, \"#46039f\"], [0.2222222222222222, \"#7201a8\"], [0.3333333333333333, \"#9c179e\"], [0.4444444444444444, \"#bd3786\"], [0.5555555555555556, \"#d8576b\"], [0.6666666666666666, \"#ed7953\"], [0.7777777777777778, \"#fb9f3a\"], [0.8888888888888888, \"#fdca26\"], [1.0, \"#f0f921\"]], \"type\": \"histogram2dcontour\"}], \"mesh3d\": [{\"colorbar\": {\"outlinewidth\": 0, \"ticks\": \"\"}, \"type\": \"mesh3d\"}], \"parcoords\": [{\"line\": {\"colorbar\": {\"outlinewidth\": 0, \"ticks\": \"\"}}, \"type\": \"parcoords\"}], \"pie\": [{\"automargin\": true, \"type\": \"pie\"}], \"scatter\": [{\"marker\": {\"colorbar\": {\"outlinewidth\": 0, \"ticks\": \"\"}}, \"type\": \"scatter\"}], \"scatter3d\": [{\"line\": {\"colorbar\": {\"outlinewidth\": 0, \"ticks\": \"\"}}, \"marker\": {\"colorbar\": {\"outlinewidth\": 0, \"ticks\": \"\"}}, \"type\": \"scatter3d\"}], \"scattercarpet\": [{\"marker\": {\"colorbar\": {\"outlinewidth\": 0, \"ticks\": \"\"}}, \"type\": \"scattercarpet\"}], \"scattergeo\": [{\"marker\": {\"colorbar\": {\"outlinewidth\": 0, \"ticks\": \"\"}}, \"type\": \"scattergeo\"}], \"scattergl\": [{\"marker\": {\"colorbar\": {\"outlinewidth\": 0, \"ticks\": \"\"}}, \"type\": \"scattergl\"}], \"scattermapbox\": [{\"marker\": {\"colorbar\": {\"outlinewidth\": 0, \"ticks\": \"\"}}, \"type\": \"scattermapbox\"}], \"scatterpolar\": [{\"marker\": {\"colorbar\": {\"outlinewidth\": 0, \"ticks\": \"\"}}, \"type\": \"scatterpolar\"}], \"scatterpolargl\": [{\"marker\": {\"colorbar\": {\"outlinewidth\": 0, \"ticks\": \"\"}}, \"type\": \"scatterpolargl\"}], \"scatterternary\": [{\"marker\": {\"colorbar\": {\"outlinewidth\": 0, \"ticks\": \"\"}}, \"type\": \"scatterternary\"}], \"surface\": [{\"colorbar\": {\"outlinewidth\": 0, \"ticks\": \"\"}, \"colorscale\": [[0.0, \"#0d0887\"], [0.1111111111111111, \"#46039f\"], [0.2222222222222222, \"#7201a8\"], [0.3333333333333333, \"#9c179e\"], [0.4444444444444444, \"#bd3786\"], [0.5555555555555556, \"#d8576b\"], [0.6666666666666666, \"#ed7953\"], [0.7777777777777778, \"#fb9f3a\"], [0.8888888888888888, \"#fdca26\"], [1.0, \"#f0f921\"]], \"type\": \"surface\"}], \"table\": [{\"cells\": {\"fill\": {\"color\": \"#EBF0F8\"}, \"line\": {\"color\": \"white\"}}, \"header\": {\"fill\": {\"color\": \"#C8D4E3\"}, \"line\": {\"color\": \"white\"}}, \"type\": \"table\"}]}, \"layout\": {\"annotationdefaults\": {\"arrowcolor\": \"#2a3f5f\", \"arrowhead\": 0, \"arrowwidth\": 1}, \"coloraxis\": {\"colorbar\": {\"outlinewidth\": 0, \"ticks\": \"\"}}, \"colorscale\": {\"diverging\": [[0, \"#8e0152\"], [0.1, \"#c51b7d\"], [0.2, \"#de77ae\"], [0.3, \"#f1b6da\"], [0.4, \"#fde0ef\"], [0.5, \"#f7f7f7\"], [0.6, \"#e6f5d0\"], [0.7, \"#b8e186\"], [0.8, \"#7fbc41\"], [0.9, \"#4d9221\"], [1, \"#276419\"]], \"sequential\": [[0.0, \"#0d0887\"], [0.1111111111111111, \"#46039f\"], [0.2222222222222222, \"#7201a8\"], [0.3333333333333333, \"#9c179e\"], [0.4444444444444444, \"#bd3786\"], [0.5555555555555556, \"#d8576b\"], [0.6666666666666666, \"#ed7953\"], [0.7777777777777778, \"#fb9f3a\"], [0.8888888888888888, \"#fdca26\"], [1.0, \"#f0f921\"]], \"sequentialminus\": [[0.0, \"#0d0887\"], [0.1111111111111111, \"#46039f\"], [0.2222222222222222, \"#7201a8\"], [0.3333333333333333, \"#9c179e\"], [0.4444444444444444, \"#bd3786\"], [0.5555555555555556, \"#d8576b\"], [0.6666666666666666, \"#ed7953\"], [0.7777777777777778, \"#fb9f3a\"], [0.8888888888888888, \"#fdca26\"], [1.0, \"#f0f921\"]]}, \"colorway\": [\"#636efa\", \"#EF553B\", \"#00cc96\", \"#ab63fa\", \"#FFA15A\", \"#19d3f3\", \"#FF6692\", \"#B6E880\", \"#FF97FF\", \"#FECB52\"], \"font\": {\"color\": \"#2a3f5f\"}, \"geo\": {\"bgcolor\": \"white\", \"lakecolor\": \"white\", \"landcolor\": \"#E5ECF6\", \"showlakes\": true, \"showland\": true, \"subunitcolor\": \"white\"}, \"hoverlabel\": {\"align\": \"left\"}, \"hovermode\": \"closest\", \"mapbox\": {\"style\": \"light\"}, \"paper_bgcolor\": \"white\", \"plot_bgcolor\": \"#E5ECF6\", \"polar\": {\"angularaxis\": {\"gridcolor\": \"white\", \"linecolor\": \"white\", \"ticks\": \"\"}, \"bgcolor\": \"#E5ECF6\", \"radialaxis\": {\"gridcolor\": \"white\", \"linecolor\": \"white\", \"ticks\": \"\"}}, \"scene\": {\"xaxis\": {\"backgroundcolor\": \"#E5ECF6\", \"gridcolor\": \"white\", \"gridwidth\": 2, \"linecolor\": \"white\", \"showbackground\": true, \"ticks\": \"\", \"zerolinecolor\": \"white\"}, \"yaxis\": {\"backgroundcolor\": \"#E5ECF6\", \"gridcolor\": \"white\", \"gridwidth\": 2, \"linecolor\": \"white\", \"showbackground\": true, \"ticks\": \"\", \"zerolinecolor\": \"white\"}, \"zaxis\": {\"backgroundcolor\": \"#E5ECF6\", \"gridcolor\": \"white\", \"gridwidth\": 2, \"linecolor\": \"white\", \"showbackground\": true, \"ticks\": \"\", \"zerolinecolor\": \"white\"}}, \"shapedefaults\": {\"line\": {\"color\": \"#2a3f5f\"}}, \"ternary\": {\"aaxis\": {\"gridcolor\": \"white\", \"linecolor\": \"white\", \"ticks\": \"\"}, \"baxis\": {\"gridcolor\": \"white\", \"linecolor\": \"white\", \"ticks\": \"\"}, \"bgcolor\": \"#E5ECF6\", \"caxis\": {\"gridcolor\": \"white\", \"linecolor\": \"white\", \"ticks\": \"\"}}, \"title\": {\"x\": 0.05}, \"xaxis\": {\"automargin\": true, \"gridcolor\": \"white\", \"linecolor\": \"white\", \"ticks\": \"\", \"title\": {\"standoff\": 15}, \"zerolinecolor\": \"white\", \"zerolinewidth\": 2}, \"yaxis\": {\"automargin\": true, \"gridcolor\": \"white\", \"linecolor\": \"white\", \"ticks\": \"\", \"title\": {\"standoff\": 15}, \"zerolinecolor\": \"white\", \"zerolinewidth\": 2}}}, \"xaxis\": {\"anchor\": \"y\", \"domain\": [0.0, 1.0], \"title\": {\"text\": \"x\"}}, \"yaxis\": {\"anchor\": \"x\", \"domain\": [0.0, 1.0], \"title\": {\"text\": \"y\"}}},\n",
              "                        {\"responsive\": true}\n",
              "                    ).then(function(){\n",
              "                            \n",
              "var gd = document.getElementById('b85c12c3-cbc1-4e79-8362-171578bd59dd');\n",
              "var x = new MutationObserver(function (mutations, observer) {{\n",
              "        var display = window.getComputedStyle(gd).display;\n",
              "        if (!display || display === 'none') {{\n",
              "            console.log([gd, 'removed!']);\n",
              "            Plotly.purge(gd);\n",
              "            observer.disconnect();\n",
              "        }}\n",
              "}});\n",
              "\n",
              "// Listen for the removal of the full notebook cells\n",
              "var notebookContainer = gd.closest('#notebook-container');\n",
              "if (notebookContainer) {{\n",
              "    x.observe(notebookContainer, {childList: true});\n",
              "}}\n",
              "\n",
              "// Listen for the clearing of the current output cell\n",
              "var outputEl = gd.closest('.output');\n",
              "if (outputEl) {{\n",
              "    x.observe(outputEl, {childList: true});\n",
              "}}\n",
              "\n",
              "                        })\n",
              "                };\n",
              "                \n",
              "            </script>\n",
              "        </div>\n",
              "</body>\n",
              "</html>"
            ]
          },
          "metadata": {
            "tags": []
          }
        }
      ]
    },
    {
      "cell_type": "markdown",
      "metadata": {
        "id": "gsJeUVOSkne6"
      },
      "source": [
        "**Observation:**\r\n",
        "* The total sales cost has increased every year till 2015. After 2015, the sales has almost been constant with no ups or downs."
      ]
    },
    {
      "cell_type": "code",
      "metadata": {
        "colab": {
          "base_uri": "https://localhost:8080/",
          "height": 517
        },
        "id": "rwOkR8htrYro",
        "outputId": "61f71115-d8c5-44a1-c097-6c929a354063"
      },
      "source": [
        "sell_price['state'] = list(map(lambda x:x[:2], sell_price['store_id']))\r\n",
        "temp = sell_price.groupby(['wm_yr_wk','state']).sum().unstack()\r\n",
        "temp.columns = temp.columns.droplevel()\r\n",
        "\r\n",
        "fig = go.Figure()\r\n",
        "\r\n",
        "for i in temp.columns:\r\n",
        "    fig.add_trace(go.Scatter(x = a, y = temp[i], name=str(i).title()))\r\n",
        "\r\n",
        "fig.update_layout(title='Monthly Sales per State', xaxis_title='Year',yaxis_title='Total Sales', width=800, height=500,title_x=0.5)"
      ],
      "execution_count": null,
      "outputs": [
        {
          "output_type": "display_data",
          "data": {
            "text/html": [
              "<html>\n",
              "<head><meta charset=\"utf-8\" /></head>\n",
              "<body>\n",
              "    <div>\n",
              "            <script src=\"https://cdnjs.cloudflare.com/ajax/libs/mathjax/2.7.5/MathJax.js?config=TeX-AMS-MML_SVG\"></script><script type=\"text/javascript\">if (window.MathJax) {MathJax.Hub.Config({SVG: {font: \"STIX-Web\"}});}</script>\n",
              "                <script type=\"text/javascript\">window.PlotlyConfig = {MathJaxConfig: 'local'};</script>\n",
              "        <script src=\"https://cdn.plot.ly/plotly-latest.min.js\"></script>    \n",
              "            <div id=\"2e471e7f-ae5c-46ed-bc0b-0262c9378012\" class=\"plotly-graph-div\" style=\"height:500px; width:800px;\"></div>\n",
              "            <script type=\"text/javascript\">\n",
              "                \n",
              "                    window.PLOTLYENV=window.PLOTLYENV || {};\n",
              "                    \n",
              "                if (document.getElementById(\"2e471e7f-ae5c-46ed-bc0b-0262c9378012\")) {\n",
              "                    Plotly.newPlot(\n",
              "                        '2e471e7f-ae5c-46ed-bc0b-0262c9378012',\n",
              "                        [{\"name\": \"Ca\", \"type\": \"scatter\", \"x\": [\"2011-01-30T00:00:00\", \"2011-02-06T00:00:00\", \"2011-02-13T00:00:00\", \"2011-02-20T00:00:00\", \"2011-02-27T00:00:00\", \"2011-03-06T00:00:00\", \"2011-03-13T00:00:00\", \"2011-03-20T00:00:00\", \"2011-03-27T00:00:00\", \"2011-04-03T00:00:00\", \"2011-04-10T00:00:00\", \"2011-04-17T00:00:00\", \"2011-04-24T00:00:00\", \"2011-05-01T00:00:00\", \"2011-05-08T00:00:00\", \"2011-05-15T00:00:00\", \"2011-05-22T00:00:00\", \"2011-05-29T00:00:00\", \"2011-06-05T00:00:00\", \"2011-06-12T00:00:00\", \"2011-06-19T00:00:00\", \"2011-06-26T00:00:00\", \"2011-07-03T00:00:00\", \"2011-07-10T00:00:00\", \"2011-07-17T00:00:00\", \"2011-07-24T00:00:00\", \"2011-07-31T00:00:00\", \"2011-08-07T00:00:00\", \"2011-08-14T00:00:00\", \"2011-08-21T00:00:00\", \"2011-08-28T00:00:00\", \"2011-09-04T00:00:00\", \"2011-09-11T00:00:00\", \"2011-09-18T00:00:00\", \"2011-09-25T00:00:00\", \"2011-10-02T00:00:00\", \"2011-10-09T00:00:00\", \"2011-10-16T00:00:00\", \"2011-10-23T00:00:00\", \"2011-10-30T00:00:00\", \"2011-11-06T00:00:00\", \"2011-11-13T00:00:00\", \"2011-11-20T00:00:00\", \"2011-11-27T00:00:00\", \"2011-12-04T00:00:00\", \"2011-12-11T00:00:00\", \"2011-12-18T00:00:00\", \"2011-12-25T00:00:00\", \"2012-01-01T00:00:00\", \"2012-01-08T00:00:00\", \"2012-01-15T00:00:00\", \"2012-01-22T00:00:00\", \"2012-01-29T00:00:00\", \"2012-02-05T00:00:00\", \"2012-02-12T00:00:00\", \"2012-02-19T00:00:00\", \"2012-02-26T00:00:00\", \"2012-03-04T00:00:00\", \"2012-03-11T00:00:00\", \"2012-03-18T00:00:00\", \"2012-03-25T00:00:00\", \"2012-04-01T00:00:00\", \"2012-04-08T00:00:00\", \"2012-04-15T00:00:00\", \"2012-04-22T00:00:00\", \"2012-04-29T00:00:00\", \"2012-05-06T00:00:00\", \"2012-05-13T00:00:00\", \"2012-05-20T00:00:00\", \"2012-05-27T00:00:00\", \"2012-06-03T00:00:00\", \"2012-06-10T00:00:00\", \"2012-06-17T00:00:00\", \"2012-06-24T00:00:00\", \"2012-07-01T00:00:00\", \"2012-07-08T00:00:00\", \"2012-07-15T00:00:00\", \"2012-07-22T00:00:00\", \"2012-07-29T00:00:00\", \"2012-08-05T00:00:00\", \"2012-08-12T00:00:00\", \"2012-08-19T00:00:00\", \"2012-08-26T00:00:00\", \"2012-09-02T00:00:00\", \"2012-09-09T00:00:00\", \"2012-09-16T00:00:00\", \"2012-09-23T00:00:00\", \"2012-09-30T00:00:00\", \"2012-10-07T00:00:00\", \"2012-10-14T00:00:00\", \"2012-10-21T00:00:00\", \"2012-10-28T00:00:00\", \"2012-11-04T00:00:00\", \"2012-11-11T00:00:00\", \"2012-11-18T00:00:00\", \"2012-11-25T00:00:00\", \"2012-12-02T00:00:00\", \"2012-12-09T00:00:00\", \"2012-12-16T00:00:00\", \"2012-12-23T00:00:00\", \"2012-12-30T00:00:00\", \"2013-01-06T00:00:00\", \"2013-01-13T00:00:00\", \"2013-01-20T00:00:00\", \"2013-01-27T00:00:00\", \"2013-02-03T00:00:00\", \"2013-02-10T00:00:00\", \"2013-02-17T00:00:00\", \"2013-02-24T00:00:00\", \"2013-03-03T00:00:00\", \"2013-03-10T00:00:00\", \"2013-03-17T00:00:00\", \"2013-03-24T00:00:00\", \"2013-03-31T00:00:00\", \"2013-04-07T00:00:00\", \"2013-04-14T00:00:00\", \"2013-04-21T00:00:00\", \"2013-04-28T00:00:00\", \"2013-05-05T00:00:00\", \"2013-05-12T00:00:00\", \"2013-05-19T00:00:00\", \"2013-05-26T00:00:00\", \"2013-06-02T00:00:00\", \"2013-06-09T00:00:00\", \"2013-06-16T00:00:00\", \"2013-06-23T00:00:00\", \"2013-06-30T00:00:00\", \"2013-07-07T00:00:00\", \"2013-07-14T00:00:00\", \"2013-07-21T00:00:00\", \"2013-07-28T00:00:00\", \"2013-08-04T00:00:00\", \"2013-08-11T00:00:00\", \"2013-08-18T00:00:00\", \"2013-08-25T00:00:00\", \"2013-09-01T00:00:00\", \"2013-09-08T00:00:00\", \"2013-09-15T00:00:00\", \"2013-09-22T00:00:00\", \"2013-09-29T00:00:00\", \"2013-10-06T00:00:00\", \"2013-10-13T00:00:00\", \"2013-10-20T00:00:00\", \"2013-10-27T00:00:00\", \"2013-11-03T00:00:00\", \"2013-11-10T00:00:00\", \"2013-11-17T00:00:00\", \"2013-11-24T00:00:00\", \"2013-12-01T00:00:00\", \"2013-12-08T00:00:00\", \"2013-12-15T00:00:00\", \"2013-12-22T00:00:00\", \"2013-12-29T00:00:00\", \"2014-01-05T00:00:00\", \"2014-01-12T00:00:00\", \"2014-01-19T00:00:00\", \"2014-01-26T00:00:00\", \"2014-02-02T00:00:00\", \"2014-02-09T00:00:00\", \"2014-02-16T00:00:00\", \"2014-02-23T00:00:00\", \"2014-03-02T00:00:00\", \"2014-03-09T00:00:00\", \"2014-03-16T00:00:00\", \"2014-03-23T00:00:00\", \"2014-03-30T00:00:00\", \"2014-04-06T00:00:00\", \"2014-04-13T00:00:00\", \"2014-04-20T00:00:00\", \"2014-04-27T00:00:00\", \"2014-05-04T00:00:00\", \"2014-05-11T00:00:00\", \"2014-05-18T00:00:00\", \"2014-05-25T00:00:00\", \"2014-06-01T00:00:00\", \"2014-06-08T00:00:00\", \"2014-06-15T00:00:00\", \"2014-06-22T00:00:00\", \"2014-06-29T00:00:00\", \"2014-07-06T00:00:00\", \"2014-07-13T00:00:00\", \"2014-07-20T00:00:00\", \"2014-07-27T00:00:00\", \"2014-08-03T00:00:00\", \"2014-08-10T00:00:00\", \"2014-08-17T00:00:00\", \"2014-08-24T00:00:00\", \"2014-08-31T00:00:00\", \"2014-09-07T00:00:00\", \"2014-09-14T00:00:00\", \"2014-09-21T00:00:00\", \"2014-09-28T00:00:00\", \"2014-10-05T00:00:00\", \"2014-10-12T00:00:00\", \"2014-10-19T00:00:00\", \"2014-10-26T00:00:00\", \"2014-11-02T00:00:00\", \"2014-11-09T00:00:00\", \"2014-11-16T00:00:00\", \"2014-11-23T00:00:00\", \"2014-11-30T00:00:00\", \"2014-12-07T00:00:00\", \"2014-12-14T00:00:00\", \"2014-12-21T00:00:00\", \"2014-12-28T00:00:00\", \"2015-01-04T00:00:00\", \"2015-01-11T00:00:00\", \"2015-01-18T00:00:00\", \"2015-01-25T00:00:00\", \"2015-02-01T00:00:00\", \"2015-02-08T00:00:00\", \"2015-02-15T00:00:00\", \"2015-02-22T00:00:00\", \"2015-03-01T00:00:00\", \"2015-03-08T00:00:00\", \"2015-03-15T00:00:00\", \"2015-03-22T00:00:00\", \"2015-03-29T00:00:00\", \"2015-04-05T00:00:00\", \"2015-04-12T00:00:00\", \"2015-04-19T00:00:00\", \"2015-04-26T00:00:00\", \"2015-05-03T00:00:00\", \"2015-05-10T00:00:00\", \"2015-05-17T00:00:00\", \"2015-05-24T00:00:00\", \"2015-05-31T00:00:00\", \"2015-06-07T00:00:00\", \"2015-06-14T00:00:00\", \"2015-06-21T00:00:00\", \"2015-06-28T00:00:00\", \"2015-07-05T00:00:00\", \"2015-07-12T00:00:00\", \"2015-07-19T00:00:00\", \"2015-07-26T00:00:00\", \"2015-08-02T00:00:00\", \"2015-08-09T00:00:00\", \"2015-08-16T00:00:00\", \"2015-08-23T00:00:00\", \"2015-08-30T00:00:00\", \"2015-09-06T00:00:00\", \"2015-09-13T00:00:00\", \"2015-09-20T00:00:00\", \"2015-09-27T00:00:00\", \"2015-10-04T00:00:00\", \"2015-10-11T00:00:00\", \"2015-10-18T00:00:00\", \"2015-10-25T00:00:00\", \"2015-11-01T00:00:00\", \"2015-11-08T00:00:00\", \"2015-11-15T00:00:00\", \"2015-11-22T00:00:00\", \"2015-11-29T00:00:00\", \"2015-12-06T00:00:00\", \"2015-12-13T00:00:00\", \"2015-12-20T00:00:00\", \"2015-12-27T00:00:00\", \"2016-01-03T00:00:00\", \"2016-01-10T00:00:00\", \"2016-01-17T00:00:00\", \"2016-01-24T00:00:00\", \"2016-01-31T00:00:00\", \"2016-02-07T00:00:00\", \"2016-02-14T00:00:00\", \"2016-02-21T00:00:00\", \"2016-02-28T00:00:00\", \"2016-03-06T00:00:00\", \"2016-03-13T00:00:00\", \"2016-03-20T00:00:00\", \"2016-03-27T00:00:00\", \"2016-04-03T00:00:00\", \"2016-04-10T00:00:00\", \"2016-04-17T00:00:00\", \"2016-04-24T00:00:00\", \"2016-05-01T00:00:00\", \"2016-05-08T00:00:00\", \"2016-05-15T00:00:00\", \"2016-05-22T00:00:00\", \"2016-05-29T00:00:00\", \"2016-06-05T00:00:00\", \"2016-06-12T00:00:00\", \"2016-06-19T00:00:00\"], \"y\": [18551.71999999963, 20419.939999999668, 21301.51999999963, 21789.679999999607, 22148.96999999959, 22611.3999999996, 23191.909999999618, 23532.849999999624, 23864.369999999664, 24234.279999999668, 24485.909999999716, 24820.119999999715, 24972.789999999735, 25106.289999999713, 25264.82999999972, 25355.079999999754, 25396.609999999757, 25543.01999999971, 25682.569999999727, 25771.37999999971, 25836.479999999683, 25912.86999999966, 26002.469999999623, 26091.639999999643, 26261.039999999673, 26362.90999999967, 26637.58999999972, 26743.68999999968, 26836.97999999966, 26989.27999999963, 27185.53999999969, 27383.739999999685, 27510.58999999969, 27659.439999999704, 27837.549999999683, 28003.479999999723, 28126.399999999718, 28236.439999999726, 28340.949999999746, 28409.779999999755, 28458.0299999998, 28494.61999999981, 28535.539999999808, 28595.659999999814, 28642.879999999823, 28692.179999999826, 28761.559999999838, 28827.439999999853, 28923.089999999833, 29062.79999999983, 29196.229999999832, 29415.729999999836, 29850.649999999878, 30131.9399999999, 30606.610000000033, 30983.74000000011, 31322.40000000016, 31770.930000000193, 32122.350000000213, 32277.450000000223, 32404.390000000214, 32493.020000000222, 32627.060000000227, 32745.480000000214, 32891.91000000021, 33074.580000000264, 33225.14000000033, 33387.70000000041, 33453.70000000043, 33585.53000000046, 33674.74000000047, 33771.85000000054, 33891.430000000604, 34301.280000000785, 34880.520000000906, 35235.64000000101, 35461.71000000104, 35561.27000000104, 35643.04000000103, 35982.19000000109, 36155.59000000104, 36295.20000000104, 36390.57000000104, 36459.29000000102, 36566.680000001, 36642.06000000099, 36741.16000000101, 36834.89000000101, 36858.990000001046, 36890.60000000104, 36950.95000000106, 37004.51000000105, 37103.12000000109, 37120.040000001056, 37226.22000000107, 37311.05000000111, 37419.3100000011, 37529.870000001116, 37645.85000000112, 37698.900000001115, 37706.030000001076, 37801.01000000104, 38000.37000000108, 38101.95000000112, 38265.080000001166, 38439.57000000123, 38627.0300000013, 38941.610000001354, 39241.140000001426, 39479.73000000148, 39726.55000000153, 39791.44000000157, 39857.92000000156, 39974.93000000159, 40083.12000000165, 40311.61000000166, 40553.87000000171, 40761.77000000173, 40908.63000000173, 41021.90000000168, 41136.890000001644, 41172.23000000166, 41274.94000000168, 41396.45000000168, 41439.290000001725, 41499.23000000172, 41787.380000001765, 41990.470000001806, 42215.39000000181, 42452.18000000183, 42608.62000000184, 42632.43000000177, 42684.83000000179, 42835.55000000181, 42882.06000000176, 42975.79000000175, 43206.86000000178, 43435.43000000181, 43575.270000001845, 43661.82000000188, 43777.97000000189, 43839.71000000192, 43902.96000000189, 43935.75000000195, 43983.53000000199, 44005.20000000199, 44027.08000000198, 44107.11000000204, 44153.17000000207, 44194.290000002045, 44230.65000000208, 44369.22000000215, 44473.670000002225, 44724.63000000238, 44941.05000000247, 45123.340000002565, 45304.40000000268, 45464.52000000268, 45744.09000000273, 46023.81000000283, 46609.01000000304, 47017.10000000315, 47281.560000003235, 47612.820000003296, 47860.93000000339, 48012.72000000339, 48092.36000000338, 48246.21000000341, 48339.50000000349, 48442.460000003535, 48637.38000000361, 48773.71000000365, 48843.55000000367, 48948.52000000368, 49096.45000000378, 49224.88000000382, 49398.500000003754, 49627.82000000381, 49756.080000003894, 49878.62000000388, 49972.760000003764, 50110.230000003714, 50206.90000000372, 50304.600000003724, 50340.31000000374, 50395.960000003804, 50443.52000000375, 50537.53000000377, 50698.24000000385, 50793.28000000384, 50869.63000000381, 50933.95000000387, 50991.10000000387, 51243.26000000398, 51287.070000004045, 51381.73000000411, 51454.98000000412, 51494.18000000409, 51528.780000004095, 51560.050000004085, 51635.94000000408, 51700.94000000412, 51731.580000004134, 51764.180000004126, 51892.530000004146, 52135.69000000414, 52226.140000004176, 52342.60000000419, 52420.14000000419, 52477.530000004226, 52592.40000000431, 52697.68000000434, 52750.77000000434, 52762.830000004265, 52821.05000000427, 52910.85000000427, 52991.86000000421, 53037.47000000419, 53196.00000000427, 53227.71000000429, 53286.20000000431, 53303.41000000423, 53308.57000000422, 53335.6100000042, 53345.770000004166, 53830.12000000425, 54110.440000004266, 54220.83000000432, 54256.83000000434, 54289.7700000044, 54286.650000004425, 54306.630000004414, 54325.74000000444, 54339.33000000448, 54290.630000004516, 54317.65000000447, 54323.52000000444, 54310.340000004464, 54321.160000004485, 54361.27000000449, 54365.5100000045, 54395.740000004495, 54410.0900000045, 54468.04000000453, 54479.280000004575, 54501.71000000453, 54508.280000004524, 54560.90000000454, 54566.94000000456, 54616.06000000458, 54654.760000004535, 54646.420000004546, 54652.430000004526, 54637.67000000454, 54649.13000000451, 54629.7300000045, 54680.000000004504, 54690.89000000443, 54709.40000000445, 54713.76000000445, 54720.16000000446, 54705.900000004454, 54691.96000000448, 54716.64000000446, 54720.86000000446, 54690.0900000045, 54684.67000000456, 54694.510000004506, 54693.08000000447, 54698.40000000446, 54701.920000004466, 54700.44000000445, 54707.67000000444, 54708.9100000044, 54717.13000000438, 54723.50000000438, 54724.05000000438, 54723.930000004395, 54723.720000004454, 54740.3200000045, 54740.270000004515, 54735.96000000457]}, {\"name\": \"Tx\", \"type\": \"scatter\", \"x\": [\"2011-01-30T00:00:00\", \"2011-02-06T00:00:00\", \"2011-02-13T00:00:00\", \"2011-02-20T00:00:00\", \"2011-02-27T00:00:00\", \"2011-03-06T00:00:00\", \"2011-03-13T00:00:00\", \"2011-03-20T00:00:00\", \"2011-03-27T00:00:00\", \"2011-04-03T00:00:00\", \"2011-04-10T00:00:00\", \"2011-04-17T00:00:00\", \"2011-04-24T00:00:00\", \"2011-05-01T00:00:00\", \"2011-05-08T00:00:00\", \"2011-05-15T00:00:00\", \"2011-05-22T00:00:00\", \"2011-05-29T00:00:00\", \"2011-06-05T00:00:00\", \"2011-06-12T00:00:00\", \"2011-06-19T00:00:00\", \"2011-06-26T00:00:00\", \"2011-07-03T00:00:00\", \"2011-07-10T00:00:00\", \"2011-07-17T00:00:00\", \"2011-07-24T00:00:00\", \"2011-07-31T00:00:00\", \"2011-08-07T00:00:00\", \"2011-08-14T00:00:00\", \"2011-08-21T00:00:00\", \"2011-08-28T00:00:00\", \"2011-09-04T00:00:00\", \"2011-09-11T00:00:00\", \"2011-09-18T00:00:00\", \"2011-09-25T00:00:00\", \"2011-10-02T00:00:00\", \"2011-10-09T00:00:00\", \"2011-10-16T00:00:00\", \"2011-10-23T00:00:00\", \"2011-10-30T00:00:00\", \"2011-11-06T00:00:00\", \"2011-11-13T00:00:00\", \"2011-11-20T00:00:00\", \"2011-11-27T00:00:00\", \"2011-12-04T00:00:00\", \"2011-12-11T00:00:00\", \"2011-12-18T00:00:00\", \"2011-12-25T00:00:00\", \"2012-01-01T00:00:00\", \"2012-01-08T00:00:00\", \"2012-01-15T00:00:00\", \"2012-01-22T00:00:00\", \"2012-01-29T00:00:00\", \"2012-02-05T00:00:00\", \"2012-02-12T00:00:00\", \"2012-02-19T00:00:00\", \"2012-02-26T00:00:00\", \"2012-03-04T00:00:00\", \"2012-03-11T00:00:00\", \"2012-03-18T00:00:00\", \"2012-03-25T00:00:00\", \"2012-04-01T00:00:00\", \"2012-04-08T00:00:00\", \"2012-04-15T00:00:00\", \"2012-04-22T00:00:00\", \"2012-04-29T00:00:00\", \"2012-05-06T00:00:00\", \"2012-05-13T00:00:00\", \"2012-05-20T00:00:00\", \"2012-05-27T00:00:00\", \"2012-06-03T00:00:00\", \"2012-06-10T00:00:00\", \"2012-06-17T00:00:00\", \"2012-06-24T00:00:00\", \"2012-07-01T00:00:00\", \"2012-07-08T00:00:00\", \"2012-07-15T00:00:00\", \"2012-07-22T00:00:00\", \"2012-07-29T00:00:00\", \"2012-08-05T00:00:00\", \"2012-08-12T00:00:00\", \"2012-08-19T00:00:00\", \"2012-08-26T00:00:00\", \"2012-09-02T00:00:00\", \"2012-09-09T00:00:00\", \"2012-09-16T00:00:00\", \"2012-09-23T00:00:00\", \"2012-09-30T00:00:00\", \"2012-10-07T00:00:00\", \"2012-10-14T00:00:00\", \"2012-10-21T00:00:00\", \"2012-10-28T00:00:00\", \"2012-11-04T00:00:00\", \"2012-11-11T00:00:00\", \"2012-11-18T00:00:00\", \"2012-11-25T00:00:00\", \"2012-12-02T00:00:00\", \"2012-12-09T00:00:00\", \"2012-12-16T00:00:00\", \"2012-12-23T00:00:00\", \"2012-12-30T00:00:00\", \"2013-01-06T00:00:00\", \"2013-01-13T00:00:00\", \"2013-01-20T00:00:00\", \"2013-01-27T00:00:00\", \"2013-02-03T00:00:00\", \"2013-02-10T00:00:00\", \"2013-02-17T00:00:00\", \"2013-02-24T00:00:00\", \"2013-03-03T00:00:00\", \"2013-03-10T00:00:00\", \"2013-03-17T00:00:00\", \"2013-03-24T00:00:00\", \"2013-03-31T00:00:00\", \"2013-04-07T00:00:00\", \"2013-04-14T00:00:00\", \"2013-04-21T00:00:00\", \"2013-04-28T00:00:00\", \"2013-05-05T00:00:00\", \"2013-05-12T00:00:00\", \"2013-05-19T00:00:00\", \"2013-05-26T00:00:00\", \"2013-06-02T00:00:00\", \"2013-06-09T00:00:00\", \"2013-06-16T00:00:00\", \"2013-06-23T00:00:00\", \"2013-06-30T00:00:00\", \"2013-07-07T00:00:00\", \"2013-07-14T00:00:00\", \"2013-07-21T00:00:00\", \"2013-07-28T00:00:00\", \"2013-08-04T00:00:00\", \"2013-08-11T00:00:00\", \"2013-08-18T00:00:00\", \"2013-08-25T00:00:00\", \"2013-09-01T00:00:00\", \"2013-09-08T00:00:00\", \"2013-09-15T00:00:00\", \"2013-09-22T00:00:00\", \"2013-09-29T00:00:00\", \"2013-10-06T00:00:00\", \"2013-10-13T00:00:00\", \"2013-10-20T00:00:00\", \"2013-10-27T00:00:00\", \"2013-11-03T00:00:00\", \"2013-11-10T00:00:00\", \"2013-11-17T00:00:00\", \"2013-11-24T00:00:00\", \"2013-12-01T00:00:00\", \"2013-12-08T00:00:00\", \"2013-12-15T00:00:00\", \"2013-12-22T00:00:00\", \"2013-12-29T00:00:00\", \"2014-01-05T00:00:00\", \"2014-01-12T00:00:00\", \"2014-01-19T00:00:00\", \"2014-01-26T00:00:00\", \"2014-02-02T00:00:00\", \"2014-02-09T00:00:00\", \"2014-02-16T00:00:00\", \"2014-02-23T00:00:00\", \"2014-03-02T00:00:00\", \"2014-03-09T00:00:00\", \"2014-03-16T00:00:00\", \"2014-03-23T00:00:00\", \"2014-03-30T00:00:00\", \"2014-04-06T00:00:00\", \"2014-04-13T00:00:00\", \"2014-04-20T00:00:00\", \"2014-04-27T00:00:00\", \"2014-05-04T00:00:00\", \"2014-05-11T00:00:00\", \"2014-05-18T00:00:00\", \"2014-05-25T00:00:00\", \"2014-06-01T00:00:00\", \"2014-06-08T00:00:00\", \"2014-06-15T00:00:00\", \"2014-06-22T00:00:00\", \"2014-06-29T00:00:00\", \"2014-07-06T00:00:00\", \"2014-07-13T00:00:00\", \"2014-07-20T00:00:00\", \"2014-07-27T00:00:00\", \"2014-08-03T00:00:00\", \"2014-08-10T00:00:00\", \"2014-08-17T00:00:00\", \"2014-08-24T00:00:00\", \"2014-08-31T00:00:00\", \"2014-09-07T00:00:00\", \"2014-09-14T00:00:00\", \"2014-09-21T00:00:00\", \"2014-09-28T00:00:00\", \"2014-10-05T00:00:00\", \"2014-10-12T00:00:00\", \"2014-10-19T00:00:00\", \"2014-10-26T00:00:00\", \"2014-11-02T00:00:00\", \"2014-11-09T00:00:00\", \"2014-11-16T00:00:00\", \"2014-11-23T00:00:00\", \"2014-11-30T00:00:00\", \"2014-12-07T00:00:00\", \"2014-12-14T00:00:00\", \"2014-12-21T00:00:00\", \"2014-12-28T00:00:00\", \"2015-01-04T00:00:00\", \"2015-01-11T00:00:00\", \"2015-01-18T00:00:00\", \"2015-01-25T00:00:00\", \"2015-02-01T00:00:00\", \"2015-02-08T00:00:00\", \"2015-02-15T00:00:00\", \"2015-02-22T00:00:00\", \"2015-03-01T00:00:00\", \"2015-03-08T00:00:00\", \"2015-03-15T00:00:00\", \"2015-03-22T00:00:00\", \"2015-03-29T00:00:00\", \"2015-04-05T00:00:00\", \"2015-04-12T00:00:00\", \"2015-04-19T00:00:00\", \"2015-04-26T00:00:00\", \"2015-05-03T00:00:00\", \"2015-05-10T00:00:00\", \"2015-05-17T00:00:00\", \"2015-05-24T00:00:00\", \"2015-05-31T00:00:00\", \"2015-06-07T00:00:00\", \"2015-06-14T00:00:00\", \"2015-06-21T00:00:00\", \"2015-06-28T00:00:00\", \"2015-07-05T00:00:00\", \"2015-07-12T00:00:00\", \"2015-07-19T00:00:00\", \"2015-07-26T00:00:00\", \"2015-08-02T00:00:00\", \"2015-08-09T00:00:00\", \"2015-08-16T00:00:00\", \"2015-08-23T00:00:00\", \"2015-08-30T00:00:00\", \"2015-09-06T00:00:00\", \"2015-09-13T00:00:00\", \"2015-09-20T00:00:00\", \"2015-09-27T00:00:00\", \"2015-10-04T00:00:00\", \"2015-10-11T00:00:00\", \"2015-10-18T00:00:00\", \"2015-10-25T00:00:00\", \"2015-11-01T00:00:00\", \"2015-11-08T00:00:00\", \"2015-11-15T00:00:00\", \"2015-11-22T00:00:00\", \"2015-11-29T00:00:00\", \"2015-12-06T00:00:00\", \"2015-12-13T00:00:00\", \"2015-12-20T00:00:00\", \"2015-12-27T00:00:00\", \"2016-01-03T00:00:00\", \"2016-01-10T00:00:00\", \"2016-01-17T00:00:00\", \"2016-01-24T00:00:00\", \"2016-01-31T00:00:00\", \"2016-02-07T00:00:00\", \"2016-02-14T00:00:00\", \"2016-02-21T00:00:00\", \"2016-02-28T00:00:00\", \"2016-03-06T00:00:00\", \"2016-03-13T00:00:00\", \"2016-03-20T00:00:00\", \"2016-03-27T00:00:00\", \"2016-04-03T00:00:00\", \"2016-04-10T00:00:00\", \"2016-04-17T00:00:00\", \"2016-04-24T00:00:00\", \"2016-05-01T00:00:00\", \"2016-05-08T00:00:00\", \"2016-05-15T00:00:00\", \"2016-05-22T00:00:00\", \"2016-05-29T00:00:00\", \"2016-06-05T00:00:00\", \"2016-06-12T00:00:00\", \"2016-06-19T00:00:00\"], \"y\": [13793.469999999706, 15528.869999999602, 16465.62999999957, 16826.709999999566, 17171.13999999953, 17560.619999999486, 17994.979999999454, 18348.45999999947, 18498.579999999492, 18760.259999999515, 19052.769999999553, 19265.709999999577, 19414.799999999588, 19715.27999999959, 19887.609999999604, 19932.039999999615, 19958.61999999962, 20088.21999999963, 20167.139999999614, 20257.95999999962, 20317.8099999996, 20400.259999999587, 20480.709999999577, 20528.539999999583, 20658.609999999608, 20790.699999999615, 20866.9599999996, 20977.3399999996, 21021.839999999585, 21164.62999999958, 21309.579999999616, 21380.7699999996, 21493.58999999959, 21625.0499999996, 21753.089999999596, 21832.619999999628, 21907.879999999644, 21949.059999999638, 22075.039999999637, 22093.939999999664, 22145.959999999664, 22175.819999999687, 22206.429999999677, 22226.599999999682, 22242.669999999678, 22258.069999999687, 22319.5099999997, 22371.379999999706, 22434.95999999971, 22537.76999999974, 22624.09999999975, 22710.549999999745, 22998.079999999765, 23325.129999999757, 23613.869999999784, 23936.039999999804, 24209.41999999988, 24537.929999999862, 24808.589999999916, 25007.899999999903, 25104.7799999999, 25145.49999999992, 25252.1499999999, 25336.339999999887, 25481.22999999985, 25567.41999999985, 25747.059999999852, 25866.74999999984, 25950.46999999983, 26061.229999999814, 26159.019999999837, 26134.999999999847, 26229.689999999857, 26436.909999999873, 26892.899999999852, 27120.97999999986, 27345.28999999986, 27462.88999999988, 27610.27999999988, 27879.33999999987, 28016.849999999904, 28190.049999999876, 28292.579999999856, 28371.37999999985, 28457.77999999986, 28556.499999999833, 28577.469999999837, 28669.62999999985, 28730.139999999836, 28683.509999999846, 28742.749999999854, 28776.059999999856, 28911.14999999985, 28970.71999999983, 29004.089999999836, 29040.629999999834, 29145.089999999836, 29225.949999999822, 29292.699999999815, 29411.919999999824, 29433.659999999807, 29636.089999999775, 29724.29999999976, 29782.959999999737, 29788.20999999976, 29989.41999999978, 30151.86999999982, 30331.68999999984, 30575.819999999847, 30695.28999999986, 30846.179999999862, 30896.829999999867, 30923.74999999987, 31032.539999999874, 31158.029999999897, 31317.24999999992, 31427.9199999999, 31535.42999999992, 31669.659999999945, 31772.949999999975, 31812.009999999977, 31877.74999999997, 31921.910000000044, 32144.27000000006, 32113.580000000038, 32143.37000000002, 32340.37000000001, 32482.899999999983, 32569.640000000007, 32697.870000000003, 32753.94, 32861.79000000001, 32878.91000000001, 32976.64000000006, 32986.61000000006, 33180.920000000115, 33393.220000000205, 33515.60000000027, 33659.810000000325, 33718.020000000346, 33805.49000000039, 33865.17000000042, 33920.84000000046, 33939.60000000043, 33972.450000000514, 33975.10000000055, 34021.18000000054, 34065.51000000056, 34169.51000000061, 34200.40000000063, 34279.210000000654, 34322.59000000069, 34491.73000000077, 34605.9900000008, 34690.50000000079, 34796.330000000846, 34877.370000000876, 35054.0600000009, 35220.320000000895, 35498.37000000092, 35735.51000000095, 36121.290000001, 36277.870000001014, 36436.14000000106, 36546.92000000109, 36695.21000000113, 36778.69000000115, 36904.25000000116, 37012.04000000117, 37095.290000001194, 37193.040000001194, 37294.660000001204, 37368.870000001196, 37416.90000000123, 37503.71000000125, 37575.92000000127, 37772.81000000125, 37865.5200000013, 38021.75000000133, 38166.760000001355, 38273.640000001265, 38411.60000000123, 38501.30000000123, 38498.79000000128, 38477.57000000123, 38573.87000000132, 38650.820000001346, 38786.86000000136, 38859.780000001396, 38925.910000001415, 38961.530000001396, 38983.30000000141, 39031.480000001415, 39163.500000001426, 39198.76000000145, 39220.62000000148, 39271.92000000151, 39316.26000000152, 39348.00000000153, 39379.08000000154, 39442.92000000151, 39523.3200000015, 39590.73000000148, 39663.99000000151, 39803.85000000155, 39950.81000000155, 40010.90000000155, 40063.600000001534, 40131.55000000157, 40194.94000000158, 40282.980000001655, 40239.45000000169, 40243.35000000169, 40311.40000000172, 40340.400000001726, 40396.99000000176, 40366.43000000174, 40400.590000001685, 40472.30000000171, 40531.85000000173, 40516.1000000017, 40521.920000001664, 40524.11000000168, 40591.52000000169, 40603.40000000169, 40598.36000000169, 40594.07000000171, 40617.26000000172, 40640.600000001745, 40651.07000000176, 40660.37000000177, 40649.540000001776, 40672.070000001804, 40664.5500000018, 40663.090000001815, 40630.55000000178, 40636.920000001795, 40650.870000001785, 40635.06000000179, 40657.35000000182, 40655.01000000179, 40668.36000000178, 40659.42000000181, 40684.210000001854, 40701.60000000187, 40721.65000000187, 40732.30000000188, 40753.35000000188, 40768.840000001896, 40765.51000000191, 40806.46000000189, 40818.73000000187, 40826.7300000019, 40849.88000000191, 40844.610000001856, 40842.500000001855, 40806.12000000184, 40802.97000000183, 40834.13000000184, 40853.440000001836, 40847.15000000184, 40821.16000000183, 40840.37000000185, 40838.24000000189, 40791.720000001864, 40790.9400000019, 40796.76000000189, 40821.05000000185, 40788.44000000184, 40797.74000000187, 40801.780000001854, 40788.290000001856, 40789.72000000184, 40830.190000001865, 40839.520000001845, 40811.77000000182, 40797.960000001825, 40789.180000001834, 40795.19000000182, 40807.620000001814, 40821.45000000182, 40792.76000000185]}, {\"name\": \"Wi\", \"type\": \"scatter\", \"x\": [\"2011-01-30T00:00:00\", \"2011-02-06T00:00:00\", \"2011-02-13T00:00:00\", \"2011-02-20T00:00:00\", \"2011-02-27T00:00:00\", \"2011-03-06T00:00:00\", \"2011-03-13T00:00:00\", \"2011-03-20T00:00:00\", \"2011-03-27T00:00:00\", \"2011-04-03T00:00:00\", \"2011-04-10T00:00:00\", \"2011-04-17T00:00:00\", \"2011-04-24T00:00:00\", \"2011-05-01T00:00:00\", \"2011-05-08T00:00:00\", \"2011-05-15T00:00:00\", \"2011-05-22T00:00:00\", \"2011-05-29T00:00:00\", \"2011-06-05T00:00:00\", \"2011-06-12T00:00:00\", \"2011-06-19T00:00:00\", \"2011-06-26T00:00:00\", \"2011-07-03T00:00:00\", \"2011-07-10T00:00:00\", \"2011-07-17T00:00:00\", \"2011-07-24T00:00:00\", \"2011-07-31T00:00:00\", \"2011-08-07T00:00:00\", \"2011-08-14T00:00:00\", \"2011-08-21T00:00:00\", \"2011-08-28T00:00:00\", \"2011-09-04T00:00:00\", \"2011-09-11T00:00:00\", \"2011-09-18T00:00:00\", \"2011-09-25T00:00:00\", \"2011-10-02T00:00:00\", \"2011-10-09T00:00:00\", \"2011-10-16T00:00:00\", \"2011-10-23T00:00:00\", \"2011-10-30T00:00:00\", \"2011-11-06T00:00:00\", \"2011-11-13T00:00:00\", \"2011-11-20T00:00:00\", \"2011-11-27T00:00:00\", \"2011-12-04T00:00:00\", \"2011-12-11T00:00:00\", \"2011-12-18T00:00:00\", \"2011-12-25T00:00:00\", \"2012-01-01T00:00:00\", \"2012-01-08T00:00:00\", \"2012-01-15T00:00:00\", \"2012-01-22T00:00:00\", \"2012-01-29T00:00:00\", \"2012-02-05T00:00:00\", \"2012-02-12T00:00:00\", \"2012-02-19T00:00:00\", \"2012-02-26T00:00:00\", \"2012-03-04T00:00:00\", \"2012-03-11T00:00:00\", \"2012-03-18T00:00:00\", \"2012-03-25T00:00:00\", \"2012-04-01T00:00:00\", \"2012-04-08T00:00:00\", \"2012-04-15T00:00:00\", \"2012-04-22T00:00:00\", \"2012-04-29T00:00:00\", \"2012-05-06T00:00:00\", \"2012-05-13T00:00:00\", \"2012-05-20T00:00:00\", \"2012-05-27T00:00:00\", \"2012-06-03T00:00:00\", \"2012-06-10T00:00:00\", \"2012-06-17T00:00:00\", \"2012-06-24T00:00:00\", \"2012-07-01T00:00:00\", \"2012-07-08T00:00:00\", \"2012-07-15T00:00:00\", \"2012-07-22T00:00:00\", \"2012-07-29T00:00:00\", \"2012-08-05T00:00:00\", \"2012-08-12T00:00:00\", \"2012-08-19T00:00:00\", \"2012-08-26T00:00:00\", \"2012-09-02T00:00:00\", \"2012-09-09T00:00:00\", \"2012-09-16T00:00:00\", \"2012-09-23T00:00:00\", \"2012-09-30T00:00:00\", \"2012-10-07T00:00:00\", \"2012-10-14T00:00:00\", \"2012-10-21T00:00:00\", \"2012-10-28T00:00:00\", \"2012-11-04T00:00:00\", \"2012-11-11T00:00:00\", \"2012-11-18T00:00:00\", \"2012-11-25T00:00:00\", \"2012-12-02T00:00:00\", \"2012-12-09T00:00:00\", \"2012-12-16T00:00:00\", \"2012-12-23T00:00:00\", \"2012-12-30T00:00:00\", \"2013-01-06T00:00:00\", \"2013-01-13T00:00:00\", \"2013-01-20T00:00:00\", \"2013-01-27T00:00:00\", \"2013-02-03T00:00:00\", \"2013-02-10T00:00:00\", \"2013-02-17T00:00:00\", \"2013-02-24T00:00:00\", \"2013-03-03T00:00:00\", \"2013-03-10T00:00:00\", \"2013-03-17T00:00:00\", \"2013-03-24T00:00:00\", \"2013-03-31T00:00:00\", \"2013-04-07T00:00:00\", \"2013-04-14T00:00:00\", \"2013-04-21T00:00:00\", \"2013-04-28T00:00:00\", \"2013-05-05T00:00:00\", \"2013-05-12T00:00:00\", \"2013-05-19T00:00:00\", \"2013-05-26T00:00:00\", \"2013-06-02T00:00:00\", \"2013-06-09T00:00:00\", \"2013-06-16T00:00:00\", \"2013-06-23T00:00:00\", \"2013-06-30T00:00:00\", \"2013-07-07T00:00:00\", \"2013-07-14T00:00:00\", \"2013-07-21T00:00:00\", \"2013-07-28T00:00:00\", \"2013-08-04T00:00:00\", \"2013-08-11T00:00:00\", \"2013-08-18T00:00:00\", \"2013-08-25T00:00:00\", \"2013-09-01T00:00:00\", \"2013-09-08T00:00:00\", \"2013-09-15T00:00:00\", \"2013-09-22T00:00:00\", \"2013-09-29T00:00:00\", \"2013-10-06T00:00:00\", \"2013-10-13T00:00:00\", \"2013-10-20T00:00:00\", \"2013-10-27T00:00:00\", \"2013-11-03T00:00:00\", \"2013-11-10T00:00:00\", \"2013-11-17T00:00:00\", \"2013-11-24T00:00:00\", \"2013-12-01T00:00:00\", \"2013-12-08T00:00:00\", \"2013-12-15T00:00:00\", \"2013-12-22T00:00:00\", \"2013-12-29T00:00:00\", \"2014-01-05T00:00:00\", \"2014-01-12T00:00:00\", \"2014-01-19T00:00:00\", \"2014-01-26T00:00:00\", \"2014-02-02T00:00:00\", \"2014-02-09T00:00:00\", \"2014-02-16T00:00:00\", \"2014-02-23T00:00:00\", \"2014-03-02T00:00:00\", \"2014-03-09T00:00:00\", \"2014-03-16T00:00:00\", \"2014-03-23T00:00:00\", \"2014-03-30T00:00:00\", \"2014-04-06T00:00:00\", \"2014-04-13T00:00:00\", \"2014-04-20T00:00:00\", \"2014-04-27T00:00:00\", \"2014-05-04T00:00:00\", \"2014-05-11T00:00:00\", \"2014-05-18T00:00:00\", \"2014-05-25T00:00:00\", \"2014-06-01T00:00:00\", \"2014-06-08T00:00:00\", \"2014-06-15T00:00:00\", \"2014-06-22T00:00:00\", \"2014-06-29T00:00:00\", \"2014-07-06T00:00:00\", \"2014-07-13T00:00:00\", \"2014-07-20T00:00:00\", \"2014-07-27T00:00:00\", \"2014-08-03T00:00:00\", \"2014-08-10T00:00:00\", \"2014-08-17T00:00:00\", \"2014-08-24T00:00:00\", \"2014-08-31T00:00:00\", \"2014-09-07T00:00:00\", \"2014-09-14T00:00:00\", \"2014-09-21T00:00:00\", \"2014-09-28T00:00:00\", \"2014-10-05T00:00:00\", \"2014-10-12T00:00:00\", \"2014-10-19T00:00:00\", \"2014-10-26T00:00:00\", \"2014-11-02T00:00:00\", \"2014-11-09T00:00:00\", \"2014-11-16T00:00:00\", \"2014-11-23T00:00:00\", \"2014-11-30T00:00:00\", \"2014-12-07T00:00:00\", \"2014-12-14T00:00:00\", \"2014-12-21T00:00:00\", \"2014-12-28T00:00:00\", \"2015-01-04T00:00:00\", \"2015-01-11T00:00:00\", \"2015-01-18T00:00:00\", \"2015-01-25T00:00:00\", \"2015-02-01T00:00:00\", \"2015-02-08T00:00:00\", \"2015-02-15T00:00:00\", \"2015-02-22T00:00:00\", \"2015-03-01T00:00:00\", \"2015-03-08T00:00:00\", \"2015-03-15T00:00:00\", \"2015-03-22T00:00:00\", \"2015-03-29T00:00:00\", \"2015-04-05T00:00:00\", \"2015-04-12T00:00:00\", \"2015-04-19T00:00:00\", \"2015-04-26T00:00:00\", \"2015-05-03T00:00:00\", \"2015-05-10T00:00:00\", \"2015-05-17T00:00:00\", \"2015-05-24T00:00:00\", \"2015-05-31T00:00:00\", \"2015-06-07T00:00:00\", \"2015-06-14T00:00:00\", \"2015-06-21T00:00:00\", \"2015-06-28T00:00:00\", \"2015-07-05T00:00:00\", \"2015-07-12T00:00:00\", \"2015-07-19T00:00:00\", \"2015-07-26T00:00:00\", \"2015-08-02T00:00:00\", \"2015-08-09T00:00:00\", \"2015-08-16T00:00:00\", \"2015-08-23T00:00:00\", \"2015-08-30T00:00:00\", \"2015-09-06T00:00:00\", \"2015-09-13T00:00:00\", \"2015-09-20T00:00:00\", \"2015-09-27T00:00:00\", \"2015-10-04T00:00:00\", \"2015-10-11T00:00:00\", \"2015-10-18T00:00:00\", \"2015-10-25T00:00:00\", \"2015-11-01T00:00:00\", \"2015-11-08T00:00:00\", \"2015-11-15T00:00:00\", \"2015-11-22T00:00:00\", \"2015-11-29T00:00:00\", \"2015-12-06T00:00:00\", \"2015-12-13T00:00:00\", \"2015-12-20T00:00:00\", \"2015-12-27T00:00:00\", \"2016-01-03T00:00:00\", \"2016-01-10T00:00:00\", \"2016-01-17T00:00:00\", \"2016-01-24T00:00:00\", \"2016-01-31T00:00:00\", \"2016-02-07T00:00:00\", \"2016-02-14T00:00:00\", \"2016-02-21T00:00:00\", \"2016-02-28T00:00:00\", \"2016-03-06T00:00:00\", \"2016-03-13T00:00:00\", \"2016-03-20T00:00:00\", \"2016-03-27T00:00:00\", \"2016-04-03T00:00:00\", \"2016-04-10T00:00:00\", \"2016-04-17T00:00:00\", \"2016-04-24T00:00:00\", \"2016-05-01T00:00:00\", \"2016-05-08T00:00:00\", \"2016-05-15T00:00:00\", \"2016-05-22T00:00:00\", \"2016-05-29T00:00:00\", \"2016-06-05T00:00:00\", \"2016-06-12T00:00:00\", \"2016-06-19T00:00:00\"], \"y\": [12161.67999999979, 13886.039999999719, 14693.139999999683, 15149.799999999652, 15457.26999999963, 15854.549999999601, 16256.099999999577, 16486.22999999956, 16680.109999999564, 16944.969999999583, 17250.989999999572, 17538.13999999956, 17696.90999999957, 17809.389999999566, 17936.629999999568, 17984.759999999576, 18011.23999999958, 18214.52999999958, 18272.759999999576, 18381.839999999567, 18442.47999999955, 18498.04999999956, 18574.529999999533, 18671.579999999514, 18740.089999999516, 18824.739999999507, 18974.689999999526, 19051.87999999953, 19137.979999999552, 19220.519999999564, 19281.36999999959, 19459.87999999959, 19558.619999999577, 19652.899999999547, 19729.099999999555, 19818.769999999542, 19895.47999999955, 19956.65999999954, 20030.149999999576, 20091.359999999586, 20092.149999999598, 20114.93999999959, 20138.909999999592, 20227.2899999996, 20236.129999999604, 20282.35999999961, 20333.689999999602, 20361.739999999587, 20451.50999999958, 20540.359999999557, 20693.42999999955, 20840.45999999954, 21055.899999999547, 21273.229999999538, 21580.449999999546, 21737.66999999957, 22083.2599999996, 22484.849999999646, 22781.04999999969, 22898.349999999704, 22972.969999999692, 23026.92999999969, 23103.469999999692, 23158.059999999707, 23266.019999999702, 23806.94999999978, 24291.609999999782, 24453.139999999778, 24580.09999999978, 24715.97999999979, 24783.689999999788, 24891.8899999998, 24982.4399999998, 25102.489999999816, 25649.649999999845, 25928.659999999858, 26186.48999999987, 26332.079999999878, 26473.63999999988, 26663.049999999876, 26842.199999999906, 26959.789999999895, 27008.939999999893, 27061.21999999989, 27127.309999999874, 27245.79999999987, 27332.549999999854, 27370.249999999854, 27441.259999999842, 27460.589999999836, 28144.289999999837, 28629.359999999837, 28786.119999999843, 28838.31999999984, 28878.089999999833, 28987.52999999985, 29034.709999999865, 29117.509999999886, 29170.12999999988, 29195.58999999985, 29261.779999999813, 29488.249999999778, 29686.609999999768, 29790.129999999757, 29909.149999999787, 30075.08999999983, 30197.34999999984, 30361.009999999853, 30555.399999999878, 30690.049999999872, 30907.099999999857, 31017.72999999986, 31102.249999999873, 31211.43999999988, 31321.04999999991, 31461.65999999994, 31598.54999999995, 31769.449999999975, 31841.97999999996, 32005.139999999985, 32170.809999999994, 32241.88, 32327.010000000068, 32337.900000000074, 32383.750000000044, 32439.21000000003, 32688.750000000047, 32771.830000000045, 32990.7000000001, 33144.88000000017, 33372.940000000264, 33450.52000000029, 33487.320000000305, 33530.550000000316, 33583.620000000315, 33654.18000000034, 33737.46000000038, 33873.530000000464, 33954.49000000047, 34063.30000000052, 34118.99000000052, 34182.320000000545, 34213.85000000057, 34289.88000000062, 34341.42000000067, 34342.01000000068, 34355.56000000074, 34401.38000000077, 34460.720000000816, 34519.27000000085, 34582.61000000086, 34641.31000000086, 34722.90000000086, 34883.6300000009, 35003.57000000092, 35145.13000000094, 35238.13000000099, 35280.08000000097, 35388.03000000096, 35604.470000001, 35967.080000001086, 36322.70000000112, 36560.55000000115, 36730.81000000118, 36925.69000000124, 37042.84000000124, 37119.510000001246, 37199.780000001265, 37303.120000001276, 37376.98000000125, 37552.170000001315, 37656.28000000132, 37739.17000000128, 37808.630000001285, 37908.03000000132, 37993.55000000135, 38127.1200000013, 38236.77000000136, 38349.02000000147, 38417.290000001456, 38537.890000001375, 38653.160000001284, 38749.59000000128, 38821.9300000013, 38893.46000000133, 38941.12000000136, 39021.720000001405, 39083.97000000143, 39197.470000001435, 39278.540000001434, 39347.670000001424, 39381.26000000146, 39411.39000000149, 39585.74000000157, 39603.680000001616, 39615.09000000163, 39720.760000001625, 39749.47000000162, 39703.73000000163, 39770.53000000162, 39859.75000000168, 39923.37000000171, 39957.7500000017, 39969.410000001684, 40104.050000001735, 40222.09000000173, 40292.440000001734, 40412.610000001805, 40435.0700000018, 40515.40000000184, 40595.11000000186, 40657.780000001876, 40662.63000000185, 40668.73000000183, 40747.31000000186, 40809.520000001874, 40764.24000000189, 40819.710000001876, 40907.12000000191, 40955.17000000192, 41004.610000001914, 41001.110000001914, 41031.80000000191, 41048.750000001906, 41065.9100000019, 41061.700000001925, 41064.77000000194, 41068.120000001945, 41094.570000001935, 41087.41000000193, 41094.62000000195, 41101.13000000195, 41109.53000000193, 41119.79000000193, 41097.68000000196, 41098.360000001994, 41108.06000000203, 41126.05000000202, 41116.45000000204, 41113.08000000204, 41107.700000002034, 41131.10000000201, 41145.240000002, 41133.780000002036, 41160.24000000206, 41152.02000000206, 41160.69000000208, 41156.9800000021, 41152.550000002084, 41152.86000000209, 41176.12000000208, 41167.76000000206, 41175.00000000205, 41169.73000000205, 41180.66000000203, 41182.40000000204, 41179.080000001995, 41176.44000000198, 41176.34000000198, 41184.45000000196, 41185.450000002, 41175.94000000198, 41148.100000002, 41160.76000000201, 41146.67000000202, 41132.51000000204, 41137.710000002044, 41131.66000000201, 41141.190000001996, 41118.35000000201, 41142.020000002034, 41145.280000002036, 41133.56000000204, 41135.07000000203, 41124.61000000203, 41131.490000002035, 41120.46000000202, 41082.98000000203, 41096.40000000207, 41106.45000000205, 41112.35000000207, 41126.13000000209]}],\n",
              "                        {\"height\": 500, \"template\": {\"data\": {\"bar\": [{\"error_x\": {\"color\": \"#2a3f5f\"}, \"error_y\": {\"color\": \"#2a3f5f\"}, \"marker\": {\"line\": {\"color\": \"#E5ECF6\", \"width\": 0.5}}, \"type\": \"bar\"}], \"barpolar\": [{\"marker\": {\"line\": {\"color\": \"#E5ECF6\", \"width\": 0.5}}, \"type\": \"barpolar\"}], \"carpet\": [{\"aaxis\": {\"endlinecolor\": \"#2a3f5f\", \"gridcolor\": \"white\", \"linecolor\": \"white\", \"minorgridcolor\": \"white\", \"startlinecolor\": \"#2a3f5f\"}, \"baxis\": {\"endlinecolor\": \"#2a3f5f\", \"gridcolor\": \"white\", \"linecolor\": \"white\", \"minorgridcolor\": \"white\", \"startlinecolor\": \"#2a3f5f\"}, \"type\": \"carpet\"}], \"choropleth\": [{\"colorbar\": {\"outlinewidth\": 0, \"ticks\": \"\"}, \"type\": \"choropleth\"}], \"contour\": [{\"colorbar\": {\"outlinewidth\": 0, \"ticks\": \"\"}, \"colorscale\": [[0.0, \"#0d0887\"], [0.1111111111111111, \"#46039f\"], [0.2222222222222222, \"#7201a8\"], [0.3333333333333333, \"#9c179e\"], [0.4444444444444444, \"#bd3786\"], [0.5555555555555556, \"#d8576b\"], [0.6666666666666666, \"#ed7953\"], [0.7777777777777778, \"#fb9f3a\"], [0.8888888888888888, \"#fdca26\"], [1.0, \"#f0f921\"]], \"type\": \"contour\"}], \"contourcarpet\": [{\"colorbar\": {\"outlinewidth\": 0, \"ticks\": \"\"}, \"type\": \"contourcarpet\"}], \"heatmap\": [{\"colorbar\": {\"outlinewidth\": 0, \"ticks\": \"\"}, \"colorscale\": [[0.0, \"#0d0887\"], [0.1111111111111111, \"#46039f\"], [0.2222222222222222, \"#7201a8\"], [0.3333333333333333, \"#9c179e\"], [0.4444444444444444, \"#bd3786\"], [0.5555555555555556, \"#d8576b\"], [0.6666666666666666, \"#ed7953\"], [0.7777777777777778, \"#fb9f3a\"], [0.8888888888888888, \"#fdca26\"], [1.0, \"#f0f921\"]], \"type\": \"heatmap\"}], \"heatmapgl\": [{\"colorbar\": {\"outlinewidth\": 0, \"ticks\": \"\"}, \"colorscale\": [[0.0, \"#0d0887\"], [0.1111111111111111, \"#46039f\"], [0.2222222222222222, \"#7201a8\"], [0.3333333333333333, \"#9c179e\"], [0.4444444444444444, \"#bd3786\"], [0.5555555555555556, \"#d8576b\"], [0.6666666666666666, \"#ed7953\"], [0.7777777777777778, \"#fb9f3a\"], [0.8888888888888888, \"#fdca26\"], [1.0, \"#f0f921\"]], \"type\": \"heatmapgl\"}], \"histogram\": [{\"marker\": {\"colorbar\": {\"outlinewidth\": 0, \"ticks\": \"\"}}, \"type\": \"histogram\"}], \"histogram2d\": [{\"colorbar\": {\"outlinewidth\": 0, \"ticks\": \"\"}, \"colorscale\": [[0.0, \"#0d0887\"], [0.1111111111111111, \"#46039f\"], [0.2222222222222222, \"#7201a8\"], [0.3333333333333333, \"#9c179e\"], [0.4444444444444444, \"#bd3786\"], [0.5555555555555556, \"#d8576b\"], [0.6666666666666666, \"#ed7953\"], [0.7777777777777778, \"#fb9f3a\"], [0.8888888888888888, \"#fdca26\"], [1.0, \"#f0f921\"]], \"type\": \"histogram2d\"}], \"histogram2dcontour\": [{\"colorbar\": {\"outlinewidth\": 0, \"ticks\": \"\"}, \"colorscale\": [[0.0, \"#0d0887\"], [0.1111111111111111, \"#46039f\"], [0.2222222222222222, \"#7201a8\"], [0.3333333333333333, \"#9c179e\"], [0.4444444444444444, \"#bd3786\"], [0.5555555555555556, \"#d8576b\"], [0.6666666666666666, \"#ed7953\"], [0.7777777777777778, \"#fb9f3a\"], [0.8888888888888888, \"#fdca26\"], [1.0, \"#f0f921\"]], \"type\": \"histogram2dcontour\"}], \"mesh3d\": [{\"colorbar\": {\"outlinewidth\": 0, \"ticks\": \"\"}, \"type\": \"mesh3d\"}], \"parcoords\": [{\"line\": {\"colorbar\": {\"outlinewidth\": 0, \"ticks\": \"\"}}, \"type\": \"parcoords\"}], \"pie\": [{\"automargin\": true, \"type\": \"pie\"}], \"scatter\": [{\"marker\": {\"colorbar\": {\"outlinewidth\": 0, \"ticks\": \"\"}}, \"type\": \"scatter\"}], \"scatter3d\": [{\"line\": {\"colorbar\": {\"outlinewidth\": 0, \"ticks\": \"\"}}, \"marker\": {\"colorbar\": {\"outlinewidth\": 0, \"ticks\": \"\"}}, \"type\": \"scatter3d\"}], \"scattercarpet\": [{\"marker\": {\"colorbar\": {\"outlinewidth\": 0, \"ticks\": \"\"}}, \"type\": \"scattercarpet\"}], \"scattergeo\": [{\"marker\": {\"colorbar\": {\"outlinewidth\": 0, \"ticks\": \"\"}}, \"type\": \"scattergeo\"}], \"scattergl\": [{\"marker\": {\"colorbar\": {\"outlinewidth\": 0, \"ticks\": \"\"}}, \"type\": \"scattergl\"}], \"scattermapbox\": [{\"marker\": {\"colorbar\": {\"outlinewidth\": 0, \"ticks\": \"\"}}, \"type\": \"scattermapbox\"}], \"scatterpolar\": [{\"marker\": {\"colorbar\": {\"outlinewidth\": 0, \"ticks\": \"\"}}, \"type\": \"scatterpolar\"}], \"scatterpolargl\": [{\"marker\": {\"colorbar\": {\"outlinewidth\": 0, \"ticks\": \"\"}}, \"type\": \"scatterpolargl\"}], \"scatterternary\": [{\"marker\": {\"colorbar\": {\"outlinewidth\": 0, \"ticks\": \"\"}}, \"type\": \"scatterternary\"}], \"surface\": [{\"colorbar\": {\"outlinewidth\": 0, \"ticks\": \"\"}, \"colorscale\": [[0.0, \"#0d0887\"], [0.1111111111111111, \"#46039f\"], [0.2222222222222222, \"#7201a8\"], [0.3333333333333333, \"#9c179e\"], [0.4444444444444444, \"#bd3786\"], [0.5555555555555556, \"#d8576b\"], [0.6666666666666666, \"#ed7953\"], [0.7777777777777778, \"#fb9f3a\"], [0.8888888888888888, \"#fdca26\"], [1.0, \"#f0f921\"]], \"type\": \"surface\"}], \"table\": [{\"cells\": {\"fill\": {\"color\": \"#EBF0F8\"}, \"line\": {\"color\": \"white\"}}, \"header\": {\"fill\": {\"color\": \"#C8D4E3\"}, \"line\": {\"color\": \"white\"}}, \"type\": \"table\"}]}, \"layout\": {\"annotationdefaults\": {\"arrowcolor\": \"#2a3f5f\", \"arrowhead\": 0, \"arrowwidth\": 1}, \"coloraxis\": {\"colorbar\": {\"outlinewidth\": 0, \"ticks\": \"\"}}, \"colorscale\": {\"diverging\": [[0, \"#8e0152\"], [0.1, \"#c51b7d\"], [0.2, \"#de77ae\"], [0.3, \"#f1b6da\"], [0.4, \"#fde0ef\"], [0.5, \"#f7f7f7\"], [0.6, \"#e6f5d0\"], [0.7, \"#b8e186\"], [0.8, \"#7fbc41\"], [0.9, \"#4d9221\"], [1, \"#276419\"]], \"sequential\": [[0.0, \"#0d0887\"], [0.1111111111111111, \"#46039f\"], [0.2222222222222222, \"#7201a8\"], [0.3333333333333333, \"#9c179e\"], [0.4444444444444444, \"#bd3786\"], [0.5555555555555556, \"#d8576b\"], [0.6666666666666666, \"#ed7953\"], [0.7777777777777778, \"#fb9f3a\"], [0.8888888888888888, \"#fdca26\"], [1.0, \"#f0f921\"]], \"sequentialminus\": [[0.0, \"#0d0887\"], [0.1111111111111111, \"#46039f\"], [0.2222222222222222, \"#7201a8\"], [0.3333333333333333, \"#9c179e\"], [0.4444444444444444, \"#bd3786\"], [0.5555555555555556, \"#d8576b\"], [0.6666666666666666, \"#ed7953\"], [0.7777777777777778, \"#fb9f3a\"], [0.8888888888888888, \"#fdca26\"], [1.0, \"#f0f921\"]]}, \"colorway\": [\"#636efa\", \"#EF553B\", \"#00cc96\", \"#ab63fa\", \"#FFA15A\", \"#19d3f3\", \"#FF6692\", \"#B6E880\", \"#FF97FF\", \"#FECB52\"], \"font\": {\"color\": \"#2a3f5f\"}, \"geo\": {\"bgcolor\": \"white\", \"lakecolor\": \"white\", \"landcolor\": \"#E5ECF6\", \"showlakes\": true, \"showland\": true, \"subunitcolor\": \"white\"}, \"hoverlabel\": {\"align\": \"left\"}, \"hovermode\": \"closest\", \"mapbox\": {\"style\": \"light\"}, \"paper_bgcolor\": \"white\", \"plot_bgcolor\": \"#E5ECF6\", \"polar\": {\"angularaxis\": {\"gridcolor\": \"white\", \"linecolor\": \"white\", \"ticks\": \"\"}, \"bgcolor\": \"#E5ECF6\", \"radialaxis\": {\"gridcolor\": \"white\", \"linecolor\": \"white\", \"ticks\": \"\"}}, \"scene\": {\"xaxis\": {\"backgroundcolor\": \"#E5ECF6\", \"gridcolor\": \"white\", \"gridwidth\": 2, \"linecolor\": \"white\", \"showbackground\": true, \"ticks\": \"\", \"zerolinecolor\": \"white\"}, \"yaxis\": {\"backgroundcolor\": \"#E5ECF6\", \"gridcolor\": \"white\", \"gridwidth\": 2, \"linecolor\": \"white\", \"showbackground\": true, \"ticks\": \"\", \"zerolinecolor\": \"white\"}, \"zaxis\": {\"backgroundcolor\": \"#E5ECF6\", \"gridcolor\": \"white\", \"gridwidth\": 2, \"linecolor\": \"white\", \"showbackground\": true, \"ticks\": \"\", \"zerolinecolor\": \"white\"}}, \"shapedefaults\": {\"line\": {\"color\": \"#2a3f5f\"}}, \"ternary\": {\"aaxis\": {\"gridcolor\": \"white\", \"linecolor\": \"white\", \"ticks\": \"\"}, \"baxis\": {\"gridcolor\": \"white\", \"linecolor\": \"white\", \"ticks\": \"\"}, \"bgcolor\": \"#E5ECF6\", \"caxis\": {\"gridcolor\": \"white\", \"linecolor\": \"white\", \"ticks\": \"\"}}, \"title\": {\"x\": 0.05}, \"xaxis\": {\"automargin\": true, \"gridcolor\": \"white\", \"linecolor\": \"white\", \"ticks\": \"\", \"title\": {\"standoff\": 15}, \"zerolinecolor\": \"white\", \"zerolinewidth\": 2}, \"yaxis\": {\"automargin\": true, \"gridcolor\": \"white\", \"linecolor\": \"white\", \"ticks\": \"\", \"title\": {\"standoff\": 15}, \"zerolinecolor\": \"white\", \"zerolinewidth\": 2}}}, \"title\": {\"text\": \"Monthly Sales per State\", \"x\": 0.5}, \"width\": 800, \"xaxis\": {\"title\": {\"text\": \"Year\"}}, \"yaxis\": {\"title\": {\"text\": \"Total Sales\"}}},\n",
              "                        {\"responsive\": true}\n",
              "                    ).then(function(){\n",
              "                            \n",
              "var gd = document.getElementById('2e471e7f-ae5c-46ed-bc0b-0262c9378012');\n",
              "var x = new MutationObserver(function (mutations, observer) {{\n",
              "        var display = window.getComputedStyle(gd).display;\n",
              "        if (!display || display === 'none') {{\n",
              "            console.log([gd, 'removed!']);\n",
              "            Plotly.purge(gd);\n",
              "            observer.disconnect();\n",
              "        }}\n",
              "}});\n",
              "\n",
              "// Listen for the removal of the full notebook cells\n",
              "var notebookContainer = gd.closest('#notebook-container');\n",
              "if (notebookContainer) {{\n",
              "    x.observe(notebookContainer, {childList: true});\n",
              "}}\n",
              "\n",
              "// Listen for the clearing of the current output cell\n",
              "var outputEl = gd.closest('.output');\n",
              "if (outputEl) {{\n",
              "    x.observe(outputEl, {childList: true});\n",
              "}}\n",
              "\n",
              "                        })\n",
              "                };\n",
              "                \n",
              "            </script>\n",
              "        </div>\n",
              "</body>\n",
              "</html>"
            ]
          },
          "metadata": {
            "tags": []
          }
        }
      ]
    },
    {
      "cell_type": "markdown",
      "metadata": {
        "id": "XuDhn5gSsmCa"
      },
      "source": [
        "**Observation:**\r\n",
        "* California tops the sales every year, whereas sales in Texas and Wisconsin are almost the same\r\n",
        "* We can understand that same type of prodcts are being sold almost equally across all the states as the total sale price graph is sames as the number products sold on each state."
      ]
    },
    {
      "cell_type": "markdown",
      "metadata": {
        "id": "q9D9zOM4Xd7l"
      },
      "source": [
        "# **Calendar - EDA**"
      ]
    },
    {
      "cell_type": "code",
      "metadata": {
        "colab": {
          "base_uri": "https://localhost:8080/",
          "height": 106
        },
        "id": "0NBViLzAXIgu",
        "outputId": "a6c956f6-0f65-4f3d-82b8-05bf31670247"
      },
      "source": [
        "cal = pd.read_csv(\"calendar.csv\")\r\n",
        "sales = pd.read_csv(\"sales_train_evaluation.csv\")\r\n",
        "cal.head(2)"
      ],
      "execution_count": 4,
      "outputs": [
        {
          "output_type": "execute_result",
          "data": {
            "text/html": [
              "<div>\n",
              "<style scoped>\n",
              "    .dataframe tbody tr th:only-of-type {\n",
              "        vertical-align: middle;\n",
              "    }\n",
              "\n",
              "    .dataframe tbody tr th {\n",
              "        vertical-align: top;\n",
              "    }\n",
              "\n",
              "    .dataframe thead th {\n",
              "        text-align: right;\n",
              "    }\n",
              "</style>\n",
              "<table border=\"1\" class=\"dataframe\">\n",
              "  <thead>\n",
              "    <tr style=\"text-align: right;\">\n",
              "      <th></th>\n",
              "      <th>date</th>\n",
              "      <th>wm_yr_wk</th>\n",
              "      <th>weekday</th>\n",
              "      <th>wday</th>\n",
              "      <th>month</th>\n",
              "      <th>year</th>\n",
              "      <th>d</th>\n",
              "      <th>event_name_1</th>\n",
              "      <th>event_type_1</th>\n",
              "      <th>event_name_2</th>\n",
              "      <th>event_type_2</th>\n",
              "      <th>snap_CA</th>\n",
              "      <th>snap_TX</th>\n",
              "      <th>snap_WI</th>\n",
              "    </tr>\n",
              "  </thead>\n",
              "  <tbody>\n",
              "    <tr>\n",
              "      <th>0</th>\n",
              "      <td>2011-01-29</td>\n",
              "      <td>11101</td>\n",
              "      <td>Saturday</td>\n",
              "      <td>1</td>\n",
              "      <td>1</td>\n",
              "      <td>2011</td>\n",
              "      <td>d_1</td>\n",
              "      <td>NaN</td>\n",
              "      <td>NaN</td>\n",
              "      <td>NaN</td>\n",
              "      <td>NaN</td>\n",
              "      <td>0</td>\n",
              "      <td>0</td>\n",
              "      <td>0</td>\n",
              "    </tr>\n",
              "    <tr>\n",
              "      <th>1</th>\n",
              "      <td>2011-01-30</td>\n",
              "      <td>11101</td>\n",
              "      <td>Sunday</td>\n",
              "      <td>2</td>\n",
              "      <td>1</td>\n",
              "      <td>2011</td>\n",
              "      <td>d_2</td>\n",
              "      <td>NaN</td>\n",
              "      <td>NaN</td>\n",
              "      <td>NaN</td>\n",
              "      <td>NaN</td>\n",
              "      <td>0</td>\n",
              "      <td>0</td>\n",
              "      <td>0</td>\n",
              "    </tr>\n",
              "  </tbody>\n",
              "</table>\n",
              "</div>"
            ],
            "text/plain": [
              "         date  wm_yr_wk   weekday  wday  ...  event_type_2  snap_CA snap_TX snap_WI\n",
              "0  2011-01-29     11101  Saturday     1  ...           NaN        0       0       0\n",
              "1  2011-01-30     11101    Sunday     2  ...           NaN        0       0       0\n",
              "\n",
              "[2 rows x 14 columns]"
            ]
          },
          "metadata": {
            "tags": []
          },
          "execution_count": 4
        }
      ]
    },
    {
      "cell_type": "code",
      "metadata": {
        "colab": {
          "base_uri": "https://localhost:8080/"
        },
        "id": "sBxu8Fc6XKFj",
        "outputId": "f6bfab66-64dd-450d-a6e6-12dc8c9a448a"
      },
      "source": [
        "print(f\"There are totally {cal.event_type_1.nunique()} {tuple(cal.event_type_1.unique()[1:])} types of events happening through out the year\")\r\n",
        "print(f\"There are {cal.isna().sum().sum()} missing/NaN values in cal dataframe\")"
      ],
      "execution_count": 5,
      "outputs": [
        {
          "output_type": "stream",
          "text": [
            "There are totally 4 ('Sporting', 'Cultural', 'National', 'Religious') types of events happening through out the year\n",
            "There are 7542 missing/NaN values in cal dataframe\n"
          ],
          "name": "stdout"
        }
      ]
    },
    {
      "cell_type": "code",
      "metadata": {
        "colab": {
          "base_uri": "https://localhost:8080/"
        },
        "id": "npbQ2jLMXL3H",
        "outputId": "03cdcef7-26dd-498c-c058-3fedce090d63"
      },
      "source": [
        "cal.info()"
      ],
      "execution_count": 6,
      "outputs": [
        {
          "output_type": "stream",
          "text": [
            "<class 'pandas.core.frame.DataFrame'>\n",
            "RangeIndex: 1969 entries, 0 to 1968\n",
            "Data columns (total 14 columns):\n",
            " #   Column        Non-Null Count  Dtype \n",
            "---  ------        --------------  ----- \n",
            " 0   date          1969 non-null   object\n",
            " 1   wm_yr_wk      1969 non-null   int64 \n",
            " 2   weekday       1969 non-null   object\n",
            " 3   wday          1969 non-null   int64 \n",
            " 4   month         1969 non-null   int64 \n",
            " 5   year          1969 non-null   int64 \n",
            " 6   d             1969 non-null   object\n",
            " 7   event_name_1  162 non-null    object\n",
            " 8   event_type_1  162 non-null    object\n",
            " 9   event_name_2  5 non-null      object\n",
            " 10  event_type_2  5 non-null      object\n",
            " 11  snap_CA       1969 non-null   int64 \n",
            " 12  snap_TX       1969 non-null   int64 \n",
            " 13  snap_WI       1969 non-null   int64 \n",
            "dtypes: int64(7), object(7)\n",
            "memory usage: 215.5+ KB\n"
          ],
          "name": "stdout"
        }
      ]
    },
    {
      "cell_type": "markdown",
      "metadata": {
        "id": "qK1fIB1vXSJj"
      },
      "source": [
        "**Observation:**\r\n",
        "    \r\n",
        "> On the span of 5 years between 2011-01-29 and 2016-06-19, there were special events on 162 days out of which 5 days had multiple events.\r\n"
      ]
    },
    {
      "cell_type": "code",
      "metadata": {
        "id": "iol-wUR6X5B5"
      },
      "source": [
        "cal.fillna('No_Event', inplace=True)\r\n",
        "c = sales[days].T\r\n",
        "d = cal[['weekday','d']][:1942]"
      ],
      "execution_count": 15,
      "outputs": []
    },
    {
      "cell_type": "code",
      "metadata": {
        "id": "FYTynzUVnHWQ"
      },
      "source": [
        "temp = c.merge(d,left_index=True, right_on='d')\r\n",
        "temp.set_index('d', inplace=True)\r\n",
        "temp = temp.groupby('weekday').sum().sum(axis=1).sort_values()\r\n",
        "y = [str(np.round(i/temp.sum()*100, 2))+'%' for i in temp.values]"
      ],
      "execution_count": 16,
      "outputs": []
    },
    {
      "cell_type": "code",
      "metadata": {
        "colab": {
          "base_uri": "https://localhost:8080/",
          "height": 517
        },
        "id": "nyBGgpTWkNCQ",
        "outputId": "7338c90f-f701-4b18-db3c-e5ade5a98c6d"
      },
      "source": [
        "colors = ['a','b','c','d','e','f','g']\r\n",
        "fig = px.bar(x=temp.index, y=y, labels={'x':\"Days\",\"y\":'Total Sales'},color=colors, text=y)\r\n",
        "fig.update_traces(hovertemplate='Total Sales: %{y}', textposition='outside')\r\n",
        "fig.update_layout(showlegend=False, width=800, height=500)\r\n",
        "# fig.show()"
      ],
      "execution_count": 17,
      "outputs": [
        {
          "output_type": "display_data",
          "data": {
            "text/html": [
              "<html>\n",
              "<head><meta charset=\"utf-8\" /></head>\n",
              "<body>\n",
              "    <div>\n",
              "            <script src=\"https://cdnjs.cloudflare.com/ajax/libs/mathjax/2.7.5/MathJax.js?config=TeX-AMS-MML_SVG\"></script><script type=\"text/javascript\">if (window.MathJax) {MathJax.Hub.Config({SVG: {font: \"STIX-Web\"}});}</script>\n",
              "                <script type=\"text/javascript\">window.PlotlyConfig = {MathJaxConfig: 'local'};</script>\n",
              "        <script src=\"https://cdn.plot.ly/plotly-latest.min.js\"></script>    \n",
              "            <div id=\"f06dad0c-6c30-47e0-b500-29409793da41\" class=\"plotly-graph-div\" style=\"height:500px; width:800px;\"></div>\n",
              "            <script type=\"text/javascript\">\n",
              "                \n",
              "                    window.PLOTLYENV=window.PLOTLYENV || {};\n",
              "                    \n",
              "                if (document.getElementById(\"f06dad0c-6c30-47e0-b500-29409793da41\")) {\n",
              "                    Plotly.newPlot(\n",
              "                        'f06dad0c-6c30-47e0-b500-29409793da41',\n",
              "                        [{\"alignmentgroup\": \"True\", \"hoverlabel\": {\"namelength\": 0}, \"hovertemplate\": \"Total Sales: %{y}\", \"legendgroup\": \"color=a\", \"marker\": {\"color\": \"#636efa\"}, \"name\": \"color=a\", \"offsetgroup\": \"color=a\", \"orientation\": \"v\", \"showlegend\": true, \"text\": [\"12.47%\"], \"textposition\": \"outside\", \"type\": \"bar\", \"x\": [\"Wednesday\"], \"xaxis\": \"x\", \"y\": [\"12.47%\"], \"yaxis\": \"y\"}, {\"alignmentgroup\": \"True\", \"hoverlabel\": {\"namelength\": 0}, \"hovertemplate\": \"Total Sales: %{y}\", \"legendgroup\": \"color=b\", \"marker\": {\"color\": \"#EF553B\"}, \"name\": \"color=b\", \"offsetgroup\": \"color=b\", \"orientation\": \"v\", \"showlegend\": true, \"text\": [\"12.55%\"], \"textposition\": \"outside\", \"type\": \"bar\", \"x\": [\"Thursday\"], \"xaxis\": \"x\", \"y\": [\"12.55%\"], \"yaxis\": \"y\"}, {\"alignmentgroup\": \"True\", \"hoverlabel\": {\"namelength\": 0}, \"hovertemplate\": \"Total Sales: %{y}\", \"legendgroup\": \"color=c\", \"marker\": {\"color\": \"#00cc96\"}, \"name\": \"color=c\", \"offsetgroup\": \"color=c\", \"orientation\": \"v\", \"showlegend\": true, \"text\": [\"12.62%\"], \"textposition\": \"outside\", \"type\": \"bar\", \"x\": [\"Tuesday\"], \"xaxis\": \"x\", \"y\": [\"12.62%\"], \"yaxis\": \"y\"}, {\"alignmentgroup\": \"True\", \"hoverlabel\": {\"namelength\": 0}, \"hovertemplate\": \"Total Sales: %{y}\", \"legendgroup\": \"color=d\", \"marker\": {\"color\": \"#ab63fa\"}, \"name\": \"color=d\", \"offsetgroup\": \"color=d\", \"orientation\": \"v\", \"showlegend\": true, \"text\": [\"13.66%\"], \"textposition\": \"outside\", \"type\": \"bar\", \"x\": [\"Monday\"], \"xaxis\": \"x\", \"y\": [\"13.66%\"], \"yaxis\": \"y\"}, {\"alignmentgroup\": \"True\", \"hoverlabel\": {\"namelength\": 0}, \"hovertemplate\": \"Total Sales: %{y}\", \"legendgroup\": \"color=e\", \"marker\": {\"color\": \"#FFA15A\"}, \"name\": \"color=e\", \"offsetgroup\": \"color=e\", \"orientation\": \"v\", \"showlegend\": true, \"text\": [\"14.22%\"], \"textposition\": \"outside\", \"type\": \"bar\", \"x\": [\"Friday\"], \"xaxis\": \"x\", \"y\": [\"14.22%\"], \"yaxis\": \"y\"}, {\"alignmentgroup\": \"True\", \"hoverlabel\": {\"namelength\": 0}, \"hovertemplate\": \"Total Sales: %{y}\", \"legendgroup\": \"color=f\", \"marker\": {\"color\": \"#19d3f3\"}, \"name\": \"color=f\", \"offsetgroup\": \"color=f\", \"orientation\": \"v\", \"showlegend\": true, \"text\": [\"17.16%\"], \"textposition\": \"outside\", \"type\": \"bar\", \"x\": [\"Sunday\"], \"xaxis\": \"x\", \"y\": [\"17.16%\"], \"yaxis\": \"y\"}, {\"alignmentgroup\": \"True\", \"hoverlabel\": {\"namelength\": 0}, \"hovertemplate\": \"Total Sales: %{y}\", \"legendgroup\": \"color=g\", \"marker\": {\"color\": \"#FF6692\"}, \"name\": \"color=g\", \"offsetgroup\": \"color=g\", \"orientation\": \"v\", \"showlegend\": true, \"text\": [\"17.32%\"], \"textposition\": \"outside\", \"type\": \"bar\", \"x\": [\"Saturday\"], \"xaxis\": \"x\", \"y\": [\"17.32%\"], \"yaxis\": \"y\"}],\n",
              "                        {\"barmode\": \"relative\", \"height\": 500, \"legend\": {\"tracegroupgap\": 0}, \"margin\": {\"t\": 60}, \"showlegend\": false, \"template\": {\"data\": {\"bar\": [{\"error_x\": {\"color\": \"#2a3f5f\"}, \"error_y\": {\"color\": \"#2a3f5f\"}, \"marker\": {\"line\": {\"color\": \"#E5ECF6\", \"width\": 0.5}}, \"type\": \"bar\"}], \"barpolar\": [{\"marker\": {\"line\": {\"color\": \"#E5ECF6\", \"width\": 0.5}}, \"type\": \"barpolar\"}], \"carpet\": [{\"aaxis\": {\"endlinecolor\": \"#2a3f5f\", \"gridcolor\": \"white\", \"linecolor\": \"white\", \"minorgridcolor\": \"white\", \"startlinecolor\": \"#2a3f5f\"}, \"baxis\": {\"endlinecolor\": \"#2a3f5f\", \"gridcolor\": \"white\", \"linecolor\": \"white\", \"minorgridcolor\": \"white\", \"startlinecolor\": \"#2a3f5f\"}, \"type\": \"carpet\"}], \"choropleth\": [{\"colorbar\": {\"outlinewidth\": 0, \"ticks\": \"\"}, \"type\": \"choropleth\"}], \"contour\": [{\"colorbar\": {\"outlinewidth\": 0, \"ticks\": \"\"}, \"colorscale\": [[0.0, \"#0d0887\"], [0.1111111111111111, \"#46039f\"], [0.2222222222222222, \"#7201a8\"], [0.3333333333333333, \"#9c179e\"], [0.4444444444444444, \"#bd3786\"], [0.5555555555555556, \"#d8576b\"], [0.6666666666666666, \"#ed7953\"], [0.7777777777777778, \"#fb9f3a\"], [0.8888888888888888, \"#fdca26\"], [1.0, \"#f0f921\"]], \"type\": \"contour\"}], \"contourcarpet\": [{\"colorbar\": {\"outlinewidth\": 0, \"ticks\": \"\"}, \"type\": \"contourcarpet\"}], \"heatmap\": [{\"colorbar\": {\"outlinewidth\": 0, \"ticks\": \"\"}, \"colorscale\": [[0.0, \"#0d0887\"], [0.1111111111111111, \"#46039f\"], [0.2222222222222222, \"#7201a8\"], [0.3333333333333333, \"#9c179e\"], [0.4444444444444444, \"#bd3786\"], [0.5555555555555556, \"#d8576b\"], [0.6666666666666666, \"#ed7953\"], [0.7777777777777778, \"#fb9f3a\"], [0.8888888888888888, \"#fdca26\"], [1.0, \"#f0f921\"]], \"type\": \"heatmap\"}], \"heatmapgl\": [{\"colorbar\": {\"outlinewidth\": 0, \"ticks\": \"\"}, \"colorscale\": [[0.0, \"#0d0887\"], [0.1111111111111111, \"#46039f\"], [0.2222222222222222, \"#7201a8\"], [0.3333333333333333, \"#9c179e\"], [0.4444444444444444, \"#bd3786\"], [0.5555555555555556, \"#d8576b\"], [0.6666666666666666, \"#ed7953\"], [0.7777777777777778, \"#fb9f3a\"], [0.8888888888888888, \"#fdca26\"], [1.0, \"#f0f921\"]], \"type\": \"heatmapgl\"}], \"histogram\": [{\"marker\": {\"colorbar\": {\"outlinewidth\": 0, \"ticks\": \"\"}}, \"type\": \"histogram\"}], \"histogram2d\": [{\"colorbar\": {\"outlinewidth\": 0, \"ticks\": \"\"}, \"colorscale\": [[0.0, \"#0d0887\"], [0.1111111111111111, \"#46039f\"], [0.2222222222222222, \"#7201a8\"], [0.3333333333333333, \"#9c179e\"], [0.4444444444444444, \"#bd3786\"], [0.5555555555555556, \"#d8576b\"], [0.6666666666666666, \"#ed7953\"], [0.7777777777777778, \"#fb9f3a\"], [0.8888888888888888, \"#fdca26\"], [1.0, \"#f0f921\"]], \"type\": \"histogram2d\"}], \"histogram2dcontour\": [{\"colorbar\": {\"outlinewidth\": 0, \"ticks\": \"\"}, \"colorscale\": [[0.0, \"#0d0887\"], [0.1111111111111111, \"#46039f\"], [0.2222222222222222, \"#7201a8\"], [0.3333333333333333, \"#9c179e\"], [0.4444444444444444, \"#bd3786\"], [0.5555555555555556, \"#d8576b\"], [0.6666666666666666, \"#ed7953\"], [0.7777777777777778, \"#fb9f3a\"], [0.8888888888888888, \"#fdca26\"], [1.0, \"#f0f921\"]], \"type\": \"histogram2dcontour\"}], \"mesh3d\": [{\"colorbar\": {\"outlinewidth\": 0, \"ticks\": \"\"}, \"type\": \"mesh3d\"}], \"parcoords\": [{\"line\": {\"colorbar\": {\"outlinewidth\": 0, \"ticks\": \"\"}}, \"type\": \"parcoords\"}], \"pie\": [{\"automargin\": true, \"type\": \"pie\"}], \"scatter\": [{\"marker\": {\"colorbar\": {\"outlinewidth\": 0, \"ticks\": \"\"}}, \"type\": \"scatter\"}], \"scatter3d\": [{\"line\": {\"colorbar\": {\"outlinewidth\": 0, \"ticks\": \"\"}}, \"marker\": {\"colorbar\": {\"outlinewidth\": 0, \"ticks\": \"\"}}, \"type\": \"scatter3d\"}], \"scattercarpet\": [{\"marker\": {\"colorbar\": {\"outlinewidth\": 0, \"ticks\": \"\"}}, \"type\": \"scattercarpet\"}], \"scattergeo\": [{\"marker\": {\"colorbar\": {\"outlinewidth\": 0, \"ticks\": \"\"}}, \"type\": \"scattergeo\"}], \"scattergl\": [{\"marker\": {\"colorbar\": {\"outlinewidth\": 0, \"ticks\": \"\"}}, \"type\": \"scattergl\"}], \"scattermapbox\": [{\"marker\": {\"colorbar\": {\"outlinewidth\": 0, \"ticks\": \"\"}}, \"type\": \"scattermapbox\"}], \"scatterpolar\": [{\"marker\": {\"colorbar\": {\"outlinewidth\": 0, \"ticks\": \"\"}}, \"type\": \"scatterpolar\"}], \"scatterpolargl\": [{\"marker\": {\"colorbar\": {\"outlinewidth\": 0, \"ticks\": \"\"}}, \"type\": \"scatterpolargl\"}], \"scatterternary\": [{\"marker\": {\"colorbar\": {\"outlinewidth\": 0, \"ticks\": \"\"}}, \"type\": \"scatterternary\"}], \"surface\": [{\"colorbar\": {\"outlinewidth\": 0, \"ticks\": \"\"}, \"colorscale\": [[0.0, \"#0d0887\"], [0.1111111111111111, \"#46039f\"], [0.2222222222222222, \"#7201a8\"], [0.3333333333333333, \"#9c179e\"], [0.4444444444444444, \"#bd3786\"], [0.5555555555555556, \"#d8576b\"], [0.6666666666666666, \"#ed7953\"], [0.7777777777777778, \"#fb9f3a\"], [0.8888888888888888, \"#fdca26\"], [1.0, \"#f0f921\"]], \"type\": \"surface\"}], \"table\": [{\"cells\": {\"fill\": {\"color\": \"#EBF0F8\"}, \"line\": {\"color\": \"white\"}}, \"header\": {\"fill\": {\"color\": \"#C8D4E3\"}, \"line\": {\"color\": \"white\"}}, \"type\": \"table\"}]}, \"layout\": {\"annotationdefaults\": {\"arrowcolor\": \"#2a3f5f\", \"arrowhead\": 0, \"arrowwidth\": 1}, \"coloraxis\": {\"colorbar\": {\"outlinewidth\": 0, \"ticks\": \"\"}}, \"colorscale\": {\"diverging\": [[0, \"#8e0152\"], [0.1, \"#c51b7d\"], [0.2, \"#de77ae\"], [0.3, \"#f1b6da\"], [0.4, \"#fde0ef\"], [0.5, \"#f7f7f7\"], [0.6, \"#e6f5d0\"], [0.7, \"#b8e186\"], [0.8, \"#7fbc41\"], [0.9, \"#4d9221\"], [1, \"#276419\"]], \"sequential\": [[0.0, \"#0d0887\"], [0.1111111111111111, \"#46039f\"], [0.2222222222222222, \"#7201a8\"], [0.3333333333333333, \"#9c179e\"], [0.4444444444444444, \"#bd3786\"], [0.5555555555555556, \"#d8576b\"], [0.6666666666666666, \"#ed7953\"], [0.7777777777777778, \"#fb9f3a\"], [0.8888888888888888, \"#fdca26\"], [1.0, \"#f0f921\"]], \"sequentialminus\": [[0.0, \"#0d0887\"], [0.1111111111111111, \"#46039f\"], [0.2222222222222222, \"#7201a8\"], [0.3333333333333333, \"#9c179e\"], [0.4444444444444444, \"#bd3786\"], [0.5555555555555556, \"#d8576b\"], [0.6666666666666666, \"#ed7953\"], [0.7777777777777778, \"#fb9f3a\"], [0.8888888888888888, \"#fdca26\"], [1.0, \"#f0f921\"]]}, \"colorway\": [\"#636efa\", \"#EF553B\", \"#00cc96\", \"#ab63fa\", \"#FFA15A\", \"#19d3f3\", \"#FF6692\", \"#B6E880\", \"#FF97FF\", \"#FECB52\"], \"font\": {\"color\": \"#2a3f5f\"}, \"geo\": {\"bgcolor\": \"white\", \"lakecolor\": \"white\", \"landcolor\": \"#E5ECF6\", \"showlakes\": true, \"showland\": true, \"subunitcolor\": \"white\"}, \"hoverlabel\": {\"align\": \"left\"}, \"hovermode\": \"closest\", \"mapbox\": {\"style\": \"light\"}, \"paper_bgcolor\": \"white\", \"plot_bgcolor\": \"#E5ECF6\", \"polar\": {\"angularaxis\": {\"gridcolor\": \"white\", \"linecolor\": \"white\", \"ticks\": \"\"}, \"bgcolor\": \"#E5ECF6\", \"radialaxis\": {\"gridcolor\": \"white\", \"linecolor\": \"white\", \"ticks\": \"\"}}, \"scene\": {\"xaxis\": {\"backgroundcolor\": \"#E5ECF6\", \"gridcolor\": \"white\", \"gridwidth\": 2, \"linecolor\": \"white\", \"showbackground\": true, \"ticks\": \"\", \"zerolinecolor\": \"white\"}, \"yaxis\": {\"backgroundcolor\": \"#E5ECF6\", \"gridcolor\": \"white\", \"gridwidth\": 2, \"linecolor\": \"white\", \"showbackground\": true, \"ticks\": \"\", \"zerolinecolor\": \"white\"}, \"zaxis\": {\"backgroundcolor\": \"#E5ECF6\", \"gridcolor\": \"white\", \"gridwidth\": 2, \"linecolor\": \"white\", \"showbackground\": true, \"ticks\": \"\", \"zerolinecolor\": \"white\"}}, \"shapedefaults\": {\"line\": {\"color\": \"#2a3f5f\"}}, \"ternary\": {\"aaxis\": {\"gridcolor\": \"white\", \"linecolor\": \"white\", \"ticks\": \"\"}, \"baxis\": {\"gridcolor\": \"white\", \"linecolor\": \"white\", \"ticks\": \"\"}, \"bgcolor\": \"#E5ECF6\", \"caxis\": {\"gridcolor\": \"white\", \"linecolor\": \"white\", \"ticks\": \"\"}}, \"title\": {\"x\": 0.05}, \"xaxis\": {\"automargin\": true, \"gridcolor\": \"white\", \"linecolor\": \"white\", \"ticks\": \"\", \"title\": {\"standoff\": 15}, \"zerolinecolor\": \"white\", \"zerolinewidth\": 2}, \"yaxis\": {\"automargin\": true, \"gridcolor\": \"white\", \"linecolor\": \"white\", \"ticks\": \"\", \"title\": {\"standoff\": 15}, \"zerolinecolor\": \"white\", \"zerolinewidth\": 2}}}, \"width\": 800, \"xaxis\": {\"anchor\": \"y\", \"domain\": [0.0, 1.0], \"title\": {\"text\": \"Days\"}}, \"yaxis\": {\"anchor\": \"x\", \"domain\": [0.0, 1.0], \"title\": {\"text\": \"Total Sales\"}}},\n",
              "                        {\"responsive\": true}\n",
              "                    ).then(function(){\n",
              "                            \n",
              "var gd = document.getElementById('f06dad0c-6c30-47e0-b500-29409793da41');\n",
              "var x = new MutationObserver(function (mutations, observer) {{\n",
              "        var display = window.getComputedStyle(gd).display;\n",
              "        if (!display || display === 'none') {{\n",
              "            console.log([gd, 'removed!']);\n",
              "            Plotly.purge(gd);\n",
              "            observer.disconnect();\n",
              "        }}\n",
              "}});\n",
              "\n",
              "// Listen for the removal of the full notebook cells\n",
              "var notebookContainer = gd.closest('#notebook-container');\n",
              "if (notebookContainer) {{\n",
              "    x.observe(notebookContainer, {childList: true});\n",
              "}}\n",
              "\n",
              "// Listen for the clearing of the current output cell\n",
              "var outputEl = gd.closest('.output');\n",
              "if (outputEl) {{\n",
              "    x.observe(outputEl, {childList: true});\n",
              "}}\n",
              "\n",
              "                        })\n",
              "                };\n",
              "                \n",
              "            </script>\n",
              "        </div>\n",
              "</body>\n",
              "</html>"
            ]
          },
          "metadata": {
            "tags": []
          }
        }
      ]
    },
    {
      "cell_type": "markdown",
      "metadata": {
        "id": "wVmJEygMrRUE"
      },
      "source": [
        "**Observation:**\r\n",
        "* There's a huge number of sales happening during the weekends.\r\n",
        "* The sales rise and fall before and after weekends from Friday to Monday."
      ]
    },
    {
      "cell_type": "code",
      "metadata": {
        "id": "az7puou9rse2"
      },
      "source": [
        "d = cal[['event_type_1','d']]\r\n",
        "temp = c.merge(d,left_index=True, right_on='d')\r\n",
        "temp.set_index('d', inplace=True)\r\n",
        "temp = temp.groupby('event_type_1').mean().mean(axis=1).sort_values()\r\n",
        "y = [str(np.round(i/temp.sum()*100, 2))+'%' for i in temp.values]"
      ],
      "execution_count": 10,
      "outputs": []
    },
    {
      "cell_type": "code",
      "metadata": {
        "colab": {
          "base_uri": "https://localhost:8080/",
          "height": 517
        },
        "id": "YfG5h705tb_v",
        "outputId": "2dcac01e-b6d2-4c0d-a95d-d5b98065d935"
      },
      "source": [
        "colors = ['a','b','c','d','e']\r\n",
        "fig = px.bar(x=temp.index, y=y, labels={'x':\"Days\",\"y\":'Total Sales'},color=colors, text=y)\r\n",
        "fig.update_traces(hovertemplate='Total Sales: %{y}', textposition='outside')\r\n",
        "fig.update_layout(showlegend=False, width=800, height=500)\r\n",
        "fig.show()"
      ],
      "execution_count": 11,
      "outputs": [
        {
          "output_type": "display_data",
          "data": {
            "text/html": [
              "<html>\n",
              "<head><meta charset=\"utf-8\" /></head>\n",
              "<body>\n",
              "    <div>\n",
              "            <script src=\"https://cdnjs.cloudflare.com/ajax/libs/mathjax/2.7.5/MathJax.js?config=TeX-AMS-MML_SVG\"></script><script type=\"text/javascript\">if (window.MathJax) {MathJax.Hub.Config({SVG: {font: \"STIX-Web\"}});}</script>\n",
              "                <script type=\"text/javascript\">window.PlotlyConfig = {MathJaxConfig: 'local'};</script>\n",
              "        <script src=\"https://cdn.plot.ly/plotly-latest.min.js\"></script>    \n",
              "            <div id=\"14eb0e69-fc66-40a4-bffd-7a0d932a1485\" class=\"plotly-graph-div\" style=\"height:500px; width:800px;\"></div>\n",
              "            <script type=\"text/javascript\">\n",
              "                \n",
              "                    window.PLOTLYENV=window.PLOTLYENV || {};\n",
              "                    \n",
              "                if (document.getElementById(\"14eb0e69-fc66-40a4-bffd-7a0d932a1485\")) {\n",
              "                    Plotly.newPlot(\n",
              "                        '14eb0e69-fc66-40a4-bffd-7a0d932a1485',\n",
              "                        [{\"alignmentgroup\": \"True\", \"hoverlabel\": {\"namelength\": 0}, \"hovertemplate\": \"Total Sales: %{y}\", \"legendgroup\": \"color=a\", \"marker\": {\"color\": \"#636efa\"}, \"name\": \"color=a\", \"offsetgroup\": \"color=a\", \"orientation\": \"v\", \"showlegend\": true, \"text\": [\"17.43%\"], \"textposition\": \"outside\", \"type\": \"bar\", \"x\": [\"National\"], \"xaxis\": \"x\", \"y\": [\"17.43%\"], \"yaxis\": \"y\"}, {\"alignmentgroup\": \"True\", \"hoverlabel\": {\"namelength\": 0}, \"hovertemplate\": \"Total Sales: %{y}\", \"legendgroup\": \"color=b\", \"marker\": {\"color\": \"#EF553B\"}, \"name\": \"color=b\", \"offsetgroup\": \"color=b\", \"orientation\": \"v\", \"showlegend\": true, \"text\": [\"20.37%\"], \"textposition\": \"outside\", \"type\": \"bar\", \"x\": [\"Religious\"], \"xaxis\": \"x\", \"y\": [\"20.37%\"], \"yaxis\": \"y\"}, {\"alignmentgroup\": \"True\", \"hoverlabel\": {\"namelength\": 0}, \"hovertemplate\": \"Total Sales: %{y}\", \"legendgroup\": \"color=c\", \"marker\": {\"color\": \"#00cc96\"}, \"name\": \"color=c\", \"offsetgroup\": \"color=c\", \"orientation\": \"v\", \"showlegend\": true, \"text\": [\"20.48%\"], \"textposition\": \"outside\", \"type\": \"bar\", \"x\": [\"No_Event\"], \"xaxis\": \"x\", \"y\": [\"20.48%\"], \"yaxis\": \"y\"}, {\"alignmentgroup\": \"True\", \"hoverlabel\": {\"namelength\": 0}, \"hovertemplate\": \"Total Sales: %{y}\", \"legendgroup\": \"color=d\", \"marker\": {\"color\": \"#ab63fa\"}, \"name\": \"color=d\", \"offsetgroup\": \"color=d\", \"orientation\": \"v\", \"showlegend\": true, \"text\": [\"20.54%\"], \"textposition\": \"outside\", \"type\": \"bar\", \"x\": [\"Cultural\"], \"xaxis\": \"x\", \"y\": [\"20.54%\"], \"yaxis\": \"y\"}, {\"alignmentgroup\": \"True\", \"hoverlabel\": {\"namelength\": 0}, \"hovertemplate\": \"Total Sales: %{y}\", \"legendgroup\": \"color=e\", \"marker\": {\"color\": \"#FFA15A\"}, \"name\": \"color=e\", \"offsetgroup\": \"color=e\", \"orientation\": \"v\", \"showlegend\": true, \"text\": [\"21.18%\"], \"textposition\": \"outside\", \"type\": \"bar\", \"x\": [\"Sporting\"], \"xaxis\": \"x\", \"y\": [\"21.18%\"], \"yaxis\": \"y\"}],\n",
              "                        {\"barmode\": \"relative\", \"height\": 500, \"legend\": {\"tracegroupgap\": 0}, \"margin\": {\"t\": 60}, \"showlegend\": false, \"template\": {\"data\": {\"bar\": [{\"error_x\": {\"color\": \"#2a3f5f\"}, \"error_y\": {\"color\": \"#2a3f5f\"}, \"marker\": {\"line\": {\"color\": \"#E5ECF6\", \"width\": 0.5}}, \"type\": \"bar\"}], \"barpolar\": [{\"marker\": {\"line\": {\"color\": \"#E5ECF6\", \"width\": 0.5}}, \"type\": \"barpolar\"}], \"carpet\": [{\"aaxis\": {\"endlinecolor\": \"#2a3f5f\", \"gridcolor\": \"white\", \"linecolor\": \"white\", \"minorgridcolor\": \"white\", \"startlinecolor\": \"#2a3f5f\"}, \"baxis\": {\"endlinecolor\": \"#2a3f5f\", \"gridcolor\": \"white\", \"linecolor\": \"white\", \"minorgridcolor\": \"white\", \"startlinecolor\": \"#2a3f5f\"}, \"type\": \"carpet\"}], \"choropleth\": [{\"colorbar\": {\"outlinewidth\": 0, \"ticks\": \"\"}, \"type\": \"choropleth\"}], \"contour\": [{\"colorbar\": {\"outlinewidth\": 0, \"ticks\": \"\"}, \"colorscale\": [[0.0, \"#0d0887\"], [0.1111111111111111, \"#46039f\"], [0.2222222222222222, \"#7201a8\"], [0.3333333333333333, \"#9c179e\"], [0.4444444444444444, \"#bd3786\"], [0.5555555555555556, \"#d8576b\"], [0.6666666666666666, \"#ed7953\"], [0.7777777777777778, \"#fb9f3a\"], [0.8888888888888888, \"#fdca26\"], [1.0, \"#f0f921\"]], \"type\": \"contour\"}], \"contourcarpet\": [{\"colorbar\": {\"outlinewidth\": 0, \"ticks\": \"\"}, \"type\": \"contourcarpet\"}], \"heatmap\": [{\"colorbar\": {\"outlinewidth\": 0, \"ticks\": \"\"}, \"colorscale\": [[0.0, \"#0d0887\"], [0.1111111111111111, \"#46039f\"], [0.2222222222222222, \"#7201a8\"], [0.3333333333333333, \"#9c179e\"], [0.4444444444444444, \"#bd3786\"], [0.5555555555555556, \"#d8576b\"], [0.6666666666666666, \"#ed7953\"], [0.7777777777777778, \"#fb9f3a\"], [0.8888888888888888, \"#fdca26\"], [1.0, \"#f0f921\"]], \"type\": \"heatmap\"}], \"heatmapgl\": [{\"colorbar\": {\"outlinewidth\": 0, \"ticks\": \"\"}, \"colorscale\": [[0.0, \"#0d0887\"], [0.1111111111111111, \"#46039f\"], [0.2222222222222222, \"#7201a8\"], [0.3333333333333333, \"#9c179e\"], [0.4444444444444444, \"#bd3786\"], [0.5555555555555556, \"#d8576b\"], [0.6666666666666666, \"#ed7953\"], [0.7777777777777778, \"#fb9f3a\"], [0.8888888888888888, \"#fdca26\"], [1.0, \"#f0f921\"]], \"type\": \"heatmapgl\"}], \"histogram\": [{\"marker\": {\"colorbar\": {\"outlinewidth\": 0, \"ticks\": \"\"}}, \"type\": \"histogram\"}], \"histogram2d\": [{\"colorbar\": {\"outlinewidth\": 0, \"ticks\": \"\"}, \"colorscale\": [[0.0, \"#0d0887\"], [0.1111111111111111, \"#46039f\"], [0.2222222222222222, \"#7201a8\"], [0.3333333333333333, \"#9c179e\"], [0.4444444444444444, \"#bd3786\"], [0.5555555555555556, \"#d8576b\"], [0.6666666666666666, \"#ed7953\"], [0.7777777777777778, \"#fb9f3a\"], [0.8888888888888888, \"#fdca26\"], [1.0, \"#f0f921\"]], \"type\": \"histogram2d\"}], \"histogram2dcontour\": [{\"colorbar\": {\"outlinewidth\": 0, \"ticks\": \"\"}, \"colorscale\": [[0.0, \"#0d0887\"], [0.1111111111111111, \"#46039f\"], [0.2222222222222222, \"#7201a8\"], [0.3333333333333333, \"#9c179e\"], [0.4444444444444444, \"#bd3786\"], [0.5555555555555556, \"#d8576b\"], [0.6666666666666666, \"#ed7953\"], [0.7777777777777778, \"#fb9f3a\"], [0.8888888888888888, \"#fdca26\"], [1.0, \"#f0f921\"]], \"type\": \"histogram2dcontour\"}], \"mesh3d\": [{\"colorbar\": {\"outlinewidth\": 0, \"ticks\": \"\"}, \"type\": \"mesh3d\"}], \"parcoords\": [{\"line\": {\"colorbar\": {\"outlinewidth\": 0, \"ticks\": \"\"}}, \"type\": \"parcoords\"}], \"pie\": [{\"automargin\": true, \"type\": \"pie\"}], \"scatter\": [{\"marker\": {\"colorbar\": {\"outlinewidth\": 0, \"ticks\": \"\"}}, \"type\": \"scatter\"}], \"scatter3d\": [{\"line\": {\"colorbar\": {\"outlinewidth\": 0, \"ticks\": \"\"}}, \"marker\": {\"colorbar\": {\"outlinewidth\": 0, \"ticks\": \"\"}}, \"type\": \"scatter3d\"}], \"scattercarpet\": [{\"marker\": {\"colorbar\": {\"outlinewidth\": 0, \"ticks\": \"\"}}, \"type\": \"scattercarpet\"}], \"scattergeo\": [{\"marker\": {\"colorbar\": {\"outlinewidth\": 0, \"ticks\": \"\"}}, \"type\": \"scattergeo\"}], \"scattergl\": [{\"marker\": {\"colorbar\": {\"outlinewidth\": 0, \"ticks\": \"\"}}, \"type\": \"scattergl\"}], \"scattermapbox\": [{\"marker\": {\"colorbar\": {\"outlinewidth\": 0, \"ticks\": \"\"}}, \"type\": \"scattermapbox\"}], \"scatterpolar\": [{\"marker\": {\"colorbar\": {\"outlinewidth\": 0, \"ticks\": \"\"}}, \"type\": \"scatterpolar\"}], \"scatterpolargl\": [{\"marker\": {\"colorbar\": {\"outlinewidth\": 0, \"ticks\": \"\"}}, \"type\": \"scatterpolargl\"}], \"scatterternary\": [{\"marker\": {\"colorbar\": {\"outlinewidth\": 0, \"ticks\": \"\"}}, \"type\": \"scatterternary\"}], \"surface\": [{\"colorbar\": {\"outlinewidth\": 0, \"ticks\": \"\"}, \"colorscale\": [[0.0, \"#0d0887\"], [0.1111111111111111, \"#46039f\"], [0.2222222222222222, \"#7201a8\"], [0.3333333333333333, \"#9c179e\"], [0.4444444444444444, \"#bd3786\"], [0.5555555555555556, \"#d8576b\"], [0.6666666666666666, \"#ed7953\"], [0.7777777777777778, \"#fb9f3a\"], [0.8888888888888888, \"#fdca26\"], [1.0, \"#f0f921\"]], \"type\": \"surface\"}], \"table\": [{\"cells\": {\"fill\": {\"color\": \"#EBF0F8\"}, \"line\": {\"color\": \"white\"}}, \"header\": {\"fill\": {\"color\": \"#C8D4E3\"}, \"line\": {\"color\": \"white\"}}, \"type\": \"table\"}]}, \"layout\": {\"annotationdefaults\": {\"arrowcolor\": \"#2a3f5f\", \"arrowhead\": 0, \"arrowwidth\": 1}, \"coloraxis\": {\"colorbar\": {\"outlinewidth\": 0, \"ticks\": \"\"}}, \"colorscale\": {\"diverging\": [[0, \"#8e0152\"], [0.1, \"#c51b7d\"], [0.2, \"#de77ae\"], [0.3, \"#f1b6da\"], [0.4, \"#fde0ef\"], [0.5, \"#f7f7f7\"], [0.6, \"#e6f5d0\"], [0.7, \"#b8e186\"], [0.8, \"#7fbc41\"], [0.9, \"#4d9221\"], [1, \"#276419\"]], \"sequential\": [[0.0, \"#0d0887\"], [0.1111111111111111, \"#46039f\"], [0.2222222222222222, \"#7201a8\"], [0.3333333333333333, \"#9c179e\"], [0.4444444444444444, \"#bd3786\"], [0.5555555555555556, \"#d8576b\"], [0.6666666666666666, \"#ed7953\"], [0.7777777777777778, \"#fb9f3a\"], [0.8888888888888888, \"#fdca26\"], [1.0, \"#f0f921\"]], \"sequentialminus\": [[0.0, \"#0d0887\"], [0.1111111111111111, \"#46039f\"], [0.2222222222222222, \"#7201a8\"], [0.3333333333333333, \"#9c179e\"], [0.4444444444444444, \"#bd3786\"], [0.5555555555555556, \"#d8576b\"], [0.6666666666666666, \"#ed7953\"], [0.7777777777777778, \"#fb9f3a\"], [0.8888888888888888, \"#fdca26\"], [1.0, \"#f0f921\"]]}, \"colorway\": [\"#636efa\", \"#EF553B\", \"#00cc96\", \"#ab63fa\", \"#FFA15A\", \"#19d3f3\", \"#FF6692\", \"#B6E880\", \"#FF97FF\", \"#FECB52\"], \"font\": {\"color\": \"#2a3f5f\"}, \"geo\": {\"bgcolor\": \"white\", \"lakecolor\": \"white\", \"landcolor\": \"#E5ECF6\", \"showlakes\": true, \"showland\": true, \"subunitcolor\": \"white\"}, \"hoverlabel\": {\"align\": \"left\"}, \"hovermode\": \"closest\", \"mapbox\": {\"style\": \"light\"}, \"paper_bgcolor\": \"white\", \"plot_bgcolor\": \"#E5ECF6\", \"polar\": {\"angularaxis\": {\"gridcolor\": \"white\", \"linecolor\": \"white\", \"ticks\": \"\"}, \"bgcolor\": \"#E5ECF6\", \"radialaxis\": {\"gridcolor\": \"white\", \"linecolor\": \"white\", \"ticks\": \"\"}}, \"scene\": {\"xaxis\": {\"backgroundcolor\": \"#E5ECF6\", \"gridcolor\": \"white\", \"gridwidth\": 2, \"linecolor\": \"white\", \"showbackground\": true, \"ticks\": \"\", \"zerolinecolor\": \"white\"}, \"yaxis\": {\"backgroundcolor\": \"#E5ECF6\", \"gridcolor\": \"white\", \"gridwidth\": 2, \"linecolor\": \"white\", \"showbackground\": true, \"ticks\": \"\", \"zerolinecolor\": \"white\"}, \"zaxis\": {\"backgroundcolor\": \"#E5ECF6\", \"gridcolor\": \"white\", \"gridwidth\": 2, \"linecolor\": \"white\", \"showbackground\": true, \"ticks\": \"\", \"zerolinecolor\": \"white\"}}, \"shapedefaults\": {\"line\": {\"color\": \"#2a3f5f\"}}, \"ternary\": {\"aaxis\": {\"gridcolor\": \"white\", \"linecolor\": \"white\", \"ticks\": \"\"}, \"baxis\": {\"gridcolor\": \"white\", \"linecolor\": \"white\", \"ticks\": \"\"}, \"bgcolor\": \"#E5ECF6\", \"caxis\": {\"gridcolor\": \"white\", \"linecolor\": \"white\", \"ticks\": \"\"}}, \"title\": {\"x\": 0.05}, \"xaxis\": {\"automargin\": true, \"gridcolor\": \"white\", \"linecolor\": \"white\", \"ticks\": \"\", \"title\": {\"standoff\": 15}, \"zerolinecolor\": \"white\", \"zerolinewidth\": 2}, \"yaxis\": {\"automargin\": true, \"gridcolor\": \"white\", \"linecolor\": \"white\", \"ticks\": \"\", \"title\": {\"standoff\": 15}, \"zerolinecolor\": \"white\", \"zerolinewidth\": 2}}}, \"width\": 800, \"xaxis\": {\"anchor\": \"y\", \"domain\": [0.0, 1.0], \"title\": {\"text\": \"Days\"}}, \"yaxis\": {\"anchor\": \"x\", \"domain\": [0.0, 1.0], \"title\": {\"text\": \"Total Sales\"}}},\n",
              "                        {\"responsive\": true}\n",
              "                    ).then(function(){\n",
              "                            \n",
              "var gd = document.getElementById('14eb0e69-fc66-40a4-bffd-7a0d932a1485');\n",
              "var x = new MutationObserver(function (mutations, observer) {{\n",
              "        var display = window.getComputedStyle(gd).display;\n",
              "        if (!display || display === 'none') {{\n",
              "            console.log([gd, 'removed!']);\n",
              "            Plotly.purge(gd);\n",
              "            observer.disconnect();\n",
              "        }}\n",
              "}});\n",
              "\n",
              "// Listen for the removal of the full notebook cells\n",
              "var notebookContainer = gd.closest('#notebook-container');\n",
              "if (notebookContainer) {{\n",
              "    x.observe(notebookContainer, {childList: true});\n",
              "}}\n",
              "\n",
              "// Listen for the clearing of the current output cell\n",
              "var outputEl = gd.closest('.output');\n",
              "if (outputEl) {{\n",
              "    x.observe(outputEl, {childList: true});\n",
              "}}\n",
              "\n",
              "                        })\n",
              "                };\n",
              "                \n",
              "            </script>\n",
              "        </div>\n",
              "</body>\n",
              "</html>"
            ]
          },
          "metadata": {
            "tags": []
          }
        }
      ]
    },
    {
      "cell_type": "markdown",
      "metadata": {
        "id": "-0QAQ-bexpih"
      },
      "source": [
        "**Observation:**\r\n",
        "* The sales happened during sporting event times are slightly more than sales happened around no events and other events.\r\n",
        "* The sales happened on National event days are little lower, but we can conlude it's the cause of low sales."
      ]
    },
    {
      "cell_type": "code",
      "metadata": {
        "id": "Vbqp5AlcwHV4"
      },
      "source": [
        ""
      ],
      "execution_count": null,
      "outputs": []
    }
  ]
}