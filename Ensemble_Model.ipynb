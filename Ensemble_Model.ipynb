{
  "nbformat": 4,
  "nbformat_minor": 0,
  "metadata": {
    "colab": {
      "name": "Ensemble_Model",
      "provenance": [],
      "collapsed_sections": [],
      "machine_shape": "hm",
      "include_colab_link": true
    },
    "kernelspec": {
      "name": "python3",
      "display_name": "Python 3"
    }
  },
  "cells": [
    {
      "cell_type": "markdown",
      "metadata": {
        "id": "view-in-github",
        "colab_type": "text"
      },
      "source": [
        "<a href=\"https://colab.research.google.com/github/vence-andersen/M5-Forecasting-Accuracy/blob/main/Ensemble_Model.ipynb\" target=\"_parent\"><img src=\"https://colab.research.google.com/assets/colab-badge.svg\" alt=\"Open In Colab\"/></a>"
      ]
    },
    {
      "cell_type": "markdown",
      "metadata": {
        "id": "fLBLMkHiRSxg"
      },
      "source": [
        "# **Removables**"
      ]
    },
    {
      "cell_type": "code",
      "metadata": {
        "colab": {
          "resources": {
            "http://localhost:8080/nbextensions/google.colab/files.js": {
              "data": "Ly8gQ29weXJpZ2h0IDIwMTcgR29vZ2xlIExMQwovLwovLyBMaWNlbnNlZCB1bmRlciB0aGUgQXBhY2hlIExpY2Vuc2UsIFZlcnNpb24gMi4wICh0aGUgIkxpY2Vuc2UiKTsKLy8geW91IG1heSBub3QgdXNlIHRoaXMgZmlsZSBleGNlcHQgaW4gY29tcGxpYW5jZSB3aXRoIHRoZSBMaWNlbnNlLgovLyBZb3UgbWF5IG9idGFpbiBhIGNvcHkgb2YgdGhlIExpY2Vuc2UgYXQKLy8KLy8gICAgICBodHRwOi8vd3d3LmFwYWNoZS5vcmcvbGljZW5zZXMvTElDRU5TRS0yLjAKLy8KLy8gVW5sZXNzIHJlcXVpcmVkIGJ5IGFwcGxpY2FibGUgbGF3IG9yIGFncmVlZCB0byBpbiB3cml0aW5nLCBzb2Z0d2FyZQovLyBkaXN0cmlidXRlZCB1bmRlciB0aGUgTGljZW5zZSBpcyBkaXN0cmlidXRlZCBvbiBhbiAiQVMgSVMiIEJBU0lTLAovLyBXSVRIT1VUIFdBUlJBTlRJRVMgT1IgQ09ORElUSU9OUyBPRiBBTlkgS0lORCwgZWl0aGVyIGV4cHJlc3Mgb3IgaW1wbGllZC4KLy8gU2VlIHRoZSBMaWNlbnNlIGZvciB0aGUgc3BlY2lmaWMgbGFuZ3VhZ2UgZ292ZXJuaW5nIHBlcm1pc3Npb25zIGFuZAovLyBsaW1pdGF0aW9ucyB1bmRlciB0aGUgTGljZW5zZS4KCi8qKgogKiBAZmlsZW92ZXJ2aWV3IEhlbHBlcnMgZm9yIGdvb2dsZS5jb2xhYiBQeXRob24gbW9kdWxlLgogKi8KKGZ1bmN0aW9uKHNjb3BlKSB7CmZ1bmN0aW9uIHNwYW4odGV4dCwgc3R5bGVBdHRyaWJ1dGVzID0ge30pIHsKICBjb25zdCBlbGVtZW50ID0gZG9jdW1lbnQuY3JlYXRlRWxlbWVudCgnc3BhbicpOwogIGVsZW1lbnQudGV4dENvbnRlbnQgPSB0ZXh0OwogIGZvciAoY29uc3Qga2V5IG9mIE9iamVjdC5rZXlzKHN0eWxlQXR0cmlidXRlcykpIHsKICAgIGVsZW1lbnQuc3R5bGVba2V5XSA9IHN0eWxlQXR0cmlidXRlc1trZXldOwogIH0KICByZXR1cm4gZWxlbWVudDsKfQoKLy8gTWF4IG51bWJlciBvZiBieXRlcyB3aGljaCB3aWxsIGJlIHVwbG9hZGVkIGF0IGEgdGltZS4KY29uc3QgTUFYX1BBWUxPQURfU0laRSA9IDEwMCAqIDEwMjQ7CgpmdW5jdGlvbiBfdXBsb2FkRmlsZXMoaW5wdXRJZCwgb3V0cHV0SWQpIHsKICBjb25zdCBzdGVwcyA9IHVwbG9hZEZpbGVzU3RlcChpbnB1dElkLCBvdXRwdXRJZCk7CiAgY29uc3Qgb3V0cHV0RWxlbWVudCA9IGRvY3VtZW50LmdldEVsZW1lbnRCeUlkKG91dHB1dElkKTsKICAvLyBDYWNoZSBzdGVwcyBvbiB0aGUgb3V0cHV0RWxlbWVudCB0byBtYWtlIGl0IGF2YWlsYWJsZSBmb3IgdGhlIG5leHQgY2FsbAogIC8vIHRvIHVwbG9hZEZpbGVzQ29udGludWUgZnJvbSBQeXRob24uCiAgb3V0cHV0RWxlbWVudC5zdGVwcyA9IHN0ZXBzOwoKICByZXR1cm4gX3VwbG9hZEZpbGVzQ29udGludWUob3V0cHV0SWQpOwp9CgovLyBUaGlzIGlzIHJvdWdobHkgYW4gYXN5bmMgZ2VuZXJhdG9yIChub3Qgc3VwcG9ydGVkIGluIHRoZSBicm93c2VyIHlldCksCi8vIHdoZXJlIHRoZXJlIGFyZSBtdWx0aXBsZSBhc3luY2hyb25vdXMgc3RlcHMgYW5kIHRoZSBQeXRob24gc2lkZSBpcyBnb2luZwovLyB0byBwb2xsIGZvciBjb21wbGV0aW9uIG9mIGVhY2ggc3RlcC4KLy8gVGhpcyB1c2VzIGEgUHJvbWlzZSB0byBibG9jayB0aGUgcHl0aG9uIHNpZGUgb24gY29tcGxldGlvbiBvZiBlYWNoIHN0ZXAsCi8vIHRoZW4gcGFzc2VzIHRoZSByZXN1bHQgb2YgdGhlIHByZXZpb3VzIHN0ZXAgYXMgdGhlIGlucHV0IHRvIHRoZSBuZXh0IHN0ZXAuCmZ1bmN0aW9uIF91cGxvYWRGaWxlc0NvbnRpbnVlKG91dHB1dElkKSB7CiAgY29uc3Qgb3V0cHV0RWxlbWVudCA9IGRvY3VtZW50LmdldEVsZW1lbnRCeUlkKG91dHB1dElkKTsKICBjb25zdCBzdGVwcyA9IG91dHB1dEVsZW1lbnQuc3RlcHM7CgogIGNvbnN0IG5leHQgPSBzdGVwcy5uZXh0KG91dHB1dEVsZW1lbnQubGFzdFByb21pc2VWYWx1ZSk7CiAgcmV0dXJuIFByb21pc2UucmVzb2x2ZShuZXh0LnZhbHVlLnByb21pc2UpLnRoZW4oKHZhbHVlKSA9PiB7CiAgICAvLyBDYWNoZSB0aGUgbGFzdCBwcm9taXNlIHZhbHVlIHRvIG1ha2UgaXQgYXZhaWxhYmxlIHRvIHRoZSBuZXh0CiAgICAvLyBzdGVwIG9mIHRoZSBnZW5lcmF0b3IuCiAgICBvdXRwdXRFbGVtZW50Lmxhc3RQcm9taXNlVmFsdWUgPSB2YWx1ZTsKICAgIHJldHVybiBuZXh0LnZhbHVlLnJlc3BvbnNlOwogIH0pOwp9CgovKioKICogR2VuZXJhdG9yIGZ1bmN0aW9uIHdoaWNoIGlzIGNhbGxlZCBiZXR3ZWVuIGVhY2ggYXN5bmMgc3RlcCBvZiB0aGUgdXBsb2FkCiAqIHByb2Nlc3MuCiAqIEBwYXJhbSB7c3RyaW5nfSBpbnB1dElkIEVsZW1lbnQgSUQgb2YgdGhlIGlucHV0IGZpbGUgcGlja2VyIGVsZW1lbnQuCiAqIEBwYXJhbSB7c3RyaW5nfSBvdXRwdXRJZCBFbGVtZW50IElEIG9mIHRoZSBvdXRwdXQgZGlzcGxheS4KICogQHJldHVybiB7IUl0ZXJhYmxlPCFPYmplY3Q+fSBJdGVyYWJsZSBvZiBuZXh0IHN0ZXBzLgogKi8KZnVuY3Rpb24qIHVwbG9hZEZpbGVzU3RlcChpbnB1dElkLCBvdXRwdXRJZCkgewogIGNvbnN0IGlucHV0RWxlbWVudCA9IGRvY3VtZW50LmdldEVsZW1lbnRCeUlkKGlucHV0SWQpOwogIGlucHV0RWxlbWVudC5kaXNhYmxlZCA9IGZhbHNlOwoKICBjb25zdCBvdXRwdXRFbGVtZW50ID0gZG9jdW1lbnQuZ2V0RWxlbWVudEJ5SWQob3V0cHV0SWQpOwogIG91dHB1dEVsZW1lbnQuaW5uZXJIVE1MID0gJyc7CgogIGNvbnN0IHBpY2tlZFByb21pc2UgPSBuZXcgUHJvbWlzZSgocmVzb2x2ZSkgPT4gewogICAgaW5wdXRFbGVtZW50LmFkZEV2ZW50TGlzdGVuZXIoJ2NoYW5nZScsIChlKSA9PiB7CiAgICAgIHJlc29sdmUoZS50YXJnZXQuZmlsZXMpOwogICAgfSk7CiAgfSk7CgogIGNvbnN0IGNhbmNlbCA9IGRvY3VtZW50LmNyZWF0ZUVsZW1lbnQoJ2J1dHRvbicpOwogIGlucHV0RWxlbWVudC5wYXJlbnRFbGVtZW50LmFwcGVuZENoaWxkKGNhbmNlbCk7CiAgY2FuY2VsLnRleHRDb250ZW50ID0gJ0NhbmNlbCB1cGxvYWQnOwogIGNvbnN0IGNhbmNlbFByb21pc2UgPSBuZXcgUHJvbWlzZSgocmVzb2x2ZSkgPT4gewogICAgY2FuY2VsLm9uY2xpY2sgPSAoKSA9PiB7CiAgICAgIHJlc29sdmUobnVsbCk7CiAgICB9OwogIH0pOwoKICAvLyBXYWl0IGZvciB0aGUgdXNlciB0byBwaWNrIHRoZSBmaWxlcy4KICBjb25zdCBmaWxlcyA9IHlpZWxkIHsKICAgIHByb21pc2U6IFByb21pc2UucmFjZShbcGlja2VkUHJvbWlzZSwgY2FuY2VsUHJvbWlzZV0pLAogICAgcmVzcG9uc2U6IHsKICAgICAgYWN0aW9uOiAnc3RhcnRpbmcnLAogICAgfQogIH07CgogIGNhbmNlbC5yZW1vdmUoKTsKCiAgLy8gRGlzYWJsZSB0aGUgaW5wdXQgZWxlbWVudCBzaW5jZSBmdXJ0aGVyIHBpY2tzIGFyZSBub3QgYWxsb3dlZC4KICBpbnB1dEVsZW1lbnQuZGlzYWJsZWQgPSB0cnVlOwoKICBpZiAoIWZpbGVzKSB7CiAgICByZXR1cm4gewogICAgICByZXNwb25zZTogewogICAgICAgIGFjdGlvbjogJ2NvbXBsZXRlJywKICAgICAgfQogICAgfTsKICB9CgogIGZvciAoY29uc3QgZmlsZSBvZiBmaWxlcykgewogICAgY29uc3QgbGkgPSBkb2N1bWVudC5jcmVhdGVFbGVtZW50KCdsaScpOwogICAgbGkuYXBwZW5kKHNwYW4oZmlsZS5uYW1lLCB7Zm9udFdlaWdodDogJ2JvbGQnfSkpOwogICAgbGkuYXBwZW5kKHNwYW4oCiAgICAgICAgYCgke2ZpbGUudHlwZSB8fCAnbi9hJ30pIC0gJHtmaWxlLnNpemV9IGJ5dGVzLCBgICsKICAgICAgICBgbGFzdCBtb2RpZmllZDogJHsKICAgICAgICAgICAgZmlsZS5sYXN0TW9kaWZpZWREYXRlID8gZmlsZS5sYXN0TW9kaWZpZWREYXRlLnRvTG9jYWxlRGF0ZVN0cmluZygpIDoKICAgICAgICAgICAgICAgICAgICAgICAgICAgICAgICAgICAgJ24vYSd9IC0gYCkpOwogICAgY29uc3QgcGVyY2VudCA9IHNwYW4oJzAlIGRvbmUnKTsKICAgIGxpLmFwcGVuZENoaWxkKHBlcmNlbnQpOwoKICAgIG91dHB1dEVsZW1lbnQuYXBwZW5kQ2hpbGQobGkpOwoKICAgIGNvbnN0IGZpbGVEYXRhUHJvbWlzZSA9IG5ldyBQcm9taXNlKChyZXNvbHZlKSA9PiB7CiAgICAgIGNvbnN0IHJlYWRlciA9IG5ldyBGaWxlUmVhZGVyKCk7CiAgICAgIHJlYWRlci5vbmxvYWQgPSAoZSkgPT4gewogICAgICAgIHJlc29sdmUoZS50YXJnZXQucmVzdWx0KTsKICAgICAgfTsKICAgICAgcmVhZGVyLnJlYWRBc0FycmF5QnVmZmVyKGZpbGUpOwogICAgfSk7CiAgICAvLyBXYWl0IGZvciB0aGUgZGF0YSB0byBiZSByZWFkeS4KICAgIGxldCBmaWxlRGF0YSA9IHlpZWxkIHsKICAgICAgcHJvbWlzZTogZmlsZURhdGFQcm9taXNlLAogICAgICByZXNwb25zZTogewogICAgICAgIGFjdGlvbjogJ2NvbnRpbnVlJywKICAgICAgfQogICAgfTsKCiAgICAvLyBVc2UgYSBjaHVua2VkIHNlbmRpbmcgdG8gYXZvaWQgbWVzc2FnZSBzaXplIGxpbWl0cy4gU2VlIGIvNjIxMTU2NjAuCiAgICBsZXQgcG9zaXRpb24gPSAwOwogICAgd2hpbGUgKHBvc2l0aW9uIDwgZmlsZURhdGEuYnl0ZUxlbmd0aCkgewogICAgICBjb25zdCBsZW5ndGggPSBNYXRoLm1pbihmaWxlRGF0YS5ieXRlTGVuZ3RoIC0gcG9zaXRpb24sIE1BWF9QQVlMT0FEX1NJWkUpOwogICAgICBjb25zdCBjaHVuayA9IG5ldyBVaW50OEFycmF5KGZpbGVEYXRhLCBwb3NpdGlvbiwgbGVuZ3RoKTsKICAgICAgcG9zaXRpb24gKz0gbGVuZ3RoOwoKICAgICAgY29uc3QgYmFzZTY0ID0gYnRvYShTdHJpbmcuZnJvbUNoYXJDb2RlLmFwcGx5KG51bGwsIGNodW5rKSk7CiAgICAgIHlpZWxkIHsKICAgICAgICByZXNwb25zZTogewogICAgICAgICAgYWN0aW9uOiAnYXBwZW5kJywKICAgICAgICAgIGZpbGU6IGZpbGUubmFtZSwKICAgICAgICAgIGRhdGE6IGJhc2U2NCwKICAgICAgICB9LAogICAgICB9OwogICAgICBwZXJjZW50LnRleHRDb250ZW50ID0KICAgICAgICAgIGAke01hdGgucm91bmQoKHBvc2l0aW9uIC8gZmlsZURhdGEuYnl0ZUxlbmd0aCkgKiAxMDApfSUgZG9uZWA7CiAgICB9CiAgfQoKICAvLyBBbGwgZG9uZS4KICB5aWVsZCB7CiAgICByZXNwb25zZTogewogICAgICBhY3Rpb246ICdjb21wbGV0ZScsCiAgICB9CiAgfTsKfQoKc2NvcGUuZ29vZ2xlID0gc2NvcGUuZ29vZ2xlIHx8IHt9OwpzY29wZS5nb29nbGUuY29sYWIgPSBzY29wZS5nb29nbGUuY29sYWIgfHwge307CnNjb3BlLmdvb2dsZS5jb2xhYi5fZmlsZXMgPSB7CiAgX3VwbG9hZEZpbGVzLAogIF91cGxvYWRGaWxlc0NvbnRpbnVlLAp9Owp9KShzZWxmKTsK",
              "ok": true,
              "headers": [
                [
                  "content-type",
                  "application/javascript"
                ]
              ],
              "status": 200,
              "status_text": ""
            }
          },
          "base_uri": "https://localhost:8080/",
          "height": 90
        },
        "id": "pw0QOBoe1Abw",
        "outputId": "7572621e-0140-49ce-8d7a-c6bd85ef1d7d"
      },
      "source": [
        "from google.colab import files\r\n",
        "files.upload()"
      ],
      "execution_count": 4,
      "outputs": [
        {
          "output_type": "display_data",
          "data": {
            "text/html": [
              "\n",
              "     <input type=\"file\" id=\"files-75d056df-7a5c-4bea-ad4f-c64f8497098e\" name=\"files[]\" multiple disabled\n",
              "        style=\"border:none\" />\n",
              "     <output id=\"result-75d056df-7a5c-4bea-ad4f-c64f8497098e\">\n",
              "      Upload widget is only available when the cell has been executed in the\n",
              "      current browser session. Please rerun this cell to enable.\n",
              "      </output>\n",
              "      <script src=\"/nbextensions/google.colab/files.js\"></script> "
            ],
            "text/plain": [
              "<IPython.core.display.HTML object>"
            ]
          },
          "metadata": {
            "tags": []
          }
        },
        {
          "output_type": "stream",
          "text": [
            "Saving kaggle.json to kaggle.json\n"
          ],
          "name": "stdout"
        },
        {
          "output_type": "execute_result",
          "data": {
            "text/plain": [
              "{'kaggle.json': b'{\"username\":\"grahamfernando\",\"key\":\"cffa546ccec7808cfc8cec9944ed384a\"}'}"
            ]
          },
          "metadata": {
            "tags": []
          },
          "execution_count": 4
        }
      ]
    },
    {
      "cell_type": "code",
      "metadata": {
        "id": "Y5m-joz71Byr"
      },
      "source": [
        "!mkdir -p ~/.kaggle\r\n",
        "!cp kaggle.json ~/.kaggle/\r\n",
        "!chmod 600 ~/.kaggle/kaggle.json"
      ],
      "execution_count": 5,
      "outputs": []
    },
    {
      "cell_type": "code",
      "metadata": {
        "colab": {
          "base_uri": "https://localhost:8080/"
        },
        "id": "oclAbgEN1C-F",
        "outputId": "018cfe9c-1018-4850-ea9c-0d6293fa5cd2"
      },
      "source": [
        "! kaggle competitions download -c m5-forecasting-accuracy"
      ],
      "execution_count": 6,
      "outputs": [
        {
          "output_type": "stream",
          "text": [
            "Warning: Looks like you're using an outdated API Version, please consider updating (server 1.5.10 / client 1.5.4)\n",
            "Downloading sales_train_evaluation.csv.zip to /content\n",
            " 57% 9.00M/15.8M [00:00<00:00, 20.5MB/s]\n",
            "100% 15.8M/15.8M [00:00<00:00, 29.4MB/s]\n",
            "Downloading calendar.csv to /content\n",
            "  0% 0.00/101k [00:00<?, ?B/s]\n",
            "100% 101k/101k [00:00<00:00, 98.5MB/s]\n",
            "Downloading sales_train_validation.csv.zip to /content\n",
            " 58% 9.00M/15.5M [00:00<00:00, 13.1MB/s]\n",
            "100% 15.5M/15.5M [00:00<00:00, 16.9MB/s]\n",
            "Downloading sell_prices.csv.zip to /content\n",
            " 63% 9.00M/14.2M [00:00<00:00, 19.0MB/s]\n",
            "100% 14.2M/14.2M [00:00<00:00, 26.4MB/s]\n",
            "Downloading sample_submission.csv.zip to /content\n",
            "  0% 0.00/163k [00:00<?, ?B/s]\n",
            "100% 163k/163k [00:00<00:00, 132MB/s]\n"
          ],
          "name": "stdout"
        }
      ]
    },
    {
      "cell_type": "code",
      "metadata": {
        "colab": {
          "base_uri": "https://localhost:8080/"
        },
        "id": "v0l4gtMd1DiP",
        "outputId": "3daee651-e041-454d-8d26-cd981e474ec9"
      },
      "source": [
        "!unzip sales_train_evaluation.csv.zip\r\n",
        "!unzip sales_train_validation.csv.zip\r\n",
        "!unzip sample_submission.csv.zip\r\n",
        "!unzip sell_prices.csv.zip"
      ],
      "execution_count": 7,
      "outputs": [
        {
          "output_type": "stream",
          "text": [
            "Archive:  sales_train_evaluation.csv.zip\n",
            "  inflating: sales_train_evaluation.csv  \n",
            "Archive:  sales_train_validation.csv.zip\n",
            "  inflating: sales_train_validation.csv  \n",
            "Archive:  sample_submission.csv.zip\n",
            "  inflating: sample_submission.csv   \n",
            "Archive:  sell_prices.csv.zip\n",
            "  inflating: sell_prices.csv         \n"
          ],
          "name": "stdout"
        }
      ]
    },
    {
      "cell_type": "code",
      "metadata": {
        "colab": {
          "base_uri": "https://localhost:8080/"
        },
        "id": "1aXCm0lJ1Jwk",
        "outputId": "7e252e18-599b-439b-bd58-d93d892ae4c9"
      },
      "source": [
        "! pip install downcast\r\n",
        "! pip install catboost"
      ],
      "execution_count": 1,
      "outputs": [
        {
          "output_type": "stream",
          "text": [
            "Collecting downcast\n",
            "  Downloading https://files.pythonhosted.org/packages/60/11/0468306ef6b191c6f53a0005f96e289494f885556a4ab80c438adc64a99f/downcast-0.0.8-py3-none-any.whl\n",
            "Installing collected packages: downcast\n",
            "Successfully installed downcast-0.0.8\n",
            "Collecting catboost\n",
            "\u001b[?25l  Downloading https://files.pythonhosted.org/packages/20/37/bc4e0ddc30c07a96482abf1de7ed1ca54e59bba2026a33bca6d2ef286e5b/catboost-0.24.4-cp36-none-manylinux1_x86_64.whl (65.7MB)\n",
            "\u001b[K     |████████████████████████████████| 65.8MB 64kB/s \n",
            "\u001b[?25hRequirement already satisfied: pandas>=0.24.0 in /usr/local/lib/python3.6/dist-packages (from catboost) (1.1.5)\n",
            "Requirement already satisfied: scipy in /usr/local/lib/python3.6/dist-packages (from catboost) (1.4.1)\n",
            "Requirement already satisfied: plotly in /usr/local/lib/python3.6/dist-packages (from catboost) (4.4.1)\n",
            "Requirement already satisfied: six in /usr/local/lib/python3.6/dist-packages (from catboost) (1.15.0)\n",
            "Requirement already satisfied: matplotlib in /usr/local/lib/python3.6/dist-packages (from catboost) (3.2.2)\n",
            "Requirement already satisfied: numpy>=1.16.0 in /usr/local/lib/python3.6/dist-packages (from catboost) (1.19.5)\n",
            "Requirement already satisfied: graphviz in /usr/local/lib/python3.6/dist-packages (from catboost) (0.10.1)\n",
            "Requirement already satisfied: pytz>=2017.2 in /usr/local/lib/python3.6/dist-packages (from pandas>=0.24.0->catboost) (2018.9)\n",
            "Requirement already satisfied: python-dateutil>=2.7.3 in /usr/local/lib/python3.6/dist-packages (from pandas>=0.24.0->catboost) (2.8.1)\n",
            "Requirement already satisfied: retrying>=1.3.3 in /usr/local/lib/python3.6/dist-packages (from plotly->catboost) (1.3.3)\n",
            "Requirement already satisfied: kiwisolver>=1.0.1 in /usr/local/lib/python3.6/dist-packages (from matplotlib->catboost) (1.3.1)\n",
            "Requirement already satisfied: pyparsing!=2.0.4,!=2.1.2,!=2.1.6,>=2.0.1 in /usr/local/lib/python3.6/dist-packages (from matplotlib->catboost) (2.4.7)\n",
            "Requirement already satisfied: cycler>=0.10 in /usr/local/lib/python3.6/dist-packages (from matplotlib->catboost) (0.10.0)\n",
            "Installing collected packages: catboost\n",
            "Successfully installed catboost-0.24.4\n"
          ],
          "name": "stdout"
        }
      ]
    },
    {
      "cell_type": "markdown",
      "metadata": {
        "id": "SnUnbyKzRX9y"
      },
      "source": [
        "# **Imports**"
      ]
    },
    {
      "cell_type": "code",
      "metadata": {
        "id": "YtCpiRRS1PmZ"
      },
      "source": [
        "import numpy as np\r\n",
        "import pandas as pd\r\n",
        "from sklearn.metrics import mean_squared_log_error\r\n",
        "from sklearn.model_selection import GridSearchCV\r\n",
        "from sklearn.linear_model import Lasso\r\n",
        "from sklearn.metrics import make_scorer\r\n",
        "from sklearn.linear_model import ElasticNet\r\n",
        "from sklearn.linear_model import LinearRegression\r\n",
        "from catboost import CatBoostRegressor\r\n",
        "from lightgbm import LGBMRegressor\r\n",
        "import pickle\r\n",
        "import dill\r\n",
        "import warnings\r\n",
        "warnings.filterwarnings('ignore')\r\n",
        "from sklearn.metrics import mean_squared_error as mse\r\n",
        "from typing import Union\r\n",
        "from tqdm import tqdm"
      ],
      "execution_count": 32,
      "outputs": []
    },
    {
      "cell_type": "code",
      "metadata": {
        "colab": {
          "base_uri": "https://localhost:8080/"
        },
        "id": "cyIkHAgx1PUb",
        "outputId": "beccd7ba-dc6d-44d6-a870-20d355ee4d98"
      },
      "source": [
        "from google.colab import drive\r\n",
        "drive.mount('/content/drive')"
      ],
      "execution_count": 3,
      "outputs": [
        {
          "output_type": "stream",
          "text": [
            "Mounted at /content/drive\n"
          ],
          "name": "stdout"
        }
      ]
    },
    {
      "cell_type": "code",
      "metadata": {
        "colab": {
          "base_uri": "https://localhost:8080/",
          "height": 126
        },
        "id": "3gPRfcKX1RI_",
        "outputId": "421bef3e-3653-4f5a-f8b2-0d760ebd22d9"
      },
      "source": [
        "data = pd.read_pickle('/content/drive/MyDrive/new.pkl')\r\n",
        "data.head(2)"
      ],
      "execution_count": null,
      "outputs": [
        {
          "output_type": "execute_result",
          "data": {
            "text/html": [
              "<div>\n",
              "<style scoped>\n",
              "    .dataframe tbody tr th:only-of-type {\n",
              "        vertical-align: middle;\n",
              "    }\n",
              "\n",
              "    .dataframe tbody tr th {\n",
              "        vertical-align: top;\n",
              "    }\n",
              "\n",
              "    .dataframe thead th {\n",
              "        text-align: right;\n",
              "    }\n",
              "</style>\n",
              "<table border=\"1\" class=\"dataframe\">\n",
              "  <thead>\n",
              "    <tr style=\"text-align: right;\">\n",
              "      <th></th>\n",
              "      <th>id</th>\n",
              "      <th>item_id</th>\n",
              "      <th>dept_id</th>\n",
              "      <th>cat_id</th>\n",
              "      <th>store_id</th>\n",
              "      <th>state_id</th>\n",
              "      <th>day</th>\n",
              "      <th>demand</th>\n",
              "      <th>wm_yr_wk</th>\n",
              "      <th>wday</th>\n",
              "      <th>month</th>\n",
              "      <th>year</th>\n",
              "      <th>event_name_1</th>\n",
              "      <th>event_type_1</th>\n",
              "      <th>event_name_2</th>\n",
              "      <th>event_type_2</th>\n",
              "      <th>snap_CA</th>\n",
              "      <th>snap_TX</th>\n",
              "      <th>snap_WI</th>\n",
              "      <th>sell_price</th>\n",
              "      <th>lag_28</th>\n",
              "      <th>lag_30</th>\n",
              "      <th>lag_35</th>\n",
              "      <th>lag_42</th>\n",
              "      <th>lag_49</th>\n",
              "      <th>lag_56</th>\n",
              "      <th>lag_63</th>\n",
              "      <th>lag_70</th>\n",
              "      <th>rolling_median_5</th>\n",
              "      <th>rolling_median_7</th>\n",
              "      <th>rolling_median_28</th>\n",
              "      <th>rolling_median_56</th>\n",
              "    </tr>\n",
              "  </thead>\n",
              "  <tbody>\n",
              "    <tr>\n",
              "      <th>30490000</th>\n",
              "      <td>14370</td>\n",
              "      <td>1437</td>\n",
              "      <td>3</td>\n",
              "      <td>1</td>\n",
              "      <td>0</td>\n",
              "      <td>0</td>\n",
              "      <td>1001</td>\n",
              "      <td>2</td>\n",
              "      <td>11339</td>\n",
              "      <td>7</td>\n",
              "      <td>10</td>\n",
              "      <td>2013</td>\n",
              "      <td>-1</td>\n",
              "      <td>-1</td>\n",
              "      <td>-1</td>\n",
              "      <td>-1</td>\n",
              "      <td>0</td>\n",
              "      <td>0</td>\n",
              "      <td>0</td>\n",
              "      <td>8.257812</td>\n",
              "      <td>1.0</td>\n",
              "      <td>0.0</td>\n",
              "      <td>2.0</td>\n",
              "      <td>1.0</td>\n",
              "      <td>0.0</td>\n",
              "      <td>1.0</td>\n",
              "      <td>0.0</td>\n",
              "      <td>1.0</td>\n",
              "      <td>0.0</td>\n",
              "      <td>0.0</td>\n",
              "      <td>0.0</td>\n",
              "      <td>0.0</td>\n",
              "    </tr>\n",
              "    <tr>\n",
              "      <th>30490001</th>\n",
              "      <td>14380</td>\n",
              "      <td>1438</td>\n",
              "      <td>3</td>\n",
              "      <td>1</td>\n",
              "      <td>0</td>\n",
              "      <td>0</td>\n",
              "      <td>1001</td>\n",
              "      <td>0</td>\n",
              "      <td>11339</td>\n",
              "      <td>7</td>\n",
              "      <td>10</td>\n",
              "      <td>2013</td>\n",
              "      <td>-1</td>\n",
              "      <td>-1</td>\n",
              "      <td>-1</td>\n",
              "      <td>-1</td>\n",
              "      <td>0</td>\n",
              "      <td>0</td>\n",
              "      <td>0</td>\n",
              "      <td>3.970703</td>\n",
              "      <td>2.0</td>\n",
              "      <td>0.0</td>\n",
              "      <td>0.0</td>\n",
              "      <td>0.0</td>\n",
              "      <td>1.0</td>\n",
              "      <td>1.0</td>\n",
              "      <td>1.0</td>\n",
              "      <td>0.0</td>\n",
              "      <td>0.0</td>\n",
              "      <td>0.0</td>\n",
              "      <td>0.0</td>\n",
              "      <td>0.0</td>\n",
              "    </tr>\n",
              "  </tbody>\n",
              "</table>\n",
              "</div>"
            ],
            "text/plain": [
              "             id  item_id  ...  rolling_median_28  rolling_median_56\n",
              "30490000  14370     1437  ...                0.0                0.0\n",
              "30490001  14380     1438  ...                0.0                0.0\n",
              "\n",
              "[2 rows x 32 columns]"
            ]
          },
          "metadata": {
            "tags": []
          },
          "execution_count": 3
        }
      ]
    },
    {
      "cell_type": "code",
      "metadata": {
        "id": "B_JXh8uj1tQt"
      },
      "source": [
        "data.drop(['rolling_median_5','rolling_median_7','rolling_median_28','rolling_median_56'],axis=1, inplace=True)"
      ],
      "execution_count": null,
      "outputs": []
    },
    {
      "cell_type": "code",
      "metadata": {
        "colab": {
          "base_uri": "https://localhost:8080/"
        },
        "id": "sIS8IdEl2GJR",
        "outputId": "a0e416cf-3d4f-4062-e02f-408af438baba"
      },
      "source": [
        "# Now we are splitting our data into, Train, Test, Cross Validate.\r\n",
        "# Being a time series model, we are splitting the data based on time.\r\n",
        "\r\n",
        "# Records till day 1914 will be used for training the model.\r\n",
        "X_train = data[data['day']<1800]\r\n",
        "\r\n",
        "# Records after day 1942 will used for final test\r\n",
        "X_test = data[(data['day']>=1800)]\r\n",
        "\r\n",
        "y_train = X_train['demand']\r\n",
        "y_test = X_test['demand']\r\n",
        "\r\n",
        "# We are drpping the features which are not required.\r\n",
        "X_train.drop(['demand'],axis = 1,inplace = True)\r\n",
        "X_test.drop(['demand'],axis = 1,inplace = True)\r\n",
        "\r\n",
        "print(X_train.shape,y_train.shape)\r\n",
        "print(X_test.shape, y_test.shape)"
      ],
      "execution_count": null,
      "outputs": [
        {
          "output_type": "stream",
          "text": [
            "(24361510, 27) (24361510,)\n",
            "(5183300, 27) (5183300,)\n"
          ],
          "name": "stdout"
        }
      ]
    },
    {
      "cell_type": "code",
      "metadata": {
        "id": "NnZd-FkH24jr"
      },
      "source": [
        "X_train_D1 = X_train[X_train['day']<=1400]\r\n",
        "X_train_D2 = X_train[X_train['day']>1400]\r\n",
        "\r\n",
        "y_train_D1 = y_train[y_train.index <= X_train_D1.index[-1]].reset_index(drop=True)\r\n",
        "y_train_D2 = y_train[y_train.index > X_train_D1.index[-1]].reset_index(drop=True)\r\n",
        "\r\n",
        "X_train_D1.reset_index(drop=True, inplace=True)\r\n",
        "X_train_D2.reset_index(drop=True, inplace=True)"
      ],
      "execution_count": null,
      "outputs": []
    },
    {
      "cell_type": "code",
      "metadata": {
        "id": "mI_sa-485my-"
      },
      "source": [
        "def sampler(max_val):\r\n",
        "\r\n",
        "    siz = np.int(max_val * 0.70)\r\n",
        "    return np.round(np.random.uniform(0,max_val-1, size=siz)).astype(int).tolist()"
      ],
      "execution_count": null,
      "outputs": []
    },
    {
      "cell_type": "code",
      "metadata": {
        "id": "8GccK0Uf8c7Y"
      },
      "source": [
        "k1_train = X_train_D1.iloc[sampler(X_train_D1.shape[0])].sort_index()\r\n",
        "k1_test = y_train_D1[k1_train.index.tolist()]\r\n",
        "\r\n",
        "k2_train = X_train_D1.iloc[sampler(X_train_D1.shape[0])].sort_index()\r\n",
        "k2_test = y_train_D1[k2_train.index.tolist()]\r\n",
        "\r\n",
        "k3_train = X_train_D1.iloc[sampler(X_train_D1.shape[0])].sort_index()\r\n",
        "k3_test = y_train_D1[k3_train.index.tolist()]\r\n",
        "\r\n",
        "k4_train = X_train_D1.iloc[sampler(X_train_D1.shape[0])].sort_index()\r\n",
        "k4_test = y_train_D1[k4_train.index.tolist()]\r\n",
        "\r\n",
        "k5_train = X_train_D1.iloc[sampler(X_train_D1.shape[0])].sort_index()\r\n",
        "k5_test = y_train_D1[k5_train.index.tolist()]"
      ],
      "execution_count": null,
      "outputs": []
    },
    {
      "cell_type": "code",
      "metadata": {
        "colab": {
          "base_uri": "https://localhost:8080/"
        },
        "id": "nTK14GcVGgl_",
        "outputId": "d7b31e9f-051b-4177-af29-fbc23d6ecaa5"
      },
      "source": [
        "params = {'alpha' : [0.001,0.01,0.1,1,10,0.05,0.5]}\r\n",
        "\r\n",
        "lasso = Lasso()\r\n",
        "clf = GridSearchCV(estimator=lasso, param_grid=params,scoring='neg_mean_squared_error', cv=3,n_jobs=-1, return_train_score=True, verbose=2)\r\n",
        "clf.fit(k1_train, k1_test)"
      ],
      "execution_count": null,
      "outputs": [
        {
          "output_type": "stream",
          "text": [
            "Fitting 3 folds for each of 7 candidates, totalling 21 fits\n"
          ],
          "name": "stdout"
        },
        {
          "output_type": "stream",
          "text": [
            "[Parallel(n_jobs=-1)]: Using backend LokyBackend with 4 concurrent workers.\n",
            "[Parallel(n_jobs=-1)]: Done  21 out of  21 | elapsed:  4.2min finished\n"
          ],
          "name": "stderr"
        },
        {
          "output_type": "execute_result",
          "data": {
            "text/plain": [
              "GridSearchCV(cv=3, error_score=nan,\n",
              "             estimator=Lasso(alpha=1.0, copy_X=True, fit_intercept=True,\n",
              "                             max_iter=1000, normalize=False, positive=False,\n",
              "                             precompute=False, random_state=None,\n",
              "                             selection='cyclic', tol=0.0001, warm_start=False),\n",
              "             iid='deprecated', n_jobs=-1,\n",
              "             param_grid={'alpha': [0.001, 0.01, 0.1, 1, 10, 0.05, 0.5]},\n",
              "             pre_dispatch='2*n_jobs', refit=True, return_train_score=True,\n",
              "             scoring='neg_mean_squared_error', verbose=2)"
            ]
          },
          "metadata": {
            "tags": []
          },
          "execution_count": 16
        }
      ]
    },
    {
      "cell_type": "code",
      "metadata": {
        "colab": {
          "base_uri": "https://localhost:8080/",
          "height": 392
        },
        "id": "a6Ecf3qkgOY5",
        "outputId": "f2e3df32-6ff9-4169-ee3b-f5df27b9b4c1"
      },
      "source": [
        "pd.DataFrame(clf.cv_results_)"
      ],
      "execution_count": null,
      "outputs": [
        {
          "output_type": "execute_result",
          "data": {
            "text/html": [
              "<div>\n",
              "<style scoped>\n",
              "    .dataframe tbody tr th:only-of-type {\n",
              "        vertical-align: middle;\n",
              "    }\n",
              "\n",
              "    .dataframe tbody tr th {\n",
              "        vertical-align: top;\n",
              "    }\n",
              "\n",
              "    .dataframe thead th {\n",
              "        text-align: right;\n",
              "    }\n",
              "</style>\n",
              "<table border=\"1\" class=\"dataframe\">\n",
              "  <thead>\n",
              "    <tr style=\"text-align: right;\">\n",
              "      <th></th>\n",
              "      <th>mean_fit_time</th>\n",
              "      <th>std_fit_time</th>\n",
              "      <th>mean_score_time</th>\n",
              "      <th>std_score_time</th>\n",
              "      <th>param_alpha</th>\n",
              "      <th>params</th>\n",
              "      <th>split0_test_score</th>\n",
              "      <th>split1_test_score</th>\n",
              "      <th>split2_test_score</th>\n",
              "      <th>mean_test_score</th>\n",
              "      <th>std_test_score</th>\n",
              "      <th>rank_test_score</th>\n",
              "      <th>split0_train_score</th>\n",
              "      <th>split1_train_score</th>\n",
              "      <th>split2_train_score</th>\n",
              "      <th>mean_train_score</th>\n",
              "      <th>std_train_score</th>\n",
              "    </tr>\n",
              "  </thead>\n",
              "  <tbody>\n",
              "    <tr>\n",
              "      <th>0</th>\n",
              "      <td>125.738910</td>\n",
              "      <td>89.120867</td>\n",
              "      <td>0.366682</td>\n",
              "      <td>0.093678</td>\n",
              "      <td>0.001</td>\n",
              "      <td>{'alpha': 0.001}</td>\n",
              "      <td>-8.890647</td>\n",
              "      <td>-6.584685</td>\n",
              "      <td>-5.549262</td>\n",
              "      <td>-7.008198</td>\n",
              "      <td>1.396599</td>\n",
              "      <td>6</td>\n",
              "      <td>-6.008701</td>\n",
              "      <td>-6.614247</td>\n",
              "      <td>-7.117569</td>\n",
              "      <td>-6.580172</td>\n",
              "      <td>0.453334</td>\n",
              "    </tr>\n",
              "    <tr>\n",
              "      <th>1</th>\n",
              "      <td>31.778010</td>\n",
              "      <td>8.568656</td>\n",
              "      <td>0.488238</td>\n",
              "      <td>0.004366</td>\n",
              "      <td>0.01</td>\n",
              "      <td>{'alpha': 0.01}</td>\n",
              "      <td>-7.834643</td>\n",
              "      <td>-6.588242</td>\n",
              "      <td>-5.548908</td>\n",
              "      <td>-6.657264</td>\n",
              "      <td>0.934423</td>\n",
              "      <td>1</td>\n",
              "      <td>-6.010812</td>\n",
              "      <td>-6.615561</td>\n",
              "      <td>-7.119207</td>\n",
              "      <td>-6.581860</td>\n",
              "      <td>0.453127</td>\n",
              "    </tr>\n",
              "    <tr>\n",
              "      <th>2</th>\n",
              "      <td>15.063405</td>\n",
              "      <td>1.511486</td>\n",
              "      <td>0.452762</td>\n",
              "      <td>0.058067</td>\n",
              "      <td>0.1</td>\n",
              "      <td>{'alpha': 0.1}</td>\n",
              "      <td>-7.817636</td>\n",
              "      <td>-6.603689</td>\n",
              "      <td>-5.560840</td>\n",
              "      <td>-6.660722</td>\n",
              "      <td>0.922215</td>\n",
              "      <td>3</td>\n",
              "      <td>-6.015190</td>\n",
              "      <td>-6.620996</td>\n",
              "      <td>-7.125393</td>\n",
              "      <td>-6.587193</td>\n",
              "      <td>0.453868</td>\n",
              "    </tr>\n",
              "    <tr>\n",
              "      <th>3</th>\n",
              "      <td>12.600375</td>\n",
              "      <td>0.889002</td>\n",
              "      <td>0.463780</td>\n",
              "      <td>0.068755</td>\n",
              "      <td>1</td>\n",
              "      <td>{'alpha': 1}</td>\n",
              "      <td>-7.688156</td>\n",
              "      <td>-6.822164</td>\n",
              "      <td>-5.720143</td>\n",
              "      <td>-6.743488</td>\n",
              "      <td>0.805362</td>\n",
              "      <td>5</td>\n",
              "      <td>-6.118202</td>\n",
              "      <td>-6.717062</td>\n",
              "      <td>-7.228772</td>\n",
              "      <td>-6.688012</td>\n",
              "      <td>0.453854</td>\n",
              "    </tr>\n",
              "    <tr>\n",
              "      <th>4</th>\n",
              "      <td>3.977889</td>\n",
              "      <td>0.842218</td>\n",
              "      <td>0.388808</td>\n",
              "      <td>0.054074</td>\n",
              "      <td>10</td>\n",
              "      <td>{'alpha': 10}</td>\n",
              "      <td>-14.365685</td>\n",
              "      <td>-14.036357</td>\n",
              "      <td>-13.362334</td>\n",
              "      <td>-13.921459</td>\n",
              "      <td>0.417596</td>\n",
              "      <td>7</td>\n",
              "      <td>-13.698459</td>\n",
              "      <td>-13.862901</td>\n",
              "      <td>-14.199687</td>\n",
              "      <td>-13.920349</td>\n",
              "      <td>0.208619</td>\n",
              "    </tr>\n",
              "    <tr>\n",
              "      <th>5</th>\n",
              "      <td>17.392705</td>\n",
              "      <td>4.912009</td>\n",
              "      <td>0.502443</td>\n",
              "      <td>0.033038</td>\n",
              "      <td>0.05</td>\n",
              "      <td>{'alpha': 0.05}</td>\n",
              "      <td>-7.828810</td>\n",
              "      <td>-6.595367</td>\n",
              "      <td>-5.556068</td>\n",
              "      <td>-6.660082</td>\n",
              "      <td>0.928971</td>\n",
              "      <td>2</td>\n",
              "      <td>-6.013965</td>\n",
              "      <td>-6.618291</td>\n",
              "      <td>-7.123939</td>\n",
              "      <td>-6.585398</td>\n",
              "      <td>0.453742</td>\n",
              "    </tr>\n",
              "    <tr>\n",
              "      <th>6</th>\n",
              "      <td>12.112609</td>\n",
              "      <td>1.990765</td>\n",
              "      <td>0.328401</td>\n",
              "      <td>0.108668</td>\n",
              "      <td>0.5</td>\n",
              "      <td>{'alpha': 0.5}</td>\n",
              "      <td>-7.737507</td>\n",
              "      <td>-6.687425</td>\n",
              "      <td>-5.614484</td>\n",
              "      <td>-6.679805</td>\n",
              "      <td>0.866737</td>\n",
              "      <td>4</td>\n",
              "      <td>-6.040975</td>\n",
              "      <td>-6.647594</td>\n",
              "      <td>-7.154391</td>\n",
              "      <td>-6.614320</td>\n",
              "      <td>0.455158</td>\n",
              "    </tr>\n",
              "  </tbody>\n",
              "</table>\n",
              "</div>"
            ],
            "text/plain": [
              "   mean_fit_time  std_fit_time  ...  mean_train_score  std_train_score\n",
              "0     125.738910     89.120867  ...         -6.580172         0.453334\n",
              "1      31.778010      8.568656  ...         -6.581860         0.453127\n",
              "2      15.063405      1.511486  ...         -6.587193         0.453868\n",
              "3      12.600375      0.889002  ...         -6.688012         0.453854\n",
              "4       3.977889      0.842218  ...        -13.920349         0.208619\n",
              "5      17.392705      4.912009  ...         -6.585398         0.453742\n",
              "6      12.112609      1.990765  ...         -6.614320         0.455158\n",
              "\n",
              "[7 rows x 17 columns]"
            ]
          },
          "metadata": {
            "tags": []
          },
          "execution_count": 17
        }
      ]
    },
    {
      "cell_type": "code",
      "metadata": {
        "colab": {
          "base_uri": "https://localhost:8080/"
        },
        "id": "0xFBLuE9Qey3",
        "outputId": "7a2146e7-76cd-4eff-b3ff-eabe7ba34c95"
      },
      "source": [
        "clf.best_params_"
      ],
      "execution_count": null,
      "outputs": [
        {
          "output_type": "execute_result",
          "data": {
            "text/plain": [
              "{'alpha': 0.01}"
            ]
          },
          "metadata": {
            "tags": []
          },
          "execution_count": 18
        }
      ]
    },
    {
      "cell_type": "code",
      "metadata": {
        "colab": {
          "base_uri": "https://localhost:8080/"
        },
        "id": "fpoiO0BNkZr8",
        "outputId": "97474ba8-5d9f-484d-8f16-3d64e4f97431"
      },
      "source": [
        "model_1 = Lasso(alpha=0.01)\r\n",
        "model_1.fit(k1_train, k1_test)"
      ],
      "execution_count": null,
      "outputs": [
        {
          "output_type": "execute_result",
          "data": {
            "text/plain": [
              "Lasso(alpha=0.01, copy_X=True, fit_intercept=True, max_iter=1000,\n",
              "      normalize=False, positive=False, precompute=False, random_state=None,\n",
              "      selection='cyclic', tol=0.0001, warm_start=False)"
            ]
          },
          "metadata": {
            "tags": []
          },
          "execution_count": 19
        }
      ]
    },
    {
      "cell_type": "code",
      "metadata": {
        "id": "AjiQg4VEl_pd"
      },
      "source": [
        ""
      ],
      "execution_count": null,
      "outputs": []
    },
    {
      "cell_type": "code",
      "metadata": {
        "id": "PPZIupuHmlgi"
      },
      "source": [
        ""
      ],
      "execution_count": null,
      "outputs": []
    },
    {
      "cell_type": "code",
      "metadata": {
        "colab": {
          "base_uri": "https://localhost:8080/"
        },
        "id": "gZWWF3l4ml6P",
        "outputId": "62547fbd-b7bc-49e6-cc57-0c242bf90669"
      },
      "source": [
        "params = {'alpha' : [0.001,0.01,0.1,1,10,0.05,0.5],\r\n",
        "          'l1_ratio' : [0.01,0.1,1]}\r\n",
        "\r\n",
        "elastic_net = ElasticNet(max_iter=250)\r\n",
        "clf = GridSearchCV(estimator=elastic_net, param_grid=params, scoring='neg_mean_squared_error', cv=3, n_jobs=-1, return_train_score=True)\r\n",
        "clf.fit(k2_train, k2_test)"
      ],
      "execution_count": null,
      "outputs": [
        {
          "output_type": "execute_result",
          "data": {
            "text/plain": [
              "GridSearchCV(cv=3, error_score=nan,\n",
              "             estimator=ElasticNet(alpha=1.0, copy_X=True, fit_intercept=True,\n",
              "                                  l1_ratio=0.5, max_iter=250, normalize=False,\n",
              "                                  positive=False, precompute=False,\n",
              "                                  random_state=None, selection='cyclic',\n",
              "                                  tol=0.0001, warm_start=False),\n",
              "             iid='deprecated', n_jobs=-1,\n",
              "             param_grid={'alpha': [0.001, 0.01, 0.1, 1, 10, 0.05, 0.5],\n",
              "                         'l1_ratio': [0.01, 0.1, 1]},\n",
              "             pre_dispatch='2*n_jobs', refit=True, return_train_score=True,\n",
              "             scoring='neg_mean_squared_error', verbose=0)"
            ]
          },
          "metadata": {
            "tags": []
          },
          "execution_count": 20
        }
      ]
    },
    {
      "cell_type": "code",
      "metadata": {
        "colab": {
          "base_uri": "https://localhost:8080/",
          "height": 669
        },
        "id": "MEVYlKvBml6S",
        "outputId": "60b2c6c9-dd16-42df-f0fe-7753a391479f"
      },
      "source": [
        "pd.DataFrame(clf.cv_results_)[['param_alpha','param_l1_ratio','mean_test_score','std_test_score','mean_train_score','std_train_score']]"
      ],
      "execution_count": null,
      "outputs": [
        {
          "output_type": "execute_result",
          "data": {
            "text/html": [
              "<div>\n",
              "<style scoped>\n",
              "    .dataframe tbody tr th:only-of-type {\n",
              "        vertical-align: middle;\n",
              "    }\n",
              "\n",
              "    .dataframe tbody tr th {\n",
              "        vertical-align: top;\n",
              "    }\n",
              "\n",
              "    .dataframe thead th {\n",
              "        text-align: right;\n",
              "    }\n",
              "</style>\n",
              "<table border=\"1\" class=\"dataframe\">\n",
              "  <thead>\n",
              "    <tr style=\"text-align: right;\">\n",
              "      <th></th>\n",
              "      <th>param_alpha</th>\n",
              "      <th>param_l1_ratio</th>\n",
              "      <th>mean_test_score</th>\n",
              "      <th>std_test_score</th>\n",
              "      <th>mean_train_score</th>\n",
              "      <th>std_train_score</th>\n",
              "    </tr>\n",
              "  </thead>\n",
              "  <tbody>\n",
              "    <tr>\n",
              "      <th>0</th>\n",
              "      <td>0.001</td>\n",
              "      <td>0.01</td>\n",
              "      <td>-6.783339</td>\n",
              "      <td>1.148269</td>\n",
              "      <td>-6.549112</td>\n",
              "      <td>0.456022</td>\n",
              "    </tr>\n",
              "    <tr>\n",
              "      <th>1</th>\n",
              "      <td>0.001</td>\n",
              "      <td>0.1</td>\n",
              "      <td>-6.780553</td>\n",
              "      <td>1.144477</td>\n",
              "      <td>-6.549129</td>\n",
              "      <td>0.456033</td>\n",
              "    </tr>\n",
              "    <tr>\n",
              "      <th>2</th>\n",
              "      <td>0.001</td>\n",
              "      <td>1</td>\n",
              "      <td>-6.746563</td>\n",
              "      <td>1.098752</td>\n",
              "      <td>-6.549222</td>\n",
              "      <td>0.456024</td>\n",
              "    </tr>\n",
              "    <tr>\n",
              "      <th>3</th>\n",
              "      <td>0.01</td>\n",
              "      <td>0.01</td>\n",
              "      <td>-6.761373</td>\n",
              "      <td>1.118671</td>\n",
              "      <td>-6.549169</td>\n",
              "      <td>0.456042</td>\n",
              "    </tr>\n",
              "    <tr>\n",
              "      <th>4</th>\n",
              "      <td>0.01</td>\n",
              "      <td>0.1</td>\n",
              "      <td>-6.733826</td>\n",
              "      <td>1.081732</td>\n",
              "      <td>-6.549260</td>\n",
              "      <td>0.456014</td>\n",
              "    </tr>\n",
              "    <tr>\n",
              "      <th>5</th>\n",
              "      <td>0.01</td>\n",
              "      <td>1</td>\n",
              "      <td>-6.631170</td>\n",
              "      <td>0.943574</td>\n",
              "      <td>-6.550869</td>\n",
              "      <td>0.455858</td>\n",
              "    </tr>\n",
              "    <tr>\n",
              "      <th>6</th>\n",
              "      <td>0.1</td>\n",
              "      <td>0.01</td>\n",
              "      <td>-6.674251</td>\n",
              "      <td>1.002016</td>\n",
              "      <td>-6.549727</td>\n",
              "      <td>0.456050</td>\n",
              "    </tr>\n",
              "    <tr>\n",
              "      <th>7</th>\n",
              "      <td>0.1</td>\n",
              "      <td>0.1</td>\n",
              "      <td>-6.631055</td>\n",
              "      <td>0.942717</td>\n",
              "      <td>-6.551353</td>\n",
              "      <td>0.456032</td>\n",
              "    </tr>\n",
              "    <tr>\n",
              "      <th>8</th>\n",
              "      <td>0.1</td>\n",
              "      <td>1</td>\n",
              "      <td>-6.634286</td>\n",
              "      <td>0.930460</td>\n",
              "      <td>-6.556403</td>\n",
              "      <td>0.456654</td>\n",
              "    </tr>\n",
              "    <tr>\n",
              "      <th>9</th>\n",
              "      <td>1</td>\n",
              "      <td>0.01</td>\n",
              "      <td>-6.633117</td>\n",
              "      <td>0.934295</td>\n",
              "      <td>-6.555253</td>\n",
              "      <td>0.456452</td>\n",
              "    </tr>\n",
              "    <tr>\n",
              "      <th>10</th>\n",
              "      <td>1</td>\n",
              "      <td>0.1</td>\n",
              "      <td>-6.635118</td>\n",
              "      <td>0.919787</td>\n",
              "      <td>-6.560364</td>\n",
              "      <td>0.456771</td>\n",
              "    </tr>\n",
              "    <tr>\n",
              "      <th>11</th>\n",
              "      <td>1</td>\n",
              "      <td>1</td>\n",
              "      <td>-6.713770</td>\n",
              "      <td>0.797522</td>\n",
              "      <td>-6.656329</td>\n",
              "      <td>0.456238</td>\n",
              "    </tr>\n",
              "    <tr>\n",
              "      <th>12</th>\n",
              "      <td>10</td>\n",
              "      <td>0.01</td>\n",
              "      <td>-6.740262</td>\n",
              "      <td>0.809551</td>\n",
              "      <td>-6.687513</td>\n",
              "      <td>0.455315</td>\n",
              "    </tr>\n",
              "    <tr>\n",
              "      <th>13</th>\n",
              "      <td>10</td>\n",
              "      <td>0.1</td>\n",
              "      <td>-6.931253</td>\n",
              "      <td>0.712287</td>\n",
              "      <td>-6.890131</td>\n",
              "      <td>0.450158</td>\n",
              "    </tr>\n",
              "    <tr>\n",
              "      <th>14</th>\n",
              "      <td>10</td>\n",
              "      <td>1</td>\n",
              "      <td>-13.989039</td>\n",
              "      <td>0.371214</td>\n",
              "      <td>-13.987998</td>\n",
              "      <td>0.185438</td>\n",
              "    </tr>\n",
              "    <tr>\n",
              "      <th>15</th>\n",
              "      <td>0.05</td>\n",
              "      <td>0.01</td>\n",
              "      <td>-6.702859</td>\n",
              "      <td>1.040350</td>\n",
              "      <td>-6.549401</td>\n",
              "      <td>0.456027</td>\n",
              "    </tr>\n",
              "    <tr>\n",
              "      <th>16</th>\n",
              "      <td>0.05</td>\n",
              "      <td>0.1</td>\n",
              "      <td>-6.649876</td>\n",
              "      <td>0.969390</td>\n",
              "      <td>-6.550075</td>\n",
              "      <td>0.455989</td>\n",
              "    </tr>\n",
              "    <tr>\n",
              "      <th>17</th>\n",
              "      <td>0.05</td>\n",
              "      <td>1</td>\n",
              "      <td>-6.633982</td>\n",
              "      <td>0.937717</td>\n",
              "      <td>-6.554530</td>\n",
              "      <td>0.456433</td>\n",
              "    </tr>\n",
              "    <tr>\n",
              "      <th>18</th>\n",
              "      <td>0.5</td>\n",
              "      <td>0.01</td>\n",
              "      <td>-6.638257</td>\n",
              "      <td>0.949202</td>\n",
              "      <td>-6.552156</td>\n",
              "      <td>0.456267</td>\n",
              "    </tr>\n",
              "    <tr>\n",
              "      <th>19</th>\n",
              "      <td>0.5</td>\n",
              "      <td>0.1</td>\n",
              "      <td>-6.633410</td>\n",
              "      <td>0.932483</td>\n",
              "      <td>-6.555615</td>\n",
              "      <td>0.456476</td>\n",
              "    </tr>\n",
              "    <tr>\n",
              "      <th>20</th>\n",
              "      <td>0.5</td>\n",
              "      <td>1</td>\n",
              "      <td>-6.651814</td>\n",
              "      <td>0.868099</td>\n",
              "      <td>-6.583203</td>\n",
              "      <td>0.457903</td>\n",
              "    </tr>\n",
              "  </tbody>\n",
              "</table>\n",
              "</div>"
            ],
            "text/plain": [
              "   param_alpha param_l1_ratio  ...  mean_train_score  std_train_score\n",
              "0        0.001           0.01  ...         -6.549112         0.456022\n",
              "1        0.001            0.1  ...         -6.549129         0.456033\n",
              "2        0.001              1  ...         -6.549222         0.456024\n",
              "3         0.01           0.01  ...         -6.549169         0.456042\n",
              "4         0.01            0.1  ...         -6.549260         0.456014\n",
              "5         0.01              1  ...         -6.550869         0.455858\n",
              "6          0.1           0.01  ...         -6.549727         0.456050\n",
              "7          0.1            0.1  ...         -6.551353         0.456032\n",
              "8          0.1              1  ...         -6.556403         0.456654\n",
              "9            1           0.01  ...         -6.555253         0.456452\n",
              "10           1            0.1  ...         -6.560364         0.456771\n",
              "11           1              1  ...         -6.656329         0.456238\n",
              "12          10           0.01  ...         -6.687513         0.455315\n",
              "13          10            0.1  ...         -6.890131         0.450158\n",
              "14          10              1  ...        -13.987998         0.185438\n",
              "15        0.05           0.01  ...         -6.549401         0.456027\n",
              "16        0.05            0.1  ...         -6.550075         0.455989\n",
              "17        0.05              1  ...         -6.554530         0.456433\n",
              "18         0.5           0.01  ...         -6.552156         0.456267\n",
              "19         0.5            0.1  ...         -6.555615         0.456476\n",
              "20         0.5              1  ...         -6.583203         0.457903\n",
              "\n",
              "[21 rows x 6 columns]"
            ]
          },
          "metadata": {
            "tags": []
          },
          "execution_count": 21
        }
      ]
    },
    {
      "cell_type": "code",
      "metadata": {
        "colab": {
          "base_uri": "https://localhost:8080/"
        },
        "id": "VEnawHl_ml6U",
        "outputId": "b3ef004e-711c-496d-808f-1453b70f54de"
      },
      "source": [
        "clf.best_params_"
      ],
      "execution_count": null,
      "outputs": [
        {
          "output_type": "execute_result",
          "data": {
            "text/plain": [
              "{'alpha': 0.1, 'l1_ratio': 0.1}"
            ]
          },
          "metadata": {
            "tags": []
          },
          "execution_count": 22
        }
      ]
    },
    {
      "cell_type": "code",
      "metadata": {
        "colab": {
          "base_uri": "https://localhost:8080/"
        },
        "id": "xTbvOVCKml6V",
        "outputId": "92cfc10e-4798-409f-c4b2-7b2d89bc8732"
      },
      "source": [
        "model_2 = ElasticNet(alpha=0.1,l1_ratio=0.1,max_iter=250)\r\n",
        "model_2.fit(k2_train, k2_test)"
      ],
      "execution_count": null,
      "outputs": [
        {
          "output_type": "execute_result",
          "data": {
            "text/plain": [
              "ElasticNet(alpha=0.1, copy_X=True, fit_intercept=True, l1_ratio=0.1,\n",
              "           max_iter=250, normalize=False, positive=False, precompute=False,\n",
              "           random_state=None, selection='cyclic', tol=0.0001, warm_start=False)"
            ]
          },
          "metadata": {
            "tags": []
          },
          "execution_count": 23
        }
      ]
    },
    {
      "cell_type": "code",
      "metadata": {
        "id": "8WLYjnWbmlYQ"
      },
      "source": [
        ""
      ],
      "execution_count": null,
      "outputs": []
    },
    {
      "cell_type": "code",
      "metadata": {
        "id": "eMiYlP2zrAO5"
      },
      "source": [
        ""
      ],
      "execution_count": null,
      "outputs": []
    },
    {
      "cell_type": "code",
      "metadata": {
        "colab": {
          "base_uri": "https://localhost:8080/"
        },
        "id": "gPCPBfrQrCjm",
        "outputId": "2cc10ae6-ffcb-4969-9fbb-19b3b7c4bd6b"
      },
      "source": [
        "model_3 = LinearRegression(n_jobs=-1)\r\n",
        "model_3.fit(k3_train, k3_test)"
      ],
      "execution_count": null,
      "outputs": [
        {
          "output_type": "execute_result",
          "data": {
            "text/plain": [
              "LinearRegression(copy_X=True, fit_intercept=True, n_jobs=-1, normalize=False)"
            ]
          },
          "metadata": {
            "tags": []
          },
          "execution_count": 24
        }
      ]
    },
    {
      "cell_type": "code",
      "metadata": {
        "id": "engK0Ozxrn4m"
      },
      "source": [
        ""
      ],
      "execution_count": null,
      "outputs": []
    },
    {
      "cell_type": "code",
      "metadata": {
        "id": "ba0MreC_r5nm"
      },
      "source": [
        ""
      ],
      "execution_count": null,
      "outputs": []
    },
    {
      "cell_type": "code",
      "metadata": {
        "id": "UDucHAcer9H5"
      },
      "source": [
        "a = pd.DataFrame()\r\n",
        "for i in range(7):    \r\n",
        "    params = {'learning_rate' : np.round(np.random.rand(1)/10,3).tolist(),\r\n",
        "            'min_data_in_leaf' : np.random.randint(30,113, size=1).tolist()}\r\n",
        "\r\n",
        "    cat_boost = CatBoostRegressor(logging_level=\"Silent\", iterations=130)\r\n",
        "    clf = GridSearchCV(estimator=cat_boost, param_grid=params, scoring='neg_mean_squared_error', cv=3, n_jobs=-1, return_train_score=True)\r\n",
        "    clf.fit(k4_train, k4_test)\r\n",
        "    b = pd.DataFrame(clf.cv_results_)\r\n",
        "    a = pd.concat([a,b])"
      ],
      "execution_count": null,
      "outputs": []
    },
    {
      "cell_type": "code",
      "metadata": {
        "colab": {
          "base_uri": "https://localhost:8080/",
          "height": 627
        },
        "id": "HZuq9Y8V26ag",
        "outputId": "43cdc57e-696f-446a-c837-b3e6a14825e1"
      },
      "source": [
        "a['diff'] = a['mean_test_score'] - a['mean_train_score']\r\n",
        "a"
      ],
      "execution_count": null,
      "outputs": [
        {
          "output_type": "execute_result",
          "data": {
            "text/html": [
              "<div>\n",
              "<style scoped>\n",
              "    .dataframe tbody tr th:only-of-type {\n",
              "        vertical-align: middle;\n",
              "    }\n",
              "\n",
              "    .dataframe tbody tr th {\n",
              "        vertical-align: top;\n",
              "    }\n",
              "\n",
              "    .dataframe thead th {\n",
              "        text-align: right;\n",
              "    }\n",
              "</style>\n",
              "<table border=\"1\" class=\"dataframe\">\n",
              "  <thead>\n",
              "    <tr style=\"text-align: right;\">\n",
              "      <th></th>\n",
              "      <th>mean_fit_time</th>\n",
              "      <th>std_fit_time</th>\n",
              "      <th>mean_score_time</th>\n",
              "      <th>std_score_time</th>\n",
              "      <th>param_learning_rate</th>\n",
              "      <th>param_min_data_in_leaf</th>\n",
              "      <th>params</th>\n",
              "      <th>split0_test_score</th>\n",
              "      <th>split1_test_score</th>\n",
              "      <th>split2_test_score</th>\n",
              "      <th>mean_test_score</th>\n",
              "      <th>std_test_score</th>\n",
              "      <th>rank_test_score</th>\n",
              "      <th>split0_train_score</th>\n",
              "      <th>split1_train_score</th>\n",
              "      <th>split2_train_score</th>\n",
              "      <th>mean_train_score</th>\n",
              "      <th>std_train_score</th>\n",
              "      <th>diff</th>\n",
              "    </tr>\n",
              "  </thead>\n",
              "  <tbody>\n",
              "    <tr>\n",
              "      <th>0</th>\n",
              "      <td>207.468141</td>\n",
              "      <td>1.687388</td>\n",
              "      <td>7.824273</td>\n",
              "      <td>0.553943</td>\n",
              "      <td>0.09</td>\n",
              "      <td>74</td>\n",
              "      <td>{'learning_rate': 0.09, 'min_data_in_leaf': 74}</td>\n",
              "      <td>-7.379380</td>\n",
              "      <td>-6.462665</td>\n",
              "      <td>-6.009775</td>\n",
              "      <td>-6.617273</td>\n",
              "      <td>0.569726</td>\n",
              "      <td>1</td>\n",
              "      <td>-5.421570</td>\n",
              "      <td>-5.713077</td>\n",
              "      <td>-5.938458</td>\n",
              "      <td>-5.691035</td>\n",
              "      <td>0.211594</td>\n",
              "      <td>-0.926238</td>\n",
              "    </tr>\n",
              "    <tr>\n",
              "      <th>0</th>\n",
              "      <td>202.502698</td>\n",
              "      <td>1.565536</td>\n",
              "      <td>7.910024</td>\n",
              "      <td>1.140081</td>\n",
              "      <td>0.019</td>\n",
              "      <td>108</td>\n",
              "      <td>{'learning_rate': 0.019, 'min_data_in_leaf': 108}</td>\n",
              "      <td>-7.427849</td>\n",
              "      <td>-6.807751</td>\n",
              "      <td>-6.227346</td>\n",
              "      <td>-6.820982</td>\n",
              "      <td>0.490193</td>\n",
              "      <td>1</td>\n",
              "      <td>-6.109435</td>\n",
              "      <td>-6.510635</td>\n",
              "      <td>-6.744936</td>\n",
              "      <td>-6.455002</td>\n",
              "      <td>0.262408</td>\n",
              "      <td>-0.365980</td>\n",
              "    </tr>\n",
              "    <tr>\n",
              "      <th>0</th>\n",
              "      <td>204.804547</td>\n",
              "      <td>5.129653</td>\n",
              "      <td>8.428418</td>\n",
              "      <td>1.250131</td>\n",
              "      <td>0.099</td>\n",
              "      <td>92</td>\n",
              "      <td>{'learning_rate': 0.099, 'min_data_in_leaf': 92}</td>\n",
              "      <td>-7.359930</td>\n",
              "      <td>-6.484319</td>\n",
              "      <td>-6.001131</td>\n",
              "      <td>-6.615127</td>\n",
              "      <td>0.562386</td>\n",
              "      <td>1</td>\n",
              "      <td>-5.396566</td>\n",
              "      <td>-5.673982</td>\n",
              "      <td>-5.881579</td>\n",
              "      <td>-5.650709</td>\n",
              "      <td>0.198688</td>\n",
              "      <td>-0.964418</td>\n",
              "    </tr>\n",
              "    <tr>\n",
              "      <th>0</th>\n",
              "      <td>198.191542</td>\n",
              "      <td>2.016174</td>\n",
              "      <td>7.639589</td>\n",
              "      <td>0.999844</td>\n",
              "      <td>0.013</td>\n",
              "      <td>62</td>\n",
              "      <td>{'learning_rate': 0.013, 'min_data_in_leaf': 62}</td>\n",
              "      <td>-7.728771</td>\n",
              "      <td>-7.230054</td>\n",
              "      <td>-6.647829</td>\n",
              "      <td>-7.202218</td>\n",
              "      <td>0.441731</td>\n",
              "      <td>1</td>\n",
              "      <td>-6.600881</td>\n",
              "      <td>-6.996273</td>\n",
              "      <td>-7.236005</td>\n",
              "      <td>-6.944386</td>\n",
              "      <td>0.261871</td>\n",
              "      <td>-0.257831</td>\n",
              "    </tr>\n",
              "    <tr>\n",
              "      <th>0</th>\n",
              "      <td>205.032764</td>\n",
              "      <td>4.429652</td>\n",
              "      <td>8.366679</td>\n",
              "      <td>1.152466</td>\n",
              "      <td>0.095</td>\n",
              "      <td>63</td>\n",
              "      <td>{'learning_rate': 0.095, 'min_data_in_leaf': 63}</td>\n",
              "      <td>-7.375966</td>\n",
              "      <td>-6.441693</td>\n",
              "      <td>-5.975907</td>\n",
              "      <td>-6.597855</td>\n",
              "      <td>0.582140</td>\n",
              "      <td>1</td>\n",
              "      <td>-5.412212</td>\n",
              "      <td>-5.691887</td>\n",
              "      <td>-5.905400</td>\n",
              "      <td>-5.669833</td>\n",
              "      <td>0.201946</td>\n",
              "      <td>-0.928022</td>\n",
              "    </tr>\n",
              "    <tr>\n",
              "      <th>0</th>\n",
              "      <td>196.218116</td>\n",
              "      <td>1.444107</td>\n",
              "      <td>7.505073</td>\n",
              "      <td>0.695449</td>\n",
              "      <td>0.007</td>\n",
              "      <td>33</td>\n",
              "      <td>{'learning_rate': 0.007, 'min_data_in_leaf': 33}</td>\n",
              "      <td>-8.834619</td>\n",
              "      <td>-8.500979</td>\n",
              "      <td>-7.981819</td>\n",
              "      <td>-8.439139</td>\n",
              "      <td>0.350889</td>\n",
              "      <td>1</td>\n",
              "      <td>-7.990521</td>\n",
              "      <td>-8.331538</td>\n",
              "      <td>-8.539963</td>\n",
              "      <td>-8.287341</td>\n",
              "      <td>0.226476</td>\n",
              "      <td>-0.151799</td>\n",
              "    </tr>\n",
              "    <tr>\n",
              "      <th>0</th>\n",
              "      <td>211.047831</td>\n",
              "      <td>2.886530</td>\n",
              "      <td>8.068245</td>\n",
              "      <td>1.519539</td>\n",
              "      <td>0.096</td>\n",
              "      <td>56</td>\n",
              "      <td>{'learning_rate': 0.096, 'min_data_in_leaf': 56}</td>\n",
              "      <td>-7.391535</td>\n",
              "      <td>-6.458575</td>\n",
              "      <td>-5.985974</td>\n",
              "      <td>-6.612028</td>\n",
              "      <td>0.583987</td>\n",
              "      <td>1</td>\n",
              "      <td>-5.399660</td>\n",
              "      <td>-5.682874</td>\n",
              "      <td>-5.891194</td>\n",
              "      <td>-5.657909</td>\n",
              "      <td>0.201443</td>\n",
              "      <td>-0.954119</td>\n",
              "    </tr>\n",
              "  </tbody>\n",
              "</table>\n",
              "</div>"
            ],
            "text/plain": [
              "   mean_fit_time  std_fit_time  ...  std_train_score      diff\n",
              "0     207.468141      1.687388  ...         0.211594 -0.926238\n",
              "0     202.502698      1.565536  ...         0.262408 -0.365980\n",
              "0     204.804547      5.129653  ...         0.198688 -0.964418\n",
              "0     198.191542      2.016174  ...         0.261871 -0.257831\n",
              "0     205.032764      4.429652  ...         0.201946 -0.928022\n",
              "0     196.218116      1.444107  ...         0.226476 -0.151799\n",
              "0     211.047831      2.886530  ...         0.201443 -0.954119\n",
              "\n",
              "[7 rows x 19 columns]"
            ]
          },
          "metadata": {
            "tags": []
          },
          "execution_count": 26
        }
      ]
    },
    {
      "cell_type": "code",
      "metadata": {
        "colab": {
          "base_uri": "https://localhost:8080/"
        },
        "id": "_xUTr636r9H_",
        "outputId": "0c7df3e2-dd97-4354-a43e-b3e68681b920"
      },
      "source": [
        "model_4 = CatBoostRegressor(learning_rate =  0.019, min_data_in_leaf =  108, logging_level=\"Silent\", iterations=130)\r\n",
        "model_4.fit(k4_train, k4_test)"
      ],
      "execution_count": null,
      "outputs": [
        {
          "output_type": "execute_result",
          "data": {
            "text/plain": [
              "<catboost.core.CatBoostRegressor at 0x7f33acf993c8>"
            ]
          },
          "metadata": {
            "tags": []
          },
          "execution_count": 27
        }
      ]
    },
    {
      "cell_type": "code",
      "metadata": {
        "id": "oMPjEuHLQTCM"
      },
      "source": [
        ""
      ],
      "execution_count": null,
      "outputs": []
    },
    {
      "cell_type": "code",
      "metadata": {
        "id": "OeEL4z2Mbhp_"
      },
      "source": [
        ""
      ],
      "execution_count": null,
      "outputs": []
    },
    {
      "cell_type": "code",
      "metadata": {
        "id": "CG-aXOAUbhgT"
      },
      "source": [
        ""
      ],
      "execution_count": null,
      "outputs": []
    },
    {
      "cell_type": "code",
      "metadata": {
        "id": "Sv1RWqnfbiY8"
      },
      "source": [
        "a = pd.DataFrame()\r\n",
        "for i in range(7):    \r\n",
        "    params = {'learning_rate' : np.round(np.random.rand(1)/10,3).tolist(),\r\n",
        "              'min_data_in_leaf' : np.random.randint(30,113, size=1).tolist(),\r\n",
        "              'num_leaves' : np.random.randint(30,120, size=1).tolist()}\r\n",
        "\r\n",
        "    lgbm = LGBMRegressor()\r\n",
        "    clf = GridSearchCV(estimator=lgbm, param_grid=params, scoring='neg_mean_squared_error', cv=3, n_jobs=-1, return_train_score=True)\r\n",
        "    clf.fit(k5_train, k5_test)\r\n",
        "    b = pd.DataFrame(clf.cv_results_)\r\n",
        "    a = pd.concat([a,b])"
      ],
      "execution_count": null,
      "outputs": []
    },
    {
      "cell_type": "code",
      "metadata": {
        "colab": {
          "base_uri": "https://localhost:8080/",
          "height": 627
        },
        "id": "Re5Wf3XMbiY8",
        "outputId": "7a2c1dcf-bdd4-4469-824a-b13d95efc6e8"
      },
      "source": [
        "a['diff'] = a['mean_test_score'] - a['mean_train_score']\r\n",
        "a"
      ],
      "execution_count": null,
      "outputs": [
        {
          "output_type": "execute_result",
          "data": {
            "text/html": [
              "<div>\n",
              "<style scoped>\n",
              "    .dataframe tbody tr th:only-of-type {\n",
              "        vertical-align: middle;\n",
              "    }\n",
              "\n",
              "    .dataframe tbody tr th {\n",
              "        vertical-align: top;\n",
              "    }\n",
              "\n",
              "    .dataframe thead th {\n",
              "        text-align: right;\n",
              "    }\n",
              "</style>\n",
              "<table border=\"1\" class=\"dataframe\">\n",
              "  <thead>\n",
              "    <tr style=\"text-align: right;\">\n",
              "      <th></th>\n",
              "      <th>mean_fit_time</th>\n",
              "      <th>std_fit_time</th>\n",
              "      <th>mean_score_time</th>\n",
              "      <th>std_score_time</th>\n",
              "      <th>param_learning_rate</th>\n",
              "      <th>param_min_data_in_leaf</th>\n",
              "      <th>param_num_leaves</th>\n",
              "      <th>params</th>\n",
              "      <th>split0_test_score</th>\n",
              "      <th>split1_test_score</th>\n",
              "      <th>split2_test_score</th>\n",
              "      <th>mean_test_score</th>\n",
              "      <th>std_test_score</th>\n",
              "      <th>rank_test_score</th>\n",
              "      <th>split0_train_score</th>\n",
              "      <th>split1_train_score</th>\n",
              "      <th>split2_train_score</th>\n",
              "      <th>mean_train_score</th>\n",
              "      <th>std_train_score</th>\n",
              "      <th>diff</th>\n",
              "    </tr>\n",
              "  </thead>\n",
              "  <tbody>\n",
              "    <tr>\n",
              "      <th>0</th>\n",
              "      <td>189.623296</td>\n",
              "      <td>3.354854</td>\n",
              "      <td>24.454322</td>\n",
              "      <td>1.091955</td>\n",
              "      <td>0.026</td>\n",
              "      <td>75</td>\n",
              "      <td>118</td>\n",
              "      <td>{'learning_rate': 0.026, 'min_data_in_leaf': 7...</td>\n",
              "      <td>-7.825666</td>\n",
              "      <td>-6.973231</td>\n",
              "      <td>-6.256847</td>\n",
              "      <td>-7.018581</td>\n",
              "      <td>0.641270</td>\n",
              "      <td>1</td>\n",
              "      <td>-5.620329</td>\n",
              "      <td>-5.982386</td>\n",
              "      <td>-6.210754</td>\n",
              "      <td>-5.937823</td>\n",
              "      <td>0.243091</td>\n",
              "      <td>-1.080758</td>\n",
              "    </tr>\n",
              "    <tr>\n",
              "      <th>0</th>\n",
              "      <td>203.156685</td>\n",
              "      <td>6.510428</td>\n",
              "      <td>24.678571</td>\n",
              "      <td>0.952774</td>\n",
              "      <td>0.017</td>\n",
              "      <td>104</td>\n",
              "      <td>105</td>\n",
              "      <td>{'learning_rate': 0.017, 'min_data_in_leaf': 1...</td>\n",
              "      <td>-7.984280</td>\n",
              "      <td>-7.332743</td>\n",
              "      <td>-6.422263</td>\n",
              "      <td>-7.246429</td>\n",
              "      <td>0.640605</td>\n",
              "      <td>1</td>\n",
              "      <td>-6.200640</td>\n",
              "      <td>-6.603033</td>\n",
              "      <td>-6.863651</td>\n",
              "      <td>-6.555774</td>\n",
              "      <td>0.272728</td>\n",
              "      <td>-0.690654</td>\n",
              "    </tr>\n",
              "    <tr>\n",
              "      <th>0</th>\n",
              "      <td>195.459994</td>\n",
              "      <td>4.318202</td>\n",
              "      <td>25.438684</td>\n",
              "      <td>0.617221</td>\n",
              "      <td>0.024</td>\n",
              "      <td>65</td>\n",
              "      <td>117</td>\n",
              "      <td>{'learning_rate': 0.024, 'min_data_in_leaf': 6...</td>\n",
              "      <td>-7.848210</td>\n",
              "      <td>-7.022230</td>\n",
              "      <td>-6.349479</td>\n",
              "      <td>-7.073306</td>\n",
              "      <td>0.612920</td>\n",
              "      <td>1</td>\n",
              "      <td>-5.665672</td>\n",
              "      <td>-6.029238</td>\n",
              "      <td>-6.252568</td>\n",
              "      <td>-5.982492</td>\n",
              "      <td>0.241868</td>\n",
              "      <td>-1.090814</td>\n",
              "    </tr>\n",
              "    <tr>\n",
              "      <th>0</th>\n",
              "      <td>159.530903</td>\n",
              "      <td>4.100867</td>\n",
              "      <td>18.977489</td>\n",
              "      <td>0.707780</td>\n",
              "      <td>0.024</td>\n",
              "      <td>32</td>\n",
              "      <td>60</td>\n",
              "      <td>{'learning_rate': 0.024, 'min_data_in_leaf': 3...</td>\n",
              "      <td>-7.892070</td>\n",
              "      <td>-7.071898</td>\n",
              "      <td>-6.352282</td>\n",
              "      <td>-7.105417</td>\n",
              "      <td>0.629062</td>\n",
              "      <td>1</td>\n",
              "      <td>-5.750866</td>\n",
              "      <td>-6.085426</td>\n",
              "      <td>-6.324580</td>\n",
              "      <td>-6.053624</td>\n",
              "      <td>0.235295</td>\n",
              "      <td>-1.051793</td>\n",
              "    </tr>\n",
              "    <tr>\n",
              "      <th>0</th>\n",
              "      <td>132.587227</td>\n",
              "      <td>4.993513</td>\n",
              "      <td>15.063794</td>\n",
              "      <td>0.087317</td>\n",
              "      <td>0.092</td>\n",
              "      <td>77</td>\n",
              "      <td>34</td>\n",
              "      <td>{'learning_rate': 0.092, 'min_data_in_leaf': 7...</td>\n",
              "      <td>-7.925334</td>\n",
              "      <td>-6.854090</td>\n",
              "      <td>-6.385951</td>\n",
              "      <td>-7.055125</td>\n",
              "      <td>0.644327</td>\n",
              "      <td>1</td>\n",
              "      <td>-5.334187</td>\n",
              "      <td>-5.626790</td>\n",
              "      <td>-5.873110</td>\n",
              "      <td>-5.611362</td>\n",
              "      <td>0.220284</td>\n",
              "      <td>-1.443763</td>\n",
              "    </tr>\n",
              "    <tr>\n",
              "      <th>0</th>\n",
              "      <td>157.793305</td>\n",
              "      <td>5.395960</td>\n",
              "      <td>18.996548</td>\n",
              "      <td>1.578407</td>\n",
              "      <td>0.071</td>\n",
              "      <td>70</td>\n",
              "      <td>75</td>\n",
              "      <td>{'learning_rate': 0.071, 'min_data_in_leaf': 7...</td>\n",
              "      <td>-8.017177</td>\n",
              "      <td>-6.843177</td>\n",
              "      <td>-6.386655</td>\n",
              "      <td>-7.082336</td>\n",
              "      <td>0.686803</td>\n",
              "      <td>1</td>\n",
              "      <td>-5.109191</td>\n",
              "      <td>-5.378968</td>\n",
              "      <td>-5.585199</td>\n",
              "      <td>-5.357786</td>\n",
              "      <td>0.194906</td>\n",
              "      <td>-1.724550</td>\n",
              "    </tr>\n",
              "    <tr>\n",
              "      <th>0</th>\n",
              "      <td>142.667153</td>\n",
              "      <td>4.412197</td>\n",
              "      <td>17.161679</td>\n",
              "      <td>0.881772</td>\n",
              "      <td>0.091</td>\n",
              "      <td>63</td>\n",
              "      <td>55</td>\n",
              "      <td>{'learning_rate': 0.091, 'min_data_in_leaf': 6...</td>\n",
              "      <td>-7.993168</td>\n",
              "      <td>-6.837662</td>\n",
              "      <td>-6.347488</td>\n",
              "      <td>-7.059439</td>\n",
              "      <td>0.689906</td>\n",
              "      <td>1</td>\n",
              "      <td>-5.110973</td>\n",
              "      <td>-5.350050</td>\n",
              "      <td>-5.564041</td>\n",
              "      <td>-5.341688</td>\n",
              "      <td>0.185059</td>\n",
              "      <td>-1.717751</td>\n",
              "    </tr>\n",
              "  </tbody>\n",
              "</table>\n",
              "</div>"
            ],
            "text/plain": [
              "   mean_fit_time  std_fit_time  ...  std_train_score      diff\n",
              "0     189.623296      3.354854  ...         0.243091 -1.080758\n",
              "0     203.156685      6.510428  ...         0.272728 -0.690654\n",
              "0     195.459994      4.318202  ...         0.241868 -1.090814\n",
              "0     159.530903      4.100867  ...         0.235295 -1.051793\n",
              "0     132.587227      4.993513  ...         0.220284 -1.443763\n",
              "0     157.793305      5.395960  ...         0.194906 -1.724550\n",
              "0     142.667153      4.412197  ...         0.185059 -1.717751\n",
              "\n",
              "[7 rows x 20 columns]"
            ]
          },
          "metadata": {
            "tags": []
          },
          "execution_count": 31
        }
      ]
    },
    {
      "cell_type": "code",
      "metadata": {
        "colab": {
          "base_uri": "https://localhost:8080/"
        },
        "id": "DaO2fUeDbiY9",
        "outputId": "5fbaf927-a627-4002-aa20-49de04706105"
      },
      "source": [
        "model_5 = LGBMRegressor(learning_rate =  0.017, min_data_in_leaf =  104, num_leaves = 105)\r\n",
        "model_5.fit(k5_train, k5_test)"
      ],
      "execution_count": null,
      "outputs": [
        {
          "output_type": "execute_result",
          "data": {
            "text/plain": [
              "LGBMRegressor(boosting_type='gbdt', class_weight=None, colsample_bytree=1.0,\n",
              "              importance_type='split', learning_rate=0.017, max_depth=-1,\n",
              "              min_child_samples=20, min_child_weight=0.001,\n",
              "              min_data_in_leaf=104, min_split_gain=0.0, n_estimators=100,\n",
              "              n_jobs=-1, num_leaves=105, objective=None, random_state=None,\n",
              "              reg_alpha=0.0, reg_lambda=0.0, silent=True, subsample=1.0,\n",
              "              subsample_for_bin=200000, subsample_freq=0)"
            ]
          },
          "metadata": {
            "tags": []
          },
          "execution_count": 32
        }
      ]
    },
    {
      "cell_type": "code",
      "metadata": {
        "id": "IvMNyw43QuiG"
      },
      "source": [
        "filename = 'globalsave.pkl'\r\n",
        "dill.dump_session(filename)"
      ],
      "execution_count": null,
      "outputs": []
    },
    {
      "cell_type": "code",
      "metadata": {
        "id": "8cJrQeT1RFks"
      },
      "source": [
        "!cp globalsave.pkl /content/drive/MyDrive"
      ],
      "execution_count": null,
      "outputs": []
    },
    {
      "cell_type": "code",
      "metadata": {
        "id": "uo4nsM4bRYQ2"
      },
      "source": [
        "dill.load_session('/content/drive/MyDrive/globalsave.pkl')"
      ],
      "execution_count": 8,
      "outputs": []
    },
    {
      "cell_type": "code",
      "metadata": {
        "id": "GYkcFeVvoUgU"
      },
      "source": [
        "for i in range(1,6):\r\n",
        "    pickle_out = open(\"model_\"+str(i)+\".pickle\",\"wb\")\r\n",
        "    pickle.dump(globals()['model_'+str(i)], pickle_out)\r\n",
        "    pickle_out.close()"
      ],
      "execution_count": null,
      "outputs": []
    },
    {
      "cell_type": "code",
      "metadata": {
        "id": "r6BhN4YppKt9"
      },
      "source": [
        "!cp model_1.pickle /content/drive/MyDrive\r\n",
        "!cp model_2.pickle /content/drive/MyDrive\r\n",
        "!cp model_3.pickle /content/drive/MyDrive\r\n",
        "!cp model_4.pickle /content/drive/MyDrive\r\n",
        "!cp model_5.pickle /content/drive/MyDrive"
      ],
      "execution_count": null,
      "outputs": []
    },
    {
      "cell_type": "code",
      "metadata": {
        "id": "lCHPi3g4rOLe"
      },
      "source": [
        "model_1 = pickle.load(open('model_1.pickle','rb'))\r\n",
        "model_2 = pickle.load(open('model_2.pickle','rb'))\r\n",
        "model_3 = pickle.load(open('model_3.pickle','rb'))\r\n",
        "model_4 = pickle.load(open('model_4.pickle','rb'))\r\n",
        "model_5 = pickle.load(open('model_5.pickle','rb'))"
      ],
      "execution_count": null,
      "outputs": []
    },
    {
      "cell_type": "code",
      "metadata": {
        "id": "qaevt58ObiY9"
      },
      "source": [
        "k1_pred = pd.Series(model_1.predict(X_train_D2))\r\n",
        "k2_pred = pd.Series(model_2.predict(X_train_D2))\r\n",
        "k3_pred = pd.Series(model_3.predict(X_train_D2))\r\n",
        "k4_pred = pd.Series(model_4.predict(X_train_D2))\r\n",
        "k5_pred = pd.Series(model_5.predict(X_train_D2))"
      ],
      "execution_count": 9,
      "outputs": []
    },
    {
      "cell_type": "code",
      "metadata": {
        "colab": {
          "base_uri": "https://localhost:8080/",
          "height": 106
        },
        "id": "If97SVSXplgO",
        "outputId": "2415a81d-0699-425e-ad7f-fb63e821795f"
      },
      "source": [
        "X_train_D2_pred = pd.concat([pd.DataFrame(k1_pred, columns=['k1_pred']), pd.DataFrame(k2_pred,columns=['k2_pred']),\\\r\n",
        "           pd.DataFrame(k3_pred,columns=['k3_pred']),pd.DataFrame(k4_pred,columns=['k4_pred']),\\\r\n",
        "           pd.DataFrame(k5_pred,columns=['k5_pred'])],axis=1)\r\n",
        "\r\n",
        "X_train_D2_pred.head(2)"
      ],
      "execution_count": 10,
      "outputs": [
        {
          "output_type": "execute_result",
          "data": {
            "text/html": [
              "<div>\n",
              "<style scoped>\n",
              "    .dataframe tbody tr th:only-of-type {\n",
              "        vertical-align: middle;\n",
              "    }\n",
              "\n",
              "    .dataframe tbody tr th {\n",
              "        vertical-align: top;\n",
              "    }\n",
              "\n",
              "    .dataframe thead th {\n",
              "        text-align: right;\n",
              "    }\n",
              "</style>\n",
              "<table border=\"1\" class=\"dataframe\">\n",
              "  <thead>\n",
              "    <tr style=\"text-align: right;\">\n",
              "      <th></th>\n",
              "      <th>k1_pred</th>\n",
              "      <th>k2_pred</th>\n",
              "      <th>k3_pred</th>\n",
              "      <th>k4_pred</th>\n",
              "      <th>k5_pred</th>\n",
              "    </tr>\n",
              "  </thead>\n",
              "  <tbody>\n",
              "    <tr>\n",
              "      <th>0</th>\n",
              "      <td>0.847898</td>\n",
              "      <td>0.833735</td>\n",
              "      <td>0.786133</td>\n",
              "      <td>0.605631</td>\n",
              "      <td>0.758412</td>\n",
              "    </tr>\n",
              "    <tr>\n",
              "      <th>1</th>\n",
              "      <td>0.285196</td>\n",
              "      <td>0.278305</td>\n",
              "      <td>0.214355</td>\n",
              "      <td>0.446354</td>\n",
              "      <td>0.407913</td>\n",
              "    </tr>\n",
              "  </tbody>\n",
              "</table>\n",
              "</div>"
            ],
            "text/plain": [
              "    k1_pred   k2_pred   k3_pred   k4_pred   k5_pred\n",
              "0  0.847898  0.833735  0.786133  0.605631  0.758412\n",
              "1  0.285196  0.278305  0.214355  0.446354  0.407913"
            ]
          },
          "metadata": {
            "tags": []
          },
          "execution_count": 10
        }
      ]
    },
    {
      "cell_type": "code",
      "metadata": {
        "id": "afB1vZLWiEmM"
      },
      "source": [
        "test_pred_1 = pd.Series(model_1.predict(X_test))\r\n",
        "test_pred_2 = pd.Series(model_2.predict(X_test))\r\n",
        "test_pred_3 = pd.Series(model_3.predict(X_test))\r\n",
        "test_pred_4 = pd.Series(model_4.predict(X_test))\r\n",
        "test_pred_5 = pd.Series(model_5.predict(X_test))"
      ],
      "execution_count": 11,
      "outputs": []
    },
    {
      "cell_type": "code",
      "metadata": {
        "colab": {
          "base_uri": "https://localhost:8080/",
          "height": 106
        },
        "id": "4CpUT5oVidLR",
        "outputId": "6ea3504f-7d63-462f-eba9-5481b1c5137a"
      },
      "source": [
        "predictions = pd.concat([pd.DataFrame(test_pred_1, columns=['test_pred_1']), pd.DataFrame(test_pred_2,columns=['test_pred_2']),\\\r\n",
        "           pd.DataFrame(test_pred_3,columns=['test_pred_3']),pd.DataFrame(test_pred_4,columns=['test_pred_4']),\\\r\n",
        "           pd.DataFrame(test_pred_5,columns=['test_pred_5'])],axis=1)\r\n",
        "\r\n",
        "predictions.head(2)"
      ],
      "execution_count": 12,
      "outputs": [
        {
          "output_type": "execute_result",
          "data": {
            "text/html": [
              "<div>\n",
              "<style scoped>\n",
              "    .dataframe tbody tr th:only-of-type {\n",
              "        vertical-align: middle;\n",
              "    }\n",
              "\n",
              "    .dataframe tbody tr th {\n",
              "        vertical-align: top;\n",
              "    }\n",
              "\n",
              "    .dataframe thead th {\n",
              "        text-align: right;\n",
              "    }\n",
              "</style>\n",
              "<table border=\"1\" class=\"dataframe\">\n",
              "  <thead>\n",
              "    <tr style=\"text-align: right;\">\n",
              "      <th></th>\n",
              "      <th>test_pred_1</th>\n",
              "      <th>test_pred_2</th>\n",
              "      <th>test_pred_3</th>\n",
              "      <th>test_pred_4</th>\n",
              "      <th>test_pred_5</th>\n",
              "    </tr>\n",
              "  </thead>\n",
              "  <tbody>\n",
              "    <tr>\n",
              "      <th>0</th>\n",
              "      <td>0.536272</td>\n",
              "      <td>0.537838</td>\n",
              "      <td>0.619873</td>\n",
              "      <td>0.478783</td>\n",
              "      <td>0.558100</td>\n",
              "    </tr>\n",
              "    <tr>\n",
              "      <th>1</th>\n",
              "      <td>1.215574</td>\n",
              "      <td>1.209943</td>\n",
              "      <td>1.297119</td>\n",
              "      <td>0.934893</td>\n",
              "      <td>1.021989</td>\n",
              "    </tr>\n",
              "  </tbody>\n",
              "</table>\n",
              "</div>"
            ],
            "text/plain": [
              "   test_pred_1  test_pred_2  test_pred_3  test_pred_4  test_pred_5\n",
              "0     0.536272     0.537838     0.619873     0.478783     0.558100\n",
              "1     1.215574     1.209943     1.297119     0.934893     1.021989"
            ]
          },
          "metadata": {
            "tags": []
          },
          "execution_count": 12
        }
      ]
    },
    {
      "cell_type": "code",
      "metadata": {
        "colab": {
          "base_uri": "https://localhost:8080/"
        },
        "id": "wHLl62-ni7yG",
        "outputId": "518495ec-09c4-41fa-8edf-255ab89ebcd6"
      },
      "source": [
        "for i in range(15):\r\n",
        "    \r\n",
        "    lr = np.round(np.random.rand()/10,3)\r\n",
        "    num_leaves = np.random.randint(30,150)\r\n",
        "    min_data_in_leaf = np.random.randint(50,150)\r\n",
        "    \r\n",
        "    lgb = LGBMRegressor(learning_rate=lr ,num_leaves=num_leaves ,min_data_in_leaf=min_data_in_leaf)\r\n",
        "    lgb.fit(X_train_D2_pred, y_train_D2)\r\n",
        "    \r\n",
        "    train_pred = lgb.predict(X_train_D2_pred)\r\n",
        "\r\n",
        "    train_m_s_e = mse(y_train_D2,train_pred)\r\n",
        "    # After training the model, we are trying to predict the model on X_val to check it's accuracy\r\n",
        "    y_pred = lgb.predict(predictions)\r\n",
        "    \r\n",
        "    # Now that it has predicted the values for X_val, we are calculating it's rmse\r\n",
        "    m_s_e = mse(y_test,y_pred)\r\n",
        "\r\n",
        "    print(f\"For learning rate {lr}, num_leaves {num_leaves} and min_data_in_leaf {min_data_in_leaf}, the train MSE is {train_m_s_e} and valid MSE is {m_s_e} diff is {m_s_e - train_m_s_e}\")\r\n",
        "    print('*'*80)"
      ],
      "execution_count": 16,
      "outputs": [
        {
          "output_type": "stream",
          "text": [
            "For learning rate 0.066, num_leaves 140 and min_data_in_leaf 52, the train MSE is 6.346031512687311 and valid MSE is 6.538802100752078 diff is 0.192770588064767\n",
            "********************************************************************************\n",
            "For learning rate 0.003, num_leaves 72 and min_data_in_leaf 91, the train MSE is 9.726929508281916 and valid MSE is 8.705906834632353 diff is -1.0210226736495631\n",
            "********************************************************************************\n",
            "For learning rate 0.047, num_leaves 116 and min_data_in_leaf 132, the train MSE is 6.361618953779319 and valid MSE is 6.523922152936729 diff is 0.1623031991574102\n",
            "********************************************************************************\n",
            "For learning rate 0.081, num_leaves 65 and min_data_in_leaf 87, the train MSE is 6.358918970665034 and valid MSE is 6.536539029399947 diff is 0.17762005873491304\n",
            "********************************************************************************\n",
            "For learning rate 0.077, num_leaves 73 and min_data_in_leaf 116, the train MSE is 6.360492290924486 and valid MSE is 6.537006217053122 diff is 0.17651392612863592\n",
            "********************************************************************************\n",
            "For learning rate 0.001, num_leaves 116 and min_data_in_leaf 141, the train MSE is 11.373398761126126 and valid MSE is 10.144179030904132 diff is -1.2292197302219936\n",
            "********************************************************************************\n",
            "For learning rate 0.007, num_leaves 122 and min_data_in_leaf 70, the train MSE is 7.87359157330384 and valid MSE is 7.203599495967587 diff is -0.6699920773362535\n",
            "********************************************************************************\n",
            "For learning rate 0.004, num_leaves 39 and min_data_in_leaf 148, the train MSE is 9.125393838841982 and valid MSE is 8.196213516356108 diff is -0.9291803224858732\n",
            "********************************************************************************\n",
            "For learning rate 0.03, num_leaves 134 and min_data_in_leaf 77, the train MSE is 6.37602384161801 and valid MSE is 6.465052684289763 diff is 0.0890288426717527\n",
            "********************************************************************************\n",
            "For learning rate 0.035, num_leaves 30 and min_data_in_leaf 134, the train MSE is 6.383687745181263 and valid MSE is 6.4886871659416805 diff is 0.1049994207604179\n",
            "********************************************************************************\n",
            "For learning rate 0.076, num_leaves 118 and min_data_in_leaf 134, the train MSE is 6.355896526791152 and valid MSE is 6.537634860066766 diff is 0.1817383332756144\n",
            "********************************************************************************\n",
            "For learning rate 0.09, num_leaves 113 and min_data_in_leaf 81, the train MSE is 6.349755229317907 and valid MSE is 6.5397261605261585 diff is 0.1899709312082516\n",
            "********************************************************************************\n",
            "For learning rate 0.021, num_leaves 37 and min_data_in_leaf 97, the train MSE is 6.46887447716763 and valid MSE is 6.408224458391435 diff is -0.06065001877619558\n",
            "********************************************************************************\n",
            "For learning rate 0.029, num_leaves 47 and min_data_in_leaf 138, the train MSE is 6.39262527631851 and valid MSE is 6.456121549706511 diff is 0.0634962733880009\n",
            "********************************************************************************\n",
            "For learning rate 0.091, num_leaves 65 and min_data_in_leaf 77, the train MSE is 6.356860409115378 and valid MSE is 6.537062651915952 diff is 0.18020224280057384\n",
            "********************************************************************************\n"
          ],
          "name": "stdout"
        }
      ]
    },
    {
      "cell_type": "code",
      "metadata": {
        "colab": {
          "base_uri": "https://localhost:8080/"
        },
        "id": "pDi1pfxNesbG",
        "outputId": "581704bf-4370-4df3-c39d-8e593a38b3cf"
      },
      "source": [
        "meta_model = LGBMRegressor(learning_rate=0.074 ,num_leaves=135 ,min_data_in_leaf=85)\r\n",
        "meta_model.fit(X_train_D2_pred, y_train_D2)"
      ],
      "execution_count": 62,
      "outputs": [
        {
          "output_type": "execute_result",
          "data": {
            "text/plain": [
              "LGBMRegressor(boosting_type='gbdt', class_weight=None, colsample_bytree=1.0,\n",
              "              importance_type='split', learning_rate=0.074, max_depth=-1,\n",
              "              min_child_samples=20, min_child_weight=0.001, min_data_in_leaf=85,\n",
              "              min_split_gain=0.0, n_estimators=100, n_jobs=-1, num_leaves=135,\n",
              "              objective=None, random_state=None, reg_alpha=0.0, reg_lambda=0.0,\n",
              "              silent=True, subsample=1.0, subsample_for_bin=200000,\n",
              "              subsample_freq=0)"
            ]
          },
          "metadata": {
            "tags": []
          },
          "execution_count": 62
        }
      ]
    },
    {
      "cell_type": "code",
      "metadata": {
        "id": "VIKufAUJ0Pss"
      },
      "source": [
        ""
      ],
      "execution_count": null,
      "outputs": []
    },
    {
      "cell_type": "code",
      "metadata": {
        "id": "qusujMg40PpI"
      },
      "source": [
        ""
      ],
      "execution_count": null,
      "outputs": []
    },
    {
      "cell_type": "code",
      "metadata": {
        "colab": {
          "base_uri": "https://localhost:8080/",
          "height": 402
        },
        "id": "AmgfPalcymFc",
        "outputId": "f0b4c35d-4e0f-4ec6-d173-016a5d5e9353"
      },
      "source": [
        "predictions_cbr = predictions\r\n",
        "predictions_cbr.columns = ['k1_pred','k2_pred','k3_pred','k4_pred','k5_pred']\r\n",
        "predictions_cbr"
      ],
      "execution_count": 71,
      "outputs": [
        {
          "output_type": "execute_result",
          "data": {
            "text/html": [
              "<div>\n",
              "<style scoped>\n",
              "    .dataframe tbody tr th:only-of-type {\n",
              "        vertical-align: middle;\n",
              "    }\n",
              "\n",
              "    .dataframe tbody tr th {\n",
              "        vertical-align: top;\n",
              "    }\n",
              "\n",
              "    .dataframe thead th {\n",
              "        text-align: right;\n",
              "    }\n",
              "</style>\n",
              "<table border=\"1\" class=\"dataframe\">\n",
              "  <thead>\n",
              "    <tr style=\"text-align: right;\">\n",
              "      <th></th>\n",
              "      <th>k1_pred</th>\n",
              "      <th>k2_pred</th>\n",
              "      <th>k3_pred</th>\n",
              "      <th>k4_pred</th>\n",
              "      <th>k5_pred</th>\n",
              "    </tr>\n",
              "  </thead>\n",
              "  <tbody>\n",
              "    <tr>\n",
              "      <th>0</th>\n",
              "      <td>0.536272</td>\n",
              "      <td>0.537838</td>\n",
              "      <td>0.619873</td>\n",
              "      <td>0.478783</td>\n",
              "      <td>0.558100</td>\n",
              "    </tr>\n",
              "    <tr>\n",
              "      <th>1</th>\n",
              "      <td>1.215574</td>\n",
              "      <td>1.209943</td>\n",
              "      <td>1.297119</td>\n",
              "      <td>0.934893</td>\n",
              "      <td>1.021989</td>\n",
              "    </tr>\n",
              "    <tr>\n",
              "      <th>2</th>\n",
              "      <td>0.980738</td>\n",
              "      <td>1.006427</td>\n",
              "      <td>1.052734</td>\n",
              "      <td>0.732418</td>\n",
              "      <td>0.905047</td>\n",
              "    </tr>\n",
              "    <tr>\n",
              "      <th>3</th>\n",
              "      <td>2.242874</td>\n",
              "      <td>2.181285</td>\n",
              "      <td>2.316162</td>\n",
              "      <td>1.650242</td>\n",
              "      <td>1.841847</td>\n",
              "    </tr>\n",
              "    <tr>\n",
              "      <th>4</th>\n",
              "      <td>1.563980</td>\n",
              "      <td>1.551696</td>\n",
              "      <td>1.644287</td>\n",
              "      <td>1.175259</td>\n",
              "      <td>1.257319</td>\n",
              "    </tr>\n",
              "    <tr>\n",
              "      <th>...</th>\n",
              "      <td>...</td>\n",
              "      <td>...</td>\n",
              "      <td>...</td>\n",
              "      <td>...</td>\n",
              "      <td>...</td>\n",
              "    </tr>\n",
              "    <tr>\n",
              "      <th>5183295</th>\n",
              "      <td>0.949158</td>\n",
              "      <td>0.975781</td>\n",
              "      <td>1.009766</td>\n",
              "      <td>0.761162</td>\n",
              "      <td>0.862908</td>\n",
              "    </tr>\n",
              "    <tr>\n",
              "      <th>5183296</th>\n",
              "      <td>0.346672</td>\n",
              "      <td>0.321799</td>\n",
              "      <td>0.387695</td>\n",
              "      <td>0.440660</td>\n",
              "      <td>0.439751</td>\n",
              "    </tr>\n",
              "    <tr>\n",
              "      <th>5183297</th>\n",
              "      <td>1.184471</td>\n",
              "      <td>1.172040</td>\n",
              "      <td>1.246582</td>\n",
              "      <td>0.785601</td>\n",
              "      <td>0.890500</td>\n",
              "    </tr>\n",
              "    <tr>\n",
              "      <th>5183298</th>\n",
              "      <td>1.110920</td>\n",
              "      <td>1.073041</td>\n",
              "      <td>1.143066</td>\n",
              "      <td>0.910342</td>\n",
              "      <td>1.025053</td>\n",
              "    </tr>\n",
              "    <tr>\n",
              "      <th>5183299</th>\n",
              "      <td>0.877157</td>\n",
              "      <td>0.875520</td>\n",
              "      <td>0.927246</td>\n",
              "      <td>0.932434</td>\n",
              "      <td>0.976456</td>\n",
              "    </tr>\n",
              "  </tbody>\n",
              "</table>\n",
              "<p>5183300 rows × 5 columns</p>\n",
              "</div>"
            ],
            "text/plain": [
              "          k1_pred   k2_pred   k3_pred   k4_pred   k5_pred\n",
              "0        0.536272  0.537838  0.619873  0.478783  0.558100\n",
              "1        1.215574  1.209943  1.297119  0.934893  1.021989\n",
              "2        0.980738  1.006427  1.052734  0.732418  0.905047\n",
              "3        2.242874  2.181285  2.316162  1.650242  1.841847\n",
              "4        1.563980  1.551696  1.644287  1.175259  1.257319\n",
              "...           ...       ...       ...       ...       ...\n",
              "5183295  0.949158  0.975781  1.009766  0.761162  0.862908\n",
              "5183296  0.346672  0.321799  0.387695  0.440660  0.439751\n",
              "5183297  1.184471  1.172040  1.246582  0.785601  0.890500\n",
              "5183298  1.110920  1.073041  1.143066  0.910342  1.025053\n",
              "5183299  0.877157  0.875520  0.927246  0.932434  0.976456\n",
              "\n",
              "[5183300 rows x 5 columns]"
            ]
          },
          "metadata": {
            "tags": []
          },
          "execution_count": 71
        }
      ]
    },
    {
      "cell_type": "code",
      "metadata": {
        "colab": {
          "base_uri": "https://localhost:8080/"
        },
        "id": "FlZpffDSymCQ",
        "outputId": "73dddb2f-de0e-42bb-bec8-67003e87e79b"
      },
      "source": [
        "for i in range(10):\r\n",
        "    \r\n",
        "    lr = np.round(np.random.rand()/10,3)\r\n",
        "    # num_leaves = np.random.randint(30,150)\r\n",
        "    min_data_in_leaf = np.random.randint(50,150)\r\n",
        "\r\n",
        "    cbr = CatBoostRegressor(learning_rate=lr, min_data_in_leaf=min_data_in_leaf, logging_level=\"Silent\", iterations=130)\r\n",
        "    cbr.fit(X_train_D2_pred, y_train_D2)\r\n",
        "\r\n",
        "    train_pred = cbr.predict(X_train_D2_pred)\r\n",
        "\r\n",
        "    train_m_s_e = mse(y_train_D2,train_pred)\r\n",
        "    # After training the model, we are trying to predict the model on X_val to check it's accuracy\r\n",
        "    y_pred = cbr.predict(predictions_cbr)\r\n",
        "\r\n",
        "    # Now that it has predicted the values for X_val, we are calculating it's rmse\r\n",
        "    m_s_e = mse(y_test,y_pred)\r\n",
        "\r\n",
        "    print(f\"For learning rate {lr}, min_data_in_leaf {min_data_in_leaf}, the train MSE is {train_m_s_e} and valid MSE is {m_s_e} diff is {m_s_e - train_m_s_e}\")\r\n",
        "    print('*'*80)"
      ],
      "execution_count": 74,
      "outputs": [
        {
          "output_type": "stream",
          "text": [
            "For learning rate 0.038, min_data_in_leaf 146, the train MSE is 6.203251585588742 and valid MSE is 6.4074725023075745 diff is 0.2042209167188327\n",
            "********************************************************************************\n",
            "For learning rate 0.026, min_data_in_leaf 62, the train MSE is 6.217091860325036 and valid MSE is 6.363763826231865 diff is 0.14667196590682874\n",
            "********************************************************************************\n",
            "For learning rate 0.001, min_data_in_leaf 83, the train MSE is 11.082284008502336 and valid MSE is 9.8829209468545 diff is -1.199363061647837\n",
            "********************************************************************************\n",
            "For learning rate 0.028, min_data_in_leaf 94, the train MSE is 6.2124292661499965 and valid MSE is 6.374732647219512 diff is 0.16230338106951514\n",
            "********************************************************************************\n",
            "For learning rate 0.024, min_data_in_leaf 127, the train MSE is 6.22366563872105 and valid MSE is 6.348676462958085 diff is 0.12501082423703558\n",
            "********************************************************************************\n",
            "For learning rate 0.088, min_data_in_leaf 106, the train MSE is 6.189119974393803 and valid MSE is 6.416983734612323 diff is 0.22786376021852028\n",
            "********************************************************************************\n",
            "For learning rate 0.018, min_data_in_leaf 140, the train MSE is 6.27834238374721 and valid MSE is 6.300670625329362 diff is 0.02232824158215152\n",
            "********************************************************************************\n",
            "For learning rate 0.034, min_data_in_leaf 97, the train MSE is 6.205114402614733 and valid MSE is 6.398108615285572 diff is 0.19299421267083972\n",
            "********************************************************************************\n",
            "For learning rate 0.099, min_data_in_leaf 107, the train MSE is 6.187478704855699 and valid MSE is 6.41749035589138 diff is 0.23001165103568155\n",
            "********************************************************************************\n",
            "For learning rate 0.098, min_data_in_leaf 134, the train MSE is 6.187737373279626 and valid MSE is 6.417057639901113 diff is 0.22932026662148708\n",
            "********************************************************************************\n"
          ],
          "name": "stdout"
        }
      ]
    },
    {
      "cell_type": "code",
      "metadata": {
        "colab": {
          "base_uri": "https://localhost:8080/"
        },
        "id": "7G9vGJ_myl_M",
        "outputId": "ad5b251d-62e2-415b-d373-56a10b07ff36"
      },
      "source": [
        "meta_model_cbr = CatBoostRegressor(learning_rate=0.099, min_data_in_leaf = 107, iterations=100, logging_level=\"Silent\")\r\n",
        "meta_model_cbr.fit(X_train_D2_pred, y_train_D2)"
      ],
      "execution_count": 86,
      "outputs": [
        {
          "output_type": "execute_result",
          "data": {
            "text/plain": [
              "<catboost.core.CatBoostRegressor at 0x7f559a6fa7f0>"
            ]
          },
          "metadata": {
            "tags": []
          },
          "execution_count": 86
        }
      ]
    },
    {
      "cell_type": "code",
      "metadata": {
        "id": "VhbTfJPtyl8k"
      },
      "source": [
        ""
      ],
      "execution_count": null,
      "outputs": []
    },
    {
      "cell_type": "code",
      "metadata": {
        "id": "94OE7ReByl5k"
      },
      "source": [
        ""
      ],
      "execution_count": null,
      "outputs": []
    },
    {
      "cell_type": "code",
      "metadata": {
        "id": "57pxfdecyl2P"
      },
      "source": [
        ""
      ],
      "execution_count": null,
      "outputs": []
    },
    {
      "cell_type": "code",
      "metadata": {
        "id": "UkYqoTiUpHXM"
      },
      "source": [
        "val = X_test[(X_test['day']>1913) & (X_test['day']<1942)]\r\n",
        "tst = X_test[X_test['day']>1941]"
      ],
      "execution_count": 24,
      "outputs": []
    },
    {
      "cell_type": "code",
      "metadata": {
        "id": "0weCx-A9qdwz"
      },
      "source": [
        "final_1_val = model_1.predict(val)\r\n",
        "final_1_tst = model_1.predict(tst)\r\n",
        "\r\n",
        "final_2_val = model_2.predict(val)\r\n",
        "final_2_tst = model_2.predict(tst)\r\n",
        "\r\n",
        "final_3_val = model_3.predict(val)\r\n",
        "final_3_tst = model_3.predict(tst)\r\n",
        "\r\n",
        "final_4_val = model_4.predict(val)\r\n",
        "final_4_tst = model_4.predict(tst)\r\n",
        "\r\n",
        "final_5_val = model_5.predict(val)\r\n",
        "final_5_tst = model_5.predict(tst)"
      ],
      "execution_count": 25,
      "outputs": []
    },
    {
      "cell_type": "code",
      "metadata": {
        "colab": {
          "base_uri": "https://localhost:8080/",
          "height": 106
        },
        "id": "iOsQ5M0arBck",
        "outputId": "6cb7619a-78af-4034-c120-b48082cc7568"
      },
      "source": [
        "final_val_preds = pd.concat([pd.DataFrame(final_1_val, columns=['final_1_val']), pd.DataFrame(final_2_val,columns=['final_2_val']),\\\r\n",
        "           pd.DataFrame(final_3_val,columns=['final_3_val']),pd.DataFrame(final_4_val,columns=['final_4_val']),\\\r\n",
        "           pd.DataFrame(final_5_val,columns=['final_5_val'])],axis=1)\r\n",
        "\r\n",
        "final_val_preds.head(2)"
      ],
      "execution_count": 26,
      "outputs": [
        {
          "output_type": "execute_result",
          "data": {
            "text/html": [
              "<div>\n",
              "<style scoped>\n",
              "    .dataframe tbody tr th:only-of-type {\n",
              "        vertical-align: middle;\n",
              "    }\n",
              "\n",
              "    .dataframe tbody tr th {\n",
              "        vertical-align: top;\n",
              "    }\n",
              "\n",
              "    .dataframe thead th {\n",
              "        text-align: right;\n",
              "    }\n",
              "</style>\n",
              "<table border=\"1\" class=\"dataframe\">\n",
              "  <thead>\n",
              "    <tr style=\"text-align: right;\">\n",
              "      <th></th>\n",
              "      <th>final_1_val</th>\n",
              "      <th>final_2_val</th>\n",
              "      <th>final_3_val</th>\n",
              "      <th>final_4_val</th>\n",
              "      <th>final_5_val</th>\n",
              "    </tr>\n",
              "  </thead>\n",
              "  <tbody>\n",
              "    <tr>\n",
              "      <th>0</th>\n",
              "      <td>0.976135</td>\n",
              "      <td>0.984558</td>\n",
              "      <td>0.918457</td>\n",
              "      <td>0.811426</td>\n",
              "      <td>0.884323</td>\n",
              "    </tr>\n",
              "    <tr>\n",
              "      <th>1</th>\n",
              "      <td>0.692354</td>\n",
              "      <td>0.687013</td>\n",
              "      <td>0.646240</td>\n",
              "      <td>0.531709</td>\n",
              "      <td>0.609000</td>\n",
              "    </tr>\n",
              "  </tbody>\n",
              "</table>\n",
              "</div>"
            ],
            "text/plain": [
              "   final_1_val  final_2_val  final_3_val  final_4_val  final_5_val\n",
              "0     0.976135     0.984558     0.918457     0.811426     0.884323\n",
              "1     0.692354     0.687013     0.646240     0.531709     0.609000"
            ]
          },
          "metadata": {
            "tags": []
          },
          "execution_count": 26
        }
      ]
    },
    {
      "cell_type": "code",
      "metadata": {
        "colab": {
          "base_uri": "https://localhost:8080/",
          "height": 106
        },
        "id": "519mH-awrWM2",
        "outputId": "9b828a60-bae6-488d-c46b-abbde7eaa9b3"
      },
      "source": [
        "final_tst_preds = pd.concat([pd.DataFrame(final_1_tst, columns=['final_1_tst']), pd.DataFrame(final_2_tst,columns=['final_2_tst']),\\\r\n",
        "           pd.DataFrame(final_3_tst,columns=['final_3_tst']),pd.DataFrame(final_4_tst,columns=['final_4_tst']),\\\r\n",
        "           pd.DataFrame(final_5_tst,columns=['final_5_tst'])],axis=1)\r\n",
        "\r\n",
        "final_tst_preds.head(2)"
      ],
      "execution_count": 27,
      "outputs": [
        {
          "output_type": "execute_result",
          "data": {
            "text/html": [
              "<div>\n",
              "<style scoped>\n",
              "    .dataframe tbody tr th:only-of-type {\n",
              "        vertical-align: middle;\n",
              "    }\n",
              "\n",
              "    .dataframe tbody tr th {\n",
              "        vertical-align: top;\n",
              "    }\n",
              "\n",
              "    .dataframe thead th {\n",
              "        text-align: right;\n",
              "    }\n",
              "</style>\n",
              "<table border=\"1\" class=\"dataframe\">\n",
              "  <thead>\n",
              "    <tr style=\"text-align: right;\">\n",
              "      <th></th>\n",
              "      <th>final_1_tst</th>\n",
              "      <th>final_2_tst</th>\n",
              "      <th>final_3_tst</th>\n",
              "      <th>final_4_tst</th>\n",
              "      <th>final_5_tst</th>\n",
              "    </tr>\n",
              "  </thead>\n",
              "  <tbody>\n",
              "    <tr>\n",
              "      <th>0</th>\n",
              "      <td>0.622927</td>\n",
              "      <td>0.622306</td>\n",
              "      <td>0.583008</td>\n",
              "      <td>0.499456</td>\n",
              "      <td>0.612489</td>\n",
              "    </tr>\n",
              "    <tr>\n",
              "      <th>1</th>\n",
              "      <td>0.381731</td>\n",
              "      <td>0.368453</td>\n",
              "      <td>0.335205</td>\n",
              "      <td>0.443994</td>\n",
              "      <td>0.407913</td>\n",
              "    </tr>\n",
              "  </tbody>\n",
              "</table>\n",
              "</div>"
            ],
            "text/plain": [
              "   final_1_tst  final_2_tst  final_3_tst  final_4_tst  final_5_tst\n",
              "0     0.622927     0.622306     0.583008     0.499456     0.612489\n",
              "1     0.381731     0.368453     0.335205     0.443994     0.407913"
            ]
          },
          "metadata": {
            "tags": []
          },
          "execution_count": 27
        }
      ]
    },
    {
      "cell_type": "code",
      "metadata": {
        "id": "ale5BW_BrpE9"
      },
      "source": [
        "pred_val_array = meta_model.predict(final_val_preds)\r\n",
        "pred_test_array = meta_model.predict(final_tst_preds)\r\n",
        "\r\n",
        "pred_val_array = np.reshape(pred_val_array, (-1, 28),order = 'F')\r\n",
        "pred_test_array = np.reshape(pred_test_array, (-1, 28),order = 'F')"
      ],
      "execution_count": 63,
      "outputs": []
    },
    {
      "cell_type": "code",
      "metadata": {
        "colab": {
          "base_uri": "https://localhost:8080/",
          "height": 402
        },
        "id": "L8_z1xbZ604L",
        "outputId": "81db8784-618a-4c2c-b976-c01f47bdf721"
      },
      "source": [
        "final_val_preds_cbr = final_val_preds\r\n",
        "final_val_preds_cbr.columns =  ['k1_pred','k2_pred','k3_pred','k4_pred','k5_pred']\r\n",
        "final_val_preds_cbr\r\n",
        "\r\n",
        "\r\n",
        "final_tst_preds_cbr = final_tst_preds\r\n",
        "final_tst_preds_cbr.columns =  ['k1_pred','k2_pred','k3_pred','k4_pred','k5_pred']\r\n",
        "final_tst_preds_cbr"
      ],
      "execution_count": 82,
      "outputs": [
        {
          "output_type": "execute_result",
          "data": {
            "text/html": [
              "<div>\n",
              "<style scoped>\n",
              "    .dataframe tbody tr th:only-of-type {\n",
              "        vertical-align: middle;\n",
              "    }\n",
              "\n",
              "    .dataframe tbody tr th {\n",
              "        vertical-align: top;\n",
              "    }\n",
              "\n",
              "    .dataframe thead th {\n",
              "        text-align: right;\n",
              "    }\n",
              "</style>\n",
              "<table border=\"1\" class=\"dataframe\">\n",
              "  <thead>\n",
              "    <tr style=\"text-align: right;\">\n",
              "      <th></th>\n",
              "      <th>k1_pred</th>\n",
              "      <th>k2_pred</th>\n",
              "      <th>k3_pred</th>\n",
              "      <th>k4_pred</th>\n",
              "      <th>k5_pred</th>\n",
              "    </tr>\n",
              "  </thead>\n",
              "  <tbody>\n",
              "    <tr>\n",
              "      <th>0</th>\n",
              "      <td>0.622927</td>\n",
              "      <td>0.622306</td>\n",
              "      <td>0.583008</td>\n",
              "      <td>0.499456</td>\n",
              "      <td>0.612489</td>\n",
              "    </tr>\n",
              "    <tr>\n",
              "      <th>1</th>\n",
              "      <td>0.381731</td>\n",
              "      <td>0.368453</td>\n",
              "      <td>0.335205</td>\n",
              "      <td>0.443994</td>\n",
              "      <td>0.407913</td>\n",
              "    </tr>\n",
              "    <tr>\n",
              "      <th>2</th>\n",
              "      <td>0.547043</td>\n",
              "      <td>0.552569</td>\n",
              "      <td>0.509033</td>\n",
              "      <td>0.493762</td>\n",
              "      <td>0.568509</td>\n",
              "    </tr>\n",
              "    <tr>\n",
              "      <th>3</th>\n",
              "      <td>2.417879</td>\n",
              "      <td>2.438912</td>\n",
              "      <td>2.388916</td>\n",
              "      <td>2.057252</td>\n",
              "      <td>2.078961</td>\n",
              "    </tr>\n",
              "    <tr>\n",
              "      <th>4</th>\n",
              "      <td>1.336990</td>\n",
              "      <td>1.320781</td>\n",
              "      <td>1.288330</td>\n",
              "      <td>0.870764</td>\n",
              "      <td>1.065992</td>\n",
              "    </tr>\n",
              "    <tr>\n",
              "      <th>...</th>\n",
              "      <td>...</td>\n",
              "      <td>...</td>\n",
              "      <td>...</td>\n",
              "      <td>...</td>\n",
              "      <td>...</td>\n",
              "    </tr>\n",
              "    <tr>\n",
              "      <th>853715</th>\n",
              "      <td>0.949158</td>\n",
              "      <td>0.975781</td>\n",
              "      <td>1.009766</td>\n",
              "      <td>0.761162</td>\n",
              "      <td>0.862908</td>\n",
              "    </tr>\n",
              "    <tr>\n",
              "      <th>853716</th>\n",
              "      <td>0.346672</td>\n",
              "      <td>0.321799</td>\n",
              "      <td>0.387695</td>\n",
              "      <td>0.440660</td>\n",
              "      <td>0.439751</td>\n",
              "    </tr>\n",
              "    <tr>\n",
              "      <th>853717</th>\n",
              "      <td>1.184471</td>\n",
              "      <td>1.172040</td>\n",
              "      <td>1.246582</td>\n",
              "      <td>0.785601</td>\n",
              "      <td>0.890500</td>\n",
              "    </tr>\n",
              "    <tr>\n",
              "      <th>853718</th>\n",
              "      <td>1.110918</td>\n",
              "      <td>1.073043</td>\n",
              "      <td>1.143311</td>\n",
              "      <td>0.910342</td>\n",
              "      <td>1.025053</td>\n",
              "    </tr>\n",
              "    <tr>\n",
              "      <th>853719</th>\n",
              "      <td>0.877157</td>\n",
              "      <td>0.875520</td>\n",
              "      <td>0.927246</td>\n",
              "      <td>0.932434</td>\n",
              "      <td>0.976456</td>\n",
              "    </tr>\n",
              "  </tbody>\n",
              "</table>\n",
              "<p>853720 rows × 5 columns</p>\n",
              "</div>"
            ],
            "text/plain": [
              "         k1_pred   k2_pred   k3_pred   k4_pred   k5_pred\n",
              "0       0.622927  0.622306  0.583008  0.499456  0.612489\n",
              "1       0.381731  0.368453  0.335205  0.443994  0.407913\n",
              "2       0.547043  0.552569  0.509033  0.493762  0.568509\n",
              "3       2.417879  2.438912  2.388916  2.057252  2.078961\n",
              "4       1.336990  1.320781  1.288330  0.870764  1.065992\n",
              "...          ...       ...       ...       ...       ...\n",
              "853715  0.949158  0.975781  1.009766  0.761162  0.862908\n",
              "853716  0.346672  0.321799  0.387695  0.440660  0.439751\n",
              "853717  1.184471  1.172040  1.246582  0.785601  0.890500\n",
              "853718  1.110918  1.073043  1.143311  0.910342  1.025053\n",
              "853719  0.877157  0.875520  0.927246  0.932434  0.976456\n",
              "\n",
              "[853720 rows x 5 columns]"
            ]
          },
          "metadata": {
            "tags": []
          },
          "execution_count": 82
        }
      ]
    },
    {
      "cell_type": "code",
      "metadata": {
        "id": "1yT4zTFo6PDa"
      },
      "source": [
        "pred_val_array = meta_model_cbr.predict(final_val_preds)\r\n",
        "pred_test_array = meta_model_cbr.predict(final_tst_preds)\r\n",
        "\r\n",
        "pred_val_array = np.reshape(pred_val_array, (-1, 28),order = 'F')\r\n",
        "pred_test_array = np.reshape(pred_test_array, (-1, 28),order = 'F')"
      ],
      "execution_count": 87,
      "outputs": []
    },
    {
      "cell_type": "code",
      "metadata": {
        "colab": {
          "base_uri": "https://localhost:8080/",
          "height": 422
        },
        "id": "B6FLQTRGsA1F",
        "outputId": "d7d91a31-3a18-4f7d-f3c2-bb53b3146549"
      },
      "source": [
        "sub = pd.read_csv(\"sample_submission.csv\")\r\n",
        "sub_1 = sub.iloc[:30490,:]\r\n",
        "sub_2 = sub.iloc[30490:,:]\r\n",
        "f_cols = sub.columns[1:]\r\n",
        "\r\n",
        "for i in range(len(f_cols)):\r\n",
        "    sub_1[f_cols[i]] = pred_val_array[:,i]\r\n",
        "    sub_2[f_cols[i]] = pred_test_array[:,i]\r\n",
        "\r\n",
        "sub = pd.concat([sub_1,sub_2])\r\n",
        "sub"
      ],
      "execution_count": 88,
      "outputs": [
        {
          "output_type": "execute_result",
          "data": {
            "text/html": [
              "<div>\n",
              "<style scoped>\n",
              "    .dataframe tbody tr th:only-of-type {\n",
              "        vertical-align: middle;\n",
              "    }\n",
              "\n",
              "    .dataframe tbody tr th {\n",
              "        vertical-align: top;\n",
              "    }\n",
              "\n",
              "    .dataframe thead th {\n",
              "        text-align: right;\n",
              "    }\n",
              "</style>\n",
              "<table border=\"1\" class=\"dataframe\">\n",
              "  <thead>\n",
              "    <tr style=\"text-align: right;\">\n",
              "      <th></th>\n",
              "      <th>id</th>\n",
              "      <th>F1</th>\n",
              "      <th>F2</th>\n",
              "      <th>F3</th>\n",
              "      <th>F4</th>\n",
              "      <th>F5</th>\n",
              "      <th>F6</th>\n",
              "      <th>F7</th>\n",
              "      <th>F8</th>\n",
              "      <th>F9</th>\n",
              "      <th>F10</th>\n",
              "      <th>F11</th>\n",
              "      <th>F12</th>\n",
              "      <th>F13</th>\n",
              "      <th>F14</th>\n",
              "      <th>F15</th>\n",
              "      <th>F16</th>\n",
              "      <th>F17</th>\n",
              "      <th>F18</th>\n",
              "      <th>F19</th>\n",
              "      <th>F20</th>\n",
              "      <th>F21</th>\n",
              "      <th>F22</th>\n",
              "      <th>F23</th>\n",
              "      <th>F24</th>\n",
              "      <th>F25</th>\n",
              "      <th>F26</th>\n",
              "      <th>F27</th>\n",
              "      <th>F28</th>\n",
              "    </tr>\n",
              "  </thead>\n",
              "  <tbody>\n",
              "    <tr>\n",
              "      <th>0</th>\n",
              "      <td>HOBBIES_1_001_CA_1_validation</td>\n",
              "      <td>0.814221</td>\n",
              "      <td>0.712517</td>\n",
              "      <td>0.710298</td>\n",
              "      <td>0.445180</td>\n",
              "      <td>0.967422</td>\n",
              "      <td>0.730161</td>\n",
              "      <td>0.872007</td>\n",
              "      <td>0.714305</td>\n",
              "      <td>1.316507</td>\n",
              "      <td>0.812537</td>\n",
              "      <td>1.490221</td>\n",
              "      <td>1.129385</td>\n",
              "      <td>1.130636</td>\n",
              "      <td>1.115721</td>\n",
              "      <td>0.491443</td>\n",
              "      <td>1.231129</td>\n",
              "      <td>0.714676</td>\n",
              "      <td>0.829558</td>\n",
              "      <td>0.859721</td>\n",
              "      <td>1.086065</td>\n",
              "      <td>0.965488</td>\n",
              "      <td>0.809171</td>\n",
              "      <td>0.913963</td>\n",
              "      <td>0.815256</td>\n",
              "      <td>1.290691</td>\n",
              "      <td>0.855042</td>\n",
              "      <td>1.257858</td>\n",
              "      <td>0.855042</td>\n",
              "    </tr>\n",
              "    <tr>\n",
              "      <th>1</th>\n",
              "      <td>HOBBIES_1_002_CA_1_validation</td>\n",
              "      <td>0.552600</td>\n",
              "      <td>0.319139</td>\n",
              "      <td>0.295450</td>\n",
              "      <td>0.495463</td>\n",
              "      <td>0.297214</td>\n",
              "      <td>0.399414</td>\n",
              "      <td>0.372379</td>\n",
              "      <td>0.400019</td>\n",
              "      <td>0.240263</td>\n",
              "      <td>0.210431</td>\n",
              "      <td>0.497141</td>\n",
              "      <td>0.316421</td>\n",
              "      <td>0.327907</td>\n",
              "      <td>0.334915</td>\n",
              "      <td>0.337549</td>\n",
              "      <td>0.213935</td>\n",
              "      <td>0.209037</td>\n",
              "      <td>0.420556</td>\n",
              "      <td>0.333424</td>\n",
              "      <td>0.354352</td>\n",
              "      <td>0.354352</td>\n",
              "      <td>0.338684</td>\n",
              "      <td>0.206539</td>\n",
              "      <td>0.293567</td>\n",
              "      <td>0.335687</td>\n",
              "      <td>0.357595</td>\n",
              "      <td>0.344008</td>\n",
              "      <td>0.292112</td>\n",
              "    </tr>\n",
              "    <tr>\n",
              "      <th>2</th>\n",
              "      <td>HOBBIES_1_003_CA_1_validation</td>\n",
              "      <td>0.393949</td>\n",
              "      <td>0.373498</td>\n",
              "      <td>0.244875</td>\n",
              "      <td>0.213535</td>\n",
              "      <td>0.472361</td>\n",
              "      <td>0.910746</td>\n",
              "      <td>0.565883</td>\n",
              "      <td>0.334095</td>\n",
              "      <td>0.547115</td>\n",
              "      <td>0.216592</td>\n",
              "      <td>0.374260</td>\n",
              "      <td>0.385460</td>\n",
              "      <td>1.009061</td>\n",
              "      <td>0.481869</td>\n",
              "      <td>0.253814</td>\n",
              "      <td>0.354638</td>\n",
              "      <td>0.374260</td>\n",
              "      <td>0.660056</td>\n",
              "      <td>0.794580</td>\n",
              "      <td>1.152470</td>\n",
              "      <td>1.033813</td>\n",
              "      <td>0.570897</td>\n",
              "      <td>0.804832</td>\n",
              "      <td>0.605386</td>\n",
              "      <td>0.606789</td>\n",
              "      <td>0.798736</td>\n",
              "      <td>0.648553</td>\n",
              "      <td>0.820394</td>\n",
              "    </tr>\n",
              "    <tr>\n",
              "      <th>3</th>\n",
              "      <td>HOBBIES_1_004_CA_1_validation</td>\n",
              "      <td>2.177026</td>\n",
              "      <td>1.033804</td>\n",
              "      <td>0.712517</td>\n",
              "      <td>1.442463</td>\n",
              "      <td>1.429108</td>\n",
              "      <td>1.790227</td>\n",
              "      <td>3.127834</td>\n",
              "      <td>1.521750</td>\n",
              "      <td>1.147287</td>\n",
              "      <td>0.806250</td>\n",
              "      <td>1.496973</td>\n",
              "      <td>1.560228</td>\n",
              "      <td>2.006013</td>\n",
              "      <td>2.925439</td>\n",
              "      <td>2.006013</td>\n",
              "      <td>1.243791</td>\n",
              "      <td>1.437747</td>\n",
              "      <td>0.919120</td>\n",
              "      <td>1.601964</td>\n",
              "      <td>1.790227</td>\n",
              "      <td>2.924025</td>\n",
              "      <td>1.999796</td>\n",
              "      <td>1.378379</td>\n",
              "      <td>1.473003</td>\n",
              "      <td>1.163040</td>\n",
              "      <td>1.683155</td>\n",
              "      <td>2.919750</td>\n",
              "      <td>2.679918</td>\n",
              "    </tr>\n",
              "    <tr>\n",
              "      <th>4</th>\n",
              "      <td>HOBBIES_1_005_CA_1_validation</td>\n",
              "      <td>1.115721</td>\n",
              "      <td>0.955339</td>\n",
              "      <td>1.247951</td>\n",
              "      <td>1.162885</td>\n",
              "      <td>1.332635</td>\n",
              "      <td>1.147287</td>\n",
              "      <td>1.445988</td>\n",
              "      <td>0.971916</td>\n",
              "      <td>1.360630</td>\n",
              "      <td>0.952926</td>\n",
              "      <td>1.258334</td>\n",
              "      <td>0.733018</td>\n",
              "      <td>0.919586</td>\n",
              "      <td>1.115721</td>\n",
              "      <td>1.190321</td>\n",
              "      <td>0.959141</td>\n",
              "      <td>1.186222</td>\n",
              "      <td>0.870851</td>\n",
              "      <td>1.129385</td>\n",
              "      <td>0.934649</td>\n",
              "      <td>1.310323</td>\n",
              "      <td>0.980431</td>\n",
              "      <td>0.925658</td>\n",
              "      <td>0.916693</td>\n",
              "      <td>1.115721</td>\n",
              "      <td>1.337398</td>\n",
              "      <td>1.183100</td>\n",
              "      <td>1.865430</td>\n",
              "    </tr>\n",
              "    <tr>\n",
              "      <th>...</th>\n",
              "      <td>...</td>\n",
              "      <td>...</td>\n",
              "      <td>...</td>\n",
              "      <td>...</td>\n",
              "      <td>...</td>\n",
              "      <td>...</td>\n",
              "      <td>...</td>\n",
              "      <td>...</td>\n",
              "      <td>...</td>\n",
              "      <td>...</td>\n",
              "      <td>...</td>\n",
              "      <td>...</td>\n",
              "      <td>...</td>\n",
              "      <td>...</td>\n",
              "      <td>...</td>\n",
              "      <td>...</td>\n",
              "      <td>...</td>\n",
              "      <td>...</td>\n",
              "      <td>...</td>\n",
              "      <td>...</td>\n",
              "      <td>...</td>\n",
              "      <td>...</td>\n",
              "      <td>...</td>\n",
              "      <td>...</td>\n",
              "      <td>...</td>\n",
              "      <td>...</td>\n",
              "      <td>...</td>\n",
              "      <td>...</td>\n",
              "      <td>...</td>\n",
              "    </tr>\n",
              "    <tr>\n",
              "      <th>60975</th>\n",
              "      <td>FOODS_3_823_WI_3_evaluation</td>\n",
              "      <td>0.438759</td>\n",
              "      <td>0.368562</td>\n",
              "      <td>0.262954</td>\n",
              "      <td>0.712517</td>\n",
              "      <td>0.730161</td>\n",
              "      <td>0.505131</td>\n",
              "      <td>0.639616</td>\n",
              "      <td>0.397608</td>\n",
              "      <td>0.571548</td>\n",
              "      <td>0.287307</td>\n",
              "      <td>0.768650</td>\n",
              "      <td>0.803426</td>\n",
              "      <td>0.457681</td>\n",
              "      <td>0.660456</td>\n",
              "      <td>0.552128</td>\n",
              "      <td>0.561156</td>\n",
              "      <td>0.430496</td>\n",
              "      <td>0.525211</td>\n",
              "      <td>0.955676</td>\n",
              "      <td>0.372833</td>\n",
              "      <td>1.090080</td>\n",
              "      <td>0.392350</td>\n",
              "      <td>1.047022</td>\n",
              "      <td>0.536635</td>\n",
              "      <td>0.559752</td>\n",
              "      <td>0.828874</td>\n",
              "      <td>0.524276</td>\n",
              "      <td>0.814088</td>\n",
              "    </tr>\n",
              "    <tr>\n",
              "      <th>60976</th>\n",
              "      <td>FOODS_3_824_WI_3_evaluation</td>\n",
              "      <td>0.564157</td>\n",
              "      <td>0.519263</td>\n",
              "      <td>0.392350</td>\n",
              "      <td>0.524276</td>\n",
              "      <td>0.352822</td>\n",
              "      <td>0.577073</td>\n",
              "      <td>0.385460</td>\n",
              "      <td>0.433129</td>\n",
              "      <td>0.556547</td>\n",
              "      <td>0.372836</td>\n",
              "      <td>0.724753</td>\n",
              "      <td>0.238851</td>\n",
              "      <td>0.662668</td>\n",
              "      <td>0.366257</td>\n",
              "      <td>0.523358</td>\n",
              "      <td>0.457681</td>\n",
              "      <td>0.336789</td>\n",
              "      <td>0.561796</td>\n",
              "      <td>0.217933</td>\n",
              "      <td>0.501757</td>\n",
              "      <td>0.348675</td>\n",
              "      <td>0.495707</td>\n",
              "      <td>0.471218</td>\n",
              "      <td>0.342167</td>\n",
              "      <td>0.657387</td>\n",
              "      <td>0.203985</td>\n",
              "      <td>0.656635</td>\n",
              "      <td>0.299036</td>\n",
              "    </tr>\n",
              "    <tr>\n",
              "      <th>60977</th>\n",
              "      <td>FOODS_3_825_WI_3_evaluation</td>\n",
              "      <td>1.258334</td>\n",
              "      <td>0.529683</td>\n",
              "      <td>0.805452</td>\n",
              "      <td>0.392743</td>\n",
              "      <td>0.726573</td>\n",
              "      <td>1.033813</td>\n",
              "      <td>0.661916</td>\n",
              "      <td>1.356637</td>\n",
              "      <td>0.355845</td>\n",
              "      <td>0.809171</td>\n",
              "      <td>0.465945</td>\n",
              "      <td>0.557391</td>\n",
              "      <td>0.925658</td>\n",
              "      <td>0.829532</td>\n",
              "      <td>1.103459</td>\n",
              "      <td>0.912774</td>\n",
              "      <td>1.270019</td>\n",
              "      <td>0.959691</td>\n",
              "      <td>0.714305</td>\n",
              "      <td>0.921802</td>\n",
              "      <td>0.798792</td>\n",
              "      <td>1.159081</td>\n",
              "      <td>0.717162</td>\n",
              "      <td>1.382818</td>\n",
              "      <td>0.433881</td>\n",
              "      <td>0.569319</td>\n",
              "      <td>0.609005</td>\n",
              "      <td>1.033813</td>\n",
              "    </tr>\n",
              "    <tr>\n",
              "      <th>60978</th>\n",
              "      <td>FOODS_3_826_WI_3_evaluation</td>\n",
              "      <td>0.932127</td>\n",
              "      <td>1.743731</td>\n",
              "      <td>0.714305</td>\n",
              "      <td>1.351129</td>\n",
              "      <td>1.131112</td>\n",
              "      <td>0.959141</td>\n",
              "      <td>1.517481</td>\n",
              "      <td>1.131112</td>\n",
              "      <td>1.031689</td>\n",
              "      <td>1.041049</td>\n",
              "      <td>1.131112</td>\n",
              "      <td>1.036466</td>\n",
              "      <td>1.271389</td>\n",
              "      <td>1.457660</td>\n",
              "      <td>1.409498</td>\n",
              "      <td>0.919784</td>\n",
              "      <td>1.011393</td>\n",
              "      <td>1.115721</td>\n",
              "      <td>1.229889</td>\n",
              "      <td>1.086065</td>\n",
              "      <td>1.139583</td>\n",
              "      <td>1.441719</td>\n",
              "      <td>1.996701</td>\n",
              "      <td>1.324901</td>\n",
              "      <td>1.777124</td>\n",
              "      <td>1.015408</td>\n",
              "      <td>1.090080</td>\n",
              "      <td>1.035215</td>\n",
              "    </tr>\n",
              "    <tr>\n",
              "      <th>60979</th>\n",
              "      <td>FOODS_3_827_WI_3_evaluation</td>\n",
              "      <td>1.324901</td>\n",
              "      <td>1.176551</td>\n",
              "      <td>1.243995</td>\n",
              "      <td>1.237567</td>\n",
              "      <td>0.717277</td>\n",
              "      <td>0.873663</td>\n",
              "      <td>1.439660</td>\n",
              "      <td>1.462762</td>\n",
              "      <td>1.324901</td>\n",
              "      <td>1.056440</td>\n",
              "      <td>1.422983</td>\n",
              "      <td>1.351129</td>\n",
              "      <td>1.229889</td>\n",
              "      <td>1.516789</td>\n",
              "      <td>1.578731</td>\n",
              "      <td>1.236327</td>\n",
              "      <td>0.573901</td>\n",
              "      <td>0.842484</td>\n",
              "      <td>1.137550</td>\n",
              "      <td>1.392629</td>\n",
              "      <td>0.659685</td>\n",
              "      <td>1.905991</td>\n",
              "      <td>1.563869</td>\n",
              "      <td>1.236327</td>\n",
              "      <td>1.411215</td>\n",
              "      <td>1.161191</td>\n",
              "      <td>1.994297</td>\n",
              "      <td>0.926055</td>\n",
              "    </tr>\n",
              "  </tbody>\n",
              "</table>\n",
              "<p>60980 rows × 29 columns</p>\n",
              "</div>"
            ],
            "text/plain": [
              "                                  id        F1  ...       F27       F28\n",
              "0      HOBBIES_1_001_CA_1_validation  0.814221  ...  1.257858  0.855042\n",
              "1      HOBBIES_1_002_CA_1_validation  0.552600  ...  0.344008  0.292112\n",
              "2      HOBBIES_1_003_CA_1_validation  0.393949  ...  0.648553  0.820394\n",
              "3      HOBBIES_1_004_CA_1_validation  2.177026  ...  2.919750  2.679918\n",
              "4      HOBBIES_1_005_CA_1_validation  1.115721  ...  1.183100  1.865430\n",
              "...                              ...       ...  ...       ...       ...\n",
              "60975    FOODS_3_823_WI_3_evaluation  0.438759  ...  0.524276  0.814088\n",
              "60976    FOODS_3_824_WI_3_evaluation  0.564157  ...  0.656635  0.299036\n",
              "60977    FOODS_3_825_WI_3_evaluation  1.258334  ...  0.609005  1.033813\n",
              "60978    FOODS_3_826_WI_3_evaluation  0.932127  ...  1.090080  1.035215\n",
              "60979    FOODS_3_827_WI_3_evaluation  1.324901  ...  1.994297  0.926055\n",
              "\n",
              "[60980 rows x 29 columns]"
            ]
          },
          "metadata": {
            "tags": []
          },
          "execution_count": 88
        }
      ]
    },
    {
      "cell_type": "code",
      "metadata": {
        "id": "DA0ZCInZsJsu"
      },
      "source": [
        "sub.to_csv(\"stack_model_3.csv\",index = False)"
      ],
      "execution_count": 90,
      "outputs": []
    },
    {
      "cell_type": "code",
      "metadata": {
        "colab": {
          "base_uri": "https://localhost:8080/"
        },
        "id": "Ntd5-OTWsOyi",
        "outputId": "a8fe290d-b8b5-4d12-aebc-ff25f70c2ef0"
      },
      "source": [
        "!kaggle competitions submit -c m5-forecasting-accuracy -f stack_model_3.csv -m \"Third stacked model\""
      ],
      "execution_count": 91,
      "outputs": [
        {
          "output_type": "stream",
          "text": [
            "Warning: Looks like you're using an outdated API Version, please consider updating (server 1.5.10 / client 1.5.4)\n",
            "100% 32.7M/32.7M [00:04<00:00, 6.95MB/s]\n",
            "Successfully submitted to M5 Forecasting - Accuracy"
          ],
          "name": "stdout"
        }
      ]
    },
    {
      "cell_type": "code",
      "metadata": {
        "id": "SaakgeHdue8X"
      },
      "source": [
        ""
      ],
      "execution_count": null,
      "outputs": []
    },
    {
      "cell_type": "code",
      "metadata": {
        "id": "xvETzp0OyHxN"
      },
      "source": [
        ""
      ],
      "execution_count": null,
      "outputs": []
    },
    {
      "cell_type": "code",
      "metadata": {
        "id": "NebS2MLAyIQY"
      },
      "source": [
        ""
      ],
      "execution_count": null,
      "outputs": []
    }
  ]
}