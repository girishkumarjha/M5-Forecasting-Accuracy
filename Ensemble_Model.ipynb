{
  "nbformat": 4,
  "nbformat_minor": 0,
  "metadata": {
    "colab": {
      "name": "Ensemble_Model",
      "provenance": [],
      "collapsed_sections": [],
      "machine_shape": "hm",
      "include_colab_link": true
    },
    "kernelspec": {
      "name": "python3",
      "display_name": "Python 3"
    }
  },
  "cells": [
    {
      "cell_type": "markdown",
      "metadata": {
        "id": "view-in-github",
        "colab_type": "text"
      },
      "source": [
        "<a href=\"https://colab.research.google.com/github/vence-andersen/M5-Forecasting-Accuracy/blob/main/Ensemble_Model.ipynb\" target=\"_parent\"><img src=\"https://colab.research.google.com/assets/colab-badge.svg\" alt=\"Open In Colab\"/></a>"
      ]
    },
    {
      "cell_type": "markdown",
      "metadata": {
        "id": "fLBLMkHiRSxg"
      },
      "source": [
        "# **Removables**"
      ]
    },
    {
      "cell_type": "code",
      "metadata": {
        "colab": {
          "resources": {
            "http://localhost:8080/nbextensions/google.colab/files.js": {
              "data": "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",
              "ok": true,
              "headers": [
                [
                  "content-type",
                  "application/javascript"
                ]
              ],
              "status": 200,
              "status_text": ""
            }
          },
          "base_uri": "https://localhost:8080/",
          "height": 90
        },
        "id": "pw0QOBoe1Abw",
        "outputId": "4148a8db-8463-4f2f-814d-4ca1b49eee6b"
      },
      "source": [
        "from google.colab import files\r\n",
        "files.upload()"
      ],
      "execution_count": 1,
      "outputs": [
        {
          "output_type": "display_data",
          "data": {
            "text/html": [
              "\n",
              "     <input type=\"file\" id=\"files-0fed0b60-b303-43ce-9913-3a07952d2423\" name=\"files[]\" multiple disabled\n",
              "        style=\"border:none\" />\n",
              "     <output id=\"result-0fed0b60-b303-43ce-9913-3a07952d2423\">\n",
              "      Upload widget is only available when the cell has been executed in the\n",
              "      current browser session. Please rerun this cell to enable.\n",
              "      </output>\n",
              "      <script src=\"/nbextensions/google.colab/files.js\"></script> "
            ],
            "text/plain": [
              "<IPython.core.display.HTML object>"
            ]
          },
          "metadata": {
            "tags": []
          }
        },
        {
          "output_type": "stream",
          "text": [
            "Saving kaggle.json to kaggle.json\n"
          ],
          "name": "stdout"
        },
        {
          "output_type": "execute_result",
          "data": {
            "text/plain": [
              "{'kaggle.json': b'{\"username\":\"grahamfernando\",\"key\":\"cffa546ccec7808cfc8cec9944ed384a\"}'}"
            ]
          },
          "metadata": {
            "tags": []
          },
          "execution_count": 1
        }
      ]
    },
    {
      "cell_type": "code",
      "metadata": {
        "id": "Y5m-joz71Byr"
      },
      "source": [
        "!mkdir -p ~/.kaggle\r\n",
        "!cp kaggle.json ~/.kaggle/\r\n",
        "!chmod 600 ~/.kaggle/kaggle.json"
      ],
      "execution_count": 2,
      "outputs": []
    },
    {
      "cell_type": "code",
      "metadata": {
        "colab": {
          "base_uri": "https://localhost:8080/"
        },
        "id": "oclAbgEN1C-F",
        "outputId": "2cb53cc9-a222-4099-ef24-978d34d4b39a"
      },
      "source": [
        "! kaggle competitions download -c m5-forecasting-accuracy"
      ],
      "execution_count": 3,
      "outputs": [
        {
          "output_type": "stream",
          "text": [
            "Warning: Looks like you're using an outdated API Version, please consider updating (server 1.5.10 / client 1.5.4)\n",
            "Downloading calendar.csv to /content\n",
            "  0% 0.00/101k [00:00<?, ?B/s]\n",
            "100% 101k/101k [00:00<00:00, 42.1MB/s]\n",
            "Downloading sales_train_evaluation.csv.zip to /content\n",
            " 57% 9.00M/15.8M [00:00<00:00, 29.9MB/s]\n",
            "100% 15.8M/15.8M [00:00<00:00, 40.0MB/s]\n",
            "Downloading sell_prices.csv.zip to /content\n",
            " 35% 5.00M/14.2M [00:00<00:00, 46.9MB/s]\n",
            "100% 14.2M/14.2M [00:00<00:00, 90.7MB/s]\n",
            "Downloading sales_train_validation.csv.zip to /content\n",
            " 32% 5.00M/15.5M [00:00<00:00, 19.6MB/s]\n",
            "100% 15.5M/15.5M [00:00<00:00, 51.8MB/s]\n",
            "Downloading sample_submission.csv.zip to /content\n",
            "  0% 0.00/163k [00:00<?, ?B/s]\n",
            "100% 163k/163k [00:00<00:00, 53.1MB/s]\n"
          ],
          "name": "stdout"
        }
      ]
    },
    {
      "cell_type": "code",
      "metadata": {
        "colab": {
          "base_uri": "https://localhost:8080/"
        },
        "id": "v0l4gtMd1DiP",
        "outputId": "c085e41c-fb4c-46f6-c3eb-8b7a852fe408"
      },
      "source": [
        "!unzip sales_train_evaluation.csv.zip\r\n",
        "!unzip sales_train_validation.csv.zip\r\n",
        "!unzip sample_submission.csv.zip\r\n",
        "!unzip sell_prices.csv.zip"
      ],
      "execution_count": 4,
      "outputs": [
        {
          "output_type": "stream",
          "text": [
            "Archive:  sales_train_evaluation.csv.zip\n",
            "  inflating: sales_train_evaluation.csv  \n",
            "Archive:  sales_train_validation.csv.zip\n",
            "  inflating: sales_train_validation.csv  \n",
            "Archive:  sample_submission.csv.zip\n",
            "  inflating: sample_submission.csv   \n",
            "Archive:  sell_prices.csv.zip\n",
            "  inflating: sell_prices.csv         \n"
          ],
          "name": "stdout"
        }
      ]
    },
    {
      "cell_type": "code",
      "metadata": {
        "colab": {
          "base_uri": "https://localhost:8080/"
        },
        "id": "1aXCm0lJ1Jwk",
        "outputId": "b16eafd4-6f64-470d-88ba-9bdc2c57bddb"
      },
      "source": [
        "! pip install downcast\r\n",
        "! pip install catboost"
      ],
      "execution_count": 5,
      "outputs": [
        {
          "output_type": "stream",
          "text": [
            "Collecting downcast\n",
            "  Downloading https://files.pythonhosted.org/packages/60/11/0468306ef6b191c6f53a0005f96e289494f885556a4ab80c438adc64a99f/downcast-0.0.8-py3-none-any.whl\n",
            "Installing collected packages: downcast\n",
            "Successfully installed downcast-0.0.8\n",
            "Collecting catboost\n",
            "\u001b[?25l  Downloading https://files.pythonhosted.org/packages/20/37/bc4e0ddc30c07a96482abf1de7ed1ca54e59bba2026a33bca6d2ef286e5b/catboost-0.24.4-cp36-none-manylinux1_x86_64.whl (65.7MB)\n",
            "\u001b[K     |████████████████████████████████| 65.8MB 63kB/s \n",
            "\u001b[?25hRequirement already satisfied: pandas>=0.24.0 in /usr/local/lib/python3.6/dist-packages (from catboost) (1.1.5)\n",
            "Requirement already satisfied: graphviz in /usr/local/lib/python3.6/dist-packages (from catboost) (0.10.1)\n",
            "Requirement already satisfied: numpy>=1.16.0 in /usr/local/lib/python3.6/dist-packages (from catboost) (1.19.5)\n",
            "Requirement already satisfied: six in /usr/local/lib/python3.6/dist-packages (from catboost) (1.15.0)\n",
            "Requirement already satisfied: scipy in /usr/local/lib/python3.6/dist-packages (from catboost) (1.4.1)\n",
            "Requirement already satisfied: plotly in /usr/local/lib/python3.6/dist-packages (from catboost) (4.4.1)\n",
            "Requirement already satisfied: matplotlib in /usr/local/lib/python3.6/dist-packages (from catboost) (3.2.2)\n",
            "Requirement already satisfied: python-dateutil>=2.7.3 in /usr/local/lib/python3.6/dist-packages (from pandas>=0.24.0->catboost) (2.8.1)\n",
            "Requirement already satisfied: pytz>=2017.2 in /usr/local/lib/python3.6/dist-packages (from pandas>=0.24.0->catboost) (2018.9)\n",
            "Requirement already satisfied: retrying>=1.3.3 in /usr/local/lib/python3.6/dist-packages (from plotly->catboost) (1.3.3)\n",
            "Requirement already satisfied: kiwisolver>=1.0.1 in /usr/local/lib/python3.6/dist-packages (from matplotlib->catboost) (1.3.1)\n",
            "Requirement already satisfied: cycler>=0.10 in /usr/local/lib/python3.6/dist-packages (from matplotlib->catboost) (0.10.0)\n",
            "Requirement already satisfied: pyparsing!=2.0.4,!=2.1.2,!=2.1.6,>=2.0.1 in /usr/local/lib/python3.6/dist-packages (from matplotlib->catboost) (2.4.7)\n",
            "Installing collected packages: catboost\n",
            "Successfully installed catboost-0.24.4\n"
          ],
          "name": "stdout"
        }
      ]
    },
    {
      "cell_type": "markdown",
      "metadata": {
        "id": "SnUnbyKzRX9y"
      },
      "source": [
        "# **Imports**"
      ]
    },
    {
      "cell_type": "code",
      "metadata": {
        "id": "YtCpiRRS1PmZ"
      },
      "source": [
        "import numpy as np\r\n",
        "import pandas as pd\r\n",
        "from sklearn.metrics import mean_squared_log_error\r\n",
        "from sklearn.model_selection import GridSearchCV\r\n",
        "from sklearn.linear_model import Lasso\r\n",
        "from sklearn.metrics import make_scorer\r\n",
        "from sklearn.linear_model import ElasticNet\r\n",
        "from sklearn.linear_model import LinearRegression\r\n",
        "from catboost import CatBoostRegressor\r\n",
        "from lightgbm import LGBMRegressor\r\n",
        "import pickle\r\n",
        "import dill\r\n",
        "import warnings\r\n",
        "warnings.filterwarnings('ignore')\r\n",
        "from sklearn.metrics import mean_squared_error as mse\r\n",
        "from typing import Union\r\n",
        "from tqdm import tqdm"
      ],
      "execution_count": 6,
      "outputs": []
    },
    {
      "cell_type": "code",
      "metadata": {
        "colab": {
          "base_uri": "https://localhost:8080/"
        },
        "id": "cyIkHAgx1PUb",
        "outputId": "f6d496e1-6005-40f0-d044-6f4991da04c5"
      },
      "source": [
        "from google.colab import drive\r\n",
        "drive.mount('/content/drive')"
      ],
      "execution_count": 7,
      "outputs": [
        {
          "output_type": "stream",
          "text": [
            "Mounted at /content/drive\n"
          ],
          "name": "stdout"
        }
      ]
    },
    {
      "cell_type": "code",
      "metadata": {
        "colab": {
          "base_uri": "https://localhost:8080/",
          "height": 126
        },
        "id": "3gPRfcKX1RI_",
        "outputId": "2e0e2333-70d6-41b6-e83a-0ca1591fbc44"
      },
      "source": [
        "data = pd.read_pickle('/content/drive/MyDrive/new.pkl')\r\n",
        "data.head(2)"
      ],
      "execution_count": 8,
      "outputs": [
        {
          "output_type": "execute_result",
          "data": {
            "text/html": [
              "<div>\n",
              "<style scoped>\n",
              "    .dataframe tbody tr th:only-of-type {\n",
              "        vertical-align: middle;\n",
              "    }\n",
              "\n",
              "    .dataframe tbody tr th {\n",
              "        vertical-align: top;\n",
              "    }\n",
              "\n",
              "    .dataframe thead th {\n",
              "        text-align: right;\n",
              "    }\n",
              "</style>\n",
              "<table border=\"1\" class=\"dataframe\">\n",
              "  <thead>\n",
              "    <tr style=\"text-align: right;\">\n",
              "      <th></th>\n",
              "      <th>id</th>\n",
              "      <th>item_id</th>\n",
              "      <th>dept_id</th>\n",
              "      <th>cat_id</th>\n",
              "      <th>store_id</th>\n",
              "      <th>state_id</th>\n",
              "      <th>day</th>\n",
              "      <th>demand</th>\n",
              "      <th>wm_yr_wk</th>\n",
              "      <th>wday</th>\n",
              "      <th>month</th>\n",
              "      <th>year</th>\n",
              "      <th>event_name_1</th>\n",
              "      <th>event_type_1</th>\n",
              "      <th>event_name_2</th>\n",
              "      <th>event_type_2</th>\n",
              "      <th>snap_CA</th>\n",
              "      <th>snap_TX</th>\n",
              "      <th>snap_WI</th>\n",
              "      <th>sell_price</th>\n",
              "      <th>lag_28</th>\n",
              "      <th>lag_30</th>\n",
              "      <th>lag_35</th>\n",
              "      <th>lag_42</th>\n",
              "      <th>lag_49</th>\n",
              "      <th>lag_56</th>\n",
              "      <th>lag_63</th>\n",
              "      <th>lag_70</th>\n",
              "      <th>rolling_median_5</th>\n",
              "      <th>rolling_median_7</th>\n",
              "      <th>rolling_median_28</th>\n",
              "      <th>rolling_median_56</th>\n",
              "    </tr>\n",
              "  </thead>\n",
              "  <tbody>\n",
              "    <tr>\n",
              "      <th>30490000</th>\n",
              "      <td>14370</td>\n",
              "      <td>1437</td>\n",
              "      <td>3</td>\n",
              "      <td>1</td>\n",
              "      <td>0</td>\n",
              "      <td>0</td>\n",
              "      <td>1001</td>\n",
              "      <td>2</td>\n",
              "      <td>11339</td>\n",
              "      <td>7</td>\n",
              "      <td>10</td>\n",
              "      <td>2013</td>\n",
              "      <td>-1</td>\n",
              "      <td>-1</td>\n",
              "      <td>-1</td>\n",
              "      <td>-1</td>\n",
              "      <td>0</td>\n",
              "      <td>0</td>\n",
              "      <td>0</td>\n",
              "      <td>8.257812</td>\n",
              "      <td>1.0</td>\n",
              "      <td>0.0</td>\n",
              "      <td>2.0</td>\n",
              "      <td>1.0</td>\n",
              "      <td>0.0</td>\n",
              "      <td>1.0</td>\n",
              "      <td>0.0</td>\n",
              "      <td>1.0</td>\n",
              "      <td>0.0</td>\n",
              "      <td>0.0</td>\n",
              "      <td>0.0</td>\n",
              "      <td>0.0</td>\n",
              "    </tr>\n",
              "    <tr>\n",
              "      <th>30490001</th>\n",
              "      <td>14380</td>\n",
              "      <td>1438</td>\n",
              "      <td>3</td>\n",
              "      <td>1</td>\n",
              "      <td>0</td>\n",
              "      <td>0</td>\n",
              "      <td>1001</td>\n",
              "      <td>0</td>\n",
              "      <td>11339</td>\n",
              "      <td>7</td>\n",
              "      <td>10</td>\n",
              "      <td>2013</td>\n",
              "      <td>-1</td>\n",
              "      <td>-1</td>\n",
              "      <td>-1</td>\n",
              "      <td>-1</td>\n",
              "      <td>0</td>\n",
              "      <td>0</td>\n",
              "      <td>0</td>\n",
              "      <td>3.970703</td>\n",
              "      <td>2.0</td>\n",
              "      <td>0.0</td>\n",
              "      <td>0.0</td>\n",
              "      <td>0.0</td>\n",
              "      <td>1.0</td>\n",
              "      <td>1.0</td>\n",
              "      <td>1.0</td>\n",
              "      <td>0.0</td>\n",
              "      <td>0.0</td>\n",
              "      <td>0.0</td>\n",
              "      <td>0.0</td>\n",
              "      <td>0.0</td>\n",
              "    </tr>\n",
              "  </tbody>\n",
              "</table>\n",
              "</div>"
            ],
            "text/plain": [
              "             id  item_id  ...  rolling_median_28  rolling_median_56\n",
              "30490000  14370     1437  ...                0.0                0.0\n",
              "30490001  14380     1438  ...                0.0                0.0\n",
              "\n",
              "[2 rows x 32 columns]"
            ]
          },
          "metadata": {
            "tags": []
          },
          "execution_count": 8
        }
      ]
    },
    {
      "cell_type": "code",
      "metadata": {
        "id": "B_JXh8uj1tQt"
      },
      "source": [
        "data.drop(['rolling_median_5','rolling_median_7','rolling_median_28','rolling_median_56'],axis=1, inplace=True)"
      ],
      "execution_count": 9,
      "outputs": []
    },
    {
      "cell_type": "code",
      "metadata": {
        "colab": {
          "base_uri": "https://localhost:8080/"
        },
        "id": "sIS8IdEl2GJR",
        "outputId": "cb86ff11-d2f6-4959-c9c8-4eb4e2ead02a"
      },
      "source": [
        "# Now we are splitting our data into, Train, Test, Cross Validate.\r\n",
        "# Being a time series model, we are splitting the data based on time.\r\n",
        "\r\n",
        "# Records till day 1914 will be used for training the model.\r\n",
        "X_train = data[data['day']<1800]\r\n",
        "\r\n",
        "# Records after day 1942 will used for final test\r\n",
        "X_test = data[(data['day']>=1800)]\r\n",
        "\r\n",
        "y_train = X_train['demand']\r\n",
        "y_test = X_test['demand']\r\n",
        "\r\n",
        "# We are drpping the features which are not required.\r\n",
        "X_train.drop(['demand'],axis = 1,inplace = True)\r\n",
        "X_test.drop(['demand'],axis = 1,inplace = True)\r\n",
        "\r\n",
        "print(X_train.shape,y_train.shape)\r\n",
        "print(X_test.shape, y_test.shape)"
      ],
      "execution_count": 10,
      "outputs": [
        {
          "output_type": "stream",
          "text": [
            "(24361510, 27) (24361510,)\n",
            "(5183300, 27) (5183300,)\n"
          ],
          "name": "stdout"
        }
      ]
    },
    {
      "cell_type": "code",
      "metadata": {
        "id": "NnZd-FkH24jr"
      },
      "source": [
        "X_train_D1 = X_train[X_train['day']<=1400]\r\n",
        "X_train_D2 = X_train[X_train['day']>1400]\r\n",
        "\r\n",
        "y_train_D1 = y_train[y_train.index <= X_train_D1.index[-1]].reset_index(drop=True)\r\n",
        "y_train_D2 = y_train[y_train.index > X_train_D1.index[-1]].reset_index(drop=True)\r\n",
        "\r\n",
        "X_train_D1.reset_index(drop=True, inplace=True)\r\n",
        "X_train_D2.reset_index(drop=True, inplace=True)"
      ],
      "execution_count": 11,
      "outputs": []
    },
    {
      "cell_type": "code",
      "metadata": {
        "id": "mI_sa-485my-"
      },
      "source": [
        "def sampler(max_val):\r\n",
        "\r\n",
        "    siz = np.int(max_val * 0.70)\r\n",
        "    return np.round(np.random.uniform(0,max_val-1, size=siz)).astype(int).tolist()"
      ],
      "execution_count": 12,
      "outputs": []
    },
    {
      "cell_type": "code",
      "metadata": {
        "id": "8GccK0Uf8c7Y"
      },
      "source": [
        "k1_train = X_train_D1.iloc[sampler(X_train_D1.shape[0])].sort_index()\r\n",
        "k1_test = y_train_D1[k1_train.index.tolist()]\r\n",
        "\r\n",
        "k2_train = X_train_D1.iloc[sampler(X_train_D1.shape[0])].sort_index()\r\n",
        "k2_test = y_train_D1[k2_train.index.tolist()]\r\n",
        "\r\n",
        "k3_train = X_train_D1.iloc[sampler(X_train_D1.shape[0])].sort_index()\r\n",
        "k3_test = y_train_D1[k3_train.index.tolist()]\r\n",
        "\r\n",
        "k4_train = X_train_D1.iloc[sampler(X_train_D1.shape[0])].sort_index()\r\n",
        "k4_test = y_train_D1[k4_train.index.tolist()]\r\n",
        "\r\n",
        "k5_train = X_train_D1.iloc[sampler(X_train_D1.shape[0])].sort_index()\r\n",
        "k5_test = y_train_D1[k5_train.index.tolist()]"
      ],
      "execution_count": 13,
      "outputs": []
    },
    {
      "cell_type": "code",
      "metadata": {
        "colab": {
          "base_uri": "https://localhost:8080/"
        },
        "id": "nTK14GcVGgl_",
        "outputId": "70d24df7-4d95-4c77-f8da-286c713a232a"
      },
      "source": [
        "params = {'alpha' : [0.001,0.01,0.1,1,10,0.05,0.5]}\r\n",
        "\r\n",
        "lasso = Lasso()\r\n",
        "clf = GridSearchCV(estimator=lasso, param_grid=params,scoring='neg_mean_squared_error', cv=3,n_jobs=-1, return_train_score=True, verbose=2)\r\n",
        "clf.fit(k1_train, k1_test)"
      ],
      "execution_count": 14,
      "outputs": [
        {
          "output_type": "stream",
          "text": [
            "Fitting 3 folds for each of 7 candidates, totalling 21 fits\n"
          ],
          "name": "stdout"
        },
        {
          "output_type": "stream",
          "text": [
            "[Parallel(n_jobs=-1)]: Using backend LokyBackend with 4 concurrent workers.\n",
            "[Parallel(n_jobs=-1)]: Done  21 out of  21 | elapsed:  6.7min finished\n"
          ],
          "name": "stderr"
        },
        {
          "output_type": "execute_result",
          "data": {
            "text/plain": [
              "GridSearchCV(cv=3, error_score=nan,\n",
              "             estimator=Lasso(alpha=1.0, copy_X=True, fit_intercept=True,\n",
              "                             max_iter=1000, normalize=False, positive=False,\n",
              "                             precompute=False, random_state=None,\n",
              "                             selection='cyclic', tol=0.0001, warm_start=False),\n",
              "             iid='deprecated', n_jobs=-1,\n",
              "             param_grid={'alpha': [0.001, 0.01, 0.1, 1, 10, 0.05, 0.5]},\n",
              "             pre_dispatch='2*n_jobs', refit=True, return_train_score=True,\n",
              "             scoring='neg_mean_squared_error', verbose=2)"
            ]
          },
          "metadata": {
            "tags": []
          },
          "execution_count": 14
        }
      ]
    },
    {
      "cell_type": "code",
      "metadata": {
        "colab": {
          "base_uri": "https://localhost:8080/",
          "height": 392
        },
        "id": "a6Ecf3qkgOY5",
        "outputId": "19af885f-302e-420a-8ff2-0dc55bb39d77"
      },
      "source": [
        "pd.DataFrame(clf.cv_results_)"
      ],
      "execution_count": 15,
      "outputs": [
        {
          "output_type": "execute_result",
          "data": {
            "text/html": [
              "<div>\n",
              "<style scoped>\n",
              "    .dataframe tbody tr th:only-of-type {\n",
              "        vertical-align: middle;\n",
              "    }\n",
              "\n",
              "    .dataframe tbody tr th {\n",
              "        vertical-align: top;\n",
              "    }\n",
              "\n",
              "    .dataframe thead th {\n",
              "        text-align: right;\n",
              "    }\n",
              "</style>\n",
              "<table border=\"1\" class=\"dataframe\">\n",
              "  <thead>\n",
              "    <tr style=\"text-align: right;\">\n",
              "      <th></th>\n",
              "      <th>mean_fit_time</th>\n",
              "      <th>std_fit_time</th>\n",
              "      <th>mean_score_time</th>\n",
              "      <th>std_score_time</th>\n",
              "      <th>param_alpha</th>\n",
              "      <th>params</th>\n",
              "      <th>split0_test_score</th>\n",
              "      <th>split1_test_score</th>\n",
              "      <th>split2_test_score</th>\n",
              "      <th>mean_test_score</th>\n",
              "      <th>std_test_score</th>\n",
              "      <th>rank_test_score</th>\n",
              "      <th>split0_train_score</th>\n",
              "      <th>split1_train_score</th>\n",
              "      <th>split2_train_score</th>\n",
              "      <th>mean_train_score</th>\n",
              "      <th>std_train_score</th>\n",
              "    </tr>\n",
              "  </thead>\n",
              "  <tbody>\n",
              "    <tr>\n",
              "      <th>0</th>\n",
              "      <td>235.910277</td>\n",
              "      <td>115.114222</td>\n",
              "      <td>0.449364</td>\n",
              "      <td>0.110772</td>\n",
              "      <td>0.001</td>\n",
              "      <td>{'alpha': 0.001}</td>\n",
              "      <td>-9.300288</td>\n",
              "      <td>-6.728264</td>\n",
              "      <td>-5.593564</td>\n",
              "      <td>-7.207372</td>\n",
              "      <td>1.550722</td>\n",
              "      <td>6</td>\n",
              "      <td>-6.091510</td>\n",
              "      <td>-6.731293</td>\n",
              "      <td>-7.282431</td>\n",
              "      <td>-6.701745</td>\n",
              "      <td>0.486640</td>\n",
              "    </tr>\n",
              "    <tr>\n",
              "      <th>1</th>\n",
              "      <td>45.621883</td>\n",
              "      <td>12.618110</td>\n",
              "      <td>0.525556</td>\n",
              "      <td>0.009781</td>\n",
              "      <td>0.01</td>\n",
              "      <td>{'alpha': 0.01}</td>\n",
              "      <td>-8.061216</td>\n",
              "      <td>-6.731735</td>\n",
              "      <td>-5.593185</td>\n",
              "      <td>-6.795379</td>\n",
              "      <td>1.008574</td>\n",
              "      <td>1</td>\n",
              "      <td>-6.093672</td>\n",
              "      <td>-6.732590</td>\n",
              "      <td>-7.284107</td>\n",
              "      <td>-6.703456</td>\n",
              "      <td>0.486429</td>\n",
              "    </tr>\n",
              "    <tr>\n",
              "      <th>2</th>\n",
              "      <td>23.853307</td>\n",
              "      <td>6.788747</td>\n",
              "      <td>0.524748</td>\n",
              "      <td>0.007994</td>\n",
              "      <td>0.1</td>\n",
              "      <td>{'alpha': 0.1}</td>\n",
              "      <td>-8.042578</td>\n",
              "      <td>-6.746187</td>\n",
              "      <td>-5.606258</td>\n",
              "      <td>-6.798341</td>\n",
              "      <td>0.995307</td>\n",
              "      <td>3</td>\n",
              "      <td>-6.098085</td>\n",
              "      <td>-6.738449</td>\n",
              "      <td>-7.290629</td>\n",
              "      <td>-6.709054</td>\n",
              "      <td>0.487297</td>\n",
              "    </tr>\n",
              "    <tr>\n",
              "      <th>3</th>\n",
              "      <td>17.539312</td>\n",
              "      <td>0.779091</td>\n",
              "      <td>0.469219</td>\n",
              "      <td>0.054044</td>\n",
              "      <td>1</td>\n",
              "      <td>{'alpha': 1}</td>\n",
              "      <td>-7.892976</td>\n",
              "      <td>-6.954936</td>\n",
              "      <td>-5.777192</td>\n",
              "      <td>-6.875035</td>\n",
              "      <td>0.865611</td>\n",
              "      <td>5</td>\n",
              "      <td>-6.199850</td>\n",
              "      <td>-6.832927</td>\n",
              "      <td>-7.392355</td>\n",
              "      <td>-6.808377</td>\n",
              "      <td>0.487148</td>\n",
              "    </tr>\n",
              "    <tr>\n",
              "      <th>4</th>\n",
              "      <td>5.073261</td>\n",
              "      <td>0.033020</td>\n",
              "      <td>0.513901</td>\n",
              "      <td>0.006904</td>\n",
              "      <td>10</td>\n",
              "      <td>{'alpha': 10}</td>\n",
              "      <td>-14.649081</td>\n",
              "      <td>-14.232338</td>\n",
              "      <td>-13.567071</td>\n",
              "      <td>-14.149497</td>\n",
              "      <td>0.445596</td>\n",
              "      <td>7</td>\n",
              "      <td>-13.898914</td>\n",
              "      <td>-14.107087</td>\n",
              "      <td>-14.439518</td>\n",
              "      <td>-14.148506</td>\n",
              "      <td>0.222636</td>\n",
              "    </tr>\n",
              "    <tr>\n",
              "      <th>5</th>\n",
              "      <td>28.724928</td>\n",
              "      <td>9.965209</td>\n",
              "      <td>0.517216</td>\n",
              "      <td>0.003129</td>\n",
              "      <td>0.05</td>\n",
              "      <td>{'alpha': 0.05}</td>\n",
              "      <td>-8.054846</td>\n",
              "      <td>-6.738380</td>\n",
              "      <td>-5.600919</td>\n",
              "      <td>-6.798048</td>\n",
              "      <td>1.002700</td>\n",
              "      <td>2</td>\n",
              "      <td>-6.096868</td>\n",
              "      <td>-6.735576</td>\n",
              "      <td>-7.289137</td>\n",
              "      <td>-6.707194</td>\n",
              "      <td>0.487155</td>\n",
              "    </tr>\n",
              "    <tr>\n",
              "      <th>6</th>\n",
              "      <td>17.718964</td>\n",
              "      <td>4.316160</td>\n",
              "      <td>0.384079</td>\n",
              "      <td>0.080141</td>\n",
              "      <td>0.5</td>\n",
              "      <td>{'alpha': 0.5}</td>\n",
              "      <td>-7.953620</td>\n",
              "      <td>-6.826102</td>\n",
              "      <td>-5.665469</td>\n",
              "      <td>-6.815064</td>\n",
              "      <td>0.934167</td>\n",
              "      <td>4</td>\n",
              "      <td>-6.123702</td>\n",
              "      <td>-6.764859</td>\n",
              "      <td>-7.319644</td>\n",
              "      <td>-6.736068</td>\n",
              "      <td>0.488666</td>\n",
              "    </tr>\n",
              "  </tbody>\n",
              "</table>\n",
              "</div>"
            ],
            "text/plain": [
              "   mean_fit_time  std_fit_time  ...  mean_train_score  std_train_score\n",
              "0     235.910277    115.114222  ...         -6.701745         0.486640\n",
              "1      45.621883     12.618110  ...         -6.703456         0.486429\n",
              "2      23.853307      6.788747  ...         -6.709054         0.487297\n",
              "3      17.539312      0.779091  ...         -6.808377         0.487148\n",
              "4       5.073261      0.033020  ...        -14.148506         0.222636\n",
              "5      28.724928      9.965209  ...         -6.707194         0.487155\n",
              "6      17.718964      4.316160  ...         -6.736068         0.488666\n",
              "\n",
              "[7 rows x 17 columns]"
            ]
          },
          "metadata": {
            "tags": []
          },
          "execution_count": 15
        }
      ]
    },
    {
      "cell_type": "code",
      "metadata": {
        "colab": {
          "base_uri": "https://localhost:8080/"
        },
        "id": "0xFBLuE9Qey3",
        "outputId": "7a2146e7-76cd-4eff-b3ff-eabe7ba34c95"
      },
      "source": [
        "clf.best_params_"
      ],
      "execution_count": null,
      "outputs": [
        {
          "output_type": "execute_result",
          "data": {
            "text/plain": [
              "{'alpha': 0.01}"
            ]
          },
          "metadata": {
            "tags": []
          },
          "execution_count": 18
        }
      ]
    },
    {
      "cell_type": "code",
      "metadata": {
        "colab": {
          "base_uri": "https://localhost:8080/"
        },
        "id": "fpoiO0BNkZr8",
        "outputId": "ab0524dd-4b49-40de-ae31-9f0bcedfdfd5"
      },
      "source": [
        "model_1 = Lasso(alpha=10)\r\n",
        "model_1.fit(k1_train, k1_test)"
      ],
      "execution_count": 16,
      "outputs": [
        {
          "output_type": "execute_result",
          "data": {
            "text/plain": [
              "Lasso(alpha=10, copy_X=True, fit_intercept=True, max_iter=1000, normalize=False,\n",
              "      positive=False, precompute=False, random_state=None, selection='cyclic',\n",
              "      tol=0.0001, warm_start=False)"
            ]
          },
          "metadata": {
            "tags": []
          },
          "execution_count": 16
        }
      ]
    },
    {
      "cell_type": "code",
      "metadata": {
        "id": "AjiQg4VEl_pd"
      },
      "source": [
        ""
      ],
      "execution_count": null,
      "outputs": []
    },
    {
      "cell_type": "code",
      "metadata": {
        "id": "PPZIupuHmlgi"
      },
      "source": [
        ""
      ],
      "execution_count": null,
      "outputs": []
    },
    {
      "cell_type": "code",
      "metadata": {
        "colab": {
          "base_uri": "https://localhost:8080/"
        },
        "id": "gZWWF3l4ml6P",
        "outputId": "067834f0-2f5f-4d6c-8754-dc7b1d659168"
      },
      "source": [
        "params = {'alpha' : [0.001,0.01,0.1,1,10,0.05,0.5],\r\n",
        "          'l1_ratio' : [0.01,0.1,1]}\r\n",
        "\r\n",
        "elastic_net = ElasticNet(max_iter=250)\r\n",
        "clf = GridSearchCV(estimator=elastic_net, param_grid=params, scoring='neg_mean_squared_error', cv=3, n_jobs=-1, return_train_score=True)\r\n",
        "clf.fit(k2_train, k2_test)"
      ],
      "execution_count": 17,
      "outputs": [
        {
          "output_type": "execute_result",
          "data": {
            "text/plain": [
              "GridSearchCV(cv=3, error_score=nan,\n",
              "             estimator=ElasticNet(alpha=1.0, copy_X=True, fit_intercept=True,\n",
              "                                  l1_ratio=0.5, max_iter=250, normalize=False,\n",
              "                                  positive=False, precompute=False,\n",
              "                                  random_state=None, selection='cyclic',\n",
              "                                  tol=0.0001, warm_start=False),\n",
              "             iid='deprecated', n_jobs=-1,\n",
              "             param_grid={'alpha': [0.001, 0.01, 0.1, 1, 10, 0.05, 0.5],\n",
              "                         'l1_ratio': [0.01, 0.1, 1]},\n",
              "             pre_dispatch='2*n_jobs', refit=True, return_train_score=True,\n",
              "             scoring='neg_mean_squared_error', verbose=0)"
            ]
          },
          "metadata": {
            "tags": []
          },
          "execution_count": 17
        }
      ]
    },
    {
      "cell_type": "code",
      "metadata": {
        "colab": {
          "base_uri": "https://localhost:8080/",
          "height": 669
        },
        "id": "MEVYlKvBml6S",
        "outputId": "21ea907a-31c0-494d-c9c4-22ef86b5fd64"
      },
      "source": [
        "pd.DataFrame(clf.cv_results_)[['param_alpha','param_l1_ratio','mean_test_score','std_test_score','mean_train_score','std_train_score']]"
      ],
      "execution_count": 18,
      "outputs": [
        {
          "output_type": "execute_result",
          "data": {
            "text/html": [
              "<div>\n",
              "<style scoped>\n",
              "    .dataframe tbody tr th:only-of-type {\n",
              "        vertical-align: middle;\n",
              "    }\n",
              "\n",
              "    .dataframe tbody tr th {\n",
              "        vertical-align: top;\n",
              "    }\n",
              "\n",
              "    .dataframe thead th {\n",
              "        text-align: right;\n",
              "    }\n",
              "</style>\n",
              "<table border=\"1\" class=\"dataframe\">\n",
              "  <thead>\n",
              "    <tr style=\"text-align: right;\">\n",
              "      <th></th>\n",
              "      <th>param_alpha</th>\n",
              "      <th>param_l1_ratio</th>\n",
              "      <th>mean_test_score</th>\n",
              "      <th>std_test_score</th>\n",
              "      <th>mean_train_score</th>\n",
              "      <th>std_train_score</th>\n",
              "    </tr>\n",
              "  </thead>\n",
              "  <tbody>\n",
              "    <tr>\n",
              "      <th>0</th>\n",
              "      <td>0.001</td>\n",
              "      <td>0.01</td>\n",
              "      <td>-7.008939</td>\n",
              "      <td>1.134876</td>\n",
              "      <td>-6.759825</td>\n",
              "      <td>0.445865</td>\n",
              "    </tr>\n",
              "    <tr>\n",
              "      <th>1</th>\n",
              "      <td>0.001</td>\n",
              "      <td>0.1</td>\n",
              "      <td>-7.005909</td>\n",
              "      <td>1.130846</td>\n",
              "      <td>-6.759842</td>\n",
              "      <td>0.445875</td>\n",
              "    </tr>\n",
              "    <tr>\n",
              "      <th>2</th>\n",
              "      <td>0.001</td>\n",
              "      <td>1</td>\n",
              "      <td>-6.970998</td>\n",
              "      <td>1.084996</td>\n",
              "      <td>-6.759922</td>\n",
              "      <td>0.445868</td>\n",
              "    </tr>\n",
              "    <tr>\n",
              "      <th>3</th>\n",
              "      <td>0.01</td>\n",
              "      <td>0.01</td>\n",
              "      <td>-6.984481</td>\n",
              "      <td>1.102746</td>\n",
              "      <td>-6.759879</td>\n",
              "      <td>0.445881</td>\n",
              "    </tr>\n",
              "    <tr>\n",
              "      <th>4</th>\n",
              "      <td>0.01</td>\n",
              "      <td>0.1</td>\n",
              "      <td>-6.956313</td>\n",
              "      <td>1.065944</td>\n",
              "      <td>-6.759961</td>\n",
              "      <td>0.445856</td>\n",
              "    </tr>\n",
              "    <tr>\n",
              "      <th>5</th>\n",
              "      <td>0.01</td>\n",
              "      <td>1</td>\n",
              "      <td>-6.846965</td>\n",
              "      <td>0.923624</td>\n",
              "      <td>-6.761565</td>\n",
              "      <td>0.445658</td>\n",
              "    </tr>\n",
              "    <tr>\n",
              "      <th>6</th>\n",
              "      <td>0.1</td>\n",
              "      <td>0.01</td>\n",
              "      <td>-6.891132</td>\n",
              "      <td>0.981579</td>\n",
              "      <td>-6.760438</td>\n",
              "      <td>0.445884</td>\n",
              "    </tr>\n",
              "    <tr>\n",
              "      <th>7</th>\n",
              "      <td>0.1</td>\n",
              "      <td>0.1</td>\n",
              "      <td>-6.846741</td>\n",
              "      <td>0.922911</td>\n",
              "      <td>-6.762024</td>\n",
              "      <td>0.445838</td>\n",
              "    </tr>\n",
              "    <tr>\n",
              "      <th>8</th>\n",
              "      <td>0.1</td>\n",
              "      <td>1</td>\n",
              "      <td>-6.849989</td>\n",
              "      <td>0.911426</td>\n",
              "      <td>-6.766891</td>\n",
              "      <td>0.446364</td>\n",
              "    </tr>\n",
              "    <tr>\n",
              "      <th>9</th>\n",
              "      <td>1</td>\n",
              "      <td>0.01</td>\n",
              "      <td>-6.847806</td>\n",
              "      <td>0.915853</td>\n",
              "      <td>-6.765857</td>\n",
              "      <td>0.446318</td>\n",
              "    </tr>\n",
              "    <tr>\n",
              "      <th>10</th>\n",
              "      <td>1</td>\n",
              "      <td>0.1</td>\n",
              "      <td>-6.849806</td>\n",
              "      <td>0.902225</td>\n",
              "      <td>-6.770848</td>\n",
              "      <td>0.446540</td>\n",
              "    </tr>\n",
              "    <tr>\n",
              "      <th>11</th>\n",
              "      <td>1</td>\n",
              "      <td>1</td>\n",
              "      <td>-6.927928</td>\n",
              "      <td>0.794401</td>\n",
              "      <td>-6.866240</td>\n",
              "      <td>0.445827</td>\n",
              "    </tr>\n",
              "    <tr>\n",
              "      <th>12</th>\n",
              "      <td>10</td>\n",
              "      <td>0.01</td>\n",
              "      <td>-6.950245</td>\n",
              "      <td>0.803917</td>\n",
              "      <td>-6.897457</td>\n",
              "      <td>0.445746</td>\n",
              "    </tr>\n",
              "    <tr>\n",
              "      <th>13</th>\n",
              "      <td>10</td>\n",
              "      <td>0.1</td>\n",
              "      <td>-7.139641</td>\n",
              "      <td>0.721879</td>\n",
              "      <td>-7.099201</td>\n",
              "      <td>0.440689</td>\n",
              "    </tr>\n",
              "    <tr>\n",
              "      <th>14</th>\n",
              "      <td>10</td>\n",
              "      <td>1</td>\n",
              "      <td>-14.261981</td>\n",
              "      <td>0.461892</td>\n",
              "      <td>-14.261053</td>\n",
              "      <td>0.230800</td>\n",
              "    </tr>\n",
              "    <tr>\n",
              "      <th>15</th>\n",
              "      <td>0.05</td>\n",
              "      <td>0.01</td>\n",
              "      <td>-6.921386</td>\n",
              "      <td>1.020695</td>\n",
              "      <td>-6.760117</td>\n",
              "      <td>0.445865</td>\n",
              "    </tr>\n",
              "    <tr>\n",
              "      <th>16</th>\n",
              "      <td>0.05</td>\n",
              "      <td>0.1</td>\n",
              "      <td>-6.867403</td>\n",
              "      <td>0.950739</td>\n",
              "      <td>-6.760775</td>\n",
              "      <td>0.445790</td>\n",
              "    </tr>\n",
              "    <tr>\n",
              "      <th>17</th>\n",
              "      <td>0.05</td>\n",
              "      <td>1</td>\n",
              "      <td>-6.849541</td>\n",
              "      <td>0.918229</td>\n",
              "      <td>-6.765057</td>\n",
              "      <td>0.446237</td>\n",
              "    </tr>\n",
              "    <tr>\n",
              "      <th>18</th>\n",
              "      <td>0.5</td>\n",
              "      <td>0.01</td>\n",
              "      <td>-6.853537</td>\n",
              "      <td>0.929686</td>\n",
              "      <td>-6.762804</td>\n",
              "      <td>0.446097</td>\n",
              "    </tr>\n",
              "    <tr>\n",
              "      <th>19</th>\n",
              "      <td>0.5</td>\n",
              "      <td>0.1</td>\n",
              "      <td>-6.848433</td>\n",
              "      <td>0.913771</td>\n",
              "      <td>-6.766142</td>\n",
              "      <td>0.446294</td>\n",
              "    </tr>\n",
              "    <tr>\n",
              "      <th>20</th>\n",
              "      <td>0.5</td>\n",
              "      <td>1</td>\n",
              "      <td>-6.866858</td>\n",
              "      <td>0.855795</td>\n",
              "      <td>-6.793586</td>\n",
              "      <td>0.447572</td>\n",
              "    </tr>\n",
              "  </tbody>\n",
              "</table>\n",
              "</div>"
            ],
            "text/plain": [
              "   param_alpha param_l1_ratio  ...  mean_train_score  std_train_score\n",
              "0        0.001           0.01  ...         -6.759825         0.445865\n",
              "1        0.001            0.1  ...         -6.759842         0.445875\n",
              "2        0.001              1  ...         -6.759922         0.445868\n",
              "3         0.01           0.01  ...         -6.759879         0.445881\n",
              "4         0.01            0.1  ...         -6.759961         0.445856\n",
              "5         0.01              1  ...         -6.761565         0.445658\n",
              "6          0.1           0.01  ...         -6.760438         0.445884\n",
              "7          0.1            0.1  ...         -6.762024         0.445838\n",
              "8          0.1              1  ...         -6.766891         0.446364\n",
              "9            1           0.01  ...         -6.765857         0.446318\n",
              "10           1            0.1  ...         -6.770848         0.446540\n",
              "11           1              1  ...         -6.866240         0.445827\n",
              "12          10           0.01  ...         -6.897457         0.445746\n",
              "13          10            0.1  ...         -7.099201         0.440689\n",
              "14          10              1  ...        -14.261053         0.230800\n",
              "15        0.05           0.01  ...         -6.760117         0.445865\n",
              "16        0.05            0.1  ...         -6.760775         0.445790\n",
              "17        0.05              1  ...         -6.765057         0.446237\n",
              "18         0.5           0.01  ...         -6.762804         0.446097\n",
              "19         0.5            0.1  ...         -6.766142         0.446294\n",
              "20         0.5              1  ...         -6.793586         0.447572\n",
              "\n",
              "[21 rows x 6 columns]"
            ]
          },
          "metadata": {
            "tags": []
          },
          "execution_count": 18
        }
      ]
    },
    {
      "cell_type": "code",
      "metadata": {
        "colab": {
          "base_uri": "https://localhost:8080/"
        },
        "id": "VEnawHl_ml6U",
        "outputId": "b3ef004e-711c-496d-808f-1453b70f54de"
      },
      "source": [
        "clf.best_params_"
      ],
      "execution_count": null,
      "outputs": [
        {
          "output_type": "execute_result",
          "data": {
            "text/plain": [
              "{'alpha': 0.1, 'l1_ratio': 0.1}"
            ]
          },
          "metadata": {
            "tags": []
          },
          "execution_count": 22
        }
      ]
    },
    {
      "cell_type": "code",
      "metadata": {
        "colab": {
          "base_uri": "https://localhost:8080/"
        },
        "id": "xTbvOVCKml6V",
        "outputId": "2ce731c7-c79b-43aa-81ae-bc8e75346674"
      },
      "source": [
        "model_2 = ElasticNet(alpha=10,l1_ratio=1,max_iter=250)\r\n",
        "model_2.fit(k2_train, k2_test)"
      ],
      "execution_count": 19,
      "outputs": [
        {
          "output_type": "execute_result",
          "data": {
            "text/plain": [
              "ElasticNet(alpha=10, copy_X=True, fit_intercept=True, l1_ratio=1, max_iter=250,\n",
              "           normalize=False, positive=False, precompute=False, random_state=None,\n",
              "           selection='cyclic', tol=0.0001, warm_start=False)"
            ]
          },
          "metadata": {
            "tags": []
          },
          "execution_count": 19
        }
      ]
    },
    {
      "cell_type": "code",
      "metadata": {
        "id": "8WLYjnWbmlYQ"
      },
      "source": [
        ""
      ],
      "execution_count": null,
      "outputs": []
    },
    {
      "cell_type": "code",
      "metadata": {
        "id": "eMiYlP2zrAO5"
      },
      "source": [
        ""
      ],
      "execution_count": null,
      "outputs": []
    },
    {
      "cell_type": "code",
      "metadata": {
        "colab": {
          "base_uri": "https://localhost:8080/"
        },
        "id": "gPCPBfrQrCjm",
        "outputId": "2753426a-80c7-4482-c57d-11cd78589452"
      },
      "source": [
        "model_3 = LinearRegression(n_jobs=-1)\r\n",
        "model_3.fit(k3_train, k3_test)"
      ],
      "execution_count": 20,
      "outputs": [
        {
          "output_type": "execute_result",
          "data": {
            "text/plain": [
              "LinearRegression(copy_X=True, fit_intercept=True, n_jobs=-1, normalize=False)"
            ]
          },
          "metadata": {
            "tags": []
          },
          "execution_count": 20
        }
      ]
    },
    {
      "cell_type": "code",
      "metadata": {
        "id": "engK0Ozxrn4m"
      },
      "source": [
        ""
      ],
      "execution_count": null,
      "outputs": []
    },
    {
      "cell_type": "code",
      "metadata": {
        "id": "ba0MreC_r5nm"
      },
      "source": [
        ""
      ],
      "execution_count": null,
      "outputs": []
    },
    {
      "cell_type": "code",
      "metadata": {
        "id": "UDucHAcer9H5"
      },
      "source": [
        "a = pd.DataFrame()\r\n",
        "for i in range(7):    \r\n",
        "    params = {'learning_rate' : np.round(np.random.rand(1)/10,3).tolist(),\r\n",
        "            'min_data_in_leaf' : np.random.randint(30,113, size=1).tolist()}\r\n",
        "\r\n",
        "    cat_boost = CatBoostRegressor(logging_level=\"Silent\", iterations=130)\r\n",
        "    clf = GridSearchCV(estimator=cat_boost, param_grid=params, scoring='neg_mean_squared_error', cv=3, n_jobs=-1, return_train_score=True)\r\n",
        "    clf.fit(k4_train, k4_test)\r\n",
        "    b = pd.DataFrame(clf.cv_results_)\r\n",
        "    a = pd.concat([a,b])"
      ],
      "execution_count": 21,
      "outputs": []
    },
    {
      "cell_type": "code",
      "metadata": {
        "colab": {
          "base_uri": "https://localhost:8080/",
          "height": 627
        },
        "id": "HZuq9Y8V26ag",
        "outputId": "3a3e82e1-4407-46a9-faee-6d6597f33122"
      },
      "source": [
        "a['diff'] = a['mean_test_score'] - a['mean_train_score']\r\n",
        "a"
      ],
      "execution_count": 22,
      "outputs": [
        {
          "output_type": "execute_result",
          "data": {
            "text/html": [
              "<div>\n",
              "<style scoped>\n",
              "    .dataframe tbody tr th:only-of-type {\n",
              "        vertical-align: middle;\n",
              "    }\n",
              "\n",
              "    .dataframe tbody tr th {\n",
              "        vertical-align: top;\n",
              "    }\n",
              "\n",
              "    .dataframe thead th {\n",
              "        text-align: right;\n",
              "    }\n",
              "</style>\n",
              "<table border=\"1\" class=\"dataframe\">\n",
              "  <thead>\n",
              "    <tr style=\"text-align: right;\">\n",
              "      <th></th>\n",
              "      <th>mean_fit_time</th>\n",
              "      <th>std_fit_time</th>\n",
              "      <th>mean_score_time</th>\n",
              "      <th>std_score_time</th>\n",
              "      <th>param_learning_rate</th>\n",
              "      <th>param_min_data_in_leaf</th>\n",
              "      <th>params</th>\n",
              "      <th>split0_test_score</th>\n",
              "      <th>split1_test_score</th>\n",
              "      <th>split2_test_score</th>\n",
              "      <th>mean_test_score</th>\n",
              "      <th>std_test_score</th>\n",
              "      <th>rank_test_score</th>\n",
              "      <th>split0_train_score</th>\n",
              "      <th>split1_train_score</th>\n",
              "      <th>split2_train_score</th>\n",
              "      <th>mean_train_score</th>\n",
              "      <th>std_train_score</th>\n",
              "      <th>diff</th>\n",
              "    </tr>\n",
              "  </thead>\n",
              "  <tbody>\n",
              "    <tr>\n",
              "      <th>0</th>\n",
              "      <td>204.562277</td>\n",
              "      <td>4.050206</td>\n",
              "      <td>8.234098</td>\n",
              "      <td>1.681667</td>\n",
              "      <td>0.08</td>\n",
              "      <td>64</td>\n",
              "      <td>{'learning_rate': 0.08, 'min_data_in_leaf': 64}</td>\n",
              "      <td>-7.655887</td>\n",
              "      <td>-6.357202</td>\n",
              "      <td>-5.657410</td>\n",
              "      <td>-6.556833</td>\n",
              "      <td>0.827996</td>\n",
              "      <td>1</td>\n",
              "      <td>-5.333362</td>\n",
              "      <td>-5.757166</td>\n",
              "      <td>-6.031544</td>\n",
              "      <td>-5.707357</td>\n",
              "      <td>0.287200</td>\n",
              "      <td>-0.849476</td>\n",
              "    </tr>\n",
              "    <tr>\n",
              "      <th>0</th>\n",
              "      <td>195.732081</td>\n",
              "      <td>2.392888</td>\n",
              "      <td>7.542417</td>\n",
              "      <td>0.209229</td>\n",
              "      <td>0.01</td>\n",
              "      <td>58</td>\n",
              "      <td>{'learning_rate': 0.01, 'min_data_in_leaf': 58}</td>\n",
              "      <td>-8.498353</td>\n",
              "      <td>-7.615193</td>\n",
              "      <td>-6.611726</td>\n",
              "      <td>-7.575091</td>\n",
              "      <td>0.770734</td>\n",
              "      <td>1</td>\n",
              "      <td>-6.860466</td>\n",
              "      <td>-7.419506</td>\n",
              "      <td>-7.804727</td>\n",
              "      <td>-7.361566</td>\n",
              "      <td>0.387664</td>\n",
              "      <td>-0.213525</td>\n",
              "    </tr>\n",
              "    <tr>\n",
              "      <th>0</th>\n",
              "      <td>203.481364</td>\n",
              "      <td>3.411693</td>\n",
              "      <td>7.841384</td>\n",
              "      <td>1.339718</td>\n",
              "      <td>0.062</td>\n",
              "      <td>85</td>\n",
              "      <td>{'learning_rate': 0.062, 'min_data_in_leaf': 85}</td>\n",
              "      <td>-7.625060</td>\n",
              "      <td>-6.370864</td>\n",
              "      <td>-5.687565</td>\n",
              "      <td>-6.561163</td>\n",
              "      <td>0.802343</td>\n",
              "      <td>1</td>\n",
              "      <td>-5.412312</td>\n",
              "      <td>-5.855130</td>\n",
              "      <td>-6.141463</td>\n",
              "      <td>-5.802968</td>\n",
              "      <td>0.299951</td>\n",
              "      <td>-0.758194</td>\n",
              "    </tr>\n",
              "    <tr>\n",
              "      <th>0</th>\n",
              "      <td>201.468571</td>\n",
              "      <td>7.448985</td>\n",
              "      <td>8.829461</td>\n",
              "      <td>2.508677</td>\n",
              "      <td>0.076</td>\n",
              "      <td>45</td>\n",
              "      <td>{'learning_rate': 0.076, 'min_data_in_leaf': 45}</td>\n",
              "      <td>-7.616364</td>\n",
              "      <td>-6.363570</td>\n",
              "      <td>-5.670653</td>\n",
              "      <td>-6.550196</td>\n",
              "      <td>0.805220</td>\n",
              "      <td>1</td>\n",
              "      <td>-5.345266</td>\n",
              "      <td>-5.768852</td>\n",
              "      <td>-6.052817</td>\n",
              "      <td>-5.722312</td>\n",
              "      <td>0.290725</td>\n",
              "      <td>-0.827884</td>\n",
              "    </tr>\n",
              "    <tr>\n",
              "      <th>0</th>\n",
              "      <td>206.265570</td>\n",
              "      <td>6.867411</td>\n",
              "      <td>8.409604</td>\n",
              "      <td>2.059425</td>\n",
              "      <td>0.085</td>\n",
              "      <td>84</td>\n",
              "      <td>{'learning_rate': 0.085, 'min_data_in_leaf': 84}</td>\n",
              "      <td>-7.613725</td>\n",
              "      <td>-6.354042</td>\n",
              "      <td>-5.639351</td>\n",
              "      <td>-6.535706</td>\n",
              "      <td>0.816207</td>\n",
              "      <td>1</td>\n",
              "      <td>-5.325782</td>\n",
              "      <td>-5.740524</td>\n",
              "      <td>-6.003460</td>\n",
              "      <td>-5.689922</td>\n",
              "      <td>0.278965</td>\n",
              "      <td>-0.845784</td>\n",
              "    </tr>\n",
              "    <tr>\n",
              "      <th>0</th>\n",
              "      <td>200.146811</td>\n",
              "      <td>4.288425</td>\n",
              "      <td>8.262067</td>\n",
              "      <td>0.788359</td>\n",
              "      <td>0.041</td>\n",
              "      <td>43</td>\n",
              "      <td>{'learning_rate': 0.041, 'min_data_in_leaf': 43}</td>\n",
              "      <td>-7.667145</td>\n",
              "      <td>-6.418632</td>\n",
              "      <td>-5.650671</td>\n",
              "      <td>-6.578816</td>\n",
              "      <td>0.830978</td>\n",
              "      <td>1</td>\n",
              "      <td>-5.519991</td>\n",
              "      <td>-6.027504</td>\n",
              "      <td>-6.313399</td>\n",
              "      <td>-5.953631</td>\n",
              "      <td>0.328092</td>\n",
              "      <td>-0.625185</td>\n",
              "    </tr>\n",
              "    <tr>\n",
              "      <th>0</th>\n",
              "      <td>197.601803</td>\n",
              "      <td>2.459887</td>\n",
              "      <td>7.341037</td>\n",
              "      <td>0.643270</td>\n",
              "      <td>0.03</td>\n",
              "      <td>96</td>\n",
              "      <td>{'learning_rate': 0.03, 'min_data_in_leaf': 96}</td>\n",
              "      <td>-7.691362</td>\n",
              "      <td>-6.477534</td>\n",
              "      <td>-5.687901</td>\n",
              "      <td>-6.618932</td>\n",
              "      <td>0.823998</td>\n",
              "      <td>1</td>\n",
              "      <td>-5.637971</td>\n",
              "      <td>-6.175413</td>\n",
              "      <td>-6.472258</td>\n",
              "      <td>-6.095214</td>\n",
              "      <td>0.345285</td>\n",
              "      <td>-0.523718</td>\n",
              "    </tr>\n",
              "  </tbody>\n",
              "</table>\n",
              "</div>"
            ],
            "text/plain": [
              "   mean_fit_time  std_fit_time  ...  std_train_score      diff\n",
              "0     204.562277      4.050206  ...         0.287200 -0.849476\n",
              "0     195.732081      2.392888  ...         0.387664 -0.213525\n",
              "0     203.481364      3.411693  ...         0.299951 -0.758194\n",
              "0     201.468571      7.448985  ...         0.290725 -0.827884\n",
              "0     206.265570      6.867411  ...         0.278965 -0.845784\n",
              "0     200.146811      4.288425  ...         0.328092 -0.625185\n",
              "0     197.601803      2.459887  ...         0.345285 -0.523718\n",
              "\n",
              "[7 rows x 19 columns]"
            ]
          },
          "metadata": {
            "tags": []
          },
          "execution_count": 22
        }
      ]
    },
    {
      "cell_type": "code",
      "metadata": {
        "colab": {
          "base_uri": "https://localhost:8080/"
        },
        "id": "_xUTr636r9H_",
        "outputId": "6318f4a1-d2b1-4759-9cfb-c0f9e05d5674"
      },
      "source": [
        "model_4 = CatBoostRegressor(learning_rate =  0.01, min_data_in_leaf =  58, logging_level=\"Silent\", iterations=130)\r\n",
        "model_4.fit(k4_train, k4_test)"
      ],
      "execution_count": 23,
      "outputs": [
        {
          "output_type": "execute_result",
          "data": {
            "text/plain": [
              "<catboost.core.CatBoostRegressor at 0x7fcfefea54a8>"
            ]
          },
          "metadata": {
            "tags": []
          },
          "execution_count": 23
        }
      ]
    },
    {
      "cell_type": "code",
      "metadata": {
        "id": "oMPjEuHLQTCM"
      },
      "source": [
        ""
      ],
      "execution_count": null,
      "outputs": []
    },
    {
      "cell_type": "code",
      "metadata": {
        "id": "OeEL4z2Mbhp_"
      },
      "source": [
        ""
      ],
      "execution_count": null,
      "outputs": []
    },
    {
      "cell_type": "code",
      "metadata": {
        "id": "CG-aXOAUbhgT"
      },
      "source": [
        ""
      ],
      "execution_count": null,
      "outputs": []
    },
    {
      "cell_type": "code",
      "metadata": {
        "id": "Sv1RWqnfbiY8"
      },
      "source": [
        "a = pd.DataFrame()\r\n",
        "for i in range(7):    \r\n",
        "    params = {'learning_rate' : np.round(np.random.rand(1)/10,3).tolist(),\r\n",
        "              'min_data_in_leaf' : np.random.randint(30,113, size=1).tolist(),\r\n",
        "              'num_leaves' : np.random.randint(30,120, size=1).tolist()}\r\n",
        "\r\n",
        "    lgbm = LGBMRegressor()\r\n",
        "    clf = GridSearchCV(estimator=lgbm, param_grid=params, scoring='neg_mean_squared_error', cv=3, n_jobs=-1, return_train_score=True)\r\n",
        "    clf.fit(k5_train, k5_test)\r\n",
        "    b = pd.DataFrame(clf.cv_results_)\r\n",
        "    a = pd.concat([a,b])"
      ],
      "execution_count": 24,
      "outputs": []
    },
    {
      "cell_type": "code",
      "metadata": {
        "colab": {
          "base_uri": "https://localhost:8080/",
          "height": 627
        },
        "id": "Re5Wf3XMbiY8",
        "outputId": "8ad952d3-eaff-4aa0-b66f-c920c0075c34"
      },
      "source": [
        "a['diff'] = a['mean_test_score'] - a['mean_train_score']\r\n",
        "a"
      ],
      "execution_count": 25,
      "outputs": [
        {
          "output_type": "execute_result",
          "data": {
            "text/html": [
              "<div>\n",
              "<style scoped>\n",
              "    .dataframe tbody tr th:only-of-type {\n",
              "        vertical-align: middle;\n",
              "    }\n",
              "\n",
              "    .dataframe tbody tr th {\n",
              "        vertical-align: top;\n",
              "    }\n",
              "\n",
              "    .dataframe thead th {\n",
              "        text-align: right;\n",
              "    }\n",
              "</style>\n",
              "<table border=\"1\" class=\"dataframe\">\n",
              "  <thead>\n",
              "    <tr style=\"text-align: right;\">\n",
              "      <th></th>\n",
              "      <th>mean_fit_time</th>\n",
              "      <th>std_fit_time</th>\n",
              "      <th>mean_score_time</th>\n",
              "      <th>std_score_time</th>\n",
              "      <th>param_learning_rate</th>\n",
              "      <th>param_min_data_in_leaf</th>\n",
              "      <th>param_num_leaves</th>\n",
              "      <th>params</th>\n",
              "      <th>split0_test_score</th>\n",
              "      <th>split1_test_score</th>\n",
              "      <th>split2_test_score</th>\n",
              "      <th>mean_test_score</th>\n",
              "      <th>std_test_score</th>\n",
              "      <th>rank_test_score</th>\n",
              "      <th>split0_train_score</th>\n",
              "      <th>split1_train_score</th>\n",
              "      <th>split2_train_score</th>\n",
              "      <th>mean_train_score</th>\n",
              "      <th>std_train_score</th>\n",
              "      <th>diff</th>\n",
              "    </tr>\n",
              "  </thead>\n",
              "  <tbody>\n",
              "    <tr>\n",
              "      <th>0</th>\n",
              "      <td>146.360600</td>\n",
              "      <td>3.862081</td>\n",
              "      <td>19.917107</td>\n",
              "      <td>2.175597</td>\n",
              "      <td>0.089</td>\n",
              "      <td>92</td>\n",
              "      <td>79</td>\n",
              "      <td>{'learning_rate': 0.089, 'min_data_in_leaf': 9...</td>\n",
              "      <td>-7.434892</td>\n",
              "      <td>-6.621093</td>\n",
              "      <td>-6.229270</td>\n",
              "      <td>-6.761752</td>\n",
              "      <td>0.502142</td>\n",
              "      <td>1</td>\n",
              "      <td>-4.892678</td>\n",
              "      <td>-5.186086</td>\n",
              "      <td>-5.336751</td>\n",
              "      <td>-5.138505</td>\n",
              "      <td>0.184388</td>\n",
              "      <td>-1.623247</td>\n",
              "    </tr>\n",
              "    <tr>\n",
              "      <th>0</th>\n",
              "      <td>125.157988</td>\n",
              "      <td>2.091329</td>\n",
              "      <td>15.555063</td>\n",
              "      <td>0.771899</td>\n",
              "      <td>0.074</td>\n",
              "      <td>77</td>\n",
              "      <td>49</td>\n",
              "      <td>{'learning_rate': 0.074, 'min_data_in_leaf': 7...</td>\n",
              "      <td>-7.436129</td>\n",
              "      <td>-6.556936</td>\n",
              "      <td>-6.082465</td>\n",
              "      <td>-6.691843</td>\n",
              "      <td>0.560804</td>\n",
              "      <td>1</td>\n",
              "      <td>-5.127670</td>\n",
              "      <td>-5.454839</td>\n",
              "      <td>-5.604500</td>\n",
              "      <td>-5.395670</td>\n",
              "      <td>0.199110</td>\n",
              "      <td>-1.296173</td>\n",
              "    </tr>\n",
              "    <tr>\n",
              "      <th>0</th>\n",
              "      <td>138.036163</td>\n",
              "      <td>2.092514</td>\n",
              "      <td>17.294474</td>\n",
              "      <td>1.237736</td>\n",
              "      <td>0.022</td>\n",
              "      <td>100</td>\n",
              "      <td>46</td>\n",
              "      <td>{'learning_rate': 0.022, 'min_data_in_leaf': 1...</td>\n",
              "      <td>-7.507970</td>\n",
              "      <td>-6.812343</td>\n",
              "      <td>-6.057160</td>\n",
              "      <td>-6.792491</td>\n",
              "      <td>0.592457</td>\n",
              "      <td>1</td>\n",
              "      <td>-5.835271</td>\n",
              "      <td>-6.259846</td>\n",
              "      <td>-6.469700</td>\n",
              "      <td>-6.188272</td>\n",
              "      <td>0.263903</td>\n",
              "      <td>-0.604219</td>\n",
              "    </tr>\n",
              "    <tr>\n",
              "      <th>0</th>\n",
              "      <td>152.460183</td>\n",
              "      <td>3.376623</td>\n",
              "      <td>18.949485</td>\n",
              "      <td>1.357921</td>\n",
              "      <td>0.034</td>\n",
              "      <td>100</td>\n",
              "      <td>78</td>\n",
              "      <td>{'learning_rate': 0.034, 'min_data_in_leaf': 1...</td>\n",
              "      <td>-7.405523</td>\n",
              "      <td>-6.560276</td>\n",
              "      <td>-6.034026</td>\n",
              "      <td>-6.666608</td>\n",
              "      <td>0.564937</td>\n",
              "      <td>1</td>\n",
              "      <td>-5.389676</td>\n",
              "      <td>-5.774196</td>\n",
              "      <td>-5.955057</td>\n",
              "      <td>-5.706310</td>\n",
              "      <td>0.235754</td>\n",
              "      <td>-0.960298</td>\n",
              "    </tr>\n",
              "    <tr>\n",
              "      <th>0</th>\n",
              "      <td>143.962533</td>\n",
              "      <td>3.311683</td>\n",
              "      <td>16.168720</td>\n",
              "      <td>0.745065</td>\n",
              "      <td>0.005</td>\n",
              "      <td>80</td>\n",
              "      <td>42</td>\n",
              "      <td>{'learning_rate': 0.005, 'min_data_in_leaf': 8...</td>\n",
              "      <td>-10.182938</td>\n",
              "      <td>-9.939481</td>\n",
              "      <td>-9.036646</td>\n",
              "      <td>-9.719688</td>\n",
              "      <td>0.493104</td>\n",
              "      <td>1</td>\n",
              "      <td>-9.172816</td>\n",
              "      <td>-9.473449</td>\n",
              "      <td>-9.800658</td>\n",
              "      <td>-9.482308</td>\n",
              "      <td>0.256392</td>\n",
              "      <td>-0.237381</td>\n",
              "    </tr>\n",
              "    <tr>\n",
              "      <th>0</th>\n",
              "      <td>163.437983</td>\n",
              "      <td>1.338426</td>\n",
              "      <td>19.422637</td>\n",
              "      <td>0.258524</td>\n",
              "      <td>0.013</td>\n",
              "      <td>68</td>\n",
              "      <td>71</td>\n",
              "      <td>{'learning_rate': 0.013, 'min_data_in_leaf': 6...</td>\n",
              "      <td>-7.962132</td>\n",
              "      <td>-7.481812</td>\n",
              "      <td>-6.635393</td>\n",
              "      <td>-7.359779</td>\n",
              "      <td>0.548470</td>\n",
              "      <td>1</td>\n",
              "      <td>-6.471019</td>\n",
              "      <td>-6.851560</td>\n",
              "      <td>-7.081490</td>\n",
              "      <td>-6.801356</td>\n",
              "      <td>0.251739</td>\n",
              "      <td>-0.558422</td>\n",
              "    </tr>\n",
              "    <tr>\n",
              "      <th>0</th>\n",
              "      <td>114.960509</td>\n",
              "      <td>2.287053</td>\n",
              "      <td>13.443021</td>\n",
              "      <td>1.001593</td>\n",
              "      <td>0.055</td>\n",
              "      <td>41</td>\n",
              "      <td>31</td>\n",
              "      <td>{'learning_rate': 0.055, 'min_data_in_leaf': 4...</td>\n",
              "      <td>-7.386535</td>\n",
              "      <td>-6.557217</td>\n",
              "      <td>-5.964029</td>\n",
              "      <td>-6.635927</td>\n",
              "      <td>0.583396</td>\n",
              "      <td>1</td>\n",
              "      <td>-5.339150</td>\n",
              "      <td>-5.667614</td>\n",
              "      <td>-5.854938</td>\n",
              "      <td>-5.620567</td>\n",
              "      <td>0.213181</td>\n",
              "      <td>-1.015360</td>\n",
              "    </tr>\n",
              "  </tbody>\n",
              "</table>\n",
              "</div>"
            ],
            "text/plain": [
              "   mean_fit_time  std_fit_time  ...  std_train_score      diff\n",
              "0     146.360600      3.862081  ...         0.184388 -1.623247\n",
              "0     125.157988      2.091329  ...         0.199110 -1.296173\n",
              "0     138.036163      2.092514  ...         0.263903 -0.604219\n",
              "0     152.460183      3.376623  ...         0.235754 -0.960298\n",
              "0     143.962533      3.311683  ...         0.256392 -0.237381\n",
              "0     163.437983      1.338426  ...         0.251739 -0.558422\n",
              "0     114.960509      2.287053  ...         0.213181 -1.015360\n",
              "\n",
              "[7 rows x 20 columns]"
            ]
          },
          "metadata": {
            "tags": []
          },
          "execution_count": 25
        }
      ]
    },
    {
      "cell_type": "code",
      "metadata": {
        "colab": {
          "base_uri": "https://localhost:8080/"
        },
        "id": "DaO2fUeDbiY9",
        "outputId": "335d081f-8bdf-4a3f-b032-c5229605aaf2"
      },
      "source": [
        "model_5 = LGBMRegressor(learning_rate =  0.005, min_data_in_leaf =  80, num_leaves = 42)\r\n",
        "model_5.fit(k5_train, k5_test)"
      ],
      "execution_count": 26,
      "outputs": [
        {
          "output_type": "execute_result",
          "data": {
            "text/plain": [
              "LGBMRegressor(boosting_type='gbdt', class_weight=None, colsample_bytree=1.0,\n",
              "              importance_type='split', learning_rate=0.005, max_depth=-1,\n",
              "              min_child_samples=20, min_child_weight=0.001, min_data_in_leaf=80,\n",
              "              min_split_gain=0.0, n_estimators=100, n_jobs=-1, num_leaves=42,\n",
              "              objective=None, random_state=None, reg_alpha=0.0, reg_lambda=0.0,\n",
              "              silent=True, subsample=1.0, subsample_for_bin=200000,\n",
              "              subsample_freq=0)"
            ]
          },
          "metadata": {
            "tags": []
          },
          "execution_count": 26
        }
      ]
    },
    {
      "cell_type": "code",
      "metadata": {
        "id": "IvMNyw43QuiG"
      },
      "source": [
        "filename = 'copy_globalsave.pkl'\r\n",
        "dill.dump_session(filename)"
      ],
      "execution_count": 28,
      "outputs": []
    },
    {
      "cell_type": "code",
      "metadata": {
        "id": "8cJrQeT1RFks"
      },
      "source": [
        "!cp copy_globalsave.pkl /content/drive/MyDrive"
      ],
      "execution_count": null,
      "outputs": []
    },
    {
      "cell_type": "code",
      "metadata": {
        "id": "uo4nsM4bRYQ2"
      },
      "source": [
        "dill.load_session('/content/drive/MyDrive/globalsave.pkl')"
      ],
      "execution_count": null,
      "outputs": []
    },
    {
      "cell_type": "code",
      "metadata": {
        "id": "GYkcFeVvoUgU"
      },
      "source": [
        "for i in range(1,6):\r\n",
        "    pickle_out = open(\"model_\"+str(i)+\".pickle\",\"wb\")\r\n",
        "    pickle.dump(globals()['model_'+str(i)], pickle_out)\r\n",
        "    pickle_out.close()"
      ],
      "execution_count": null,
      "outputs": []
    },
    {
      "cell_type": "code",
      "metadata": {
        "id": "r6BhN4YppKt9"
      },
      "source": [
        "!cp model_1.pickle /content/drive/MyDrive\r\n",
        "!cp model_2.pickle /content/drive/MyDrive\r\n",
        "!cp model_3.pickle /content/drive/MyDrive\r\n",
        "!cp model_4.pickle /content/drive/MyDrive\r\n",
        "!cp model_5.pickle /content/drive/MyDrive"
      ],
      "execution_count": null,
      "outputs": []
    },
    {
      "cell_type": "code",
      "metadata": {
        "id": "lCHPi3g4rOLe"
      },
      "source": [
        "model_1 = pickle.load(open('model_1.pickle','rb'))\r\n",
        "model_2 = pickle.load(open('model_2.pickle','rb'))\r\n",
        "model_3 = pickle.load(open('model_3.pickle','rb'))\r\n",
        "model_4 = pickle.load(open('model_4.pickle','rb'))\r\n",
        "model_5 = pickle.load(open('model_5.pickle','rb'))"
      ],
      "execution_count": null,
      "outputs": []
    },
    {
      "cell_type": "code",
      "metadata": {
        "id": "qaevt58ObiY9"
      },
      "source": [
        "k1_pred = pd.Series(model_1.predict(X_train_D2))\r\n",
        "k2_pred = pd.Series(model_2.predict(X_train_D2))\r\n",
        "k3_pred = pd.Series(model_3.predict(X_train_D2))\r\n",
        "k4_pred = pd.Series(model_4.predict(X_train_D2))\r\n",
        "k5_pred = pd.Series(model_5.predict(X_train_D2))"
      ],
      "execution_count": 29,
      "outputs": []
    },
    {
      "cell_type": "code",
      "metadata": {
        "colab": {
          "base_uri": "https://localhost:8080/",
          "height": 106
        },
        "id": "If97SVSXplgO",
        "outputId": "c19cbd49-9c6d-4633-fdb4-daa327d975fc"
      },
      "source": [
        "X_train_D2_pred = pd.concat([pd.DataFrame(k1_pred, columns=['k1_pred']), pd.DataFrame(k2_pred,columns=['k2_pred']),\\\r\n",
        "           pd.DataFrame(k3_pred,columns=['k3_pred']),pd.DataFrame(k4_pred,columns=['k4_pred']),\\\r\n",
        "           pd.DataFrame(k5_pred,columns=['k5_pred'])],axis=1)\r\n",
        "\r\n",
        "X_train_D2_pred.head(2)"
      ],
      "execution_count": 30,
      "outputs": [
        {
          "output_type": "execute_result",
          "data": {
            "text/html": [
              "<div>\n",
              "<style scoped>\n",
              "    .dataframe tbody tr th:only-of-type {\n",
              "        vertical-align: middle;\n",
              "    }\n",
              "\n",
              "    .dataframe tbody tr th {\n",
              "        vertical-align: top;\n",
              "    }\n",
              "\n",
              "    .dataframe thead th {\n",
              "        text-align: right;\n",
              "    }\n",
              "</style>\n",
              "<table border=\"1\" class=\"dataframe\">\n",
              "  <thead>\n",
              "    <tr style=\"text-align: right;\">\n",
              "      <th></th>\n",
              "      <th>k1_pred</th>\n",
              "      <th>k2_pred</th>\n",
              "      <th>k3_pred</th>\n",
              "      <th>k4_pred</th>\n",
              "      <th>k5_pred</th>\n",
              "    </tr>\n",
              "  </thead>\n",
              "  <tbody>\n",
              "    <tr>\n",
              "      <th>0</th>\n",
              "      <td>1.213988</td>\n",
              "      <td>1.212713</td>\n",
              "      <td>0.802246</td>\n",
              "      <td>0.677279</td>\n",
              "      <td>0.951471</td>\n",
              "    </tr>\n",
              "    <tr>\n",
              "      <th>1</th>\n",
              "      <td>1.213584</td>\n",
              "      <td>1.212308</td>\n",
              "      <td>0.232422</td>\n",
              "      <td>0.662477</td>\n",
              "      <td>0.824897</td>\n",
              "    </tr>\n",
              "  </tbody>\n",
              "</table>\n",
              "</div>"
            ],
            "text/plain": [
              "    k1_pred   k2_pred   k3_pred   k4_pred   k5_pred\n",
              "0  1.213988  1.212713  0.802246  0.677279  0.951471\n",
              "1  1.213584  1.212308  0.232422  0.662477  0.824897"
            ]
          },
          "metadata": {
            "tags": []
          },
          "execution_count": 30
        }
      ]
    },
    {
      "cell_type": "code",
      "metadata": {
        "id": "afB1vZLWiEmM"
      },
      "source": [
        "test_pred_1 = pd.Series(model_1.predict(X_test))\r\n",
        "test_pred_2 = pd.Series(model_2.predict(X_test))\r\n",
        "test_pred_3 = pd.Series(model_3.predict(X_test))\r\n",
        "test_pred_4 = pd.Series(model_4.predict(X_test))\r\n",
        "test_pred_5 = pd.Series(model_5.predict(X_test))"
      ],
      "execution_count": 31,
      "outputs": []
    },
    {
      "cell_type": "code",
      "metadata": {
        "colab": {
          "base_uri": "https://localhost:8080/",
          "height": 106
        },
        "id": "4CpUT5oVidLR",
        "outputId": "a948348d-5307-496f-bf50-37ad651d9da9"
      },
      "source": [
        "predictions = pd.concat([pd.DataFrame(test_pred_1, columns=['test_pred_1']), pd.DataFrame(test_pred_2,columns=['test_pred_2']),\\\r\n",
        "           pd.DataFrame(test_pred_3,columns=['test_pred_3']),pd.DataFrame(test_pred_4,columns=['test_pred_4']),\\\r\n",
        "           pd.DataFrame(test_pred_5,columns=['test_pred_5'])],axis=1)\r\n",
        "\r\n",
        "predictions.head(2)"
      ],
      "execution_count": 32,
      "outputs": [
        {
          "output_type": "execute_result",
          "data": {
            "text/html": [
              "<div>\n",
              "<style scoped>\n",
              "    .dataframe tbody tr th:only-of-type {\n",
              "        vertical-align: middle;\n",
              "    }\n",
              "\n",
              "    .dataframe tbody tr th {\n",
              "        vertical-align: top;\n",
              "    }\n",
              "\n",
              "    .dataframe thead th {\n",
              "        text-align: right;\n",
              "    }\n",
              "</style>\n",
              "<table border=\"1\" class=\"dataframe\">\n",
              "  <thead>\n",
              "    <tr style=\"text-align: right;\">\n",
              "      <th></th>\n",
              "      <th>test_pred_1</th>\n",
              "      <th>test_pred_2</th>\n",
              "      <th>test_pred_3</th>\n",
              "      <th>test_pred_4</th>\n",
              "      <th>test_pred_5</th>\n",
              "    </tr>\n",
              "  </thead>\n",
              "  <tbody>\n",
              "    <tr>\n",
              "      <th>0</th>\n",
              "      <td>1.213988</td>\n",
              "      <td>1.212713</td>\n",
              "      <td>0.613037</td>\n",
              "      <td>0.662477</td>\n",
              "      <td>0.884894</td>\n",
              "    </tr>\n",
              "    <tr>\n",
              "      <th>1</th>\n",
              "      <td>1.213584</td>\n",
              "      <td>1.212308</td>\n",
              "      <td>1.284668</td>\n",
              "      <td>0.908849</td>\n",
              "      <td>1.077123</td>\n",
              "    </tr>\n",
              "  </tbody>\n",
              "</table>\n",
              "</div>"
            ],
            "text/plain": [
              "   test_pred_1  test_pred_2  test_pred_3  test_pred_4  test_pred_5\n",
              "0     1.213988     1.212713     0.613037     0.662477     0.884894\n",
              "1     1.213584     1.212308     1.284668     0.908849     1.077123"
            ]
          },
          "metadata": {
            "tags": []
          },
          "execution_count": 32
        }
      ]
    },
    {
      "cell_type": "code",
      "metadata": {
        "colab": {
          "base_uri": "https://localhost:8080/"
        },
        "id": "wHLl62-ni7yG",
        "outputId": "815d2b9f-61a3-4d30-c3b2-d8de627a230c"
      },
      "source": [
        "for i in range(15):\r\n",
        "    \r\n",
        "    lr = np.round(np.random.rand()/10,3)\r\n",
        "    num_leaves = np.random.randint(30,150)\r\n",
        "    min_data_in_leaf = np.random.randint(50,150)\r\n",
        "    \r\n",
        "    lgb = LGBMRegressor(learning_rate=lr ,num_leaves=num_leaves ,min_data_in_leaf=min_data_in_leaf)\r\n",
        "    lgb.fit(X_train_D2_pred, y_train_D2)\r\n",
        "    \r\n",
        "    train_pred = lgb.predict(X_train_D2_pred)\r\n",
        "\r\n",
        "    train_m_s_e = mse(y_train_D2,train_pred)\r\n",
        "    # After training the model, we are trying to predict the model on X_val to check it's accuracy\r\n",
        "    y_pred = lgb.predict(predictions)\r\n",
        "    \r\n",
        "    # Now that it has predicted the values for X_val, we are calculating it's rmse\r\n",
        "    m_s_e = mse(y_test,y_pred)\r\n",
        "\r\n",
        "    print(f\"For learning rate {lr}, num_leaves {num_leaves} and min_data_in_leaf {min_data_in_leaf}, the train MSE is {train_m_s_e} and valid MSE is {m_s_e} diff is {m_s_e - train_m_s_e}\")\r\n",
        "    print('*'*80)"
      ],
      "execution_count": 33,
      "outputs": [
        {
          "output_type": "stream",
          "text": [
            "For learning rate 0.078, num_leaves 48 and min_data_in_leaf 98, the train MSE is 5.9338695900842335 and valid MSE is 6.3067652065671 diff is 0.3728956164828663\n",
            "********************************************************************************\n",
            "For learning rate 0.018, num_leaves 109 and min_data_in_leaf 70, the train MSE is 6.152233869162291 and valid MSE is 6.1973920272666625 diff is 0.04515815810437118\n",
            "********************************************************************************\n",
            "For learning rate 0.065, num_leaves 44 and min_data_in_leaf 114, the train MSE is 5.94541817136542 and valid MSE is 6.305807656760331 diff is 0.36038948539491145\n",
            "********************************************************************************\n",
            "For learning rate 0.058, num_leaves 44 and min_data_in_leaf 134, the train MSE is 5.952208137401985 and valid MSE is 6.303939077916421 diff is 0.351730940514436\n",
            "********************************************************************************\n",
            "For learning rate 0.096, num_leaves 138 and min_data_in_leaf 55, the train MSE is 5.879301204101235 and valid MSE is 6.31756063661806 diff is 0.43825943251682453\n",
            "********************************************************************************\n",
            "For learning rate 0.096, num_leaves 73 and min_data_in_leaf 115, the train MSE is 5.911233300285536 and valid MSE is 6.311373013721258 diff is 0.4001397134357214\n",
            "********************************************************************************\n",
            "For learning rate 0.053, num_leaves 117 and min_data_in_leaf 129, the train MSE is 5.920462576111761 and valid MSE is 6.304623240483514 diff is 0.38416066437175367\n",
            "********************************************************************************\n",
            "For learning rate 0.003, num_leaves 110 and min_data_in_leaf 132, the train MSE is 9.559251570129224 and valid MSE is 8.608907744914777 diff is -0.9503438252144463\n",
            "********************************************************************************\n",
            "For learning rate 0.064, num_leaves 146 and min_data_in_leaf 147, the train MSE is 5.905714041098967 and valid MSE is 6.315979630867567 diff is 0.41026558976860006\n",
            "********************************************************************************\n",
            "For learning rate 0.01, num_leaves 146 and min_data_in_leaf 59, the train MSE is 6.859573106979571 and valid MSE is 6.539402372033577 diff is -0.3201707349459939\n",
            "********************************************************************************\n",
            "For learning rate 0.013, num_leaves 34 and min_data_in_leaf 100, the train MSE is 6.513386666314683 and valid MSE is 6.323735961325766 diff is -0.18965070498891734\n",
            "********************************************************************************\n",
            "For learning rate 0.077, num_leaves 46 and min_data_in_leaf 52, the train MSE is 5.932788638162355 and valid MSE is 6.305095754056149 diff is 0.3723071158937934\n",
            "********************************************************************************\n",
            "For learning rate 0.075, num_leaves 63 and min_data_in_leaf 137, the train MSE is 5.925007762842919 and valid MSE is 6.308892188805795 diff is 0.38388442596287575\n",
            "********************************************************************************\n",
            "For learning rate 0.087, num_leaves 44 and min_data_in_leaf 126, the train MSE is 5.935543303195802 and valid MSE is 6.305446373627734 diff is 0.36990307043193216\n",
            "********************************************************************************\n",
            "For learning rate 0.083, num_leaves 109 and min_data_in_leaf 82, the train MSE is 5.898635286782678 and valid MSE is 6.314728473136699 diff is 0.41609318635402115\n",
            "********************************************************************************\n"
          ],
          "name": "stdout"
        }
      ]
    },
    {
      "cell_type": "code",
      "metadata": {
        "colab": {
          "base_uri": "https://localhost:8080/"
        },
        "id": "pDi1pfxNesbG",
        "outputId": "f16b5d5e-6137-431e-960a-25ffc653b55f"
      },
      "source": [
        "meta_model = LGBMRegressor(learning_rate=0.096 ,num_leaves=138 ,min_data_in_leaf=55)\r\n",
        "meta_model.fit(X_train_D2_pred, y_train_D2)"
      ],
      "execution_count": 46,
      "outputs": [
        {
          "output_type": "execute_result",
          "data": {
            "text/plain": [
              "LGBMRegressor(boosting_type='gbdt', class_weight=None, colsample_bytree=1.0,\n",
              "              importance_type='split', learning_rate=0.083, max_depth=-1,\n",
              "              min_child_samples=20, min_child_weight=0.001, min_data_in_leaf=82,\n",
              "              min_split_gain=0.0, n_estimators=100, n_jobs=-1, num_leaves=109,\n",
              "              objective=None, random_state=None, reg_alpha=0.0, reg_lambda=0.0,\n",
              "              silent=True, subsample=1.0, subsample_for_bin=200000,\n",
              "              subsample_freq=0)"
            ]
          },
          "metadata": {
            "tags": []
          },
          "execution_count": 46
        }
      ]
    },
    {
      "cell_type": "code",
      "metadata": {
        "id": "VIKufAUJ0Pss"
      },
      "source": [
        ""
      ],
      "execution_count": null,
      "outputs": []
    },
    {
      "cell_type": "code",
      "metadata": {
        "id": "qusujMg40PpI"
      },
      "source": [
        ""
      ],
      "execution_count": null,
      "outputs": []
    },
    {
      "cell_type": "code",
      "metadata": {
        "id": "UkYqoTiUpHXM"
      },
      "source": [
        "val = X_test[(X_test['day']>1913) & (X_test['day']<1942)]\r\n",
        "tst = X_test[X_test['day']>1941]"
      ],
      "execution_count": 35,
      "outputs": []
    },
    {
      "cell_type": "code",
      "metadata": {
        "id": "0weCx-A9qdwz"
      },
      "source": [
        "final_1_val = model_1.predict(val)\r\n",
        "final_1_tst = model_1.predict(tst)\r\n",
        "\r\n",
        "final_2_val = model_2.predict(val)\r\n",
        "final_2_tst = model_2.predict(tst)\r\n",
        "\r\n",
        "final_3_val = model_3.predict(val)\r\n",
        "final_3_tst = model_3.predict(tst)\r\n",
        "\r\n",
        "final_4_val = model_4.predict(val)\r\n",
        "final_4_tst = model_4.predict(tst)\r\n",
        "\r\n",
        "final_5_val = model_5.predict(val)\r\n",
        "final_5_tst = model_5.predict(tst)"
      ],
      "execution_count": 36,
      "outputs": []
    },
    {
      "cell_type": "code",
      "metadata": {
        "colab": {
          "base_uri": "https://localhost:8080/",
          "height": 106
        },
        "id": "iOsQ5M0arBck",
        "outputId": "e5dd5dc8-3992-4e37-c71c-93396a607159"
      },
      "source": [
        "final_val_preds = pd.concat([pd.DataFrame(final_1_val, columns=['final_1_val']), pd.DataFrame(final_2_val,columns=['final_2_val']),\\\r\n",
        "           pd.DataFrame(final_3_val,columns=['final_3_val']),pd.DataFrame(final_4_val,columns=['final_4_val']),\\\r\n",
        "           pd.DataFrame(final_5_val,columns=['final_5_val'])],axis=1)\r\n",
        "\r\n",
        "final_val_preds.head(2)"
      ],
      "execution_count": 37,
      "outputs": [
        {
          "output_type": "execute_result",
          "data": {
            "text/html": [
              "<div>\n",
              "<style scoped>\n",
              "    .dataframe tbody tr th:only-of-type {\n",
              "        vertical-align: middle;\n",
              "    }\n",
              "\n",
              "    .dataframe tbody tr th {\n",
              "        vertical-align: top;\n",
              "    }\n",
              "\n",
              "    .dataframe thead th {\n",
              "        text-align: right;\n",
              "    }\n",
              "</style>\n",
              "<table border=\"1\" class=\"dataframe\">\n",
              "  <thead>\n",
              "    <tr style=\"text-align: right;\">\n",
              "      <th></th>\n",
              "      <th>final_1_val</th>\n",
              "      <th>final_2_val</th>\n",
              "      <th>final_3_val</th>\n",
              "      <th>final_4_val</th>\n",
              "      <th>final_5_val</th>\n",
              "    </tr>\n",
              "  </thead>\n",
              "  <tbody>\n",
              "    <tr>\n",
              "      <th>0</th>\n",
              "      <td>1.213988</td>\n",
              "      <td>1.212713</td>\n",
              "      <td>0.887939</td>\n",
              "      <td>0.823942</td>\n",
              "      <td>1.056554</td>\n",
              "    </tr>\n",
              "    <tr>\n",
              "      <th>1</th>\n",
              "      <td>1.213584</td>\n",
              "      <td>1.212308</td>\n",
              "      <td>0.649902</td>\n",
              "      <td>0.667475</td>\n",
              "      <td>0.937174</td>\n",
              "    </tr>\n",
              "  </tbody>\n",
              "</table>\n",
              "</div>"
            ],
            "text/plain": [
              "   final_1_val  final_2_val  final_3_val  final_4_val  final_5_val\n",
              "0     1.213988     1.212713     0.887939     0.823942     1.056554\n",
              "1     1.213584     1.212308     0.649902     0.667475     0.937174"
            ]
          },
          "metadata": {
            "tags": []
          },
          "execution_count": 37
        }
      ]
    },
    {
      "cell_type": "code",
      "metadata": {
        "colab": {
          "base_uri": "https://localhost:8080/",
          "height": 106
        },
        "id": "519mH-awrWM2",
        "outputId": "068a997e-85af-464f-fb42-81892c10b1ed"
      },
      "source": [
        "final_tst_preds = pd.concat([pd.DataFrame(final_1_tst, columns=['final_1_tst']), pd.DataFrame(final_2_tst,columns=['final_2_tst']),\\\r\n",
        "           pd.DataFrame(final_3_tst,columns=['final_3_tst']),pd.DataFrame(final_4_tst,columns=['final_4_tst']),\\\r\n",
        "           pd.DataFrame(final_5_tst,columns=['final_5_tst'])],axis=1)\r\n",
        "\r\n",
        "final_tst_preds.head(2)"
      ],
      "execution_count": 38,
      "outputs": [
        {
          "output_type": "execute_result",
          "data": {
            "text/html": [
              "<div>\n",
              "<style scoped>\n",
              "    .dataframe tbody tr th:only-of-type {\n",
              "        vertical-align: middle;\n",
              "    }\n",
              "\n",
              "    .dataframe tbody tr th {\n",
              "        vertical-align: top;\n",
              "    }\n",
              "\n",
              "    .dataframe thead th {\n",
              "        text-align: right;\n",
              "    }\n",
              "</style>\n",
              "<table border=\"1\" class=\"dataframe\">\n",
              "  <thead>\n",
              "    <tr style=\"text-align: right;\">\n",
              "      <th></th>\n",
              "      <th>final_1_tst</th>\n",
              "      <th>final_2_tst</th>\n",
              "      <th>final_3_tst</th>\n",
              "      <th>final_4_tst</th>\n",
              "      <th>final_5_tst</th>\n",
              "    </tr>\n",
              "  </thead>\n",
              "  <tbody>\n",
              "    <tr>\n",
              "      <th>0</th>\n",
              "      <td>1.213988</td>\n",
              "      <td>1.212713</td>\n",
              "      <td>0.595947</td>\n",
              "      <td>0.667475</td>\n",
              "      <td>0.914447</td>\n",
              "    </tr>\n",
              "    <tr>\n",
              "      <th>1</th>\n",
              "      <td>1.213584</td>\n",
              "      <td>1.212308</td>\n",
              "      <td>0.357910</td>\n",
              "      <td>0.662477</td>\n",
              "      <td>0.824897</td>\n",
              "    </tr>\n",
              "  </tbody>\n",
              "</table>\n",
              "</div>"
            ],
            "text/plain": [
              "   final_1_tst  final_2_tst  final_3_tst  final_4_tst  final_5_tst\n",
              "0     1.213988     1.212713     0.595947     0.667475     0.914447\n",
              "1     1.213584     1.212308     0.357910     0.662477     0.824897"
            ]
          },
          "metadata": {
            "tags": []
          },
          "execution_count": 38
        }
      ]
    },
    {
      "cell_type": "code",
      "metadata": {
        "id": "ale5BW_BrpE9"
      },
      "source": [
        "pred_val_array = meta_model.predict(final_val_preds)\r\n",
        "pred_test_array = meta_model.predict(final_tst_preds)\r\n",
        "\r\n",
        "pred_val_array = np.reshape(pred_val_array, (-1, 28),order = 'F')\r\n",
        "pred_test_array = np.reshape(pred_test_array, (-1, 28),order = 'F')"
      ],
      "execution_count": 47,
      "outputs": []
    },
    {
      "cell_type": "code",
      "metadata": {
        "colab": {
          "base_uri": "https://localhost:8080/",
          "height": 422
        },
        "id": "B6FLQTRGsA1F",
        "outputId": "6121e689-46ba-4236-fb78-d96e27fa3a73"
      },
      "source": [
        "sub = pd.read_csv(\"sample_submission.csv\")\r\n",
        "sub_1 = sub.iloc[:30490,:]\r\n",
        "sub_2 = sub.iloc[30490:,:]\r\n",
        "f_cols = sub.columns[1:]\r\n",
        "\r\n",
        "for i in range(len(f_cols)):\r\n",
        "    sub_1[f_cols[i]] = pred_val_array[:,i]\r\n",
        "    sub_2[f_cols[i]] = pred_test_array[:,i]\r\n",
        "\r\n",
        "sub = pd.concat([sub_1,sub_2])\r\n",
        "sub"
      ],
      "execution_count": 48,
      "outputs": [
        {
          "output_type": "execute_result",
          "data": {
            "text/html": [
              "<div>\n",
              "<style scoped>\n",
              "    .dataframe tbody tr th:only-of-type {\n",
              "        vertical-align: middle;\n",
              "    }\n",
              "\n",
              "    .dataframe tbody tr th {\n",
              "        vertical-align: top;\n",
              "    }\n",
              "\n",
              "    .dataframe thead th {\n",
              "        text-align: right;\n",
              "    }\n",
              "</style>\n",
              "<table border=\"1\" class=\"dataframe\">\n",
              "  <thead>\n",
              "    <tr style=\"text-align: right;\">\n",
              "      <th></th>\n",
              "      <th>id</th>\n",
              "      <th>F1</th>\n",
              "      <th>F2</th>\n",
              "      <th>F3</th>\n",
              "      <th>F4</th>\n",
              "      <th>F5</th>\n",
              "      <th>F6</th>\n",
              "      <th>F7</th>\n",
              "      <th>F8</th>\n",
              "      <th>F9</th>\n",
              "      <th>F10</th>\n",
              "      <th>F11</th>\n",
              "      <th>F12</th>\n",
              "      <th>F13</th>\n",
              "      <th>F14</th>\n",
              "      <th>F15</th>\n",
              "      <th>F16</th>\n",
              "      <th>F17</th>\n",
              "      <th>F18</th>\n",
              "      <th>F19</th>\n",
              "      <th>F20</th>\n",
              "      <th>F21</th>\n",
              "      <th>F22</th>\n",
              "      <th>F23</th>\n",
              "      <th>F24</th>\n",
              "      <th>F25</th>\n",
              "      <th>F26</th>\n",
              "      <th>F27</th>\n",
              "      <th>F28</th>\n",
              "    </tr>\n",
              "  </thead>\n",
              "  <tbody>\n",
              "    <tr>\n",
              "      <th>0</th>\n",
              "      <td>HOBBIES_1_001_CA_1_validation</td>\n",
              "      <td>0.819647</td>\n",
              "      <td>0.698439</td>\n",
              "      <td>0.654755</td>\n",
              "      <td>0.343796</td>\n",
              "      <td>0.936198</td>\n",
              "      <td>0.717470</td>\n",
              "      <td>0.911332</td>\n",
              "      <td>0.795211</td>\n",
              "      <td>1.466020</td>\n",
              "      <td>0.944526</td>\n",
              "      <td>1.584467</td>\n",
              "      <td>1.205327</td>\n",
              "      <td>1.369824</td>\n",
              "      <td>1.194018</td>\n",
              "      <td>0.469806</td>\n",
              "      <td>1.375696</td>\n",
              "      <td>0.728729</td>\n",
              "      <td>0.944526</td>\n",
              "      <td>0.949878</td>\n",
              "      <td>1.183269</td>\n",
              "      <td>1.070384</td>\n",
              "      <td>0.864788</td>\n",
              "      <td>0.936198</td>\n",
              "      <td>0.855582</td>\n",
              "      <td>1.355794</td>\n",
              "      <td>0.864788</td>\n",
              "      <td>1.355794</td>\n",
              "      <td>0.857116</td>\n",
              "    </tr>\n",
              "    <tr>\n",
              "      <th>1</th>\n",
              "      <td>HOBBIES_1_002_CA_1_validation</td>\n",
              "      <td>0.529516</td>\n",
              "      <td>0.361992</td>\n",
              "      <td>0.279996</td>\n",
              "      <td>0.444049</td>\n",
              "      <td>0.252430</td>\n",
              "      <td>0.342550</td>\n",
              "      <td>0.386152</td>\n",
              "      <td>0.458434</td>\n",
              "      <td>0.281387</td>\n",
              "      <td>0.231184</td>\n",
              "      <td>0.519928</td>\n",
              "      <td>0.318640</td>\n",
              "      <td>0.433046</td>\n",
              "      <td>0.343796</td>\n",
              "      <td>0.386152</td>\n",
              "      <td>0.208205</td>\n",
              "      <td>0.250776</td>\n",
              "      <td>0.444049</td>\n",
              "      <td>0.285005</td>\n",
              "      <td>0.385654</td>\n",
              "      <td>0.427989</td>\n",
              "      <td>0.342550</td>\n",
              "      <td>0.205647</td>\n",
              "      <td>0.325509</td>\n",
              "      <td>0.315597</td>\n",
              "      <td>0.336880</td>\n",
              "      <td>0.333885</td>\n",
              "      <td>0.274620</td>\n",
              "    </tr>\n",
              "    <tr>\n",
              "      <th>2</th>\n",
              "      <td>HOBBIES_1_003_CA_1_validation</td>\n",
              "      <td>0.380280</td>\n",
              "      <td>0.391123</td>\n",
              "      <td>0.252233</td>\n",
              "      <td>0.202041</td>\n",
              "      <td>0.368908</td>\n",
              "      <td>0.938530</td>\n",
              "      <td>0.608754</td>\n",
              "      <td>0.327111</td>\n",
              "      <td>0.599313</td>\n",
              "      <td>0.231184</td>\n",
              "      <td>0.403722</td>\n",
              "      <td>0.386152</td>\n",
              "      <td>1.034685</td>\n",
              "      <td>0.485850</td>\n",
              "      <td>0.312247</td>\n",
              "      <td>0.360182</td>\n",
              "      <td>0.433046</td>\n",
              "      <td>0.716232</td>\n",
              "      <td>0.823905</td>\n",
              "      <td>1.412239</td>\n",
              "      <td>1.115543</td>\n",
              "      <td>0.564520</td>\n",
              "      <td>0.769535</td>\n",
              "      <td>0.564520</td>\n",
              "      <td>0.605942</td>\n",
              "      <td>0.798131</td>\n",
              "      <td>0.633786</td>\n",
              "      <td>0.855582</td>\n",
              "    </tr>\n",
              "    <tr>\n",
              "      <th>3</th>\n",
              "      <td>HOBBIES_1_004_CA_1_validation</td>\n",
              "      <td>2.245759</td>\n",
              "      <td>1.254851</td>\n",
              "      <td>0.693339</td>\n",
              "      <td>1.471531</td>\n",
              "      <td>1.410846</td>\n",
              "      <td>1.850051</td>\n",
              "      <td>3.166914</td>\n",
              "      <td>1.574719</td>\n",
              "      <td>1.384535</td>\n",
              "      <td>0.936854</td>\n",
              "      <td>1.570073</td>\n",
              "      <td>1.620564</td>\n",
              "      <td>2.288415</td>\n",
              "      <td>3.206280</td>\n",
              "      <td>2.128602</td>\n",
              "      <td>1.327714</td>\n",
              "      <td>1.498202</td>\n",
              "      <td>1.053412</td>\n",
              "      <td>1.607647</td>\n",
              "      <td>1.832232</td>\n",
              "      <td>3.166914</td>\n",
              "      <td>2.047700</td>\n",
              "      <td>1.447199</td>\n",
              "      <td>1.498754</td>\n",
              "      <td>1.117010</td>\n",
              "      <td>1.530775</td>\n",
              "      <td>3.126487</td>\n",
              "      <td>2.795102</td>\n",
              "    </tr>\n",
              "    <tr>\n",
              "      <th>4</th>\n",
              "      <td>HOBBIES_1_005_CA_1_validation</td>\n",
              "      <td>1.163423</td>\n",
              "      <td>1.052677</td>\n",
              "      <td>1.440555</td>\n",
              "      <td>1.258539</td>\n",
              "      <td>1.364018</td>\n",
              "      <td>1.300684</td>\n",
              "      <td>1.547335</td>\n",
              "      <td>1.084815</td>\n",
              "      <td>1.509346</td>\n",
              "      <td>1.074307</td>\n",
              "      <td>1.355794</td>\n",
              "      <td>0.884289</td>\n",
              "      <td>1.049244</td>\n",
              "      <td>1.342510</td>\n",
              "      <td>1.386726</td>\n",
              "      <td>0.975082</td>\n",
              "      <td>1.313581</td>\n",
              "      <td>0.917838</td>\n",
              "      <td>1.188134</td>\n",
              "      <td>1.078120</td>\n",
              "      <td>1.454319</td>\n",
              "      <td>1.092266</td>\n",
              "      <td>0.969837</td>\n",
              "      <td>1.041105</td>\n",
              "      <td>1.205327</td>\n",
              "      <td>1.322418</td>\n",
              "      <td>1.307653</td>\n",
              "      <td>1.939434</td>\n",
              "    </tr>\n",
              "    <tr>\n",
              "      <th>...</th>\n",
              "      <td>...</td>\n",
              "      <td>...</td>\n",
              "      <td>...</td>\n",
              "      <td>...</td>\n",
              "      <td>...</td>\n",
              "      <td>...</td>\n",
              "      <td>...</td>\n",
              "      <td>...</td>\n",
              "      <td>...</td>\n",
              "      <td>...</td>\n",
              "      <td>...</td>\n",
              "      <td>...</td>\n",
              "      <td>...</td>\n",
              "      <td>...</td>\n",
              "      <td>...</td>\n",
              "      <td>...</td>\n",
              "      <td>...</td>\n",
              "      <td>...</td>\n",
              "      <td>...</td>\n",
              "      <td>...</td>\n",
              "      <td>...</td>\n",
              "      <td>...</td>\n",
              "      <td>...</td>\n",
              "      <td>...</td>\n",
              "      <td>...</td>\n",
              "      <td>...</td>\n",
              "      <td>...</td>\n",
              "      <td>...</td>\n",
              "      <td>...</td>\n",
              "    </tr>\n",
              "    <tr>\n",
              "      <th>60975</th>\n",
              "      <td>FOODS_3_823_WI_3_evaluation</td>\n",
              "      <td>0.452947</td>\n",
              "      <td>0.336880</td>\n",
              "      <td>0.208205</td>\n",
              "      <td>0.654755</td>\n",
              "      <td>0.744608</td>\n",
              "      <td>0.500447</td>\n",
              "      <td>0.591359</td>\n",
              "      <td>0.377129</td>\n",
              "      <td>0.578455</td>\n",
              "      <td>0.291159</td>\n",
              "      <td>0.805870</td>\n",
              "      <td>0.855582</td>\n",
              "      <td>0.477501</td>\n",
              "      <td>0.675448</td>\n",
              "      <td>0.640609</td>\n",
              "      <td>0.578455</td>\n",
              "      <td>0.433046</td>\n",
              "      <td>0.561266</td>\n",
              "      <td>0.941843</td>\n",
              "      <td>0.458434</td>\n",
              "      <td>1.235884</td>\n",
              "      <td>0.420825</td>\n",
              "      <td>1.018765</td>\n",
              "      <td>0.537604</td>\n",
              "      <td>0.608299</td>\n",
              "      <td>0.790060</td>\n",
              "      <td>0.505591</td>\n",
              "      <td>0.911332</td>\n",
              "    </tr>\n",
              "    <tr>\n",
              "      <th>60976</th>\n",
              "      <td>FOODS_3_824_WI_3_evaluation</td>\n",
              "      <td>0.611830</td>\n",
              "      <td>0.458434</td>\n",
              "      <td>0.343796</td>\n",
              "      <td>0.469806</td>\n",
              "      <td>0.313114</td>\n",
              "      <td>0.605817</td>\n",
              "      <td>0.353991</td>\n",
              "      <td>0.426654</td>\n",
              "      <td>0.531048</td>\n",
              "      <td>0.403722</td>\n",
              "      <td>0.798131</td>\n",
              "      <td>0.291159</td>\n",
              "      <td>0.791689</td>\n",
              "      <td>0.497031</td>\n",
              "      <td>0.571384</td>\n",
              "      <td>0.477501</td>\n",
              "      <td>0.343796</td>\n",
              "      <td>0.613459</td>\n",
              "      <td>0.231184</td>\n",
              "      <td>0.553149</td>\n",
              "      <td>0.477003</td>\n",
              "      <td>0.516962</td>\n",
              "      <td>0.497901</td>\n",
              "      <td>0.343298</td>\n",
              "      <td>0.654755</td>\n",
              "      <td>0.221470</td>\n",
              "      <td>0.689875</td>\n",
              "      <td>0.298573</td>\n",
              "    </tr>\n",
              "    <tr>\n",
              "      <th>60977</th>\n",
              "      <td>FOODS_3_825_WI_3_evaluation</td>\n",
              "      <td>1.319595</td>\n",
              "      <td>0.561266</td>\n",
              "      <td>0.896464</td>\n",
              "      <td>0.403722</td>\n",
              "      <td>0.716232</td>\n",
              "      <td>1.138558</td>\n",
              "      <td>0.684292</td>\n",
              "      <td>1.431511</td>\n",
              "      <td>0.355168</td>\n",
              "      <td>0.976861</td>\n",
              "      <td>0.477501</td>\n",
              "      <td>0.623644</td>\n",
              "      <td>1.025070</td>\n",
              "      <td>1.103104</td>\n",
              "      <td>1.172645</td>\n",
              "      <td>0.948370</td>\n",
              "      <td>1.355794</td>\n",
              "      <td>0.993701</td>\n",
              "      <td>0.821938</td>\n",
              "      <td>0.969837</td>\n",
              "      <td>0.879326</td>\n",
              "      <td>1.321329</td>\n",
              "      <td>0.839014</td>\n",
              "      <td>1.535457</td>\n",
              "      <td>0.458434</td>\n",
              "      <td>0.611126</td>\n",
              "      <td>0.730868</td>\n",
              "      <td>1.090060</td>\n",
              "    </tr>\n",
              "    <tr>\n",
              "      <th>60978</th>\n",
              "      <td>FOODS_3_826_WI_3_evaluation</td>\n",
              "      <td>0.969189</td>\n",
              "      <td>1.701394</td>\n",
              "      <td>0.743156</td>\n",
              "      <td>1.359927</td>\n",
              "      <td>1.235386</td>\n",
              "      <td>0.941843</td>\n",
              "      <td>1.521259</td>\n",
              "      <td>1.164897</td>\n",
              "      <td>1.035605</td>\n",
              "      <td>1.079972</td>\n",
              "      <td>1.290387</td>\n",
              "      <td>1.137795</td>\n",
              "      <td>1.376552</td>\n",
              "      <td>1.476130</td>\n",
              "      <td>1.422481</td>\n",
              "      <td>0.944526</td>\n",
              "      <td>1.041105</td>\n",
              "      <td>1.167604</td>\n",
              "      <td>1.164897</td>\n",
              "      <td>1.108595</td>\n",
              "      <td>1.286280</td>\n",
              "      <td>1.607647</td>\n",
              "      <td>2.153672</td>\n",
              "      <td>1.371692</td>\n",
              "      <td>1.829986</td>\n",
              "      <td>1.041105</td>\n",
              "      <td>1.092266</td>\n",
              "      <td>1.055797</td>\n",
              "    </tr>\n",
              "    <tr>\n",
              "      <th>60979</th>\n",
              "      <td>FOODS_3_827_WI_3_evaluation</td>\n",
              "      <td>1.391594</td>\n",
              "      <td>1.042468</td>\n",
              "      <td>1.190227</td>\n",
              "      <td>1.137116</td>\n",
              "      <td>0.681526</td>\n",
              "      <td>0.896464</td>\n",
              "      <td>1.309906</td>\n",
              "      <td>1.374514</td>\n",
              "      <td>1.283266</td>\n",
              "      <td>1.173366</td>\n",
              "      <td>1.309906</td>\n",
              "      <td>1.355794</td>\n",
              "      <td>1.264570</td>\n",
              "      <td>1.555933</td>\n",
              "      <td>1.637554</td>\n",
              "      <td>1.073208</td>\n",
              "      <td>0.658741</td>\n",
              "      <td>0.839504</td>\n",
              "      <td>1.042468</td>\n",
              "      <td>1.376552</td>\n",
              "      <td>0.769119</td>\n",
              "      <td>1.886652</td>\n",
              "      <td>1.528752</td>\n",
              "      <td>1.215095</td>\n",
              "      <td>1.315306</td>\n",
              "      <td>1.007702</td>\n",
              "      <td>2.058156</td>\n",
              "      <td>0.839014</td>\n",
              "    </tr>\n",
              "  </tbody>\n",
              "</table>\n",
              "<p>60980 rows × 29 columns</p>\n",
              "</div>"
            ],
            "text/plain": [
              "                                  id        F1  ...       F27       F28\n",
              "0      HOBBIES_1_001_CA_1_validation  0.819647  ...  1.355794  0.857116\n",
              "1      HOBBIES_1_002_CA_1_validation  0.529516  ...  0.333885  0.274620\n",
              "2      HOBBIES_1_003_CA_1_validation  0.380280  ...  0.633786  0.855582\n",
              "3      HOBBIES_1_004_CA_1_validation  2.245759  ...  3.126487  2.795102\n",
              "4      HOBBIES_1_005_CA_1_validation  1.163423  ...  1.307653  1.939434\n",
              "...                              ...       ...  ...       ...       ...\n",
              "60975    FOODS_3_823_WI_3_evaluation  0.452947  ...  0.505591  0.911332\n",
              "60976    FOODS_3_824_WI_3_evaluation  0.611830  ...  0.689875  0.298573\n",
              "60977    FOODS_3_825_WI_3_evaluation  1.319595  ...  0.730868  1.090060\n",
              "60978    FOODS_3_826_WI_3_evaluation  0.969189  ...  1.092266  1.055797\n",
              "60979    FOODS_3_827_WI_3_evaluation  1.391594  ...  2.058156  0.839014\n",
              "\n",
              "[60980 rows x 29 columns]"
            ]
          },
          "metadata": {
            "tags": []
          },
          "execution_count": 48
        }
      ]
    },
    {
      "cell_type": "code",
      "metadata": {
        "id": "DA0ZCInZsJsu"
      },
      "source": [
        "sub.to_csv(\"stack_model_5.csv\",index = False)"
      ],
      "execution_count": 50,
      "outputs": []
    },
    {
      "cell_type": "code",
      "metadata": {
        "colab": {
          "base_uri": "https://localhost:8080/"
        },
        "id": "Ntd5-OTWsOyi",
        "outputId": "8aab7bdc-53fd-4677-d766-6e184b68903e"
      },
      "source": [
        "!kaggle competitions submit -c m5-forecasting-accuracy -f stack_model_5.csv -m \"Fifth stacked model\""
      ],
      "execution_count": 52,
      "outputs": [
        {
          "output_type": "stream",
          "text": [
            "Warning: Looks like you're using an outdated API Version, please consider updating (server 1.5.10 / client 1.5.4)\n",
            "100% 32.7M/32.7M [00:00<00:00, 55.4MB/s]\n",
            "Successfully submitted to M5 Forecasting - Accuracy"
          ],
          "name": "stdout"
        }
      ]
    }
  ]
}